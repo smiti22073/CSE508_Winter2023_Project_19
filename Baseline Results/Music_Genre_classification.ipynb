{
  "nbformat": 4,
  "nbformat_minor": 0,
  "metadata": {
    "colab": {
      "provenance": []
    },
    "kernelspec": {
      "name": "python3",
      "display_name": "Python 3"
    },
    "language_info": {
      "name": "python"
    }
  },
  "cells": [
    {
      "cell_type": "code",
      "execution_count": null,
      "metadata": {
        "id": "ekv8ljejU3DF"
      },
      "outputs": [],
      "source": [
        "import warnings\n",
        "warnings.filterwarnings('ignore')"
      ]
    },
    {
      "cell_type": "code",
      "source": [
        "from google.colab import drive\n",
        "drive.mount('/content/drive')"
      ],
      "metadata": {
        "colab": {
          "base_uri": "https://localhost:8080/"
        },
        "id": "l6is8hnTRSEs",
        "outputId": "1a5635ee-1904-4ef2-b2f2-a25edc995833"
      },
      "execution_count": null,
      "outputs": [
        {
          "output_type": "stream",
          "name": "stdout",
          "text": [
            "Mounted at /content/drive\n"
          ]
        }
      ]
    },
    {
      "cell_type": "code",
      "source": [
        "import numpy as np\n",
        "import pandas as pd\n",
        "import matplotlib.pyplot as plt"
      ],
      "metadata": {
        "id": "bVzbuiWaRe9r"
      },
      "execution_count": null,
      "outputs": []
    },
    {
      "cell_type": "code",
      "source": [
        "cd '/content/drive/MyDrive/Dataset/Songs'"
      ],
      "metadata": {
        "colab": {
          "base_uri": "https://localhost:8080/"
        },
        "id": "KGEv2VW-RiMN",
        "outputId": "b4fbaa90-dea7-44f1-8b92-cec9bfea3637"
      },
      "execution_count": null,
      "outputs": [
        {
          "output_type": "stream",
          "name": "stdout",
          "text": [
            "/content/drive/MyDrive/Dataset/Songs\n"
          ]
        }
      ]
    },
    {
      "cell_type": "code",
      "source": [
        "Bolly_rap = pd.read_csv(\"/content/drive/MyDrive/Dataset/Songs/Bollywood_Rap_features.csv\")\n",
        "Bolly_rap['labels'] = pd.Series([0 for x in range(len(Bolly_rap.index))], index=Bolly_rap.index)\n",
        "Bolly_rap.shape\n",
        "\n",
        "Ghazal = pd.read_csv(\"/content/drive/MyDrive/Dataset/Songs/Ghazal_features.csv\")\n",
        "Ghazal['labels'] = pd.Series([1 for x in range(len(Ghazal.index))], index=Ghazal.index)\n",
        "Ghazal.shape\n",
        "\n",
        "Garhwali = pd.read_csv(\"/content/drive/MyDrive/Dataset/Songs/Garhwali_features.csv\")\n",
        "Garhwali['labels'] = pd.Series([2 for x in range(len(Garhwali.index))], index=Garhwali.index)\n",
        "Garhwali.shape\n",
        "\n",
        "bhajan = pd.read_csv(\"/content/drive/MyDrive/Dataset/Songs/bhajan_features.csv\")\n",
        "bhajan['labels'] = pd.Series([3 for x in range(len(bhajan.index))], index=bhajan.index)\n",
        "bhajan.shape\n",
        "\n",
        "bolly_romantic = pd.read_csv(\"/content/drive/MyDrive/Dataset/Songs/Bollywood_Romantic_features.csv\")\n",
        "bolly_romantic['labels'] = pd.Series([4 for x in range(len(bolly_romantic.index))], index=bolly_romantic.index)\n",
        "bolly_romantic.shape\n",
        "\n",
        "sufi = pd.read_csv(\"/content/drive/MyDrive/Dataset/Songs/sufi_features.csv\")\n",
        "sufi['labels'] = pd.Series([5 for x in range(len(sufi.index))], index=sufi.index)\n",
        "sufi.shape\n",
        "\n",
        "bhojpuri = pd.read_csv(\"/content/drive/MyDrive/Dataset/Songs/bhojpuri_features.csv\")\n",
        "bhojpuri['labels'] = pd.Series([6 for x in range(len(bhojpuri.index))], index=bhojpuri.index)"
      ],
      "metadata": {
        "id": "qjjVBCMnRwK_"
      },
      "execution_count": null,
      "outputs": []
    },
    {
      "cell_type": "code",
      "source": [
        "frame = pd.concat([Bolly_rap, Ghazal, Garhwali, bhajan, bolly_romantic, sufi, bhojpuri], ignore_index=True)\n",
        "frame.head()"
      ],
      "metadata": {
        "id": "L7zq9ovVVOTV",
        "colab": {
          "base_uri": "https://localhost:8080/",
          "height": 374
        },
        "outputId": "a3e0cb83-a629-4f24-8d2b-d41658edccd6"
      },
      "execution_count": null,
      "outputs": [
        {
          "output_type": "execute_result",
          "data": {
            "text/plain": [
              "   Unnamed: 0                                     Song_Name  onset_strength  \\\n",
              "0           0             Bollywood_Rap/Bohemia - Dada.opus        1.359504   \n",
              "1           1         Bollywood_Rap/Bohemia - Beparwah.opus        1.367846   \n",
              "2           2  Bollywood_Rap/Bohemia - Desi Put Javaan.opus        1.522658   \n",
              "3           3     Bollywood_Rap/Bohemia - Dil Acapella.opus        1.428467   \n",
              "4           4       Bollywood_Rap/Bohemia - Aja Ni Aja.opus        1.541603   \n",
              "\n",
              "   chroma_stft  chroma_cqt  chroma_cens  melspectrogram      mfcc  \\\n",
              "0     0.504378    0.431088     0.238247       12.234897  0.155766   \n",
              "1     0.481887    0.527467     0.255920        5.386636  1.173165   \n",
              "2     0.614667    0.415879     0.241032       22.373873  4.658426   \n",
              "3     0.593779    0.524480     0.263806       17.920794  4.753779   \n",
              "4     0.659266    0.580653     0.260237       22.393740  6.887264   \n",
              "\n",
              "   spectral_centroid  spectral_bandwidth  spectral_contrast  spectral_rolloff  \\\n",
              "0        3336.742281         3691.313529          19.326488       7111.706785   \n",
              "1        3813.465951         3903.036168          20.049207       8436.634644   \n",
              "2        2062.671542         3053.880091          18.504100       4707.484604   \n",
              "3        2267.229849         3129.322550          20.090888       5376.694052   \n",
              "4        4515.528428         4360.305689          17.931442       9524.892741   \n",
              "\n",
              "    tonnetz  zero_crossing_rate  labels  \n",
              "0 -0.029229            0.063615       0  \n",
              "1  0.027319            0.080023       0  \n",
              "2 -0.016368            0.024910       0  \n",
              "3  0.017713            0.041050       0  \n",
              "4  0.005748            0.078542       0  "
            ],
            "text/html": [
              "\n",
              "  <div id=\"df-be3093c8-9f3a-4ee5-8cc7-cfc81bd4a287\">\n",
              "    <div class=\"colab-df-container\">\n",
              "      <div>\n",
              "<style scoped>\n",
              "    .dataframe tbody tr th:only-of-type {\n",
              "        vertical-align: middle;\n",
              "    }\n",
              "\n",
              "    .dataframe tbody tr th {\n",
              "        vertical-align: top;\n",
              "    }\n",
              "\n",
              "    .dataframe thead th {\n",
              "        text-align: right;\n",
              "    }\n",
              "</style>\n",
              "<table border=\"1\" class=\"dataframe\">\n",
              "  <thead>\n",
              "    <tr style=\"text-align: right;\">\n",
              "      <th></th>\n",
              "      <th>Unnamed: 0</th>\n",
              "      <th>Song_Name</th>\n",
              "      <th>onset_strength</th>\n",
              "      <th>chroma_stft</th>\n",
              "      <th>chroma_cqt</th>\n",
              "      <th>chroma_cens</th>\n",
              "      <th>melspectrogram</th>\n",
              "      <th>mfcc</th>\n",
              "      <th>spectral_centroid</th>\n",
              "      <th>spectral_bandwidth</th>\n",
              "      <th>spectral_contrast</th>\n",
              "      <th>spectral_rolloff</th>\n",
              "      <th>tonnetz</th>\n",
              "      <th>zero_crossing_rate</th>\n",
              "      <th>labels</th>\n",
              "    </tr>\n",
              "  </thead>\n",
              "  <tbody>\n",
              "    <tr>\n",
              "      <th>0</th>\n",
              "      <td>0</td>\n",
              "      <td>Bollywood_Rap/Bohemia - Dada.opus</td>\n",
              "      <td>1.359504</td>\n",
              "      <td>0.504378</td>\n",
              "      <td>0.431088</td>\n",
              "      <td>0.238247</td>\n",
              "      <td>12.234897</td>\n",
              "      <td>0.155766</td>\n",
              "      <td>3336.742281</td>\n",
              "      <td>3691.313529</td>\n",
              "      <td>19.326488</td>\n",
              "      <td>7111.706785</td>\n",
              "      <td>-0.029229</td>\n",
              "      <td>0.063615</td>\n",
              "      <td>0</td>\n",
              "    </tr>\n",
              "    <tr>\n",
              "      <th>1</th>\n",
              "      <td>1</td>\n",
              "      <td>Bollywood_Rap/Bohemia - Beparwah.opus</td>\n",
              "      <td>1.367846</td>\n",
              "      <td>0.481887</td>\n",
              "      <td>0.527467</td>\n",
              "      <td>0.255920</td>\n",
              "      <td>5.386636</td>\n",
              "      <td>1.173165</td>\n",
              "      <td>3813.465951</td>\n",
              "      <td>3903.036168</td>\n",
              "      <td>20.049207</td>\n",
              "      <td>8436.634644</td>\n",
              "      <td>0.027319</td>\n",
              "      <td>0.080023</td>\n",
              "      <td>0</td>\n",
              "    </tr>\n",
              "    <tr>\n",
              "      <th>2</th>\n",
              "      <td>2</td>\n",
              "      <td>Bollywood_Rap/Bohemia - Desi Put Javaan.opus</td>\n",
              "      <td>1.522658</td>\n",
              "      <td>0.614667</td>\n",
              "      <td>0.415879</td>\n",
              "      <td>0.241032</td>\n",
              "      <td>22.373873</td>\n",
              "      <td>4.658426</td>\n",
              "      <td>2062.671542</td>\n",
              "      <td>3053.880091</td>\n",
              "      <td>18.504100</td>\n",
              "      <td>4707.484604</td>\n",
              "      <td>-0.016368</td>\n",
              "      <td>0.024910</td>\n",
              "      <td>0</td>\n",
              "    </tr>\n",
              "    <tr>\n",
              "      <th>3</th>\n",
              "      <td>3</td>\n",
              "      <td>Bollywood_Rap/Bohemia - Dil Acapella.opus</td>\n",
              "      <td>1.428467</td>\n",
              "      <td>0.593779</td>\n",
              "      <td>0.524480</td>\n",
              "      <td>0.263806</td>\n",
              "      <td>17.920794</td>\n",
              "      <td>4.753779</td>\n",
              "      <td>2267.229849</td>\n",
              "      <td>3129.322550</td>\n",
              "      <td>20.090888</td>\n",
              "      <td>5376.694052</td>\n",
              "      <td>0.017713</td>\n",
              "      <td>0.041050</td>\n",
              "      <td>0</td>\n",
              "    </tr>\n",
              "    <tr>\n",
              "      <th>4</th>\n",
              "      <td>4</td>\n",
              "      <td>Bollywood_Rap/Bohemia - Aja Ni Aja.opus</td>\n",
              "      <td>1.541603</td>\n",
              "      <td>0.659266</td>\n",
              "      <td>0.580653</td>\n",
              "      <td>0.260237</td>\n",
              "      <td>22.393740</td>\n",
              "      <td>6.887264</td>\n",
              "      <td>4515.528428</td>\n",
              "      <td>4360.305689</td>\n",
              "      <td>17.931442</td>\n",
              "      <td>9524.892741</td>\n",
              "      <td>0.005748</td>\n",
              "      <td>0.078542</td>\n",
              "      <td>0</td>\n",
              "    </tr>\n",
              "  </tbody>\n",
              "</table>\n",
              "</div>\n",
              "      <button class=\"colab-df-convert\" onclick=\"convertToInteractive('df-be3093c8-9f3a-4ee5-8cc7-cfc81bd4a287')\"\n",
              "              title=\"Convert this dataframe to an interactive table.\"\n",
              "              style=\"display:none;\">\n",
              "        \n",
              "  <svg xmlns=\"http://www.w3.org/2000/svg\" height=\"24px\"viewBox=\"0 0 24 24\"\n",
              "       width=\"24px\">\n",
              "    <path d=\"M0 0h24v24H0V0z\" fill=\"none\"/>\n",
              "    <path d=\"M18.56 5.44l.94 2.06.94-2.06 2.06-.94-2.06-.94-.94-2.06-.94 2.06-2.06.94zm-11 1L8.5 8.5l.94-2.06 2.06-.94-2.06-.94L8.5 2.5l-.94 2.06-2.06.94zm10 10l.94 2.06.94-2.06 2.06-.94-2.06-.94-.94-2.06-.94 2.06-2.06.94z\"/><path d=\"M17.41 7.96l-1.37-1.37c-.4-.4-.92-.59-1.43-.59-.52 0-1.04.2-1.43.59L10.3 9.45l-7.72 7.72c-.78.78-.78 2.05 0 2.83L4 21.41c.39.39.9.59 1.41.59.51 0 1.02-.2 1.41-.59l7.78-7.78 2.81-2.81c.8-.78.8-2.07 0-2.86zM5.41 20L4 18.59l7.72-7.72 1.47 1.35L5.41 20z\"/>\n",
              "  </svg>\n",
              "      </button>\n",
              "      \n",
              "  <style>\n",
              "    .colab-df-container {\n",
              "      display:flex;\n",
              "      flex-wrap:wrap;\n",
              "      gap: 12px;\n",
              "    }\n",
              "\n",
              "    .colab-df-convert {\n",
              "      background-color: #E8F0FE;\n",
              "      border: none;\n",
              "      border-radius: 50%;\n",
              "      cursor: pointer;\n",
              "      display: none;\n",
              "      fill: #1967D2;\n",
              "      height: 32px;\n",
              "      padding: 0 0 0 0;\n",
              "      width: 32px;\n",
              "    }\n",
              "\n",
              "    .colab-df-convert:hover {\n",
              "      background-color: #E2EBFA;\n",
              "      box-shadow: 0px 1px 2px rgba(60, 64, 67, 0.3), 0px 1px 3px 1px rgba(60, 64, 67, 0.15);\n",
              "      fill: #174EA6;\n",
              "    }\n",
              "\n",
              "    [theme=dark] .colab-df-convert {\n",
              "      background-color: #3B4455;\n",
              "      fill: #D2E3FC;\n",
              "    }\n",
              "\n",
              "    [theme=dark] .colab-df-convert:hover {\n",
              "      background-color: #434B5C;\n",
              "      box-shadow: 0px 1px 3px 1px rgba(0, 0, 0, 0.15);\n",
              "      filter: drop-shadow(0px 1px 2px rgba(0, 0, 0, 0.3));\n",
              "      fill: #FFFFFF;\n",
              "    }\n",
              "  </style>\n",
              "\n",
              "      <script>\n",
              "        const buttonEl =\n",
              "          document.querySelector('#df-be3093c8-9f3a-4ee5-8cc7-cfc81bd4a287 button.colab-df-convert');\n",
              "        buttonEl.style.display =\n",
              "          google.colab.kernel.accessAllowed ? 'block' : 'none';\n",
              "\n",
              "        async function convertToInteractive(key) {\n",
              "          const element = document.querySelector('#df-be3093c8-9f3a-4ee5-8cc7-cfc81bd4a287');\n",
              "          const dataTable =\n",
              "            await google.colab.kernel.invokeFunction('convertToInteractive',\n",
              "                                                     [key], {});\n",
              "          if (!dataTable) return;\n",
              "\n",
              "          const docLinkHtml = 'Like what you see? Visit the ' +\n",
              "            '<a target=\"_blank\" href=https://colab.research.google.com/notebooks/data_table.ipynb>data table notebook</a>'\n",
              "            + ' to learn more about interactive tables.';\n",
              "          element.innerHTML = '';\n",
              "          dataTable['output_type'] = 'display_data';\n",
              "          await google.colab.output.renderOutput(dataTable, element);\n",
              "          const docLink = document.createElement('div');\n",
              "          docLink.innerHTML = docLinkHtml;\n",
              "          element.appendChild(docLink);\n",
              "        }\n",
              "      </script>\n",
              "    </div>\n",
              "  </div>\n",
              "  "
            ]
          },
          "metadata": {},
          "execution_count": 8
        }
      ]
    },
    {
      "cell_type": "code",
      "source": [
        "final = frame.drop(\"Unnamed: 0\", axis=1)\n",
        "final.to_csv(\"all_features.csv\")"
      ],
      "metadata": {
        "id": "iKm_5SWVqjXV"
      },
      "execution_count": null,
      "outputs": []
    },
    {
      "cell_type": "code",
      "source": [
        "from sklearn.metrics import confusion_matrix\n",
        "from sklearn.model_selection import train_test_split\n",
        "from sklearn.model_selection import cross_val_score\n",
        "from sklearn import preprocessing"
      ],
      "metadata": {
        "id": "Ygs9JPmwVWc6"
      },
      "execution_count": null,
      "outputs": []
    },
    {
      "cell_type": "code",
      "source": [
        "X = final.drop([\"Song_Name\"], axis=1)\n",
        "y = final.labels"
      ],
      "metadata": {
        "id": "5T6gQsxjWCV8"
      },
      "execution_count": null,
      "outputs": []
    },
    {
      "cell_type": "code",
      "source": [
        "data = pd.read_csv(\"all_features.csv\")\n",
        "X = data.drop([\"labels\", \"Unnamed: 0\", \"Song_Name\"], axis=1)\n",
        "X = preprocessing.scale(X)\n",
        "y = data[\"labels\"]"
      ],
      "metadata": {
        "id": "umu1F8qFotnL"
      },
      "execution_count": null,
      "outputs": []
    },
    {
      "cell_type": "code",
      "source": [
        "X_train, X_test, y_train, y_test = train_test_split(X, y, test_size = 0.2, random_state = 42)"
      ],
      "metadata": {
        "id": "OR9azM7rpJ1M"
      },
      "execution_count": null,
      "outputs": []
    },
    {
      "cell_type": "code",
      "source": [
        "import lightgbm as lgb\n",
        "clf = lgb.LGBMClassifier(boosting_type='gbdt', learning_rate=0.2, min_child_samples=20)\n",
        "clf.fit(X_train, y_train)"
      ],
      "metadata": {
        "colab": {
          "base_uri": "https://localhost:8080/",
          "height": 75
        },
        "id": "eEAxzvyfp7EF",
        "outputId": "7fcf9778-462a-44e0-b354-3c7481bcebbe"
      },
      "execution_count": null,
      "outputs": [
        {
          "output_type": "execute_result",
          "data": {
            "text/plain": [
              "LGBMClassifier(learning_rate=0.2)"
            ],
            "text/html": [
              "<style>#sk-container-id-21 {color: black;background-color: white;}#sk-container-id-21 pre{padding: 0;}#sk-container-id-21 div.sk-toggleable {background-color: white;}#sk-container-id-21 label.sk-toggleable__label {cursor: pointer;display: block;width: 100%;margin-bottom: 0;padding: 0.3em;box-sizing: border-box;text-align: center;}#sk-container-id-21 label.sk-toggleable__label-arrow:before {content: \"▸\";float: left;margin-right: 0.25em;color: #696969;}#sk-container-id-21 label.sk-toggleable__label-arrow:hover:before {color: black;}#sk-container-id-21 div.sk-estimator:hover label.sk-toggleable__label-arrow:before {color: black;}#sk-container-id-21 div.sk-toggleable__content {max-height: 0;max-width: 0;overflow: hidden;text-align: left;background-color: #f0f8ff;}#sk-container-id-21 div.sk-toggleable__content pre {margin: 0.2em;color: black;border-radius: 0.25em;background-color: #f0f8ff;}#sk-container-id-21 input.sk-toggleable__control:checked~div.sk-toggleable__content {max-height: 200px;max-width: 100%;overflow: auto;}#sk-container-id-21 input.sk-toggleable__control:checked~label.sk-toggleable__label-arrow:before {content: \"▾\";}#sk-container-id-21 div.sk-estimator input.sk-toggleable__control:checked~label.sk-toggleable__label {background-color: #d4ebff;}#sk-container-id-21 div.sk-label input.sk-toggleable__control:checked~label.sk-toggleable__label {background-color: #d4ebff;}#sk-container-id-21 input.sk-hidden--visually {border: 0;clip: rect(1px 1px 1px 1px);clip: rect(1px, 1px, 1px, 1px);height: 1px;margin: -1px;overflow: hidden;padding: 0;position: absolute;width: 1px;}#sk-container-id-21 div.sk-estimator {font-family: monospace;background-color: #f0f8ff;border: 1px dotted black;border-radius: 0.25em;box-sizing: border-box;margin-bottom: 0.5em;}#sk-container-id-21 div.sk-estimator:hover {background-color: #d4ebff;}#sk-container-id-21 div.sk-parallel-item::after {content: \"\";width: 100%;border-bottom: 1px solid gray;flex-grow: 1;}#sk-container-id-21 div.sk-label:hover label.sk-toggleable__label {background-color: #d4ebff;}#sk-container-id-21 div.sk-serial::before {content: \"\";position: absolute;border-left: 1px solid gray;box-sizing: border-box;top: 0;bottom: 0;left: 50%;z-index: 0;}#sk-container-id-21 div.sk-serial {display: flex;flex-direction: column;align-items: center;background-color: white;padding-right: 0.2em;padding-left: 0.2em;position: relative;}#sk-container-id-21 div.sk-item {position: relative;z-index: 1;}#sk-container-id-21 div.sk-parallel {display: flex;align-items: stretch;justify-content: center;background-color: white;position: relative;}#sk-container-id-21 div.sk-item::before, #sk-container-id-21 div.sk-parallel-item::before {content: \"\";position: absolute;border-left: 1px solid gray;box-sizing: border-box;top: 0;bottom: 0;left: 50%;z-index: -1;}#sk-container-id-21 div.sk-parallel-item {display: flex;flex-direction: column;z-index: 1;position: relative;background-color: white;}#sk-container-id-21 div.sk-parallel-item:first-child::after {align-self: flex-end;width: 50%;}#sk-container-id-21 div.sk-parallel-item:last-child::after {align-self: flex-start;width: 50%;}#sk-container-id-21 div.sk-parallel-item:only-child::after {width: 0;}#sk-container-id-21 div.sk-dashed-wrapped {border: 1px dashed gray;margin: 0 0.4em 0.5em 0.4em;box-sizing: border-box;padding-bottom: 0.4em;background-color: white;}#sk-container-id-21 div.sk-label label {font-family: monospace;font-weight: bold;display: inline-block;line-height: 1.2em;}#sk-container-id-21 div.sk-label-container {text-align: center;}#sk-container-id-21 div.sk-container {/* jupyter's `normalize.less` sets `[hidden] { display: none; }` but bootstrap.min.css set `[hidden] { display: none !important; }` so we also need the `!important` here to be able to override the default hidden behavior on the sphinx rendered scikit-learn.org. See: https://github.com/scikit-learn/scikit-learn/issues/21755 */display: inline-block !important;position: relative;}#sk-container-id-21 div.sk-text-repr-fallback {display: none;}</style><div id=\"sk-container-id-21\" class=\"sk-top-container\"><div class=\"sk-text-repr-fallback\"><pre>LGBMClassifier(learning_rate=0.2)</pre><b>In a Jupyter environment, please rerun this cell to show the HTML representation or trust the notebook. <br />On GitHub, the HTML representation is unable to render, please try loading this page with nbviewer.org.</b></div><div class=\"sk-container\" hidden><div class=\"sk-item\"><div class=\"sk-estimator sk-toggleable\"><input class=\"sk-toggleable__control sk-hidden--visually\" id=\"sk-estimator-id-21\" type=\"checkbox\" checked><label for=\"sk-estimator-id-21\" class=\"sk-toggleable__label sk-toggleable__label-arrow\">LGBMClassifier</label><div class=\"sk-toggleable__content\"><pre>LGBMClassifier(learning_rate=0.2)</pre></div></div></div></div></div>"
            ]
          },
          "metadata": {},
          "execution_count": 85
        }
      ]
    },
    {
      "cell_type": "code",
      "source": [
        "y_pred=clf.predict(X_test)\n",
        "print(y_pred)\n",
        "print(y_test)"
      ],
      "metadata": {
        "colab": {
          "base_uri": "https://localhost:8080/"
        },
        "id": "UJRwkYPrp-cp",
        "outputId": "374ff0cc-9568-428e-bf9c-d99cc13694db"
      },
      "execution_count": null,
      "outputs": [
        {
          "output_type": "stream",
          "name": "stdout",
          "text": [
            "[0 3 1 2 4 2 4 6 0 3 1 0 4 4 5 2 4 5 0 2 0 5 0 4 2 6 4 2 5 0 6 6 0 2 1 5 4\n",
            " 1 1 3 2 3 0 6 4 4 0 1 6 3 2 6 4 1 0 1 6 0 4 5 6 6 0 4 2 6 1 6 6 3 1 4 4 0\n",
            " 0 0 3 6 2 6 4 4 0 5 6 2 5 0 2 0 0 6 1 6 0 5 5 2 1 1 1 5 1 6 2 1 6 6 2 0 2\n",
            " 5 4 4 6 2 0 1 3]\n",
            "30     0\n",
            "299    3\n",
            "177    1\n",
            "204    2\n",
            "354    4\n",
            "      ..\n",
            "580    6\n",
            "228    2\n",
            "84     0\n",
            "140    1\n",
            "394    4\n",
            "Name: labels, Length: 119, dtype: int64\n"
          ]
        }
      ]
    },
    {
      "cell_type": "code",
      "source": [
        "from sklearn.metrics import accuracy_score, classification_report\n",
        "accuracy=accuracy_score(y_pred, y_test)\n",
        "print('LightGBM Model accuracy score: {0:0.4f}'.format(accuracy_score(y_test, y_pred)))"
      ],
      "metadata": {
        "colab": {
          "base_uri": "https://localhost:8080/"
        },
        "id": "425IJte7qB7-",
        "outputId": "ffddb961-65ff-47bf-8d57-5d159ade8a4f"
      },
      "execution_count": null,
      "outputs": [
        {
          "output_type": "stream",
          "name": "stdout",
          "text": [
            "LightGBM Model accuracy score: 0.6471\n"
          ]
        }
      ]
    },
    {
      "cell_type": "code",
      "source": [
        "import pickle\n",
        "filename = 'Best_GBM.pkl'\n",
        "pickle.dump(clf.fit, open(filename, 'wb'))"
      ],
      "metadata": {
        "id": "0txkdWTwqKvq"
      },
      "execution_count": null,
      "outputs": []
    }
  ]
}