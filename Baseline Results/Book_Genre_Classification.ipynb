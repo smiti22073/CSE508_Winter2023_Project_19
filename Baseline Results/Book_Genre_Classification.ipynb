{
  "cells": [
    {
      "cell_type": "code",
      "execution_count": 1,
      "id": "f009f4a6",
      "metadata": {
        "id": "f009f4a6"
      },
      "outputs": [],
      "source": [
        "import numpy as np\n",
        "import pandas as pd\n",
        "import matplotlib.pyplot as plt\n",
        "import seaborn as sns\n",
        "import warnings\n",
        "warnings.filterwarnings('ignore')"
      ]
    },
    {
      "cell_type": "code",
      "execution_count": 2,
      "id": "548e5900",
      "metadata": {
        "id": "548e5900"
      },
      "outputs": [],
      "source": [
        "import csv"
      ]
    },
    {
      "cell_type": "code",
      "source": [
        "from google.colab import drive\n",
        "drive.mount('/content/drive')"
      ],
      "metadata": {
        "colab": {
          "base_uri": "https://localhost:8080/"
        },
        "id": "-NazXq4XjZUZ",
        "outputId": "46348fd3-f971-482b-e19e-569e2c40a985"
      },
      "id": "-NazXq4XjZUZ",
      "execution_count": 3,
      "outputs": [
        {
          "output_type": "stream",
          "name": "stdout",
          "text": [
            "Mounted at /content/drive\n"
          ]
        }
      ]
    },
    {
      "cell_type": "markdown",
      "source": [
        "Importing dataset"
      ],
      "metadata": {
        "id": "w6v8R5hC8S0t"
      },
      "id": "w6v8R5hC8S0t"
    },
    {
      "cell_type": "code",
      "execution_count": 4,
      "id": "25255b15",
      "metadata": {
        "id": "25255b15"
      },
      "outputs": [],
      "source": [
        "l = []\n",
        "\n",
        "with open(\"/content/drive/MyDrive/booksummaries.txt\", 'r', encoding=\"utf8\") as file:\n",
        "    r = csv.reader(file, dialect='excel-tab')\n",
        "    for row in r:\n",
        "        l.append(row)"
      ]
    },
    {
      "cell_type": "markdown",
      "source": [
        "Identifying components of the book from the obtained list and storing the same in a dataframe"
      ],
      "metadata": {
        "id": "_uBrCbU48uC7"
      },
      "id": "_uBrCbU48uC7"
    },
    {
      "cell_type": "code",
      "execution_count": 5,
      "id": "1f5347b6",
      "metadata": {
        "id": "1f5347b6"
      },
      "outputs": [],
      "source": [
        "Id = []\n",
        "Name = []\n",
        "Description = []\n",
        "Genre = []"
      ]
    },
    {
      "cell_type": "code",
      "execution_count": 6,
      "id": "f10fb259",
      "metadata": {
        "id": "f10fb259"
      },
      "outputs": [],
      "source": [
        "for i in l:\n",
        "    Id.append(i[0])\n",
        "    Name.append(i[2])\n",
        "    Genre.append(i[5])\n",
        "    Description.append(i[6])\n",
        "\n",
        "df = pd.DataFrame({'id': Id, 'name': Name, 'description': Description,\n",
        "                       'genre': Genre})"
      ]
    },
    {
      "cell_type": "code",
      "execution_count": 7,
      "id": "d5107147",
      "metadata": {
        "colab": {
          "base_uri": "https://localhost:8080/",
          "height": 206
        },
        "id": "d5107147",
        "outputId": "18cd2ac5-d45d-498a-a76a-d0ec6abd2af7"
      },
      "outputs": [
        {
          "output_type": "execute_result",
          "data": {
            "text/plain": [
              "     id                                       name  \\\n",
              "0   620                                Animal Farm   \n",
              "1   843                         A Clockwork Orange   \n",
              "2   986                                 The Plague   \n",
              "3  1756  An Enquiry Concerning Human Understanding   \n",
              "4  2080                       A Fire Upon the Deep   \n",
              "\n",
              "                                         description  \\\n",
              "0   Old Major, the old boar on the Manor Farm, ca...   \n",
              "1   Alex, a teenager living in near-future Englan...   \n",
              "2   The text of The Plague is divided into five p...   \n",
              "3   The argument of the Enquiry proceeds by a ser...   \n",
              "4   The novel posits that space around the Milky ...   \n",
              "\n",
              "                                               genre  \n",
              "0  {\"/m/016lj8\": \"Roman \\u00e0 clef\", \"/m/06nbt\":...  \n",
              "1  {\"/m/06n90\": \"Science Fiction\", \"/m/0l67h\": \"N...  \n",
              "2  {\"/m/02m4t\": \"Existentialism\", \"/m/02xlf\": \"Fi...  \n",
              "3                                                     \n",
              "4  {\"/m/03lrw\": \"Hard science fiction\", \"/m/06n90...  "
            ],
            "text/html": [
              "\n",
              "  <div id=\"df-9a7f6d22-2c3a-4d0c-913d-f856ac926a9c\">\n",
              "    <div class=\"colab-df-container\">\n",
              "      <div>\n",
              "<style scoped>\n",
              "    .dataframe tbody tr th:only-of-type {\n",
              "        vertical-align: middle;\n",
              "    }\n",
              "\n",
              "    .dataframe tbody tr th {\n",
              "        vertical-align: top;\n",
              "    }\n",
              "\n",
              "    .dataframe thead th {\n",
              "        text-align: right;\n",
              "    }\n",
              "</style>\n",
              "<table border=\"1\" class=\"dataframe\">\n",
              "  <thead>\n",
              "    <tr style=\"text-align: right;\">\n",
              "      <th></th>\n",
              "      <th>id</th>\n",
              "      <th>name</th>\n",
              "      <th>description</th>\n",
              "      <th>genre</th>\n",
              "    </tr>\n",
              "  </thead>\n",
              "  <tbody>\n",
              "    <tr>\n",
              "      <th>0</th>\n",
              "      <td>620</td>\n",
              "      <td>Animal Farm</td>\n",
              "      <td>Old Major, the old boar on the Manor Farm, ca...</td>\n",
              "      <td>{\"/m/016lj8\": \"Roman \\u00e0 clef\", \"/m/06nbt\":...</td>\n",
              "    </tr>\n",
              "    <tr>\n",
              "      <th>1</th>\n",
              "      <td>843</td>\n",
              "      <td>A Clockwork Orange</td>\n",
              "      <td>Alex, a teenager living in near-future Englan...</td>\n",
              "      <td>{\"/m/06n90\": \"Science Fiction\", \"/m/0l67h\": \"N...</td>\n",
              "    </tr>\n",
              "    <tr>\n",
              "      <th>2</th>\n",
              "      <td>986</td>\n",
              "      <td>The Plague</td>\n",
              "      <td>The text of The Plague is divided into five p...</td>\n",
              "      <td>{\"/m/02m4t\": \"Existentialism\", \"/m/02xlf\": \"Fi...</td>\n",
              "    </tr>\n",
              "    <tr>\n",
              "      <th>3</th>\n",
              "      <td>1756</td>\n",
              "      <td>An Enquiry Concerning Human Understanding</td>\n",
              "      <td>The argument of the Enquiry proceeds by a ser...</td>\n",
              "      <td></td>\n",
              "    </tr>\n",
              "    <tr>\n",
              "      <th>4</th>\n",
              "      <td>2080</td>\n",
              "      <td>A Fire Upon the Deep</td>\n",
              "      <td>The novel posits that space around the Milky ...</td>\n",
              "      <td>{\"/m/03lrw\": \"Hard science fiction\", \"/m/06n90...</td>\n",
              "    </tr>\n",
              "  </tbody>\n",
              "</table>\n",
              "</div>\n",
              "      <button class=\"colab-df-convert\" onclick=\"convertToInteractive('df-9a7f6d22-2c3a-4d0c-913d-f856ac926a9c')\"\n",
              "              title=\"Convert this dataframe to an interactive table.\"\n",
              "              style=\"display:none;\">\n",
              "        \n",
              "  <svg xmlns=\"http://www.w3.org/2000/svg\" height=\"24px\"viewBox=\"0 0 24 24\"\n",
              "       width=\"24px\">\n",
              "    <path d=\"M0 0h24v24H0V0z\" fill=\"none\"/>\n",
              "    <path d=\"M18.56 5.44l.94 2.06.94-2.06 2.06-.94-2.06-.94-.94-2.06-.94 2.06-2.06.94zm-11 1L8.5 8.5l.94-2.06 2.06-.94-2.06-.94L8.5 2.5l-.94 2.06-2.06.94zm10 10l.94 2.06.94-2.06 2.06-.94-2.06-.94-.94-2.06-.94 2.06-2.06.94z\"/><path d=\"M17.41 7.96l-1.37-1.37c-.4-.4-.92-.59-1.43-.59-.52 0-1.04.2-1.43.59L10.3 9.45l-7.72 7.72c-.78.78-.78 2.05 0 2.83L4 21.41c.39.39.9.59 1.41.59.51 0 1.02-.2 1.41-.59l7.78-7.78 2.81-2.81c.8-.78.8-2.07 0-2.86zM5.41 20L4 18.59l7.72-7.72 1.47 1.35L5.41 20z\"/>\n",
              "  </svg>\n",
              "      </button>\n",
              "      \n",
              "  <style>\n",
              "    .colab-df-container {\n",
              "      display:flex;\n",
              "      flex-wrap:wrap;\n",
              "      gap: 12px;\n",
              "    }\n",
              "\n",
              "    .colab-df-convert {\n",
              "      background-color: #E8F0FE;\n",
              "      border: none;\n",
              "      border-radius: 50%;\n",
              "      cursor: pointer;\n",
              "      display: none;\n",
              "      fill: #1967D2;\n",
              "      height: 32px;\n",
              "      padding: 0 0 0 0;\n",
              "      width: 32px;\n",
              "    }\n",
              "\n",
              "    .colab-df-convert:hover {\n",
              "      background-color: #E2EBFA;\n",
              "      box-shadow: 0px 1px 2px rgba(60, 64, 67, 0.3), 0px 1px 3px 1px rgba(60, 64, 67, 0.15);\n",
              "      fill: #174EA6;\n",
              "    }\n",
              "\n",
              "    [theme=dark] .colab-df-convert {\n",
              "      background-color: #3B4455;\n",
              "      fill: #D2E3FC;\n",
              "    }\n",
              "\n",
              "    [theme=dark] .colab-df-convert:hover {\n",
              "      background-color: #434B5C;\n",
              "      box-shadow: 0px 1px 3px 1px rgba(0, 0, 0, 0.15);\n",
              "      filter: drop-shadow(0px 1px 2px rgba(0, 0, 0, 0.3));\n",
              "      fill: #FFFFFF;\n",
              "    }\n",
              "  </style>\n",
              "\n",
              "      <script>\n",
              "        const buttonEl =\n",
              "          document.querySelector('#df-9a7f6d22-2c3a-4d0c-913d-f856ac926a9c button.colab-df-convert');\n",
              "        buttonEl.style.display =\n",
              "          google.colab.kernel.accessAllowed ? 'block' : 'none';\n",
              "\n",
              "        async function convertToInteractive(key) {\n",
              "          const element = document.querySelector('#df-9a7f6d22-2c3a-4d0c-913d-f856ac926a9c');\n",
              "          const dataTable =\n",
              "            await google.colab.kernel.invokeFunction('convertToInteractive',\n",
              "                                                     [key], {});\n",
              "          if (!dataTable) return;\n",
              "\n",
              "          const docLinkHtml = 'Like what you see? Visit the ' +\n",
              "            '<a target=\"_blank\" href=https://colab.research.google.com/notebooks/data_table.ipynb>data table notebook</a>'\n",
              "            + ' to learn more about interactive tables.';\n",
              "          element.innerHTML = '';\n",
              "          dataTable['output_type'] = 'display_data';\n",
              "          await google.colab.output.renderOutput(dataTable, element);\n",
              "          const docLink = document.createElement('div');\n",
              "          docLink.innerHTML = docLinkHtml;\n",
              "          element.appendChild(docLink);\n",
              "        }\n",
              "      </script>\n",
              "    </div>\n",
              "  </div>\n",
              "  "
            ]
          },
          "metadata": {},
          "execution_count": 7
        }
      ],
      "source": [
        "df.head()"
      ]
    },
    {
      "cell_type": "code",
      "execution_count": 8,
      "id": "b2ef9038",
      "metadata": {
        "colab": {
          "base_uri": "https://localhost:8080/",
          "height": 206
        },
        "id": "b2ef9038",
        "outputId": "6688d117-7eb9-4000-9d49-30b552e6d45c"
      },
      "outputs": [
        {
          "output_type": "execute_result",
          "data": {
            "text/plain": [
              "             id                                               name  \\\n",
              "16554  36934824                                     Under Wildwood   \n",
              "16555  37054020                                  Transfer of Power   \n",
              "16556  37122323                                            Decoded   \n",
              "16557  37132319  America Again: Re-becoming The Greatness We Ne...   \n",
              "16558  37159503                                          Poor Folk   \n",
              "\n",
              "                                             description  \\\n",
              "16554   Prue McKeel, having rescued her brother from ...   \n",
              "16555   The reader first meets Rapp while he is doing...   \n",
              "16556   The book follows very rough chronological ord...   \n",
              "16557   Colbert addresses topics including Wall Stree...   \n",
              "16558   Makar Devushkin and Varvara Dobroselova are s...   \n",
              "\n",
              "                                                   genre  \n",
              "16554                                                     \n",
              "16555   {\"/m/01jfsb\": \"Thriller\", \"/m/02xlf\": \"Fiction\"}  \n",
              "16556                       {\"/m/0xdf\": \"Autobiography\"}  \n",
              "16557                                                     \n",
              "16558  {\"/m/02ql9\": \"Epistolary novel\", \"/m/014dfn\": ...  "
            ],
            "text/html": [
              "\n",
              "  <div id=\"df-03b554b2-8957-418d-b33e-08a8b1efb316\">\n",
              "    <div class=\"colab-df-container\">\n",
              "      <div>\n",
              "<style scoped>\n",
              "    .dataframe tbody tr th:only-of-type {\n",
              "        vertical-align: middle;\n",
              "    }\n",
              "\n",
              "    .dataframe tbody tr th {\n",
              "        vertical-align: top;\n",
              "    }\n",
              "\n",
              "    .dataframe thead th {\n",
              "        text-align: right;\n",
              "    }\n",
              "</style>\n",
              "<table border=\"1\" class=\"dataframe\">\n",
              "  <thead>\n",
              "    <tr style=\"text-align: right;\">\n",
              "      <th></th>\n",
              "      <th>id</th>\n",
              "      <th>name</th>\n",
              "      <th>description</th>\n",
              "      <th>genre</th>\n",
              "    </tr>\n",
              "  </thead>\n",
              "  <tbody>\n",
              "    <tr>\n",
              "      <th>16554</th>\n",
              "      <td>36934824</td>\n",
              "      <td>Under Wildwood</td>\n",
              "      <td>Prue McKeel, having rescued her brother from ...</td>\n",
              "      <td></td>\n",
              "    </tr>\n",
              "    <tr>\n",
              "      <th>16555</th>\n",
              "      <td>37054020</td>\n",
              "      <td>Transfer of Power</td>\n",
              "      <td>The reader first meets Rapp while he is doing...</td>\n",
              "      <td>{\"/m/01jfsb\": \"Thriller\", \"/m/02xlf\": \"Fiction\"}</td>\n",
              "    </tr>\n",
              "    <tr>\n",
              "      <th>16556</th>\n",
              "      <td>37122323</td>\n",
              "      <td>Decoded</td>\n",
              "      <td>The book follows very rough chronological ord...</td>\n",
              "      <td>{\"/m/0xdf\": \"Autobiography\"}</td>\n",
              "    </tr>\n",
              "    <tr>\n",
              "      <th>16557</th>\n",
              "      <td>37132319</td>\n",
              "      <td>America Again: Re-becoming The Greatness We Ne...</td>\n",
              "      <td>Colbert addresses topics including Wall Stree...</td>\n",
              "      <td></td>\n",
              "    </tr>\n",
              "    <tr>\n",
              "      <th>16558</th>\n",
              "      <td>37159503</td>\n",
              "      <td>Poor Folk</td>\n",
              "      <td>Makar Devushkin and Varvara Dobroselova are s...</td>\n",
              "      <td>{\"/m/02ql9\": \"Epistolary novel\", \"/m/014dfn\": ...</td>\n",
              "    </tr>\n",
              "  </tbody>\n",
              "</table>\n",
              "</div>\n",
              "      <button class=\"colab-df-convert\" onclick=\"convertToInteractive('df-03b554b2-8957-418d-b33e-08a8b1efb316')\"\n",
              "              title=\"Convert this dataframe to an interactive table.\"\n",
              "              style=\"display:none;\">\n",
              "        \n",
              "  <svg xmlns=\"http://www.w3.org/2000/svg\" height=\"24px\"viewBox=\"0 0 24 24\"\n",
              "       width=\"24px\">\n",
              "    <path d=\"M0 0h24v24H0V0z\" fill=\"none\"/>\n",
              "    <path d=\"M18.56 5.44l.94 2.06.94-2.06 2.06-.94-2.06-.94-.94-2.06-.94 2.06-2.06.94zm-11 1L8.5 8.5l.94-2.06 2.06-.94-2.06-.94L8.5 2.5l-.94 2.06-2.06.94zm10 10l.94 2.06.94-2.06 2.06-.94-2.06-.94-.94-2.06-.94 2.06-2.06.94z\"/><path d=\"M17.41 7.96l-1.37-1.37c-.4-.4-.92-.59-1.43-.59-.52 0-1.04.2-1.43.59L10.3 9.45l-7.72 7.72c-.78.78-.78 2.05 0 2.83L4 21.41c.39.39.9.59 1.41.59.51 0 1.02-.2 1.41-.59l7.78-7.78 2.81-2.81c.8-.78.8-2.07 0-2.86zM5.41 20L4 18.59l7.72-7.72 1.47 1.35L5.41 20z\"/>\n",
              "  </svg>\n",
              "      </button>\n",
              "      \n",
              "  <style>\n",
              "    .colab-df-container {\n",
              "      display:flex;\n",
              "      flex-wrap:wrap;\n",
              "      gap: 12px;\n",
              "    }\n",
              "\n",
              "    .colab-df-convert {\n",
              "      background-color: #E8F0FE;\n",
              "      border: none;\n",
              "      border-radius: 50%;\n",
              "      cursor: pointer;\n",
              "      display: none;\n",
              "      fill: #1967D2;\n",
              "      height: 32px;\n",
              "      padding: 0 0 0 0;\n",
              "      width: 32px;\n",
              "    }\n",
              "\n",
              "    .colab-df-convert:hover {\n",
              "      background-color: #E2EBFA;\n",
              "      box-shadow: 0px 1px 2px rgba(60, 64, 67, 0.3), 0px 1px 3px 1px rgba(60, 64, 67, 0.15);\n",
              "      fill: #174EA6;\n",
              "    }\n",
              "\n",
              "    [theme=dark] .colab-df-convert {\n",
              "      background-color: #3B4455;\n",
              "      fill: #D2E3FC;\n",
              "    }\n",
              "\n",
              "    [theme=dark] .colab-df-convert:hover {\n",
              "      background-color: #434B5C;\n",
              "      box-shadow: 0px 1px 3px 1px rgba(0, 0, 0, 0.15);\n",
              "      filter: drop-shadow(0px 1px 2px rgba(0, 0, 0, 0.3));\n",
              "      fill: #FFFFFF;\n",
              "    }\n",
              "  </style>\n",
              "\n",
              "      <script>\n",
              "        const buttonEl =\n",
              "          document.querySelector('#df-03b554b2-8957-418d-b33e-08a8b1efb316 button.colab-df-convert');\n",
              "        buttonEl.style.display =\n",
              "          google.colab.kernel.accessAllowed ? 'block' : 'none';\n",
              "\n",
              "        async function convertToInteractive(key) {\n",
              "          const element = document.querySelector('#df-03b554b2-8957-418d-b33e-08a8b1efb316');\n",
              "          const dataTable =\n",
              "            await google.colab.kernel.invokeFunction('convertToInteractive',\n",
              "                                                     [key], {});\n",
              "          if (!dataTable) return;\n",
              "\n",
              "          const docLinkHtml = 'Like what you see? Visit the ' +\n",
              "            '<a target=\"_blank\" href=https://colab.research.google.com/notebooks/data_table.ipynb>data table notebook</a>'\n",
              "            + ' to learn more about interactive tables.';\n",
              "          element.innerHTML = '';\n",
              "          dataTable['output_type'] = 'display_data';\n",
              "          await google.colab.output.renderOutput(dataTable, element);\n",
              "          const docLink = document.createElement('div');\n",
              "          docLink.innerHTML = docLinkHtml;\n",
              "          element.appendChild(docLink);\n",
              "        }\n",
              "      </script>\n",
              "    </div>\n",
              "  </div>\n",
              "  "
            ]
          },
          "metadata": {},
          "execution_count": 8
        }
      ],
      "source": [
        "df.tail()"
      ]
    },
    {
      "cell_type": "code",
      "execution_count": 9,
      "id": "3a6d2ac6",
      "metadata": {
        "colab": {
          "base_uri": "https://localhost:8080/"
        },
        "id": "3a6d2ac6",
        "outputId": "fa61c937-fba4-4295-98ad-104e3f0c375f"
      },
      "outputs": [
        {
          "output_type": "execute_result",
          "data": {
            "text/plain": [
              "id             object\n",
              "name           object\n",
              "description    object\n",
              "genre          object\n",
              "dtype: object"
            ]
          },
          "metadata": {},
          "execution_count": 9
        }
      ],
      "source": [
        "df.dtypes"
      ]
    },
    {
      "cell_type": "code",
      "execution_count": 10,
      "id": "1c3b3284",
      "metadata": {
        "id": "1c3b3284"
      },
      "outputs": [],
      "source": [
        "df['id'] = df['id'].astype('int')"
      ]
    },
    {
      "cell_type": "markdown",
      "source": [
        "Dropping rows with empty genre"
      ],
      "metadata": {
        "id": "HwghpLAb9Pp_"
      },
      "id": "HwghpLAb9Pp_"
    },
    {
      "cell_type": "code",
      "execution_count": 11,
      "id": "59413f44",
      "metadata": {
        "colab": {
          "base_uri": "https://localhost:8080/",
          "height": 49
        },
        "id": "59413f44",
        "outputId": "09af8207-7994-4a58-f174-32f5701160cb"
      },
      "outputs": [
        {
          "output_type": "execute_result",
          "data": {
            "text/plain": [
              "Empty DataFrame\n",
              "Columns: [id, name, description, genre]\n",
              "Index: []"
            ],
            "text/html": [
              "\n",
              "  <div id=\"df-faae4cea-2b4d-4e9d-a20a-503e23b222fe\">\n",
              "    <div class=\"colab-df-container\">\n",
              "      <div>\n",
              "<style scoped>\n",
              "    .dataframe tbody tr th:only-of-type {\n",
              "        vertical-align: middle;\n",
              "    }\n",
              "\n",
              "    .dataframe tbody tr th {\n",
              "        vertical-align: top;\n",
              "    }\n",
              "\n",
              "    .dataframe thead th {\n",
              "        text-align: right;\n",
              "    }\n",
              "</style>\n",
              "<table border=\"1\" class=\"dataframe\">\n",
              "  <thead>\n",
              "    <tr style=\"text-align: right;\">\n",
              "      <th></th>\n",
              "      <th>id</th>\n",
              "      <th>name</th>\n",
              "      <th>description</th>\n",
              "      <th>genre</th>\n",
              "    </tr>\n",
              "  </thead>\n",
              "  <tbody>\n",
              "  </tbody>\n",
              "</table>\n",
              "</div>\n",
              "      <button class=\"colab-df-convert\" onclick=\"convertToInteractive('df-faae4cea-2b4d-4e9d-a20a-503e23b222fe')\"\n",
              "              title=\"Convert this dataframe to an interactive table.\"\n",
              "              style=\"display:none;\">\n",
              "        \n",
              "  <svg xmlns=\"http://www.w3.org/2000/svg\" height=\"24px\"viewBox=\"0 0 24 24\"\n",
              "       width=\"24px\">\n",
              "    <path d=\"M0 0h24v24H0V0z\" fill=\"none\"/>\n",
              "    <path d=\"M18.56 5.44l.94 2.06.94-2.06 2.06-.94-2.06-.94-.94-2.06-.94 2.06-2.06.94zm-11 1L8.5 8.5l.94-2.06 2.06-.94-2.06-.94L8.5 2.5l-.94 2.06-2.06.94zm10 10l.94 2.06.94-2.06 2.06-.94-2.06-.94-.94-2.06-.94 2.06-2.06.94z\"/><path d=\"M17.41 7.96l-1.37-1.37c-.4-.4-.92-.59-1.43-.59-.52 0-1.04.2-1.43.59L10.3 9.45l-7.72 7.72c-.78.78-.78 2.05 0 2.83L4 21.41c.39.39.9.59 1.41.59.51 0 1.02-.2 1.41-.59l7.78-7.78 2.81-2.81c.8-.78.8-2.07 0-2.86zM5.41 20L4 18.59l7.72-7.72 1.47 1.35L5.41 20z\"/>\n",
              "  </svg>\n",
              "      </button>\n",
              "      \n",
              "  <style>\n",
              "    .colab-df-container {\n",
              "      display:flex;\n",
              "      flex-wrap:wrap;\n",
              "      gap: 12px;\n",
              "    }\n",
              "\n",
              "    .colab-df-convert {\n",
              "      background-color: #E8F0FE;\n",
              "      border: none;\n",
              "      border-radius: 50%;\n",
              "      cursor: pointer;\n",
              "      display: none;\n",
              "      fill: #1967D2;\n",
              "      height: 32px;\n",
              "      padding: 0 0 0 0;\n",
              "      width: 32px;\n",
              "    }\n",
              "\n",
              "    .colab-df-convert:hover {\n",
              "      background-color: #E2EBFA;\n",
              "      box-shadow: 0px 1px 2px rgba(60, 64, 67, 0.3), 0px 1px 3px 1px rgba(60, 64, 67, 0.15);\n",
              "      fill: #174EA6;\n",
              "    }\n",
              "\n",
              "    [theme=dark] .colab-df-convert {\n",
              "      background-color: #3B4455;\n",
              "      fill: #D2E3FC;\n",
              "    }\n",
              "\n",
              "    [theme=dark] .colab-df-convert:hover {\n",
              "      background-color: #434B5C;\n",
              "      box-shadow: 0px 1px 3px 1px rgba(0, 0, 0, 0.15);\n",
              "      filter: drop-shadow(0px 1px 2px rgba(0, 0, 0, 0.3));\n",
              "      fill: #FFFFFF;\n",
              "    }\n",
              "  </style>\n",
              "\n",
              "      <script>\n",
              "        const buttonEl =\n",
              "          document.querySelector('#df-faae4cea-2b4d-4e9d-a20a-503e23b222fe button.colab-df-convert');\n",
              "        buttonEl.style.display =\n",
              "          google.colab.kernel.accessAllowed ? 'block' : 'none';\n",
              "\n",
              "        async function convertToInteractive(key) {\n",
              "          const element = document.querySelector('#df-faae4cea-2b4d-4e9d-a20a-503e23b222fe');\n",
              "          const dataTable =\n",
              "            await google.colab.kernel.invokeFunction('convertToInteractive',\n",
              "                                                     [key], {});\n",
              "          if (!dataTable) return;\n",
              "\n",
              "          const docLinkHtml = 'Like what you see? Visit the ' +\n",
              "            '<a target=\"_blank\" href=https://colab.research.google.com/notebooks/data_table.ipynb>data table notebook</a>'\n",
              "            + ' to learn more about interactive tables.';\n",
              "          element.innerHTML = '';\n",
              "          dataTable['output_type'] = 'display_data';\n",
              "          await google.colab.output.renderOutput(dataTable, element);\n",
              "          const docLink = document.createElement('div');\n",
              "          docLink.innerHTML = docLinkHtml;\n",
              "          element.appendChild(docLink);\n",
              "        }\n",
              "      </script>\n",
              "    </div>\n",
              "  </div>\n",
              "  "
            ]
          },
          "metadata": {},
          "execution_count": 11
        }
      ],
      "source": [
        "df.drop(df[df['genre']==''].index, inplace=True)\n",
        "df[df['genre']=='']"
      ]
    },
    {
      "cell_type": "code",
      "execution_count": 12,
      "id": "60339818",
      "metadata": {
        "colab": {
          "base_uri": "https://localhost:8080/",
          "height": 206
        },
        "id": "60339818",
        "outputId": "729c0560-7d04-465c-d598-df7f03a11000"
      },
      "outputs": [
        {
          "output_type": "execute_result",
          "data": {
            "text/plain": [
              "             id               name  \\\n",
              "16549  36372465     The Third Lynx   \n",
              "16551  36534061     Remote Control   \n",
              "16555  37054020  Transfer of Power   \n",
              "16556  37122323            Decoded   \n",
              "16558  37159503          Poor Folk   \n",
              "\n",
              "                                             description  \\\n",
              "16549   The story starts with former government agent...   \n",
              "16551   The series follows the character of Nick Ston...   \n",
              "16555   The reader first meets Rapp while he is doing...   \n",
              "16556   The book follows very rough chronological ord...   \n",
              "16558   Makar Devushkin and Varvara Dobroselova are s...   \n",
              "\n",
              "                                                   genre  \n",
              "16549                    {\"/m/06n90\": \"Science Fiction\"}  \n",
              "16551  {\"/m/01jfsb\": \"Thriller\", \"/m/02xlf\": \"Fiction...  \n",
              "16555   {\"/m/01jfsb\": \"Thriller\", \"/m/02xlf\": \"Fiction\"}  \n",
              "16556                       {\"/m/0xdf\": \"Autobiography\"}  \n",
              "16558  {\"/m/02ql9\": \"Epistolary novel\", \"/m/014dfn\": ...  "
            ],
            "text/html": [
              "\n",
              "  <div id=\"df-1afdd40e-d3f8-4f45-8271-891114246cb3\">\n",
              "    <div class=\"colab-df-container\">\n",
              "      <div>\n",
              "<style scoped>\n",
              "    .dataframe tbody tr th:only-of-type {\n",
              "        vertical-align: middle;\n",
              "    }\n",
              "\n",
              "    .dataframe tbody tr th {\n",
              "        vertical-align: top;\n",
              "    }\n",
              "\n",
              "    .dataframe thead th {\n",
              "        text-align: right;\n",
              "    }\n",
              "</style>\n",
              "<table border=\"1\" class=\"dataframe\">\n",
              "  <thead>\n",
              "    <tr style=\"text-align: right;\">\n",
              "      <th></th>\n",
              "      <th>id</th>\n",
              "      <th>name</th>\n",
              "      <th>description</th>\n",
              "      <th>genre</th>\n",
              "    </tr>\n",
              "  </thead>\n",
              "  <tbody>\n",
              "    <tr>\n",
              "      <th>16549</th>\n",
              "      <td>36372465</td>\n",
              "      <td>The Third Lynx</td>\n",
              "      <td>The story starts with former government agent...</td>\n",
              "      <td>{\"/m/06n90\": \"Science Fiction\"}</td>\n",
              "    </tr>\n",
              "    <tr>\n",
              "      <th>16551</th>\n",
              "      <td>36534061</td>\n",
              "      <td>Remote Control</td>\n",
              "      <td>The series follows the character of Nick Ston...</td>\n",
              "      <td>{\"/m/01jfsb\": \"Thriller\", \"/m/02xlf\": \"Fiction...</td>\n",
              "    </tr>\n",
              "    <tr>\n",
              "      <th>16555</th>\n",
              "      <td>37054020</td>\n",
              "      <td>Transfer of Power</td>\n",
              "      <td>The reader first meets Rapp while he is doing...</td>\n",
              "      <td>{\"/m/01jfsb\": \"Thriller\", \"/m/02xlf\": \"Fiction\"}</td>\n",
              "    </tr>\n",
              "    <tr>\n",
              "      <th>16556</th>\n",
              "      <td>37122323</td>\n",
              "      <td>Decoded</td>\n",
              "      <td>The book follows very rough chronological ord...</td>\n",
              "      <td>{\"/m/0xdf\": \"Autobiography\"}</td>\n",
              "    </tr>\n",
              "    <tr>\n",
              "      <th>16558</th>\n",
              "      <td>37159503</td>\n",
              "      <td>Poor Folk</td>\n",
              "      <td>Makar Devushkin and Varvara Dobroselova are s...</td>\n",
              "      <td>{\"/m/02ql9\": \"Epistolary novel\", \"/m/014dfn\": ...</td>\n",
              "    </tr>\n",
              "  </tbody>\n",
              "</table>\n",
              "</div>\n",
              "      <button class=\"colab-df-convert\" onclick=\"convertToInteractive('df-1afdd40e-d3f8-4f45-8271-891114246cb3')\"\n",
              "              title=\"Convert this dataframe to an interactive table.\"\n",
              "              style=\"display:none;\">\n",
              "        \n",
              "  <svg xmlns=\"http://www.w3.org/2000/svg\" height=\"24px\"viewBox=\"0 0 24 24\"\n",
              "       width=\"24px\">\n",
              "    <path d=\"M0 0h24v24H0V0z\" fill=\"none\"/>\n",
              "    <path d=\"M18.56 5.44l.94 2.06.94-2.06 2.06-.94-2.06-.94-.94-2.06-.94 2.06-2.06.94zm-11 1L8.5 8.5l.94-2.06 2.06-.94-2.06-.94L8.5 2.5l-.94 2.06-2.06.94zm10 10l.94 2.06.94-2.06 2.06-.94-2.06-.94-.94-2.06-.94 2.06-2.06.94z\"/><path d=\"M17.41 7.96l-1.37-1.37c-.4-.4-.92-.59-1.43-.59-.52 0-1.04.2-1.43.59L10.3 9.45l-7.72 7.72c-.78.78-.78 2.05 0 2.83L4 21.41c.39.39.9.59 1.41.59.51 0 1.02-.2 1.41-.59l7.78-7.78 2.81-2.81c.8-.78.8-2.07 0-2.86zM5.41 20L4 18.59l7.72-7.72 1.47 1.35L5.41 20z\"/>\n",
              "  </svg>\n",
              "      </button>\n",
              "      \n",
              "  <style>\n",
              "    .colab-df-container {\n",
              "      display:flex;\n",
              "      flex-wrap:wrap;\n",
              "      gap: 12px;\n",
              "    }\n",
              "\n",
              "    .colab-df-convert {\n",
              "      background-color: #E8F0FE;\n",
              "      border: none;\n",
              "      border-radius: 50%;\n",
              "      cursor: pointer;\n",
              "      display: none;\n",
              "      fill: #1967D2;\n",
              "      height: 32px;\n",
              "      padding: 0 0 0 0;\n",
              "      width: 32px;\n",
              "    }\n",
              "\n",
              "    .colab-df-convert:hover {\n",
              "      background-color: #E2EBFA;\n",
              "      box-shadow: 0px 1px 2px rgba(60, 64, 67, 0.3), 0px 1px 3px 1px rgba(60, 64, 67, 0.15);\n",
              "      fill: #174EA6;\n",
              "    }\n",
              "\n",
              "    [theme=dark] .colab-df-convert {\n",
              "      background-color: #3B4455;\n",
              "      fill: #D2E3FC;\n",
              "    }\n",
              "\n",
              "    [theme=dark] .colab-df-convert:hover {\n",
              "      background-color: #434B5C;\n",
              "      box-shadow: 0px 1px 3px 1px rgba(0, 0, 0, 0.15);\n",
              "      filter: drop-shadow(0px 1px 2px rgba(0, 0, 0, 0.3));\n",
              "      fill: #FFFFFF;\n",
              "    }\n",
              "  </style>\n",
              "\n",
              "      <script>\n",
              "        const buttonEl =\n",
              "          document.querySelector('#df-1afdd40e-d3f8-4f45-8271-891114246cb3 button.colab-df-convert');\n",
              "        buttonEl.style.display =\n",
              "          google.colab.kernel.accessAllowed ? 'block' : 'none';\n",
              "\n",
              "        async function convertToInteractive(key) {\n",
              "          const element = document.querySelector('#df-1afdd40e-d3f8-4f45-8271-891114246cb3');\n",
              "          const dataTable =\n",
              "            await google.colab.kernel.invokeFunction('convertToInteractive',\n",
              "                                                     [key], {});\n",
              "          if (!dataTable) return;\n",
              "\n",
              "          const docLinkHtml = 'Like what you see? Visit the ' +\n",
              "            '<a target=\"_blank\" href=https://colab.research.google.com/notebooks/data_table.ipynb>data table notebook</a>'\n",
              "            + ' to learn more about interactive tables.';\n",
              "          element.innerHTML = '';\n",
              "          dataTable['output_type'] = 'display_data';\n",
              "          await google.colab.output.renderOutput(dataTable, element);\n",
              "          const docLink = document.createElement('div');\n",
              "          docLink.innerHTML = docLinkHtml;\n",
              "          element.appendChild(docLink);\n",
              "        }\n",
              "      </script>\n",
              "    </div>\n",
              "  </div>\n",
              "  "
            ]
          },
          "metadata": {},
          "execution_count": 12
        }
      ],
      "source": [
        "df.tail()"
      ]
    },
    {
      "cell_type": "markdown",
      "source": [
        "Converting json format of genre to list"
      ],
      "metadata": {
        "id": "hzqlBYjZ97IW"
      },
      "id": "hzqlBYjZ97IW"
    },
    {
      "cell_type": "code",
      "execution_count": 13,
      "id": "53ebdc54",
      "metadata": {
        "id": "53ebdc54"
      },
      "outputs": [],
      "source": [
        "import json as jsc"
      ]
    },
    {
      "cell_type": "code",
      "execution_count": 14,
      "id": "90758aee",
      "metadata": {
        "colab": {
          "base_uri": "https://localhost:8080/"
        },
        "id": "90758aee",
        "outputId": "4d52b815-ea10-4e9c-9569-a1c99c47a911"
      },
      "outputs": [
        {
          "output_type": "execute_result",
          "data": {
            "text/plain": [
              "dict_values(['Roman à clef', 'Satire', \"Children's literature\", 'Speculative fiction', 'Fiction'])"
            ]
          },
          "metadata": {},
          "execution_count": 14
        }
      ],
      "source": [
        "jsc.loads(df['genre'][0]).values()"
      ]
    },
    {
      "cell_type": "code",
      "execution_count": 15,
      "id": "3a6bbaf3",
      "metadata": {
        "id": "3a6bbaf3"
      },
      "outputs": [],
      "source": [
        "l=[]\n",
        "for i in df['genre']:\n",
        "    l.append(list(jsc.loads(i).values()))"
      ]
    },
    {
      "cell_type": "code",
      "execution_count": 16,
      "id": "b8c8ac24",
      "metadata": {
        "id": "b8c8ac24"
      },
      "outputs": [],
      "source": [
        "df['u-genre'] = l"
      ]
    },
    {
      "cell_type": "code",
      "execution_count": 17,
      "id": "17424f0a",
      "metadata": {
        "id": "17424f0a"
      },
      "outputs": [],
      "source": [
        "setOfgenre = sum(l,[])\n",
        "setOfgenre = set(setOfgenre)"
      ]
    },
    {
      "cell_type": "code",
      "execution_count": 18,
      "id": "a7848e55",
      "metadata": {
        "colab": {
          "base_uri": "https://localhost:8080/"
        },
        "id": "a7848e55",
        "outputId": "2119fbbd-0322-4fb0-fa2c-e12a8f086e70"
      },
      "outputs": [
        {
          "output_type": "execute_result",
          "data": {
            "text/plain": [
              "227"
            ]
          },
          "metadata": {},
          "execution_count": 18
        }
      ],
      "source": [
        "len(setOfgenre)"
      ]
    },
    {
      "cell_type": "markdown",
      "source": [
        "Preprocessing description text"
      ],
      "metadata": {
        "id": "Phjv4YNe-EIV"
      },
      "id": "Phjv4YNe-EIV"
    },
    {
      "cell_type": "code",
      "execution_count": 19,
      "id": "1e0cb551",
      "metadata": {
        "id": "1e0cb551"
      },
      "outputs": [],
      "source": [
        "import re"
      ]
    },
    {
      "cell_type": "code",
      "execution_count": 20,
      "id": "8437f815",
      "metadata": {
        "id": "8437f815"
      },
      "outputs": [],
      "source": [
        "def updateDescription(s):\n",
        "    s = re.sub(\"\\'\", \"\", s)\n",
        "    s = re.sub(\"[^a-zA-Z]\",\" \",s)\n",
        "    s = ' '.join(s.split())\n",
        "    s = s.lower()\n",
        "    return s"
      ]
    },
    {
      "cell_type": "code",
      "execution_count": 21,
      "id": "8f5b4a63",
      "metadata": {
        "id": "8f5b4a63"
      },
      "outputs": [],
      "source": [
        "df['u-description'] = df['description'].apply(lambda x: updateDescription(x))"
      ]
    },
    {
      "cell_type": "code",
      "execution_count": 22,
      "id": "e9ebb80a",
      "metadata": {
        "colab": {
          "base_uri": "https://localhost:8080/",
          "height": 337
        },
        "id": "e9ebb80a",
        "outputId": "bfc2e08b-38ec-49f4-add6-57be84b00167"
      },
      "outputs": [
        {
          "output_type": "execute_result",
          "data": {
            "text/plain": [
              "     id                            name  \\\n",
              "0   620                     Animal Farm   \n",
              "1   843              A Clockwork Orange   \n",
              "2   986                      The Plague   \n",
              "4  2080            A Fire Upon the Deep   \n",
              "5  2152  All Quiet on the Western Front   \n",
              "\n",
              "                                         description  \\\n",
              "0   Old Major, the old boar on the Manor Farm, ca...   \n",
              "1   Alex, a teenager living in near-future Englan...   \n",
              "2   The text of The Plague is divided into five p...   \n",
              "4   The novel posits that space around the Milky ...   \n",
              "5   The book tells the story of Paul Bäumer, a Ge...   \n",
              "\n",
              "                                               genre  \\\n",
              "0  {\"/m/016lj8\": \"Roman \\u00e0 clef\", \"/m/06nbt\":...   \n",
              "1  {\"/m/06n90\": \"Science Fiction\", \"/m/0l67h\": \"N...   \n",
              "2  {\"/m/02m4t\": \"Existentialism\", \"/m/02xlf\": \"Fi...   \n",
              "4  {\"/m/03lrw\": \"Hard science fiction\", \"/m/06n90...   \n",
              "5  {\"/m/098tmk\": \"War novel\", \"/m/016lj8\": \"Roman...   \n",
              "\n",
              "                                             u-genre  \\\n",
              "0  [Roman à clef, Satire, Children's literature, ...   \n",
              "1  [Science Fiction, Novella, Speculative fiction...   \n",
              "2  [Existentialism, Fiction, Absurdist fiction, N...   \n",
              "4  [Hard science fiction, Science Fiction, Specul...   \n",
              "5                          [War novel, Roman à clef]   \n",
              "\n",
              "                                       u-description  \n",
              "0  old major the old boar on the manor farm calls...  \n",
              "1  alex a teenager living in near future england ...  \n",
              "2  the text of the plague is divided into five pa...  \n",
              "4  the novel posits that space around the milky w...  \n",
              "5  the book tells the story of paul b umer a germ...  "
            ],
            "text/html": [
              "\n",
              "  <div id=\"df-8e066af1-e0f0-45ab-8eeb-97d6551f519e\">\n",
              "    <div class=\"colab-df-container\">\n",
              "      <div>\n",
              "<style scoped>\n",
              "    .dataframe tbody tr th:only-of-type {\n",
              "        vertical-align: middle;\n",
              "    }\n",
              "\n",
              "    .dataframe tbody tr th {\n",
              "        vertical-align: top;\n",
              "    }\n",
              "\n",
              "    .dataframe thead th {\n",
              "        text-align: right;\n",
              "    }\n",
              "</style>\n",
              "<table border=\"1\" class=\"dataframe\">\n",
              "  <thead>\n",
              "    <tr style=\"text-align: right;\">\n",
              "      <th></th>\n",
              "      <th>id</th>\n",
              "      <th>name</th>\n",
              "      <th>description</th>\n",
              "      <th>genre</th>\n",
              "      <th>u-genre</th>\n",
              "      <th>u-description</th>\n",
              "    </tr>\n",
              "  </thead>\n",
              "  <tbody>\n",
              "    <tr>\n",
              "      <th>0</th>\n",
              "      <td>620</td>\n",
              "      <td>Animal Farm</td>\n",
              "      <td>Old Major, the old boar on the Manor Farm, ca...</td>\n",
              "      <td>{\"/m/016lj8\": \"Roman \\u00e0 clef\", \"/m/06nbt\":...</td>\n",
              "      <td>[Roman à clef, Satire, Children's literature, ...</td>\n",
              "      <td>old major the old boar on the manor farm calls...</td>\n",
              "    </tr>\n",
              "    <tr>\n",
              "      <th>1</th>\n",
              "      <td>843</td>\n",
              "      <td>A Clockwork Orange</td>\n",
              "      <td>Alex, a teenager living in near-future Englan...</td>\n",
              "      <td>{\"/m/06n90\": \"Science Fiction\", \"/m/0l67h\": \"N...</td>\n",
              "      <td>[Science Fiction, Novella, Speculative fiction...</td>\n",
              "      <td>alex a teenager living in near future england ...</td>\n",
              "    </tr>\n",
              "    <tr>\n",
              "      <th>2</th>\n",
              "      <td>986</td>\n",
              "      <td>The Plague</td>\n",
              "      <td>The text of The Plague is divided into five p...</td>\n",
              "      <td>{\"/m/02m4t\": \"Existentialism\", \"/m/02xlf\": \"Fi...</td>\n",
              "      <td>[Existentialism, Fiction, Absurdist fiction, N...</td>\n",
              "      <td>the text of the plague is divided into five pa...</td>\n",
              "    </tr>\n",
              "    <tr>\n",
              "      <th>4</th>\n",
              "      <td>2080</td>\n",
              "      <td>A Fire Upon the Deep</td>\n",
              "      <td>The novel posits that space around the Milky ...</td>\n",
              "      <td>{\"/m/03lrw\": \"Hard science fiction\", \"/m/06n90...</td>\n",
              "      <td>[Hard science fiction, Science Fiction, Specul...</td>\n",
              "      <td>the novel posits that space around the milky w...</td>\n",
              "    </tr>\n",
              "    <tr>\n",
              "      <th>5</th>\n",
              "      <td>2152</td>\n",
              "      <td>All Quiet on the Western Front</td>\n",
              "      <td>The book tells the story of Paul Bäumer, a Ge...</td>\n",
              "      <td>{\"/m/098tmk\": \"War novel\", \"/m/016lj8\": \"Roman...</td>\n",
              "      <td>[War novel, Roman à clef]</td>\n",
              "      <td>the book tells the story of paul b umer a germ...</td>\n",
              "    </tr>\n",
              "  </tbody>\n",
              "</table>\n",
              "</div>\n",
              "      <button class=\"colab-df-convert\" onclick=\"convertToInteractive('df-8e066af1-e0f0-45ab-8eeb-97d6551f519e')\"\n",
              "              title=\"Convert this dataframe to an interactive table.\"\n",
              "              style=\"display:none;\">\n",
              "        \n",
              "  <svg xmlns=\"http://www.w3.org/2000/svg\" height=\"24px\"viewBox=\"0 0 24 24\"\n",
              "       width=\"24px\">\n",
              "    <path d=\"M0 0h24v24H0V0z\" fill=\"none\"/>\n",
              "    <path d=\"M18.56 5.44l.94 2.06.94-2.06 2.06-.94-2.06-.94-.94-2.06-.94 2.06-2.06.94zm-11 1L8.5 8.5l.94-2.06 2.06-.94-2.06-.94L8.5 2.5l-.94 2.06-2.06.94zm10 10l.94 2.06.94-2.06 2.06-.94-2.06-.94-.94-2.06-.94 2.06-2.06.94z\"/><path d=\"M17.41 7.96l-1.37-1.37c-.4-.4-.92-.59-1.43-.59-.52 0-1.04.2-1.43.59L10.3 9.45l-7.72 7.72c-.78.78-.78 2.05 0 2.83L4 21.41c.39.39.9.59 1.41.59.51 0 1.02-.2 1.41-.59l7.78-7.78 2.81-2.81c.8-.78.8-2.07 0-2.86zM5.41 20L4 18.59l7.72-7.72 1.47 1.35L5.41 20z\"/>\n",
              "  </svg>\n",
              "      </button>\n",
              "      \n",
              "  <style>\n",
              "    .colab-df-container {\n",
              "      display:flex;\n",
              "      flex-wrap:wrap;\n",
              "      gap: 12px;\n",
              "    }\n",
              "\n",
              "    .colab-df-convert {\n",
              "      background-color: #E8F0FE;\n",
              "      border: none;\n",
              "      border-radius: 50%;\n",
              "      cursor: pointer;\n",
              "      display: none;\n",
              "      fill: #1967D2;\n",
              "      height: 32px;\n",
              "      padding: 0 0 0 0;\n",
              "      width: 32px;\n",
              "    }\n",
              "\n",
              "    .colab-df-convert:hover {\n",
              "      background-color: #E2EBFA;\n",
              "      box-shadow: 0px 1px 2px rgba(60, 64, 67, 0.3), 0px 1px 3px 1px rgba(60, 64, 67, 0.15);\n",
              "      fill: #174EA6;\n",
              "    }\n",
              "\n",
              "    [theme=dark] .colab-df-convert {\n",
              "      background-color: #3B4455;\n",
              "      fill: #D2E3FC;\n",
              "    }\n",
              "\n",
              "    [theme=dark] .colab-df-convert:hover {\n",
              "      background-color: #434B5C;\n",
              "      box-shadow: 0px 1px 3px 1px rgba(0, 0, 0, 0.15);\n",
              "      filter: drop-shadow(0px 1px 2px rgba(0, 0, 0, 0.3));\n",
              "      fill: #FFFFFF;\n",
              "    }\n",
              "  </style>\n",
              "\n",
              "      <script>\n",
              "        const buttonEl =\n",
              "          document.querySelector('#df-8e066af1-e0f0-45ab-8eeb-97d6551f519e button.colab-df-convert');\n",
              "        buttonEl.style.display =\n",
              "          google.colab.kernel.accessAllowed ? 'block' : 'none';\n",
              "\n",
              "        async function convertToInteractive(key) {\n",
              "          const element = document.querySelector('#df-8e066af1-e0f0-45ab-8eeb-97d6551f519e');\n",
              "          const dataTable =\n",
              "            await google.colab.kernel.invokeFunction('convertToInteractive',\n",
              "                                                     [key], {});\n",
              "          if (!dataTable) return;\n",
              "\n",
              "          const docLinkHtml = 'Like what you see? Visit the ' +\n",
              "            '<a target=\"_blank\" href=https://colab.research.google.com/notebooks/data_table.ipynb>data table notebook</a>'\n",
              "            + ' to learn more about interactive tables.';\n",
              "          element.innerHTML = '';\n",
              "          dataTable['output_type'] = 'display_data';\n",
              "          await google.colab.output.renderOutput(dataTable, element);\n",
              "          const docLink = document.createElement('div');\n",
              "          docLink.innerHTML = docLinkHtml;\n",
              "          element.appendChild(docLink);\n",
              "        }\n",
              "      </script>\n",
              "    </div>\n",
              "  </div>\n",
              "  "
            ]
          },
          "metadata": {},
          "execution_count": 22
        }
      ],
      "source": [
        "df.head()"
      ]
    },
    {
      "cell_type": "code",
      "execution_count": 23,
      "id": "7e3c5691",
      "metadata": {
        "id": "7e3c5691"
      },
      "outputs": [],
      "source": [
        "df=df.drop(['genre', 'description'], axis=1)"
      ]
    },
    {
      "cell_type": "code",
      "execution_count": 24,
      "id": "9bbfb605",
      "metadata": {
        "colab": {
          "base_uri": "https://localhost:8080/",
          "height": 206
        },
        "id": "9bbfb605",
        "outputId": "3be6771d-e2cb-49d7-88c7-893209015791"
      },
      "outputs": [
        {
          "output_type": "execute_result",
          "data": {
            "text/plain": [
              "     id                            name  \\\n",
              "0   620                     Animal Farm   \n",
              "1   843              A Clockwork Orange   \n",
              "2   986                      The Plague   \n",
              "4  2080            A Fire Upon the Deep   \n",
              "5  2152  All Quiet on the Western Front   \n",
              "\n",
              "                                             u-genre  \\\n",
              "0  [Roman à clef, Satire, Children's literature, ...   \n",
              "1  [Science Fiction, Novella, Speculative fiction...   \n",
              "2  [Existentialism, Fiction, Absurdist fiction, N...   \n",
              "4  [Hard science fiction, Science Fiction, Specul...   \n",
              "5                          [War novel, Roman à clef]   \n",
              "\n",
              "                                       u-description  \n",
              "0  old major the old boar on the manor farm calls...  \n",
              "1  alex a teenager living in near future england ...  \n",
              "2  the text of the plague is divided into five pa...  \n",
              "4  the novel posits that space around the milky w...  \n",
              "5  the book tells the story of paul b umer a germ...  "
            ],
            "text/html": [
              "\n",
              "  <div id=\"df-c6804c93-38f9-4df2-888c-d16c509adbfa\">\n",
              "    <div class=\"colab-df-container\">\n",
              "      <div>\n",
              "<style scoped>\n",
              "    .dataframe tbody tr th:only-of-type {\n",
              "        vertical-align: middle;\n",
              "    }\n",
              "\n",
              "    .dataframe tbody tr th {\n",
              "        vertical-align: top;\n",
              "    }\n",
              "\n",
              "    .dataframe thead th {\n",
              "        text-align: right;\n",
              "    }\n",
              "</style>\n",
              "<table border=\"1\" class=\"dataframe\">\n",
              "  <thead>\n",
              "    <tr style=\"text-align: right;\">\n",
              "      <th></th>\n",
              "      <th>id</th>\n",
              "      <th>name</th>\n",
              "      <th>u-genre</th>\n",
              "      <th>u-description</th>\n",
              "    </tr>\n",
              "  </thead>\n",
              "  <tbody>\n",
              "    <tr>\n",
              "      <th>0</th>\n",
              "      <td>620</td>\n",
              "      <td>Animal Farm</td>\n",
              "      <td>[Roman à clef, Satire, Children's literature, ...</td>\n",
              "      <td>old major the old boar on the manor farm calls...</td>\n",
              "    </tr>\n",
              "    <tr>\n",
              "      <th>1</th>\n",
              "      <td>843</td>\n",
              "      <td>A Clockwork Orange</td>\n",
              "      <td>[Science Fiction, Novella, Speculative fiction...</td>\n",
              "      <td>alex a teenager living in near future england ...</td>\n",
              "    </tr>\n",
              "    <tr>\n",
              "      <th>2</th>\n",
              "      <td>986</td>\n",
              "      <td>The Plague</td>\n",
              "      <td>[Existentialism, Fiction, Absurdist fiction, N...</td>\n",
              "      <td>the text of the plague is divided into five pa...</td>\n",
              "    </tr>\n",
              "    <tr>\n",
              "      <th>4</th>\n",
              "      <td>2080</td>\n",
              "      <td>A Fire Upon the Deep</td>\n",
              "      <td>[Hard science fiction, Science Fiction, Specul...</td>\n",
              "      <td>the novel posits that space around the milky w...</td>\n",
              "    </tr>\n",
              "    <tr>\n",
              "      <th>5</th>\n",
              "      <td>2152</td>\n",
              "      <td>All Quiet on the Western Front</td>\n",
              "      <td>[War novel, Roman à clef]</td>\n",
              "      <td>the book tells the story of paul b umer a germ...</td>\n",
              "    </tr>\n",
              "  </tbody>\n",
              "</table>\n",
              "</div>\n",
              "      <button class=\"colab-df-convert\" onclick=\"convertToInteractive('df-c6804c93-38f9-4df2-888c-d16c509adbfa')\"\n",
              "              title=\"Convert this dataframe to an interactive table.\"\n",
              "              style=\"display:none;\">\n",
              "        \n",
              "  <svg xmlns=\"http://www.w3.org/2000/svg\" height=\"24px\"viewBox=\"0 0 24 24\"\n",
              "       width=\"24px\">\n",
              "    <path d=\"M0 0h24v24H0V0z\" fill=\"none\"/>\n",
              "    <path d=\"M18.56 5.44l.94 2.06.94-2.06 2.06-.94-2.06-.94-.94-2.06-.94 2.06-2.06.94zm-11 1L8.5 8.5l.94-2.06 2.06-.94-2.06-.94L8.5 2.5l-.94 2.06-2.06.94zm10 10l.94 2.06.94-2.06 2.06-.94-2.06-.94-.94-2.06-.94 2.06-2.06.94z\"/><path d=\"M17.41 7.96l-1.37-1.37c-.4-.4-.92-.59-1.43-.59-.52 0-1.04.2-1.43.59L10.3 9.45l-7.72 7.72c-.78.78-.78 2.05 0 2.83L4 21.41c.39.39.9.59 1.41.59.51 0 1.02-.2 1.41-.59l7.78-7.78 2.81-2.81c.8-.78.8-2.07 0-2.86zM5.41 20L4 18.59l7.72-7.72 1.47 1.35L5.41 20z\"/>\n",
              "  </svg>\n",
              "      </button>\n",
              "      \n",
              "  <style>\n",
              "    .colab-df-container {\n",
              "      display:flex;\n",
              "      flex-wrap:wrap;\n",
              "      gap: 12px;\n",
              "    }\n",
              "\n",
              "    .colab-df-convert {\n",
              "      background-color: #E8F0FE;\n",
              "      border: none;\n",
              "      border-radius: 50%;\n",
              "      cursor: pointer;\n",
              "      display: none;\n",
              "      fill: #1967D2;\n",
              "      height: 32px;\n",
              "      padding: 0 0 0 0;\n",
              "      width: 32px;\n",
              "    }\n",
              "\n",
              "    .colab-df-convert:hover {\n",
              "      background-color: #E2EBFA;\n",
              "      box-shadow: 0px 1px 2px rgba(60, 64, 67, 0.3), 0px 1px 3px 1px rgba(60, 64, 67, 0.15);\n",
              "      fill: #174EA6;\n",
              "    }\n",
              "\n",
              "    [theme=dark] .colab-df-convert {\n",
              "      background-color: #3B4455;\n",
              "      fill: #D2E3FC;\n",
              "    }\n",
              "\n",
              "    [theme=dark] .colab-df-convert:hover {\n",
              "      background-color: #434B5C;\n",
              "      box-shadow: 0px 1px 3px 1px rgba(0, 0, 0, 0.15);\n",
              "      filter: drop-shadow(0px 1px 2px rgba(0, 0, 0, 0.3));\n",
              "      fill: #FFFFFF;\n",
              "    }\n",
              "  </style>\n",
              "\n",
              "      <script>\n",
              "        const buttonEl =\n",
              "          document.querySelector('#df-c6804c93-38f9-4df2-888c-d16c509adbfa button.colab-df-convert');\n",
              "        buttonEl.style.display =\n",
              "          google.colab.kernel.accessAllowed ? 'block' : 'none';\n",
              "\n",
              "        async function convertToInteractive(key) {\n",
              "          const element = document.querySelector('#df-c6804c93-38f9-4df2-888c-d16c509adbfa');\n",
              "          const dataTable =\n",
              "            await google.colab.kernel.invokeFunction('convertToInteractive',\n",
              "                                                     [key], {});\n",
              "          if (!dataTable) return;\n",
              "\n",
              "          const docLinkHtml = 'Like what you see? Visit the ' +\n",
              "            '<a target=\"_blank\" href=https://colab.research.google.com/notebooks/data_table.ipynb>data table notebook</a>'\n",
              "            + ' to learn more about interactive tables.';\n",
              "          element.innerHTML = '';\n",
              "          dataTable['output_type'] = 'display_data';\n",
              "          await google.colab.output.renderOutput(dataTable, element);\n",
              "          const docLink = document.createElement('div');\n",
              "          docLink.innerHTML = docLinkHtml;\n",
              "          element.appendChild(docLink);\n",
              "        }\n",
              "      </script>\n",
              "    </div>\n",
              "  </div>\n",
              "  "
            ]
          },
          "metadata": {},
          "execution_count": 24
        }
      ],
      "source": [
        "df.head()"
      ]
    },
    {
      "cell_type": "code",
      "execution_count": 25,
      "id": "576fcf32",
      "metadata": {
        "id": "576fcf32"
      },
      "outputs": [],
      "source": [
        "df.rename(columns = {'u-genre':'genre'}, inplace = True)"
      ]
    },
    {
      "cell_type": "code",
      "execution_count": 26,
      "id": "732d76c0",
      "metadata": {
        "id": "732d76c0"
      },
      "outputs": [],
      "source": [
        "df.rename(columns = {'u-description':'description'}, inplace = True)"
      ]
    },
    {
      "cell_type": "code",
      "execution_count": 27,
      "id": "efd6377f",
      "metadata": {
        "colab": {
          "base_uri": "https://localhost:8080/",
          "height": 206
        },
        "id": "efd6377f",
        "outputId": "c6a95bb8-8d6a-4a9a-9463-745f371ded44"
      },
      "outputs": [
        {
          "output_type": "execute_result",
          "data": {
            "text/plain": [
              "     id                            name  \\\n",
              "0   620                     Animal Farm   \n",
              "1   843              A Clockwork Orange   \n",
              "2   986                      The Plague   \n",
              "4  2080            A Fire Upon the Deep   \n",
              "5  2152  All Quiet on the Western Front   \n",
              "\n",
              "                                               genre  \\\n",
              "0  [Roman à clef, Satire, Children's literature, ...   \n",
              "1  [Science Fiction, Novella, Speculative fiction...   \n",
              "2  [Existentialism, Fiction, Absurdist fiction, N...   \n",
              "4  [Hard science fiction, Science Fiction, Specul...   \n",
              "5                          [War novel, Roman à clef]   \n",
              "\n",
              "                                         description  \n",
              "0  old major the old boar on the manor farm calls...  \n",
              "1  alex a teenager living in near future england ...  \n",
              "2  the text of the plague is divided into five pa...  \n",
              "4  the novel posits that space around the milky w...  \n",
              "5  the book tells the story of paul b umer a germ...  "
            ],
            "text/html": [
              "\n",
              "  <div id=\"df-da178aee-1c0e-4e44-ab4b-49beaf4b19a8\">\n",
              "    <div class=\"colab-df-container\">\n",
              "      <div>\n",
              "<style scoped>\n",
              "    .dataframe tbody tr th:only-of-type {\n",
              "        vertical-align: middle;\n",
              "    }\n",
              "\n",
              "    .dataframe tbody tr th {\n",
              "        vertical-align: top;\n",
              "    }\n",
              "\n",
              "    .dataframe thead th {\n",
              "        text-align: right;\n",
              "    }\n",
              "</style>\n",
              "<table border=\"1\" class=\"dataframe\">\n",
              "  <thead>\n",
              "    <tr style=\"text-align: right;\">\n",
              "      <th></th>\n",
              "      <th>id</th>\n",
              "      <th>name</th>\n",
              "      <th>genre</th>\n",
              "      <th>description</th>\n",
              "    </tr>\n",
              "  </thead>\n",
              "  <tbody>\n",
              "    <tr>\n",
              "      <th>0</th>\n",
              "      <td>620</td>\n",
              "      <td>Animal Farm</td>\n",
              "      <td>[Roman à clef, Satire, Children's literature, ...</td>\n",
              "      <td>old major the old boar on the manor farm calls...</td>\n",
              "    </tr>\n",
              "    <tr>\n",
              "      <th>1</th>\n",
              "      <td>843</td>\n",
              "      <td>A Clockwork Orange</td>\n",
              "      <td>[Science Fiction, Novella, Speculative fiction...</td>\n",
              "      <td>alex a teenager living in near future england ...</td>\n",
              "    </tr>\n",
              "    <tr>\n",
              "      <th>2</th>\n",
              "      <td>986</td>\n",
              "      <td>The Plague</td>\n",
              "      <td>[Existentialism, Fiction, Absurdist fiction, N...</td>\n",
              "      <td>the text of the plague is divided into five pa...</td>\n",
              "    </tr>\n",
              "    <tr>\n",
              "      <th>4</th>\n",
              "      <td>2080</td>\n",
              "      <td>A Fire Upon the Deep</td>\n",
              "      <td>[Hard science fiction, Science Fiction, Specul...</td>\n",
              "      <td>the novel posits that space around the milky w...</td>\n",
              "    </tr>\n",
              "    <tr>\n",
              "      <th>5</th>\n",
              "      <td>2152</td>\n",
              "      <td>All Quiet on the Western Front</td>\n",
              "      <td>[War novel, Roman à clef]</td>\n",
              "      <td>the book tells the story of paul b umer a germ...</td>\n",
              "    </tr>\n",
              "  </tbody>\n",
              "</table>\n",
              "</div>\n",
              "      <button class=\"colab-df-convert\" onclick=\"convertToInteractive('df-da178aee-1c0e-4e44-ab4b-49beaf4b19a8')\"\n",
              "              title=\"Convert this dataframe to an interactive table.\"\n",
              "              style=\"display:none;\">\n",
              "        \n",
              "  <svg xmlns=\"http://www.w3.org/2000/svg\" height=\"24px\"viewBox=\"0 0 24 24\"\n",
              "       width=\"24px\">\n",
              "    <path d=\"M0 0h24v24H0V0z\" fill=\"none\"/>\n",
              "    <path d=\"M18.56 5.44l.94 2.06.94-2.06 2.06-.94-2.06-.94-.94-2.06-.94 2.06-2.06.94zm-11 1L8.5 8.5l.94-2.06 2.06-.94-2.06-.94L8.5 2.5l-.94 2.06-2.06.94zm10 10l.94 2.06.94-2.06 2.06-.94-2.06-.94-.94-2.06-.94 2.06-2.06.94z\"/><path d=\"M17.41 7.96l-1.37-1.37c-.4-.4-.92-.59-1.43-.59-.52 0-1.04.2-1.43.59L10.3 9.45l-7.72 7.72c-.78.78-.78 2.05 0 2.83L4 21.41c.39.39.9.59 1.41.59.51 0 1.02-.2 1.41-.59l7.78-7.78 2.81-2.81c.8-.78.8-2.07 0-2.86zM5.41 20L4 18.59l7.72-7.72 1.47 1.35L5.41 20z\"/>\n",
              "  </svg>\n",
              "      </button>\n",
              "      \n",
              "  <style>\n",
              "    .colab-df-container {\n",
              "      display:flex;\n",
              "      flex-wrap:wrap;\n",
              "      gap: 12px;\n",
              "    }\n",
              "\n",
              "    .colab-df-convert {\n",
              "      background-color: #E8F0FE;\n",
              "      border: none;\n",
              "      border-radius: 50%;\n",
              "      cursor: pointer;\n",
              "      display: none;\n",
              "      fill: #1967D2;\n",
              "      height: 32px;\n",
              "      padding: 0 0 0 0;\n",
              "      width: 32px;\n",
              "    }\n",
              "\n",
              "    .colab-df-convert:hover {\n",
              "      background-color: #E2EBFA;\n",
              "      box-shadow: 0px 1px 2px rgba(60, 64, 67, 0.3), 0px 1px 3px 1px rgba(60, 64, 67, 0.15);\n",
              "      fill: #174EA6;\n",
              "    }\n",
              "\n",
              "    [theme=dark] .colab-df-convert {\n",
              "      background-color: #3B4455;\n",
              "      fill: #D2E3FC;\n",
              "    }\n",
              "\n",
              "    [theme=dark] .colab-df-convert:hover {\n",
              "      background-color: #434B5C;\n",
              "      box-shadow: 0px 1px 3px 1px rgba(0, 0, 0, 0.15);\n",
              "      filter: drop-shadow(0px 1px 2px rgba(0, 0, 0, 0.3));\n",
              "      fill: #FFFFFF;\n",
              "    }\n",
              "  </style>\n",
              "\n",
              "      <script>\n",
              "        const buttonEl =\n",
              "          document.querySelector('#df-da178aee-1c0e-4e44-ab4b-49beaf4b19a8 button.colab-df-convert');\n",
              "        buttonEl.style.display =\n",
              "          google.colab.kernel.accessAllowed ? 'block' : 'none';\n",
              "\n",
              "        async function convertToInteractive(key) {\n",
              "          const element = document.querySelector('#df-da178aee-1c0e-4e44-ab4b-49beaf4b19a8');\n",
              "          const dataTable =\n",
              "            await google.colab.kernel.invokeFunction('convertToInteractive',\n",
              "                                                     [key], {});\n",
              "          if (!dataTable) return;\n",
              "\n",
              "          const docLinkHtml = 'Like what you see? Visit the ' +\n",
              "            '<a target=\"_blank\" href=https://colab.research.google.com/notebooks/data_table.ipynb>data table notebook</a>'\n",
              "            + ' to learn more about interactive tables.';\n",
              "          element.innerHTML = '';\n",
              "          dataTable['output_type'] = 'display_data';\n",
              "          await google.colab.output.renderOutput(dataTable, element);\n",
              "          const docLink = document.createElement('div');\n",
              "          docLink.innerHTML = docLinkHtml;\n",
              "          element.appendChild(docLink);\n",
              "        }\n",
              "      </script>\n",
              "    </div>\n",
              "  </div>\n",
              "  "
            ]
          },
          "metadata": {},
          "execution_count": 27
        }
      ],
      "source": [
        "df.head()"
      ]
    },
    {
      "cell_type": "code",
      "execution_count": 28,
      "id": "5cb1265a",
      "metadata": {
        "colab": {
          "base_uri": "https://localhost:8080/"
        },
        "id": "5cb1265a",
        "outputId": "858a6578-d1e1-4943-fb4c-8c6e051d79ad"
      },
      "outputs": [
        {
          "output_type": "execute_result",
          "data": {
            "text/plain": [
              "id              int64\n",
              "name           object\n",
              "genre          object\n",
              "description    object\n",
              "dtype: object"
            ]
          },
          "metadata": {},
          "execution_count": 28
        }
      ],
      "source": [
        "df.dtypes"
      ]
    },
    {
      "cell_type": "code",
      "execution_count": 29,
      "id": "e8507650",
      "metadata": {
        "colab": {
          "base_uri": "https://localhost:8080/"
        },
        "id": "e8507650",
        "outputId": "ba4e423e-6da2-4efe-f487-431dfdd77871"
      },
      "outputs": [
        {
          "output_type": "stream",
          "name": "stdout",
          "text": [
            "<class 'pandas.core.frame.DataFrame'>\n",
            "Int64Index: 12841 entries, 0 to 16558\n",
            "Data columns (total 4 columns):\n",
            " #   Column       Non-Null Count  Dtype \n",
            "---  ------       --------------  ----- \n",
            " 0   id           12841 non-null  int64 \n",
            " 1   name         12841 non-null  object\n",
            " 2   genre        12841 non-null  object\n",
            " 3   description  12841 non-null  object\n",
            "dtypes: int64(1), object(3)\n",
            "memory usage: 1017.6+ KB\n"
          ]
        }
      ],
      "source": [
        "df.info()"
      ]
    },
    {
      "cell_type": "code",
      "execution_count": 30,
      "id": "cf525c18",
      "metadata": {
        "colab": {
          "base_uri": "https://localhost:8080/"
        },
        "id": "cf525c18",
        "outputId": "364e63b3-b037-4ead-e130-6160c5ae4230"
      },
      "outputs": [
        {
          "output_type": "execute_result",
          "data": {
            "text/plain": [
              "(12841, 4)"
            ]
          },
          "metadata": {},
          "execution_count": 30
        }
      ],
      "source": [
        "df.shape"
      ]
    },
    {
      "cell_type": "code",
      "execution_count": 31,
      "id": "f7689445",
      "metadata": {
        "colab": {
          "base_uri": "https://localhost:8080/",
          "height": 300
        },
        "id": "f7689445",
        "outputId": "32d76b33-b7cd-4a3a-82e4-6aa246c90ce2"
      },
      "outputs": [
        {
          "output_type": "execute_result",
          "data": {
            "text/plain": [
              "                 id\n",
              "count  1.284100e+04\n",
              "mean   9.986379e+06\n",
              "std    9.032047e+06\n",
              "min    6.200000e+02\n",
              "25%    2.626115e+06\n",
              "50%    6.877746e+06\n",
              "75%    1.557749e+07\n",
              "max    3.715950e+07"
            ],
            "text/html": [
              "\n",
              "  <div id=\"df-4f085200-d5e7-4b69-8940-0229831a0ca5\">\n",
              "    <div class=\"colab-df-container\">\n",
              "      <div>\n",
              "<style scoped>\n",
              "    .dataframe tbody tr th:only-of-type {\n",
              "        vertical-align: middle;\n",
              "    }\n",
              "\n",
              "    .dataframe tbody tr th {\n",
              "        vertical-align: top;\n",
              "    }\n",
              "\n",
              "    .dataframe thead th {\n",
              "        text-align: right;\n",
              "    }\n",
              "</style>\n",
              "<table border=\"1\" class=\"dataframe\">\n",
              "  <thead>\n",
              "    <tr style=\"text-align: right;\">\n",
              "      <th></th>\n",
              "      <th>id</th>\n",
              "    </tr>\n",
              "  </thead>\n",
              "  <tbody>\n",
              "    <tr>\n",
              "      <th>count</th>\n",
              "      <td>1.284100e+04</td>\n",
              "    </tr>\n",
              "    <tr>\n",
              "      <th>mean</th>\n",
              "      <td>9.986379e+06</td>\n",
              "    </tr>\n",
              "    <tr>\n",
              "      <th>std</th>\n",
              "      <td>9.032047e+06</td>\n",
              "    </tr>\n",
              "    <tr>\n",
              "      <th>min</th>\n",
              "      <td>6.200000e+02</td>\n",
              "    </tr>\n",
              "    <tr>\n",
              "      <th>25%</th>\n",
              "      <td>2.626115e+06</td>\n",
              "    </tr>\n",
              "    <tr>\n",
              "      <th>50%</th>\n",
              "      <td>6.877746e+06</td>\n",
              "    </tr>\n",
              "    <tr>\n",
              "      <th>75%</th>\n",
              "      <td>1.557749e+07</td>\n",
              "    </tr>\n",
              "    <tr>\n",
              "      <th>max</th>\n",
              "      <td>3.715950e+07</td>\n",
              "    </tr>\n",
              "  </tbody>\n",
              "</table>\n",
              "</div>\n",
              "      <button class=\"colab-df-convert\" onclick=\"convertToInteractive('df-4f085200-d5e7-4b69-8940-0229831a0ca5')\"\n",
              "              title=\"Convert this dataframe to an interactive table.\"\n",
              "              style=\"display:none;\">\n",
              "        \n",
              "  <svg xmlns=\"http://www.w3.org/2000/svg\" height=\"24px\"viewBox=\"0 0 24 24\"\n",
              "       width=\"24px\">\n",
              "    <path d=\"M0 0h24v24H0V0z\" fill=\"none\"/>\n",
              "    <path d=\"M18.56 5.44l.94 2.06.94-2.06 2.06-.94-2.06-.94-.94-2.06-.94 2.06-2.06.94zm-11 1L8.5 8.5l.94-2.06 2.06-.94-2.06-.94L8.5 2.5l-.94 2.06-2.06.94zm10 10l.94 2.06.94-2.06 2.06-.94-2.06-.94-.94-2.06-.94 2.06-2.06.94z\"/><path d=\"M17.41 7.96l-1.37-1.37c-.4-.4-.92-.59-1.43-.59-.52 0-1.04.2-1.43.59L10.3 9.45l-7.72 7.72c-.78.78-.78 2.05 0 2.83L4 21.41c.39.39.9.59 1.41.59.51 0 1.02-.2 1.41-.59l7.78-7.78 2.81-2.81c.8-.78.8-2.07 0-2.86zM5.41 20L4 18.59l7.72-7.72 1.47 1.35L5.41 20z\"/>\n",
              "  </svg>\n",
              "      </button>\n",
              "      \n",
              "  <style>\n",
              "    .colab-df-container {\n",
              "      display:flex;\n",
              "      flex-wrap:wrap;\n",
              "      gap: 12px;\n",
              "    }\n",
              "\n",
              "    .colab-df-convert {\n",
              "      background-color: #E8F0FE;\n",
              "      border: none;\n",
              "      border-radius: 50%;\n",
              "      cursor: pointer;\n",
              "      display: none;\n",
              "      fill: #1967D2;\n",
              "      height: 32px;\n",
              "      padding: 0 0 0 0;\n",
              "      width: 32px;\n",
              "    }\n",
              "\n",
              "    .colab-df-convert:hover {\n",
              "      background-color: #E2EBFA;\n",
              "      box-shadow: 0px 1px 2px rgba(60, 64, 67, 0.3), 0px 1px 3px 1px rgba(60, 64, 67, 0.15);\n",
              "      fill: #174EA6;\n",
              "    }\n",
              "\n",
              "    [theme=dark] .colab-df-convert {\n",
              "      background-color: #3B4455;\n",
              "      fill: #D2E3FC;\n",
              "    }\n",
              "\n",
              "    [theme=dark] .colab-df-convert:hover {\n",
              "      background-color: #434B5C;\n",
              "      box-shadow: 0px 1px 3px 1px rgba(0, 0, 0, 0.15);\n",
              "      filter: drop-shadow(0px 1px 2px rgba(0, 0, 0, 0.3));\n",
              "      fill: #FFFFFF;\n",
              "    }\n",
              "  </style>\n",
              "\n",
              "      <script>\n",
              "        const buttonEl =\n",
              "          document.querySelector('#df-4f085200-d5e7-4b69-8940-0229831a0ca5 button.colab-df-convert');\n",
              "        buttonEl.style.display =\n",
              "          google.colab.kernel.accessAllowed ? 'block' : 'none';\n",
              "\n",
              "        async function convertToInteractive(key) {\n",
              "          const element = document.querySelector('#df-4f085200-d5e7-4b69-8940-0229831a0ca5');\n",
              "          const dataTable =\n",
              "            await google.colab.kernel.invokeFunction('convertToInteractive',\n",
              "                                                     [key], {});\n",
              "          if (!dataTable) return;\n",
              "\n",
              "          const docLinkHtml = 'Like what you see? Visit the ' +\n",
              "            '<a target=\"_blank\" href=https://colab.research.google.com/notebooks/data_table.ipynb>data table notebook</a>'\n",
              "            + ' to learn more about interactive tables.';\n",
              "          element.innerHTML = '';\n",
              "          dataTable['output_type'] = 'display_data';\n",
              "          await google.colab.output.renderOutput(dataTable, element);\n",
              "          const docLink = document.createElement('div');\n",
              "          docLink.innerHTML = docLinkHtml;\n",
              "          element.appendChild(docLink);\n",
              "        }\n",
              "      </script>\n",
              "    </div>\n",
              "  </div>\n",
              "  "
            ]
          },
          "metadata": {},
          "execution_count": 31
        }
      ],
      "source": [
        "df.describe()"
      ]
    },
    {
      "cell_type": "code",
      "execution_count": 32,
      "id": "55581b98",
      "metadata": {
        "colab": {
          "base_uri": "https://localhost:8080/"
        },
        "id": "55581b98",
        "outputId": "5fb681ad-1614-4250-bc2b-074eb48b5bd5"
      },
      "outputs": [
        {
          "output_type": "stream",
          "name": "stderr",
          "text": [
            "[nltk_data] Downloading package stopwords to /root/nltk_data...\n",
            "[nltk_data]   Unzipping corpora/stopwords.zip.\n",
            "[nltk_data] Downloading package words to /root/nltk_data...\n",
            "[nltk_data]   Unzipping corpora/words.zip.\n",
            "[nltk_data] Downloading package punkt to /root/nltk_data...\n",
            "[nltk_data]   Unzipping tokenizers/punkt.zip.\n"
          ]
        },
        {
          "output_type": "execute_result",
          "data": {
            "text/plain": [
              "True"
            ]
          },
          "metadata": {},
          "execution_count": 32
        }
      ],
      "source": [
        "import nltk\n",
        "from nltk.corpus import stopwords \n",
        "nltk.download('stopwords')\n",
        "nltk.download('words')\n",
        "nltk.download('punkt')"
      ]
    },
    {
      "cell_type": "code",
      "execution_count": 33,
      "id": "0b3b51cc",
      "metadata": {
        "id": "0b3b51cc"
      },
      "outputs": [],
      "source": [
        "from nltk.tokenize import word_tokenize"
      ]
    },
    {
      "cell_type": "markdown",
      "source": [
        "Removing stopwords from the description"
      ],
      "metadata": {
        "id": "F4aq2sSO-dWL"
      },
      "id": "F4aq2sSO-dWL"
    },
    {
      "cell_type": "code",
      "execution_count": 34,
      "id": "dfce7861",
      "metadata": {
        "id": "dfce7861"
      },
      "outputs": [],
      "source": [
        "def preprocess_SW(desc):\n",
        "    setSW = set(stopwords.words('english'))\n",
        "    tokens = word_tokenize(desc)\n",
        "    newDesc = [x for x in tokens if not x.lower() in setSW]\n",
        "    return ' '.join(newDesc)"
      ]
    },
    {
      "cell_type": "code",
      "execution_count": 35,
      "id": "7c83d55b",
      "metadata": {
        "colab": {
          "base_uri": "https://localhost:8080/",
          "height": 53
        },
        "id": "7c83d55b",
        "outputId": "9167da86-aaf1-46c8-d260-35dbef03c0e6"
      },
      "outputs": [
        {
          "output_type": "execute_result",
          "data": {
            "text/plain": [
              "'old major old boar manor farm calls animals farm meeting compares humans parasites teaches animals revolutionary song beasts england major dies two young pigs snowball napoleon assume command turn dream philosophy'"
            ],
            "application/vnd.google.colaboratory.intrinsic+json": {
              "type": "string"
            }
          },
          "metadata": {},
          "execution_count": 35
        }
      ],
      "source": [
        "preprocess_SW(\"old major the old boar on the manor farm calls the animals on the farm for a meeting where he compares the humans to parasites and teaches the animals a revolutionary song beasts of england when major dies two young pigs snowball and napoleon assume command and turn his dream into a philosophy\")"
      ]
    },
    {
      "cell_type": "code",
      "execution_count": 36,
      "id": "522410be",
      "metadata": {
        "id": "522410be"
      },
      "outputs": [],
      "source": [
        "df['description w/o SW'] = df['description'].apply(lambda x: preprocess_SW(x))"
      ]
    },
    {
      "cell_type": "code",
      "execution_count": 37,
      "id": "71faead0",
      "metadata": {
        "colab": {
          "base_uri": "https://localhost:8080/",
          "height": 206
        },
        "id": "71faead0",
        "outputId": "5e732cf6-dfe0-4574-a3d4-f97e58c7cd2e"
      },
      "outputs": [
        {
          "output_type": "execute_result",
          "data": {
            "text/plain": [
              "     id                            name  \\\n",
              "0   620                     Animal Farm   \n",
              "1   843              A Clockwork Orange   \n",
              "2   986                      The Plague   \n",
              "4  2080            A Fire Upon the Deep   \n",
              "5  2152  All Quiet on the Western Front   \n",
              "\n",
              "                                               genre  \\\n",
              "0  [Roman à clef, Satire, Children's literature, ...   \n",
              "1  [Science Fiction, Novella, Speculative fiction...   \n",
              "2  [Existentialism, Fiction, Absurdist fiction, N...   \n",
              "4  [Hard science fiction, Science Fiction, Specul...   \n",
              "5                          [War novel, Roman à clef]   \n",
              "\n",
              "                                         description  \\\n",
              "0  old major the old boar on the manor farm calls...   \n",
              "1  alex a teenager living in near future england ...   \n",
              "2  the text of the plague is divided into five pa...   \n",
              "4  the novel posits that space around the milky w...   \n",
              "5  the book tells the story of paul b umer a germ...   \n",
              "\n",
              "                                  description w/o SW  \n",
              "0  old major old boar manor farm calls animals fa...  \n",
              "1  alex teenager living near future england leads...  \n",
              "2  text plague divided five parts town oran thous...  \n",
              "4  novel posits space around milky way divided co...  \n",
              "5  book tells story paul b umer german soldier ur...  "
            ],
            "text/html": [
              "\n",
              "  <div id=\"df-9d2a90ea-7aa6-42e6-aa0c-def594253711\">\n",
              "    <div class=\"colab-df-container\">\n",
              "      <div>\n",
              "<style scoped>\n",
              "    .dataframe tbody tr th:only-of-type {\n",
              "        vertical-align: middle;\n",
              "    }\n",
              "\n",
              "    .dataframe tbody tr th {\n",
              "        vertical-align: top;\n",
              "    }\n",
              "\n",
              "    .dataframe thead th {\n",
              "        text-align: right;\n",
              "    }\n",
              "</style>\n",
              "<table border=\"1\" class=\"dataframe\">\n",
              "  <thead>\n",
              "    <tr style=\"text-align: right;\">\n",
              "      <th></th>\n",
              "      <th>id</th>\n",
              "      <th>name</th>\n",
              "      <th>genre</th>\n",
              "      <th>description</th>\n",
              "      <th>description w/o SW</th>\n",
              "    </tr>\n",
              "  </thead>\n",
              "  <tbody>\n",
              "    <tr>\n",
              "      <th>0</th>\n",
              "      <td>620</td>\n",
              "      <td>Animal Farm</td>\n",
              "      <td>[Roman à clef, Satire, Children's literature, ...</td>\n",
              "      <td>old major the old boar on the manor farm calls...</td>\n",
              "      <td>old major old boar manor farm calls animals fa...</td>\n",
              "    </tr>\n",
              "    <tr>\n",
              "      <th>1</th>\n",
              "      <td>843</td>\n",
              "      <td>A Clockwork Orange</td>\n",
              "      <td>[Science Fiction, Novella, Speculative fiction...</td>\n",
              "      <td>alex a teenager living in near future england ...</td>\n",
              "      <td>alex teenager living near future england leads...</td>\n",
              "    </tr>\n",
              "    <tr>\n",
              "      <th>2</th>\n",
              "      <td>986</td>\n",
              "      <td>The Plague</td>\n",
              "      <td>[Existentialism, Fiction, Absurdist fiction, N...</td>\n",
              "      <td>the text of the plague is divided into five pa...</td>\n",
              "      <td>text plague divided five parts town oran thous...</td>\n",
              "    </tr>\n",
              "    <tr>\n",
              "      <th>4</th>\n",
              "      <td>2080</td>\n",
              "      <td>A Fire Upon the Deep</td>\n",
              "      <td>[Hard science fiction, Science Fiction, Specul...</td>\n",
              "      <td>the novel posits that space around the milky w...</td>\n",
              "      <td>novel posits space around milky way divided co...</td>\n",
              "    </tr>\n",
              "    <tr>\n",
              "      <th>5</th>\n",
              "      <td>2152</td>\n",
              "      <td>All Quiet on the Western Front</td>\n",
              "      <td>[War novel, Roman à clef]</td>\n",
              "      <td>the book tells the story of paul b umer a germ...</td>\n",
              "      <td>book tells story paul b umer german soldier ur...</td>\n",
              "    </tr>\n",
              "  </tbody>\n",
              "</table>\n",
              "</div>\n",
              "      <button class=\"colab-df-convert\" onclick=\"convertToInteractive('df-9d2a90ea-7aa6-42e6-aa0c-def594253711')\"\n",
              "              title=\"Convert this dataframe to an interactive table.\"\n",
              "              style=\"display:none;\">\n",
              "        \n",
              "  <svg xmlns=\"http://www.w3.org/2000/svg\" height=\"24px\"viewBox=\"0 0 24 24\"\n",
              "       width=\"24px\">\n",
              "    <path d=\"M0 0h24v24H0V0z\" fill=\"none\"/>\n",
              "    <path d=\"M18.56 5.44l.94 2.06.94-2.06 2.06-.94-2.06-.94-.94-2.06-.94 2.06-2.06.94zm-11 1L8.5 8.5l.94-2.06 2.06-.94-2.06-.94L8.5 2.5l-.94 2.06-2.06.94zm10 10l.94 2.06.94-2.06 2.06-.94-2.06-.94-.94-2.06-.94 2.06-2.06.94z\"/><path d=\"M17.41 7.96l-1.37-1.37c-.4-.4-.92-.59-1.43-.59-.52 0-1.04.2-1.43.59L10.3 9.45l-7.72 7.72c-.78.78-.78 2.05 0 2.83L4 21.41c.39.39.9.59 1.41.59.51 0 1.02-.2 1.41-.59l7.78-7.78 2.81-2.81c.8-.78.8-2.07 0-2.86zM5.41 20L4 18.59l7.72-7.72 1.47 1.35L5.41 20z\"/>\n",
              "  </svg>\n",
              "      </button>\n",
              "      \n",
              "  <style>\n",
              "    .colab-df-container {\n",
              "      display:flex;\n",
              "      flex-wrap:wrap;\n",
              "      gap: 12px;\n",
              "    }\n",
              "\n",
              "    .colab-df-convert {\n",
              "      background-color: #E8F0FE;\n",
              "      border: none;\n",
              "      border-radius: 50%;\n",
              "      cursor: pointer;\n",
              "      display: none;\n",
              "      fill: #1967D2;\n",
              "      height: 32px;\n",
              "      padding: 0 0 0 0;\n",
              "      width: 32px;\n",
              "    }\n",
              "\n",
              "    .colab-df-convert:hover {\n",
              "      background-color: #E2EBFA;\n",
              "      box-shadow: 0px 1px 2px rgba(60, 64, 67, 0.3), 0px 1px 3px 1px rgba(60, 64, 67, 0.15);\n",
              "      fill: #174EA6;\n",
              "    }\n",
              "\n",
              "    [theme=dark] .colab-df-convert {\n",
              "      background-color: #3B4455;\n",
              "      fill: #D2E3FC;\n",
              "    }\n",
              "\n",
              "    [theme=dark] .colab-df-convert:hover {\n",
              "      background-color: #434B5C;\n",
              "      box-shadow: 0px 1px 3px 1px rgba(0, 0, 0, 0.15);\n",
              "      filter: drop-shadow(0px 1px 2px rgba(0, 0, 0, 0.3));\n",
              "      fill: #FFFFFF;\n",
              "    }\n",
              "  </style>\n",
              "\n",
              "      <script>\n",
              "        const buttonEl =\n",
              "          document.querySelector('#df-9d2a90ea-7aa6-42e6-aa0c-def594253711 button.colab-df-convert');\n",
              "        buttonEl.style.display =\n",
              "          google.colab.kernel.accessAllowed ? 'block' : 'none';\n",
              "\n",
              "        async function convertToInteractive(key) {\n",
              "          const element = document.querySelector('#df-9d2a90ea-7aa6-42e6-aa0c-def594253711');\n",
              "          const dataTable =\n",
              "            await google.colab.kernel.invokeFunction('convertToInteractive',\n",
              "                                                     [key], {});\n",
              "          if (!dataTable) return;\n",
              "\n",
              "          const docLinkHtml = 'Like what you see? Visit the ' +\n",
              "            '<a target=\"_blank\" href=https://colab.research.google.com/notebooks/data_table.ipynb>data table notebook</a>'\n",
              "            + ' to learn more about interactive tables.';\n",
              "          element.innerHTML = '';\n",
              "          dataTable['output_type'] = 'display_data';\n",
              "          await google.colab.output.renderOutput(dataTable, element);\n",
              "          const docLink = document.createElement('div');\n",
              "          docLink.innerHTML = docLinkHtml;\n",
              "          element.appendChild(docLink);\n",
              "        }\n",
              "      </script>\n",
              "    </div>\n",
              "  </div>\n",
              "  "
            ]
          },
          "metadata": {},
          "execution_count": 37
        }
      ],
      "source": [
        "df.head()"
      ]
    },
    {
      "cell_type": "code",
      "execution_count": 38,
      "id": "901ab587",
      "metadata": {
        "id": "901ab587"
      },
      "outputs": [],
      "source": [
        "from sklearn.preprocessing import MultiLabelBinarizer\n",
        "from sklearn.model_selection import train_test_split\n",
        "from sklearn.linear_model import LogisticRegression"
      ]
    },
    {
      "cell_type": "markdown",
      "source": [
        "Encoding multiple labels since each data point can belong to multiple classes"
      ],
      "metadata": {
        "id": "PRSH3Gus_I5p"
      },
      "id": "PRSH3Gus_I5p"
    },
    {
      "cell_type": "code",
      "execution_count": 39,
      "id": "0e1a9285",
      "metadata": {
        "id": "0e1a9285"
      },
      "outputs": [],
      "source": [
        "mBin = MultiLabelBinarizer()"
      ]
    },
    {
      "cell_type": "code",
      "execution_count": 40,
      "id": "f5480766",
      "metadata": {
        "colab": {
          "base_uri": "https://localhost:8080/",
          "height": 74
        },
        "id": "f5480766",
        "outputId": "f7da5591-239e-44ae-a4a0-a1cf9df8a84c"
      },
      "outputs": [
        {
          "output_type": "execute_result",
          "data": {
            "text/plain": [
              "MultiLabelBinarizer()"
            ],
            "text/html": [
              "<style>#sk-container-id-1 {color: black;background-color: white;}#sk-container-id-1 pre{padding: 0;}#sk-container-id-1 div.sk-toggleable {background-color: white;}#sk-container-id-1 label.sk-toggleable__label {cursor: pointer;display: block;width: 100%;margin-bottom: 0;padding: 0.3em;box-sizing: border-box;text-align: center;}#sk-container-id-1 label.sk-toggleable__label-arrow:before {content: \"▸\";float: left;margin-right: 0.25em;color: #696969;}#sk-container-id-1 label.sk-toggleable__label-arrow:hover:before {color: black;}#sk-container-id-1 div.sk-estimator:hover label.sk-toggleable__label-arrow:before {color: black;}#sk-container-id-1 div.sk-toggleable__content {max-height: 0;max-width: 0;overflow: hidden;text-align: left;background-color: #f0f8ff;}#sk-container-id-1 div.sk-toggleable__content pre {margin: 0.2em;color: black;border-radius: 0.25em;background-color: #f0f8ff;}#sk-container-id-1 input.sk-toggleable__control:checked~div.sk-toggleable__content {max-height: 200px;max-width: 100%;overflow: auto;}#sk-container-id-1 input.sk-toggleable__control:checked~label.sk-toggleable__label-arrow:before {content: \"▾\";}#sk-container-id-1 div.sk-estimator input.sk-toggleable__control:checked~label.sk-toggleable__label {background-color: #d4ebff;}#sk-container-id-1 div.sk-label input.sk-toggleable__control:checked~label.sk-toggleable__label {background-color: #d4ebff;}#sk-container-id-1 input.sk-hidden--visually {border: 0;clip: rect(1px 1px 1px 1px);clip: rect(1px, 1px, 1px, 1px);height: 1px;margin: -1px;overflow: hidden;padding: 0;position: absolute;width: 1px;}#sk-container-id-1 div.sk-estimator {font-family: monospace;background-color: #f0f8ff;border: 1px dotted black;border-radius: 0.25em;box-sizing: border-box;margin-bottom: 0.5em;}#sk-container-id-1 div.sk-estimator:hover {background-color: #d4ebff;}#sk-container-id-1 div.sk-parallel-item::after {content: \"\";width: 100%;border-bottom: 1px solid gray;flex-grow: 1;}#sk-container-id-1 div.sk-label:hover label.sk-toggleable__label {background-color: #d4ebff;}#sk-container-id-1 div.sk-serial::before {content: \"\";position: absolute;border-left: 1px solid gray;box-sizing: border-box;top: 0;bottom: 0;left: 50%;z-index: 0;}#sk-container-id-1 div.sk-serial {display: flex;flex-direction: column;align-items: center;background-color: white;padding-right: 0.2em;padding-left: 0.2em;position: relative;}#sk-container-id-1 div.sk-item {position: relative;z-index: 1;}#sk-container-id-1 div.sk-parallel {display: flex;align-items: stretch;justify-content: center;background-color: white;position: relative;}#sk-container-id-1 div.sk-item::before, #sk-container-id-1 div.sk-parallel-item::before {content: \"\";position: absolute;border-left: 1px solid gray;box-sizing: border-box;top: 0;bottom: 0;left: 50%;z-index: -1;}#sk-container-id-1 div.sk-parallel-item {display: flex;flex-direction: column;z-index: 1;position: relative;background-color: white;}#sk-container-id-1 div.sk-parallel-item:first-child::after {align-self: flex-end;width: 50%;}#sk-container-id-1 div.sk-parallel-item:last-child::after {align-self: flex-start;width: 50%;}#sk-container-id-1 div.sk-parallel-item:only-child::after {width: 0;}#sk-container-id-1 div.sk-dashed-wrapped {border: 1px dashed gray;margin: 0 0.4em 0.5em 0.4em;box-sizing: border-box;padding-bottom: 0.4em;background-color: white;}#sk-container-id-1 div.sk-label label {font-family: monospace;font-weight: bold;display: inline-block;line-height: 1.2em;}#sk-container-id-1 div.sk-label-container {text-align: center;}#sk-container-id-1 div.sk-container {/* jupyter's `normalize.less` sets `[hidden] { display: none; }` but bootstrap.min.css set `[hidden] { display: none !important; }` so we also need the `!important` here to be able to override the default hidden behavior on the sphinx rendered scikit-learn.org. See: https://github.com/scikit-learn/scikit-learn/issues/21755 */display: inline-block !important;position: relative;}#sk-container-id-1 div.sk-text-repr-fallback {display: none;}</style><div id=\"sk-container-id-1\" class=\"sk-top-container\"><div class=\"sk-text-repr-fallback\"><pre>MultiLabelBinarizer()</pre><b>In a Jupyter environment, please rerun this cell to show the HTML representation or trust the notebook. <br />On GitHub, the HTML representation is unable to render, please try loading this page with nbviewer.org.</b></div><div class=\"sk-container\" hidden><div class=\"sk-item\"><div class=\"sk-estimator sk-toggleable\"><input class=\"sk-toggleable__control sk-hidden--visually\" id=\"sk-estimator-id-1\" type=\"checkbox\" checked><label for=\"sk-estimator-id-1\" class=\"sk-toggleable__label sk-toggleable__label-arrow\">MultiLabelBinarizer</label><div class=\"sk-toggleable__content\"><pre>MultiLabelBinarizer()</pre></div></div></div></div></div>"
            ]
          },
          "metadata": {},
          "execution_count": 40
        }
      ],
      "source": [
        "mBin.fit(df['genre'])"
      ]
    },
    {
      "cell_type": "code",
      "execution_count": 41,
      "id": "c39d19e2",
      "metadata": {
        "id": "c39d19e2"
      },
      "outputs": [],
      "source": [
        "label = mBin.transform(df['genre'])"
      ]
    },
    {
      "cell_type": "markdown",
      "source": [
        "Splitting into training and testing data"
      ],
      "metadata": {
        "id": "bbcQm8ms_j7F"
      },
      "id": "bbcQm8ms_j7F"
    },
    {
      "cell_type": "code",
      "execution_count": 42,
      "id": "60ee4b51",
      "metadata": {
        "id": "60ee4b51"
      },
      "outputs": [],
      "source": [
        "trainData, testData, trainLabel, testLabel = train_test_split(df['description w/o SW'],label, random_state=0, train_size = .80)"
      ]
    },
    {
      "cell_type": "code",
      "execution_count": 43,
      "id": "127462c2",
      "metadata": {
        "id": "127462c2"
      },
      "outputs": [],
      "source": [
        "# plt.figure(figsize=(20,10))\n",
        "# sns.heatmap(corr, cmap='YlGnBu', annot=True)\n",
        "# plt.show()"
      ]
    },
    {
      "cell_type": "markdown",
      "source": [
        "Converting the input text to feature vectors"
      ],
      "metadata": {
        "id": "EkqBctbtAXm6"
      },
      "id": "EkqBctbtAXm6"
    },
    {
      "cell_type": "code",
      "source": [
        "from sklearn.feature_extraction.text import TfidfVectorizer"
      ],
      "metadata": {
        "id": "wxKgZVNukgz6"
      },
      "id": "wxKgZVNukgz6",
      "execution_count": 44,
      "outputs": []
    },
    {
      "cell_type": "code",
      "execution_count": 45,
      "id": "07ac3249",
      "metadata": {
        "id": "07ac3249"
      },
      "outputs": [],
      "source": [
        "tfidf_vectorizer = TfidfVectorizer(max_df=0.8, max_features=10000)\n",
        "trainData_v = tfidf_vectorizer.fit_transform(trainData)\n",
        "testData_v = tfidf_vectorizer.transform(testData)"
      ]
    },
    {
      "cell_type": "code",
      "source": [
        "from sklearn.multiclass import OneVsRestClassifier\n",
        "lr = LogisticRegression()\n",
        "clf = OneVsRestClassifier(lr)\n",
        "clf.fit(trainData_v, trainLabel)"
      ],
      "metadata": {
        "colab": {
          "base_uri": "https://localhost:8080/",
          "height": 117
        },
        "id": "bFpQK9mJkYnR",
        "outputId": "a59bc691-ac46-4418-d880-7fb15aedbfb0"
      },
      "id": "bFpQK9mJkYnR",
      "execution_count": 46,
      "outputs": [
        {
          "output_type": "execute_result",
          "data": {
            "text/plain": [
              "OneVsRestClassifier(estimator=LogisticRegression())"
            ],
            "text/html": [
              "<style>#sk-container-id-2 {color: black;background-color: white;}#sk-container-id-2 pre{padding: 0;}#sk-container-id-2 div.sk-toggleable {background-color: white;}#sk-container-id-2 label.sk-toggleable__label {cursor: pointer;display: block;width: 100%;margin-bottom: 0;padding: 0.3em;box-sizing: border-box;text-align: center;}#sk-container-id-2 label.sk-toggleable__label-arrow:before {content: \"▸\";float: left;margin-right: 0.25em;color: #696969;}#sk-container-id-2 label.sk-toggleable__label-arrow:hover:before {color: black;}#sk-container-id-2 div.sk-estimator:hover label.sk-toggleable__label-arrow:before {color: black;}#sk-container-id-2 div.sk-toggleable__content {max-height: 0;max-width: 0;overflow: hidden;text-align: left;background-color: #f0f8ff;}#sk-container-id-2 div.sk-toggleable__content pre {margin: 0.2em;color: black;border-radius: 0.25em;background-color: #f0f8ff;}#sk-container-id-2 input.sk-toggleable__control:checked~div.sk-toggleable__content {max-height: 200px;max-width: 100%;overflow: auto;}#sk-container-id-2 input.sk-toggleable__control:checked~label.sk-toggleable__label-arrow:before {content: \"▾\";}#sk-container-id-2 div.sk-estimator input.sk-toggleable__control:checked~label.sk-toggleable__label {background-color: #d4ebff;}#sk-container-id-2 div.sk-label input.sk-toggleable__control:checked~label.sk-toggleable__label {background-color: #d4ebff;}#sk-container-id-2 input.sk-hidden--visually {border: 0;clip: rect(1px 1px 1px 1px);clip: rect(1px, 1px, 1px, 1px);height: 1px;margin: -1px;overflow: hidden;padding: 0;position: absolute;width: 1px;}#sk-container-id-2 div.sk-estimator {font-family: monospace;background-color: #f0f8ff;border: 1px dotted black;border-radius: 0.25em;box-sizing: border-box;margin-bottom: 0.5em;}#sk-container-id-2 div.sk-estimator:hover {background-color: #d4ebff;}#sk-container-id-2 div.sk-parallel-item::after {content: \"\";width: 100%;border-bottom: 1px solid gray;flex-grow: 1;}#sk-container-id-2 div.sk-label:hover label.sk-toggleable__label {background-color: #d4ebff;}#sk-container-id-2 div.sk-serial::before {content: \"\";position: absolute;border-left: 1px solid gray;box-sizing: border-box;top: 0;bottom: 0;left: 50%;z-index: 0;}#sk-container-id-2 div.sk-serial {display: flex;flex-direction: column;align-items: center;background-color: white;padding-right: 0.2em;padding-left: 0.2em;position: relative;}#sk-container-id-2 div.sk-item {position: relative;z-index: 1;}#sk-container-id-2 div.sk-parallel {display: flex;align-items: stretch;justify-content: center;background-color: white;position: relative;}#sk-container-id-2 div.sk-item::before, #sk-container-id-2 div.sk-parallel-item::before {content: \"\";position: absolute;border-left: 1px solid gray;box-sizing: border-box;top: 0;bottom: 0;left: 50%;z-index: -1;}#sk-container-id-2 div.sk-parallel-item {display: flex;flex-direction: column;z-index: 1;position: relative;background-color: white;}#sk-container-id-2 div.sk-parallel-item:first-child::after {align-self: flex-end;width: 50%;}#sk-container-id-2 div.sk-parallel-item:last-child::after {align-self: flex-start;width: 50%;}#sk-container-id-2 div.sk-parallel-item:only-child::after {width: 0;}#sk-container-id-2 div.sk-dashed-wrapped {border: 1px dashed gray;margin: 0 0.4em 0.5em 0.4em;box-sizing: border-box;padding-bottom: 0.4em;background-color: white;}#sk-container-id-2 div.sk-label label {font-family: monospace;font-weight: bold;display: inline-block;line-height: 1.2em;}#sk-container-id-2 div.sk-label-container {text-align: center;}#sk-container-id-2 div.sk-container {/* jupyter's `normalize.less` sets `[hidden] { display: none; }` but bootstrap.min.css set `[hidden] { display: none !important; }` so we also need the `!important` here to be able to override the default hidden behavior on the sphinx rendered scikit-learn.org. See: https://github.com/scikit-learn/scikit-learn/issues/21755 */display: inline-block !important;position: relative;}#sk-container-id-2 div.sk-text-repr-fallback {display: none;}</style><div id=\"sk-container-id-2\" class=\"sk-top-container\"><div class=\"sk-text-repr-fallback\"><pre>OneVsRestClassifier(estimator=LogisticRegression())</pre><b>In a Jupyter environment, please rerun this cell to show the HTML representation or trust the notebook. <br />On GitHub, the HTML representation is unable to render, please try loading this page with nbviewer.org.</b></div><div class=\"sk-container\" hidden><div class=\"sk-item sk-dashed-wrapped\"><div class=\"sk-label-container\"><div class=\"sk-label sk-toggleable\"><input class=\"sk-toggleable__control sk-hidden--visually\" id=\"sk-estimator-id-2\" type=\"checkbox\" ><label for=\"sk-estimator-id-2\" class=\"sk-toggleable__label sk-toggleable__label-arrow\">OneVsRestClassifier</label><div class=\"sk-toggleable__content\"><pre>OneVsRestClassifier(estimator=LogisticRegression())</pre></div></div></div><div class=\"sk-parallel\"><div class=\"sk-parallel-item\"><div class=\"sk-item\"><div class=\"sk-label-container\"><div class=\"sk-label sk-toggleable\"><input class=\"sk-toggleable__control sk-hidden--visually\" id=\"sk-estimator-id-3\" type=\"checkbox\" ><label for=\"sk-estimator-id-3\" class=\"sk-toggleable__label sk-toggleable__label-arrow\">estimator: LogisticRegression</label><div class=\"sk-toggleable__content\"><pre>LogisticRegression()</pre></div></div></div><div class=\"sk-serial\"><div class=\"sk-item\"><div class=\"sk-estimator sk-toggleable\"><input class=\"sk-toggleable__control sk-hidden--visually\" id=\"sk-estimator-id-4\" type=\"checkbox\" ><label for=\"sk-estimator-id-4\" class=\"sk-toggleable__label sk-toggleable__label-arrow\">LogisticRegression</label><div class=\"sk-toggleable__content\"><pre>LogisticRegression()</pre></div></div></div></div></div></div></div></div></div></div>"
            ]
          },
          "metadata": {},
          "execution_count": 46
        }
      ]
    },
    {
      "cell_type": "code",
      "source": [
        "from sklearn.metrics import f1_score, accuracy_score"
      ],
      "metadata": {
        "id": "mg_yBB-JmFbk"
      },
      "id": "mg_yBB-JmFbk",
      "execution_count": 47,
      "outputs": []
    },
    {
      "cell_type": "code",
      "source": [
        "y_pred = clf.predict(testData_v)\n",
        "f1_score(testLabel, y_pred, average=\"micro\"), accuracy_score(testLabel, y_pred)"
      ],
      "metadata": {
        "colab": {
          "base_uri": "https://localhost:8080/"
        },
        "id": "fDJ2qYyglYQ5",
        "outputId": "b52358bd-961e-469c-a174-af1a8b3c482b"
      },
      "id": "fDJ2qYyglYQ5",
      "execution_count": 48,
      "outputs": [
        {
          "output_type": "execute_result",
          "data": {
            "text/plain": [
              "(0.3657861635220126, 0.08991825613079019)"
            ]
          },
          "metadata": {},
          "execution_count": 48
        }
      ]
    },
    {
      "cell_type": "code",
      "source": [
        "# pred_prob = clf.predict_proba(testData_v)"
      ],
      "metadata": {
        "id": "VkEF1QoBmH0B"
      },
      "id": "VkEF1QoBmH0B",
      "execution_count": 49,
      "outputs": []
    },
    {
      "cell_type": "code",
      "source": [
        "# t = 0.3\n",
        "# predp = (pred_prob >= t).astype(int)\n",
        "# f1_score(testLabel, predp, average=\"micro\"), accuracy_score(testLabel, predp)"
      ],
      "metadata": {
        "id": "cKt80K_rmuN2"
      },
      "id": "cKt80K_rmuN2",
      "execution_count": 50,
      "outputs": []
    },
    {
      "cell_type": "code",
      "source": [
        "def predict(m):\n",
        "    m = updateDescription(m)\n",
        "    m = preprocess_SW(m)\n",
        "    m_vec = tfidf_vectorizer.transform([m])\n",
        "    m_pred = clf.predict(m_vec)\n",
        "    return mBin.inverse_transform(m_pred)"
      ],
      "metadata": {
        "id": "pW0nekV2m2ni"
      },
      "id": "pW0nekV2m2ni",
      "execution_count": 51,
      "outputs": []
    },
    {
      "cell_type": "code",
      "source": [
        "# from random import sample\n",
        "# for i in range(10):\n",
        "#     k = sample(list(testData),0)\n",
        "#     print(\"Book: \", df['name'][k], \n",
        "#           \"\\nPredicted genre: \", predict(testData[k])) ,\n",
        "#     print(\"Actual genre: \",df['genre'][k], \"\\n\")"
      ],
      "metadata": {
        "id": "9qC5PTVToLIJ"
      },
      "id": "9qC5PTVToLIJ",
      "execution_count": 1,
      "outputs": []
    },
    {
      "cell_type": "code",
      "source": [
        "test_df = pd.DataFrame(testData)\n",
        "test_df.head()"
      ],
      "metadata": {
        "colab": {
          "base_uri": "https://localhost:8080/",
          "height": 206
        },
        "id": "-yYyWmx4ovyQ",
        "outputId": "4de711fa-6a76-41c1-a872-c1a3b16a77a4"
      },
      "id": "-yYyWmx4ovyQ",
      "execution_count": 52,
      "outputs": [
        {
          "output_type": "execute_result",
          "data": {
            "text/plain": [
              "                                      description w/o SW\n",
              "12457  incident saudi arabia touches world war iii un...\n",
              "1403   british risen power egypt suppress worship old...\n",
              "6325   year old annabel hope jayquith beautiful famou...\n",
              "11366  midsomer worthy writers circle group amateur n...\n",
              "4374   book follows jason worthing also known jazz bo..."
            ],
            "text/html": [
              "\n",
              "  <div id=\"df-54de7afc-d9a6-4cea-a8b4-c7e472135caf\">\n",
              "    <div class=\"colab-df-container\">\n",
              "      <div>\n",
              "<style scoped>\n",
              "    .dataframe tbody tr th:only-of-type {\n",
              "        vertical-align: middle;\n",
              "    }\n",
              "\n",
              "    .dataframe tbody tr th {\n",
              "        vertical-align: top;\n",
              "    }\n",
              "\n",
              "    .dataframe thead th {\n",
              "        text-align: right;\n",
              "    }\n",
              "</style>\n",
              "<table border=\"1\" class=\"dataframe\">\n",
              "  <thead>\n",
              "    <tr style=\"text-align: right;\">\n",
              "      <th></th>\n",
              "      <th>description w/o SW</th>\n",
              "    </tr>\n",
              "  </thead>\n",
              "  <tbody>\n",
              "    <tr>\n",
              "      <th>12457</th>\n",
              "      <td>incident saudi arabia touches world war iii un...</td>\n",
              "    </tr>\n",
              "    <tr>\n",
              "      <th>1403</th>\n",
              "      <td>british risen power egypt suppress worship old...</td>\n",
              "    </tr>\n",
              "    <tr>\n",
              "      <th>6325</th>\n",
              "      <td>year old annabel hope jayquith beautiful famou...</td>\n",
              "    </tr>\n",
              "    <tr>\n",
              "      <th>11366</th>\n",
              "      <td>midsomer worthy writers circle group amateur n...</td>\n",
              "    </tr>\n",
              "    <tr>\n",
              "      <th>4374</th>\n",
              "      <td>book follows jason worthing also known jazz bo...</td>\n",
              "    </tr>\n",
              "  </tbody>\n",
              "</table>\n",
              "</div>\n",
              "      <button class=\"colab-df-convert\" onclick=\"convertToInteractive('df-54de7afc-d9a6-4cea-a8b4-c7e472135caf')\"\n",
              "              title=\"Convert this dataframe to an interactive table.\"\n",
              "              style=\"display:none;\">\n",
              "        \n",
              "  <svg xmlns=\"http://www.w3.org/2000/svg\" height=\"24px\"viewBox=\"0 0 24 24\"\n",
              "       width=\"24px\">\n",
              "    <path d=\"M0 0h24v24H0V0z\" fill=\"none\"/>\n",
              "    <path d=\"M18.56 5.44l.94 2.06.94-2.06 2.06-.94-2.06-.94-.94-2.06-.94 2.06-2.06.94zm-11 1L8.5 8.5l.94-2.06 2.06-.94-2.06-.94L8.5 2.5l-.94 2.06-2.06.94zm10 10l.94 2.06.94-2.06 2.06-.94-2.06-.94-.94-2.06-.94 2.06-2.06.94z\"/><path d=\"M17.41 7.96l-1.37-1.37c-.4-.4-.92-.59-1.43-.59-.52 0-1.04.2-1.43.59L10.3 9.45l-7.72 7.72c-.78.78-.78 2.05 0 2.83L4 21.41c.39.39.9.59 1.41.59.51 0 1.02-.2 1.41-.59l7.78-7.78 2.81-2.81c.8-.78.8-2.07 0-2.86zM5.41 20L4 18.59l7.72-7.72 1.47 1.35L5.41 20z\"/>\n",
              "  </svg>\n",
              "      </button>\n",
              "      \n",
              "  <style>\n",
              "    .colab-df-container {\n",
              "      display:flex;\n",
              "      flex-wrap:wrap;\n",
              "      gap: 12px;\n",
              "    }\n",
              "\n",
              "    .colab-df-convert {\n",
              "      background-color: #E8F0FE;\n",
              "      border: none;\n",
              "      border-radius: 50%;\n",
              "      cursor: pointer;\n",
              "      display: none;\n",
              "      fill: #1967D2;\n",
              "      height: 32px;\n",
              "      padding: 0 0 0 0;\n",
              "      width: 32px;\n",
              "    }\n",
              "\n",
              "    .colab-df-convert:hover {\n",
              "      background-color: #E2EBFA;\n",
              "      box-shadow: 0px 1px 2px rgba(60, 64, 67, 0.3), 0px 1px 3px 1px rgba(60, 64, 67, 0.15);\n",
              "      fill: #174EA6;\n",
              "    }\n",
              "\n",
              "    [theme=dark] .colab-df-convert {\n",
              "      background-color: #3B4455;\n",
              "      fill: #D2E3FC;\n",
              "    }\n",
              "\n",
              "    [theme=dark] .colab-df-convert:hover {\n",
              "      background-color: #434B5C;\n",
              "      box-shadow: 0px 1px 3px 1px rgba(0, 0, 0, 0.15);\n",
              "      filter: drop-shadow(0px 1px 2px rgba(0, 0, 0, 0.3));\n",
              "      fill: #FFFFFF;\n",
              "    }\n",
              "  </style>\n",
              "\n",
              "      <script>\n",
              "        const buttonEl =\n",
              "          document.querySelector('#df-54de7afc-d9a6-4cea-a8b4-c7e472135caf button.colab-df-convert');\n",
              "        buttonEl.style.display =\n",
              "          google.colab.kernel.accessAllowed ? 'block' : 'none';\n",
              "\n",
              "        async function convertToInteractive(key) {\n",
              "          const element = document.querySelector('#df-54de7afc-d9a6-4cea-a8b4-c7e472135caf');\n",
              "          const dataTable =\n",
              "            await google.colab.kernel.invokeFunction('convertToInteractive',\n",
              "                                                     [key], {});\n",
              "          if (!dataTable) return;\n",
              "\n",
              "          const docLinkHtml = 'Like what you see? Visit the ' +\n",
              "            '<a target=\"_blank\" href=https://colab.research.google.com/notebooks/data_table.ipynb>data table notebook</a>'\n",
              "            + ' to learn more about interactive tables.';\n",
              "          element.innerHTML = '';\n",
              "          dataTable['output_type'] = 'display_data';\n",
              "          await google.colab.output.renderOutput(dataTable, element);\n",
              "          const docLink = document.createElement('div');\n",
              "          docLink.innerHTML = docLinkHtml;\n",
              "          element.appendChild(docLink);\n",
              "        }\n",
              "      </script>\n",
              "    </div>\n",
              "  </div>\n",
              "  "
            ]
          },
          "metadata": {},
          "execution_count": 52
        }
      ]
    },
    {
      "cell_type": "code",
      "source": [
        "predict(test_df['description w/o SW'][1403])"
      ],
      "metadata": {
        "colab": {
          "base_uri": "https://localhost:8080/"
        },
        "id": "-6qiqrYHo-1K",
        "outputId": "7b37a888-50f7-43a5-ad90-bf564e908310"
      },
      "id": "-6qiqrYHo-1K",
      "execution_count": 53,
      "outputs": [
        {
          "output_type": "execute_result",
          "data": {
            "text/plain": [
              "[('Speculative fiction',)]"
            ]
          },
          "metadata": {},
          "execution_count": 53
        }
      ]
    },
    {
      "cell_type": "code",
      "source": [
        "df['genre'][1403]"
      ],
      "metadata": {
        "colab": {
          "base_uri": "https://localhost:8080/"
        },
        "id": "dJuYjmD6sFTw",
        "outputId": "520edbac-db2a-47ed-d9a7-d63ed695cf77"
      },
      "id": "dJuYjmD6sFTw",
      "execution_count": 54,
      "outputs": [
        {
          "output_type": "execute_result",
          "data": {
            "text/plain": [
              "['Time travel', 'Speculative fiction', 'Fantasy', 'Steampunk']"
            ]
          },
          "metadata": {},
          "execution_count": 54
        }
      ]
    },
    {
      "cell_type": "code",
      "source": [
        "df['genre']"
      ],
      "metadata": {
        "colab": {
          "base_uri": "https://localhost:8080/"
        },
        "id": "-TrmaecwsTJS",
        "outputId": "a7faea04-2fdf-42b2-e1c5-fdfb24716929"
      },
      "id": "-TrmaecwsTJS",
      "execution_count": 55,
      "outputs": [
        {
          "output_type": "execute_result",
          "data": {
            "text/plain": [
              "0        [Roman à clef, Satire, Children's literature, ...\n",
              "1        [Science Fiction, Novella, Speculative fiction...\n",
              "2        [Existentialism, Fiction, Absurdist fiction, N...\n",
              "4        [Hard science fiction, Science Fiction, Specul...\n",
              "5                                [War novel, Roman à clef]\n",
              "                               ...                        \n",
              "16549                                    [Science Fiction]\n",
              "16551                        [Thriller, Fiction, Suspense]\n",
              "16555                                  [Thriller, Fiction]\n",
              "16556                                      [Autobiography]\n",
              "16558              [Epistolary novel, Speculative fiction]\n",
              "Name: genre, Length: 12841, dtype: object"
            ]
          },
          "metadata": {},
          "execution_count": 55
        }
      ]
    },
    {
      "cell_type": "code",
      "source": [
        "setOfgenre"
      ],
      "metadata": {
        "colab": {
          "base_uri": "https://localhost:8080/"
        },
        "id": "QTlv9lJKtRq1",
        "outputId": "f75f1cae-1ff3-450e-dfd5-8e1c5c8a092d"
      },
      "id": "QTlv9lJKtRq1",
      "execution_count": 56,
      "outputs": [
        {
          "output_type": "execute_result",
          "data": {
            "text/plain": [
              "{'Absurdist fiction',\n",
              " 'Adventure',\n",
              " 'Adventure novel',\n",
              " 'Albino bias',\n",
              " 'Alien invasion',\n",
              " 'Alternate history',\n",
              " 'American Gothic Fiction',\n",
              " 'Anthology',\n",
              " 'Anthropology',\n",
              " 'Anti-nuclear',\n",
              " 'Anti-war',\n",
              " 'Apocalyptic and post-apocalyptic fiction',\n",
              " 'Autobiographical comics',\n",
              " 'Autobiographical novel',\n",
              " 'Autobiography',\n",
              " 'Bangsian fantasy',\n",
              " 'Bildungsroman',\n",
              " 'Biographical novel',\n",
              " 'Biography',\n",
              " 'Biopunk',\n",
              " 'Bit Lit',\n",
              " 'Black comedy',\n",
              " \"Boys' school stories\",\n",
              " 'Business',\n",
              " 'Cabal',\n",
              " 'Campus novel',\n",
              " 'Catastrophic literature',\n",
              " 'Chick lit',\n",
              " \"Children's literature\",\n",
              " 'Chivalric romance',\n",
              " 'Collage',\n",
              " 'Colonial United States romance',\n",
              " 'Comedy',\n",
              " 'Comedy of manners',\n",
              " 'Comic book',\n",
              " 'Comic fantasy',\n",
              " 'Comic novel',\n",
              " 'Comic science fiction',\n",
              " 'Comics',\n",
              " 'Coming of age',\n",
              " 'Computer Science',\n",
              " 'Conspiracy',\n",
              " 'Conspiracy fiction',\n",
              " 'Contemporary fantasy',\n",
              " 'Cookbook',\n",
              " 'Cozy',\n",
              " 'Creative nonfiction',\n",
              " 'Crime Fiction',\n",
              " 'Cyberpunk',\n",
              " 'Dark fantasy',\n",
              " 'Detective fiction',\n",
              " 'Drama',\n",
              " 'Dying Earth subgenre',\n",
              " 'Dystopia',\n",
              " 'Economics',\n",
              " 'Edisonade',\n",
              " 'Education',\n",
              " 'Elizabethan romance',\n",
              " 'Encyclopedia',\n",
              " 'English public-school stories',\n",
              " 'Epic Science Fiction and Fantasy',\n",
              " 'Epistolary novel',\n",
              " 'Ergodic literature',\n",
              " 'Erotica',\n",
              " 'Essay',\n",
              " 'Existentialism',\n",
              " 'Experimental literature',\n",
              " 'Fable',\n",
              " 'Fairy tale',\n",
              " 'Fairytale fantasy',\n",
              " 'Fantastique',\n",
              " 'Fantasy',\n",
              " 'Fantasy of manners',\n",
              " 'Farce',\n",
              " 'Feminist science fiction',\n",
              " 'Fiction',\n",
              " 'Fictional crossover',\n",
              " 'Field guide',\n",
              " 'First-person narrative',\n",
              " 'Foreign legion',\n",
              " 'Future history',\n",
              " 'Gamebook',\n",
              " 'Gay Themed',\n",
              " 'Gay novel',\n",
              " 'Georgian romance',\n",
              " 'Ghost story',\n",
              " 'Gothic fiction',\n",
              " 'Graphic novel',\n",
              " 'Hard science fiction',\n",
              " 'Hardboiled',\n",
              " 'Heroic fantasy',\n",
              " 'High fantasy',\n",
              " 'Historical fantasy',\n",
              " 'Historical fiction',\n",
              " 'Historical novel',\n",
              " 'Historical romance',\n",
              " 'Historical whodunnit',\n",
              " 'History',\n",
              " 'Horror',\n",
              " 'Human extinction',\n",
              " 'Humour',\n",
              " 'Indian chick lit',\n",
              " 'Industrial novel',\n",
              " 'Inspirational',\n",
              " 'Invasion literature',\n",
              " 'Juvenile fantasy',\n",
              " 'Künstlerroman',\n",
              " 'LGBT literature',\n",
              " 'Light novel',\n",
              " 'Literary criticism',\n",
              " 'Literary fiction',\n",
              " 'Literary realism',\n",
              " 'Literary theory',\n",
              " 'Locked room mystery',\n",
              " 'Lost World',\n",
              " 'Low fantasy',\n",
              " 'Magic realism',\n",
              " 'Marketing',\n",
              " 'Mashup',\n",
              " 'Mathematics',\n",
              " 'Medieval romance',\n",
              " 'Memoir',\n",
              " 'Metaphysics',\n",
              " 'Military history',\n",
              " 'Military science fiction',\n",
              " 'Modernism',\n",
              " 'Morality play',\n",
              " 'Music',\n",
              " 'Mystery',\n",
              " 'Nature',\n",
              " 'Naval adventure',\n",
              " 'Neuroscience',\n",
              " 'New Weird',\n",
              " 'New York Times Best Seller list',\n",
              " 'Non-fiction',\n",
              " 'Non-fiction novel',\n",
              " 'Novel',\n",
              " 'Novella',\n",
              " 'Parallel novel',\n",
              " 'Paranormal romance',\n",
              " 'Parody',\n",
              " 'Pastiche',\n",
              " 'Personal journal',\n",
              " 'Philosophy',\n",
              " 'Photography',\n",
              " 'Picaresque novel',\n",
              " 'Picture book',\n",
              " 'Planetary romance',\n",
              " 'Play',\n",
              " 'Poetry',\n",
              " 'Polemic',\n",
              " 'Police procedural',\n",
              " 'Political philosophy',\n",
              " 'Politics',\n",
              " 'Popular culture',\n",
              " 'Popular science',\n",
              " 'Pornography',\n",
              " 'Post-holocaust',\n",
              " 'Postcyberpunk',\n",
              " 'Postmodernism',\n",
              " 'Prose',\n",
              " 'Prose poetry',\n",
              " 'Psychological novel',\n",
              " 'Psychology',\n",
              " 'Reference',\n",
              " 'Regency romance',\n",
              " 'Religion',\n",
              " 'Religious text',\n",
              " 'Robinsonade',\n",
              " 'Role-playing game',\n",
              " 'Roman à clef',\n",
              " 'Romance novel',\n",
              " 'Romantic comedy',\n",
              " 'Satire',\n",
              " 'School story',\n",
              " 'Science',\n",
              " 'Science Fiction',\n",
              " 'Science fantasy',\n",
              " 'Scientific romance',\n",
              " 'Sea story',\n",
              " 'Self-help',\n",
              " 'Serial',\n",
              " 'Short story',\n",
              " 'Social commentary',\n",
              " 'Social criticism',\n",
              " 'Social novel',\n",
              " 'Social science fiction',\n",
              " 'Social sciences',\n",
              " 'Sociology',\n",
              " 'Soft science fiction',\n",
              " 'Space opera',\n",
              " 'Space western',\n",
              " 'Speculative fiction',\n",
              " 'Spirituality',\n",
              " 'Sports',\n",
              " 'Spy fiction',\n",
              " 'Steampunk',\n",
              " 'Subterranean fiction',\n",
              " 'Superhero fiction',\n",
              " 'Supernatural',\n",
              " 'Suspense',\n",
              " 'Sword and planet',\n",
              " 'Sword and sorcery',\n",
              " 'Techno-thriller',\n",
              " 'Thriller',\n",
              " 'Time travel',\n",
              " 'Tragicomedy',\n",
              " 'Transgender and transsexual fiction',\n",
              " 'Transhumanism',\n",
              " 'Travel',\n",
              " 'Travel literature',\n",
              " 'Treatise',\n",
              " 'True crime',\n",
              " 'Urban fantasy',\n",
              " 'Urban fiction',\n",
              " 'Utopian and dystopian fiction',\n",
              " 'Utopian fiction',\n",
              " 'Vampire fiction',\n",
              " 'War novel',\n",
              " 'Western',\n",
              " 'Western fiction',\n",
              " 'Whodunit',\n",
              " 'Wuxia',\n",
              " 'Young adult literature',\n",
              " 'Youth',\n",
              " 'Zombie',\n",
              " 'Zombies in popular culture'}"
            ]
          },
          "metadata": {},
          "execution_count": 56
        }
      ]
    },
    {
      "cell_type": "markdown",
      "source": [
        "Grouping similar genres"
      ],
      "metadata": {
        "id": "yDp9zjuCFwDD"
      },
      "id": "yDp9zjuCFwDD"
    },
    {
      "cell_type": "code",
      "source": [
        "genre_ls = []\n",
        "for i in df['genre']:\n",
        "  ls = i.copy()\n",
        "  if 'Adventure novel' in ls:\n",
        "    ls.remove('Adventure novel')\n",
        "    ls.append('Adventure')\n",
        "  if 'Apocalyptic and post-apocalyptic fiction' in ls:\n",
        "    ls.remove('Apocalyptic and post-apocalyptic fiction')\n",
        "    ls.append('Speculative fiction')\n",
        "  if 'Autobiographical comics' in ls:\n",
        "    ls.remove('Autobiographical comics')\n",
        "    ls.append('Autobiography')\n",
        "  if 'Autobiographical novel' in ls:\n",
        "    ls.remove('Autobiographical novel')\n",
        "    ls.append('Autobiography')\n",
        "  if 'Biographical novel' in ls:\n",
        "    ls.remove('Biographical novel')\n",
        "    ls.append('Biography')\n",
        "  if 'Biopunk' in ls:\n",
        "    ls.remove('Biopunk')\n",
        "    ls.append('Science fiction')\n",
        "  if 'Cabal' in ls:\n",
        "    ls.remove('Cabal')\n",
        "    ls.append('Horror')\n",
        "  if 'Comedy of manners' in ls:\n",
        "    ls.remove('Comedy of manners')\n",
        "    ls.append('Comedy')\n",
        "  if 'Conspiracy fiction' in ls:\n",
        "    ls.remove('Conspiracy fiction')\n",
        "    ls.append('Conspiracy')\n",
        "  if 'Social commentary' in ls:\n",
        "    ls.remove('Social commentary')\n",
        "    ls.append('Sociology')\n",
        "  if 'Social criticism' in ls:\n",
        "    ls.remove('Social criticism')\n",
        "    ls.append('Sociology')\n",
        "  if 'Social novel' in ls:\n",
        "    ls.remove('Social novel')\n",
        "    ls.append('Sociology')\n",
        "  if 'Social science fiction' in ls:\n",
        "    ls.remove('Social science fiction')\n",
        "    ls.append('Sociology')\n",
        "  if 'Social sciences' in ls:\n",
        "    ls.remove('Social sciences')\n",
        "    ls.append('Sociology')\n",
        "  if 'Transhumanism' in ls:\n",
        "    ls.remove('Transhumanism')\n",
        "    ls.append('Philosophy')\n",
        "  if 'Treatise' in ls:\n",
        "    ls.remove('Treatise')\n",
        "    ls.append('Literature')\n",
        "  if 'True crime' in ls:\n",
        "    ls.remove('True crime')\n",
        "    ls.append('Crime')\n",
        "  if 'Urban fantasy' in ls:\n",
        "    ls.remove('Urban fantasy')\n",
        "    ls.append('Fantasy')\n",
        "  if 'Urban fiction' in ls:\n",
        "    ls.remove('Urban fiction')\n",
        "    ls.append('Dark')\n",
        "  if 'Utopian' in ls:\n",
        "    ls.remove('Utopian')\n",
        "    ls.append('Speculative fiction')\n",
        "  if 'Vampire' in ls:\n",
        "    ls.remove('Vampire')\n",
        "    ls.append('Horror')\n",
        "  if 'War' in ls:\n",
        "    ls.remove('War')\n",
        "    ls.append('Action')\n",
        "  if 'Whodunit' in ls:\n",
        "    ls.remove('Whodunit')\n",
        "    ls.append('Detective')\n",
        "  if 'Wuxia' in ls:\n",
        "    ls.remove('Wuxia')\n",
        "    ls.append('Chinese fiction')\n",
        "  if 'Youth' in ls:\n",
        "    ls.remove('Youth')\n",
        "    ls.append('Young Adult')\n",
        "  if 'Zombie' in ls:\n",
        "    ls.remove('Zombie')\n",
        "    ls.append('Horror')\n",
        "  if 'Speculative fiction' in ls:\n",
        "    if 'Fiction' in ls:\n",
        "      ls.remove('Fiction')\n",
        "  if 'Science fiction' in ls:\n",
        "    if 'Fiction' in ls:\n",
        "      ls.remove('Fiction')\n",
        "  genre_ls.append(ls)\n",
        "df['grouped-genre'] = genre_ls\n"
      ],
      "metadata": {
        "id": "4t3KNduEx4aw"
      },
      "id": "4t3KNduEx4aw",
      "execution_count": 124,
      "outputs": []
    },
    {
      "cell_type": "code",
      "source": [
        "df.head()"
      ],
      "metadata": {
        "colab": {
          "base_uri": "https://localhost:8080/",
          "height": 337
        },
        "id": "vTkQh2r_dAcV",
        "outputId": "4c1fe5c6-8cc8-4215-c9d6-bfecf716eb1c"
      },
      "id": "vTkQh2r_dAcV",
      "execution_count": 125,
      "outputs": [
        {
          "output_type": "execute_result",
          "data": {
            "text/plain": [
              "     id                            name  \\\n",
              "0   620                     Animal Farm   \n",
              "1   843              A Clockwork Orange   \n",
              "2   986                      The Plague   \n",
              "4  2080            A Fire Upon the Deep   \n",
              "5  2152  All Quiet on the Western Front   \n",
              "\n",
              "                                               genre  \\\n",
              "0  [Roman à clef, Satire, Children's literature, ...   \n",
              "1  [Science Fiction, Novella, Speculative fiction...   \n",
              "2  [Existentialism, Fiction, Absurdist fiction, N...   \n",
              "4  [Hard science fiction, Science Fiction, Specul...   \n",
              "5                          [War novel, Roman à clef]   \n",
              "\n",
              "                                         description  \\\n",
              "0  old major the old boar on the manor farm calls...   \n",
              "1  alex a teenager living in near future england ...   \n",
              "2  the text of the plague is divided into five pa...   \n",
              "4  the novel posits that space around the milky w...   \n",
              "5  the book tells the story of paul b umer a germ...   \n",
              "\n",
              "                                  description w/o SW  \\\n",
              "0  old major old boar manor farm calls animals fa...   \n",
              "1  alex teenager living near future england leads...   \n",
              "2  text plague divided five parts town oran thous...   \n",
              "4  novel posits space around milky way divided co...   \n",
              "5  book tells story paul b umer german soldier ur...   \n",
              "\n",
              "                                       grouped-genre  \n",
              "0  [Roman à clef, Satire, Children's literature, ...  \n",
              "1  [Science Fiction, Novella, Speculative fiction...  \n",
              "2  [Existentialism, Fiction, Absurdist fiction, N...  \n",
              "4  [Hard science fiction, Science Fiction, Specul...  \n",
              "5                          [War novel, Roman à clef]  "
            ],
            "text/html": [
              "\n",
              "  <div id=\"df-4f40811a-3dac-422d-8438-37a566591085\">\n",
              "    <div class=\"colab-df-container\">\n",
              "      <div>\n",
              "<style scoped>\n",
              "    .dataframe tbody tr th:only-of-type {\n",
              "        vertical-align: middle;\n",
              "    }\n",
              "\n",
              "    .dataframe tbody tr th {\n",
              "        vertical-align: top;\n",
              "    }\n",
              "\n",
              "    .dataframe thead th {\n",
              "        text-align: right;\n",
              "    }\n",
              "</style>\n",
              "<table border=\"1\" class=\"dataframe\">\n",
              "  <thead>\n",
              "    <tr style=\"text-align: right;\">\n",
              "      <th></th>\n",
              "      <th>id</th>\n",
              "      <th>name</th>\n",
              "      <th>genre</th>\n",
              "      <th>description</th>\n",
              "      <th>description w/o SW</th>\n",
              "      <th>grouped-genre</th>\n",
              "    </tr>\n",
              "  </thead>\n",
              "  <tbody>\n",
              "    <tr>\n",
              "      <th>0</th>\n",
              "      <td>620</td>\n",
              "      <td>Animal Farm</td>\n",
              "      <td>[Roman à clef, Satire, Children's literature, ...</td>\n",
              "      <td>old major the old boar on the manor farm calls...</td>\n",
              "      <td>old major old boar manor farm calls animals fa...</td>\n",
              "      <td>[Roman à clef, Satire, Children's literature, ...</td>\n",
              "    </tr>\n",
              "    <tr>\n",
              "      <th>1</th>\n",
              "      <td>843</td>\n",
              "      <td>A Clockwork Orange</td>\n",
              "      <td>[Science Fiction, Novella, Speculative fiction...</td>\n",
              "      <td>alex a teenager living in near future england ...</td>\n",
              "      <td>alex teenager living near future england leads...</td>\n",
              "      <td>[Science Fiction, Novella, Speculative fiction...</td>\n",
              "    </tr>\n",
              "    <tr>\n",
              "      <th>2</th>\n",
              "      <td>986</td>\n",
              "      <td>The Plague</td>\n",
              "      <td>[Existentialism, Fiction, Absurdist fiction, N...</td>\n",
              "      <td>the text of the plague is divided into five pa...</td>\n",
              "      <td>text plague divided five parts town oran thous...</td>\n",
              "      <td>[Existentialism, Fiction, Absurdist fiction, N...</td>\n",
              "    </tr>\n",
              "    <tr>\n",
              "      <th>4</th>\n",
              "      <td>2080</td>\n",
              "      <td>A Fire Upon the Deep</td>\n",
              "      <td>[Hard science fiction, Science Fiction, Specul...</td>\n",
              "      <td>the novel posits that space around the milky w...</td>\n",
              "      <td>novel posits space around milky way divided co...</td>\n",
              "      <td>[Hard science fiction, Science Fiction, Specul...</td>\n",
              "    </tr>\n",
              "    <tr>\n",
              "      <th>5</th>\n",
              "      <td>2152</td>\n",
              "      <td>All Quiet on the Western Front</td>\n",
              "      <td>[War novel, Roman à clef]</td>\n",
              "      <td>the book tells the story of paul b umer a germ...</td>\n",
              "      <td>book tells story paul b umer german soldier ur...</td>\n",
              "      <td>[War novel, Roman à clef]</td>\n",
              "    </tr>\n",
              "  </tbody>\n",
              "</table>\n",
              "</div>\n",
              "      <button class=\"colab-df-convert\" onclick=\"convertToInteractive('df-4f40811a-3dac-422d-8438-37a566591085')\"\n",
              "              title=\"Convert this dataframe to an interactive table.\"\n",
              "              style=\"display:none;\">\n",
              "        \n",
              "  <svg xmlns=\"http://www.w3.org/2000/svg\" height=\"24px\"viewBox=\"0 0 24 24\"\n",
              "       width=\"24px\">\n",
              "    <path d=\"M0 0h24v24H0V0z\" fill=\"none\"/>\n",
              "    <path d=\"M18.56 5.44l.94 2.06.94-2.06 2.06-.94-2.06-.94-.94-2.06-.94 2.06-2.06.94zm-11 1L8.5 8.5l.94-2.06 2.06-.94-2.06-.94L8.5 2.5l-.94 2.06-2.06.94zm10 10l.94 2.06.94-2.06 2.06-.94-2.06-.94-.94-2.06-.94 2.06-2.06.94z\"/><path d=\"M17.41 7.96l-1.37-1.37c-.4-.4-.92-.59-1.43-.59-.52 0-1.04.2-1.43.59L10.3 9.45l-7.72 7.72c-.78.78-.78 2.05 0 2.83L4 21.41c.39.39.9.59 1.41.59.51 0 1.02-.2 1.41-.59l7.78-7.78 2.81-2.81c.8-.78.8-2.07 0-2.86zM5.41 20L4 18.59l7.72-7.72 1.47 1.35L5.41 20z\"/>\n",
              "  </svg>\n",
              "      </button>\n",
              "      \n",
              "  <style>\n",
              "    .colab-df-container {\n",
              "      display:flex;\n",
              "      flex-wrap:wrap;\n",
              "      gap: 12px;\n",
              "    }\n",
              "\n",
              "    .colab-df-convert {\n",
              "      background-color: #E8F0FE;\n",
              "      border: none;\n",
              "      border-radius: 50%;\n",
              "      cursor: pointer;\n",
              "      display: none;\n",
              "      fill: #1967D2;\n",
              "      height: 32px;\n",
              "      padding: 0 0 0 0;\n",
              "      width: 32px;\n",
              "    }\n",
              "\n",
              "    .colab-df-convert:hover {\n",
              "      background-color: #E2EBFA;\n",
              "      box-shadow: 0px 1px 2px rgba(60, 64, 67, 0.3), 0px 1px 3px 1px rgba(60, 64, 67, 0.15);\n",
              "      fill: #174EA6;\n",
              "    }\n",
              "\n",
              "    [theme=dark] .colab-df-convert {\n",
              "      background-color: #3B4455;\n",
              "      fill: #D2E3FC;\n",
              "    }\n",
              "\n",
              "    [theme=dark] .colab-df-convert:hover {\n",
              "      background-color: #434B5C;\n",
              "      box-shadow: 0px 1px 3px 1px rgba(0, 0, 0, 0.15);\n",
              "      filter: drop-shadow(0px 1px 2px rgba(0, 0, 0, 0.3));\n",
              "      fill: #FFFFFF;\n",
              "    }\n",
              "  </style>\n",
              "\n",
              "      <script>\n",
              "        const buttonEl =\n",
              "          document.querySelector('#df-4f40811a-3dac-422d-8438-37a566591085 button.colab-df-convert');\n",
              "        buttonEl.style.display =\n",
              "          google.colab.kernel.accessAllowed ? 'block' : 'none';\n",
              "\n",
              "        async function convertToInteractive(key) {\n",
              "          const element = document.querySelector('#df-4f40811a-3dac-422d-8438-37a566591085');\n",
              "          const dataTable =\n",
              "            await google.colab.kernel.invokeFunction('convertToInteractive',\n",
              "                                                     [key], {});\n",
              "          if (!dataTable) return;\n",
              "\n",
              "          const docLinkHtml = 'Like what you see? Visit the ' +\n",
              "            '<a target=\"_blank\" href=https://colab.research.google.com/notebooks/data_table.ipynb>data table notebook</a>'\n",
              "            + ' to learn more about interactive tables.';\n",
              "          element.innerHTML = '';\n",
              "          dataTable['output_type'] = 'display_data';\n",
              "          await google.colab.output.renderOutput(dataTable, element);\n",
              "          const docLink = document.createElement('div');\n",
              "          docLink.innerHTML = docLinkHtml;\n",
              "          element.appendChild(docLink);\n",
              "        }\n",
              "      </script>\n",
              "    </div>\n",
              "  </div>\n",
              "  "
            ]
          },
          "metadata": {},
          "execution_count": 125
        }
      ]
    },
    {
      "cell_type": "code",
      "execution_count": 126,
      "metadata": {
        "id": "dKZlDbVOdlHU"
      },
      "outputs": [],
      "source": [
        "mBin = MultiLabelBinarizer()"
      ],
      "id": "dKZlDbVOdlHU"
    },
    {
      "cell_type": "code",
      "execution_count": 127,
      "metadata": {
        "colab": {
          "base_uri": "https://localhost:8080/",
          "height": 74
        },
        "outputId": "f1c4362e-16d1-4836-f8e1-a32225ae5236",
        "id": "DvcGpfEbdlHV"
      },
      "outputs": [
        {
          "output_type": "execute_result",
          "data": {
            "text/plain": [
              "MultiLabelBinarizer()"
            ],
            "text/html": [
              "<style>#sk-container-id-9 {color: black;background-color: white;}#sk-container-id-9 pre{padding: 0;}#sk-container-id-9 div.sk-toggleable {background-color: white;}#sk-container-id-9 label.sk-toggleable__label {cursor: pointer;display: block;width: 100%;margin-bottom: 0;padding: 0.3em;box-sizing: border-box;text-align: center;}#sk-container-id-9 label.sk-toggleable__label-arrow:before {content: \"▸\";float: left;margin-right: 0.25em;color: #696969;}#sk-container-id-9 label.sk-toggleable__label-arrow:hover:before {color: black;}#sk-container-id-9 div.sk-estimator:hover label.sk-toggleable__label-arrow:before {color: black;}#sk-container-id-9 div.sk-toggleable__content {max-height: 0;max-width: 0;overflow: hidden;text-align: left;background-color: #f0f8ff;}#sk-container-id-9 div.sk-toggleable__content pre {margin: 0.2em;color: black;border-radius: 0.25em;background-color: #f0f8ff;}#sk-container-id-9 input.sk-toggleable__control:checked~div.sk-toggleable__content {max-height: 200px;max-width: 100%;overflow: auto;}#sk-container-id-9 input.sk-toggleable__control:checked~label.sk-toggleable__label-arrow:before {content: \"▾\";}#sk-container-id-9 div.sk-estimator input.sk-toggleable__control:checked~label.sk-toggleable__label {background-color: #d4ebff;}#sk-container-id-9 div.sk-label input.sk-toggleable__control:checked~label.sk-toggleable__label {background-color: #d4ebff;}#sk-container-id-9 input.sk-hidden--visually {border: 0;clip: rect(1px 1px 1px 1px);clip: rect(1px, 1px, 1px, 1px);height: 1px;margin: -1px;overflow: hidden;padding: 0;position: absolute;width: 1px;}#sk-container-id-9 div.sk-estimator {font-family: monospace;background-color: #f0f8ff;border: 1px dotted black;border-radius: 0.25em;box-sizing: border-box;margin-bottom: 0.5em;}#sk-container-id-9 div.sk-estimator:hover {background-color: #d4ebff;}#sk-container-id-9 div.sk-parallel-item::after {content: \"\";width: 100%;border-bottom: 1px solid gray;flex-grow: 1;}#sk-container-id-9 div.sk-label:hover label.sk-toggleable__label {background-color: #d4ebff;}#sk-container-id-9 div.sk-serial::before {content: \"\";position: absolute;border-left: 1px solid gray;box-sizing: border-box;top: 0;bottom: 0;left: 50%;z-index: 0;}#sk-container-id-9 div.sk-serial {display: flex;flex-direction: column;align-items: center;background-color: white;padding-right: 0.2em;padding-left: 0.2em;position: relative;}#sk-container-id-9 div.sk-item {position: relative;z-index: 1;}#sk-container-id-9 div.sk-parallel {display: flex;align-items: stretch;justify-content: center;background-color: white;position: relative;}#sk-container-id-9 div.sk-item::before, #sk-container-id-9 div.sk-parallel-item::before {content: \"\";position: absolute;border-left: 1px solid gray;box-sizing: border-box;top: 0;bottom: 0;left: 50%;z-index: -1;}#sk-container-id-9 div.sk-parallel-item {display: flex;flex-direction: column;z-index: 1;position: relative;background-color: white;}#sk-container-id-9 div.sk-parallel-item:first-child::after {align-self: flex-end;width: 50%;}#sk-container-id-9 div.sk-parallel-item:last-child::after {align-self: flex-start;width: 50%;}#sk-container-id-9 div.sk-parallel-item:only-child::after {width: 0;}#sk-container-id-9 div.sk-dashed-wrapped {border: 1px dashed gray;margin: 0 0.4em 0.5em 0.4em;box-sizing: border-box;padding-bottom: 0.4em;background-color: white;}#sk-container-id-9 div.sk-label label {font-family: monospace;font-weight: bold;display: inline-block;line-height: 1.2em;}#sk-container-id-9 div.sk-label-container {text-align: center;}#sk-container-id-9 div.sk-container {/* jupyter's `normalize.less` sets `[hidden] { display: none; }` but bootstrap.min.css set `[hidden] { display: none !important; }` so we also need the `!important` here to be able to override the default hidden behavior on the sphinx rendered scikit-learn.org. See: https://github.com/scikit-learn/scikit-learn/issues/21755 */display: inline-block !important;position: relative;}#sk-container-id-9 div.sk-text-repr-fallback {display: none;}</style><div id=\"sk-container-id-9\" class=\"sk-top-container\"><div class=\"sk-text-repr-fallback\"><pre>MultiLabelBinarizer()</pre><b>In a Jupyter environment, please rerun this cell to show the HTML representation or trust the notebook. <br />On GitHub, the HTML representation is unable to render, please try loading this page with nbviewer.org.</b></div><div class=\"sk-container\" hidden><div class=\"sk-item\"><div class=\"sk-estimator sk-toggleable\"><input class=\"sk-toggleable__control sk-hidden--visually\" id=\"sk-estimator-id-17\" type=\"checkbox\" checked><label for=\"sk-estimator-id-17\" class=\"sk-toggleable__label sk-toggleable__label-arrow\">MultiLabelBinarizer</label><div class=\"sk-toggleable__content\"><pre>MultiLabelBinarizer()</pre></div></div></div></div></div>"
            ]
          },
          "metadata": {},
          "execution_count": 127
        }
      ],
      "source": [
        "mBin.fit(df['grouped-genre'])"
      ],
      "id": "DvcGpfEbdlHV"
    },
    {
      "cell_type": "code",
      "execution_count": 128,
      "metadata": {
        "id": "pkhcK7K-dlHW"
      },
      "outputs": [],
      "source": [
        "label = mBin.transform(df['grouped-genre'])"
      ],
      "id": "pkhcK7K-dlHW"
    },
    {
      "cell_type": "code",
      "execution_count": 129,
      "metadata": {
        "id": "ksM7t-xLdlHX"
      },
      "outputs": [],
      "source": [
        "trainData, testData, trainLabel, testLabel = train_test_split(df['description w/o SW'],label, random_state=0, train_size = .80)"
      ],
      "id": "ksM7t-xLdlHX"
    },
    {
      "cell_type": "code",
      "execution_count": 130,
      "metadata": {
        "id": "tlQRcVZDdlHX"
      },
      "outputs": [],
      "source": [
        "tfidf_vectorizer = TfidfVectorizer(max_df=0.8, max_features=10000)\n",
        "trainData_v = tfidf_vectorizer.fit_transform(trainData)\n",
        "testData_v = tfidf_vectorizer.transform(testData)"
      ],
      "id": "tlQRcVZDdlHX"
    },
    {
      "cell_type": "code",
      "source": [
        "from sklearn.multiclass import OneVsRestClassifier\n",
        "lr = LogisticRegression()\n",
        "clf = OneVsRestClassifier(lr)\n",
        "clf.fit(trainData_v, trainLabel)"
      ],
      "metadata": {
        "colab": {
          "base_uri": "https://localhost:8080/",
          "height": 117
        },
        "outputId": "7f093322-8759-442c-cee9-97eb6eaa2baf",
        "id": "cUeiHOOTdlHX"
      },
      "execution_count": 131,
      "outputs": [
        {
          "output_type": "execute_result",
          "data": {
            "text/plain": [
              "OneVsRestClassifier(estimator=LogisticRegression())"
            ],
            "text/html": [
              "<style>#sk-container-id-10 {color: black;background-color: white;}#sk-container-id-10 pre{padding: 0;}#sk-container-id-10 div.sk-toggleable {background-color: white;}#sk-container-id-10 label.sk-toggleable__label {cursor: pointer;display: block;width: 100%;margin-bottom: 0;padding: 0.3em;box-sizing: border-box;text-align: center;}#sk-container-id-10 label.sk-toggleable__label-arrow:before {content: \"▸\";float: left;margin-right: 0.25em;color: #696969;}#sk-container-id-10 label.sk-toggleable__label-arrow:hover:before {color: black;}#sk-container-id-10 div.sk-estimator:hover label.sk-toggleable__label-arrow:before {color: black;}#sk-container-id-10 div.sk-toggleable__content {max-height: 0;max-width: 0;overflow: hidden;text-align: left;background-color: #f0f8ff;}#sk-container-id-10 div.sk-toggleable__content pre {margin: 0.2em;color: black;border-radius: 0.25em;background-color: #f0f8ff;}#sk-container-id-10 input.sk-toggleable__control:checked~div.sk-toggleable__content {max-height: 200px;max-width: 100%;overflow: auto;}#sk-container-id-10 input.sk-toggleable__control:checked~label.sk-toggleable__label-arrow:before {content: \"▾\";}#sk-container-id-10 div.sk-estimator input.sk-toggleable__control:checked~label.sk-toggleable__label {background-color: #d4ebff;}#sk-container-id-10 div.sk-label input.sk-toggleable__control:checked~label.sk-toggleable__label {background-color: #d4ebff;}#sk-container-id-10 input.sk-hidden--visually {border: 0;clip: rect(1px 1px 1px 1px);clip: rect(1px, 1px, 1px, 1px);height: 1px;margin: -1px;overflow: hidden;padding: 0;position: absolute;width: 1px;}#sk-container-id-10 div.sk-estimator {font-family: monospace;background-color: #f0f8ff;border: 1px dotted black;border-radius: 0.25em;box-sizing: border-box;margin-bottom: 0.5em;}#sk-container-id-10 div.sk-estimator:hover {background-color: #d4ebff;}#sk-container-id-10 div.sk-parallel-item::after {content: \"\";width: 100%;border-bottom: 1px solid gray;flex-grow: 1;}#sk-container-id-10 div.sk-label:hover label.sk-toggleable__label {background-color: #d4ebff;}#sk-container-id-10 div.sk-serial::before {content: \"\";position: absolute;border-left: 1px solid gray;box-sizing: border-box;top: 0;bottom: 0;left: 50%;z-index: 0;}#sk-container-id-10 div.sk-serial {display: flex;flex-direction: column;align-items: center;background-color: white;padding-right: 0.2em;padding-left: 0.2em;position: relative;}#sk-container-id-10 div.sk-item {position: relative;z-index: 1;}#sk-container-id-10 div.sk-parallel {display: flex;align-items: stretch;justify-content: center;background-color: white;position: relative;}#sk-container-id-10 div.sk-item::before, #sk-container-id-10 div.sk-parallel-item::before {content: \"\";position: absolute;border-left: 1px solid gray;box-sizing: border-box;top: 0;bottom: 0;left: 50%;z-index: -1;}#sk-container-id-10 div.sk-parallel-item {display: flex;flex-direction: column;z-index: 1;position: relative;background-color: white;}#sk-container-id-10 div.sk-parallel-item:first-child::after {align-self: flex-end;width: 50%;}#sk-container-id-10 div.sk-parallel-item:last-child::after {align-self: flex-start;width: 50%;}#sk-container-id-10 div.sk-parallel-item:only-child::after {width: 0;}#sk-container-id-10 div.sk-dashed-wrapped {border: 1px dashed gray;margin: 0 0.4em 0.5em 0.4em;box-sizing: border-box;padding-bottom: 0.4em;background-color: white;}#sk-container-id-10 div.sk-label label {font-family: monospace;font-weight: bold;display: inline-block;line-height: 1.2em;}#sk-container-id-10 div.sk-label-container {text-align: center;}#sk-container-id-10 div.sk-container {/* jupyter's `normalize.less` sets `[hidden] { display: none; }` but bootstrap.min.css set `[hidden] { display: none !important; }` so we also need the `!important` here to be able to override the default hidden behavior on the sphinx rendered scikit-learn.org. See: https://github.com/scikit-learn/scikit-learn/issues/21755 */display: inline-block !important;position: relative;}#sk-container-id-10 div.sk-text-repr-fallback {display: none;}</style><div id=\"sk-container-id-10\" class=\"sk-top-container\"><div class=\"sk-text-repr-fallback\"><pre>OneVsRestClassifier(estimator=LogisticRegression())</pre><b>In a Jupyter environment, please rerun this cell to show the HTML representation or trust the notebook. <br />On GitHub, the HTML representation is unable to render, please try loading this page with nbviewer.org.</b></div><div class=\"sk-container\" hidden><div class=\"sk-item sk-dashed-wrapped\"><div class=\"sk-label-container\"><div class=\"sk-label sk-toggleable\"><input class=\"sk-toggleable__control sk-hidden--visually\" id=\"sk-estimator-id-18\" type=\"checkbox\" ><label for=\"sk-estimator-id-18\" class=\"sk-toggleable__label sk-toggleable__label-arrow\">OneVsRestClassifier</label><div class=\"sk-toggleable__content\"><pre>OneVsRestClassifier(estimator=LogisticRegression())</pre></div></div></div><div class=\"sk-parallel\"><div class=\"sk-parallel-item\"><div class=\"sk-item\"><div class=\"sk-label-container\"><div class=\"sk-label sk-toggleable\"><input class=\"sk-toggleable__control sk-hidden--visually\" id=\"sk-estimator-id-19\" type=\"checkbox\" ><label for=\"sk-estimator-id-19\" class=\"sk-toggleable__label sk-toggleable__label-arrow\">estimator: LogisticRegression</label><div class=\"sk-toggleable__content\"><pre>LogisticRegression()</pre></div></div></div><div class=\"sk-serial\"><div class=\"sk-item\"><div class=\"sk-estimator sk-toggleable\"><input class=\"sk-toggleable__control sk-hidden--visually\" id=\"sk-estimator-id-20\" type=\"checkbox\" ><label for=\"sk-estimator-id-20\" class=\"sk-toggleable__label sk-toggleable__label-arrow\">LogisticRegression</label><div class=\"sk-toggleable__content\"><pre>LogisticRegression()</pre></div></div></div></div></div></div></div></div></div></div>"
            ]
          },
          "metadata": {},
          "execution_count": 131
        }
      ],
      "id": "cUeiHOOTdlHX"
    },
    {
      "cell_type": "code",
      "source": [
        "y_pred = clf.predict(testData_v)\n",
        "f1_score(testLabel, y_pred, average=\"micro\"), accuracy_score(testLabel, y_pred)"
      ],
      "metadata": {
        "colab": {
          "base_uri": "https://localhost:8080/"
        },
        "outputId": "ee27256c-8929-4e9b-f43e-35dffaf8be37",
        "id": "UCj-5VmddlHY"
      },
      "execution_count": 132,
      "outputs": [
        {
          "output_type": "execute_result",
          "data": {
            "text/plain": [
              "(0.3559816590245936, 0.10548851693265862)"
            ]
          },
          "metadata": {},
          "execution_count": 132
        }
      ],
      "id": "UCj-5VmddlHY"
    },
    {
      "cell_type": "code",
      "source": [
        "pred_prob = clf.predict_proba(testData_v)"
      ],
      "metadata": {
        "id": "bNdtPcUigP5Q"
      },
      "execution_count": 133,
      "outputs": [],
      "id": "bNdtPcUigP5Q"
    },
    {
      "cell_type": "code",
      "source": [
        "t = 0.3\n",
        "predp = (pred_prob >= t).astype(int)\n",
        "f1_score(testLabel, predp, average=\"micro\"), accuracy_score(testLabel, predp)"
      ],
      "metadata": {
        "colab": {
          "base_uri": "https://localhost:8080/"
        },
        "outputId": "8d97ff1b-db87-4d73-838f-cdf85726f291",
        "id": "dsrG146dgP5R"
      },
      "execution_count": 134,
      "outputs": [
        {
          "output_type": "execute_result",
          "data": {
            "text/plain": [
              "(0.522585992540406, 0.16543402101985208)"
            ]
          },
          "metadata": {},
          "execution_count": 134
        }
      ],
      "id": "dsrG146dgP5R"
    },
    {
      "cell_type": "code",
      "source": [
        "def predict(m):\n",
        "    m = updateDescription(m)\n",
        "    m = preprocess_SW(m)\n",
        "    m_vec = tfidf_vectorizer.transform([m])\n",
        "    m_pred = clf.predict(m_vec)\n",
        "    return mBin.inverse_transform(m_pred)"
      ],
      "metadata": {
        "id": "ENE8BROtgP5R"
      },
      "execution_count": 116,
      "outputs": [],
      "id": "ENE8BROtgP5R"
    },
    {
      "cell_type": "code",
      "source": [
        "test_df = pd.DataFrame(testData)\n",
        "test_df.head(20)"
      ],
      "metadata": {
        "colab": {
          "base_uri": "https://localhost:8080/",
          "height": 676
        },
        "outputId": "ef977df0-0d86-4eca-ec0f-0ce6408f60fd",
        "id": "yu_XurDogP5S"
      },
      "execution_count": 117,
      "outputs": [
        {
          "output_type": "execute_result",
          "data": {
            "text/plain": [
              "                                      description w/o SW\n",
              "12457  incident saudi arabia touches world war iii un...\n",
              "1403   british risen power egypt suppress worship old...\n",
              "6325   year old annabel hope jayquith beautiful famou...\n",
              "11366  midsomer worthy writers circle group amateur n...\n",
              "4374   book follows jason worthing also known jazz bo...\n",
              "5335   moist von lipwig bored job postmaster general ...\n",
              "7494   agent pendergast visits medicine creek kansas ...\n",
              "427    story set primarily around melbourne australia...\n",
              "14619  october brother cadfael monk shrewsbury abbey ...\n",
              "10193  winter day dalton new england town near boston...\n",
              "608    novel opens prologue padre monty character sec...\n",
              "7102   molly trying fit new life daughter billionaire...\n",
              "2585   book begins anne gilberts wedding takes place ...\n",
              "5129   saving young woman rogue bodyguards angel hire...\n",
              "2810   th century humanity spread across galaxy first...\n",
              "15526  martin seymour australian news correspondent i...\n",
              "5046   first volume series lanny budd met family dutc...\n",
              "7435   redlaw teacher chemistry often broods wrongs d...\n",
              "9626   britain ruled children llyr penarddun giant ki...\n",
              "2069   sequence details various struggles power world..."
            ],
            "text/html": [
              "\n",
              "  <div id=\"df-470f7dfe-9942-47ab-8b55-7353a8fc9d28\">\n",
              "    <div class=\"colab-df-container\">\n",
              "      <div>\n",
              "<style scoped>\n",
              "    .dataframe tbody tr th:only-of-type {\n",
              "        vertical-align: middle;\n",
              "    }\n",
              "\n",
              "    .dataframe tbody tr th {\n",
              "        vertical-align: top;\n",
              "    }\n",
              "\n",
              "    .dataframe thead th {\n",
              "        text-align: right;\n",
              "    }\n",
              "</style>\n",
              "<table border=\"1\" class=\"dataframe\">\n",
              "  <thead>\n",
              "    <tr style=\"text-align: right;\">\n",
              "      <th></th>\n",
              "      <th>description w/o SW</th>\n",
              "    </tr>\n",
              "  </thead>\n",
              "  <tbody>\n",
              "    <tr>\n",
              "      <th>12457</th>\n",
              "      <td>incident saudi arabia touches world war iii un...</td>\n",
              "    </tr>\n",
              "    <tr>\n",
              "      <th>1403</th>\n",
              "      <td>british risen power egypt suppress worship old...</td>\n",
              "    </tr>\n",
              "    <tr>\n",
              "      <th>6325</th>\n",
              "      <td>year old annabel hope jayquith beautiful famou...</td>\n",
              "    </tr>\n",
              "    <tr>\n",
              "      <th>11366</th>\n",
              "      <td>midsomer worthy writers circle group amateur n...</td>\n",
              "    </tr>\n",
              "    <tr>\n",
              "      <th>4374</th>\n",
              "      <td>book follows jason worthing also known jazz bo...</td>\n",
              "    </tr>\n",
              "    <tr>\n",
              "      <th>5335</th>\n",
              "      <td>moist von lipwig bored job postmaster general ...</td>\n",
              "    </tr>\n",
              "    <tr>\n",
              "      <th>7494</th>\n",
              "      <td>agent pendergast visits medicine creek kansas ...</td>\n",
              "    </tr>\n",
              "    <tr>\n",
              "      <th>427</th>\n",
              "      <td>story set primarily around melbourne australia...</td>\n",
              "    </tr>\n",
              "    <tr>\n",
              "      <th>14619</th>\n",
              "      <td>october brother cadfael monk shrewsbury abbey ...</td>\n",
              "    </tr>\n",
              "    <tr>\n",
              "      <th>10193</th>\n",
              "      <td>winter day dalton new england town near boston...</td>\n",
              "    </tr>\n",
              "    <tr>\n",
              "      <th>608</th>\n",
              "      <td>novel opens prologue padre monty character sec...</td>\n",
              "    </tr>\n",
              "    <tr>\n",
              "      <th>7102</th>\n",
              "      <td>molly trying fit new life daughter billionaire...</td>\n",
              "    </tr>\n",
              "    <tr>\n",
              "      <th>2585</th>\n",
              "      <td>book begins anne gilberts wedding takes place ...</td>\n",
              "    </tr>\n",
              "    <tr>\n",
              "      <th>5129</th>\n",
              "      <td>saving young woman rogue bodyguards angel hire...</td>\n",
              "    </tr>\n",
              "    <tr>\n",
              "      <th>2810</th>\n",
              "      <td>th century humanity spread across galaxy first...</td>\n",
              "    </tr>\n",
              "    <tr>\n",
              "      <th>15526</th>\n",
              "      <td>martin seymour australian news correspondent i...</td>\n",
              "    </tr>\n",
              "    <tr>\n",
              "      <th>5046</th>\n",
              "      <td>first volume series lanny budd met family dutc...</td>\n",
              "    </tr>\n",
              "    <tr>\n",
              "      <th>7435</th>\n",
              "      <td>redlaw teacher chemistry often broods wrongs d...</td>\n",
              "    </tr>\n",
              "    <tr>\n",
              "      <th>9626</th>\n",
              "      <td>britain ruled children llyr penarddun giant ki...</td>\n",
              "    </tr>\n",
              "    <tr>\n",
              "      <th>2069</th>\n",
              "      <td>sequence details various struggles power world...</td>\n",
              "    </tr>\n",
              "  </tbody>\n",
              "</table>\n",
              "</div>\n",
              "      <button class=\"colab-df-convert\" onclick=\"convertToInteractive('df-470f7dfe-9942-47ab-8b55-7353a8fc9d28')\"\n",
              "              title=\"Convert this dataframe to an interactive table.\"\n",
              "              style=\"display:none;\">\n",
              "        \n",
              "  <svg xmlns=\"http://www.w3.org/2000/svg\" height=\"24px\"viewBox=\"0 0 24 24\"\n",
              "       width=\"24px\">\n",
              "    <path d=\"M0 0h24v24H0V0z\" fill=\"none\"/>\n",
              "    <path d=\"M18.56 5.44l.94 2.06.94-2.06 2.06-.94-2.06-.94-.94-2.06-.94 2.06-2.06.94zm-11 1L8.5 8.5l.94-2.06 2.06-.94-2.06-.94L8.5 2.5l-.94 2.06-2.06.94zm10 10l.94 2.06.94-2.06 2.06-.94-2.06-.94-.94-2.06-.94 2.06-2.06.94z\"/><path d=\"M17.41 7.96l-1.37-1.37c-.4-.4-.92-.59-1.43-.59-.52 0-1.04.2-1.43.59L10.3 9.45l-7.72 7.72c-.78.78-.78 2.05 0 2.83L4 21.41c.39.39.9.59 1.41.59.51 0 1.02-.2 1.41-.59l7.78-7.78 2.81-2.81c.8-.78.8-2.07 0-2.86zM5.41 20L4 18.59l7.72-7.72 1.47 1.35L5.41 20z\"/>\n",
              "  </svg>\n",
              "      </button>\n",
              "      \n",
              "  <style>\n",
              "    .colab-df-container {\n",
              "      display:flex;\n",
              "      flex-wrap:wrap;\n",
              "      gap: 12px;\n",
              "    }\n",
              "\n",
              "    .colab-df-convert {\n",
              "      background-color: #E8F0FE;\n",
              "      border: none;\n",
              "      border-radius: 50%;\n",
              "      cursor: pointer;\n",
              "      display: none;\n",
              "      fill: #1967D2;\n",
              "      height: 32px;\n",
              "      padding: 0 0 0 0;\n",
              "      width: 32px;\n",
              "    }\n",
              "\n",
              "    .colab-df-convert:hover {\n",
              "      background-color: #E2EBFA;\n",
              "      box-shadow: 0px 1px 2px rgba(60, 64, 67, 0.3), 0px 1px 3px 1px rgba(60, 64, 67, 0.15);\n",
              "      fill: #174EA6;\n",
              "    }\n",
              "\n",
              "    [theme=dark] .colab-df-convert {\n",
              "      background-color: #3B4455;\n",
              "      fill: #D2E3FC;\n",
              "    }\n",
              "\n",
              "    [theme=dark] .colab-df-convert:hover {\n",
              "      background-color: #434B5C;\n",
              "      box-shadow: 0px 1px 3px 1px rgba(0, 0, 0, 0.15);\n",
              "      filter: drop-shadow(0px 1px 2px rgba(0, 0, 0, 0.3));\n",
              "      fill: #FFFFFF;\n",
              "    }\n",
              "  </style>\n",
              "\n",
              "      <script>\n",
              "        const buttonEl =\n",
              "          document.querySelector('#df-470f7dfe-9942-47ab-8b55-7353a8fc9d28 button.colab-df-convert');\n",
              "        buttonEl.style.display =\n",
              "          google.colab.kernel.accessAllowed ? 'block' : 'none';\n",
              "\n",
              "        async function convertToInteractive(key) {\n",
              "          const element = document.querySelector('#df-470f7dfe-9942-47ab-8b55-7353a8fc9d28');\n",
              "          const dataTable =\n",
              "            await google.colab.kernel.invokeFunction('convertToInteractive',\n",
              "                                                     [key], {});\n",
              "          if (!dataTable) return;\n",
              "\n",
              "          const docLinkHtml = 'Like what you see? Visit the ' +\n",
              "            '<a target=\"_blank\" href=https://colab.research.google.com/notebooks/data_table.ipynb>data table notebook</a>'\n",
              "            + ' to learn more about interactive tables.';\n",
              "          element.innerHTML = '';\n",
              "          dataTable['output_type'] = 'display_data';\n",
              "          await google.colab.output.renderOutput(dataTable, element);\n",
              "          const docLink = document.createElement('div');\n",
              "          docLink.innerHTML = docLinkHtml;\n",
              "          element.appendChild(docLink);\n",
              "        }\n",
              "      </script>\n",
              "    </div>\n",
              "  </div>\n",
              "  "
            ]
          },
          "metadata": {},
          "execution_count": 117
        }
      ],
      "id": "yu_XurDogP5S"
    },
    {
      "cell_type": "code",
      "source": [
        "predict(test_df['description w/o SW'][15526])"
      ],
      "metadata": {
        "colab": {
          "base_uri": "https://localhost:8080/"
        },
        "outputId": "658c7dc0-9c57-4edd-f8ea-aec153f16901",
        "id": "d2hFCGz1gP5S"
      },
      "execution_count": 118,
      "outputs": [
        {
          "output_type": "execute_result",
          "data": {
            "text/plain": [
              "[('Science Fiction',)]"
            ]
          },
          "metadata": {},
          "execution_count": 118
        }
      ],
      "id": "d2hFCGz1gP5S"
    },
    {
      "cell_type": "code",
      "source": [
        "df['grouped-genre'][15526]"
      ],
      "metadata": {
        "colab": {
          "base_uri": "https://localhost:8080/"
        },
        "outputId": "131c92e8-4afb-4655-e373-cb47982b87a9",
        "id": "-JEC_i-SgP5S"
      },
      "execution_count": 119,
      "outputs": [
        {
          "output_type": "execute_result",
          "data": {
            "text/plain": [
              "['Science Fiction']"
            ]
          },
          "metadata": {},
          "execution_count": 119
        }
      ],
      "id": "-JEC_i-SgP5S"
    },
    {
      "cell_type": "code",
      "source": [
        "predict(test_df['description w/o SW'][2069])"
      ],
      "metadata": {
        "colab": {
          "base_uri": "https://localhost:8080/"
        },
        "id": "yS4CH2p0dU9u",
        "outputId": "5ffa3d19-a146-4040-f245-4f86e0add664"
      },
      "id": "yS4CH2p0dU9u",
      "execution_count": 95,
      "outputs": [
        {
          "output_type": "execute_result",
          "data": {
            "text/plain": [
              "[('Fantasy', 'Science Fiction', 'Speculative fiction')]"
            ]
          },
          "metadata": {},
          "execution_count": 95
        }
      ]
    },
    {
      "cell_type": "code",
      "source": [
        "df['grouped-genre'][2069]"
      ],
      "metadata": {
        "colab": {
          "base_uri": "https://localhost:8080/"
        },
        "id": "uivVb3OlHC3p",
        "outputId": "7a9882eb-a1f0-413e-c2b5-a7239e041bcd"
      },
      "id": "uivVb3OlHC3p",
      "execution_count": 96,
      "outputs": [
        {
          "output_type": "execute_result",
          "data": {
            "text/plain": [
              "['Science Fiction', 'Speculative fiction', 'Fantasy']"
            ]
          },
          "metadata": {},
          "execution_count": 96
        }
      ]
    },
    {
      "cell_type": "code",
      "source": [
        "predict(test_df['description w/o SW'][5129])"
      ],
      "metadata": {
        "colab": {
          "base_uri": "https://localhost:8080/"
        },
        "id": "531AVtSVHEND",
        "outputId": "cd19134e-a1b0-4b29-ed76-e4927ef21bc6"
      },
      "id": "531AVtSVHEND",
      "execution_count": 122,
      "outputs": [
        {
          "output_type": "execute_result",
          "data": {
            "text/plain": [
              "[('Fantasy', 'Horror', 'Science Fiction', 'Speculative fiction')]"
            ]
          },
          "metadata": {},
          "execution_count": 122
        }
      ]
    },
    {
      "cell_type": "code",
      "source": [
        "df['grouped-genre'][5129]"
      ],
      "metadata": {
        "colab": {
          "base_uri": "https://localhost:8080/"
        },
        "id": "7KGIl_bZIE-W",
        "outputId": "6a5f8d6b-4926-4542-8767-f5b619bd1654"
      },
      "id": "7KGIl_bZIE-W",
      "execution_count": 123,
      "outputs": [
        {
          "output_type": "execute_result",
          "data": {
            "text/plain": [
              "['Speculative fiction', 'Horror', \"Children's literature\"]"
            ]
          },
          "metadata": {},
          "execution_count": 123
        }
      ]
    },
    {
      "cell_type": "code",
      "source": [],
      "metadata": {
        "id": "Wyf1yM8OIHOc"
      },
      "id": "Wyf1yM8OIHOc",
      "execution_count": null,
      "outputs": []
    }
  ],
  "metadata": {
    "kernelspec": {
      "display_name": "Python 3 (ipykernel)",
      "language": "python",
      "name": "python3"
    },
    "language_info": {
      "codemirror_mode": {
        "name": "ipython",
        "version": 3
      },
      "file_extension": ".py",
      "mimetype": "text/x-python",
      "name": "python",
      "nbconvert_exporter": "python",
      "pygments_lexer": "ipython3",
      "version": "3.9.12"
    },
    "colab": {
      "provenance": []
    }
  },
  "nbformat": 4,
  "nbformat_minor": 5
}