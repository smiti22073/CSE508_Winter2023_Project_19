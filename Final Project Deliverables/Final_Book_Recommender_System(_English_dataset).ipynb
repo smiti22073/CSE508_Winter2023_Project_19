{
  "cells": [
    {
      "cell_type": "markdown",
      "source": [
        "# Music to Book (English)"
      ],
      "metadata": {
        "id": "TJWw_bvgwkGN"
      }
    },
    {
      "cell_type": "markdown",
      "source": [
        "# English songs dataset"
      ],
      "metadata": {
        "id": "oe584RMtwt5k"
      }
    },
    {
      "cell_type": "markdown",
      "source": [
        "# Step 1: Training the model for music genre classification"
      ],
      "metadata": {
        "id": "AFP_33cPw6TJ"
      }
    },
    {
      "cell_type": "code",
      "execution_count": null,
      "metadata": {
        "id": "cncC4k0UmTz_"
      },
      "outputs": [],
      "source": [
        "import numpy as np\n",
        "import pandas as pd"
      ]
    },
    {
      "cell_type": "code",
      "source": [
        "import librosa\n",
        "from librosa import feature"
      ],
      "metadata": {
        "id": "swhVCU2nbdzN"
      },
      "execution_count": null,
      "outputs": []
    },
    {
      "cell_type": "code",
      "execution_count": null,
      "metadata": {
        "id": "LU6WLvcfd5Ok"
      },
      "outputs": [],
      "source": [
        "import warnings\n",
        "warnings.filterwarnings('ignore')"
      ]
    },
    {
      "cell_type": "code",
      "execution_count": 2,
      "metadata": {
        "colab": {
          "base_uri": "https://localhost:8080/"
        },
        "id": "DRcft29A6HMB",
        "outputId": "d4731bef-3c7c-4613-8d7b-50d7d4115b9d"
      },
      "outputs": [
        {
          "output_type": "stream",
          "name": "stdout",
          "text": [
            "Mounted at /content/drive\n"
          ]
        }
      ],
      "source": [
        "from google.colab import drive\n",
        "drive.mount('/content/drive')"
      ]
    },
    {
      "cell_type": "code",
      "execution_count": null,
      "metadata": {
        "colab": {
          "base_uri": "https://localhost:8080/",
          "height": 36
        },
        "id": "cbgrPzI_N8Ck",
        "outputId": "6869269f-4e6e-4416-8174-f6d4cff438fe"
      },
      "outputs": [
        {
          "output_type": "execute_result",
          "data": {
            "text/plain": [
              "'/content'"
            ],
            "application/vnd.google.colaboratory.intrinsic+json": {
              "type": "string"
            }
          },
          "metadata": {},
          "execution_count": 3
        }
      ],
      "source": [
        "pwd"
      ]
    },
    {
      "cell_type": "code",
      "source": [
        "cd '/content/drive/MyDrive/IR_Project_Music/genres'"
      ],
      "metadata": {
        "colab": {
          "base_uri": "https://localhost:8080/"
        },
        "id": "kRyJmAMfwBg-",
        "outputId": "aac7238c-2988-46f6-e76a-d14094ce5528"
      },
      "execution_count": null,
      "outputs": [
        {
          "output_type": "stream",
          "name": "stdout",
          "text": [
            "/content/drive/MyDrive/IR_Project_Music/genres\n"
          ]
        }
      ]
    },
    {
      "cell_type": "code",
      "source": [
        "ls"
      ],
      "metadata": {
        "colab": {
          "base_uri": "https://localhost:8080/"
        },
        "id": "XULyH5_ovYY4",
        "outputId": "42edfe92-5056-4c39-bdb2-7f6690ab8856"
      },
      "execution_count": null,
      "outputs": [
        {
          "output_type": "stream",
          "name": "stdout",
          "text": [
            " all_features.csv         \u001b[0m\u001b[01;34mdisco\u001b[0m/                \u001b[01;34mreggae\u001b[0m/\n",
            " Best_English_GBM.pkl     disco_features.csv    reggae_features.csv\n",
            " Best_English_KNN.pkl     \u001b[01;34mhiphop\u001b[0m/               \u001b[01;34mrock\u001b[0m/\n",
            " Best_English_SVC.pkl     hiphop_features.csv   rock_features.csv\n",
            " \u001b[01;34mblues\u001b[0m/                   \u001b[01;34mjazz\u001b[0m/                \u001b[01;34m'Stay versions'\u001b[0m/\n",
            " blues_features.csv       jazz_features.csv     \u001b[01;34mtest_20\u001b[0m/\n",
            " \u001b[01;34mclassical\u001b[0m/               \u001b[01;34mmetal\u001b[0m/                \u001b[01;34mtest_data\u001b[0m/\n",
            " classical_features.csv   metal_features.csv    test_file_features.csv\n",
            " \u001b[01;34mcountry\u001b[0m/                 \u001b[01;34mpop\u001b[0m/\n",
            " country_features.csv     pop_features.csv\n"
          ]
        }
      ]
    },
    {
      "cell_type": "code",
      "execution_count": null,
      "metadata": {
        "id": "nZAqrGLq6tb2"
      },
      "outputs": [],
      "source": [
        "from glob import glob\n",
        "genre = ['blues', 'classical', 'country', 'disco', 'hiphop', 'jazz', 'metal','pop','reggae','rock'] "
      ]
    },
    {
      "cell_type": "code",
      "execution_count": null,
      "metadata": {
        "id": "6xm5AcphQW5K"
      },
      "outputs": [],
      "source": [
        "genre_audio_files = []\n",
        "for i in range(len(genre)):\n",
        "  genre_dir = genre[i] + \"/\"\n",
        "  genre_audio_files.append(glob(genre_dir + '*.au'))"
      ]
    },
    {
      "cell_type": "code",
      "execution_count": null,
      "metadata": {
        "colab": {
          "base_uri": "https://localhost:8080/"
        },
        "id": "MD4Hv2p4RH67",
        "outputId": "5d773e70-d848-45f1-d369-8f329723620c"
      },
      "outputs": [
        {
          "output_type": "stream",
          "name": "stdout",
          "text": [
            "Number of audios for blues : 100\n",
            "Number of audios for classical : 100\n",
            "Number of audios for country : 100\n",
            "Number of audios for disco : 100\n",
            "Number of audios for hiphop : 100\n",
            "Number of audios for jazz : 100\n",
            "Number of audios for metal : 100\n",
            "Number of audios for pop : 100\n",
            "Number of audios for reggae : 100\n",
            "Number of audios for rock : 100\n"
          ]
        }
      ],
      "source": [
        "for i in range(len(genre_audio_files)):\n",
        "  print('Number of audios for', genre[i], ':', len(genre_audio_files[i]))"
      ]
    },
    {
      "cell_type": "code",
      "execution_count": null,
      "metadata": {
        "id": "Gwjs9QafSFF7"
      },
      "outputs": [],
      "source": [
        "fn_list_i = [\n",
        "    librosa.onset.onset_strength,             \n",
        "    feature.chroma_stft,                       \n",
        "    feature.chroma_cqt,\n",
        "    feature.chroma_cens,\n",
        "    feature.melspectrogram,\n",
        "    feature.mfcc,\n",
        "    feature.spectral_centroid,\n",
        "    feature.spectral_bandwidth,\n",
        "    feature.spectral_contrast,\n",
        "    feature.spectral_rolloff,\n",
        "    feature.tonnetz\n",
        "]\n",
        "\n",
        "fn_list_ii = [\n",
        "    feature.zero_crossing_rate\n",
        "]\n",
        "\n",
        "def get_feature_vector(y,sr): \n",
        "   feat_vect_i = [ np.mean(funct(y,sr)) for funct in fn_list_i]\n",
        "   feat_vect_ii = [ np.mean(funct(y)) for funct in fn_list_ii] \n",
        "   feature_vector = feat_vect_i + feat_vect_ii \n",
        "   return feature_vector"
      ]
    },
    {
      "cell_type": "code",
      "execution_count": null,
      "metadata": {
        "id": "YTEPsHUiU4Ht"
      },
      "outputs": [],
      "source": [
        "columns = [\"Song_Name\", \"onset_strength\", \"chroma_stft\", \"chroma_cqt\", \"chroma_cens\", \"melspectrogram\", \"mfcc\",\t\n",
        "           \"spectral_centroid\" ,\"spectral_bandwidth\", \"spectral_contrast\", \"spectral_rolloff\",\t\"tonnetz\", \"zero_crossing_rate\"]"
      ]
    },
    {
      "cell_type": "code",
      "execution_count": null,
      "metadata": {
        "id": "iN_k_vhoVQPP"
      },
      "outputs": [],
      "source": [
        "from google.colab import files"
      ]
    },
    {
      "cell_type": "markdown",
      "metadata": {
        "id": "Fkf4SNEuapLh"
      },
      "source": [
        "### blues\n"
      ]
    },
    {
      "cell_type": "code",
      "source": [
        "pip freeze | grep librosa"
      ],
      "metadata": {
        "colab": {
          "base_uri": "https://localhost:8080/"
        },
        "id": "WlOwamLTGRW1",
        "outputId": "2128ea0e-f5e8-461a-9d00-7d140e0132d2"
      },
      "execution_count": null,
      "outputs": [
        {
          "output_type": "stream",
          "name": "stdout",
          "text": [
            "librosa==0.8.1\n"
          ]
        }
      ]
    },
    {
      "cell_type": "code",
      "source": [
        "pip install librosa==0.8.1"
      ],
      "metadata": {
        "colab": {
          "base_uri": "https://localhost:8080/",
          "height": 713
        },
        "id": "WgSksqD9GZJf",
        "outputId": "e39ddfaf-f0e8-48f4-98f4-d53e3af67296"
      },
      "execution_count": null,
      "outputs": [
        {
          "output_type": "stream",
          "name": "stdout",
          "text": [
            "Looking in indexes: https://pypi.org/simple, https://us-python.pkg.dev/colab-wheels/public/simple/\n",
            "Collecting librosa==0.8.1\n",
            "  Downloading librosa-0.8.1-py3-none-any.whl (203 kB)\n",
            "\u001b[2K     \u001b[90m━━━━━━━━━━━━━━━━━━━━━━━━━━━━━━━━━━━━━━\u001b[0m \u001b[32m203.8/203.8 kB\u001b[0m \u001b[31m10.6 MB/s\u001b[0m eta \u001b[36m0:00:00\u001b[0m\n",
            "\u001b[?25hRequirement already satisfied: joblib>=0.14 in /usr/local/lib/python3.9/dist-packages (from librosa==0.8.1) (1.2.0)\n",
            "Requirement already satisfied: numpy>=1.15.0 in /usr/local/lib/python3.9/dist-packages (from librosa==0.8.1) (1.22.4)\n",
            "Requirement already satisfied: soundfile>=0.10.2 in /usr/local/lib/python3.9/dist-packages (from librosa==0.8.1) (0.12.1)\n",
            "Requirement already satisfied: scikit-learn!=0.19.0,>=0.14.0 in /usr/local/lib/python3.9/dist-packages (from librosa==0.8.1) (1.2.2)\n",
            "Requirement already satisfied: numba>=0.43.0 in /usr/local/lib/python3.9/dist-packages (from librosa==0.8.1) (0.56.4)\n",
            "Requirement already satisfied: scipy>=1.0.0 in /usr/local/lib/python3.9/dist-packages (from librosa==0.8.1) (1.10.1)\n",
            "Requirement already satisfied: decorator>=3.0.0 in /usr/local/lib/python3.9/dist-packages (from librosa==0.8.1) (4.4.2)\n",
            "Requirement already satisfied: packaging>=20.0 in /usr/local/lib/python3.9/dist-packages (from librosa==0.8.1) (23.1)\n",
            "Collecting resampy>=0.2.2\n",
            "  Downloading resampy-0.4.2-py3-none-any.whl (3.1 MB)\n",
            "\u001b[2K     \u001b[90m━━━━━━━━━━━━━━━━━━━━━━━━━━━━━━━━━━━━━━━━\u001b[0m \u001b[32m3.1/3.1 MB\u001b[0m \u001b[31m55.0 MB/s\u001b[0m eta \u001b[36m0:00:00\u001b[0m\n",
            "\u001b[?25hRequirement already satisfied: audioread>=2.0.0 in /usr/local/lib/python3.9/dist-packages (from librosa==0.8.1) (3.0.0)\n",
            "Requirement already satisfied: pooch>=1.0 in /usr/local/lib/python3.9/dist-packages (from librosa==0.8.1) (1.6.0)\n",
            "Requirement already satisfied: llvmlite<0.40,>=0.39.0dev0 in /usr/local/lib/python3.9/dist-packages (from numba>=0.43.0->librosa==0.8.1) (0.39.1)\n",
            "Requirement already satisfied: setuptools in /usr/local/lib/python3.9/dist-packages (from numba>=0.43.0->librosa==0.8.1) (67.6.1)\n",
            "Requirement already satisfied: requests>=2.19.0 in /usr/local/lib/python3.9/dist-packages (from pooch>=1.0->librosa==0.8.1) (2.27.1)\n",
            "Requirement already satisfied: appdirs>=1.3.0 in /usr/local/lib/python3.9/dist-packages (from pooch>=1.0->librosa==0.8.1) (1.4.4)\n",
            "Requirement already satisfied: threadpoolctl>=2.0.0 in /usr/local/lib/python3.9/dist-packages (from scikit-learn!=0.19.0,>=0.14.0->librosa==0.8.1) (3.1.0)\n",
            "Requirement already satisfied: cffi>=1.0 in /usr/local/lib/python3.9/dist-packages (from soundfile>=0.10.2->librosa==0.8.1) (1.15.1)\n",
            "Requirement already satisfied: pycparser in /usr/local/lib/python3.9/dist-packages (from cffi>=1.0->soundfile>=0.10.2->librosa==0.8.1) (2.21)\n",
            "Requirement already satisfied: charset-normalizer~=2.0.0 in /usr/local/lib/python3.9/dist-packages (from requests>=2.19.0->pooch>=1.0->librosa==0.8.1) (2.0.12)\n",
            "Requirement already satisfied: certifi>=2017.4.17 in /usr/local/lib/python3.9/dist-packages (from requests>=2.19.0->pooch>=1.0->librosa==0.8.1) (2022.12.7)\n",
            "Requirement already satisfied: idna<4,>=2.5 in /usr/local/lib/python3.9/dist-packages (from requests>=2.19.0->pooch>=1.0->librosa==0.8.1) (3.4)\n",
            "Requirement already satisfied: urllib3<1.27,>=1.21.1 in /usr/local/lib/python3.9/dist-packages (from requests>=2.19.0->pooch>=1.0->librosa==0.8.1) (1.26.15)\n",
            "Installing collected packages: resampy, librosa\n",
            "  Attempting uninstall: librosa\n",
            "    Found existing installation: librosa 0.10.0.post2\n",
            "    Uninstalling librosa-0.10.0.post2:\n",
            "      Successfully uninstalled librosa-0.10.0.post2\n",
            "Successfully installed librosa-0.8.1 resampy-0.4.2\n"
          ]
        },
        {
          "output_type": "display_data",
          "data": {
            "application/vnd.colab-display-data+json": {
              "pip_warning": {
                "packages": [
                  "librosa"
                ]
              }
            }
          },
          "metadata": {}
        }
      ]
    },
    {
      "cell_type": "code",
      "source": [
        "song_features = []\n",
        "for file in genre_audio_files[0]:\n",
        "  '''\n",
        "  y is the time series array of the audio file, a 1D np.ndarray\n",
        "  sr is the sampling rate, a number\n",
        "  '''  \n",
        "  y,sr = librosa.load(file,sr=None)   \n",
        "  feature_vector = get_feature_vector(y, sr)\n",
        "  song_features.append([file] + feature_vector)\n",
        "df = pd.DataFrame(song_features, columns=columns)\n",
        "file_name = genre[0] + '_features.csv'\n",
        "df.to_csv(file_name)\n",
        "files.download(file_name)"
      ],
      "metadata": {
        "id": "hgg5jGriOVSz",
        "colab": {
          "base_uri": "https://localhost:8080/",
          "height": 17
        },
        "outputId": "abdac586-26d7-4e52-8917-b5318f3c1df1"
      },
      "execution_count": null,
      "outputs": [
        {
          "output_type": "display_data",
          "data": {
            "text/plain": [
              "<IPython.core.display.Javascript object>"
            ],
            "application/javascript": [
              "\n",
              "    async function download(id, filename, size) {\n",
              "      if (!google.colab.kernel.accessAllowed) {\n",
              "        return;\n",
              "      }\n",
              "      const div = document.createElement('div');\n",
              "      const label = document.createElement('label');\n",
              "      label.textContent = `Downloading \"${filename}\": `;\n",
              "      div.appendChild(label);\n",
              "      const progress = document.createElement('progress');\n",
              "      progress.max = size;\n",
              "      div.appendChild(progress);\n",
              "      document.body.appendChild(div);\n",
              "\n",
              "      const buffers = [];\n",
              "      let downloaded = 0;\n",
              "\n",
              "      const channel = await google.colab.kernel.comms.open(id);\n",
              "      // Send a message to notify the kernel that we're ready.\n",
              "      channel.send({})\n",
              "\n",
              "      for await (const message of channel.messages) {\n",
              "        // Send a message to notify the kernel that we're ready.\n",
              "        channel.send({})\n",
              "        if (message.buffers) {\n",
              "          for (const buffer of message.buffers) {\n",
              "            buffers.push(buffer);\n",
              "            downloaded += buffer.byteLength;\n",
              "            progress.value = downloaded;\n",
              "          }\n",
              "        }\n",
              "      }\n",
              "      const blob = new Blob(buffers, {type: 'application/binary'});\n",
              "      const a = document.createElement('a');\n",
              "      a.href = window.URL.createObjectURL(blob);\n",
              "      a.download = filename;\n",
              "      div.appendChild(a);\n",
              "      a.click();\n",
              "      div.remove();\n",
              "    }\n",
              "  "
            ]
          },
          "metadata": {}
        },
        {
          "output_type": "display_data",
          "data": {
            "text/plain": [
              "<IPython.core.display.Javascript object>"
            ],
            "application/javascript": [
              "download(\"download_52400720-73cc-45d4-a05f-efe2847b13dd\", \"blues_features.csv\", 21197)"
            ]
          },
          "metadata": {}
        }
      ]
    },
    {
      "cell_type": "markdown",
      "metadata": {
        "id": "nb5Ra86hGh0K"
      },
      "source": [
        "### classical"
      ]
    },
    {
      "cell_type": "code",
      "execution_count": null,
      "metadata": {
        "colab": {
          "base_uri": "https://localhost:8080/",
          "height": 17
        },
        "id": "QumzUcQSH-8S",
        "outputId": "63341d35-70f7-4f99-b3c9-fe969f70f485"
      },
      "outputs": [
        {
          "output_type": "display_data",
          "data": {
            "text/plain": [
              "<IPython.core.display.Javascript object>"
            ],
            "application/javascript": [
              "\n",
              "    async function download(id, filename, size) {\n",
              "      if (!google.colab.kernel.accessAllowed) {\n",
              "        return;\n",
              "      }\n",
              "      const div = document.createElement('div');\n",
              "      const label = document.createElement('label');\n",
              "      label.textContent = `Downloading \"${filename}\": `;\n",
              "      div.appendChild(label);\n",
              "      const progress = document.createElement('progress');\n",
              "      progress.max = size;\n",
              "      div.appendChild(progress);\n",
              "      document.body.appendChild(div);\n",
              "\n",
              "      const buffers = [];\n",
              "      let downloaded = 0;\n",
              "\n",
              "      const channel = await google.colab.kernel.comms.open(id);\n",
              "      // Send a message to notify the kernel that we're ready.\n",
              "      channel.send({})\n",
              "\n",
              "      for await (const message of channel.messages) {\n",
              "        // Send a message to notify the kernel that we're ready.\n",
              "        channel.send({})\n",
              "        if (message.buffers) {\n",
              "          for (const buffer of message.buffers) {\n",
              "            buffers.push(buffer);\n",
              "            downloaded += buffer.byteLength;\n",
              "            progress.value = downloaded;\n",
              "          }\n",
              "        }\n",
              "      }\n",
              "      const blob = new Blob(buffers, {type: 'application/binary'});\n",
              "      const a = document.createElement('a');\n",
              "      a.href = window.URL.createObjectURL(blob);\n",
              "      a.download = filename;\n",
              "      div.appendChild(a);\n",
              "      a.click();\n",
              "      div.remove();\n",
              "    }\n",
              "  "
            ]
          },
          "metadata": {}
        },
        {
          "output_type": "display_data",
          "data": {
            "text/plain": [
              "<IPython.core.display.Javascript object>"
            ],
            "application/javascript": [
              "download(\"download_85002fc9-28ae-43b5-9721-a21a25c428ef\", \"classical_features.csv\", 22126)"
            ]
          },
          "metadata": {}
        }
      ],
      "source": [
        "song_features = []\n",
        "for file in genre_audio_files[1]:\n",
        "  '''\n",
        "  y is the time series array of the audio file, a 1D np.ndarray\n",
        "  sr is the sampling rate, a number\n",
        "  '''  \n",
        "  y,sr = librosa.load(file,sr=None)   \n",
        "  feature_vector = get_feature_vector(y, sr)\n",
        "  song_features.append([file] + feature_vector)\n",
        "df = pd.DataFrame(song_features, columns=columns)\n",
        "file_name = genre[1] + '_features.csv'\n",
        "df.to_csv(file_name)\n",
        "files.download(file_name)"
      ]
    },
    {
      "cell_type": "markdown",
      "metadata": {
        "id": "4VXykj7JZHC4"
      },
      "source": [
        "### country"
      ]
    },
    {
      "cell_type": "code",
      "execution_count": null,
      "metadata": {
        "id": "lSsPxFY0ZK0X",
        "colab": {
          "base_uri": "https://localhost:8080/",
          "height": 17
        },
        "outputId": "749db44a-3a53-4784-af87-a08ea61e2543"
      },
      "outputs": [
        {
          "output_type": "display_data",
          "data": {
            "text/plain": [
              "<IPython.core.display.Javascript object>"
            ],
            "application/javascript": [
              "\n",
              "    async function download(id, filename, size) {\n",
              "      if (!google.colab.kernel.accessAllowed) {\n",
              "        return;\n",
              "      }\n",
              "      const div = document.createElement('div');\n",
              "      const label = document.createElement('label');\n",
              "      label.textContent = `Downloading \"${filename}\": `;\n",
              "      div.appendChild(label);\n",
              "      const progress = document.createElement('progress');\n",
              "      progress.max = size;\n",
              "      div.appendChild(progress);\n",
              "      document.body.appendChild(div);\n",
              "\n",
              "      const buffers = [];\n",
              "      let downloaded = 0;\n",
              "\n",
              "      const channel = await google.colab.kernel.comms.open(id);\n",
              "      // Send a message to notify the kernel that we're ready.\n",
              "      channel.send({})\n",
              "\n",
              "      for await (const message of channel.messages) {\n",
              "        // Send a message to notify the kernel that we're ready.\n",
              "        channel.send({})\n",
              "        if (message.buffers) {\n",
              "          for (const buffer of message.buffers) {\n",
              "            buffers.push(buffer);\n",
              "            downloaded += buffer.byteLength;\n",
              "            progress.value = downloaded;\n",
              "          }\n",
              "        }\n",
              "      }\n",
              "      const blob = new Blob(buffers, {type: 'application/binary'});\n",
              "      const a = document.createElement('a');\n",
              "      a.href = window.URL.createObjectURL(blob);\n",
              "      a.download = filename;\n",
              "      div.appendChild(a);\n",
              "      a.click();\n",
              "      div.remove();\n",
              "    }\n",
              "  "
            ]
          },
          "metadata": {}
        },
        {
          "output_type": "display_data",
          "data": {
            "text/plain": [
              "<IPython.core.display.Javascript object>"
            ],
            "application/javascript": [
              "download(\"download_336e8743-c050-41f2-8e59-5d1cb8094f1a\", \"metal_features.csv\", 21581)"
            ]
          },
          "metadata": {}
        }
      ],
      "source": [
        "song_features = []\n",
        "for file in genre_audio_files[2]:\n",
        "  '''\n",
        "  y is the time series array of the audio file, a 1D np.ndarray\n",
        "  sr is the sampling rate, a number\n",
        "  '''  \n",
        "  y,sr = librosa.load(file,sr=None)   \n",
        "  feature_vector = get_feature_vector(y, sr)\n",
        "  song_features.append([file] + feature_vector)\n",
        "df = pd.DataFrame(song_features, columns=columns)\n",
        "file_name = genre[2] + '_features.csv'\n",
        "df.to_csv(file_name)\n",
        "files.download(file_name)"
      ]
    },
    {
      "cell_type": "markdown",
      "source": [
        "### disco"
      ],
      "metadata": {
        "id": "xrjU4tGmRx15"
      }
    },
    {
      "cell_type": "code",
      "source": [
        "song_features = []\n",
        "for file in genre_audio_files[3]:\n",
        "  '''\n",
        "  y is the time series array of the audio file, a 1D np.ndarray\n",
        "  sr is the sampling rate, a number\n",
        "  '''  \n",
        "  y,sr = librosa.load(file,sr=None)   \n",
        "  feature_vector = get_feature_vector(y, sr)\n",
        "  song_features.append([file] + feature_vector)\n",
        "df = pd.DataFrame(song_features, columns=columns)\n",
        "file_name = genre[3] + '_features.csv'\n",
        "df.to_csv(file_name)\n",
        "files.download(file_name)"
      ],
      "metadata": {
        "id": "DwNLSg71R6Fi",
        "colab": {
          "base_uri": "https://localhost:8080/",
          "height": 17
        },
        "outputId": "358d9f80-da79-4375-d64a-21ac440e8284"
      },
      "execution_count": null,
      "outputs": [
        {
          "output_type": "display_data",
          "data": {
            "text/plain": [
              "<IPython.core.display.Javascript object>"
            ],
            "application/javascript": [
              "\n",
              "    async function download(id, filename, size) {\n",
              "      if (!google.colab.kernel.accessAllowed) {\n",
              "        return;\n",
              "      }\n",
              "      const div = document.createElement('div');\n",
              "      const label = document.createElement('label');\n",
              "      label.textContent = `Downloading \"${filename}\": `;\n",
              "      div.appendChild(label);\n",
              "      const progress = document.createElement('progress');\n",
              "      progress.max = size;\n",
              "      div.appendChild(progress);\n",
              "      document.body.appendChild(div);\n",
              "\n",
              "      const buffers = [];\n",
              "      let downloaded = 0;\n",
              "\n",
              "      const channel = await google.colab.kernel.comms.open(id);\n",
              "      // Send a message to notify the kernel that we're ready.\n",
              "      channel.send({})\n",
              "\n",
              "      for await (const message of channel.messages) {\n",
              "        // Send a message to notify the kernel that we're ready.\n",
              "        channel.send({})\n",
              "        if (message.buffers) {\n",
              "          for (const buffer of message.buffers) {\n",
              "            buffers.push(buffer);\n",
              "            downloaded += buffer.byteLength;\n",
              "            progress.value = downloaded;\n",
              "          }\n",
              "        }\n",
              "      }\n",
              "      const blob = new Blob(buffers, {type: 'application/binary'});\n",
              "      const a = document.createElement('a');\n",
              "      a.href = window.URL.createObjectURL(blob);\n",
              "      a.download = filename;\n",
              "      div.appendChild(a);\n",
              "      a.click();\n",
              "      div.remove();\n",
              "    }\n",
              "  "
            ]
          },
          "metadata": {}
        },
        {
          "output_type": "display_data",
          "data": {
            "text/plain": [
              "<IPython.core.display.Javascript object>"
            ],
            "application/javascript": [
              "download(\"download_c6f63ff3-0327-46ac-8a28-d678f0b9fa7c\", \"disco_features.csv\", 21052)"
            ]
          },
          "metadata": {}
        }
      ]
    },
    {
      "cell_type": "markdown",
      "source": [
        "### hiphop"
      ],
      "metadata": {
        "id": "EKqwJ9ReSVGe"
      }
    },
    {
      "cell_type": "code",
      "source": [
        "song_features = []\n",
        "for file in genre_audio_files[4]:\n",
        "  '''\n",
        "  y is the time series array of the audio file, a 1D np.ndarray\n",
        "  sr is the sampling rate, a number\n",
        "  '''  \n",
        "  y,sr = librosa.load(file,sr=None)   \n",
        "  feature_vector = get_feature_vector(y, sr)\n",
        "  song_features.append([file] + feature_vector)\n",
        "df = pd.DataFrame(song_features, columns=columns)\n",
        "file_name = genre[4] + '_features.csv'\n",
        "df.to_csv(file_name)\n",
        "files.download(file_name)"
      ],
      "metadata": {
        "id": "b5P0sBLhSXmY",
        "colab": {
          "base_uri": "https://localhost:8080/",
          "height": 17
        },
        "outputId": "852466ef-59ee-4462-bce0-75a6b68d0eba"
      },
      "execution_count": null,
      "outputs": [
        {
          "output_type": "display_data",
          "data": {
            "text/plain": [
              "<IPython.core.display.Javascript object>"
            ],
            "application/javascript": [
              "\n",
              "    async function download(id, filename, size) {\n",
              "      if (!google.colab.kernel.accessAllowed) {\n",
              "        return;\n",
              "      }\n",
              "      const div = document.createElement('div');\n",
              "      const label = document.createElement('label');\n",
              "      label.textContent = `Downloading \"${filename}\": `;\n",
              "      div.appendChild(label);\n",
              "      const progress = document.createElement('progress');\n",
              "      progress.max = size;\n",
              "      div.appendChild(progress);\n",
              "      document.body.appendChild(div);\n",
              "\n",
              "      const buffers = [];\n",
              "      let downloaded = 0;\n",
              "\n",
              "      const channel = await google.colab.kernel.comms.open(id);\n",
              "      // Send a message to notify the kernel that we're ready.\n",
              "      channel.send({})\n",
              "\n",
              "      for await (const message of channel.messages) {\n",
              "        // Send a message to notify the kernel that we're ready.\n",
              "        channel.send({})\n",
              "        if (message.buffers) {\n",
              "          for (const buffer of message.buffers) {\n",
              "            buffers.push(buffer);\n",
              "            downloaded += buffer.byteLength;\n",
              "            progress.value = downloaded;\n",
              "          }\n",
              "        }\n",
              "      }\n",
              "      const blob = new Blob(buffers, {type: 'application/binary'});\n",
              "      const a = document.createElement('a');\n",
              "      a.href = window.URL.createObjectURL(blob);\n",
              "      a.download = filename;\n",
              "      div.appendChild(a);\n",
              "      a.click();\n",
              "      div.remove();\n",
              "    }\n",
              "  "
            ]
          },
          "metadata": {}
        },
        {
          "output_type": "display_data",
          "data": {
            "text/plain": [
              "<IPython.core.display.Javascript object>"
            ],
            "application/javascript": [
              "download(\"download_552468e3-4a94-4800-989f-2e52e00ee5db\", \"hiphop_features.csv\", 21289)"
            ]
          },
          "metadata": {}
        }
      ]
    },
    {
      "cell_type": "markdown",
      "source": [
        "### jazz"
      ],
      "metadata": {
        "id": "nWBWcVPeSipj"
      }
    },
    {
      "cell_type": "code",
      "source": [
        "song_features = []\n",
        "for file in genre_audio_files[5]:\n",
        "  '''\n",
        "  y is the time series array of the audio file, a 1D np.ndarray\n",
        "  sr is the sampling rate, a number\n",
        "  '''  \n",
        "  y,sr = librosa.load(file,sr=None)   \n",
        "  feature_vector = get_feature_vector(y, sr)\n",
        "  song_features.append([file] + feature_vector)\n",
        "df = pd.DataFrame(song_features, columns=columns)\n",
        "file_name = genre[5] + '_features.csv'\n",
        "df.to_csv(file_name)\n",
        "files.download(file_name)"
      ],
      "metadata": {
        "id": "JaUJAoGWSlr6",
        "colab": {
          "base_uri": "https://localhost:8080/",
          "height": 17
        },
        "outputId": "ace3e979-4ac4-43af-cd98-654773134d1e"
      },
      "execution_count": null,
      "outputs": [
        {
          "output_type": "display_data",
          "data": {
            "text/plain": [
              "<IPython.core.display.Javascript object>"
            ],
            "application/javascript": [
              "\n",
              "    async function download(id, filename, size) {\n",
              "      if (!google.colab.kernel.accessAllowed) {\n",
              "        return;\n",
              "      }\n",
              "      const div = document.createElement('div');\n",
              "      const label = document.createElement('label');\n",
              "      label.textContent = `Downloading \"${filename}\": `;\n",
              "      div.appendChild(label);\n",
              "      const progress = document.createElement('progress');\n",
              "      progress.max = size;\n",
              "      div.appendChild(progress);\n",
              "      document.body.appendChild(div);\n",
              "\n",
              "      const buffers = [];\n",
              "      let downloaded = 0;\n",
              "\n",
              "      const channel = await google.colab.kernel.comms.open(id);\n",
              "      // Send a message to notify the kernel that we're ready.\n",
              "      channel.send({})\n",
              "\n",
              "      for await (const message of channel.messages) {\n",
              "        // Send a message to notify the kernel that we're ready.\n",
              "        channel.send({})\n",
              "        if (message.buffers) {\n",
              "          for (const buffer of message.buffers) {\n",
              "            buffers.push(buffer);\n",
              "            downloaded += buffer.byteLength;\n",
              "            progress.value = downloaded;\n",
              "          }\n",
              "        }\n",
              "      }\n",
              "      const blob = new Blob(buffers, {type: 'application/binary'});\n",
              "      const a = document.createElement('a');\n",
              "      a.href = window.URL.createObjectURL(blob);\n",
              "      a.download = filename;\n",
              "      div.appendChild(a);\n",
              "      a.click();\n",
              "      div.remove();\n",
              "    }\n",
              "  "
            ]
          },
          "metadata": {}
        },
        {
          "output_type": "display_data",
          "data": {
            "text/plain": [
              "<IPython.core.display.Javascript object>"
            ],
            "application/javascript": [
              "download(\"download_eb970ff0-16ef-414d-9a03-5e66efecb288\", \"jazz_features.csv\", 21059)"
            ]
          },
          "metadata": {}
        }
      ]
    },
    {
      "cell_type": "markdown",
      "source": [
        "### metal"
      ],
      "metadata": {
        "id": "TIhUOIcgSmj5"
      }
    },
    {
      "cell_type": "code",
      "source": [
        "song_features = []\n",
        "for file in genre_audio_files[6]:\n",
        "  '''\n",
        "  y is the time series array of the audio file, a 1D np.ndarray\n",
        "  sr is the sampling rate, a number\n",
        "  '''  \n",
        "  y,sr = librosa.load(file,sr=None)   \n",
        "  feature_vector = get_feature_vector(y, sr)\n",
        "  song_features.append([file] + feature_vector)\n",
        "df = pd.DataFrame(song_features, columns=columns)\n",
        "file_name = genre[6] + '_features.csv'\n",
        "df.to_csv(file_name)\n",
        "files.download(file_name)"
      ],
      "metadata": {
        "id": "ufMuwqFcSoaK",
        "colab": {
          "base_uri": "https://localhost:8080/",
          "height": 17
        },
        "outputId": "5e667809-d130-450e-81c5-4195b2c47052"
      },
      "execution_count": null,
      "outputs": [
        {
          "output_type": "display_data",
          "data": {
            "text/plain": [
              "<IPython.core.display.Javascript object>"
            ],
            "application/javascript": [
              "\n",
              "    async function download(id, filename, size) {\n",
              "      if (!google.colab.kernel.accessAllowed) {\n",
              "        return;\n",
              "      }\n",
              "      const div = document.createElement('div');\n",
              "      const label = document.createElement('label');\n",
              "      label.textContent = `Downloading \"${filename}\": `;\n",
              "      div.appendChild(label);\n",
              "      const progress = document.createElement('progress');\n",
              "      progress.max = size;\n",
              "      div.appendChild(progress);\n",
              "      document.body.appendChild(div);\n",
              "\n",
              "      const buffers = [];\n",
              "      let downloaded = 0;\n",
              "\n",
              "      const channel = await google.colab.kernel.comms.open(id);\n",
              "      // Send a message to notify the kernel that we're ready.\n",
              "      channel.send({})\n",
              "\n",
              "      for await (const message of channel.messages) {\n",
              "        // Send a message to notify the kernel that we're ready.\n",
              "        channel.send({})\n",
              "        if (message.buffers) {\n",
              "          for (const buffer of message.buffers) {\n",
              "            buffers.push(buffer);\n",
              "            downloaded += buffer.byteLength;\n",
              "            progress.value = downloaded;\n",
              "          }\n",
              "        }\n",
              "      }\n",
              "      const blob = new Blob(buffers, {type: 'application/binary'});\n",
              "      const a = document.createElement('a');\n",
              "      a.href = window.URL.createObjectURL(blob);\n",
              "      a.download = filename;\n",
              "      div.appendChild(a);\n",
              "      a.click();\n",
              "      div.remove();\n",
              "    }\n",
              "  "
            ]
          },
          "metadata": {}
        },
        {
          "output_type": "display_data",
          "data": {
            "text/plain": [
              "<IPython.core.display.Javascript object>"
            ],
            "application/javascript": [
              "download(\"download_b5305b26-e5a7-46ae-a25a-91a86e2f4bc0\", \"metal_features.csv\", 21032)"
            ]
          },
          "metadata": {}
        }
      ]
    },
    {
      "cell_type": "markdown",
      "source": [
        "### pop"
      ],
      "metadata": {
        "id": "mDDZqdpPJfY_"
      }
    },
    {
      "cell_type": "code",
      "source": [
        "song_features = []\n",
        "for file in genre_audio_files[7]:\n",
        "  '''\n",
        "  y is the time series array of the audio file, a 1D np.ndarray\n",
        "  sr is the sampling rate, a number\n",
        "  '''  \n",
        "  y,sr = librosa.load(file,sr=None)   \n",
        "  feature_vector = get_feature_vector(y, sr)\n",
        "  song_features.append([file] + feature_vector)\n",
        "df = pd.DataFrame(song_features, columns=columns)\n",
        "file_name = genre[7] + '_features.csv'\n",
        "df.to_csv(file_name)\n",
        "files.download(file_name)"
      ],
      "metadata": {
        "colab": {
          "base_uri": "https://localhost:8080/",
          "height": 17
        },
        "id": "2OYkQGkjJM9G",
        "outputId": "cfe72e1d-ee96-43d5-e539-51bcd5639f3d"
      },
      "execution_count": null,
      "outputs": [
        {
          "output_type": "display_data",
          "data": {
            "text/plain": [
              "<IPython.core.display.Javascript object>"
            ],
            "application/javascript": [
              "\n",
              "    async function download(id, filename, size) {\n",
              "      if (!google.colab.kernel.accessAllowed) {\n",
              "        return;\n",
              "      }\n",
              "      const div = document.createElement('div');\n",
              "      const label = document.createElement('label');\n",
              "      label.textContent = `Downloading \"${filename}\": `;\n",
              "      div.appendChild(label);\n",
              "      const progress = document.createElement('progress');\n",
              "      progress.max = size;\n",
              "      div.appendChild(progress);\n",
              "      document.body.appendChild(div);\n",
              "\n",
              "      const buffers = [];\n",
              "      let downloaded = 0;\n",
              "\n",
              "      const channel = await google.colab.kernel.comms.open(id);\n",
              "      // Send a message to notify the kernel that we're ready.\n",
              "      channel.send({})\n",
              "\n",
              "      for await (const message of channel.messages) {\n",
              "        // Send a message to notify the kernel that we're ready.\n",
              "        channel.send({})\n",
              "        if (message.buffers) {\n",
              "          for (const buffer of message.buffers) {\n",
              "            buffers.push(buffer);\n",
              "            downloaded += buffer.byteLength;\n",
              "            progress.value = downloaded;\n",
              "          }\n",
              "        }\n",
              "      }\n",
              "      const blob = new Blob(buffers, {type: 'application/binary'});\n",
              "      const a = document.createElement('a');\n",
              "      a.href = window.URL.createObjectURL(blob);\n",
              "      a.download = filename;\n",
              "      div.appendChild(a);\n",
              "      a.click();\n",
              "      div.remove();\n",
              "    }\n",
              "  "
            ]
          },
          "metadata": {}
        },
        {
          "output_type": "display_data",
          "data": {
            "text/plain": [
              "<IPython.core.display.Javascript object>"
            ],
            "application/javascript": [
              "download(\"download_4123d64d-ad38-47c2-ba80-8b77aa2499c2\", \"pop_features.csv\", 20637)"
            ]
          },
          "metadata": {}
        }
      ]
    },
    {
      "cell_type": "markdown",
      "source": [
        "### raggae"
      ],
      "metadata": {
        "id": "Rv6g-rnoJhMH"
      }
    },
    {
      "cell_type": "code",
      "source": [
        "song_features = []\n",
        "for file in genre_audio_files[8]:\n",
        "  '''\n",
        "  y is the time series array of the audio file, a 1D np.ndarray\n",
        "  sr is the sampling rate, a number\n",
        "  '''  \n",
        "  y,sr = librosa.load(file,sr=None)   \n",
        "  feature_vector = get_feature_vector(y, sr)\n",
        "  song_features.append([file] + feature_vector)\n",
        "df = pd.DataFrame(song_features, columns=columns)\n",
        "file_name = genre[8] + '_features.csv'\n",
        "df.to_csv(file_name)\n",
        "files.download(file_name)"
      ],
      "metadata": {
        "colab": {
          "base_uri": "https://localhost:8080/",
          "height": 17
        },
        "id": "hj42-Z80JXiu",
        "outputId": "dcba845a-7347-4758-9cdc-9bcb2f6696bf"
      },
      "execution_count": null,
      "outputs": [
        {
          "output_type": "display_data",
          "data": {
            "text/plain": [
              "<IPython.core.display.Javascript object>"
            ],
            "application/javascript": [
              "\n",
              "    async function download(id, filename, size) {\n",
              "      if (!google.colab.kernel.accessAllowed) {\n",
              "        return;\n",
              "      }\n",
              "      const div = document.createElement('div');\n",
              "      const label = document.createElement('label');\n",
              "      label.textContent = `Downloading \"${filename}\": `;\n",
              "      div.appendChild(label);\n",
              "      const progress = document.createElement('progress');\n",
              "      progress.max = size;\n",
              "      div.appendChild(progress);\n",
              "      document.body.appendChild(div);\n",
              "\n",
              "      const buffers = [];\n",
              "      let downloaded = 0;\n",
              "\n",
              "      const channel = await google.colab.kernel.comms.open(id);\n",
              "      // Send a message to notify the kernel that we're ready.\n",
              "      channel.send({})\n",
              "\n",
              "      for await (const message of channel.messages) {\n",
              "        // Send a message to notify the kernel that we're ready.\n",
              "        channel.send({})\n",
              "        if (message.buffers) {\n",
              "          for (const buffer of message.buffers) {\n",
              "            buffers.push(buffer);\n",
              "            downloaded += buffer.byteLength;\n",
              "            progress.value = downloaded;\n",
              "          }\n",
              "        }\n",
              "      }\n",
              "      const blob = new Blob(buffers, {type: 'application/binary'});\n",
              "      const a = document.createElement('a');\n",
              "      a.href = window.URL.createObjectURL(blob);\n",
              "      a.download = filename;\n",
              "      div.appendChild(a);\n",
              "      a.click();\n",
              "      div.remove();\n",
              "    }\n",
              "  "
            ]
          },
          "metadata": {}
        },
        {
          "output_type": "display_data",
          "data": {
            "text/plain": [
              "<IPython.core.display.Javascript object>"
            ],
            "application/javascript": [
              "download(\"download_a23f0377-43fa-4f46-ab7c-e7619577b922\", \"reggae_features.csv\", 21336)"
            ]
          },
          "metadata": {}
        }
      ]
    },
    {
      "cell_type": "markdown",
      "source": [
        "### rock"
      ],
      "metadata": {
        "id": "Xq_v35-CJjID"
      }
    },
    {
      "cell_type": "code",
      "source": [
        "song_features = []\n",
        "for file in genre_audio_files[9]:\n",
        "  '''\n",
        "  y is the time series array of the audio file, a 1D np.ndarray\n",
        "  sr is the sampling rate, a number\n",
        "  '''  \n",
        "  y,sr = librosa.load(file,sr=None)   \n",
        "  feature_vector = get_feature_vector(y, sr)\n",
        "  song_features.append([file] + feature_vector)\n",
        "df = pd.DataFrame(song_features, columns=columns)\n",
        "file_name = genre[9] + '_features.csv'\n",
        "df.to_csv(file_name)\n",
        "files.download(file_name)"
      ],
      "metadata": {
        "colab": {
          "base_uri": "https://localhost:8080/",
          "height": 17
        },
        "id": "fUPUNGoeJYbL",
        "outputId": "bbb16f91-857a-4b74-bf1f-69dd66e3bd9c"
      },
      "execution_count": null,
      "outputs": [
        {
          "output_type": "display_data",
          "data": {
            "text/plain": [
              "<IPython.core.display.Javascript object>"
            ],
            "application/javascript": [
              "\n",
              "    async function download(id, filename, size) {\n",
              "      if (!google.colab.kernel.accessAllowed) {\n",
              "        return;\n",
              "      }\n",
              "      const div = document.createElement('div');\n",
              "      const label = document.createElement('label');\n",
              "      label.textContent = `Downloading \"${filename}\": `;\n",
              "      div.appendChild(label);\n",
              "      const progress = document.createElement('progress');\n",
              "      progress.max = size;\n",
              "      div.appendChild(progress);\n",
              "      document.body.appendChild(div);\n",
              "\n",
              "      const buffers = [];\n",
              "      let downloaded = 0;\n",
              "\n",
              "      const channel = await google.colab.kernel.comms.open(id);\n",
              "      // Send a message to notify the kernel that we're ready.\n",
              "      channel.send({})\n",
              "\n",
              "      for await (const message of channel.messages) {\n",
              "        // Send a message to notify the kernel that we're ready.\n",
              "        channel.send({})\n",
              "        if (message.buffers) {\n",
              "          for (const buffer of message.buffers) {\n",
              "            buffers.push(buffer);\n",
              "            downloaded += buffer.byteLength;\n",
              "            progress.value = downloaded;\n",
              "          }\n",
              "        }\n",
              "      }\n",
              "      const blob = new Blob(buffers, {type: 'application/binary'});\n",
              "      const a = document.createElement('a');\n",
              "      a.href = window.URL.createObjectURL(blob);\n",
              "      a.download = filename;\n",
              "      div.appendChild(a);\n",
              "      a.click();\n",
              "      div.remove();\n",
              "    }\n",
              "  "
            ]
          },
          "metadata": {}
        },
        {
          "output_type": "display_data",
          "data": {
            "text/plain": [
              "<IPython.core.display.Javascript object>"
            ],
            "application/javascript": [
              "download(\"download_b40967f1-99c2-43f2-badf-725dc4a5264b\", \"rock_features.csv\", 20909)"
            ]
          },
          "metadata": {}
        }
      ]
    },
    {
      "cell_type": "code",
      "source": [
        "def english_model():    \n",
        "    import warnings\n",
        "    warnings.filterwarnings('ignore')\n",
        "\n",
        "    import numpy as np\n",
        "    import pandas as pd\n",
        "    import matplotlib.pyplot as plt\n",
        "\n",
        "    blues = pd.read_csv(\"/content/drive/MyDrive/IR_Project_Music/genres/blues_features.csv\")\n",
        "\n",
        "    blues.head()\n",
        "\n",
        "    blues['labels'] = pd.Series([0 for x in range(len(blues.index))], index=blues.index)\n",
        "\n",
        "    blues.shape\n",
        "\n",
        "    classical = pd.read_csv(\"/content/drive/MyDrive/IR_Project_Music/genres/classical_features.csv\")\n",
        "    classical['labels'] = pd.Series([1 for x in range(len(classical.index))], index=classical.index)\n",
        "\n",
        "    country = pd.read_csv(\"/content/drive/MyDrive/IR_Project_Music/genres/country_features.csv\")\n",
        "    country['labels'] = pd.Series([2 for x in range(len(country.index))], index=country.index)\n",
        "\n",
        "    disco = pd.read_csv(\"/content/drive/MyDrive/IR_Project_Music/genres/disco_features.csv\")\n",
        "    disco['labels'] = pd.Series([3 for x in range(len(disco.index))], index=disco.index)\n",
        "\n",
        "    hiphop = pd.read_csv(\"/content/drive/MyDrive/IR_Project_Music/genres/hiphop_features.csv\")\n",
        "    hiphop['labels'] = pd.Series([4 for x in range(len(hiphop.index))], index=hiphop.index)\n",
        "\n",
        "    jazz = pd.read_csv(\"/content/drive/MyDrive/IR_Project_Music/genres/jazz_features.csv\")\n",
        "    jazz['labels'] = pd.Series([5 for x in range(len(jazz.index))], index=jazz.index)\n",
        "\n",
        "    metal = pd.read_csv(\"/content/drive/MyDrive/IR_Project_Music/genres/metal_features.csv\")\n",
        "    metal['labels'] = pd.Series([6 for x in range(len(metal.index))], index=metal.index)\n",
        "\n",
        "    pop = pd.read_csv(\"/content/drive/MyDrive/IR_Project_Music/genres/pop_features.csv\")\n",
        "    pop['labels'] = pd.Series([7 for x in range(len(pop.index))], index=pop.index)\n",
        "\n",
        "    raggae = pd.read_csv(\"/content/drive/MyDrive/IR_Project_Music/genres/reggae_features.csv\")\n",
        "    raggae['labels'] = pd.Series([8 for x in range(len(raggae.index))], index=raggae.index)\n",
        "\n",
        "    rock = pd.read_csv(\"/content/drive/MyDrive/IR_Project_Music/genres/rock_features.csv\")\n",
        "    rock['labels'] = pd.Series([9 for x in range(len(rock.index))], index=rock.index)\n",
        "\n",
        "    frame = pd.concat([blues, classical, country, disco, hiphop, jazz, metal, pop, raggae, rock], ignore_index=True)\n",
        "    frame.head()\n",
        "\n",
        "    final = frame.drop(\"Unnamed: 0\", axis=1)\n",
        "    final.to_csv(\"all_features.csv\")\n",
        "\n",
        "    final.head()\n",
        "\n",
        "    from sklearn.metrics import confusion_matrix\n",
        "    from sklearn.model_selection import train_test_split\n",
        "    from sklearn.model_selection import cross_val_score\n",
        "    from sklearn import preprocessing\n",
        "\n",
        "    # X = preprocessing.scale(final.drop([\"labels\", \"Song_Name\"], axis=1))\n",
        "    # y = final[\"labels\"]\n",
        "    X = final.drop([\"labels\", \"Song_Name\"], axis=1)\n",
        "    y = final[\"labels\"]\n",
        "\n",
        "    final.shape\n",
        "\n",
        "    X_train, X_test, y_train, y_test = train_test_split(X, y, test_size = 0.2, random_state = 42)\n",
        "\n",
        "    X_test\n",
        "\n",
        "    !pip install lightgbm\n",
        "\n",
        "    import lightgbm as lgb\n",
        "    clf = lgb.LGBMClassifier(boosting_type='gbdt', learning_rate=0.2, min_child_samples=20)\n",
        "    clf.fit(X_train, y_train)\n",
        "\n",
        "    y_pred=clf.predict(X_test)\n",
        "\n",
        "    from sklearn.metrics import accuracy_score, classification_report\n",
        "    accuracy=accuracy_score(y_pred, y_test)\n",
        "    print('LightGBM Model accuracy score: {0:0.4f}'.format(accuracy_score(y_test, y_pred)))\n",
        "\n",
        "    import pickle\n",
        "    filename = 'Best_English_GBM.pkl'\n",
        "    pickle.dump(clf.fit, open(filename, 'wb'))"
      ],
      "metadata": {
        "id": "TzOlxNFxb_vy"
      },
      "execution_count": null,
      "outputs": []
    },
    {
      "cell_type": "code",
      "source": [
        "english_model()"
      ],
      "metadata": {
        "colab": {
          "base_uri": "https://localhost:8080/"
        },
        "id": "-JK9gYEEcKwZ",
        "outputId": "fad0481e-f972-49d0-e97d-38e8cc8433ef"
      },
      "execution_count": null,
      "outputs": [
        {
          "output_type": "stream",
          "name": "stdout",
          "text": [
            "Looking in indexes: https://pypi.org/simple, https://us-python.pkg.dev/colab-wheels/public/simple/\n",
            "Requirement already satisfied: lightgbm in /usr/local/lib/python3.9/dist-packages (3.3.5)\n",
            "Requirement already satisfied: scipy in /usr/local/lib/python3.9/dist-packages (from lightgbm) (1.10.1)\n",
            "Requirement already satisfied: wheel in /usr/local/lib/python3.9/dist-packages (from lightgbm) (0.40.0)\n",
            "Requirement already satisfied: scikit-learn!=0.22.0 in /usr/local/lib/python3.9/dist-packages (from lightgbm) (1.2.2)\n",
            "Requirement already satisfied: numpy in /usr/local/lib/python3.9/dist-packages (from lightgbm) (1.22.4)\n",
            "Requirement already satisfied: threadpoolctl>=2.0.0 in /usr/local/lib/python3.9/dist-packages (from scikit-learn!=0.22.0->lightgbm) (3.1.0)\n",
            "Requirement already satisfied: joblib>=1.1.1 in /usr/local/lib/python3.9/dist-packages (from scikit-learn!=0.22.0->lightgbm) (1.2.0)\n",
            "LightGBM Model accuracy score: 0.6150\n"
          ]
        }
      ]
    },
    {
      "cell_type": "code",
      "source": [
        "blues = pd.read_csv(\"/content/drive/MyDrive/IR_Project_Music/genres/blues_features.csv\")\n",
        "blues['labels'] = pd.Series([0 for x in range(len(blues.index))], index=blues.index)\n",
        "                            \n",
        "classical = pd.read_csv(\"/content/drive/MyDrive/IR_Project_Music/genres/classical_features.csv\")\n",
        "classical['labels'] = pd.Series([1 for x in range(len(classical.index))], index=classical.index)\n",
        "\n",
        "country = pd.read_csv(\"/content/drive/MyDrive/IR_Project_Music/genres/country_features.csv\")\n",
        "country['labels'] = pd.Series([2 for x in range(len(country.index))], index=country.index)\n",
        "\n",
        "disco = pd.read_csv(\"/content/drive/MyDrive/IR_Project_Music/genres/disco_features.csv\")\n",
        "disco['labels'] = pd.Series([3 for x in range(len(disco.index))], index=disco.index)\n",
        "\n",
        "hiphop = pd.read_csv(\"/content/drive/MyDrive/IR_Project_Music/genres/hiphop_features.csv\")\n",
        "hiphop['labels'] = pd.Series([4 for x in range(len(hiphop.index))], index=hiphop.index)\n",
        "\n",
        "jazz = pd.read_csv(\"/content/drive/MyDrive/IR_Project_Music/genres/jazz_features.csv\")\n",
        "jazz['labels'] = pd.Series([5 for x in range(len(jazz.index))], index=jazz.index)\n",
        "\n",
        "metal = pd.read_csv(\"/content/drive/MyDrive/IR_Project_Music/genres/metal_features.csv\")\n",
        "metal['labels'] = pd.Series([6 for x in range(len(metal.index))], index=metal.index)\n",
        "\n",
        "pop = pd.read_csv(\"/content/drive/MyDrive/IR_Project_Music/genres/pop_features.csv\")\n",
        "pop['labels'] = pd.Series([7 for x in range(len(pop.index))], index=pop.index)\n",
        "\n",
        "raggae = pd.read_csv(\"/content/drive/MyDrive/IR_Project_Music/genres/reggae_features.csv\")\n",
        "raggae['labels'] = pd.Series([8 for x in range(len(raggae.index))], index=raggae.index)\n",
        "\n",
        "rock = pd.read_csv(\"/content/drive/MyDrive/IR_Project_Music/genres/rock_features.csv\")\n",
        "rock['labels'] = pd.Series([9 for x in range(len(rock.index))], index=rock.index)\n",
        "\n",
        "frame = pd.concat([blues, classical, country, disco, hiphop, jazz, metal, pop, raggae, rock], ignore_index=True)\n",
        "frame.head()\n",
        "\n",
        "final = frame.drop(\"Unnamed: 0\", axis=1)\n",
        "final.to_csv(\"all_features.csv\")\n",
        "\n",
        "final.head()\n",
        "\n",
        "from sklearn.metrics import confusion_matrix\n",
        "from sklearn.model_selection import train_test_split\n",
        "from sklearn.model_selection import cross_val_score\n",
        "from sklearn import preprocessing\n",
        "\n",
        "    # X = preprocessing.scale(final.drop([\"labels\", \"Song_Name\"], axis=1))\n",
        "    # y = final[\"labels\"]\n",
        "X = final.drop([\"labels\", \"Song_Name\"], axis=1)\n",
        "y = final[\"labels\"]\n",
        "\n",
        "final.shape\n",
        "\n",
        "X_train, X_test, y_train, y_test = train_test_split(X, y, test_size = 0.2, random_state = 42)\n",
        "\n"
      ],
      "metadata": {
        "id": "pCb2-KbOsHPs"
      },
      "execution_count": null,
      "outputs": []
    },
    {
      "cell_type": "code",
      "source": [
        "X_train.shape"
      ],
      "metadata": {
        "colab": {
          "base_uri": "https://localhost:8080/"
        },
        "id": "b72Hr20m58jK",
        "outputId": "acf6056c-d34d-413d-f705-174fbbcd6a3c"
      },
      "execution_count": null,
      "outputs": [
        {
          "output_type": "execute_result",
          "data": {
            "text/plain": [
              "(800, 12)"
            ]
          },
          "metadata": {},
          "execution_count": 10
        }
      ]
    },
    {
      "cell_type": "code",
      "source": [
        "X_test.shape"
      ],
      "metadata": {
        "colab": {
          "base_uri": "https://localhost:8080/"
        },
        "id": "vF_OK59i98z-",
        "outputId": "12d75b43-5d59-416c-d2fc-8737d155247b"
      },
      "execution_count": null,
      "outputs": [
        {
          "output_type": "execute_result",
          "data": {
            "text/plain": [
              "(200, 12)"
            ]
          },
          "metadata": {},
          "execution_count": 11
        }
      ]
    },
    {
      "cell_type": "code",
      "source": [
        "# import pandas as pd\n",
        "# import numpy as np \n",
        "# import matplotlib.pyplot as plt\n",
        "# import scipy\n",
        "# import os\n",
        "# import pickle\n",
        "# import librosa\n",
        "# import librosa.display\n",
        "# import IPython.display as ipd\n",
        "# from IPython.display import Audio\n",
        "# from sklearn.model_selection import train_test_split\n",
        "# from sklearn.preprocessing import LabelEncoder\n",
        "# import tensorflow as tf\n",
        "# from tensorflow import keras\n",
        "# from tensorflow.keras.models import Sequential"
      ],
      "metadata": {
        "id": "RXu_1v1Tt7DF"
      },
      "execution_count": null,
      "outputs": []
    },
    {
      "cell_type": "code",
      "source": [
        "# def train_model(model,epochs,optimizer):\n",
        "#     batch_size=256\n",
        "#     model.compile(optimizer=optimizer,loss='sparse_categorical_crossentropy',metrics='accuracy')\n",
        "#     return model.fit(X_train,y_train,validation_data=(X_test,y_test),epochs=epochs,batch_size=batch_size)"
      ],
      "metadata": {
        "id": "z7yo7F3btV5c"
      },
      "execution_count": null,
      "outputs": []
    },
    {
      "cell_type": "code",
      "source": [
        "# def Validation_plot(history):\n",
        "#     print(\"Validation Accuracy\",max(history.history[\"val_accuracy\"]))\n",
        "#     pd.DataFrame(history.history).plot(figsize=(12,6))\n",
        "#     plt.show()"
      ],
      "metadata": {
        "id": "bFuvFdJ9tZxt"
      },
      "execution_count": null,
      "outputs": []
    },
    {
      "cell_type": "code",
      "source": [
        "# model=tf.keras.models.Sequential([\n",
        "#     tf.keras.layers.Flatten(input_shape=(X.shape[1],)),\n",
        "#     tf.keras.layers.Dropout(0.2),\n",
        "    \n",
        "#     tf.keras.layers.Dense(512,activation='relu'),\n",
        "#     keras.layers.Dropout(0.2),\n",
        "    \n",
        "#     tf.keras.layers.Dense(256,activation='relu'),\n",
        "#     tf.keras.layers.Dropout(0.2),\n",
        "    \n",
        "#     tf.keras.layers.Dense(128,activation='relu'),\n",
        "#     tf.keras.layers.Dropout(0.2),\n",
        "    \n",
        "#     tf.keras.layers.Dense(64,activation='relu'),\n",
        "#     tf.keras.layers.Dropout(0.2),\n",
        "\n",
        "#     tf.keras.layers.Dense(32,activation='relu'),\n",
        "#     tf.keras.layers.Dropout(0.2),\n",
        "    \n",
        "#     tf.keras.layers.Dense(10,activation='softmax'),\n",
        "# ])\n",
        "\n",
        "# optimizer = tf.keras.optimizers.Adam(learning_rate=0.000146)\n",
        "# model.compile(optimizer=optimizer,\n",
        "#              loss=\"sparse_categorical_crossentropy\",\n",
        "#               metrics=[\"accuracy\"])\n",
        "# model.summary()\n",
        "# model_history=train_model(model=model,epochs=600,optimizer='adam')"
      ],
      "metadata": {
        "id": "RvV0CPl0teRm"
      },
      "execution_count": null,
      "outputs": []
    },
    {
      "cell_type": "code",
      "source": [
        "# test_loss,test_acc=model.evaluate(X_test,y_test,batch_size=256)\n",
        "# print(\"The test loss is \",test_loss)\n",
        "# print(\"The best accuracy is: \",test_acc*100)"
      ],
      "metadata": {
        "id": "WD3gyobQuL7q"
      },
      "execution_count": null,
      "outputs": []
    },
    {
      "cell_type": "code",
      "source": [
        "# Validation_plot(model_history)"
      ],
      "metadata": {
        "id": "YmR7-EiQuMpM"
      },
      "execution_count": null,
      "outputs": []
    },
    {
      "cell_type": "markdown",
      "source": [
        "# Step 2: Testing the model for new songs"
      ],
      "metadata": {
        "id": "0Hwe3YfO2mw-"
      }
    },
    {
      "cell_type": "code",
      "source": [
        "# cd '/content/drive/MyDrive/genres/test_data'\n",
        "!cd '/content/drive/MyDrive/IR_Project_Music/genres/test_20'"
      ],
      "metadata": {
        "id": "Xqiqfj062FvJ"
      },
      "execution_count": null,
      "outputs": []
    },
    {
      "cell_type": "code",
      "source": [
        "ls"
      ],
      "metadata": {
        "colab": {
          "base_uri": "https://localhost:8080/"
        },
        "id": "xaQodpPk2VEA",
        "outputId": "6c5695ab-946b-461e-8fcf-88da855413b0"
      },
      "execution_count": null,
      "outputs": [
        {
          "output_type": "stream",
          "name": "stdout",
          "text": [
            " all_features.csv         \u001b[0m\u001b[01;34mdisco\u001b[0m/                \u001b[01;34mreggae\u001b[0m/\n",
            " Best_English_GBM.pkl     disco_features.csv    reggae_features.csv\n",
            " Best_English_KNN.pkl     \u001b[01;34mhiphop\u001b[0m/               \u001b[01;34mrock\u001b[0m/\n",
            " Best_English_SVC.pkl     hiphop_features.csv   rock_features.csv\n",
            " \u001b[01;34mblues\u001b[0m/                   \u001b[01;34mjazz\u001b[0m/                \u001b[01;34m'Stay versions'\u001b[0m/\n",
            " blues_features.csv       jazz_features.csv     \u001b[01;34mtest_20\u001b[0m/\n",
            " \u001b[01;34mclassical\u001b[0m/               \u001b[01;34mmetal\u001b[0m/                \u001b[01;34mtest_data\u001b[0m/\n",
            " classical_features.csv   metal_features.csv    test_file_features.csv\n",
            " \u001b[01;34mcountry\u001b[0m/                 \u001b[01;34mpop\u001b[0m/\n",
            " country_features.csv     pop_features.csv\n"
          ]
        }
      ]
    },
    {
      "cell_type": "code",
      "source": [
        "from google.colab import files "
      ],
      "metadata": {
        "id": "ktiaG0xg4Gbm"
      },
      "execution_count": null,
      "outputs": []
    },
    {
      "cell_type": "code",
      "source": [
        "X_test\n",
        "\n",
        "!pip install lightgbm\n",
        "\n",
        "import lightgbm as lgb\n",
        "clf = lgb.LGBMClassifier(boosting_type='gbdt', learning_rate=0.2, min_child_samples=20)\n",
        "clf.fit(X_train, y_train)\n",
        "\n",
        "y_pred=clf.predict(X_test)\n",
        "\n",
        "from sklearn.metrics import accuracy_score, classification_report\n",
        "accuracy=accuracy_score(y_pred, y_test)\n",
        "print('LightGBM Model accuracy score: {0:0.4f}'.format(accuracy_score(y_test, y_pred)))"
      ],
      "metadata": {
        "colab": {
          "base_uri": "https://localhost:8080/"
        },
        "id": "ZveIp2gsxEnf",
        "outputId": "e951b014-c68d-4094-ff84-fd7d907e9470"
      },
      "execution_count": null,
      "outputs": [
        {
          "output_type": "stream",
          "name": "stdout",
          "text": [
            "Looking in indexes: https://pypi.org/simple, https://us-python.pkg.dev/colab-wheels/public/simple/\n",
            "Requirement already satisfied: lightgbm in /usr/local/lib/python3.9/dist-packages (3.3.5)\n",
            "Requirement already satisfied: scipy in /usr/local/lib/python3.9/dist-packages (from lightgbm) (1.10.1)\n",
            "Requirement already satisfied: numpy in /usr/local/lib/python3.9/dist-packages (from lightgbm) (1.22.4)\n",
            "Requirement already satisfied: scikit-learn!=0.22.0 in /usr/local/lib/python3.9/dist-packages (from lightgbm) (1.2.2)\n",
            "Requirement already satisfied: wheel in /usr/local/lib/python3.9/dist-packages (from lightgbm) (0.40.0)\n",
            "Requirement already satisfied: threadpoolctl>=2.0.0 in /usr/local/lib/python3.9/dist-packages (from scikit-learn!=0.22.0->lightgbm) (3.1.0)\n",
            "Requirement already satisfied: joblib>=1.1.1 in /usr/local/lib/python3.9/dist-packages (from scikit-learn!=0.22.0->lightgbm) (1.2.0)\n",
            "LightGBM Model accuracy score: 0.6150\n"
          ]
        }
      ]
    },
    {
      "cell_type": "code",
      "source": [
        "!pip freeze | grep librosa"
      ],
      "metadata": {
        "colab": {
          "base_uri": "https://localhost:8080/"
        },
        "id": "cGIWZqpqaPnK",
        "outputId": "071620ee-9461-49db-9169-6d9904766f5f"
      },
      "execution_count": null,
      "outputs": [
        {
          "output_type": "stream",
          "name": "stdout",
          "text": [
            "librosa==0.10.0.post2\n"
          ]
        }
      ]
    },
    {
      "cell_type": "code",
      "source": [
        "!pip install librosa==0.8.1"
      ],
      "metadata": {
        "colab": {
          "base_uri": "https://localhost:8080/",
          "height": 713
        },
        "id": "Qlb7Stbjay0r",
        "outputId": "027c36a6-2836-4b7f-f8a2-79472376344b"
      },
      "execution_count": null,
      "outputs": [
        {
          "output_type": "stream",
          "name": "stdout",
          "text": [
            "Looking in indexes: https://pypi.org/simple, https://us-python.pkg.dev/colab-wheels/public/simple/\n",
            "Collecting librosa==0.8.1\n",
            "  Downloading librosa-0.8.1-py3-none-any.whl (203 kB)\n",
            "\u001b[2K     \u001b[90m━━━━━━━━━━━━━━━━━━━━━━━━━━━━━━━━━━━━━━━\u001b[0m \u001b[32m203.8/203.8 kB\u001b[0m \u001b[31m7.5 MB/s\u001b[0m eta \u001b[36m0:00:00\u001b[0m\n",
            "\u001b[?25hRequirement already satisfied: audioread>=2.0.0 in /usr/local/lib/python3.9/dist-packages (from librosa==0.8.1) (3.0.0)\n",
            "Requirement already satisfied: scipy>=1.0.0 in /usr/local/lib/python3.9/dist-packages (from librosa==0.8.1) (1.10.1)\n",
            "Requirement already satisfied: scikit-learn!=0.19.0,>=0.14.0 in /usr/local/lib/python3.9/dist-packages (from librosa==0.8.1) (1.2.2)\n",
            "Requirement already satisfied: decorator>=3.0.0 in /usr/local/lib/python3.9/dist-packages (from librosa==0.8.1) (4.4.2)\n",
            "Collecting resampy>=0.2.2\n",
            "  Downloading resampy-0.4.2-py3-none-any.whl (3.1 MB)\n",
            "\u001b[2K     \u001b[90m━━━━━━━━━━━━━━━━━━━━━━━━━━━━━━━━━━━━━━━━\u001b[0m \u001b[32m3.1/3.1 MB\u001b[0m \u001b[31m53.5 MB/s\u001b[0m eta \u001b[36m0:00:00\u001b[0m\n",
            "\u001b[?25hRequirement already satisfied: numpy>=1.15.0 in /usr/local/lib/python3.9/dist-packages (from librosa==0.8.1) (1.22.4)\n",
            "Requirement already satisfied: joblib>=0.14 in /usr/local/lib/python3.9/dist-packages (from librosa==0.8.1) (1.2.0)\n",
            "Requirement already satisfied: pooch>=1.0 in /usr/local/lib/python3.9/dist-packages (from librosa==0.8.1) (1.6.0)\n",
            "Requirement already satisfied: packaging>=20.0 in /usr/local/lib/python3.9/dist-packages (from librosa==0.8.1) (23.1)\n",
            "Requirement already satisfied: soundfile>=0.10.2 in /usr/local/lib/python3.9/dist-packages (from librosa==0.8.1) (0.12.1)\n",
            "Requirement already satisfied: numba>=0.43.0 in /usr/local/lib/python3.9/dist-packages (from librosa==0.8.1) (0.56.4)\n",
            "Requirement already satisfied: setuptools in /usr/local/lib/python3.9/dist-packages (from numba>=0.43.0->librosa==0.8.1) (67.6.1)\n",
            "Requirement already satisfied: llvmlite<0.40,>=0.39.0dev0 in /usr/local/lib/python3.9/dist-packages (from numba>=0.43.0->librosa==0.8.1) (0.39.1)\n",
            "Requirement already satisfied: requests>=2.19.0 in /usr/local/lib/python3.9/dist-packages (from pooch>=1.0->librosa==0.8.1) (2.27.1)\n",
            "Requirement already satisfied: appdirs>=1.3.0 in /usr/local/lib/python3.9/dist-packages (from pooch>=1.0->librosa==0.8.1) (1.4.4)\n",
            "Requirement already satisfied: threadpoolctl>=2.0.0 in /usr/local/lib/python3.9/dist-packages (from scikit-learn!=0.19.0,>=0.14.0->librosa==0.8.1) (3.1.0)\n",
            "Requirement already satisfied: cffi>=1.0 in /usr/local/lib/python3.9/dist-packages (from soundfile>=0.10.2->librosa==0.8.1) (1.15.1)\n",
            "Requirement already satisfied: pycparser in /usr/local/lib/python3.9/dist-packages (from cffi>=1.0->soundfile>=0.10.2->librosa==0.8.1) (2.21)\n",
            "Requirement already satisfied: idna<4,>=2.5 in /usr/local/lib/python3.9/dist-packages (from requests>=2.19.0->pooch>=1.0->librosa==0.8.1) (3.4)\n",
            "Requirement already satisfied: urllib3<1.27,>=1.21.1 in /usr/local/lib/python3.9/dist-packages (from requests>=2.19.0->pooch>=1.0->librosa==0.8.1) (1.26.15)\n",
            "Requirement already satisfied: certifi>=2017.4.17 in /usr/local/lib/python3.9/dist-packages (from requests>=2.19.0->pooch>=1.0->librosa==0.8.1) (2022.12.7)\n",
            "Requirement already satisfied: charset-normalizer~=2.0.0 in /usr/local/lib/python3.9/dist-packages (from requests>=2.19.0->pooch>=1.0->librosa==0.8.1) (2.0.12)\n",
            "Installing collected packages: resampy, librosa\n",
            "  Attempting uninstall: librosa\n",
            "    Found existing installation: librosa 0.10.0.post2\n",
            "    Uninstalling librosa-0.10.0.post2:\n",
            "      Successfully uninstalled librosa-0.10.0.post2\n",
            "Successfully installed librosa-0.8.1 resampy-0.4.2\n"
          ]
        },
        {
          "output_type": "display_data",
          "data": {
            "application/vnd.colab-display-data+json": {
              "pip_warning": {
                "packages": [
                  "librosa"
                ]
              }
            }
          },
          "metadata": {}
        }
      ]
    },
    {
      "cell_type": "code",
      "source": [
        "import librosa\n",
        "from librosa import feature\n",
        "\n",
        "fn_list_i = [ \n",
        "    librosa.onset.onset_strength,            \n",
        "    feature.chroma_stft,                       \n",
        "    feature.chroma_cqt,\n",
        "    feature.chroma_cens,\n",
        "    feature.melspectrogram,\n",
        "    feature.mfcc,\n",
        "    feature.spectral_centroid,\n",
        "    feature.spectral_bandwidth,\n",
        "    feature.spectral_contrast,\n",
        "    feature.spectral_rolloff,\n",
        "    feature.tonnetz\n",
        "]\n",
        "\n",
        "fn_list_ii = [\n",
        "    feature.zero_crossing_rate\n",
        "]"
      ],
      "metadata": {
        "id": "YTwrA_l-a00H"
      },
      "execution_count": null,
      "outputs": []
    },
    {
      "cell_type": "code",
      "source": [
        "def get_feature_vector(y,sr): \n",
        "    feat_vect_i = [ np.mean(funct(y, sr)) for funct in fn_list_i]\n",
        "    feat_vect_ii = [ np.mean(funct(y)) for funct in fn_list_ii] \n",
        "    feature_vector = feat_vect_i + feat_vect_ii \n",
        "    return feature_vector"
      ],
      "metadata": {
        "id": "5ecMXxkGaaxP"
      },
      "execution_count": null,
      "outputs": []
    },
    {
      "cell_type": "code",
      "source": [
        "from glob import glob\n",
        "\n",
        "test_files = glob('/content/drive/MyDrive/IR_Project_Music/genres/test_20'+\"/*.mp3\")\n",
        "\n",
        "# test_files = glob('/content/drive/MyDrive/IR_Project_Music/genres/Stay versions'+\"/*.mpeg\")\n",
        "#     test_files = f\n",
        "\n",
        "columns = [\"Song_Name\", \"onset_strength\", \"chroma_stft\", \"chroma_cqt\", \"chroma_cens\", \"melspectrogram\", \"mfcc\",\t\n",
        "            \"spectral_centroid\" ,\"spectral_bandwidth\", \"spectral_contrast\", \"spectral_rolloff\",\t\"tonnetz\", \"zero_crossing_rate\"]\n",
        "\n",
        "print(test_files)\n",
        "\n",
        "song_features = []\n",
        "for file in test_files:\n",
        "  '''\n",
        "  y is the time series array of the audio file, a 1D np.ndarray\n",
        "  sr is the sampling rate, a number\n",
        "  '''  \n",
        "  y,sr = librosa.load(file,sr=None)   \n",
        "  feature_vector = get_feature_vector(y, sr)\n",
        "  song_features.append([file] + feature_vector)\n",
        "df = pd.DataFrame(song_features, columns=columns)\n",
        "file_name = 'test_file_features.csv'\n",
        "df.to_csv(file_name)\n",
        "files.download(file_name)"
      ],
      "metadata": {
        "colab": {
          "base_uri": "https://localhost:8080/",
          "height": 54
        },
        "id": "pqevWySwZc7c",
        "outputId": "48ed8fcf-98cd-4971-d3c1-27a82a37645c"
      },
      "execution_count": null,
      "outputs": [
        {
          "output_type": "stream",
          "name": "stdout",
          "text": [
            "['/content/drive/MyDrive/IR_Project_Music/genres/test_20/The Doors - Roadhouse Blues.mp3', '/content/drive/MyDrive/IR_Project_Music/genres/test_20/Eric Clapton - Wonderful Tonight [Lyrics]_blues.mp3', '/content/drive/MyDrive/IR_Project_Music/genres/test_20/Kansas City-Wilbert Harrison-1959_country.mp3', '/content/drive/MyDrive/IR_Project_Music/genres/test_20/Blane Howard • Run It Back_country.mp3', '/content/drive/MyDrive/IR_Project_Music/genres/test_20/One Direction  Perfect Official Video_pop.mp3', '/content/drive/MyDrive/IR_Project_Music/genres/test_20/One Direction  What Makes You Beautiful Official Video_pop.mp3', '/content/drive/MyDrive/IR_Project_Music/genres/test_20/Cardi B  Bodak Yellow_hiphop.mp3', '/content/drive/MyDrive/IR_Project_Music/genres/test_20/Eminem  Lose Yourself Lyrics_hiphop.mp3', '/content/drive/MyDrive/IR_Project_Music/genres/test_20/Leon Bridges  Shine_jazz.mp3', '/content/drive/MyDrive/IR_Project_Music/genres/test_20/Easy  The Commodores_jazz.mp3', '/content/drive/MyDrive/IR_Project_Music/genres/test_20/Metallica  Fuel Official Music Video.mp3', '/content/drive/MyDrive/IR_Project_Music/genres/test_20/Metallica Enter Sandman Official Music Video.mp3', '/content/drive/MyDrive/IR_Project_Music/genres/test_20/ACDC  Highway to Hell_rock.mp3', '/content/drive/MyDrive/IR_Project_Music/genres/test_20/AC DC  Shoot To Thrill_rock.mp3', '/content/drive/MyDrive/IR_Project_Music/genres/test_20/Cyndi Lauper  Girls Just Want To Have Fun_disco.mp3', '/content/drive/MyDrive/IR_Project_Music/genres/test_20/Disco Deejays  Stayin Alive Disco Fever Studio54_disco.mp3', '/content/drive/MyDrive/IR_Project_Music/genres/test_20/Bob Marley  One Love_reggae.mp3', '/content/drive/MyDrive/IR_Project_Music/genres/test_20/UB40  Red Red Wine_reggae.mp3', '/content/drive/MyDrive/IR_Project_Music/genres/test_20/Fr Elise_classical.mp3', '/content/drive/MyDrive/IR_Project_Music/genres/test_20/Beethoven  Ode to Joy_classical.mp3']\n"
          ]
        },
        {
          "output_type": "display_data",
          "data": {
            "text/plain": [
              "<IPython.core.display.Javascript object>"
            ],
            "application/javascript": [
              "\n",
              "    async function download(id, filename, size) {\n",
              "      if (!google.colab.kernel.accessAllowed) {\n",
              "        return;\n",
              "      }\n",
              "      const div = document.createElement('div');\n",
              "      const label = document.createElement('label');\n",
              "      label.textContent = `Downloading \"${filename}\": `;\n",
              "      div.appendChild(label);\n",
              "      const progress = document.createElement('progress');\n",
              "      progress.max = size;\n",
              "      div.appendChild(progress);\n",
              "      document.body.appendChild(div);\n",
              "\n",
              "      const buffers = [];\n",
              "      let downloaded = 0;\n",
              "\n",
              "      const channel = await google.colab.kernel.comms.open(id);\n",
              "      // Send a message to notify the kernel that we're ready.\n",
              "      channel.send({})\n",
              "\n",
              "      for await (const message of channel.messages) {\n",
              "        // Send a message to notify the kernel that we're ready.\n",
              "        channel.send({})\n",
              "        if (message.buffers) {\n",
              "          for (const buffer of message.buffers) {\n",
              "            buffers.push(buffer);\n",
              "            downloaded += buffer.byteLength;\n",
              "            progress.value = downloaded;\n",
              "          }\n",
              "        }\n",
              "      }\n",
              "      const blob = new Blob(buffers, {type: 'application/binary'});\n",
              "      const a = document.createElement('a');\n",
              "      a.href = window.URL.createObjectURL(blob);\n",
              "      a.download = filename;\n",
              "      div.appendChild(a);\n",
              "      a.click();\n",
              "      div.remove();\n",
              "    }\n",
              "  "
            ]
          },
          "metadata": {}
        },
        {
          "output_type": "display_data",
          "data": {
            "text/plain": [
              "<IPython.core.display.Javascript object>"
            ],
            "application/javascript": [
              "download(\"download_cc1864b9-8317-4ee7-be50-a992748e536b\", \"test_file_features.csv\", 5831)"
            ]
          },
          "metadata": {}
        }
      ]
    },
    {
      "cell_type": "code",
      "source": [
        "y_pred"
      ],
      "metadata": {
        "colab": {
          "base_uri": "https://localhost:8080/"
        },
        "id": "LZ0GHenNPS7Z",
        "outputId": "c2893c11-c58b-4dfc-d5a8-e0683700a902"
      },
      "execution_count": null,
      "outputs": [
        {
          "output_type": "execute_result",
          "data": {
            "text/plain": [
              "array([0, 0, 2, 0])"
            ]
          },
          "metadata": {},
          "execution_count": 30
        }
      ]
    },
    {
      "cell_type": "code",
      "source": [
        "test = pd.read_csv(\"/content/test_file_features.csv\")\n",
        "X_test = test.drop(['Unnamed: 0', 'Song_Name'], axis = 1)\n",
        "y_pred = clf.predict(X_test)\n",
        "y_pred\n",
        "\n",
        "for i in range(len(test_files)):\n",
        "  print(test_files[i][50:], \" : \", y_pred[i])"
      ],
      "metadata": {
        "colab": {
          "base_uri": "https://localhost:8080/"
        },
        "id": "KTQtPQ9I5-_P",
        "outputId": "32440cff-24b6-4dc0-f825-4c750842fd28"
      },
      "execution_count": null,
      "outputs": [
        {
          "output_type": "stream",
          "name": "stdout",
          "text": [
            "t_20/The Doors - Roadhouse Blues.mp3  :  6\n",
            "t_20/Eric Clapton - Wonderful Tonight [Lyrics]_blues.mp3  :  9\n",
            "t_20/Kansas City-Wilbert Harrison-1959_country.mp3  :  6\n",
            "t_20/Blane Howard • Run It Back_country.mp3  :  6\n",
            "t_20/One Direction  Perfect Official Video_pop.mp3  :  7\n",
            "t_20/One Direction  What Makes You Beautiful Official Video_pop.mp3  :  7\n",
            "t_20/Cardi B  Bodak Yellow_hiphop.mp3  :  7\n",
            "t_20/Eminem  Lose Yourself Lyrics_hiphop.mp3  :  4\n",
            "t_20/Leon Bridges  Shine_jazz.mp3  :  9\n",
            "t_20/Easy  The Commodores_jazz.mp3  :  6\n",
            "t_20/Metallica  Fuel Official Music Video.mp3  :  6\n",
            "t_20/Metallica Enter Sandman Official Music Video.mp3  :  7\n",
            "t_20/ACDC  Highway to Hell_rock.mp3  :  6\n",
            "t_20/AC DC  Shoot To Thrill_rock.mp3  :  6\n",
            "t_20/Cyndi Lauper  Girls Just Want To Have Fun_disco.mp3  :  0\n",
            "t_20/Disco Deejays  Stayin Alive Disco Fever Studio54_disco.mp3  :  7\n",
            "t_20/Bob Marley  One Love_reggae.mp3  :  4\n",
            "t_20/UB40  Red Red Wine_reggae.mp3  :  5\n",
            "t_20/Fr Elise_classical.mp3  :  1\n",
            "t_20/Beethoven  Ode to Joy_classical.mp3  :  1\n"
          ]
        }
      ]
    },
    {
      "cell_type": "code",
      "source": [
        "X_test"
      ],
      "metadata": {
        "colab": {
          "base_uri": "https://localhost:8080/",
          "height": 239
        },
        "id": "XMz5S-Vr6kDt",
        "outputId": "b8e91714-d272-4466-df2c-e614a57d6ad9"
      },
      "execution_count": null,
      "outputs": [
        {
          "output_type": "execute_result",
          "data": {
            "text/plain": [
              "   onset_strength  chroma_stft  chroma_cqt  chroma_cens  melspectrogram  \\\n",
              "0        1.269440     0.414849    0.415270     0.234019       11.153827   \n",
              "1        1.230972     0.395894    0.469167     0.245205        1.090485   \n",
              "2        1.569868     0.543612    0.464331     0.255517        6.621119   \n",
              "3        1.394072     0.475708    0.418882     0.226650       10.792273   \n",
              "\n",
              "       mfcc  spectral_centroid  spectral_bandwidth  spectral_contrast  \\\n",
              "0 -0.802001        2463.201482         2749.829117          22.820644   \n",
              "1 -3.459708        2717.210370         2953.104944          22.134627   \n",
              "2  3.231187        3776.094899         3899.720995          22.020200   \n",
              "3 -3.180594        2806.727267         2953.301651          23.179163   \n",
              "\n",
              "   spectral_rolloff   tonnetz  zero_crossing_rate  \n",
              "0       5257.653202 -0.022264            0.051385  \n",
              "1       5446.900204  0.010294            0.064972  \n",
              "2       8096.181983 -0.020210            0.084326  \n",
              "3       5628.612680  0.006438            0.061303  "
            ],
            "text/html": [
              "\n",
              "  <div id=\"df-863089ad-0c59-45cf-a260-39221d64a6ce\">\n",
              "    <div class=\"colab-df-container\">\n",
              "      <div>\n",
              "<style scoped>\n",
              "    .dataframe tbody tr th:only-of-type {\n",
              "        vertical-align: middle;\n",
              "    }\n",
              "\n",
              "    .dataframe tbody tr th {\n",
              "        vertical-align: top;\n",
              "    }\n",
              "\n",
              "    .dataframe thead th {\n",
              "        text-align: right;\n",
              "    }\n",
              "</style>\n",
              "<table border=\"1\" class=\"dataframe\">\n",
              "  <thead>\n",
              "    <tr style=\"text-align: right;\">\n",
              "      <th></th>\n",
              "      <th>onset_strength</th>\n",
              "      <th>chroma_stft</th>\n",
              "      <th>chroma_cqt</th>\n",
              "      <th>chroma_cens</th>\n",
              "      <th>melspectrogram</th>\n",
              "      <th>mfcc</th>\n",
              "      <th>spectral_centroid</th>\n",
              "      <th>spectral_bandwidth</th>\n",
              "      <th>spectral_contrast</th>\n",
              "      <th>spectral_rolloff</th>\n",
              "      <th>tonnetz</th>\n",
              "      <th>zero_crossing_rate</th>\n",
              "    </tr>\n",
              "  </thead>\n",
              "  <tbody>\n",
              "    <tr>\n",
              "      <th>0</th>\n",
              "      <td>1.269440</td>\n",
              "      <td>0.414849</td>\n",
              "      <td>0.415270</td>\n",
              "      <td>0.234019</td>\n",
              "      <td>11.153827</td>\n",
              "      <td>-0.802001</td>\n",
              "      <td>2463.201482</td>\n",
              "      <td>2749.829117</td>\n",
              "      <td>22.820644</td>\n",
              "      <td>5257.653202</td>\n",
              "      <td>-0.022264</td>\n",
              "      <td>0.051385</td>\n",
              "    </tr>\n",
              "    <tr>\n",
              "      <th>1</th>\n",
              "      <td>1.230972</td>\n",
              "      <td>0.395894</td>\n",
              "      <td>0.469167</td>\n",
              "      <td>0.245205</td>\n",
              "      <td>1.090485</td>\n",
              "      <td>-3.459708</td>\n",
              "      <td>2717.210370</td>\n",
              "      <td>2953.104944</td>\n",
              "      <td>22.134627</td>\n",
              "      <td>5446.900204</td>\n",
              "      <td>0.010294</td>\n",
              "      <td>0.064972</td>\n",
              "    </tr>\n",
              "    <tr>\n",
              "      <th>2</th>\n",
              "      <td>1.569868</td>\n",
              "      <td>0.543612</td>\n",
              "      <td>0.464331</td>\n",
              "      <td>0.255517</td>\n",
              "      <td>6.621119</td>\n",
              "      <td>3.231187</td>\n",
              "      <td>3776.094899</td>\n",
              "      <td>3899.720995</td>\n",
              "      <td>22.020200</td>\n",
              "      <td>8096.181983</td>\n",
              "      <td>-0.020210</td>\n",
              "      <td>0.084326</td>\n",
              "    </tr>\n",
              "    <tr>\n",
              "      <th>3</th>\n",
              "      <td>1.394072</td>\n",
              "      <td>0.475708</td>\n",
              "      <td>0.418882</td>\n",
              "      <td>0.226650</td>\n",
              "      <td>10.792273</td>\n",
              "      <td>-3.180594</td>\n",
              "      <td>2806.727267</td>\n",
              "      <td>2953.301651</td>\n",
              "      <td>23.179163</td>\n",
              "      <td>5628.612680</td>\n",
              "      <td>0.006438</td>\n",
              "      <td>0.061303</td>\n",
              "    </tr>\n",
              "  </tbody>\n",
              "</table>\n",
              "</div>\n",
              "      <button class=\"colab-df-convert\" onclick=\"convertToInteractive('df-863089ad-0c59-45cf-a260-39221d64a6ce')\"\n",
              "              title=\"Convert this dataframe to an interactive table.\"\n",
              "              style=\"display:none;\">\n",
              "        \n",
              "  <svg xmlns=\"http://www.w3.org/2000/svg\" height=\"24px\"viewBox=\"0 0 24 24\"\n",
              "       width=\"24px\">\n",
              "    <path d=\"M0 0h24v24H0V0z\" fill=\"none\"/>\n",
              "    <path d=\"M18.56 5.44l.94 2.06.94-2.06 2.06-.94-2.06-.94-.94-2.06-.94 2.06-2.06.94zm-11 1L8.5 8.5l.94-2.06 2.06-.94-2.06-.94L8.5 2.5l-.94 2.06-2.06.94zm10 10l.94 2.06.94-2.06 2.06-.94-2.06-.94-.94-2.06-.94 2.06-2.06.94z\"/><path d=\"M17.41 7.96l-1.37-1.37c-.4-.4-.92-.59-1.43-.59-.52 0-1.04.2-1.43.59L10.3 9.45l-7.72 7.72c-.78.78-.78 2.05 0 2.83L4 21.41c.39.39.9.59 1.41.59.51 0 1.02-.2 1.41-.59l7.78-7.78 2.81-2.81c.8-.78.8-2.07 0-2.86zM5.41 20L4 18.59l7.72-7.72 1.47 1.35L5.41 20z\"/>\n",
              "  </svg>\n",
              "      </button>\n",
              "      \n",
              "  <style>\n",
              "    .colab-df-container {\n",
              "      display:flex;\n",
              "      flex-wrap:wrap;\n",
              "      gap: 12px;\n",
              "    }\n",
              "\n",
              "    .colab-df-convert {\n",
              "      background-color: #E8F0FE;\n",
              "      border: none;\n",
              "      border-radius: 50%;\n",
              "      cursor: pointer;\n",
              "      display: none;\n",
              "      fill: #1967D2;\n",
              "      height: 32px;\n",
              "      padding: 0 0 0 0;\n",
              "      width: 32px;\n",
              "    }\n",
              "\n",
              "    .colab-df-convert:hover {\n",
              "      background-color: #E2EBFA;\n",
              "      box-shadow: 0px 1px 2px rgba(60, 64, 67, 0.3), 0px 1px 3px 1px rgba(60, 64, 67, 0.15);\n",
              "      fill: #174EA6;\n",
              "    }\n",
              "\n",
              "    [theme=dark] .colab-df-convert {\n",
              "      background-color: #3B4455;\n",
              "      fill: #D2E3FC;\n",
              "    }\n",
              "\n",
              "    [theme=dark] .colab-df-convert:hover {\n",
              "      background-color: #434B5C;\n",
              "      box-shadow: 0px 1px 3px 1px rgba(0, 0, 0, 0.15);\n",
              "      filter: drop-shadow(0px 1px 2px rgba(0, 0, 0, 0.3));\n",
              "      fill: #FFFFFF;\n",
              "    }\n",
              "  </style>\n",
              "\n",
              "      <script>\n",
              "        const buttonEl =\n",
              "          document.querySelector('#df-863089ad-0c59-45cf-a260-39221d64a6ce button.colab-df-convert');\n",
              "        buttonEl.style.display =\n",
              "          google.colab.kernel.accessAllowed ? 'block' : 'none';\n",
              "\n",
              "        async function convertToInteractive(key) {\n",
              "          const element = document.querySelector('#df-863089ad-0c59-45cf-a260-39221d64a6ce');\n",
              "          const dataTable =\n",
              "            await google.colab.kernel.invokeFunction('convertToInteractive',\n",
              "                                                     [key], {});\n",
              "          if (!dataTable) return;\n",
              "\n",
              "          const docLinkHtml = 'Like what you see? Visit the ' +\n",
              "            '<a target=\"_blank\" href=https://colab.research.google.com/notebooks/data_table.ipynb>data table notebook</a>'\n",
              "            + ' to learn more about interactive tables.';\n",
              "          element.innerHTML = '';\n",
              "          dataTable['output_type'] = 'display_data';\n",
              "          await google.colab.output.renderOutput(dataTable, element);\n",
              "          const docLink = document.createElement('div');\n",
              "          docLink.innerHTML = docLinkHtml;\n",
              "          element.appendChild(docLink);\n",
              "        }\n",
              "      </script>\n",
              "    </div>\n",
              "  </div>\n",
              "  "
            ]
          },
          "metadata": {},
          "execution_count": 47
        }
      ]
    },
    {
      "cell_type": "code",
      "source": [
        "y_pred"
      ],
      "metadata": {
        "colab": {
          "base_uri": "https://localhost:8080/"
        },
        "id": "zAmV7mON6fu0",
        "outputId": "a0ef9bc6-682d-4791-8918-911f8a2ee749"
      },
      "execution_count": null,
      "outputs": [
        {
          "output_type": "execute_result",
          "data": {
            "text/plain": [
              "array([0, 5, 7, 4])"
            ]
          },
          "metadata": {},
          "execution_count": 48
        }
      ]
    },
    {
      "cell_type": "markdown",
      "source": [
        "# Step 3: Mapping from Music to Book Genre"
      ],
      "metadata": {
        "id": "q59gcrlzB6i1"
      }
    },
    {
      "cell_type": "code",
      "source": [
        "from gensim.models import KeyedVectors\n",
        "# Load vectors directly from the file\n",
        "model = KeyedVectors.load_word2vec_format('/content/drive/MyDrive/GoogleNews-vectors-negative300.bin.gz', binary=True)"
      ],
      "metadata": {
        "id": "n3U2UDKCCANN"
      },
      "execution_count": 3,
      "outputs": []
    },
    {
      "cell_type": "code",
      "source": [
        "# Calculate the mean vector for each book genre\n",
        "genre_vectors = []\n",
        "#book_genres = ['bhajan']\n",
        "\n",
        "music_list = ['blues', 'classical', 'country', 'disco', 'hiphop', 'jazz', 'metal', 'pop', 'raggae', 'rock']\n",
        "\n",
        "#main_genres = ['Fiction','Comedy','Adventure', 'Non-fiction', 'Romance', 'Mystery', 'Science Fiction', 'Fantasy', 'Horror', 'Historical Fiction', 'Young Adult', 'Spirituality']\n",
        "main_genres = ['History', 'Poetry', 'Autobiography', 'Romance','Biography', 'Literary', 'Spirituality', 'Western fiction', 'Comedy', 'Adventure',\n",
        "               'Dark', 'Sociology', 'Comic', 'Anthology', 'Drama', 'Thriller', 'Action',  'Conspiracy', 'Catastrophic', \n",
        "               'Young adult','Fantasy', 'Travel', 'Science', 'Speculative', 'Horror', 'Mystery', 'Non fiction']\n",
        "\n",
        "for genre in music_list:\n",
        "    genre = genre.replace('-', ' ')\n",
        "    genre = genre.replace('\\'', ' ')\n",
        "    #genre = genre.replace('edisonade', 'inventor')\n",
        "    tokens = genre.lower().split()\n",
        "    vector = sum(model[token] for token in tokens) / len(tokens)\n",
        "    genre_vectors.append(vector)\n",
        "\n",
        "\n",
        "\n",
        "main_genre_vectors = []\n",
        "for genre in main_genres:\n",
        "    genre = genre.replace('-', ' ')\n",
        "    tokens = genre.lower().split()\n",
        "    vector = sum(model[token] for token in tokens) / len(tokens)\n",
        "    main_genre_vectors.append(vector)"
      ],
      "metadata": {
        "id": "_XtItQ9Pr5MH"
      },
      "execution_count": 4,
      "outputs": []
    },
    {
      "cell_type": "code",
      "source": [
        "len(genre_vectors)"
      ],
      "metadata": {
        "colab": {
          "base_uri": "https://localhost:8080/"
        },
        "id": "o2DL3NjiJzA4",
        "outputId": "590b9124-0e46-4058-c5e1-fc2f70db9fe6"
      },
      "execution_count": 5,
      "outputs": [
        {
          "output_type": "execute_result",
          "data": {
            "text/plain": [
              "10"
            ]
          },
          "metadata": {},
          "execution_count": 5
        }
      ]
    },
    {
      "cell_type": "code",
      "source": [
        "len(main_genres)"
      ],
      "metadata": {
        "colab": {
          "base_uri": "https://localhost:8080/"
        },
        "id": "kPFiFnSnJ5ev",
        "outputId": "b7f9f107-be29-47d3-b4b3-bc172f8242f0"
      },
      "execution_count": 6,
      "outputs": [
        {
          "output_type": "execute_result",
          "data": {
            "text/plain": [
              "27"
            ]
          },
          "metadata": {},
          "execution_count": 6
        }
      ]
    },
    {
      "cell_type": "code",
      "source": [
        "len(main_genre_vectors)"
      ],
      "metadata": {
        "colab": {
          "base_uri": "https://localhost:8080/"
        },
        "id": "OQ6TpbWdJBLM",
        "outputId": "6b8eb327-4f67-4d48-def4-cc2135cf87ed"
      },
      "execution_count": 7,
      "outputs": [
        {
          "output_type": "execute_result",
          "data": {
            "text/plain": [
              "27"
            ]
          },
          "metadata": {},
          "execution_count": 7
        }
      ]
    },
    {
      "cell_type": "code",
      "source": [
        "import pandas as pd\n",
        "genre_df = pd.DataFrame()\n",
        "genre_df['genre'] = music_list"
      ],
      "metadata": {
        "id": "lWFEyBPFGJc_"
      },
      "execution_count": 8,
      "outputs": []
    },
    {
      "cell_type": "code",
      "source": [
        "len(music_list)"
      ],
      "metadata": {
        "colab": {
          "base_uri": "https://localhost:8080/"
        },
        "id": "QcaLHgUtGKHc",
        "outputId": "f419a10e-2414-40e9-80b8-eb1e2844c06a"
      },
      "execution_count": 9,
      "outputs": [
        {
          "output_type": "execute_result",
          "data": {
            "text/plain": [
              "10"
            ]
          },
          "metadata": {},
          "execution_count": 9
        }
      ]
    },
    {
      "cell_type": "code",
      "source": [
        "from sklearn.metrics.pairwise import cosine_similarity\n",
        "\n",
        "# similarity_list = []\n",
        "# map_j_list = []\n",
        "u_genre_list = []\n",
        "for j in range(0,10):\n",
        "  similarity_list = []\n",
        "  map_j_list = []\n",
        "  for i in range(len(main_genre_vectors)):\n",
        "    similarity = cosine_similarity([genre_vectors[j]], [main_genre_vectors[i]])[0][0]\n",
        "    similarity_list.append(similarity)\n",
        "    map_j_list.append(i)\n",
        "  #idx = similarity_list.index(sorted(similarity_list)[-1])\n",
        "  top5_ls = [similarity_list.index(x) for x in sorted(similarity_list)[-5:]]\n",
        "  temp = []\n",
        "  for k in top5_ls:\n",
        "    temp.append(main_genres[k])\n",
        "  u_genre_list.append([temp])  \n",
        "  # print(main_genres[i])\n",
        "  # print(u_genre_list[j])\n",
        "\n",
        "\n",
        "genre_df['m-genre'] = u_genre_list"
      ],
      "metadata": {
        "id": "ay_Fm889GMpv"
      },
      "execution_count": 10,
      "outputs": []
    },
    {
      "cell_type": "code",
      "source": [
        "genre_df"
      ],
      "metadata": {
        "colab": {
          "base_uri": "https://localhost:8080/",
          "height": 363
        },
        "id": "cKDucyeDGS31",
        "outputId": "81c97cb8-6aa2-4b62-fb80-5ebb1702ac61"
      },
      "execution_count": 13,
      "outputs": [
        {
          "output_type": "execute_result",
          "data": {
            "text/plain": [
              "       genre                                            m-genre\n",
              "0      blues    [[Romance, Dark, Spirituality, Comedy, Poetry]]\n",
              "1  classical  [[Sociology, Western fiction, Spirituality, Li...\n",
              "2    country  [[Catastrophic, Young adult, Travel, Western f...\n",
              "3      disco   [[Poetry, Young adult, Romance, Horror, Comedy]]\n",
              "4     hiphop     [[Anthology, Literary, Comic, Poetry, Comedy]]\n",
              "5       jazz  [[Anthology, Spirituality, Comedy, Literary, P...\n",
              "6      metal  [[Horror, Young adult, Western fiction, Dark, ...\n",
              "7        pop      [[Fantasy, Literary, Romance, Comic, Comedy]]\n",
              "8     raggae  [[Comedy, Anthology, Literary, Spirituality, P...\n",
              "9       rock  [[Poetry, Western fiction, Literary, Comic, Co..."
            ],
            "text/html": [
              "\n",
              "  <div id=\"df-2b2eef3e-b13c-4b6d-a823-f6e8491a96e7\">\n",
              "    <div class=\"colab-df-container\">\n",
              "      <div>\n",
              "<style scoped>\n",
              "    .dataframe tbody tr th:only-of-type {\n",
              "        vertical-align: middle;\n",
              "    }\n",
              "\n",
              "    .dataframe tbody tr th {\n",
              "        vertical-align: top;\n",
              "    }\n",
              "\n",
              "    .dataframe thead th {\n",
              "        text-align: right;\n",
              "    }\n",
              "</style>\n",
              "<table border=\"1\" class=\"dataframe\">\n",
              "  <thead>\n",
              "    <tr style=\"text-align: right;\">\n",
              "      <th></th>\n",
              "      <th>genre</th>\n",
              "      <th>m-genre</th>\n",
              "    </tr>\n",
              "  </thead>\n",
              "  <tbody>\n",
              "    <tr>\n",
              "      <th>0</th>\n",
              "      <td>blues</td>\n",
              "      <td>[[Romance, Dark, Spirituality, Comedy, Poetry]]</td>\n",
              "    </tr>\n",
              "    <tr>\n",
              "      <th>1</th>\n",
              "      <td>classical</td>\n",
              "      <td>[[Sociology, Western fiction, Spirituality, Li...</td>\n",
              "    </tr>\n",
              "    <tr>\n",
              "      <th>2</th>\n",
              "      <td>country</td>\n",
              "      <td>[[Catastrophic, Young adult, Travel, Western f...</td>\n",
              "    </tr>\n",
              "    <tr>\n",
              "      <th>3</th>\n",
              "      <td>disco</td>\n",
              "      <td>[[Poetry, Young adult, Romance, Horror, Comedy]]</td>\n",
              "    </tr>\n",
              "    <tr>\n",
              "      <th>4</th>\n",
              "      <td>hiphop</td>\n",
              "      <td>[[Anthology, Literary, Comic, Poetry, Comedy]]</td>\n",
              "    </tr>\n",
              "    <tr>\n",
              "      <th>5</th>\n",
              "      <td>jazz</td>\n",
              "      <td>[[Anthology, Spirituality, Comedy, Literary, P...</td>\n",
              "    </tr>\n",
              "    <tr>\n",
              "      <th>6</th>\n",
              "      <td>metal</td>\n",
              "      <td>[[Horror, Young adult, Western fiction, Dark, ...</td>\n",
              "    </tr>\n",
              "    <tr>\n",
              "      <th>7</th>\n",
              "      <td>pop</td>\n",
              "      <td>[[Fantasy, Literary, Romance, Comic, Comedy]]</td>\n",
              "    </tr>\n",
              "    <tr>\n",
              "      <th>8</th>\n",
              "      <td>raggae</td>\n",
              "      <td>[[Comedy, Anthology, Literary, Spirituality, P...</td>\n",
              "    </tr>\n",
              "    <tr>\n",
              "      <th>9</th>\n",
              "      <td>rock</td>\n",
              "      <td>[[Poetry, Western fiction, Literary, Comic, Co...</td>\n",
              "    </tr>\n",
              "  </tbody>\n",
              "</table>\n",
              "</div>\n",
              "      <button class=\"colab-df-convert\" onclick=\"convertToInteractive('df-2b2eef3e-b13c-4b6d-a823-f6e8491a96e7')\"\n",
              "              title=\"Convert this dataframe to an interactive table.\"\n",
              "              style=\"display:none;\">\n",
              "        \n",
              "  <svg xmlns=\"http://www.w3.org/2000/svg\" height=\"24px\"viewBox=\"0 0 24 24\"\n",
              "       width=\"24px\">\n",
              "    <path d=\"M0 0h24v24H0V0z\" fill=\"none\"/>\n",
              "    <path d=\"M18.56 5.44l.94 2.06.94-2.06 2.06-.94-2.06-.94-.94-2.06-.94 2.06-2.06.94zm-11 1L8.5 8.5l.94-2.06 2.06-.94-2.06-.94L8.5 2.5l-.94 2.06-2.06.94zm10 10l.94 2.06.94-2.06 2.06-.94-2.06-.94-.94-2.06-.94 2.06-2.06.94z\"/><path d=\"M17.41 7.96l-1.37-1.37c-.4-.4-.92-.59-1.43-.59-.52 0-1.04.2-1.43.59L10.3 9.45l-7.72 7.72c-.78.78-.78 2.05 0 2.83L4 21.41c.39.39.9.59 1.41.59.51 0 1.02-.2 1.41-.59l7.78-7.78 2.81-2.81c.8-.78.8-2.07 0-2.86zM5.41 20L4 18.59l7.72-7.72 1.47 1.35L5.41 20z\"/>\n",
              "  </svg>\n",
              "      </button>\n",
              "      \n",
              "  <style>\n",
              "    .colab-df-container {\n",
              "      display:flex;\n",
              "      flex-wrap:wrap;\n",
              "      gap: 12px;\n",
              "    }\n",
              "\n",
              "    .colab-df-convert {\n",
              "      background-color: #E8F0FE;\n",
              "      border: none;\n",
              "      border-radius: 50%;\n",
              "      cursor: pointer;\n",
              "      display: none;\n",
              "      fill: #1967D2;\n",
              "      height: 32px;\n",
              "      padding: 0 0 0 0;\n",
              "      width: 32px;\n",
              "    }\n",
              "\n",
              "    .colab-df-convert:hover {\n",
              "      background-color: #E2EBFA;\n",
              "      box-shadow: 0px 1px 2px rgba(60, 64, 67, 0.3), 0px 1px 3px 1px rgba(60, 64, 67, 0.15);\n",
              "      fill: #174EA6;\n",
              "    }\n",
              "\n",
              "    [theme=dark] .colab-df-convert {\n",
              "      background-color: #3B4455;\n",
              "      fill: #D2E3FC;\n",
              "    }\n",
              "\n",
              "    [theme=dark] .colab-df-convert:hover {\n",
              "      background-color: #434B5C;\n",
              "      box-shadow: 0px 1px 3px 1px rgba(0, 0, 0, 0.15);\n",
              "      filter: drop-shadow(0px 1px 2px rgba(0, 0, 0, 0.3));\n",
              "      fill: #FFFFFF;\n",
              "    }\n",
              "  </style>\n",
              "\n",
              "      <script>\n",
              "        const buttonEl =\n",
              "          document.querySelector('#df-2b2eef3e-b13c-4b6d-a823-f6e8491a96e7 button.colab-df-convert');\n",
              "        buttonEl.style.display =\n",
              "          google.colab.kernel.accessAllowed ? 'block' : 'none';\n",
              "\n",
              "        async function convertToInteractive(key) {\n",
              "          const element = document.querySelector('#df-2b2eef3e-b13c-4b6d-a823-f6e8491a96e7');\n",
              "          const dataTable =\n",
              "            await google.colab.kernel.invokeFunction('convertToInteractive',\n",
              "                                                     [key], {});\n",
              "          if (!dataTable) return;\n",
              "\n",
              "          const docLinkHtml = 'Like what you see? Visit the ' +\n",
              "            '<a target=\"_blank\" href=https://colab.research.google.com/notebooks/data_table.ipynb>data table notebook</a>'\n",
              "            + ' to learn more about interactive tables.';\n",
              "          element.innerHTML = '';\n",
              "          dataTable['output_type'] = 'display_data';\n",
              "          await google.colab.output.renderOutput(dataTable, element);\n",
              "          const docLink = document.createElement('div');\n",
              "          docLink.innerHTML = docLinkHtml;\n",
              "          element.appendChild(docLink);\n",
              "        }\n",
              "      </script>\n",
              "    </div>\n",
              "  </div>\n",
              "  "
            ]
          },
          "metadata": {},
          "execution_count": 13
        }
      ]
    },
    {
      "cell_type": "code",
      "source": [
        "dct = {}\n",
        "dct.update(genre_df['m-genre'])\n",
        "dct"
      ],
      "metadata": {
        "colab": {
          "base_uri": "https://localhost:8080/"
        },
        "id": "UoaKTK6JGVYR",
        "outputId": "e4cd10a8-4697-46d2-e0b3-4251ac15fb9f"
      },
      "execution_count": null,
      "outputs": [
        {
          "output_type": "execute_result",
          "data": {
            "text/plain": [
              "{0: [['Romance', 'Dark', 'Spirituality', 'Comedy', 'Poetry']],\n",
              " 1: [['Sociology', 'Western fiction', 'Spirituality', 'Literary', 'Poetry']],\n",
              " 2: [['Catastrophic', 'Young adult', 'Travel', 'Western fiction', 'History']],\n",
              " 3: [['Poetry', 'Young adult', 'Romance', 'Horror', 'Comedy']],\n",
              " 4: [['Anthology', 'Literary', 'Comic', 'Poetry', 'Comedy']],\n",
              " 5: [['Anthology', 'Spirituality', 'Comedy', 'Literary', 'Poetry']],\n",
              " 6: [['Horror', 'Young adult', 'Western fiction', 'Dark', 'Speculative']],\n",
              " 7: [['Fantasy', 'Literary', 'Romance', 'Comic', 'Comedy']],\n",
              " 8: [['Comedy', 'Anthology', 'Literary', 'Spirituality', 'Poetry']],\n",
              " 9: [['Poetry', 'Western fiction', 'Literary', 'Comic', 'Comedy']]}"
            ]
          },
          "metadata": {},
          "execution_count": 61
        }
      ]
    },
    {
      "cell_type": "markdown",
      "source": [
        "# Step 4: Processing Book Dataset"
      ],
      "metadata": {
        "id": "YYmsBByYRF0q"
      }
    },
    {
      "cell_type": "code",
      "execution_count": null,
      "metadata": {
        "id": "548e5900"
      },
      "outputs": [],
      "source": [
        "import csv"
      ]
    },
    {
      "cell_type": "markdown",
      "source": [
        "Importing dataset"
      ],
      "metadata": {
        "id": "w6v8R5hC8S0t"
      }
    },
    {
      "cell_type": "code",
      "execution_count": null,
      "metadata": {
        "id": "25255b15"
      },
      "outputs": [],
      "source": [
        "l = []\n",
        "\n",
        "with open(\"/content/drive/MyDrive/booksummaries.txt\", 'r', encoding=\"utf8\") as file:\n",
        "    r = csv.reader(file, dialect='excel-tab')\n",
        "    for row in r:\n",
        "        l.append(row)"
      ]
    },
    {
      "cell_type": "markdown",
      "source": [
        "Identifying components of the book from the obtained list and storing the same in a dataframe"
      ],
      "metadata": {
        "id": "_uBrCbU48uC7"
      }
    },
    {
      "cell_type": "code",
      "execution_count": null,
      "metadata": {
        "id": "1f5347b6"
      },
      "outputs": [],
      "source": [
        "Id = []\n",
        "Name = []\n",
        "Description = []\n",
        "Genre = []"
      ]
    },
    {
      "cell_type": "code",
      "execution_count": null,
      "metadata": {
        "id": "f10fb259"
      },
      "outputs": [],
      "source": [
        "for i in l:\n",
        "    Id.append(i[0])\n",
        "    Name.append(i[2])\n",
        "    Genre.append(i[5])\n",
        "    Description.append(i[6])\n",
        "\n",
        "df = pd.DataFrame({'id': Id, 'name': Name, 'description': Description,\n",
        "                       'genre': Genre})"
      ]
    },
    {
      "cell_type": "code",
      "execution_count": null,
      "metadata": {
        "colab": {
          "base_uri": "https://localhost:8080/",
          "height": 206
        },
        "id": "d5107147",
        "outputId": "11d3ef8d-09ca-43fa-c0b2-a9a19f09da02"
      },
      "outputs": [
        {
          "output_type": "execute_result",
          "data": {
            "text/plain": [
              "     id                                       name  \\\n",
              "0   620                                Animal Farm   \n",
              "1   843                         A Clockwork Orange   \n",
              "2   986                                 The Plague   \n",
              "3  1756  An Enquiry Concerning Human Understanding   \n",
              "4  2080                       A Fire Upon the Deep   \n",
              "\n",
              "                                         description  \\\n",
              "0   Old Major, the old boar on the Manor Farm, ca...   \n",
              "1   Alex, a teenager living in near-future Englan...   \n",
              "2   The text of The Plague is divided into five p...   \n",
              "3   The argument of the Enquiry proceeds by a ser...   \n",
              "4   The novel posits that space around the Milky ...   \n",
              "\n",
              "                                               genre  \n",
              "0  {\"/m/016lj8\": \"Roman \\u00e0 clef\", \"/m/06nbt\":...  \n",
              "1  {\"/m/06n90\": \"Science Fiction\", \"/m/0l67h\": \"N...  \n",
              "2  {\"/m/02m4t\": \"Existentialism\", \"/m/02xlf\": \"Fi...  \n",
              "3                                                     \n",
              "4  {\"/m/03lrw\": \"Hard science fiction\", \"/m/06n90...  "
            ],
            "text/html": [
              "\n",
              "  <div id=\"df-87fcf515-9be4-4898-bd35-f39dd65fd92c\">\n",
              "    <div class=\"colab-df-container\">\n",
              "      <div>\n",
              "<style scoped>\n",
              "    .dataframe tbody tr th:only-of-type {\n",
              "        vertical-align: middle;\n",
              "    }\n",
              "\n",
              "    .dataframe tbody tr th {\n",
              "        vertical-align: top;\n",
              "    }\n",
              "\n",
              "    .dataframe thead th {\n",
              "        text-align: right;\n",
              "    }\n",
              "</style>\n",
              "<table border=\"1\" class=\"dataframe\">\n",
              "  <thead>\n",
              "    <tr style=\"text-align: right;\">\n",
              "      <th></th>\n",
              "      <th>id</th>\n",
              "      <th>name</th>\n",
              "      <th>description</th>\n",
              "      <th>genre</th>\n",
              "    </tr>\n",
              "  </thead>\n",
              "  <tbody>\n",
              "    <tr>\n",
              "      <th>0</th>\n",
              "      <td>620</td>\n",
              "      <td>Animal Farm</td>\n",
              "      <td>Old Major, the old boar on the Manor Farm, ca...</td>\n",
              "      <td>{\"/m/016lj8\": \"Roman \\u00e0 clef\", \"/m/06nbt\":...</td>\n",
              "    </tr>\n",
              "    <tr>\n",
              "      <th>1</th>\n",
              "      <td>843</td>\n",
              "      <td>A Clockwork Orange</td>\n",
              "      <td>Alex, a teenager living in near-future Englan...</td>\n",
              "      <td>{\"/m/06n90\": \"Science Fiction\", \"/m/0l67h\": \"N...</td>\n",
              "    </tr>\n",
              "    <tr>\n",
              "      <th>2</th>\n",
              "      <td>986</td>\n",
              "      <td>The Plague</td>\n",
              "      <td>The text of The Plague is divided into five p...</td>\n",
              "      <td>{\"/m/02m4t\": \"Existentialism\", \"/m/02xlf\": \"Fi...</td>\n",
              "    </tr>\n",
              "    <tr>\n",
              "      <th>3</th>\n",
              "      <td>1756</td>\n",
              "      <td>An Enquiry Concerning Human Understanding</td>\n",
              "      <td>The argument of the Enquiry proceeds by a ser...</td>\n",
              "      <td></td>\n",
              "    </tr>\n",
              "    <tr>\n",
              "      <th>4</th>\n",
              "      <td>2080</td>\n",
              "      <td>A Fire Upon the Deep</td>\n",
              "      <td>The novel posits that space around the Milky ...</td>\n",
              "      <td>{\"/m/03lrw\": \"Hard science fiction\", \"/m/06n90...</td>\n",
              "    </tr>\n",
              "  </tbody>\n",
              "</table>\n",
              "</div>\n",
              "      <button class=\"colab-df-convert\" onclick=\"convertToInteractive('df-87fcf515-9be4-4898-bd35-f39dd65fd92c')\"\n",
              "              title=\"Convert this dataframe to an interactive table.\"\n",
              "              style=\"display:none;\">\n",
              "        \n",
              "  <svg xmlns=\"http://www.w3.org/2000/svg\" height=\"24px\"viewBox=\"0 0 24 24\"\n",
              "       width=\"24px\">\n",
              "    <path d=\"M0 0h24v24H0V0z\" fill=\"none\"/>\n",
              "    <path d=\"M18.56 5.44l.94 2.06.94-2.06 2.06-.94-2.06-.94-.94-2.06-.94 2.06-2.06.94zm-11 1L8.5 8.5l.94-2.06 2.06-.94-2.06-.94L8.5 2.5l-.94 2.06-2.06.94zm10 10l.94 2.06.94-2.06 2.06-.94-2.06-.94-.94-2.06-.94 2.06-2.06.94z\"/><path d=\"M17.41 7.96l-1.37-1.37c-.4-.4-.92-.59-1.43-.59-.52 0-1.04.2-1.43.59L10.3 9.45l-7.72 7.72c-.78.78-.78 2.05 0 2.83L4 21.41c.39.39.9.59 1.41.59.51 0 1.02-.2 1.41-.59l7.78-7.78 2.81-2.81c.8-.78.8-2.07 0-2.86zM5.41 20L4 18.59l7.72-7.72 1.47 1.35L5.41 20z\"/>\n",
              "  </svg>\n",
              "      </button>\n",
              "      \n",
              "  <style>\n",
              "    .colab-df-container {\n",
              "      display:flex;\n",
              "      flex-wrap:wrap;\n",
              "      gap: 12px;\n",
              "    }\n",
              "\n",
              "    .colab-df-convert {\n",
              "      background-color: #E8F0FE;\n",
              "      border: none;\n",
              "      border-radius: 50%;\n",
              "      cursor: pointer;\n",
              "      display: none;\n",
              "      fill: #1967D2;\n",
              "      height: 32px;\n",
              "      padding: 0 0 0 0;\n",
              "      width: 32px;\n",
              "    }\n",
              "\n",
              "    .colab-df-convert:hover {\n",
              "      background-color: #E2EBFA;\n",
              "      box-shadow: 0px 1px 2px rgba(60, 64, 67, 0.3), 0px 1px 3px 1px rgba(60, 64, 67, 0.15);\n",
              "      fill: #174EA6;\n",
              "    }\n",
              "\n",
              "    [theme=dark] .colab-df-convert {\n",
              "      background-color: #3B4455;\n",
              "      fill: #D2E3FC;\n",
              "    }\n",
              "\n",
              "    [theme=dark] .colab-df-convert:hover {\n",
              "      background-color: #434B5C;\n",
              "      box-shadow: 0px 1px 3px 1px rgba(0, 0, 0, 0.15);\n",
              "      filter: drop-shadow(0px 1px 2px rgba(0, 0, 0, 0.3));\n",
              "      fill: #FFFFFF;\n",
              "    }\n",
              "  </style>\n",
              "\n",
              "      <script>\n",
              "        const buttonEl =\n",
              "          document.querySelector('#df-87fcf515-9be4-4898-bd35-f39dd65fd92c button.colab-df-convert');\n",
              "        buttonEl.style.display =\n",
              "          google.colab.kernel.accessAllowed ? 'block' : 'none';\n",
              "\n",
              "        async function convertToInteractive(key) {\n",
              "          const element = document.querySelector('#df-87fcf515-9be4-4898-bd35-f39dd65fd92c');\n",
              "          const dataTable =\n",
              "            await google.colab.kernel.invokeFunction('convertToInteractive',\n",
              "                                                     [key], {});\n",
              "          if (!dataTable) return;\n",
              "\n",
              "          const docLinkHtml = 'Like what you see? Visit the ' +\n",
              "            '<a target=\"_blank\" href=https://colab.research.google.com/notebooks/data_table.ipynb>data table notebook</a>'\n",
              "            + ' to learn more about interactive tables.';\n",
              "          element.innerHTML = '';\n",
              "          dataTable['output_type'] = 'display_data';\n",
              "          await google.colab.output.renderOutput(dataTable, element);\n",
              "          const docLink = document.createElement('div');\n",
              "          docLink.innerHTML = docLinkHtml;\n",
              "          element.appendChild(docLink);\n",
              "        }\n",
              "      </script>\n",
              "    </div>\n",
              "  </div>\n",
              "  "
            ]
          },
          "metadata": {},
          "execution_count": 68
        }
      ],
      "source": [
        "df.head()"
      ]
    },
    {
      "cell_type": "code",
      "execution_count": null,
      "metadata": {
        "colab": {
          "base_uri": "https://localhost:8080/",
          "height": 206
        },
        "id": "b2ef9038",
        "outputId": "243e3021-c051-4aaa-a818-cbe0c74d19d8"
      },
      "outputs": [
        {
          "output_type": "execute_result",
          "data": {
            "text/plain": [
              "             id                                               name  \\\n",
              "16554  36934824                                     Under Wildwood   \n",
              "16555  37054020                                  Transfer of Power   \n",
              "16556  37122323                                            Decoded   \n",
              "16557  37132319  America Again: Re-becoming The Greatness We Ne...   \n",
              "16558  37159503                                          Poor Folk   \n",
              "\n",
              "                                             description  \\\n",
              "16554   Prue McKeel, having rescued her brother from ...   \n",
              "16555   The reader first meets Rapp while he is doing...   \n",
              "16556   The book follows very rough chronological ord...   \n",
              "16557   Colbert addresses topics including Wall Stree...   \n",
              "16558   Makar Devushkin and Varvara Dobroselova are s...   \n",
              "\n",
              "                                                   genre  \n",
              "16554                                                     \n",
              "16555   {\"/m/01jfsb\": \"Thriller\", \"/m/02xlf\": \"Fiction\"}  \n",
              "16556                       {\"/m/0xdf\": \"Autobiography\"}  \n",
              "16557                                                     \n",
              "16558  {\"/m/02ql9\": \"Epistolary novel\", \"/m/014dfn\": ...  "
            ],
            "text/html": [
              "\n",
              "  <div id=\"df-31486a4e-c836-4a05-a22c-af8555f55bad\">\n",
              "    <div class=\"colab-df-container\">\n",
              "      <div>\n",
              "<style scoped>\n",
              "    .dataframe tbody tr th:only-of-type {\n",
              "        vertical-align: middle;\n",
              "    }\n",
              "\n",
              "    .dataframe tbody tr th {\n",
              "        vertical-align: top;\n",
              "    }\n",
              "\n",
              "    .dataframe thead th {\n",
              "        text-align: right;\n",
              "    }\n",
              "</style>\n",
              "<table border=\"1\" class=\"dataframe\">\n",
              "  <thead>\n",
              "    <tr style=\"text-align: right;\">\n",
              "      <th></th>\n",
              "      <th>id</th>\n",
              "      <th>name</th>\n",
              "      <th>description</th>\n",
              "      <th>genre</th>\n",
              "    </tr>\n",
              "  </thead>\n",
              "  <tbody>\n",
              "    <tr>\n",
              "      <th>16554</th>\n",
              "      <td>36934824</td>\n",
              "      <td>Under Wildwood</td>\n",
              "      <td>Prue McKeel, having rescued her brother from ...</td>\n",
              "      <td></td>\n",
              "    </tr>\n",
              "    <tr>\n",
              "      <th>16555</th>\n",
              "      <td>37054020</td>\n",
              "      <td>Transfer of Power</td>\n",
              "      <td>The reader first meets Rapp while he is doing...</td>\n",
              "      <td>{\"/m/01jfsb\": \"Thriller\", \"/m/02xlf\": \"Fiction\"}</td>\n",
              "    </tr>\n",
              "    <tr>\n",
              "      <th>16556</th>\n",
              "      <td>37122323</td>\n",
              "      <td>Decoded</td>\n",
              "      <td>The book follows very rough chronological ord...</td>\n",
              "      <td>{\"/m/0xdf\": \"Autobiography\"}</td>\n",
              "    </tr>\n",
              "    <tr>\n",
              "      <th>16557</th>\n",
              "      <td>37132319</td>\n",
              "      <td>America Again: Re-becoming The Greatness We Ne...</td>\n",
              "      <td>Colbert addresses topics including Wall Stree...</td>\n",
              "      <td></td>\n",
              "    </tr>\n",
              "    <tr>\n",
              "      <th>16558</th>\n",
              "      <td>37159503</td>\n",
              "      <td>Poor Folk</td>\n",
              "      <td>Makar Devushkin and Varvara Dobroselova are s...</td>\n",
              "      <td>{\"/m/02ql9\": \"Epistolary novel\", \"/m/014dfn\": ...</td>\n",
              "    </tr>\n",
              "  </tbody>\n",
              "</table>\n",
              "</div>\n",
              "      <button class=\"colab-df-convert\" onclick=\"convertToInteractive('df-31486a4e-c836-4a05-a22c-af8555f55bad')\"\n",
              "              title=\"Convert this dataframe to an interactive table.\"\n",
              "              style=\"display:none;\">\n",
              "        \n",
              "  <svg xmlns=\"http://www.w3.org/2000/svg\" height=\"24px\"viewBox=\"0 0 24 24\"\n",
              "       width=\"24px\">\n",
              "    <path d=\"M0 0h24v24H0V0z\" fill=\"none\"/>\n",
              "    <path d=\"M18.56 5.44l.94 2.06.94-2.06 2.06-.94-2.06-.94-.94-2.06-.94 2.06-2.06.94zm-11 1L8.5 8.5l.94-2.06 2.06-.94-2.06-.94L8.5 2.5l-.94 2.06-2.06.94zm10 10l.94 2.06.94-2.06 2.06-.94-2.06-.94-.94-2.06-.94 2.06-2.06.94z\"/><path d=\"M17.41 7.96l-1.37-1.37c-.4-.4-.92-.59-1.43-.59-.52 0-1.04.2-1.43.59L10.3 9.45l-7.72 7.72c-.78.78-.78 2.05 0 2.83L4 21.41c.39.39.9.59 1.41.59.51 0 1.02-.2 1.41-.59l7.78-7.78 2.81-2.81c.8-.78.8-2.07 0-2.86zM5.41 20L4 18.59l7.72-7.72 1.47 1.35L5.41 20z\"/>\n",
              "  </svg>\n",
              "      </button>\n",
              "      \n",
              "  <style>\n",
              "    .colab-df-container {\n",
              "      display:flex;\n",
              "      flex-wrap:wrap;\n",
              "      gap: 12px;\n",
              "    }\n",
              "\n",
              "    .colab-df-convert {\n",
              "      background-color: #E8F0FE;\n",
              "      border: none;\n",
              "      border-radius: 50%;\n",
              "      cursor: pointer;\n",
              "      display: none;\n",
              "      fill: #1967D2;\n",
              "      height: 32px;\n",
              "      padding: 0 0 0 0;\n",
              "      width: 32px;\n",
              "    }\n",
              "\n",
              "    .colab-df-convert:hover {\n",
              "      background-color: #E2EBFA;\n",
              "      box-shadow: 0px 1px 2px rgba(60, 64, 67, 0.3), 0px 1px 3px 1px rgba(60, 64, 67, 0.15);\n",
              "      fill: #174EA6;\n",
              "    }\n",
              "\n",
              "    [theme=dark] .colab-df-convert {\n",
              "      background-color: #3B4455;\n",
              "      fill: #D2E3FC;\n",
              "    }\n",
              "\n",
              "    [theme=dark] .colab-df-convert:hover {\n",
              "      background-color: #434B5C;\n",
              "      box-shadow: 0px 1px 3px 1px rgba(0, 0, 0, 0.15);\n",
              "      filter: drop-shadow(0px 1px 2px rgba(0, 0, 0, 0.3));\n",
              "      fill: #FFFFFF;\n",
              "    }\n",
              "  </style>\n",
              "\n",
              "      <script>\n",
              "        const buttonEl =\n",
              "          document.querySelector('#df-31486a4e-c836-4a05-a22c-af8555f55bad button.colab-df-convert');\n",
              "        buttonEl.style.display =\n",
              "          google.colab.kernel.accessAllowed ? 'block' : 'none';\n",
              "\n",
              "        async function convertToInteractive(key) {\n",
              "          const element = document.querySelector('#df-31486a4e-c836-4a05-a22c-af8555f55bad');\n",
              "          const dataTable =\n",
              "            await google.colab.kernel.invokeFunction('convertToInteractive',\n",
              "                                                     [key], {});\n",
              "          if (!dataTable) return;\n",
              "\n",
              "          const docLinkHtml = 'Like what you see? Visit the ' +\n",
              "            '<a target=\"_blank\" href=https://colab.research.google.com/notebooks/data_table.ipynb>data table notebook</a>'\n",
              "            + ' to learn more about interactive tables.';\n",
              "          element.innerHTML = '';\n",
              "          dataTable['output_type'] = 'display_data';\n",
              "          await google.colab.output.renderOutput(dataTable, element);\n",
              "          const docLink = document.createElement('div');\n",
              "          docLink.innerHTML = docLinkHtml;\n",
              "          element.appendChild(docLink);\n",
              "        }\n",
              "      </script>\n",
              "    </div>\n",
              "  </div>\n",
              "  "
            ]
          },
          "metadata": {},
          "execution_count": 69
        }
      ],
      "source": [
        "df.tail()"
      ]
    },
    {
      "cell_type": "code",
      "execution_count": null,
      "metadata": {
        "colab": {
          "base_uri": "https://localhost:8080/"
        },
        "id": "3a6d2ac6",
        "outputId": "ce9c0491-44b6-4e9c-a133-219acb7479dc"
      },
      "outputs": [
        {
          "output_type": "execute_result",
          "data": {
            "text/plain": [
              "id             object\n",
              "name           object\n",
              "description    object\n",
              "genre          object\n",
              "dtype: object"
            ]
          },
          "metadata": {},
          "execution_count": 70
        }
      ],
      "source": [
        "df.dtypes"
      ]
    },
    {
      "cell_type": "code",
      "execution_count": null,
      "metadata": {
        "id": "1c3b3284"
      },
      "outputs": [],
      "source": [
        "df['id'] = df['id'].astype('int')"
      ]
    },
    {
      "cell_type": "markdown",
      "source": [
        "Dropping rows with empty genre"
      ],
      "metadata": {
        "id": "HwghpLAb9Pp_"
      }
    },
    {
      "cell_type": "code",
      "execution_count": null,
      "metadata": {
        "colab": {
          "base_uri": "https://localhost:8080/",
          "height": 49
        },
        "id": "59413f44",
        "outputId": "cb47d8e5-8b92-4de7-ed76-8d07e594fded"
      },
      "outputs": [
        {
          "output_type": "execute_result",
          "data": {
            "text/plain": [
              "Empty DataFrame\n",
              "Columns: [id, name, description, genre]\n",
              "Index: []"
            ],
            "text/html": [
              "\n",
              "  <div id=\"df-03138525-9d00-4879-a740-48c3fdc0b549\">\n",
              "    <div class=\"colab-df-container\">\n",
              "      <div>\n",
              "<style scoped>\n",
              "    .dataframe tbody tr th:only-of-type {\n",
              "        vertical-align: middle;\n",
              "    }\n",
              "\n",
              "    .dataframe tbody tr th {\n",
              "        vertical-align: top;\n",
              "    }\n",
              "\n",
              "    .dataframe thead th {\n",
              "        text-align: right;\n",
              "    }\n",
              "</style>\n",
              "<table border=\"1\" class=\"dataframe\">\n",
              "  <thead>\n",
              "    <tr style=\"text-align: right;\">\n",
              "      <th></th>\n",
              "      <th>id</th>\n",
              "      <th>name</th>\n",
              "      <th>description</th>\n",
              "      <th>genre</th>\n",
              "    </tr>\n",
              "  </thead>\n",
              "  <tbody>\n",
              "  </tbody>\n",
              "</table>\n",
              "</div>\n",
              "      <button class=\"colab-df-convert\" onclick=\"convertToInteractive('df-03138525-9d00-4879-a740-48c3fdc0b549')\"\n",
              "              title=\"Convert this dataframe to an interactive table.\"\n",
              "              style=\"display:none;\">\n",
              "        \n",
              "  <svg xmlns=\"http://www.w3.org/2000/svg\" height=\"24px\"viewBox=\"0 0 24 24\"\n",
              "       width=\"24px\">\n",
              "    <path d=\"M0 0h24v24H0V0z\" fill=\"none\"/>\n",
              "    <path d=\"M18.56 5.44l.94 2.06.94-2.06 2.06-.94-2.06-.94-.94-2.06-.94 2.06-2.06.94zm-11 1L8.5 8.5l.94-2.06 2.06-.94-2.06-.94L8.5 2.5l-.94 2.06-2.06.94zm10 10l.94 2.06.94-2.06 2.06-.94-2.06-.94-.94-2.06-.94 2.06-2.06.94z\"/><path d=\"M17.41 7.96l-1.37-1.37c-.4-.4-.92-.59-1.43-.59-.52 0-1.04.2-1.43.59L10.3 9.45l-7.72 7.72c-.78.78-.78 2.05 0 2.83L4 21.41c.39.39.9.59 1.41.59.51 0 1.02-.2 1.41-.59l7.78-7.78 2.81-2.81c.8-.78.8-2.07 0-2.86zM5.41 20L4 18.59l7.72-7.72 1.47 1.35L5.41 20z\"/>\n",
              "  </svg>\n",
              "      </button>\n",
              "      \n",
              "  <style>\n",
              "    .colab-df-container {\n",
              "      display:flex;\n",
              "      flex-wrap:wrap;\n",
              "      gap: 12px;\n",
              "    }\n",
              "\n",
              "    .colab-df-convert {\n",
              "      background-color: #E8F0FE;\n",
              "      border: none;\n",
              "      border-radius: 50%;\n",
              "      cursor: pointer;\n",
              "      display: none;\n",
              "      fill: #1967D2;\n",
              "      height: 32px;\n",
              "      padding: 0 0 0 0;\n",
              "      width: 32px;\n",
              "    }\n",
              "\n",
              "    .colab-df-convert:hover {\n",
              "      background-color: #E2EBFA;\n",
              "      box-shadow: 0px 1px 2px rgba(60, 64, 67, 0.3), 0px 1px 3px 1px rgba(60, 64, 67, 0.15);\n",
              "      fill: #174EA6;\n",
              "    }\n",
              "\n",
              "    [theme=dark] .colab-df-convert {\n",
              "      background-color: #3B4455;\n",
              "      fill: #D2E3FC;\n",
              "    }\n",
              "\n",
              "    [theme=dark] .colab-df-convert:hover {\n",
              "      background-color: #434B5C;\n",
              "      box-shadow: 0px 1px 3px 1px rgba(0, 0, 0, 0.15);\n",
              "      filter: drop-shadow(0px 1px 2px rgba(0, 0, 0, 0.3));\n",
              "      fill: #FFFFFF;\n",
              "    }\n",
              "  </style>\n",
              "\n",
              "      <script>\n",
              "        const buttonEl =\n",
              "          document.querySelector('#df-03138525-9d00-4879-a740-48c3fdc0b549 button.colab-df-convert');\n",
              "        buttonEl.style.display =\n",
              "          google.colab.kernel.accessAllowed ? 'block' : 'none';\n",
              "\n",
              "        async function convertToInteractive(key) {\n",
              "          const element = document.querySelector('#df-03138525-9d00-4879-a740-48c3fdc0b549');\n",
              "          const dataTable =\n",
              "            await google.colab.kernel.invokeFunction('convertToInteractive',\n",
              "                                                     [key], {});\n",
              "          if (!dataTable) return;\n",
              "\n",
              "          const docLinkHtml = 'Like what you see? Visit the ' +\n",
              "            '<a target=\"_blank\" href=https://colab.research.google.com/notebooks/data_table.ipynb>data table notebook</a>'\n",
              "            + ' to learn more about interactive tables.';\n",
              "          element.innerHTML = '';\n",
              "          dataTable['output_type'] = 'display_data';\n",
              "          await google.colab.output.renderOutput(dataTable, element);\n",
              "          const docLink = document.createElement('div');\n",
              "          docLink.innerHTML = docLinkHtml;\n",
              "          element.appendChild(docLink);\n",
              "        }\n",
              "      </script>\n",
              "    </div>\n",
              "  </div>\n",
              "  "
            ]
          },
          "metadata": {},
          "execution_count": 72
        }
      ],
      "source": [
        "df.drop(df[df['genre']==''].index, inplace=True)\n",
        "df[df['genre']=='']"
      ]
    },
    {
      "cell_type": "code",
      "execution_count": null,
      "metadata": {
        "colab": {
          "base_uri": "https://localhost:8080/",
          "height": 206
        },
        "id": "60339818",
        "outputId": "2f5a8e16-cb22-4609-939b-8f3cf62072e9"
      },
      "outputs": [
        {
          "output_type": "execute_result",
          "data": {
            "text/plain": [
              "             id               name  \\\n",
              "16549  36372465     The Third Lynx   \n",
              "16551  36534061     Remote Control   \n",
              "16555  37054020  Transfer of Power   \n",
              "16556  37122323            Decoded   \n",
              "16558  37159503          Poor Folk   \n",
              "\n",
              "                                             description  \\\n",
              "16549   The story starts with former government agent...   \n",
              "16551   The series follows the character of Nick Ston...   \n",
              "16555   The reader first meets Rapp while he is doing...   \n",
              "16556   The book follows very rough chronological ord...   \n",
              "16558   Makar Devushkin and Varvara Dobroselova are s...   \n",
              "\n",
              "                                                   genre  \n",
              "16549                    {\"/m/06n90\": \"Science Fiction\"}  \n",
              "16551  {\"/m/01jfsb\": \"Thriller\", \"/m/02xlf\": \"Fiction...  \n",
              "16555   {\"/m/01jfsb\": \"Thriller\", \"/m/02xlf\": \"Fiction\"}  \n",
              "16556                       {\"/m/0xdf\": \"Autobiography\"}  \n",
              "16558  {\"/m/02ql9\": \"Epistolary novel\", \"/m/014dfn\": ...  "
            ],
            "text/html": [
              "\n",
              "  <div id=\"df-deecc252-e18a-4545-a833-7998c11a3236\">\n",
              "    <div class=\"colab-df-container\">\n",
              "      <div>\n",
              "<style scoped>\n",
              "    .dataframe tbody tr th:only-of-type {\n",
              "        vertical-align: middle;\n",
              "    }\n",
              "\n",
              "    .dataframe tbody tr th {\n",
              "        vertical-align: top;\n",
              "    }\n",
              "\n",
              "    .dataframe thead th {\n",
              "        text-align: right;\n",
              "    }\n",
              "</style>\n",
              "<table border=\"1\" class=\"dataframe\">\n",
              "  <thead>\n",
              "    <tr style=\"text-align: right;\">\n",
              "      <th></th>\n",
              "      <th>id</th>\n",
              "      <th>name</th>\n",
              "      <th>description</th>\n",
              "      <th>genre</th>\n",
              "    </tr>\n",
              "  </thead>\n",
              "  <tbody>\n",
              "    <tr>\n",
              "      <th>16549</th>\n",
              "      <td>36372465</td>\n",
              "      <td>The Third Lynx</td>\n",
              "      <td>The story starts with former government agent...</td>\n",
              "      <td>{\"/m/06n90\": \"Science Fiction\"}</td>\n",
              "    </tr>\n",
              "    <tr>\n",
              "      <th>16551</th>\n",
              "      <td>36534061</td>\n",
              "      <td>Remote Control</td>\n",
              "      <td>The series follows the character of Nick Ston...</td>\n",
              "      <td>{\"/m/01jfsb\": \"Thriller\", \"/m/02xlf\": \"Fiction...</td>\n",
              "    </tr>\n",
              "    <tr>\n",
              "      <th>16555</th>\n",
              "      <td>37054020</td>\n",
              "      <td>Transfer of Power</td>\n",
              "      <td>The reader first meets Rapp while he is doing...</td>\n",
              "      <td>{\"/m/01jfsb\": \"Thriller\", \"/m/02xlf\": \"Fiction\"}</td>\n",
              "    </tr>\n",
              "    <tr>\n",
              "      <th>16556</th>\n",
              "      <td>37122323</td>\n",
              "      <td>Decoded</td>\n",
              "      <td>The book follows very rough chronological ord...</td>\n",
              "      <td>{\"/m/0xdf\": \"Autobiography\"}</td>\n",
              "    </tr>\n",
              "    <tr>\n",
              "      <th>16558</th>\n",
              "      <td>37159503</td>\n",
              "      <td>Poor Folk</td>\n",
              "      <td>Makar Devushkin and Varvara Dobroselova are s...</td>\n",
              "      <td>{\"/m/02ql9\": \"Epistolary novel\", \"/m/014dfn\": ...</td>\n",
              "    </tr>\n",
              "  </tbody>\n",
              "</table>\n",
              "</div>\n",
              "      <button class=\"colab-df-convert\" onclick=\"convertToInteractive('df-deecc252-e18a-4545-a833-7998c11a3236')\"\n",
              "              title=\"Convert this dataframe to an interactive table.\"\n",
              "              style=\"display:none;\">\n",
              "        \n",
              "  <svg xmlns=\"http://www.w3.org/2000/svg\" height=\"24px\"viewBox=\"0 0 24 24\"\n",
              "       width=\"24px\">\n",
              "    <path d=\"M0 0h24v24H0V0z\" fill=\"none\"/>\n",
              "    <path d=\"M18.56 5.44l.94 2.06.94-2.06 2.06-.94-2.06-.94-.94-2.06-.94 2.06-2.06.94zm-11 1L8.5 8.5l.94-2.06 2.06-.94-2.06-.94L8.5 2.5l-.94 2.06-2.06.94zm10 10l.94 2.06.94-2.06 2.06-.94-2.06-.94-.94-2.06-.94 2.06-2.06.94z\"/><path d=\"M17.41 7.96l-1.37-1.37c-.4-.4-.92-.59-1.43-.59-.52 0-1.04.2-1.43.59L10.3 9.45l-7.72 7.72c-.78.78-.78 2.05 0 2.83L4 21.41c.39.39.9.59 1.41.59.51 0 1.02-.2 1.41-.59l7.78-7.78 2.81-2.81c.8-.78.8-2.07 0-2.86zM5.41 20L4 18.59l7.72-7.72 1.47 1.35L5.41 20z\"/>\n",
              "  </svg>\n",
              "      </button>\n",
              "      \n",
              "  <style>\n",
              "    .colab-df-container {\n",
              "      display:flex;\n",
              "      flex-wrap:wrap;\n",
              "      gap: 12px;\n",
              "    }\n",
              "\n",
              "    .colab-df-convert {\n",
              "      background-color: #E8F0FE;\n",
              "      border: none;\n",
              "      border-radius: 50%;\n",
              "      cursor: pointer;\n",
              "      display: none;\n",
              "      fill: #1967D2;\n",
              "      height: 32px;\n",
              "      padding: 0 0 0 0;\n",
              "      width: 32px;\n",
              "    }\n",
              "\n",
              "    .colab-df-convert:hover {\n",
              "      background-color: #E2EBFA;\n",
              "      box-shadow: 0px 1px 2px rgba(60, 64, 67, 0.3), 0px 1px 3px 1px rgba(60, 64, 67, 0.15);\n",
              "      fill: #174EA6;\n",
              "    }\n",
              "\n",
              "    [theme=dark] .colab-df-convert {\n",
              "      background-color: #3B4455;\n",
              "      fill: #D2E3FC;\n",
              "    }\n",
              "\n",
              "    [theme=dark] .colab-df-convert:hover {\n",
              "      background-color: #434B5C;\n",
              "      box-shadow: 0px 1px 3px 1px rgba(0, 0, 0, 0.15);\n",
              "      filter: drop-shadow(0px 1px 2px rgba(0, 0, 0, 0.3));\n",
              "      fill: #FFFFFF;\n",
              "    }\n",
              "  </style>\n",
              "\n",
              "      <script>\n",
              "        const buttonEl =\n",
              "          document.querySelector('#df-deecc252-e18a-4545-a833-7998c11a3236 button.colab-df-convert');\n",
              "        buttonEl.style.display =\n",
              "          google.colab.kernel.accessAllowed ? 'block' : 'none';\n",
              "\n",
              "        async function convertToInteractive(key) {\n",
              "          const element = document.querySelector('#df-deecc252-e18a-4545-a833-7998c11a3236');\n",
              "          const dataTable =\n",
              "            await google.colab.kernel.invokeFunction('convertToInteractive',\n",
              "                                                     [key], {});\n",
              "          if (!dataTable) return;\n",
              "\n",
              "          const docLinkHtml = 'Like what you see? Visit the ' +\n",
              "            '<a target=\"_blank\" href=https://colab.research.google.com/notebooks/data_table.ipynb>data table notebook</a>'\n",
              "            + ' to learn more about interactive tables.';\n",
              "          element.innerHTML = '';\n",
              "          dataTable['output_type'] = 'display_data';\n",
              "          await google.colab.output.renderOutput(dataTable, element);\n",
              "          const docLink = document.createElement('div');\n",
              "          docLink.innerHTML = docLinkHtml;\n",
              "          element.appendChild(docLink);\n",
              "        }\n",
              "      </script>\n",
              "    </div>\n",
              "  </div>\n",
              "  "
            ]
          },
          "metadata": {},
          "execution_count": 73
        }
      ],
      "source": [
        "df.tail()"
      ]
    },
    {
      "cell_type": "code",
      "source": [
        "print(list(np.where(df['name']=='The Chinese Gold Murders')))\n",
        "df.iloc[7240]"
      ],
      "metadata": {
        "colab": {
          "base_uri": "https://localhost:8080/"
        },
        "id": "qmCjKu8Yg2kN",
        "outputId": "f128f7b9-8d02-4450-afb3-3a075dad0bfa"
      },
      "execution_count": null,
      "outputs": [
        {
          "output_type": "stream",
          "name": "stdout",
          "text": [
            "[array([7240])]\n"
          ]
        },
        {
          "output_type": "execute_result",
          "data": {
            "text/plain": [
              "id                                                       8683518\n",
              "name                                    The Chinese Gold Murders\n",
              "description     Judge Dee is a recently appointed magistrate ...\n",
              "genre          {\"/m/02n4kr\": \"Mystery\", \"/m/028v3\": \"Detectiv...\n",
              "Name: 8639, dtype: object"
            ]
          },
          "metadata": {},
          "execution_count": 74
        }
      ]
    },
    {
      "cell_type": "markdown",
      "source": [
        "Converting json format of genre to list"
      ],
      "metadata": {
        "id": "hzqlBYjZ97IW"
      }
    },
    {
      "cell_type": "code",
      "execution_count": null,
      "metadata": {
        "id": "53ebdc54"
      },
      "outputs": [],
      "source": [
        "import json as jsc"
      ]
    },
    {
      "cell_type": "code",
      "execution_count": null,
      "metadata": {
        "colab": {
          "base_uri": "https://localhost:8080/"
        },
        "id": "90758aee",
        "outputId": "d37eb73f-bfe3-49d4-8a02-b681e6a2a550"
      },
      "outputs": [
        {
          "output_type": "execute_result",
          "data": {
            "text/plain": [
              "dict_values(['Roman à clef', 'Satire', \"Children's literature\", 'Speculative fiction', 'Fiction'])"
            ]
          },
          "metadata": {},
          "execution_count": 76
        }
      ],
      "source": [
        "jsc.loads(df['genre'][0]).values()"
      ]
    },
    {
      "cell_type": "code",
      "execution_count": null,
      "metadata": {
        "id": "3a6bbaf3"
      },
      "outputs": [],
      "source": [
        "l=[]\n",
        "for i in df['genre']:\n",
        "    l.append(list(jsc.loads(i).values()))"
      ]
    },
    {
      "cell_type": "code",
      "execution_count": null,
      "metadata": {
        "id": "b8c8ac24"
      },
      "outputs": [],
      "source": [
        "df['u-genre'] = l"
      ]
    },
    {
      "cell_type": "code",
      "execution_count": null,
      "metadata": {
        "id": "17424f0a"
      },
      "outputs": [],
      "source": [
        "setOfgenre = sum(l,[])\n",
        "setOfgenre = set(setOfgenre)"
      ]
    },
    {
      "cell_type": "code",
      "execution_count": null,
      "metadata": {
        "colab": {
          "base_uri": "https://localhost:8080/"
        },
        "id": "a7848e55",
        "outputId": "9e59939d-b9fa-473b-cf69-5f0fa3e9246b"
      },
      "outputs": [
        {
          "output_type": "execute_result",
          "data": {
            "text/plain": [
              "227"
            ]
          },
          "metadata": {},
          "execution_count": 80
        }
      ],
      "source": [
        "len(setOfgenre)"
      ]
    },
    {
      "cell_type": "markdown",
      "source": [
        "Preprocessing description text"
      ],
      "metadata": {
        "id": "Phjv4YNe-EIV"
      }
    },
    {
      "cell_type": "code",
      "execution_count": null,
      "metadata": {
        "id": "1e0cb551"
      },
      "outputs": [],
      "source": [
        "import re"
      ]
    },
    {
      "cell_type": "code",
      "execution_count": null,
      "metadata": {
        "id": "8437f815"
      },
      "outputs": [],
      "source": [
        "def updateDescription(s):\n",
        "    s = re.sub(\"\\'\", \"\", s)\n",
        "    s = re.sub(\"[^a-zA-Z]\",\" \",s)\n",
        "    s = ' '.join(s.split())\n",
        "    s = s.lower()\n",
        "    return s"
      ]
    },
    {
      "cell_type": "code",
      "execution_count": null,
      "metadata": {
        "id": "8f5b4a63"
      },
      "outputs": [],
      "source": [
        "df['u-description'] = df['description'].apply(lambda x: updateDescription(x))"
      ]
    },
    {
      "cell_type": "code",
      "execution_count": null,
      "metadata": {
        "colab": {
          "base_uri": "https://localhost:8080/",
          "height": 337
        },
        "id": "e9ebb80a",
        "outputId": "614a9cc5-6b43-43ea-e090-75c3444f5cfe"
      },
      "outputs": [
        {
          "output_type": "execute_result",
          "data": {
            "text/plain": [
              "     id                            name  \\\n",
              "0   620                     Animal Farm   \n",
              "1   843              A Clockwork Orange   \n",
              "2   986                      The Plague   \n",
              "4  2080            A Fire Upon the Deep   \n",
              "5  2152  All Quiet on the Western Front   \n",
              "\n",
              "                                         description  \\\n",
              "0   Old Major, the old boar on the Manor Farm, ca...   \n",
              "1   Alex, a teenager living in near-future Englan...   \n",
              "2   The text of The Plague is divided into five p...   \n",
              "4   The novel posits that space around the Milky ...   \n",
              "5   The book tells the story of Paul Bäumer, a Ge...   \n",
              "\n",
              "                                               genre  \\\n",
              "0  {\"/m/016lj8\": \"Roman \\u00e0 clef\", \"/m/06nbt\":...   \n",
              "1  {\"/m/06n90\": \"Science Fiction\", \"/m/0l67h\": \"N...   \n",
              "2  {\"/m/02m4t\": \"Existentialism\", \"/m/02xlf\": \"Fi...   \n",
              "4  {\"/m/03lrw\": \"Hard science fiction\", \"/m/06n90...   \n",
              "5  {\"/m/098tmk\": \"War novel\", \"/m/016lj8\": \"Roman...   \n",
              "\n",
              "                                             u-genre  \\\n",
              "0  [Roman à clef, Satire, Children's literature, ...   \n",
              "1  [Science Fiction, Novella, Speculative fiction...   \n",
              "2  [Existentialism, Fiction, Absurdist fiction, N...   \n",
              "4  [Hard science fiction, Science Fiction, Specul...   \n",
              "5                          [War novel, Roman à clef]   \n",
              "\n",
              "                                       u-description  \n",
              "0  old major the old boar on the manor farm calls...  \n",
              "1  alex a teenager living in near future england ...  \n",
              "2  the text of the plague is divided into five pa...  \n",
              "4  the novel posits that space around the milky w...  \n",
              "5  the book tells the story of paul b umer a germ...  "
            ],
            "text/html": [
              "\n",
              "  <div id=\"df-b4768df9-5a33-41b3-81c7-d2d0e6fc4897\">\n",
              "    <div class=\"colab-df-container\">\n",
              "      <div>\n",
              "<style scoped>\n",
              "    .dataframe tbody tr th:only-of-type {\n",
              "        vertical-align: middle;\n",
              "    }\n",
              "\n",
              "    .dataframe tbody tr th {\n",
              "        vertical-align: top;\n",
              "    }\n",
              "\n",
              "    .dataframe thead th {\n",
              "        text-align: right;\n",
              "    }\n",
              "</style>\n",
              "<table border=\"1\" class=\"dataframe\">\n",
              "  <thead>\n",
              "    <tr style=\"text-align: right;\">\n",
              "      <th></th>\n",
              "      <th>id</th>\n",
              "      <th>name</th>\n",
              "      <th>description</th>\n",
              "      <th>genre</th>\n",
              "      <th>u-genre</th>\n",
              "      <th>u-description</th>\n",
              "    </tr>\n",
              "  </thead>\n",
              "  <tbody>\n",
              "    <tr>\n",
              "      <th>0</th>\n",
              "      <td>620</td>\n",
              "      <td>Animal Farm</td>\n",
              "      <td>Old Major, the old boar on the Manor Farm, ca...</td>\n",
              "      <td>{\"/m/016lj8\": \"Roman \\u00e0 clef\", \"/m/06nbt\":...</td>\n",
              "      <td>[Roman à clef, Satire, Children's literature, ...</td>\n",
              "      <td>old major the old boar on the manor farm calls...</td>\n",
              "    </tr>\n",
              "    <tr>\n",
              "      <th>1</th>\n",
              "      <td>843</td>\n",
              "      <td>A Clockwork Orange</td>\n",
              "      <td>Alex, a teenager living in near-future Englan...</td>\n",
              "      <td>{\"/m/06n90\": \"Science Fiction\", \"/m/0l67h\": \"N...</td>\n",
              "      <td>[Science Fiction, Novella, Speculative fiction...</td>\n",
              "      <td>alex a teenager living in near future england ...</td>\n",
              "    </tr>\n",
              "    <tr>\n",
              "      <th>2</th>\n",
              "      <td>986</td>\n",
              "      <td>The Plague</td>\n",
              "      <td>The text of The Plague is divided into five p...</td>\n",
              "      <td>{\"/m/02m4t\": \"Existentialism\", \"/m/02xlf\": \"Fi...</td>\n",
              "      <td>[Existentialism, Fiction, Absurdist fiction, N...</td>\n",
              "      <td>the text of the plague is divided into five pa...</td>\n",
              "    </tr>\n",
              "    <tr>\n",
              "      <th>4</th>\n",
              "      <td>2080</td>\n",
              "      <td>A Fire Upon the Deep</td>\n",
              "      <td>The novel posits that space around the Milky ...</td>\n",
              "      <td>{\"/m/03lrw\": \"Hard science fiction\", \"/m/06n90...</td>\n",
              "      <td>[Hard science fiction, Science Fiction, Specul...</td>\n",
              "      <td>the novel posits that space around the milky w...</td>\n",
              "    </tr>\n",
              "    <tr>\n",
              "      <th>5</th>\n",
              "      <td>2152</td>\n",
              "      <td>All Quiet on the Western Front</td>\n",
              "      <td>The book tells the story of Paul Bäumer, a Ge...</td>\n",
              "      <td>{\"/m/098tmk\": \"War novel\", \"/m/016lj8\": \"Roman...</td>\n",
              "      <td>[War novel, Roman à clef]</td>\n",
              "      <td>the book tells the story of paul b umer a germ...</td>\n",
              "    </tr>\n",
              "  </tbody>\n",
              "</table>\n",
              "</div>\n",
              "      <button class=\"colab-df-convert\" onclick=\"convertToInteractive('df-b4768df9-5a33-41b3-81c7-d2d0e6fc4897')\"\n",
              "              title=\"Convert this dataframe to an interactive table.\"\n",
              "              style=\"display:none;\">\n",
              "        \n",
              "  <svg xmlns=\"http://www.w3.org/2000/svg\" height=\"24px\"viewBox=\"0 0 24 24\"\n",
              "       width=\"24px\">\n",
              "    <path d=\"M0 0h24v24H0V0z\" fill=\"none\"/>\n",
              "    <path d=\"M18.56 5.44l.94 2.06.94-2.06 2.06-.94-2.06-.94-.94-2.06-.94 2.06-2.06.94zm-11 1L8.5 8.5l.94-2.06 2.06-.94-2.06-.94L8.5 2.5l-.94 2.06-2.06.94zm10 10l.94 2.06.94-2.06 2.06-.94-2.06-.94-.94-2.06-.94 2.06-2.06.94z\"/><path d=\"M17.41 7.96l-1.37-1.37c-.4-.4-.92-.59-1.43-.59-.52 0-1.04.2-1.43.59L10.3 9.45l-7.72 7.72c-.78.78-.78 2.05 0 2.83L4 21.41c.39.39.9.59 1.41.59.51 0 1.02-.2 1.41-.59l7.78-7.78 2.81-2.81c.8-.78.8-2.07 0-2.86zM5.41 20L4 18.59l7.72-7.72 1.47 1.35L5.41 20z\"/>\n",
              "  </svg>\n",
              "      </button>\n",
              "      \n",
              "  <style>\n",
              "    .colab-df-container {\n",
              "      display:flex;\n",
              "      flex-wrap:wrap;\n",
              "      gap: 12px;\n",
              "    }\n",
              "\n",
              "    .colab-df-convert {\n",
              "      background-color: #E8F0FE;\n",
              "      border: none;\n",
              "      border-radius: 50%;\n",
              "      cursor: pointer;\n",
              "      display: none;\n",
              "      fill: #1967D2;\n",
              "      height: 32px;\n",
              "      padding: 0 0 0 0;\n",
              "      width: 32px;\n",
              "    }\n",
              "\n",
              "    .colab-df-convert:hover {\n",
              "      background-color: #E2EBFA;\n",
              "      box-shadow: 0px 1px 2px rgba(60, 64, 67, 0.3), 0px 1px 3px 1px rgba(60, 64, 67, 0.15);\n",
              "      fill: #174EA6;\n",
              "    }\n",
              "\n",
              "    [theme=dark] .colab-df-convert {\n",
              "      background-color: #3B4455;\n",
              "      fill: #D2E3FC;\n",
              "    }\n",
              "\n",
              "    [theme=dark] .colab-df-convert:hover {\n",
              "      background-color: #434B5C;\n",
              "      box-shadow: 0px 1px 3px 1px rgba(0, 0, 0, 0.15);\n",
              "      filter: drop-shadow(0px 1px 2px rgba(0, 0, 0, 0.3));\n",
              "      fill: #FFFFFF;\n",
              "    }\n",
              "  </style>\n",
              "\n",
              "      <script>\n",
              "        const buttonEl =\n",
              "          document.querySelector('#df-b4768df9-5a33-41b3-81c7-d2d0e6fc4897 button.colab-df-convert');\n",
              "        buttonEl.style.display =\n",
              "          google.colab.kernel.accessAllowed ? 'block' : 'none';\n",
              "\n",
              "        async function convertToInteractive(key) {\n",
              "          const element = document.querySelector('#df-b4768df9-5a33-41b3-81c7-d2d0e6fc4897');\n",
              "          const dataTable =\n",
              "            await google.colab.kernel.invokeFunction('convertToInteractive',\n",
              "                                                     [key], {});\n",
              "          if (!dataTable) return;\n",
              "\n",
              "          const docLinkHtml = 'Like what you see? Visit the ' +\n",
              "            '<a target=\"_blank\" href=https://colab.research.google.com/notebooks/data_table.ipynb>data table notebook</a>'\n",
              "            + ' to learn more about interactive tables.';\n",
              "          element.innerHTML = '';\n",
              "          dataTable['output_type'] = 'display_data';\n",
              "          await google.colab.output.renderOutput(dataTable, element);\n",
              "          const docLink = document.createElement('div');\n",
              "          docLink.innerHTML = docLinkHtml;\n",
              "          element.appendChild(docLink);\n",
              "        }\n",
              "      </script>\n",
              "    </div>\n",
              "  </div>\n",
              "  "
            ]
          },
          "metadata": {},
          "execution_count": 84
        }
      ],
      "source": [
        "df.head()"
      ]
    },
    {
      "cell_type": "code",
      "execution_count": null,
      "metadata": {
        "id": "7e3c5691"
      },
      "outputs": [],
      "source": [
        "df=df.drop(['genre', 'description'], axis=1)"
      ]
    },
    {
      "cell_type": "code",
      "execution_count": null,
      "metadata": {
        "colab": {
          "base_uri": "https://localhost:8080/",
          "height": 206
        },
        "id": "9bbfb605",
        "outputId": "ed9439fb-5410-4b97-b75e-a69ba82aaafa"
      },
      "outputs": [
        {
          "output_type": "execute_result",
          "data": {
            "text/plain": [
              "     id                            name  \\\n",
              "0   620                     Animal Farm   \n",
              "1   843              A Clockwork Orange   \n",
              "2   986                      The Plague   \n",
              "4  2080            A Fire Upon the Deep   \n",
              "5  2152  All Quiet on the Western Front   \n",
              "\n",
              "                                             u-genre  \\\n",
              "0  [Roman à clef, Satire, Children's literature, ...   \n",
              "1  [Science Fiction, Novella, Speculative fiction...   \n",
              "2  [Existentialism, Fiction, Absurdist fiction, N...   \n",
              "4  [Hard science fiction, Science Fiction, Specul...   \n",
              "5                          [War novel, Roman à clef]   \n",
              "\n",
              "                                       u-description  \n",
              "0  old major the old boar on the manor farm calls...  \n",
              "1  alex a teenager living in near future england ...  \n",
              "2  the text of the plague is divided into five pa...  \n",
              "4  the novel posits that space around the milky w...  \n",
              "5  the book tells the story of paul b umer a germ...  "
            ],
            "text/html": [
              "\n",
              "  <div id=\"df-fdf15166-1516-4368-a914-6818e040c2b2\">\n",
              "    <div class=\"colab-df-container\">\n",
              "      <div>\n",
              "<style scoped>\n",
              "    .dataframe tbody tr th:only-of-type {\n",
              "        vertical-align: middle;\n",
              "    }\n",
              "\n",
              "    .dataframe tbody tr th {\n",
              "        vertical-align: top;\n",
              "    }\n",
              "\n",
              "    .dataframe thead th {\n",
              "        text-align: right;\n",
              "    }\n",
              "</style>\n",
              "<table border=\"1\" class=\"dataframe\">\n",
              "  <thead>\n",
              "    <tr style=\"text-align: right;\">\n",
              "      <th></th>\n",
              "      <th>id</th>\n",
              "      <th>name</th>\n",
              "      <th>u-genre</th>\n",
              "      <th>u-description</th>\n",
              "    </tr>\n",
              "  </thead>\n",
              "  <tbody>\n",
              "    <tr>\n",
              "      <th>0</th>\n",
              "      <td>620</td>\n",
              "      <td>Animal Farm</td>\n",
              "      <td>[Roman à clef, Satire, Children's literature, ...</td>\n",
              "      <td>old major the old boar on the manor farm calls...</td>\n",
              "    </tr>\n",
              "    <tr>\n",
              "      <th>1</th>\n",
              "      <td>843</td>\n",
              "      <td>A Clockwork Orange</td>\n",
              "      <td>[Science Fiction, Novella, Speculative fiction...</td>\n",
              "      <td>alex a teenager living in near future england ...</td>\n",
              "    </tr>\n",
              "    <tr>\n",
              "      <th>2</th>\n",
              "      <td>986</td>\n",
              "      <td>The Plague</td>\n",
              "      <td>[Existentialism, Fiction, Absurdist fiction, N...</td>\n",
              "      <td>the text of the plague is divided into five pa...</td>\n",
              "    </tr>\n",
              "    <tr>\n",
              "      <th>4</th>\n",
              "      <td>2080</td>\n",
              "      <td>A Fire Upon the Deep</td>\n",
              "      <td>[Hard science fiction, Science Fiction, Specul...</td>\n",
              "      <td>the novel posits that space around the milky w...</td>\n",
              "    </tr>\n",
              "    <tr>\n",
              "      <th>5</th>\n",
              "      <td>2152</td>\n",
              "      <td>All Quiet on the Western Front</td>\n",
              "      <td>[War novel, Roman à clef]</td>\n",
              "      <td>the book tells the story of paul b umer a germ...</td>\n",
              "    </tr>\n",
              "  </tbody>\n",
              "</table>\n",
              "</div>\n",
              "      <button class=\"colab-df-convert\" onclick=\"convertToInteractive('df-fdf15166-1516-4368-a914-6818e040c2b2')\"\n",
              "              title=\"Convert this dataframe to an interactive table.\"\n",
              "              style=\"display:none;\">\n",
              "        \n",
              "  <svg xmlns=\"http://www.w3.org/2000/svg\" height=\"24px\"viewBox=\"0 0 24 24\"\n",
              "       width=\"24px\">\n",
              "    <path d=\"M0 0h24v24H0V0z\" fill=\"none\"/>\n",
              "    <path d=\"M18.56 5.44l.94 2.06.94-2.06 2.06-.94-2.06-.94-.94-2.06-.94 2.06-2.06.94zm-11 1L8.5 8.5l.94-2.06 2.06-.94-2.06-.94L8.5 2.5l-.94 2.06-2.06.94zm10 10l.94 2.06.94-2.06 2.06-.94-2.06-.94-.94-2.06-.94 2.06-2.06.94z\"/><path d=\"M17.41 7.96l-1.37-1.37c-.4-.4-.92-.59-1.43-.59-.52 0-1.04.2-1.43.59L10.3 9.45l-7.72 7.72c-.78.78-.78 2.05 0 2.83L4 21.41c.39.39.9.59 1.41.59.51 0 1.02-.2 1.41-.59l7.78-7.78 2.81-2.81c.8-.78.8-2.07 0-2.86zM5.41 20L4 18.59l7.72-7.72 1.47 1.35L5.41 20z\"/>\n",
              "  </svg>\n",
              "      </button>\n",
              "      \n",
              "  <style>\n",
              "    .colab-df-container {\n",
              "      display:flex;\n",
              "      flex-wrap:wrap;\n",
              "      gap: 12px;\n",
              "    }\n",
              "\n",
              "    .colab-df-convert {\n",
              "      background-color: #E8F0FE;\n",
              "      border: none;\n",
              "      border-radius: 50%;\n",
              "      cursor: pointer;\n",
              "      display: none;\n",
              "      fill: #1967D2;\n",
              "      height: 32px;\n",
              "      padding: 0 0 0 0;\n",
              "      width: 32px;\n",
              "    }\n",
              "\n",
              "    .colab-df-convert:hover {\n",
              "      background-color: #E2EBFA;\n",
              "      box-shadow: 0px 1px 2px rgba(60, 64, 67, 0.3), 0px 1px 3px 1px rgba(60, 64, 67, 0.15);\n",
              "      fill: #174EA6;\n",
              "    }\n",
              "\n",
              "    [theme=dark] .colab-df-convert {\n",
              "      background-color: #3B4455;\n",
              "      fill: #D2E3FC;\n",
              "    }\n",
              "\n",
              "    [theme=dark] .colab-df-convert:hover {\n",
              "      background-color: #434B5C;\n",
              "      box-shadow: 0px 1px 3px 1px rgba(0, 0, 0, 0.15);\n",
              "      filter: drop-shadow(0px 1px 2px rgba(0, 0, 0, 0.3));\n",
              "      fill: #FFFFFF;\n",
              "    }\n",
              "  </style>\n",
              "\n",
              "      <script>\n",
              "        const buttonEl =\n",
              "          document.querySelector('#df-fdf15166-1516-4368-a914-6818e040c2b2 button.colab-df-convert');\n",
              "        buttonEl.style.display =\n",
              "          google.colab.kernel.accessAllowed ? 'block' : 'none';\n",
              "\n",
              "        async function convertToInteractive(key) {\n",
              "          const element = document.querySelector('#df-fdf15166-1516-4368-a914-6818e040c2b2');\n",
              "          const dataTable =\n",
              "            await google.colab.kernel.invokeFunction('convertToInteractive',\n",
              "                                                     [key], {});\n",
              "          if (!dataTable) return;\n",
              "\n",
              "          const docLinkHtml = 'Like what you see? Visit the ' +\n",
              "            '<a target=\"_blank\" href=https://colab.research.google.com/notebooks/data_table.ipynb>data table notebook</a>'\n",
              "            + ' to learn more about interactive tables.';\n",
              "          element.innerHTML = '';\n",
              "          dataTable['output_type'] = 'display_data';\n",
              "          await google.colab.output.renderOutput(dataTable, element);\n",
              "          const docLink = document.createElement('div');\n",
              "          docLink.innerHTML = docLinkHtml;\n",
              "          element.appendChild(docLink);\n",
              "        }\n",
              "      </script>\n",
              "    </div>\n",
              "  </div>\n",
              "  "
            ]
          },
          "metadata": {},
          "execution_count": 86
        }
      ],
      "source": [
        "df.head()"
      ]
    },
    {
      "cell_type": "code",
      "execution_count": null,
      "metadata": {
        "id": "576fcf32"
      },
      "outputs": [],
      "source": [
        "df.rename(columns = {'u-genre':'genre'}, inplace = True)"
      ]
    },
    {
      "cell_type": "code",
      "execution_count": null,
      "metadata": {
        "id": "732d76c0"
      },
      "outputs": [],
      "source": [
        "df.rename(columns = {'u-description':'description'}, inplace = True)"
      ]
    },
    {
      "cell_type": "code",
      "execution_count": null,
      "metadata": {
        "colab": {
          "base_uri": "https://localhost:8080/",
          "height": 206
        },
        "id": "efd6377f",
        "outputId": "c04a8745-5b5d-4e69-da7a-7559912dfc58"
      },
      "outputs": [
        {
          "output_type": "execute_result",
          "data": {
            "text/plain": [
              "     id                            name  \\\n",
              "0   620                     Animal Farm   \n",
              "1   843              A Clockwork Orange   \n",
              "2   986                      The Plague   \n",
              "4  2080            A Fire Upon the Deep   \n",
              "5  2152  All Quiet on the Western Front   \n",
              "\n",
              "                                               genre  \\\n",
              "0  [Roman à clef, Satire, Children's literature, ...   \n",
              "1  [Science Fiction, Novella, Speculative fiction...   \n",
              "2  [Existentialism, Fiction, Absurdist fiction, N...   \n",
              "4  [Hard science fiction, Science Fiction, Specul...   \n",
              "5                          [War novel, Roman à clef]   \n",
              "\n",
              "                                         description  \n",
              "0  old major the old boar on the manor farm calls...  \n",
              "1  alex a teenager living in near future england ...  \n",
              "2  the text of the plague is divided into five pa...  \n",
              "4  the novel posits that space around the milky w...  \n",
              "5  the book tells the story of paul b umer a germ...  "
            ],
            "text/html": [
              "\n",
              "  <div id=\"df-e0aec8c8-7fec-4cd8-835e-6cbe3f558207\">\n",
              "    <div class=\"colab-df-container\">\n",
              "      <div>\n",
              "<style scoped>\n",
              "    .dataframe tbody tr th:only-of-type {\n",
              "        vertical-align: middle;\n",
              "    }\n",
              "\n",
              "    .dataframe tbody tr th {\n",
              "        vertical-align: top;\n",
              "    }\n",
              "\n",
              "    .dataframe thead th {\n",
              "        text-align: right;\n",
              "    }\n",
              "</style>\n",
              "<table border=\"1\" class=\"dataframe\">\n",
              "  <thead>\n",
              "    <tr style=\"text-align: right;\">\n",
              "      <th></th>\n",
              "      <th>id</th>\n",
              "      <th>name</th>\n",
              "      <th>genre</th>\n",
              "      <th>description</th>\n",
              "    </tr>\n",
              "  </thead>\n",
              "  <tbody>\n",
              "    <tr>\n",
              "      <th>0</th>\n",
              "      <td>620</td>\n",
              "      <td>Animal Farm</td>\n",
              "      <td>[Roman à clef, Satire, Children's literature, ...</td>\n",
              "      <td>old major the old boar on the manor farm calls...</td>\n",
              "    </tr>\n",
              "    <tr>\n",
              "      <th>1</th>\n",
              "      <td>843</td>\n",
              "      <td>A Clockwork Orange</td>\n",
              "      <td>[Science Fiction, Novella, Speculative fiction...</td>\n",
              "      <td>alex a teenager living in near future england ...</td>\n",
              "    </tr>\n",
              "    <tr>\n",
              "      <th>2</th>\n",
              "      <td>986</td>\n",
              "      <td>The Plague</td>\n",
              "      <td>[Existentialism, Fiction, Absurdist fiction, N...</td>\n",
              "      <td>the text of the plague is divided into five pa...</td>\n",
              "    </tr>\n",
              "    <tr>\n",
              "      <th>4</th>\n",
              "      <td>2080</td>\n",
              "      <td>A Fire Upon the Deep</td>\n",
              "      <td>[Hard science fiction, Science Fiction, Specul...</td>\n",
              "      <td>the novel posits that space around the milky w...</td>\n",
              "    </tr>\n",
              "    <tr>\n",
              "      <th>5</th>\n",
              "      <td>2152</td>\n",
              "      <td>All Quiet on the Western Front</td>\n",
              "      <td>[War novel, Roman à clef]</td>\n",
              "      <td>the book tells the story of paul b umer a germ...</td>\n",
              "    </tr>\n",
              "  </tbody>\n",
              "</table>\n",
              "</div>\n",
              "      <button class=\"colab-df-convert\" onclick=\"convertToInteractive('df-e0aec8c8-7fec-4cd8-835e-6cbe3f558207')\"\n",
              "              title=\"Convert this dataframe to an interactive table.\"\n",
              "              style=\"display:none;\">\n",
              "        \n",
              "  <svg xmlns=\"http://www.w3.org/2000/svg\" height=\"24px\"viewBox=\"0 0 24 24\"\n",
              "       width=\"24px\">\n",
              "    <path d=\"M0 0h24v24H0V0z\" fill=\"none\"/>\n",
              "    <path d=\"M18.56 5.44l.94 2.06.94-2.06 2.06-.94-2.06-.94-.94-2.06-.94 2.06-2.06.94zm-11 1L8.5 8.5l.94-2.06 2.06-.94-2.06-.94L8.5 2.5l-.94 2.06-2.06.94zm10 10l.94 2.06.94-2.06 2.06-.94-2.06-.94-.94-2.06-.94 2.06-2.06.94z\"/><path d=\"M17.41 7.96l-1.37-1.37c-.4-.4-.92-.59-1.43-.59-.52 0-1.04.2-1.43.59L10.3 9.45l-7.72 7.72c-.78.78-.78 2.05 0 2.83L4 21.41c.39.39.9.59 1.41.59.51 0 1.02-.2 1.41-.59l7.78-7.78 2.81-2.81c.8-.78.8-2.07 0-2.86zM5.41 20L4 18.59l7.72-7.72 1.47 1.35L5.41 20z\"/>\n",
              "  </svg>\n",
              "      </button>\n",
              "      \n",
              "  <style>\n",
              "    .colab-df-container {\n",
              "      display:flex;\n",
              "      flex-wrap:wrap;\n",
              "      gap: 12px;\n",
              "    }\n",
              "\n",
              "    .colab-df-convert {\n",
              "      background-color: #E8F0FE;\n",
              "      border: none;\n",
              "      border-radius: 50%;\n",
              "      cursor: pointer;\n",
              "      display: none;\n",
              "      fill: #1967D2;\n",
              "      height: 32px;\n",
              "      padding: 0 0 0 0;\n",
              "      width: 32px;\n",
              "    }\n",
              "\n",
              "    .colab-df-convert:hover {\n",
              "      background-color: #E2EBFA;\n",
              "      box-shadow: 0px 1px 2px rgba(60, 64, 67, 0.3), 0px 1px 3px 1px rgba(60, 64, 67, 0.15);\n",
              "      fill: #174EA6;\n",
              "    }\n",
              "\n",
              "    [theme=dark] .colab-df-convert {\n",
              "      background-color: #3B4455;\n",
              "      fill: #D2E3FC;\n",
              "    }\n",
              "\n",
              "    [theme=dark] .colab-df-convert:hover {\n",
              "      background-color: #434B5C;\n",
              "      box-shadow: 0px 1px 3px 1px rgba(0, 0, 0, 0.15);\n",
              "      filter: drop-shadow(0px 1px 2px rgba(0, 0, 0, 0.3));\n",
              "      fill: #FFFFFF;\n",
              "    }\n",
              "  </style>\n",
              "\n",
              "      <script>\n",
              "        const buttonEl =\n",
              "          document.querySelector('#df-e0aec8c8-7fec-4cd8-835e-6cbe3f558207 button.colab-df-convert');\n",
              "        buttonEl.style.display =\n",
              "          google.colab.kernel.accessAllowed ? 'block' : 'none';\n",
              "\n",
              "        async function convertToInteractive(key) {\n",
              "          const element = document.querySelector('#df-e0aec8c8-7fec-4cd8-835e-6cbe3f558207');\n",
              "          const dataTable =\n",
              "            await google.colab.kernel.invokeFunction('convertToInteractive',\n",
              "                                                     [key], {});\n",
              "          if (!dataTable) return;\n",
              "\n",
              "          const docLinkHtml = 'Like what you see? Visit the ' +\n",
              "            '<a target=\"_blank\" href=https://colab.research.google.com/notebooks/data_table.ipynb>data table notebook</a>'\n",
              "            + ' to learn more about interactive tables.';\n",
              "          element.innerHTML = '';\n",
              "          dataTable['output_type'] = 'display_data';\n",
              "          await google.colab.output.renderOutput(dataTable, element);\n",
              "          const docLink = document.createElement('div');\n",
              "          docLink.innerHTML = docLinkHtml;\n",
              "          element.appendChild(docLink);\n",
              "        }\n",
              "      </script>\n",
              "    </div>\n",
              "  </div>\n",
              "  "
            ]
          },
          "metadata": {},
          "execution_count": 89
        }
      ],
      "source": [
        "df.head()"
      ]
    },
    {
      "cell_type": "code",
      "execution_count": null,
      "metadata": {
        "colab": {
          "base_uri": "https://localhost:8080/"
        },
        "id": "5cb1265a",
        "outputId": "7916080e-3b13-4351-e2b4-95727d890cbf"
      },
      "outputs": [
        {
          "output_type": "execute_result",
          "data": {
            "text/plain": [
              "id              int64\n",
              "name           object\n",
              "genre          object\n",
              "description    object\n",
              "dtype: object"
            ]
          },
          "metadata": {},
          "execution_count": 90
        }
      ],
      "source": [
        "df.dtypes"
      ]
    },
    {
      "cell_type": "code",
      "execution_count": null,
      "metadata": {
        "colab": {
          "base_uri": "https://localhost:8080/"
        },
        "id": "e8507650",
        "outputId": "f3988a14-4031-450d-9852-5631c620445a"
      },
      "outputs": [
        {
          "output_type": "stream",
          "name": "stdout",
          "text": [
            "<class 'pandas.core.frame.DataFrame'>\n",
            "Int64Index: 12841 entries, 0 to 16558\n",
            "Data columns (total 4 columns):\n",
            " #   Column       Non-Null Count  Dtype \n",
            "---  ------       --------------  ----- \n",
            " 0   id           12841 non-null  int64 \n",
            " 1   name         12841 non-null  object\n",
            " 2   genre        12841 non-null  object\n",
            " 3   description  12841 non-null  object\n",
            "dtypes: int64(1), object(3)\n",
            "memory usage: 1017.6+ KB\n"
          ]
        }
      ],
      "source": [
        "df.info()"
      ]
    },
    {
      "cell_type": "code",
      "execution_count": null,
      "metadata": {
        "colab": {
          "base_uri": "https://localhost:8080/"
        },
        "id": "cf525c18",
        "outputId": "eb51050b-36b4-41f9-f5bc-79b7cd849bf5"
      },
      "outputs": [
        {
          "output_type": "execute_result",
          "data": {
            "text/plain": [
              "(12841, 4)"
            ]
          },
          "metadata": {},
          "execution_count": 92
        }
      ],
      "source": [
        "df.shape"
      ]
    },
    {
      "cell_type": "code",
      "execution_count": null,
      "metadata": {
        "colab": {
          "base_uri": "https://localhost:8080/",
          "height": 300
        },
        "id": "f7689445",
        "outputId": "3f3a2bbd-5585-430d-993c-f20d34d062b7"
      },
      "outputs": [
        {
          "output_type": "execute_result",
          "data": {
            "text/plain": [
              "                 id\n",
              "count  1.284100e+04\n",
              "mean   9.986379e+06\n",
              "std    9.032047e+06\n",
              "min    6.200000e+02\n",
              "25%    2.626115e+06\n",
              "50%    6.877746e+06\n",
              "75%    1.557749e+07\n",
              "max    3.715950e+07"
            ],
            "text/html": [
              "\n",
              "  <div id=\"df-980bfe30-014d-48cb-97c1-aab2a3f46607\">\n",
              "    <div class=\"colab-df-container\">\n",
              "      <div>\n",
              "<style scoped>\n",
              "    .dataframe tbody tr th:only-of-type {\n",
              "        vertical-align: middle;\n",
              "    }\n",
              "\n",
              "    .dataframe tbody tr th {\n",
              "        vertical-align: top;\n",
              "    }\n",
              "\n",
              "    .dataframe thead th {\n",
              "        text-align: right;\n",
              "    }\n",
              "</style>\n",
              "<table border=\"1\" class=\"dataframe\">\n",
              "  <thead>\n",
              "    <tr style=\"text-align: right;\">\n",
              "      <th></th>\n",
              "      <th>id</th>\n",
              "    </tr>\n",
              "  </thead>\n",
              "  <tbody>\n",
              "    <tr>\n",
              "      <th>count</th>\n",
              "      <td>1.284100e+04</td>\n",
              "    </tr>\n",
              "    <tr>\n",
              "      <th>mean</th>\n",
              "      <td>9.986379e+06</td>\n",
              "    </tr>\n",
              "    <tr>\n",
              "      <th>std</th>\n",
              "      <td>9.032047e+06</td>\n",
              "    </tr>\n",
              "    <tr>\n",
              "      <th>min</th>\n",
              "      <td>6.200000e+02</td>\n",
              "    </tr>\n",
              "    <tr>\n",
              "      <th>25%</th>\n",
              "      <td>2.626115e+06</td>\n",
              "    </tr>\n",
              "    <tr>\n",
              "      <th>50%</th>\n",
              "      <td>6.877746e+06</td>\n",
              "    </tr>\n",
              "    <tr>\n",
              "      <th>75%</th>\n",
              "      <td>1.557749e+07</td>\n",
              "    </tr>\n",
              "    <tr>\n",
              "      <th>max</th>\n",
              "      <td>3.715950e+07</td>\n",
              "    </tr>\n",
              "  </tbody>\n",
              "</table>\n",
              "</div>\n",
              "      <button class=\"colab-df-convert\" onclick=\"convertToInteractive('df-980bfe30-014d-48cb-97c1-aab2a3f46607')\"\n",
              "              title=\"Convert this dataframe to an interactive table.\"\n",
              "              style=\"display:none;\">\n",
              "        \n",
              "  <svg xmlns=\"http://www.w3.org/2000/svg\" height=\"24px\"viewBox=\"0 0 24 24\"\n",
              "       width=\"24px\">\n",
              "    <path d=\"M0 0h24v24H0V0z\" fill=\"none\"/>\n",
              "    <path d=\"M18.56 5.44l.94 2.06.94-2.06 2.06-.94-2.06-.94-.94-2.06-.94 2.06-2.06.94zm-11 1L8.5 8.5l.94-2.06 2.06-.94-2.06-.94L8.5 2.5l-.94 2.06-2.06.94zm10 10l.94 2.06.94-2.06 2.06-.94-2.06-.94-.94-2.06-.94 2.06-2.06.94z\"/><path d=\"M17.41 7.96l-1.37-1.37c-.4-.4-.92-.59-1.43-.59-.52 0-1.04.2-1.43.59L10.3 9.45l-7.72 7.72c-.78.78-.78 2.05 0 2.83L4 21.41c.39.39.9.59 1.41.59.51 0 1.02-.2 1.41-.59l7.78-7.78 2.81-2.81c.8-.78.8-2.07 0-2.86zM5.41 20L4 18.59l7.72-7.72 1.47 1.35L5.41 20z\"/>\n",
              "  </svg>\n",
              "      </button>\n",
              "      \n",
              "  <style>\n",
              "    .colab-df-container {\n",
              "      display:flex;\n",
              "      flex-wrap:wrap;\n",
              "      gap: 12px;\n",
              "    }\n",
              "\n",
              "    .colab-df-convert {\n",
              "      background-color: #E8F0FE;\n",
              "      border: none;\n",
              "      border-radius: 50%;\n",
              "      cursor: pointer;\n",
              "      display: none;\n",
              "      fill: #1967D2;\n",
              "      height: 32px;\n",
              "      padding: 0 0 0 0;\n",
              "      width: 32px;\n",
              "    }\n",
              "\n",
              "    .colab-df-convert:hover {\n",
              "      background-color: #E2EBFA;\n",
              "      box-shadow: 0px 1px 2px rgba(60, 64, 67, 0.3), 0px 1px 3px 1px rgba(60, 64, 67, 0.15);\n",
              "      fill: #174EA6;\n",
              "    }\n",
              "\n",
              "    [theme=dark] .colab-df-convert {\n",
              "      background-color: #3B4455;\n",
              "      fill: #D2E3FC;\n",
              "    }\n",
              "\n",
              "    [theme=dark] .colab-df-convert:hover {\n",
              "      background-color: #434B5C;\n",
              "      box-shadow: 0px 1px 3px 1px rgba(0, 0, 0, 0.15);\n",
              "      filter: drop-shadow(0px 1px 2px rgba(0, 0, 0, 0.3));\n",
              "      fill: #FFFFFF;\n",
              "    }\n",
              "  </style>\n",
              "\n",
              "      <script>\n",
              "        const buttonEl =\n",
              "          document.querySelector('#df-980bfe30-014d-48cb-97c1-aab2a3f46607 button.colab-df-convert');\n",
              "        buttonEl.style.display =\n",
              "          google.colab.kernel.accessAllowed ? 'block' : 'none';\n",
              "\n",
              "        async function convertToInteractive(key) {\n",
              "          const element = document.querySelector('#df-980bfe30-014d-48cb-97c1-aab2a3f46607');\n",
              "          const dataTable =\n",
              "            await google.colab.kernel.invokeFunction('convertToInteractive',\n",
              "                                                     [key], {});\n",
              "          if (!dataTable) return;\n",
              "\n",
              "          const docLinkHtml = 'Like what you see? Visit the ' +\n",
              "            '<a target=\"_blank\" href=https://colab.research.google.com/notebooks/data_table.ipynb>data table notebook</a>'\n",
              "            + ' to learn more about interactive tables.';\n",
              "          element.innerHTML = '';\n",
              "          dataTable['output_type'] = 'display_data';\n",
              "          await google.colab.output.renderOutput(dataTable, element);\n",
              "          const docLink = document.createElement('div');\n",
              "          docLink.innerHTML = docLinkHtml;\n",
              "          element.appendChild(docLink);\n",
              "        }\n",
              "      </script>\n",
              "    </div>\n",
              "  </div>\n",
              "  "
            ]
          },
          "metadata": {},
          "execution_count": 93
        }
      ],
      "source": [
        "df.describe()"
      ]
    },
    {
      "cell_type": "code",
      "execution_count": null,
      "metadata": {
        "colab": {
          "base_uri": "https://localhost:8080/"
        },
        "id": "55581b98",
        "outputId": "c00cb201-5b95-4832-b31b-153625b12eac"
      },
      "outputs": [
        {
          "output_type": "stream",
          "name": "stderr",
          "text": [
            "[nltk_data] Downloading package stopwords to /root/nltk_data...\n",
            "[nltk_data]   Unzipping corpora/stopwords.zip.\n",
            "[nltk_data] Downloading package words to /root/nltk_data...\n",
            "[nltk_data]   Unzipping corpora/words.zip.\n",
            "[nltk_data] Downloading package punkt to /root/nltk_data...\n",
            "[nltk_data]   Unzipping tokenizers/punkt.zip.\n"
          ]
        },
        {
          "output_type": "execute_result",
          "data": {
            "text/plain": [
              "True"
            ]
          },
          "metadata": {},
          "execution_count": 94
        }
      ],
      "source": [
        "import nltk\n",
        "from nltk.corpus import stopwords \n",
        "nltk.download('stopwords')\n",
        "nltk.download('words')\n",
        "nltk.download('punkt')"
      ]
    },
    {
      "cell_type": "code",
      "execution_count": null,
      "metadata": {
        "id": "0b3b51cc"
      },
      "outputs": [],
      "source": [
        "from nltk.tokenize import word_tokenize"
      ]
    },
    {
      "cell_type": "markdown",
      "source": [
        "Removing stopwords from the description"
      ],
      "metadata": {
        "id": "F4aq2sSO-dWL"
      }
    },
    {
      "cell_type": "code",
      "execution_count": null,
      "metadata": {
        "id": "dfce7861"
      },
      "outputs": [],
      "source": [
        "def preprocess_SW(desc):\n",
        "    setSW = set(stopwords.words('english'))\n",
        "    tokens = word_tokenize(desc)\n",
        "    newDesc = [x for x in tokens if not x.lower() in setSW]\n",
        "    return ' '.join(newDesc)"
      ]
    },
    {
      "cell_type": "code",
      "execution_count": null,
      "metadata": {
        "colab": {
          "base_uri": "https://localhost:8080/",
          "height": 53
        },
        "id": "7c83d55b",
        "outputId": "0a909b76-a2d6-48b0-877f-033cfdcdc2bb"
      },
      "outputs": [
        {
          "output_type": "execute_result",
          "data": {
            "text/plain": [
              "'old major old boar manor farm calls animals farm meeting compares humans parasites teaches animals revolutionary song beasts england major dies two young pigs snowball napoleon assume command turn dream philosophy'"
            ],
            "application/vnd.google.colaboratory.intrinsic+json": {
              "type": "string"
            }
          },
          "metadata": {},
          "execution_count": 97
        }
      ],
      "source": [
        "preprocess_SW(\"old major the old boar on the manor farm calls the animals on the farm for a meeting where he compares the humans to parasites and teaches the animals a revolutionary song beasts of england when major dies two young pigs snowball and napoleon assume command and turn his dream into a philosophy\")"
      ]
    },
    {
      "cell_type": "code",
      "execution_count": null,
      "metadata": {
        "id": "522410be"
      },
      "outputs": [],
      "source": [
        "df['description w/o SW'] = df['description'].apply(lambda x: preprocess_SW(x))"
      ]
    },
    {
      "cell_type": "code",
      "execution_count": null,
      "metadata": {
        "colab": {
          "base_uri": "https://localhost:8080/",
          "height": 320
        },
        "id": "71faead0",
        "outputId": "2cf44cf4-dda5-4b42-efc7-4fb4f7b2f4b4"
      },
      "outputs": [
        {
          "output_type": "execute_result",
          "data": {
            "text/plain": [
              "     id                            name  \\\n",
              "0   620                     Animal Farm   \n",
              "1   843              A Clockwork Orange   \n",
              "2   986                      The Plague   \n",
              "4  2080            A Fire Upon the Deep   \n",
              "5  2152  All Quiet on the Western Front   \n",
              "\n",
              "                                               genre  \\\n",
              "0  [Roman à clef, Satire, Children's literature, ...   \n",
              "1  [Science Fiction, Novella, Speculative fiction...   \n",
              "2  [Existentialism, Fiction, Absurdist fiction, N...   \n",
              "4  [Hard science fiction, Science Fiction, Specul...   \n",
              "5                          [War novel, Roman à clef]   \n",
              "\n",
              "                                         description  \\\n",
              "0  old major the old boar on the manor farm calls...   \n",
              "1  alex a teenager living in near future england ...   \n",
              "2  the text of the plague is divided into five pa...   \n",
              "4  the novel posits that space around the milky w...   \n",
              "5  the book tells the story of paul b umer a germ...   \n",
              "\n",
              "                                  description w/o SW  \n",
              "0  old major old boar manor farm calls animals fa...  \n",
              "1  alex teenager living near future england leads...  \n",
              "2  text plague divided five parts town oran thous...  \n",
              "4  novel posits space around milky way divided co...  \n",
              "5  book tells story paul b umer german soldier ur...  "
            ],
            "text/html": [
              "\n",
              "  <div id=\"df-caad751b-0708-41b0-8c02-4086d34b1fb3\">\n",
              "    <div class=\"colab-df-container\">\n",
              "      <div>\n",
              "<style scoped>\n",
              "    .dataframe tbody tr th:only-of-type {\n",
              "        vertical-align: middle;\n",
              "    }\n",
              "\n",
              "    .dataframe tbody tr th {\n",
              "        vertical-align: top;\n",
              "    }\n",
              "\n",
              "    .dataframe thead th {\n",
              "        text-align: right;\n",
              "    }\n",
              "</style>\n",
              "<table border=\"1\" class=\"dataframe\">\n",
              "  <thead>\n",
              "    <tr style=\"text-align: right;\">\n",
              "      <th></th>\n",
              "      <th>id</th>\n",
              "      <th>name</th>\n",
              "      <th>genre</th>\n",
              "      <th>description</th>\n",
              "      <th>description w/o SW</th>\n",
              "    </tr>\n",
              "  </thead>\n",
              "  <tbody>\n",
              "    <tr>\n",
              "      <th>0</th>\n",
              "      <td>620</td>\n",
              "      <td>Animal Farm</td>\n",
              "      <td>[Roman à clef, Satire, Children's literature, ...</td>\n",
              "      <td>old major the old boar on the manor farm calls...</td>\n",
              "      <td>old major old boar manor farm calls animals fa...</td>\n",
              "    </tr>\n",
              "    <tr>\n",
              "      <th>1</th>\n",
              "      <td>843</td>\n",
              "      <td>A Clockwork Orange</td>\n",
              "      <td>[Science Fiction, Novella, Speculative fiction...</td>\n",
              "      <td>alex a teenager living in near future england ...</td>\n",
              "      <td>alex teenager living near future england leads...</td>\n",
              "    </tr>\n",
              "    <tr>\n",
              "      <th>2</th>\n",
              "      <td>986</td>\n",
              "      <td>The Plague</td>\n",
              "      <td>[Existentialism, Fiction, Absurdist fiction, N...</td>\n",
              "      <td>the text of the plague is divided into five pa...</td>\n",
              "      <td>text plague divided five parts town oran thous...</td>\n",
              "    </tr>\n",
              "    <tr>\n",
              "      <th>4</th>\n",
              "      <td>2080</td>\n",
              "      <td>A Fire Upon the Deep</td>\n",
              "      <td>[Hard science fiction, Science Fiction, Specul...</td>\n",
              "      <td>the novel posits that space around the milky w...</td>\n",
              "      <td>novel posits space around milky way divided co...</td>\n",
              "    </tr>\n",
              "    <tr>\n",
              "      <th>5</th>\n",
              "      <td>2152</td>\n",
              "      <td>All Quiet on the Western Front</td>\n",
              "      <td>[War novel, Roman à clef]</td>\n",
              "      <td>the book tells the story of paul b umer a germ...</td>\n",
              "      <td>book tells story paul b umer german soldier ur...</td>\n",
              "    </tr>\n",
              "  </tbody>\n",
              "</table>\n",
              "</div>\n",
              "      <button class=\"colab-df-convert\" onclick=\"convertToInteractive('df-caad751b-0708-41b0-8c02-4086d34b1fb3')\"\n",
              "              title=\"Convert this dataframe to an interactive table.\"\n",
              "              style=\"display:none;\">\n",
              "        \n",
              "  <svg xmlns=\"http://www.w3.org/2000/svg\" height=\"24px\"viewBox=\"0 0 24 24\"\n",
              "       width=\"24px\">\n",
              "    <path d=\"M0 0h24v24H0V0z\" fill=\"none\"/>\n",
              "    <path d=\"M18.56 5.44l.94 2.06.94-2.06 2.06-.94-2.06-.94-.94-2.06-.94 2.06-2.06.94zm-11 1L8.5 8.5l.94-2.06 2.06-.94-2.06-.94L8.5 2.5l-.94 2.06-2.06.94zm10 10l.94 2.06.94-2.06 2.06-.94-2.06-.94-.94-2.06-.94 2.06-2.06.94z\"/><path d=\"M17.41 7.96l-1.37-1.37c-.4-.4-.92-.59-1.43-.59-.52 0-1.04.2-1.43.59L10.3 9.45l-7.72 7.72c-.78.78-.78 2.05 0 2.83L4 21.41c.39.39.9.59 1.41.59.51 0 1.02-.2 1.41-.59l7.78-7.78 2.81-2.81c.8-.78.8-2.07 0-2.86zM5.41 20L4 18.59l7.72-7.72 1.47 1.35L5.41 20z\"/>\n",
              "  </svg>\n",
              "      </button>\n",
              "      \n",
              "  <style>\n",
              "    .colab-df-container {\n",
              "      display:flex;\n",
              "      flex-wrap:wrap;\n",
              "      gap: 12px;\n",
              "    }\n",
              "\n",
              "    .colab-df-convert {\n",
              "      background-color: #E8F0FE;\n",
              "      border: none;\n",
              "      border-radius: 50%;\n",
              "      cursor: pointer;\n",
              "      display: none;\n",
              "      fill: #1967D2;\n",
              "      height: 32px;\n",
              "      padding: 0 0 0 0;\n",
              "      width: 32px;\n",
              "    }\n",
              "\n",
              "    .colab-df-convert:hover {\n",
              "      background-color: #E2EBFA;\n",
              "      box-shadow: 0px 1px 2px rgba(60, 64, 67, 0.3), 0px 1px 3px 1px rgba(60, 64, 67, 0.15);\n",
              "      fill: #174EA6;\n",
              "    }\n",
              "\n",
              "    [theme=dark] .colab-df-convert {\n",
              "      background-color: #3B4455;\n",
              "      fill: #D2E3FC;\n",
              "    }\n",
              "\n",
              "    [theme=dark] .colab-df-convert:hover {\n",
              "      background-color: #434B5C;\n",
              "      box-shadow: 0px 1px 3px 1px rgba(0, 0, 0, 0.15);\n",
              "      filter: drop-shadow(0px 1px 2px rgba(0, 0, 0, 0.3));\n",
              "      fill: #FFFFFF;\n",
              "    }\n",
              "  </style>\n",
              "\n",
              "      <script>\n",
              "        const buttonEl =\n",
              "          document.querySelector('#df-caad751b-0708-41b0-8c02-4086d34b1fb3 button.colab-df-convert');\n",
              "        buttonEl.style.display =\n",
              "          google.colab.kernel.accessAllowed ? 'block' : 'none';\n",
              "\n",
              "        async function convertToInteractive(key) {\n",
              "          const element = document.querySelector('#df-caad751b-0708-41b0-8c02-4086d34b1fb3');\n",
              "          const dataTable =\n",
              "            await google.colab.kernel.invokeFunction('convertToInteractive',\n",
              "                                                     [key], {});\n",
              "          if (!dataTable) return;\n",
              "\n",
              "          const docLinkHtml = 'Like what you see? Visit the ' +\n",
              "            '<a target=\"_blank\" href=https://colab.research.google.com/notebooks/data_table.ipynb>data table notebook</a>'\n",
              "            + ' to learn more about interactive tables.';\n",
              "          element.innerHTML = '';\n",
              "          dataTable['output_type'] = 'display_data';\n",
              "          await google.colab.output.renderOutput(dataTable, element);\n",
              "          const docLink = document.createElement('div');\n",
              "          docLink.innerHTML = docLinkHtml;\n",
              "          element.appendChild(docLink);\n",
              "        }\n",
              "      </script>\n",
              "    </div>\n",
              "  </div>\n",
              "  "
            ]
          },
          "metadata": {},
          "execution_count": 99
        }
      ],
      "source": [
        "df.head()"
      ]
    },
    {
      "cell_type": "code",
      "source": [
        "setOfgenre"
      ],
      "metadata": {
        "colab": {
          "base_uri": "https://localhost:8080/"
        },
        "id": "QTlv9lJKtRq1",
        "outputId": "4b8664b3-b106-4a2e-f610-0c3fed11ac1e"
      },
      "execution_count": null,
      "outputs": [
        {
          "output_type": "execute_result",
          "data": {
            "text/plain": [
              "{'Absurdist fiction',\n",
              " 'Adventure',\n",
              " 'Adventure novel',\n",
              " 'Albino bias',\n",
              " 'Alien invasion',\n",
              " 'Alternate history',\n",
              " 'American Gothic Fiction',\n",
              " 'Anthology',\n",
              " 'Anthropology',\n",
              " 'Anti-nuclear',\n",
              " 'Anti-war',\n",
              " 'Apocalyptic and post-apocalyptic fiction',\n",
              " 'Autobiographical comics',\n",
              " 'Autobiographical novel',\n",
              " 'Autobiography',\n",
              " 'Bangsian fantasy',\n",
              " 'Bildungsroman',\n",
              " 'Biographical novel',\n",
              " 'Biography',\n",
              " 'Biopunk',\n",
              " 'Bit Lit',\n",
              " 'Black comedy',\n",
              " \"Boys' school stories\",\n",
              " 'Business',\n",
              " 'Cabal',\n",
              " 'Campus novel',\n",
              " 'Catastrophic literature',\n",
              " 'Chick lit',\n",
              " \"Children's literature\",\n",
              " 'Chivalric romance',\n",
              " 'Collage',\n",
              " 'Colonial United States romance',\n",
              " 'Comedy',\n",
              " 'Comedy of manners',\n",
              " 'Comic book',\n",
              " 'Comic fantasy',\n",
              " 'Comic novel',\n",
              " 'Comic science fiction',\n",
              " 'Comics',\n",
              " 'Coming of age',\n",
              " 'Computer Science',\n",
              " 'Conspiracy',\n",
              " 'Conspiracy fiction',\n",
              " 'Contemporary fantasy',\n",
              " 'Cookbook',\n",
              " 'Cozy',\n",
              " 'Creative nonfiction',\n",
              " 'Crime Fiction',\n",
              " 'Cyberpunk',\n",
              " 'Dark fantasy',\n",
              " 'Detective fiction',\n",
              " 'Drama',\n",
              " 'Dying Earth subgenre',\n",
              " 'Dystopia',\n",
              " 'Economics',\n",
              " 'Edisonade',\n",
              " 'Education',\n",
              " 'Elizabethan romance',\n",
              " 'Encyclopedia',\n",
              " 'English public-school stories',\n",
              " 'Epic Science Fiction and Fantasy',\n",
              " 'Epistolary novel',\n",
              " 'Ergodic literature',\n",
              " 'Erotica',\n",
              " 'Essay',\n",
              " 'Existentialism',\n",
              " 'Experimental literature',\n",
              " 'Fable',\n",
              " 'Fairy tale',\n",
              " 'Fairytale fantasy',\n",
              " 'Fantastique',\n",
              " 'Fantasy',\n",
              " 'Fantasy of manners',\n",
              " 'Farce',\n",
              " 'Feminist science fiction',\n",
              " 'Fiction',\n",
              " 'Fictional crossover',\n",
              " 'Field guide',\n",
              " 'First-person narrative',\n",
              " 'Foreign legion',\n",
              " 'Future history',\n",
              " 'Gamebook',\n",
              " 'Gay Themed',\n",
              " 'Gay novel',\n",
              " 'Georgian romance',\n",
              " 'Ghost story',\n",
              " 'Gothic fiction',\n",
              " 'Graphic novel',\n",
              " 'Hard science fiction',\n",
              " 'Hardboiled',\n",
              " 'Heroic fantasy',\n",
              " 'High fantasy',\n",
              " 'Historical fantasy',\n",
              " 'Historical fiction',\n",
              " 'Historical novel',\n",
              " 'Historical romance',\n",
              " 'Historical whodunnit',\n",
              " 'History',\n",
              " 'Horror',\n",
              " 'Human extinction',\n",
              " 'Humour',\n",
              " 'Indian chick lit',\n",
              " 'Industrial novel',\n",
              " 'Inspirational',\n",
              " 'Invasion literature',\n",
              " 'Juvenile fantasy',\n",
              " 'Künstlerroman',\n",
              " 'LGBT literature',\n",
              " 'Light novel',\n",
              " 'Literary criticism',\n",
              " 'Literary fiction',\n",
              " 'Literary realism',\n",
              " 'Literary theory',\n",
              " 'Locked room mystery',\n",
              " 'Lost World',\n",
              " 'Low fantasy',\n",
              " 'Magic realism',\n",
              " 'Marketing',\n",
              " 'Mashup',\n",
              " 'Mathematics',\n",
              " 'Medieval romance',\n",
              " 'Memoir',\n",
              " 'Metaphysics',\n",
              " 'Military history',\n",
              " 'Military science fiction',\n",
              " 'Modernism',\n",
              " 'Morality play',\n",
              " 'Music',\n",
              " 'Mystery',\n",
              " 'Nature',\n",
              " 'Naval adventure',\n",
              " 'Neuroscience',\n",
              " 'New Weird',\n",
              " 'New York Times Best Seller list',\n",
              " 'Non-fiction',\n",
              " 'Non-fiction novel',\n",
              " 'Novel',\n",
              " 'Novella',\n",
              " 'Parallel novel',\n",
              " 'Paranormal romance',\n",
              " 'Parody',\n",
              " 'Pastiche',\n",
              " 'Personal journal',\n",
              " 'Philosophy',\n",
              " 'Photography',\n",
              " 'Picaresque novel',\n",
              " 'Picture book',\n",
              " 'Planetary romance',\n",
              " 'Play',\n",
              " 'Poetry',\n",
              " 'Polemic',\n",
              " 'Police procedural',\n",
              " 'Political philosophy',\n",
              " 'Politics',\n",
              " 'Popular culture',\n",
              " 'Popular science',\n",
              " 'Pornography',\n",
              " 'Post-holocaust',\n",
              " 'Postcyberpunk',\n",
              " 'Postmodernism',\n",
              " 'Prose',\n",
              " 'Prose poetry',\n",
              " 'Psychological novel',\n",
              " 'Psychology',\n",
              " 'Reference',\n",
              " 'Regency romance',\n",
              " 'Religion',\n",
              " 'Religious text',\n",
              " 'Robinsonade',\n",
              " 'Role-playing game',\n",
              " 'Roman à clef',\n",
              " 'Romance novel',\n",
              " 'Romantic comedy',\n",
              " 'Satire',\n",
              " 'School story',\n",
              " 'Science',\n",
              " 'Science Fiction',\n",
              " 'Science fantasy',\n",
              " 'Scientific romance',\n",
              " 'Sea story',\n",
              " 'Self-help',\n",
              " 'Serial',\n",
              " 'Short story',\n",
              " 'Social commentary',\n",
              " 'Social criticism',\n",
              " 'Social novel',\n",
              " 'Social science fiction',\n",
              " 'Social sciences',\n",
              " 'Sociology',\n",
              " 'Soft science fiction',\n",
              " 'Space opera',\n",
              " 'Space western',\n",
              " 'Speculative fiction',\n",
              " 'Spirituality',\n",
              " 'Sports',\n",
              " 'Spy fiction',\n",
              " 'Steampunk',\n",
              " 'Subterranean fiction',\n",
              " 'Superhero fiction',\n",
              " 'Supernatural',\n",
              " 'Suspense',\n",
              " 'Sword and planet',\n",
              " 'Sword and sorcery',\n",
              " 'Techno-thriller',\n",
              " 'Thriller',\n",
              " 'Time travel',\n",
              " 'Tragicomedy',\n",
              " 'Transgender and transsexual fiction',\n",
              " 'Transhumanism',\n",
              " 'Travel',\n",
              " 'Travel literature',\n",
              " 'Treatise',\n",
              " 'True crime',\n",
              " 'Urban fantasy',\n",
              " 'Urban fiction',\n",
              " 'Utopian and dystopian fiction',\n",
              " 'Utopian fiction',\n",
              " 'Vampire fiction',\n",
              " 'War novel',\n",
              " 'Western',\n",
              " 'Western fiction',\n",
              " 'Whodunit',\n",
              " 'Wuxia',\n",
              " 'Young adult literature',\n",
              " 'Youth',\n",
              " 'Zombie',\n",
              " 'Zombies in popular culture'}"
            ]
          },
          "metadata": {},
          "execution_count": 100
        }
      ]
    },
    {
      "cell_type": "markdown",
      "source": [
        "Grouping similar genres"
      ],
      "metadata": {
        "id": "yDp9zjuCFwDD"
      }
    },
    {
      "cell_type": "code",
      "execution_count": null,
      "metadata": {
        "id": "0o19N8WD5EbU"
      },
      "outputs": [],
      "source": [
        "book_genres = setOfgenre"
      ]
    },
    {
      "cell_type": "code",
      "source": [
        "len(book_genres)"
      ],
      "metadata": {
        "id": "AyiqGtChNeFS",
        "colab": {
          "base_uri": "https://localhost:8080/"
        },
        "outputId": "360d9322-6abc-4887-8e57-7aa216f163c0"
      },
      "execution_count": null,
      "outputs": [
        {
          "output_type": "execute_result",
          "data": {
            "text/plain": [
              "227"
            ]
          },
          "metadata": {},
          "execution_count": 102
        }
      ]
    },
    {
      "cell_type": "code",
      "source": [
        "from nltk.corpus import stopwords \n",
        "import regex as re\n",
        "from nltk.tokenize import word_tokenize\n",
        "import nltk\n",
        "nltk.download('stopwords')\n",
        "nltk.download('words')\n",
        "nltk.download('punkt')"
      ],
      "metadata": {
        "id": "ImPaq8-qQBdj",
        "colab": {
          "base_uri": "https://localhost:8080/"
        },
        "outputId": "a88d2ef1-0a1f-415f-dc52-07ec48875f81"
      },
      "execution_count": null,
      "outputs": [
        {
          "output_type": "stream",
          "name": "stderr",
          "text": [
            "[nltk_data] Downloading package stopwords to /root/nltk_data...\n",
            "[nltk_data]   Package stopwords is already up-to-date!\n",
            "[nltk_data] Downloading package words to /root/nltk_data...\n",
            "[nltk_data]   Package words is already up-to-date!\n",
            "[nltk_data] Downloading package punkt to /root/nltk_data...\n",
            "[nltk_data]   Package punkt is already up-to-date!\n"
          ]
        },
        {
          "output_type": "execute_result",
          "data": {
            "text/plain": [
              "True"
            ]
          },
          "metadata": {},
          "execution_count": 103
        }
      ]
    },
    {
      "cell_type": "code",
      "source": [
        "def preprocess_genres(i):\n",
        "    t = stopwords.words(\"english\")\n",
        "    pattern = re.compile(r'\\b(' + r'|'.join(t) + r')\\b\\s*')\n",
        "    tokens = nltk.word_tokenize(i)\n",
        "    s = \"\"\n",
        "    s = \", \".join(tokens)\n",
        "    stopword_removed =[]    \n",
        "    for word in tokens:\n",
        "      word = pattern.sub('', word)\n",
        "      if(len(word)> 0):\n",
        "        stopword_removed.append(word)\n",
        "    final_genre = ''  \n",
        "    for word in stopword_removed:\n",
        "      final_genre += (word+' ')  \n",
        "    final_genre = final_genre.strip()  \n",
        "    return final_genre"
      ],
      "metadata": {
        "id": "ZXFRq_zucvk-"
      },
      "execution_count": null,
      "outputs": []
    },
    {
      "cell_type": "code",
      "execution_count": null,
      "metadata": {
        "colab": {
          "base_uri": "https://localhost:8080/",
          "height": 641
        },
        "id": "Eqqsws-tdJZ8",
        "outputId": "ab2c9904-3602-4e65-d3cb-8d9f659cbf73"
      },
      "outputs": [
        {
          "output_type": "execute_result",
          "data": {
            "text/plain": [
              "             id                            name  \\\n",
              "0           620                     Animal Farm   \n",
              "1           843              A Clockwork Orange   \n",
              "2           986                      The Plague   \n",
              "4          2080            A Fire Upon the Deep   \n",
              "5          2152  All Quiet on the Western Front   \n",
              "...         ...                             ...   \n",
              "16549  36372465                  The Third Lynx   \n",
              "16551  36534061                  Remote Control   \n",
              "16555  37054020               Transfer of Power   \n",
              "16556  37122323                         Decoded   \n",
              "16558  37159503                       Poor Folk   \n",
              "\n",
              "                                                   genre  \\\n",
              "0      [Roman à clef, Satire, Children's literature, ...   \n",
              "1      [Science Fiction, Novella, Speculative fiction...   \n",
              "2      [Existentialism, Fiction, Absurdist fiction, N...   \n",
              "4      [Hard science fiction, Science Fiction, Specul...   \n",
              "5                              [War novel, Roman à clef]   \n",
              "...                                                  ...   \n",
              "16549                                  [Science Fiction]   \n",
              "16551                      [Thriller, Fiction, Suspense]   \n",
              "16555                                [Thriller, Fiction]   \n",
              "16556                                    [Autobiography]   \n",
              "16558            [Epistolary novel, Speculative fiction]   \n",
              "\n",
              "                                             description  \\\n",
              "0      old major the old boar on the manor farm calls...   \n",
              "1      alex a teenager living in near future england ...   \n",
              "2      the text of the plague is divided into five pa...   \n",
              "4      the novel posits that space around the milky w...   \n",
              "5      the book tells the story of paul b umer a germ...   \n",
              "...                                                  ...   \n",
              "16549  the story starts with former government agent ...   \n",
              "16551  the series follows the character of nick stone...   \n",
              "16555  the reader first meets rapp while he is doing ...   \n",
              "16556  the book follows very rough chronological orde...   \n",
              "16558  makar devushkin and varvara dobroselova are se...   \n",
              "\n",
              "                                      description w/o SW  \\\n",
              "0      old major old boar manor farm calls animals fa...   \n",
              "1      alex teenager living near future england leads...   \n",
              "2      text plague divided five parts town oran thous...   \n",
              "4      novel posits space around milky way divided co...   \n",
              "5      book tells story paul b umer german soldier ur...   \n",
              "...                                                  ...   \n",
              "16549  story starts former government agent frank com...   \n",
              "16551  series follows character nick stone ex militar...   \n",
              "16555  reader first meets rapp covert operation iran ...   \n",
              "16556  book follows rough chronological order switchi...   \n",
              "16558  makar devushkin varvara dobroselova second cou...   \n",
              "\n",
              "                                                 m-genre  \n",
              "0      [Roman à clef, Satire, Children ' literature, ...  \n",
              "1      [Science Fiction, Novella, Speculative fiction...  \n",
              "2      [Existentialism, Fiction, Absurdist fiction, N...  \n",
              "4      [Hard science fiction, Science Fiction, Specul...  \n",
              "5                              [War novel, Roman à clef]  \n",
              "...                                                  ...  \n",
              "16549                                  [Science Fiction]  \n",
              "16551                      [Thriller, Fiction, Suspense]  \n",
              "16555                                [Thriller, Fiction]  \n",
              "16556                                    [Autobiography]  \n",
              "16558            [Epistolary novel, Speculative fiction]  \n",
              "\n",
              "[12841 rows x 6 columns]"
            ],
            "text/html": [
              "\n",
              "  <div id=\"df-3c7a1d59-63a4-4cfb-aa39-9852ae9da67b\">\n",
              "    <div class=\"colab-df-container\">\n",
              "      <div>\n",
              "<style scoped>\n",
              "    .dataframe tbody tr th:only-of-type {\n",
              "        vertical-align: middle;\n",
              "    }\n",
              "\n",
              "    .dataframe tbody tr th {\n",
              "        vertical-align: top;\n",
              "    }\n",
              "\n",
              "    .dataframe thead th {\n",
              "        text-align: right;\n",
              "    }\n",
              "</style>\n",
              "<table border=\"1\" class=\"dataframe\">\n",
              "  <thead>\n",
              "    <tr style=\"text-align: right;\">\n",
              "      <th></th>\n",
              "      <th>id</th>\n",
              "      <th>name</th>\n",
              "      <th>genre</th>\n",
              "      <th>description</th>\n",
              "      <th>description w/o SW</th>\n",
              "      <th>m-genre</th>\n",
              "    </tr>\n",
              "  </thead>\n",
              "  <tbody>\n",
              "    <tr>\n",
              "      <th>0</th>\n",
              "      <td>620</td>\n",
              "      <td>Animal Farm</td>\n",
              "      <td>[Roman à clef, Satire, Children's literature, ...</td>\n",
              "      <td>old major the old boar on the manor farm calls...</td>\n",
              "      <td>old major old boar manor farm calls animals fa...</td>\n",
              "      <td>[Roman à clef, Satire, Children ' literature, ...</td>\n",
              "    </tr>\n",
              "    <tr>\n",
              "      <th>1</th>\n",
              "      <td>843</td>\n",
              "      <td>A Clockwork Orange</td>\n",
              "      <td>[Science Fiction, Novella, Speculative fiction...</td>\n",
              "      <td>alex a teenager living in near future england ...</td>\n",
              "      <td>alex teenager living near future england leads...</td>\n",
              "      <td>[Science Fiction, Novella, Speculative fiction...</td>\n",
              "    </tr>\n",
              "    <tr>\n",
              "      <th>2</th>\n",
              "      <td>986</td>\n",
              "      <td>The Plague</td>\n",
              "      <td>[Existentialism, Fiction, Absurdist fiction, N...</td>\n",
              "      <td>the text of the plague is divided into five pa...</td>\n",
              "      <td>text plague divided five parts town oran thous...</td>\n",
              "      <td>[Existentialism, Fiction, Absurdist fiction, N...</td>\n",
              "    </tr>\n",
              "    <tr>\n",
              "      <th>4</th>\n",
              "      <td>2080</td>\n",
              "      <td>A Fire Upon the Deep</td>\n",
              "      <td>[Hard science fiction, Science Fiction, Specul...</td>\n",
              "      <td>the novel posits that space around the milky w...</td>\n",
              "      <td>novel posits space around milky way divided co...</td>\n",
              "      <td>[Hard science fiction, Science Fiction, Specul...</td>\n",
              "    </tr>\n",
              "    <tr>\n",
              "      <th>5</th>\n",
              "      <td>2152</td>\n",
              "      <td>All Quiet on the Western Front</td>\n",
              "      <td>[War novel, Roman à clef]</td>\n",
              "      <td>the book tells the story of paul b umer a germ...</td>\n",
              "      <td>book tells story paul b umer german soldier ur...</td>\n",
              "      <td>[War novel, Roman à clef]</td>\n",
              "    </tr>\n",
              "    <tr>\n",
              "      <th>...</th>\n",
              "      <td>...</td>\n",
              "      <td>...</td>\n",
              "      <td>...</td>\n",
              "      <td>...</td>\n",
              "      <td>...</td>\n",
              "      <td>...</td>\n",
              "    </tr>\n",
              "    <tr>\n",
              "      <th>16549</th>\n",
              "      <td>36372465</td>\n",
              "      <td>The Third Lynx</td>\n",
              "      <td>[Science Fiction]</td>\n",
              "      <td>the story starts with former government agent ...</td>\n",
              "      <td>story starts former government agent frank com...</td>\n",
              "      <td>[Science Fiction]</td>\n",
              "    </tr>\n",
              "    <tr>\n",
              "      <th>16551</th>\n",
              "      <td>36534061</td>\n",
              "      <td>Remote Control</td>\n",
              "      <td>[Thriller, Fiction, Suspense]</td>\n",
              "      <td>the series follows the character of nick stone...</td>\n",
              "      <td>series follows character nick stone ex militar...</td>\n",
              "      <td>[Thriller, Fiction, Suspense]</td>\n",
              "    </tr>\n",
              "    <tr>\n",
              "      <th>16555</th>\n",
              "      <td>37054020</td>\n",
              "      <td>Transfer of Power</td>\n",
              "      <td>[Thriller, Fiction]</td>\n",
              "      <td>the reader first meets rapp while he is doing ...</td>\n",
              "      <td>reader first meets rapp covert operation iran ...</td>\n",
              "      <td>[Thriller, Fiction]</td>\n",
              "    </tr>\n",
              "    <tr>\n",
              "      <th>16556</th>\n",
              "      <td>37122323</td>\n",
              "      <td>Decoded</td>\n",
              "      <td>[Autobiography]</td>\n",
              "      <td>the book follows very rough chronological orde...</td>\n",
              "      <td>book follows rough chronological order switchi...</td>\n",
              "      <td>[Autobiography]</td>\n",
              "    </tr>\n",
              "    <tr>\n",
              "      <th>16558</th>\n",
              "      <td>37159503</td>\n",
              "      <td>Poor Folk</td>\n",
              "      <td>[Epistolary novel, Speculative fiction]</td>\n",
              "      <td>makar devushkin and varvara dobroselova are se...</td>\n",
              "      <td>makar devushkin varvara dobroselova second cou...</td>\n",
              "      <td>[Epistolary novel, Speculative fiction]</td>\n",
              "    </tr>\n",
              "  </tbody>\n",
              "</table>\n",
              "<p>12841 rows × 6 columns</p>\n",
              "</div>\n",
              "      <button class=\"colab-df-convert\" onclick=\"convertToInteractive('df-3c7a1d59-63a4-4cfb-aa39-9852ae9da67b')\"\n",
              "              title=\"Convert this dataframe to an interactive table.\"\n",
              "              style=\"display:none;\">\n",
              "        \n",
              "  <svg xmlns=\"http://www.w3.org/2000/svg\" height=\"24px\"viewBox=\"0 0 24 24\"\n",
              "       width=\"24px\">\n",
              "    <path d=\"M0 0h24v24H0V0z\" fill=\"none\"/>\n",
              "    <path d=\"M18.56 5.44l.94 2.06.94-2.06 2.06-.94-2.06-.94-.94-2.06-.94 2.06-2.06.94zm-11 1L8.5 8.5l.94-2.06 2.06-.94-2.06-.94L8.5 2.5l-.94 2.06-2.06.94zm10 10l.94 2.06.94-2.06 2.06-.94-2.06-.94-.94-2.06-.94 2.06-2.06.94z\"/><path d=\"M17.41 7.96l-1.37-1.37c-.4-.4-.92-.59-1.43-.59-.52 0-1.04.2-1.43.59L10.3 9.45l-7.72 7.72c-.78.78-.78 2.05 0 2.83L4 21.41c.39.39.9.59 1.41.59.51 0 1.02-.2 1.41-.59l7.78-7.78 2.81-2.81c.8-.78.8-2.07 0-2.86zM5.41 20L4 18.59l7.72-7.72 1.47 1.35L5.41 20z\"/>\n",
              "  </svg>\n",
              "      </button>\n",
              "      \n",
              "  <style>\n",
              "    .colab-df-container {\n",
              "      display:flex;\n",
              "      flex-wrap:wrap;\n",
              "      gap: 12px;\n",
              "    }\n",
              "\n",
              "    .colab-df-convert {\n",
              "      background-color: #E8F0FE;\n",
              "      border: none;\n",
              "      border-radius: 50%;\n",
              "      cursor: pointer;\n",
              "      display: none;\n",
              "      fill: #1967D2;\n",
              "      height: 32px;\n",
              "      padding: 0 0 0 0;\n",
              "      width: 32px;\n",
              "    }\n",
              "\n",
              "    .colab-df-convert:hover {\n",
              "      background-color: #E2EBFA;\n",
              "      box-shadow: 0px 1px 2px rgba(60, 64, 67, 0.3), 0px 1px 3px 1px rgba(60, 64, 67, 0.15);\n",
              "      fill: #174EA6;\n",
              "    }\n",
              "\n",
              "    [theme=dark] .colab-df-convert {\n",
              "      background-color: #3B4455;\n",
              "      fill: #D2E3FC;\n",
              "    }\n",
              "\n",
              "    [theme=dark] .colab-df-convert:hover {\n",
              "      background-color: #434B5C;\n",
              "      box-shadow: 0px 1px 3px 1px rgba(0, 0, 0, 0.15);\n",
              "      filter: drop-shadow(0px 1px 2px rgba(0, 0, 0, 0.3));\n",
              "      fill: #FFFFFF;\n",
              "    }\n",
              "  </style>\n",
              "\n",
              "      <script>\n",
              "        const buttonEl =\n",
              "          document.querySelector('#df-3c7a1d59-63a4-4cfb-aa39-9852ae9da67b button.colab-df-convert');\n",
              "        buttonEl.style.display =\n",
              "          google.colab.kernel.accessAllowed ? 'block' : 'none';\n",
              "\n",
              "        async function convertToInteractive(key) {\n",
              "          const element = document.querySelector('#df-3c7a1d59-63a4-4cfb-aa39-9852ae9da67b');\n",
              "          const dataTable =\n",
              "            await google.colab.kernel.invokeFunction('convertToInteractive',\n",
              "                                                     [key], {});\n",
              "          if (!dataTable) return;\n",
              "\n",
              "          const docLinkHtml = 'Like what you see? Visit the ' +\n",
              "            '<a target=\"_blank\" href=https://colab.research.google.com/notebooks/data_table.ipynb>data table notebook</a>'\n",
              "            + ' to learn more about interactive tables.';\n",
              "          element.innerHTML = '';\n",
              "          dataTable['output_type'] = 'display_data';\n",
              "          await google.colab.output.renderOutput(dataTable, element);\n",
              "          const docLink = document.createElement('div');\n",
              "          docLink.innerHTML = docLinkHtml;\n",
              "          element.appendChild(docLink);\n",
              "        }\n",
              "      </script>\n",
              "    </div>\n",
              "  </div>\n",
              "  "
            ]
          },
          "metadata": {},
          "execution_count": 105
        }
      ],
      "source": [
        "temp_genre = []\n",
        "for i in df['genre']:\n",
        "  temp_genre2 = []\n",
        "  for j in i:\n",
        "    temp_genre2.append(preprocess_genres(j))\n",
        "  temp_genre.append(temp_genre2)\n",
        "df['m-genre'] = temp_genre\n",
        "df"
      ]
    },
    {
      "cell_type": "code",
      "source": [
        "temp_genre = []\n",
        "for i in df['m-genre']:\n",
        "  temp_genre2 = i\n",
        "  for j in i:\n",
        "    if (j ==  'Bangsian fantasy'):\n",
        "      temp_genre2.remove('Bangsian fantasy')   #related to afterlife book\n",
        "      temp_genre2.append('Afterlife fantasy')\n",
        "    elif (j ==  'Biopunk'):\n",
        "      temp_genre2.remove('Biopunk')\n",
        "      temp_genre2.append('Biotechnology fiction')  #related to biotech fiction\n",
        "    elif (j ==  'Edisonade'):\n",
        "      temp_genre2.remove('Edisonade')  #related to great inventor, engineer\n",
        "      temp_genre2.append('Inventor fiction')  \n",
        "    elif (j == 'Elizabethan romance'):\n",
        "      temp_genre2.remove('Elizabethan romance')\n",
        "    elif (j == 'Ergodic literature'):\n",
        "      temp_genre2.remove('Ergodic literature')\n",
        "    elif (j == 'Humour'):\n",
        "      temp_genre2.remove('Humour')     \n",
        "      temp_genre2.append('Humor')\n",
        "    elif (j == 'Künstlerroman'):\n",
        "      temp_genre2.remove('Künstlerroman') \n",
        "    elif (j == 'Postcyberpunk'):\n",
        "      temp_genre2.remove('Postcyberpunk')     \n",
        "      temp_genre2.append('cyberpunk')  \n",
        "    elif (j == 'Robinsonade'):\n",
        "      temp_genre2.remove('Robinsonade')\n",
        "  temp_genre.append(temp_genre2)\n",
        "df['m-genre'] = temp_genre\n",
        "df"
      ],
      "metadata": {
        "id": "NA7CgvRfOfBr",
        "colab": {
          "base_uri": "https://localhost:8080/",
          "height": 641
        },
        "outputId": "d07eb637-60ed-434c-be58-88bef87f327c"
      },
      "execution_count": null,
      "outputs": [
        {
          "output_type": "execute_result",
          "data": {
            "text/plain": [
              "             id                            name  \\\n",
              "0           620                     Animal Farm   \n",
              "1           843              A Clockwork Orange   \n",
              "2           986                      The Plague   \n",
              "4          2080            A Fire Upon the Deep   \n",
              "5          2152  All Quiet on the Western Front   \n",
              "...         ...                             ...   \n",
              "16549  36372465                  The Third Lynx   \n",
              "16551  36534061                  Remote Control   \n",
              "16555  37054020               Transfer of Power   \n",
              "16556  37122323                         Decoded   \n",
              "16558  37159503                       Poor Folk   \n",
              "\n",
              "                                                   genre  \\\n",
              "0      [Roman à clef, Satire, Children's literature, ...   \n",
              "1      [Science Fiction, Novella, Speculative fiction...   \n",
              "2      [Existentialism, Fiction, Absurdist fiction, N...   \n",
              "4      [Hard science fiction, Science Fiction, Specul...   \n",
              "5                              [War novel, Roman à clef]   \n",
              "...                                                  ...   \n",
              "16549                                  [Science Fiction]   \n",
              "16551                      [Thriller, Fiction, Suspense]   \n",
              "16555                                [Thriller, Fiction]   \n",
              "16556                                    [Autobiography]   \n",
              "16558            [Epistolary novel, Speculative fiction]   \n",
              "\n",
              "                                             description  \\\n",
              "0      old major the old boar on the manor farm calls...   \n",
              "1      alex a teenager living in near future england ...   \n",
              "2      the text of the plague is divided into five pa...   \n",
              "4      the novel posits that space around the milky w...   \n",
              "5      the book tells the story of paul b umer a germ...   \n",
              "...                                                  ...   \n",
              "16549  the story starts with former government agent ...   \n",
              "16551  the series follows the character of nick stone...   \n",
              "16555  the reader first meets rapp while he is doing ...   \n",
              "16556  the book follows very rough chronological orde...   \n",
              "16558  makar devushkin and varvara dobroselova are se...   \n",
              "\n",
              "                                      description w/o SW  \\\n",
              "0      old major old boar manor farm calls animals fa...   \n",
              "1      alex teenager living near future england leads...   \n",
              "2      text plague divided five parts town oran thous...   \n",
              "4      novel posits space around milky way divided co...   \n",
              "5      book tells story paul b umer german soldier ur...   \n",
              "...                                                  ...   \n",
              "16549  story starts former government agent frank com...   \n",
              "16551  series follows character nick stone ex militar...   \n",
              "16555  reader first meets rapp covert operation iran ...   \n",
              "16556  book follows rough chronological order switchi...   \n",
              "16558  makar devushkin varvara dobroselova second cou...   \n",
              "\n",
              "                                                 m-genre  \n",
              "0      [Roman à clef, Satire, Children ' literature, ...  \n",
              "1      [Science Fiction, Novella, Speculative fiction...  \n",
              "2      [Existentialism, Fiction, Absurdist fiction, N...  \n",
              "4      [Hard science fiction, Science Fiction, Specul...  \n",
              "5                              [War novel, Roman à clef]  \n",
              "...                                                  ...  \n",
              "16549                                  [Science Fiction]  \n",
              "16551                      [Thriller, Fiction, Suspense]  \n",
              "16555                                [Thriller, Fiction]  \n",
              "16556                                    [Autobiography]  \n",
              "16558            [Epistolary novel, Speculative fiction]  \n",
              "\n",
              "[12841 rows x 6 columns]"
            ],
            "text/html": [
              "\n",
              "  <div id=\"df-f0442882-2a77-4734-a06a-173ffc1bd18a\">\n",
              "    <div class=\"colab-df-container\">\n",
              "      <div>\n",
              "<style scoped>\n",
              "    .dataframe tbody tr th:only-of-type {\n",
              "        vertical-align: middle;\n",
              "    }\n",
              "\n",
              "    .dataframe tbody tr th {\n",
              "        vertical-align: top;\n",
              "    }\n",
              "\n",
              "    .dataframe thead th {\n",
              "        text-align: right;\n",
              "    }\n",
              "</style>\n",
              "<table border=\"1\" class=\"dataframe\">\n",
              "  <thead>\n",
              "    <tr style=\"text-align: right;\">\n",
              "      <th></th>\n",
              "      <th>id</th>\n",
              "      <th>name</th>\n",
              "      <th>genre</th>\n",
              "      <th>description</th>\n",
              "      <th>description w/o SW</th>\n",
              "      <th>m-genre</th>\n",
              "    </tr>\n",
              "  </thead>\n",
              "  <tbody>\n",
              "    <tr>\n",
              "      <th>0</th>\n",
              "      <td>620</td>\n",
              "      <td>Animal Farm</td>\n",
              "      <td>[Roman à clef, Satire, Children's literature, ...</td>\n",
              "      <td>old major the old boar on the manor farm calls...</td>\n",
              "      <td>old major old boar manor farm calls animals fa...</td>\n",
              "      <td>[Roman à clef, Satire, Children ' literature, ...</td>\n",
              "    </tr>\n",
              "    <tr>\n",
              "      <th>1</th>\n",
              "      <td>843</td>\n",
              "      <td>A Clockwork Orange</td>\n",
              "      <td>[Science Fiction, Novella, Speculative fiction...</td>\n",
              "      <td>alex a teenager living in near future england ...</td>\n",
              "      <td>alex teenager living near future england leads...</td>\n",
              "      <td>[Science Fiction, Novella, Speculative fiction...</td>\n",
              "    </tr>\n",
              "    <tr>\n",
              "      <th>2</th>\n",
              "      <td>986</td>\n",
              "      <td>The Plague</td>\n",
              "      <td>[Existentialism, Fiction, Absurdist fiction, N...</td>\n",
              "      <td>the text of the plague is divided into five pa...</td>\n",
              "      <td>text plague divided five parts town oran thous...</td>\n",
              "      <td>[Existentialism, Fiction, Absurdist fiction, N...</td>\n",
              "    </tr>\n",
              "    <tr>\n",
              "      <th>4</th>\n",
              "      <td>2080</td>\n",
              "      <td>A Fire Upon the Deep</td>\n",
              "      <td>[Hard science fiction, Science Fiction, Specul...</td>\n",
              "      <td>the novel posits that space around the milky w...</td>\n",
              "      <td>novel posits space around milky way divided co...</td>\n",
              "      <td>[Hard science fiction, Science Fiction, Specul...</td>\n",
              "    </tr>\n",
              "    <tr>\n",
              "      <th>5</th>\n",
              "      <td>2152</td>\n",
              "      <td>All Quiet on the Western Front</td>\n",
              "      <td>[War novel, Roman à clef]</td>\n",
              "      <td>the book tells the story of paul b umer a germ...</td>\n",
              "      <td>book tells story paul b umer german soldier ur...</td>\n",
              "      <td>[War novel, Roman à clef]</td>\n",
              "    </tr>\n",
              "    <tr>\n",
              "      <th>...</th>\n",
              "      <td>...</td>\n",
              "      <td>...</td>\n",
              "      <td>...</td>\n",
              "      <td>...</td>\n",
              "      <td>...</td>\n",
              "      <td>...</td>\n",
              "    </tr>\n",
              "    <tr>\n",
              "      <th>16549</th>\n",
              "      <td>36372465</td>\n",
              "      <td>The Third Lynx</td>\n",
              "      <td>[Science Fiction]</td>\n",
              "      <td>the story starts with former government agent ...</td>\n",
              "      <td>story starts former government agent frank com...</td>\n",
              "      <td>[Science Fiction]</td>\n",
              "    </tr>\n",
              "    <tr>\n",
              "      <th>16551</th>\n",
              "      <td>36534061</td>\n",
              "      <td>Remote Control</td>\n",
              "      <td>[Thriller, Fiction, Suspense]</td>\n",
              "      <td>the series follows the character of nick stone...</td>\n",
              "      <td>series follows character nick stone ex militar...</td>\n",
              "      <td>[Thriller, Fiction, Suspense]</td>\n",
              "    </tr>\n",
              "    <tr>\n",
              "      <th>16555</th>\n",
              "      <td>37054020</td>\n",
              "      <td>Transfer of Power</td>\n",
              "      <td>[Thriller, Fiction]</td>\n",
              "      <td>the reader first meets rapp while he is doing ...</td>\n",
              "      <td>reader first meets rapp covert operation iran ...</td>\n",
              "      <td>[Thriller, Fiction]</td>\n",
              "    </tr>\n",
              "    <tr>\n",
              "      <th>16556</th>\n",
              "      <td>37122323</td>\n",
              "      <td>Decoded</td>\n",
              "      <td>[Autobiography]</td>\n",
              "      <td>the book follows very rough chronological orde...</td>\n",
              "      <td>book follows rough chronological order switchi...</td>\n",
              "      <td>[Autobiography]</td>\n",
              "    </tr>\n",
              "    <tr>\n",
              "      <th>16558</th>\n",
              "      <td>37159503</td>\n",
              "      <td>Poor Folk</td>\n",
              "      <td>[Epistolary novel, Speculative fiction]</td>\n",
              "      <td>makar devushkin and varvara dobroselova are se...</td>\n",
              "      <td>makar devushkin varvara dobroselova second cou...</td>\n",
              "      <td>[Epistolary novel, Speculative fiction]</td>\n",
              "    </tr>\n",
              "  </tbody>\n",
              "</table>\n",
              "<p>12841 rows × 6 columns</p>\n",
              "</div>\n",
              "      <button class=\"colab-df-convert\" onclick=\"convertToInteractive('df-f0442882-2a77-4734-a06a-173ffc1bd18a')\"\n",
              "              title=\"Convert this dataframe to an interactive table.\"\n",
              "              style=\"display:none;\">\n",
              "        \n",
              "  <svg xmlns=\"http://www.w3.org/2000/svg\" height=\"24px\"viewBox=\"0 0 24 24\"\n",
              "       width=\"24px\">\n",
              "    <path d=\"M0 0h24v24H0V0z\" fill=\"none\"/>\n",
              "    <path d=\"M18.56 5.44l.94 2.06.94-2.06 2.06-.94-2.06-.94-.94-2.06-.94 2.06-2.06.94zm-11 1L8.5 8.5l.94-2.06 2.06-.94-2.06-.94L8.5 2.5l-.94 2.06-2.06.94zm10 10l.94 2.06.94-2.06 2.06-.94-2.06-.94-.94-2.06-.94 2.06-2.06.94z\"/><path d=\"M17.41 7.96l-1.37-1.37c-.4-.4-.92-.59-1.43-.59-.52 0-1.04.2-1.43.59L10.3 9.45l-7.72 7.72c-.78.78-.78 2.05 0 2.83L4 21.41c.39.39.9.59 1.41.59.51 0 1.02-.2 1.41-.59l7.78-7.78 2.81-2.81c.8-.78.8-2.07 0-2.86zM5.41 20L4 18.59l7.72-7.72 1.47 1.35L5.41 20z\"/>\n",
              "  </svg>\n",
              "      </button>\n",
              "      \n",
              "  <style>\n",
              "    .colab-df-container {\n",
              "      display:flex;\n",
              "      flex-wrap:wrap;\n",
              "      gap: 12px;\n",
              "    }\n",
              "\n",
              "    .colab-df-convert {\n",
              "      background-color: #E8F0FE;\n",
              "      border: none;\n",
              "      border-radius: 50%;\n",
              "      cursor: pointer;\n",
              "      display: none;\n",
              "      fill: #1967D2;\n",
              "      height: 32px;\n",
              "      padding: 0 0 0 0;\n",
              "      width: 32px;\n",
              "    }\n",
              "\n",
              "    .colab-df-convert:hover {\n",
              "      background-color: #E2EBFA;\n",
              "      box-shadow: 0px 1px 2px rgba(60, 64, 67, 0.3), 0px 1px 3px 1px rgba(60, 64, 67, 0.15);\n",
              "      fill: #174EA6;\n",
              "    }\n",
              "\n",
              "    [theme=dark] .colab-df-convert {\n",
              "      background-color: #3B4455;\n",
              "      fill: #D2E3FC;\n",
              "    }\n",
              "\n",
              "    [theme=dark] .colab-df-convert:hover {\n",
              "      background-color: #434B5C;\n",
              "      box-shadow: 0px 1px 3px 1px rgba(0, 0, 0, 0.15);\n",
              "      filter: drop-shadow(0px 1px 2px rgba(0, 0, 0, 0.3));\n",
              "      fill: #FFFFFF;\n",
              "    }\n",
              "  </style>\n",
              "\n",
              "      <script>\n",
              "        const buttonEl =\n",
              "          document.querySelector('#df-f0442882-2a77-4734-a06a-173ffc1bd18a button.colab-df-convert');\n",
              "        buttonEl.style.display =\n",
              "          google.colab.kernel.accessAllowed ? 'block' : 'none';\n",
              "\n",
              "        async function convertToInteractive(key) {\n",
              "          const element = document.querySelector('#df-f0442882-2a77-4734-a06a-173ffc1bd18a');\n",
              "          const dataTable =\n",
              "            await google.colab.kernel.invokeFunction('convertToInteractive',\n",
              "                                                     [key], {});\n",
              "          if (!dataTable) return;\n",
              "\n",
              "          const docLinkHtml = 'Like what you see? Visit the ' +\n",
              "            '<a target=\"_blank\" href=https://colab.research.google.com/notebooks/data_table.ipynb>data table notebook</a>'\n",
              "            + ' to learn more about interactive tables.';\n",
              "          element.innerHTML = '';\n",
              "          dataTable['output_type'] = 'display_data';\n",
              "          await google.colab.output.renderOutput(dataTable, element);\n",
              "          const docLink = document.createElement('div');\n",
              "          docLink.innerHTML = docLinkHtml;\n",
              "          element.appendChild(docLink);\n",
              "        }\n",
              "      </script>\n",
              "    </div>\n",
              "  </div>\n",
              "  "
            ]
          },
          "metadata": {},
          "execution_count": 106
        }
      ]
    },
    {
      "cell_type": "code",
      "execution_count": null,
      "metadata": {
        "id": "SP3lbYbchFBC"
      },
      "outputs": [],
      "source": [
        "setOfgenre = sum(df['m-genre'],[])\n",
        "setOfgenre = set(setOfgenre)"
      ]
    },
    {
      "cell_type": "code",
      "execution_count": null,
      "metadata": {
        "colab": {
          "base_uri": "https://localhost:8080/"
        },
        "outputId": "5bc7072d-a20b-4179-ee43-3b1d8dea8f7a",
        "id": "vsHAdgeyhFBD"
      },
      "outputs": [
        {
          "output_type": "execute_result",
          "data": {
            "text/plain": [
              "223"
            ]
          },
          "metadata": {},
          "execution_count": 108
        }
      ],
      "source": [
        "len(setOfgenre)"
      ]
    },
    {
      "cell_type": "code",
      "source": [
        "bk = list(setOfgenre)"
      ],
      "metadata": {
        "id": "P3C8m68hipUn"
      },
      "execution_count": null,
      "outputs": []
    },
    {
      "cell_type": "code",
      "source": [
        "genre_vectors = []\n",
        "\n",
        "#main_genres = ['Fiction','Comedy','Adventure', 'Non-fiction', 'Romance', 'Mystery', 'Science Fiction', 'Fantasy', 'Horror', 'Historical Fiction', 'Young Adult', 'Spirituality']\n",
        "main_genres = ['History', 'Poetry', 'Autobiography', 'Romance','Biography', 'Literary', 'Spirituality', 'Western fiction', 'Comedy', 'Adventure',\n",
        "               'Dark', 'Sociology', 'Comic', 'Anthology', 'Drama', 'Thriller', 'Action',  'Conspiracy', 'Catastrophic', \n",
        "               'Young adult','Fantasy', 'Travel', 'Science', 'Speculative', 'Horror', 'Mystery', 'Non fiction']\n",
        "for genre in bk:\n",
        "    genre = genre.replace('-', ' ')\n",
        "    genre = genre.replace('\\'', ' ')\n",
        "    #genre = genre.replace('edisonade', 'inventor')\n",
        "    tokens = genre.lower().split()\n",
        "    vector = sum(model[token] for token in tokens) / len(tokens)\n",
        "    genre_vectors.append(vector)\n",
        "\n",
        "\n",
        "main_genre_vectors = []\n",
        "for genre in main_genres:\n",
        "    genre = genre.replace('-', ' ')\n",
        "    tokens = genre.lower().split()\n",
        "    vector = sum(model[token] for token in tokens) / len(tokens)\n",
        "    main_genre_vectors.append(vector)"
      ],
      "metadata": {
        "id": "bweOzCITM0lc"
      },
      "execution_count": null,
      "outputs": []
    },
    {
      "cell_type": "code",
      "source": [
        "book_genre_df = pd.DataFrame()\n",
        "book_genre_df['genre'] = bk"
      ],
      "metadata": {
        "id": "EteoSRf1l5fp"
      },
      "execution_count": null,
      "outputs": []
    },
    {
      "cell_type": "code",
      "source": [
        "from sklearn.metrics.pairwise import cosine_similarity\n",
        "u_genre_list = []\n",
        "for j in range(0,223):\n",
        "  similarity_list = []\n",
        "  map_j_list = []\n",
        "  for i in range(len(main_genre_vectors)):\n",
        "    similarity = cosine_similarity([genre_vectors[j]], [main_genre_vectors[i]])[0][0]\n",
        "    similarity_list.append(similarity)\n",
        "    map_j_list.append(i)\n",
        "  idx = similarity_list.index(sorted(similarity_list)[-1])\n",
        "  u_genre_list.append(main_genres[idx])\n",
        "\n",
        "book_genre_df['m-genre'] = u_genre_list"
      ],
      "metadata": {
        "id": "pV7bcqebM0le"
      },
      "execution_count": null,
      "outputs": []
    },
    {
      "cell_type": "code",
      "source": [
        "book_genre_df"
      ],
      "metadata": {
        "colab": {
          "base_uri": "https://localhost:8080/",
          "height": 424
        },
        "id": "7I6m9S8QR9Na",
        "outputId": "1001f168-6741-45ec-b4dd-93063e9bff52"
      },
      "execution_count": null,
      "outputs": [
        {
          "output_type": "execute_result",
          "data": {
            "text/plain": [
              "                        genre          m-genre\n",
              "0                 Short story  Western fiction\n",
              "1     Catastrophic literature     Catastrophic\n",
              "2                   Sociology        Sociology\n",
              "3                 Spy fiction      Non fiction\n",
              "4             Utopian fiction  Western fiction\n",
              "..                        ...              ...\n",
              "218                     Youth      Young adult\n",
              "219  Feminist science fiction  Western fiction\n",
              "220              Spirituality     Spirituality\n",
              "221        Historical romance          Romance\n",
              "222          Human extinction     Catastrophic\n",
              "\n",
              "[223 rows x 2 columns]"
            ],
            "text/html": [
              "\n",
              "  <div id=\"df-03c95628-4de1-4e67-8be6-8016cec78d00\">\n",
              "    <div class=\"colab-df-container\">\n",
              "      <div>\n",
              "<style scoped>\n",
              "    .dataframe tbody tr th:only-of-type {\n",
              "        vertical-align: middle;\n",
              "    }\n",
              "\n",
              "    .dataframe tbody tr th {\n",
              "        vertical-align: top;\n",
              "    }\n",
              "\n",
              "    .dataframe thead th {\n",
              "        text-align: right;\n",
              "    }\n",
              "</style>\n",
              "<table border=\"1\" class=\"dataframe\">\n",
              "  <thead>\n",
              "    <tr style=\"text-align: right;\">\n",
              "      <th></th>\n",
              "      <th>genre</th>\n",
              "      <th>m-genre</th>\n",
              "    </tr>\n",
              "  </thead>\n",
              "  <tbody>\n",
              "    <tr>\n",
              "      <th>0</th>\n",
              "      <td>Short story</td>\n",
              "      <td>Western fiction</td>\n",
              "    </tr>\n",
              "    <tr>\n",
              "      <th>1</th>\n",
              "      <td>Catastrophic literature</td>\n",
              "      <td>Catastrophic</td>\n",
              "    </tr>\n",
              "    <tr>\n",
              "      <th>2</th>\n",
              "      <td>Sociology</td>\n",
              "      <td>Sociology</td>\n",
              "    </tr>\n",
              "    <tr>\n",
              "      <th>3</th>\n",
              "      <td>Spy fiction</td>\n",
              "      <td>Non fiction</td>\n",
              "    </tr>\n",
              "    <tr>\n",
              "      <th>4</th>\n",
              "      <td>Utopian fiction</td>\n",
              "      <td>Western fiction</td>\n",
              "    </tr>\n",
              "    <tr>\n",
              "      <th>...</th>\n",
              "      <td>...</td>\n",
              "      <td>...</td>\n",
              "    </tr>\n",
              "    <tr>\n",
              "      <th>218</th>\n",
              "      <td>Youth</td>\n",
              "      <td>Young adult</td>\n",
              "    </tr>\n",
              "    <tr>\n",
              "      <th>219</th>\n",
              "      <td>Feminist science fiction</td>\n",
              "      <td>Western fiction</td>\n",
              "    </tr>\n",
              "    <tr>\n",
              "      <th>220</th>\n",
              "      <td>Spirituality</td>\n",
              "      <td>Spirituality</td>\n",
              "    </tr>\n",
              "    <tr>\n",
              "      <th>221</th>\n",
              "      <td>Historical romance</td>\n",
              "      <td>Romance</td>\n",
              "    </tr>\n",
              "    <tr>\n",
              "      <th>222</th>\n",
              "      <td>Human extinction</td>\n",
              "      <td>Catastrophic</td>\n",
              "    </tr>\n",
              "  </tbody>\n",
              "</table>\n",
              "<p>223 rows × 2 columns</p>\n",
              "</div>\n",
              "      <button class=\"colab-df-convert\" onclick=\"convertToInteractive('df-03c95628-4de1-4e67-8be6-8016cec78d00')\"\n",
              "              title=\"Convert this dataframe to an interactive table.\"\n",
              "              style=\"display:none;\">\n",
              "        \n",
              "  <svg xmlns=\"http://www.w3.org/2000/svg\" height=\"24px\"viewBox=\"0 0 24 24\"\n",
              "       width=\"24px\">\n",
              "    <path d=\"M0 0h24v24H0V0z\" fill=\"none\"/>\n",
              "    <path d=\"M18.56 5.44l.94 2.06.94-2.06 2.06-.94-2.06-.94-.94-2.06-.94 2.06-2.06.94zm-11 1L8.5 8.5l.94-2.06 2.06-.94-2.06-.94L8.5 2.5l-.94 2.06-2.06.94zm10 10l.94 2.06.94-2.06 2.06-.94-2.06-.94-.94-2.06-.94 2.06-2.06.94z\"/><path d=\"M17.41 7.96l-1.37-1.37c-.4-.4-.92-.59-1.43-.59-.52 0-1.04.2-1.43.59L10.3 9.45l-7.72 7.72c-.78.78-.78 2.05 0 2.83L4 21.41c.39.39.9.59 1.41.59.51 0 1.02-.2 1.41-.59l7.78-7.78 2.81-2.81c.8-.78.8-2.07 0-2.86zM5.41 20L4 18.59l7.72-7.72 1.47 1.35L5.41 20z\"/>\n",
              "  </svg>\n",
              "      </button>\n",
              "      \n",
              "  <style>\n",
              "    .colab-df-container {\n",
              "      display:flex;\n",
              "      flex-wrap:wrap;\n",
              "      gap: 12px;\n",
              "    }\n",
              "\n",
              "    .colab-df-convert {\n",
              "      background-color: #E8F0FE;\n",
              "      border: none;\n",
              "      border-radius: 50%;\n",
              "      cursor: pointer;\n",
              "      display: none;\n",
              "      fill: #1967D2;\n",
              "      height: 32px;\n",
              "      padding: 0 0 0 0;\n",
              "      width: 32px;\n",
              "    }\n",
              "\n",
              "    .colab-df-convert:hover {\n",
              "      background-color: #E2EBFA;\n",
              "      box-shadow: 0px 1px 2px rgba(60, 64, 67, 0.3), 0px 1px 3px 1px rgba(60, 64, 67, 0.15);\n",
              "      fill: #174EA6;\n",
              "    }\n",
              "\n",
              "    [theme=dark] .colab-df-convert {\n",
              "      background-color: #3B4455;\n",
              "      fill: #D2E3FC;\n",
              "    }\n",
              "\n",
              "    [theme=dark] .colab-df-convert:hover {\n",
              "      background-color: #434B5C;\n",
              "      box-shadow: 0px 1px 3px 1px rgba(0, 0, 0, 0.15);\n",
              "      filter: drop-shadow(0px 1px 2px rgba(0, 0, 0, 0.3));\n",
              "      fill: #FFFFFF;\n",
              "    }\n",
              "  </style>\n",
              "\n",
              "      <script>\n",
              "        const buttonEl =\n",
              "          document.querySelector('#df-03c95628-4de1-4e67-8be6-8016cec78d00 button.colab-df-convert');\n",
              "        buttonEl.style.display =\n",
              "          google.colab.kernel.accessAllowed ? 'block' : 'none';\n",
              "\n",
              "        async function convertToInteractive(key) {\n",
              "          const element = document.querySelector('#df-03c95628-4de1-4e67-8be6-8016cec78d00');\n",
              "          const dataTable =\n",
              "            await google.colab.kernel.invokeFunction('convertToInteractive',\n",
              "                                                     [key], {});\n",
              "          if (!dataTable) return;\n",
              "\n",
              "          const docLinkHtml = 'Like what you see? Visit the ' +\n",
              "            '<a target=\"_blank\" href=https://colab.research.google.com/notebooks/data_table.ipynb>data table notebook</a>'\n",
              "            + ' to learn more about interactive tables.';\n",
              "          element.innerHTML = '';\n",
              "          dataTable['output_type'] = 'display_data';\n",
              "          await google.colab.output.renderOutput(dataTable, element);\n",
              "          const docLink = document.createElement('div');\n",
              "          docLink.innerHTML = docLinkHtml;\n",
              "          element.appendChild(docLink);\n",
              "        }\n",
              "      </script>\n",
              "    </div>\n",
              "  </div>\n",
              "  "
            ]
          },
          "metadata": {},
          "execution_count": 113
        }
      ]
    },
    {
      "cell_type": "code",
      "source": [
        "temp_genre = []\n",
        "for i in df['m-genre']:\n",
        "  temp_genre2 = []\n",
        "  for j in i:\n",
        "    mapped_genre = book_genre_df[book_genre_df['genre']==j]['m-genre'].values[0]\n",
        "    temp_genre2.append(mapped_genre)\n",
        "  temp_genre.append(temp_genre2)\n",
        "df['m-genre'] = temp_genre\n",
        "df"
      ],
      "metadata": {
        "colab": {
          "base_uri": "https://localhost:8080/",
          "height": 641
        },
        "id": "5viYlCNgjYsB",
        "outputId": "36b4c8ae-771c-444b-ec22-9a8413adbb85"
      },
      "execution_count": null,
      "outputs": [
        {
          "output_type": "execute_result",
          "data": {
            "text/plain": [
              "             id                            name  \\\n",
              "0           620                     Animal Farm   \n",
              "1           843              A Clockwork Orange   \n",
              "2           986                      The Plague   \n",
              "4          2080            A Fire Upon the Deep   \n",
              "5          2152  All Quiet on the Western Front   \n",
              "...         ...                             ...   \n",
              "16549  36372465                  The Third Lynx   \n",
              "16551  36534061                  Remote Control   \n",
              "16555  37054020               Transfer of Power   \n",
              "16556  37122323                         Decoded   \n",
              "16558  37159503                       Poor Folk   \n",
              "\n",
              "                                                   genre  \\\n",
              "0      [Roman à clef, Satire, Children's literature, ...   \n",
              "1      [Science Fiction, Novella, Speculative fiction...   \n",
              "2      [Existentialism, Fiction, Absurdist fiction, N...   \n",
              "4      [Hard science fiction, Science Fiction, Specul...   \n",
              "5                              [War novel, Roman à clef]   \n",
              "...                                                  ...   \n",
              "16549                                  [Science Fiction]   \n",
              "16551                      [Thriller, Fiction, Suspense]   \n",
              "16555                                [Thriller, Fiction]   \n",
              "16556                                    [Autobiography]   \n",
              "16558            [Epistolary novel, Speculative fiction]   \n",
              "\n",
              "                                             description  \\\n",
              "0      old major the old boar on the manor farm calls...   \n",
              "1      alex a teenager living in near future england ...   \n",
              "2      the text of the plague is divided into five pa...   \n",
              "4      the novel posits that space around the milky w...   \n",
              "5      the book tells the story of paul b umer a germ...   \n",
              "...                                                  ...   \n",
              "16549  the story starts with former government agent ...   \n",
              "16551  the series follows the character of nick stone...   \n",
              "16555  the reader first meets rapp while he is doing ...   \n",
              "16556  the book follows very rough chronological orde...   \n",
              "16558  makar devushkin and varvara dobroselova are se...   \n",
              "\n",
              "                                      description w/o SW  \\\n",
              "0      old major old boar manor farm calls animals fa...   \n",
              "1      alex teenager living near future england leads...   \n",
              "2      text plague divided five parts town oran thous...   \n",
              "4      novel posits space around milky way divided co...   \n",
              "5      book tells story paul b umer german soldier ur...   \n",
              "...                                                  ...   \n",
              "16549  story starts former government agent frank com...   \n",
              "16551  series follows character nick stone ex militar...   \n",
              "16555  reader first meets rapp covert operation iran ...   \n",
              "16556  book follows rough chronological order switchi...   \n",
              "16558  makar devushkin varvara dobroselova second cou...   \n",
              "\n",
              "                                                 m-genre  \n",
              "0      [Literary, Comedy, Poetry, Speculative, Non fi...  \n",
              "1      [Science, Anthology, Speculative, Western fict...  \n",
              "2      [Spirituality, Non fiction, Western fiction, A...  \n",
              "4      [Science, Science, Speculative, Fantasy, Non f...  \n",
              "5                            [Western fiction, Literary]  \n",
              "...                                                  ...  \n",
              "16549                                          [Science]  \n",
              "16551                     [Thriller, Non fiction, Drama]  \n",
              "16555                            [Thriller, Non fiction]  \n",
              "16556                                    [Autobiography]  \n",
              "16558                            [Literary, Speculative]  \n",
              "\n",
              "[12841 rows x 6 columns]"
            ],
            "text/html": [
              "\n",
              "  <div id=\"df-7f3bc262-0672-4b37-a33b-1a8299789f2a\">\n",
              "    <div class=\"colab-df-container\">\n",
              "      <div>\n",
              "<style scoped>\n",
              "    .dataframe tbody tr th:only-of-type {\n",
              "        vertical-align: middle;\n",
              "    }\n",
              "\n",
              "    .dataframe tbody tr th {\n",
              "        vertical-align: top;\n",
              "    }\n",
              "\n",
              "    .dataframe thead th {\n",
              "        text-align: right;\n",
              "    }\n",
              "</style>\n",
              "<table border=\"1\" class=\"dataframe\">\n",
              "  <thead>\n",
              "    <tr style=\"text-align: right;\">\n",
              "      <th></th>\n",
              "      <th>id</th>\n",
              "      <th>name</th>\n",
              "      <th>genre</th>\n",
              "      <th>description</th>\n",
              "      <th>description w/o SW</th>\n",
              "      <th>m-genre</th>\n",
              "    </tr>\n",
              "  </thead>\n",
              "  <tbody>\n",
              "    <tr>\n",
              "      <th>0</th>\n",
              "      <td>620</td>\n",
              "      <td>Animal Farm</td>\n",
              "      <td>[Roman à clef, Satire, Children's literature, ...</td>\n",
              "      <td>old major the old boar on the manor farm calls...</td>\n",
              "      <td>old major old boar manor farm calls animals fa...</td>\n",
              "      <td>[Literary, Comedy, Poetry, Speculative, Non fi...</td>\n",
              "    </tr>\n",
              "    <tr>\n",
              "      <th>1</th>\n",
              "      <td>843</td>\n",
              "      <td>A Clockwork Orange</td>\n",
              "      <td>[Science Fiction, Novella, Speculative fiction...</td>\n",
              "      <td>alex a teenager living in near future england ...</td>\n",
              "      <td>alex teenager living near future england leads...</td>\n",
              "      <td>[Science, Anthology, Speculative, Western fict...</td>\n",
              "    </tr>\n",
              "    <tr>\n",
              "      <th>2</th>\n",
              "      <td>986</td>\n",
              "      <td>The Plague</td>\n",
              "      <td>[Existentialism, Fiction, Absurdist fiction, N...</td>\n",
              "      <td>the text of the plague is divided into five pa...</td>\n",
              "      <td>text plague divided five parts town oran thous...</td>\n",
              "      <td>[Spirituality, Non fiction, Western fiction, A...</td>\n",
              "    </tr>\n",
              "    <tr>\n",
              "      <th>4</th>\n",
              "      <td>2080</td>\n",
              "      <td>A Fire Upon the Deep</td>\n",
              "      <td>[Hard science fiction, Science Fiction, Specul...</td>\n",
              "      <td>the novel posits that space around the milky w...</td>\n",
              "      <td>novel posits space around milky way divided co...</td>\n",
              "      <td>[Science, Science, Speculative, Fantasy, Non f...</td>\n",
              "    </tr>\n",
              "    <tr>\n",
              "      <th>5</th>\n",
              "      <td>2152</td>\n",
              "      <td>All Quiet on the Western Front</td>\n",
              "      <td>[War novel, Roman à clef]</td>\n",
              "      <td>the book tells the story of paul b umer a germ...</td>\n",
              "      <td>book tells story paul b umer german soldier ur...</td>\n",
              "      <td>[Western fiction, Literary]</td>\n",
              "    </tr>\n",
              "    <tr>\n",
              "      <th>...</th>\n",
              "      <td>...</td>\n",
              "      <td>...</td>\n",
              "      <td>...</td>\n",
              "      <td>...</td>\n",
              "      <td>...</td>\n",
              "      <td>...</td>\n",
              "    </tr>\n",
              "    <tr>\n",
              "      <th>16549</th>\n",
              "      <td>36372465</td>\n",
              "      <td>The Third Lynx</td>\n",
              "      <td>[Science Fiction]</td>\n",
              "      <td>the story starts with former government agent ...</td>\n",
              "      <td>story starts former government agent frank com...</td>\n",
              "      <td>[Science]</td>\n",
              "    </tr>\n",
              "    <tr>\n",
              "      <th>16551</th>\n",
              "      <td>36534061</td>\n",
              "      <td>Remote Control</td>\n",
              "      <td>[Thriller, Fiction, Suspense]</td>\n",
              "      <td>the series follows the character of nick stone...</td>\n",
              "      <td>series follows character nick stone ex militar...</td>\n",
              "      <td>[Thriller, Non fiction, Drama]</td>\n",
              "    </tr>\n",
              "    <tr>\n",
              "      <th>16555</th>\n",
              "      <td>37054020</td>\n",
              "      <td>Transfer of Power</td>\n",
              "      <td>[Thriller, Fiction]</td>\n",
              "      <td>the reader first meets rapp while he is doing ...</td>\n",
              "      <td>reader first meets rapp covert operation iran ...</td>\n",
              "      <td>[Thriller, Non fiction]</td>\n",
              "    </tr>\n",
              "    <tr>\n",
              "      <th>16556</th>\n",
              "      <td>37122323</td>\n",
              "      <td>Decoded</td>\n",
              "      <td>[Autobiography]</td>\n",
              "      <td>the book follows very rough chronological orde...</td>\n",
              "      <td>book follows rough chronological order switchi...</td>\n",
              "      <td>[Autobiography]</td>\n",
              "    </tr>\n",
              "    <tr>\n",
              "      <th>16558</th>\n",
              "      <td>37159503</td>\n",
              "      <td>Poor Folk</td>\n",
              "      <td>[Epistolary novel, Speculative fiction]</td>\n",
              "      <td>makar devushkin and varvara dobroselova are se...</td>\n",
              "      <td>makar devushkin varvara dobroselova second cou...</td>\n",
              "      <td>[Literary, Speculative]</td>\n",
              "    </tr>\n",
              "  </tbody>\n",
              "</table>\n",
              "<p>12841 rows × 6 columns</p>\n",
              "</div>\n",
              "      <button class=\"colab-df-convert\" onclick=\"convertToInteractive('df-7f3bc262-0672-4b37-a33b-1a8299789f2a')\"\n",
              "              title=\"Convert this dataframe to an interactive table.\"\n",
              "              style=\"display:none;\">\n",
              "        \n",
              "  <svg xmlns=\"http://www.w3.org/2000/svg\" height=\"24px\"viewBox=\"0 0 24 24\"\n",
              "       width=\"24px\">\n",
              "    <path d=\"M0 0h24v24H0V0z\" fill=\"none\"/>\n",
              "    <path d=\"M18.56 5.44l.94 2.06.94-2.06 2.06-.94-2.06-.94-.94-2.06-.94 2.06-2.06.94zm-11 1L8.5 8.5l.94-2.06 2.06-.94-2.06-.94L8.5 2.5l-.94 2.06-2.06.94zm10 10l.94 2.06.94-2.06 2.06-.94-2.06-.94-.94-2.06-.94 2.06-2.06.94z\"/><path d=\"M17.41 7.96l-1.37-1.37c-.4-.4-.92-.59-1.43-.59-.52 0-1.04.2-1.43.59L10.3 9.45l-7.72 7.72c-.78.78-.78 2.05 0 2.83L4 21.41c.39.39.9.59 1.41.59.51 0 1.02-.2 1.41-.59l7.78-7.78 2.81-2.81c.8-.78.8-2.07 0-2.86zM5.41 20L4 18.59l7.72-7.72 1.47 1.35L5.41 20z\"/>\n",
              "  </svg>\n",
              "      </button>\n",
              "      \n",
              "  <style>\n",
              "    .colab-df-container {\n",
              "      display:flex;\n",
              "      flex-wrap:wrap;\n",
              "      gap: 12px;\n",
              "    }\n",
              "\n",
              "    .colab-df-convert {\n",
              "      background-color: #E8F0FE;\n",
              "      border: none;\n",
              "      border-radius: 50%;\n",
              "      cursor: pointer;\n",
              "      display: none;\n",
              "      fill: #1967D2;\n",
              "      height: 32px;\n",
              "      padding: 0 0 0 0;\n",
              "      width: 32px;\n",
              "    }\n",
              "\n",
              "    .colab-df-convert:hover {\n",
              "      background-color: #E2EBFA;\n",
              "      box-shadow: 0px 1px 2px rgba(60, 64, 67, 0.3), 0px 1px 3px 1px rgba(60, 64, 67, 0.15);\n",
              "      fill: #174EA6;\n",
              "    }\n",
              "\n",
              "    [theme=dark] .colab-df-convert {\n",
              "      background-color: #3B4455;\n",
              "      fill: #D2E3FC;\n",
              "    }\n",
              "\n",
              "    [theme=dark] .colab-df-convert:hover {\n",
              "      background-color: #434B5C;\n",
              "      box-shadow: 0px 1px 3px 1px rgba(0, 0, 0, 0.15);\n",
              "      filter: drop-shadow(0px 1px 2px rgba(0, 0, 0, 0.3));\n",
              "      fill: #FFFFFF;\n",
              "    }\n",
              "  </style>\n",
              "\n",
              "      <script>\n",
              "        const buttonEl =\n",
              "          document.querySelector('#df-7f3bc262-0672-4b37-a33b-1a8299789f2a button.colab-df-convert');\n",
              "        buttonEl.style.display =\n",
              "          google.colab.kernel.accessAllowed ? 'block' : 'none';\n",
              "\n",
              "        async function convertToInteractive(key) {\n",
              "          const element = document.querySelector('#df-7f3bc262-0672-4b37-a33b-1a8299789f2a');\n",
              "          const dataTable =\n",
              "            await google.colab.kernel.invokeFunction('convertToInteractive',\n",
              "                                                     [key], {});\n",
              "          if (!dataTable) return;\n",
              "\n",
              "          const docLinkHtml = 'Like what you see? Visit the ' +\n",
              "            '<a target=\"_blank\" href=https://colab.research.google.com/notebooks/data_table.ipynb>data table notebook</a>'\n",
              "            + ' to learn more about interactive tables.';\n",
              "          element.innerHTML = '';\n",
              "          dataTable['output_type'] = 'display_data';\n",
              "          await google.colab.output.renderOutput(dataTable, element);\n",
              "          const docLink = document.createElement('div');\n",
              "          docLink.innerHTML = docLinkHtml;\n",
              "          element.appendChild(docLink);\n",
              "        }\n",
              "      </script>\n",
              "    </div>\n",
              "  </div>\n",
              "  "
            ]
          },
          "metadata": {},
          "execution_count": 114
        }
      ]
    },
    {
      "cell_type": "code",
      "source": [
        "for i in test_files:\n",
        "  print(i[56:])"
      ],
      "metadata": {
        "colab": {
          "base_uri": "https://localhost:8080/"
        },
        "id": "ctCPiQy-rvGl",
        "outputId": "22f1d949-6c45-4335-cad7-af504ccfacb1"
      },
      "execution_count": null,
      "outputs": [
        {
          "output_type": "stream",
          "name": "stdout",
          "text": [
            "ustin Bieber - STAY (Official Video).mp3\n",
            "rson .Paak, Silk Sonic - Leave the Door Open [Official Video].mp3\n",
            "- Billie Jean (Official Video).mp3\n",
            "ING ALIVE (Official Audio) ft. Drake, Lil Baby.mp3\n"
          ]
        }
      ]
    },
    {
      "cell_type": "markdown",
      "source": [
        "# Step 5: Getting top 5 books from mapped book genre"
      ],
      "metadata": {
        "id": "bLPZXGYwYRnA"
      }
    },
    {
      "cell_type": "code",
      "source": [
        "import random\n",
        "for i in range(len(y_pred)):\n",
        "  label = y_pred[i]\n",
        "  j = dct[label][0]\n",
        "  for m in range(len(j)):\n",
        "    print(\"\\n\")\n",
        "    print(j[m])\n",
        "    ans = []\n",
        "    for k in range(len(df)):\n",
        "      # print(df['grouped-genre'].iloc[k])\n",
        "      if j[m] == 'Poetry':\n",
        "        if j[m] in df['genre'].iloc[k]:\n",
        "          if 'Romance' in df['m-genre'].iloc[k]:\n",
        "            # print(df['name'].iloc[k])\n",
        "            ans.append(df['name'].iloc[k])\n",
        "      elif j[m] in df['m-genre'].iloc[k]:\n",
        "        # print(df['name'].iloc[k])\n",
        "        ans.append(df['name'].iloc[k])\n",
        "    if(len(ans)!=0):\n",
        "      print(y_pred[i])\n",
        "      if(len(ans)>5):\n",
        "        print(random.sample(ans, 5))\n",
        "      else:\n",
        "        print(ans)"
      ],
      "metadata": {
        "colab": {
          "base_uri": "https://localhost:8080/"
        },
        "id": "2oxUZcaDkuJ5",
        "outputId": "e109a344-b56a-4c0d-cbf7-36c0dbbd7540"
      },
      "execution_count": null,
      "outputs": [
        {
          "output_type": "stream",
          "name": "stdout",
          "text": [
            "\n",
            "\n",
            "Romance\n",
            "0\n",
            "['The Farthest Shore', 'A Kingdom of Dreams', 'A Song for Summer', 'The Notebook', 'Rupert of Hentzau']\n",
            "\n",
            "\n",
            "Dark\n",
            "0\n",
            "[\"At Bertram's Hotel\", 'The Devil Wears Prada', 'A Murder is Announced', 'Sleeping Murder', 'Shopaholic & Baby']\n",
            "\n",
            "\n",
            "Spirituality\n",
            "0\n",
            "['Fathers and Sons', 'A Christmas Carol', 'Thus Spoke Zarathustra', 'The God Delusion', 'Jonathan Livingston Seagull']\n",
            "\n",
            "\n",
            "Comedy\n",
            "0\n",
            "[\"It's Kind of a Funny Story\", 'Moscow 2042', 'Why Paint Cats', 'Books Do Furnish a Room', 'Ghost Circles']\n",
            "\n",
            "\n",
            "Poetry\n",
            "0\n",
            "['Love-Letters Between a Nobleman and His Sister']\n",
            "\n",
            "\n",
            "Anthology\n",
            "5\n",
            "['Abraham Lincoln, Vampire Hunter', 'The Broken Kingdoms', 'Special Topics in Calamity Physics', 'Stardust', 'Fierce Invalids Home from Hot Climates']\n",
            "\n",
            "\n",
            "Spirituality\n",
            "5\n",
            "['After Virtue', 'Misquoting Jesus', 'The Doors of Perception', 'Nausea', 'Utilitarianism']\n",
            "\n",
            "\n",
            "Comedy\n",
            "5\n",
            "['Pigs Have Wings', \"The Soldier's Art\", 'M*A*S*H: A Novel About Three Army Doctors', 'The Rules of Attraction', 'The Snarkout Boys and the Avocado of Death']\n",
            "\n",
            "\n",
            "Literary\n",
            "5\n",
            "['Walk in My Soul', 'The Reluctant Queen: The Story of Anne of York', 'The Persian Boy', 'Empress Orchid', 'The Magic Toyshop']\n",
            "\n",
            "\n",
            "Poetry\n",
            "5\n",
            "['Love-Letters Between a Nobleman and His Sister']\n",
            "\n",
            "\n",
            "Fantasy\n",
            "7\n",
            "['Deadhouse Gates', 'The End of the Matter', 'Alphabet of Thorn', 'The Brief History of the Dead', 'Inkspell']\n",
            "\n",
            "\n",
            "Literary\n",
            "7\n",
            "['Come Rack! Come Rope!', 'The Triumph of the Scarlet Pimpernel', 'The Pilot: A Tale of the Sea', 'Watery Grave', 'The Burning Land']\n",
            "\n",
            "\n",
            "Romance\n",
            "7\n",
            "['Burned', 'Lair of the Lion', 'The Talisman Ring', 'The Small Rain', 'Lady Boss']\n",
            "\n",
            "\n",
            "Comic\n",
            "7\n",
            "['I Love You, Beth Cooper', 'My Boring Ass Life: The Uncomfortably Candid Diary of Kevin Smith', 'Espresso Tales', 'Dark Lord of Derkholm', 'A Short History of Tractors in Ukrainian']\n",
            "\n",
            "\n",
            "Comedy\n",
            "7\n",
            "['Haunted', 'As I Lay Dying', 'The Stepford Wives', 'Holy Deadlock', 'Pygmy']\n",
            "\n",
            "\n",
            "Anthology\n",
            "4\n",
            "['The Confessions of Nat Turner', 'One, No one and One Hundred Thousand', 'The Amateur Gentleman', 'The Ghost Brigades', 'The God of Small Things']\n",
            "\n",
            "\n",
            "Literary\n",
            "4\n",
            "['The Generals', 'The Liar', 'Conqueror', \"The Eagle's Prey\", 'The Other Hand']\n",
            "\n",
            "\n",
            "Comic\n",
            "4\n",
            "['Modesty Blaise', 'Red Dwarf: Infinity Welcomes Careful Drivers', 'The Mating Season', 'Bite Me: A Love Story', 'Eyes of the Storm']\n",
            "\n",
            "\n",
            "Poetry\n",
            "4\n",
            "['Love-Letters Between a Nobleman and His Sister']\n",
            "\n",
            "\n",
            "Comedy\n",
            "4\n",
            "['The Acceptance World', 'The Rules of Attraction', 'The Screwtape Letters', 'M*A*S*H: A Novel About Three Army Doctors', 'Blott on the Landscape']\n"
          ]
        }
      ]
    }
  ],
  "metadata": {
    "colab": {
      "provenance": []
    },
    "kernelspec": {
      "display_name": "Python 3",
      "name": "python3"
    },
    "language_info": {
      "name": "python"
    }
  },
  "nbformat": 4,
  "nbformat_minor": 0
}