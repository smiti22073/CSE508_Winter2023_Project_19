{
  "cells": [
    {
      "cell_type": "code",
      "execution_count": null,
      "metadata": {
        "id": "cncC4k0UmTz_"
      },
      "outputs": [],
      "source": [
        "import librosa\n",
        "from librosa import feature\n",
        "import numpy as np\n",
        "import pandas as pd"
      ]
    },
    {
      "cell_type": "code",
      "execution_count": null,
      "metadata": {
        "id": "LU6WLvcfd5Ok"
      },
      "outputs": [],
      "source": [
        "import warnings\n",
        "warnings.filterwarnings('ignore')"
      ]
    },
    {
      "cell_type": "code",
      "execution_count": null,
      "metadata": {
        "colab": {
          "base_uri": "https://localhost:8080/"
        },
        "id": "DRcft29A6HMB",
        "outputId": "b4adcc22-8505-4976-cd07-17a390310662"
      },
      "outputs": [
        {
          "output_type": "stream",
          "name": "stdout",
          "text": [
            "Mounted at /content/drive\n"
          ]
        }
      ],
      "source": [
        "from google.colab import drive\n",
        "drive.mount('/content/drive')"
      ]
    },
    {
      "cell_type": "code",
      "execution_count": null,
      "metadata": {
        "colab": {
          "base_uri": "https://localhost:8080/",
          "height": 36
        },
        "id": "cbgrPzI_N8Ck",
        "outputId": "00379d4b-77a6-4aa1-daeb-abaf3898bead"
      },
      "outputs": [
        {
          "output_type": "execute_result",
          "data": {
            "text/plain": [
              "'/content'"
            ],
            "application/vnd.google.colaboratory.intrinsic+json": {
              "type": "string"
            }
          },
          "metadata": {},
          "execution_count": 4
        }
      ],
      "source": [
        "pwd"
      ]
    },
    {
      "cell_type": "code",
      "execution_count": null,
      "metadata": {
        "colab": {
          "base_uri": "https://localhost:8080/"
        },
        "id": "QQR3Bt4UN-rJ",
        "outputId": "3b5f7e3b-d699-43b3-99ea-5d3e14b0e4dd"
      },
      "outputs": [
        {
          "output_type": "stream",
          "name": "stdout",
          "text": [
            "/content/drive/MyDrive/Dataset/Songs\n"
          ]
        }
      ],
      "source": [
        "cd '/content/drive/MyDrive/Dataset/Songs'"
      ]
    },
    {
      "cell_type": "code",
      "execution_count": null,
      "metadata": {
        "colab": {
          "base_uri": "https://localhost:8080/"
        },
        "id": "2OkpUGknPiKc",
        "outputId": "6213f7d6-5a0f-41de-bfc7-3599164ff872"
      },
      "outputs": [
        {
          "output_type": "stream",
          "name": "stdout",
          "text": [
            "all_features.csv       \u001b[0m\u001b[01;34mBollywood_Rap\u001b[0m/                   \u001b[01;34mGhazal\u001b[0m/\n",
            "Best_GBM.pkl           Bollywood_Rap_features.csv       Ghazal_features.csv\n",
            "\u001b[01;34mbhajan\u001b[0m/                \u001b[01;34mBollywood_Romantic\u001b[0m/              readme.md\n",
            "bhajan_features.csv    Bollywood_Romantic_features.csv  \u001b[01;34msufi\u001b[0m/\n",
            "\u001b[01;34mbhojpuri\u001b[0m/              \u001b[01;34mGarhwali\u001b[0m/                        sufi_features.csv\n",
            "bhojpuri_features.csv  Garhwali_features.csv\n"
          ]
        }
      ],
      "source": [
        "ls"
      ]
    },
    {
      "cell_type": "code",
      "execution_count": null,
      "metadata": {
        "id": "nZAqrGLq6tb2"
      },
      "outputs": [],
      "source": [
        "from glob import glob\n",
        "genre = ['Bollywood_Rap', 'Bollywood_Romantic', 'Garhwali', 'Ghazal', 'bhajan', 'bhojpuri', 'sufi'] "
      ]
    },
    {
      "cell_type": "code",
      "execution_count": null,
      "metadata": {
        "id": "6xm5AcphQW5K"
      },
      "outputs": [],
      "source": [
        "genre_audio_files = []\n",
        "for i in range(len(genre)):\n",
        "  genre_dir = genre[i] + \"/\"\n",
        "  genre_audio_files.append(glob(genre_dir + '*.opus'))"
      ]
    },
    {
      "cell_type": "code",
      "execution_count": null,
      "metadata": {
        "colab": {
          "base_uri": "https://localhost:8080/"
        },
        "id": "MD4Hv2p4RH67",
        "outputId": "daa841fa-12fe-4bdf-f5dd-05ff60f04a0f"
      },
      "outputs": [
        {
          "output_type": "stream",
          "name": "stdout",
          "text": [
            "Number of audios for Bollywood_Rap : 100\n",
            "Number of audios for Bollywood_Romantic : 81\n",
            "Number of audios for Garhwali : 90\n",
            "Number of audios for Ghazal : 95\n",
            "Number of audios for bhajan : 66\n",
            "Number of audios for bhojpuri : 78\n",
            "Number of audios for sufi : 84\n"
          ]
        }
      ],
      "source": [
        "for i in range(len(genre_audio_files)):\n",
        "  print('Number of audios for', genre[i], ':', len(genre_audio_files[i]))"
      ]
    },
    {
      "cell_type": "code",
      "execution_count": null,
      "metadata": {
        "id": "Gwjs9QafSFF7"
      },
      "outputs": [],
      "source": [
        "fn_list_i = [\n",
        "    librosa.onset.onset_strength,             \n",
        "    feature.chroma_stft,                       \n",
        "    feature.chroma_cqt,\n",
        "    feature.chroma_cens,\n",
        "    feature.melspectrogram,\n",
        "    feature.mfcc,\n",
        "    feature.spectral_centroid,\n",
        "    feature.spectral_bandwidth,\n",
        "    feature.spectral_contrast,\n",
        "    feature.spectral_rolloff,\n",
        "    feature.tonnetz\n",
        "]\n",
        "\n",
        "fn_list_ii = [\n",
        "    feature.zero_crossing_rate\n",
        "]\n",
        "\n",
        "def get_feature_vector(y,sr): \n",
        "   feat_vect_i = [ np.mean(funct(y,sr)) for funct in fn_list_i]\n",
        "   feat_vect_ii = [ np.mean(funct(y)) for funct in fn_list_ii] \n",
        "   feature_vector = feat_vect_i + feat_vect_ii \n",
        "   return feature_vector"
      ]
    },
    {
      "cell_type": "code",
      "execution_count": null,
      "metadata": {
        "id": "YTEPsHUiU4Ht"
      },
      "outputs": [],
      "source": [
        "columns = [\"Song_Name\", \"onset_strength\", \"chroma_stft\", \"chroma_cqt\", \"chroma_cens\", \"melspectrogram\", \"mfcc\",\t\n",
        "           \"spectral_centroid\" ,\"spectral_bandwidth\", \"spectral_contrast\", \"spectral_rolloff\",\t\"tonnetz\", \"zero_crossing_rate\"]"
      ]
    },
    {
      "cell_type": "code",
      "execution_count": null,
      "metadata": {
        "id": "iN_k_vhoVQPP"
      },
      "outputs": [],
      "source": [
        "from google.colab import files"
      ]
    },
    {
      "cell_type": "markdown",
      "metadata": {
        "id": "Fkf4SNEuapLh"
      },
      "source": [
        "### Bollywood_Rap"
      ]
    },
    {
      "cell_type": "code",
      "source": [
        "song_features = []\n",
        "for file in genre_audio_files[0]:\n",
        "  '''\n",
        "  y is the time series array of the audio file, a 1D np.ndarray\n",
        "  sr is the sampling rate, a number\n",
        "  '''  \n",
        "  y,sr = librosa.load(file,sr=None)   \n",
        "  feature_vector = get_feature_vector(y, sr)\n",
        "  song_features.append([file] + feature_vector)\n",
        "df = pd.DataFrame(song_features, columns=columns)\n",
        "file_name = genre[0] + '_features.csv'\n",
        "df.to_csv(file_name)\n",
        "files.download(file_name)"
      ],
      "metadata": {
        "id": "hgg5jGriOVSz"
      },
      "execution_count": null,
      "outputs": []
    },
    {
      "cell_type": "markdown",
      "metadata": {
        "id": "nb5Ra86hGh0K"
      },
      "source": [
        "### Bollywood_Romantic"
      ]
    },
    {
      "cell_type": "code",
      "execution_count": null,
      "metadata": {
        "id": "QumzUcQSH-8S"
      },
      "outputs": [],
      "source": [
        "song_features = []\n",
        "for file in genre_audio_files[1]:\n",
        "  '''\n",
        "  y is the time series array of the audio file, a 1D np.ndarray\n",
        "  sr is the sampling rate, a number\n",
        "  '''  \n",
        "  y,sr = librosa.load(file,sr=None)   \n",
        "  feature_vector = get_feature_vector(y, sr)\n",
        "  song_features.append([file] + feature_vector)\n",
        "df = pd.DataFrame(song_features, columns=columns)\n",
        "file_name = genre[1] + '_features.csv'\n",
        "df.to_csv(file_name)\n",
        "files.download(file_name)"
      ]
    },
    {
      "cell_type": "markdown",
      "metadata": {
        "id": "4VXykj7JZHC4"
      },
      "source": [
        "### Sufi"
      ]
    },
    {
      "cell_type": "code",
      "execution_count": null,
      "metadata": {
        "id": "lSsPxFY0ZK0X"
      },
      "outputs": [],
      "source": [
        "song_features = []\n",
        "for file in genre_audio_files[6]:\n",
        "  '''\n",
        "  y is the time series array of the audio file, a 1D np.ndarray\n",
        "  sr is the sampling rate, a number\n",
        "  '''  \n",
        "  y,sr = librosa.load(file,sr=None)   \n",
        "  feature_vector = get_feature_vector(y, sr)\n",
        "  song_features.append([file] + feature_vector)\n",
        "df = pd.DataFrame(song_features, columns=columns)\n",
        "file_name = genre[6] + '_features.csv'\n",
        "df.to_csv(file_name)\n",
        "files.download(file_name)"
      ]
    },
    {
      "cell_type": "markdown",
      "source": [
        "### Bhajan"
      ],
      "metadata": {
        "id": "xrjU4tGmRx15"
      }
    },
    {
      "cell_type": "code",
      "source": [
        "song_features = []\n",
        "for file in genre_audio_files[4]:\n",
        "  '''\n",
        "  y is the time series array of the audio file, a 1D np.ndarray\n",
        "  sr is the sampling rate, a number\n",
        "  '''  \n",
        "  y,sr = librosa.load(file,sr=None)   \n",
        "  feature_vector = get_feature_vector(y, sr)\n",
        "  song_features.append([file] + feature_vector)\n",
        "df = pd.DataFrame(song_features, columns=columns)\n",
        "file_name = genre[4] + '_features.csv'\n",
        "df.to_csv(file_name)\n",
        "files.download(file_name)"
      ],
      "metadata": {
        "id": "DwNLSg71R6Fi"
      },
      "execution_count": null,
      "outputs": []
    },
    {
      "cell_type": "markdown",
      "source": [
        "### Bhojpuri"
      ],
      "metadata": {
        "id": "EKqwJ9ReSVGe"
      }
    },
    {
      "cell_type": "code",
      "source": [
        "song_features = []\n",
        "for file in genre_audio_files[5]:\n",
        "  '''\n",
        "  y is the time series array of the audio file, a 1D np.ndarray\n",
        "  sr is the sampling rate, a number\n",
        "  '''  \n",
        "  y,sr = librosa.load(file,sr=None)   \n",
        "  feature_vector = get_feature_vector(y, sr)\n",
        "  song_features.append([file] + feature_vector)\n",
        "df = pd.DataFrame(song_features, columns=columns)\n",
        "file_name = genre[5] + '_features.csv'\n",
        "df.to_csv(file_name)\n",
        "files.download(file_name)"
      ],
      "metadata": {
        "id": "b5P0sBLhSXmY"
      },
      "execution_count": null,
      "outputs": []
    },
    {
      "cell_type": "markdown",
      "source": [
        "### Garhwali"
      ],
      "metadata": {
        "id": "nWBWcVPeSipj"
      }
    },
    {
      "cell_type": "code",
      "source": [
        "song_features = []\n",
        "for file in genre_audio_files[2]:\n",
        "  '''\n",
        "  y is the time series array of the audio file, a 1D np.ndarray\n",
        "  sr is the sampling rate, a number\n",
        "  '''  \n",
        "  y,sr = librosa.load(file,sr=None)   \n",
        "  feature_vector = get_feature_vector(y, sr)\n",
        "  song_features.append([file] + feature_vector)\n",
        "df = pd.DataFrame(song_features, columns=columns)\n",
        "file_name = genre[2] + '_features.csv'\n",
        "df.to_csv(file_name)\n",
        "files.download(file_name)"
      ],
      "metadata": {
        "id": "JaUJAoGWSlr6"
      },
      "execution_count": null,
      "outputs": []
    },
    {
      "cell_type": "markdown",
      "source": [
        "### Ghazal"
      ],
      "metadata": {
        "id": "TIhUOIcgSmj5"
      }
    },
    {
      "cell_type": "code",
      "source": [
        "song_features = []\n",
        "for file in genre_audio_files[3]:\n",
        "  '''\n",
        "  y is the time series array of the audio file, a 1D np.ndarray\n",
        "  sr is the sampling rate, a number\n",
        "  '''  \n",
        "  y,sr = librosa.load(file,sr=None)   \n",
        "  feature_vector = get_feature_vector(y, sr)\n",
        "  song_features.append([file] + feature_vector)\n",
        "df = pd.DataFrame(song_features, columns=columns)\n",
        "file_name = genre[3] + '_features.csv'\n",
        "df.to_csv(file_name)\n",
        "files.download(file_name)"
      ],
      "metadata": {
        "id": "ufMuwqFcSoaK"
      },
      "execution_count": null,
      "outputs": []
    }
  ],
  "metadata": {
    "colab": {
      "provenance": []
    },
    "kernelspec": {
      "display_name": "Python 3",
      "name": "python3"
    },
    "language_info": {
      "name": "python"
    }
  },
  "nbformat": 4,
  "nbformat_minor": 0
}