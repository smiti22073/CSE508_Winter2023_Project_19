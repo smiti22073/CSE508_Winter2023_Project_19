{
  "nbformat": 4,
  "nbformat_minor": 0,
  "metadata": {
    "colab": {
      "provenance": []
    },
    "kernelspec": {
      "name": "python3",
      "display_name": "Python 3"
    },
    "language_info": {
      "name": "python"
    }
  },
  "cells": [
    {
      "cell_type": "code",
      "execution_count": null,
      "metadata": {
        "id": "ekv8ljejU3DF"
      },
      "outputs": [],
      "source": [
        "import warnings\n",
        "warnings.filterwarnings('ignore')"
      ]
    },
    {
      "cell_type": "code",
      "source": [
        "from google.colab import drive\n",
        "drive.mount('/content/drive')"
      ],
      "metadata": {
        "colab": {
          "base_uri": "https://localhost:8080/"
        },
        "id": "l6is8hnTRSEs",
        "outputId": "ea4019e1-7295-4210-d94d-05e6c33ffec9"
      },
      "execution_count": null,
      "outputs": [
        {
          "output_type": "stream",
          "name": "stdout",
          "text": [
            "Mounted at /content/drive\n"
          ]
        }
      ]
    },
    {
      "cell_type": "code",
      "source": [
        "import numpy as np\n",
        "import pandas as pd\n",
        "import matplotlib.pyplot as plt"
      ],
      "metadata": {
        "id": "bVzbuiWaRe9r"
      },
      "execution_count": null,
      "outputs": []
    },
    {
      "cell_type": "code",
      "source": [
        "!cd '/content/drive/MyDrive/IR_Project_Music/Songs'"
      ],
      "metadata": {
        "id": "KGEv2VW-RiMN"
      },
      "execution_count": null,
      "outputs": []
    },
    {
      "cell_type": "code",
      "source": [
        "Bolly_rap = pd.read_csv(\"/content/drive/MyDrive/IR_Project_Music/Songs/Bollywood_Rap_features.csv\")"
      ],
      "metadata": {
        "id": "BrJ2-yibSmic"
      },
      "execution_count": null,
      "outputs": []
    },
    {
      "cell_type": "code",
      "source": [
        "Bolly_rap.shape"
      ],
      "metadata": {
        "colab": {
          "base_uri": "https://localhost:8080/"
        },
        "id": "8S9cj3o-SqFr",
        "outputId": "750d5e92-a84d-4ccd-bfcb-1f60e7ab39f5"
      },
      "execution_count": null,
      "outputs": [
        {
          "output_type": "execute_result",
          "data": {
            "text/plain": [
              "(100, 14)"
            ]
          },
          "metadata": {},
          "execution_count": 32
        }
      ]
    },
    {
      "cell_type": "code",
      "source": [
        "Bolly_rap.head()"
      ],
      "metadata": {
        "colab": {
          "base_uri": "https://localhost:8080/",
          "height": 374
        },
        "id": "Iz5IsrmwS4Vm",
        "outputId": "6a393fd1-8843-4612-9a55-72506b2641a0"
      },
      "execution_count": null,
      "outputs": [
        {
          "output_type": "execute_result",
          "data": {
            "text/plain": [
              "   Unnamed: 0                                     Song_Name  onset_strength  \\\n",
              "0           0             Bollywood_Rap/Bohemia - Dada.opus        1.359504   \n",
              "1           1         Bollywood_Rap/Bohemia - Beparwah.opus        1.367846   \n",
              "2           2  Bollywood_Rap/Bohemia - Desi Put Javaan.opus        1.522658   \n",
              "3           3     Bollywood_Rap/Bohemia - Dil Acapella.opus        1.428467   \n",
              "4           4       Bollywood_Rap/Bohemia - Aja Ni Aja.opus        1.541603   \n",
              "\n",
              "   chroma_stft  chroma_cqt  chroma_cens  melspectrogram      mfcc  \\\n",
              "0     0.504378    0.431088     0.238247       12.234897  0.155766   \n",
              "1     0.481887    0.527467     0.255920        5.386636  1.173165   \n",
              "2     0.614667    0.415879     0.241032       22.373873  4.658426   \n",
              "3     0.593779    0.524480     0.263806       17.920794  4.753779   \n",
              "4     0.659266    0.580653     0.260237       22.393740  6.887264   \n",
              "\n",
              "   spectral_centroid  spectral_bandwidth  spectral_contrast  spectral_rolloff  \\\n",
              "0        3336.742281         3691.313529          19.326488       7111.706785   \n",
              "1        3813.465951         3903.036168          20.049207       8436.634644   \n",
              "2        2062.671542         3053.880091          18.504100       4707.484604   \n",
              "3        2267.229849         3129.322550          20.090888       5376.694052   \n",
              "4        4515.528428         4360.305689          17.931442       9524.892741   \n",
              "\n",
              "    tonnetz  zero_crossing_rate  \n",
              "0 -0.029229            0.063615  \n",
              "1  0.027319            0.080023  \n",
              "2 -0.016368            0.024910  \n",
              "3  0.017713            0.041050  \n",
              "4  0.005748            0.078542  "
            ],
            "text/html": [
              "\n",
              "  <div id=\"df-d99e8b8e-46de-4116-b15a-dc1f4220cc1c\">\n",
              "    <div class=\"colab-df-container\">\n",
              "      <div>\n",
              "<style scoped>\n",
              "    .dataframe tbody tr th:only-of-type {\n",
              "        vertical-align: middle;\n",
              "    }\n",
              "\n",
              "    .dataframe tbody tr th {\n",
              "        vertical-align: top;\n",
              "    }\n",
              "\n",
              "    .dataframe thead th {\n",
              "        text-align: right;\n",
              "    }\n",
              "</style>\n",
              "<table border=\"1\" class=\"dataframe\">\n",
              "  <thead>\n",
              "    <tr style=\"text-align: right;\">\n",
              "      <th></th>\n",
              "      <th>Unnamed: 0</th>\n",
              "      <th>Song_Name</th>\n",
              "      <th>onset_strength</th>\n",
              "      <th>chroma_stft</th>\n",
              "      <th>chroma_cqt</th>\n",
              "      <th>chroma_cens</th>\n",
              "      <th>melspectrogram</th>\n",
              "      <th>mfcc</th>\n",
              "      <th>spectral_centroid</th>\n",
              "      <th>spectral_bandwidth</th>\n",
              "      <th>spectral_contrast</th>\n",
              "      <th>spectral_rolloff</th>\n",
              "      <th>tonnetz</th>\n",
              "      <th>zero_crossing_rate</th>\n",
              "    </tr>\n",
              "  </thead>\n",
              "  <tbody>\n",
              "    <tr>\n",
              "      <th>0</th>\n",
              "      <td>0</td>\n",
              "      <td>Bollywood_Rap/Bohemia - Dada.opus</td>\n",
              "      <td>1.359504</td>\n",
              "      <td>0.504378</td>\n",
              "      <td>0.431088</td>\n",
              "      <td>0.238247</td>\n",
              "      <td>12.234897</td>\n",
              "      <td>0.155766</td>\n",
              "      <td>3336.742281</td>\n",
              "      <td>3691.313529</td>\n",
              "      <td>19.326488</td>\n",
              "      <td>7111.706785</td>\n",
              "      <td>-0.029229</td>\n",
              "      <td>0.063615</td>\n",
              "    </tr>\n",
              "    <tr>\n",
              "      <th>1</th>\n",
              "      <td>1</td>\n",
              "      <td>Bollywood_Rap/Bohemia - Beparwah.opus</td>\n",
              "      <td>1.367846</td>\n",
              "      <td>0.481887</td>\n",
              "      <td>0.527467</td>\n",
              "      <td>0.255920</td>\n",
              "      <td>5.386636</td>\n",
              "      <td>1.173165</td>\n",
              "      <td>3813.465951</td>\n",
              "      <td>3903.036168</td>\n",
              "      <td>20.049207</td>\n",
              "      <td>8436.634644</td>\n",
              "      <td>0.027319</td>\n",
              "      <td>0.080023</td>\n",
              "    </tr>\n",
              "    <tr>\n",
              "      <th>2</th>\n",
              "      <td>2</td>\n",
              "      <td>Bollywood_Rap/Bohemia - Desi Put Javaan.opus</td>\n",
              "      <td>1.522658</td>\n",
              "      <td>0.614667</td>\n",
              "      <td>0.415879</td>\n",
              "      <td>0.241032</td>\n",
              "      <td>22.373873</td>\n",
              "      <td>4.658426</td>\n",
              "      <td>2062.671542</td>\n",
              "      <td>3053.880091</td>\n",
              "      <td>18.504100</td>\n",
              "      <td>4707.484604</td>\n",
              "      <td>-0.016368</td>\n",
              "      <td>0.024910</td>\n",
              "    </tr>\n",
              "    <tr>\n",
              "      <th>3</th>\n",
              "      <td>3</td>\n",
              "      <td>Bollywood_Rap/Bohemia - Dil Acapella.opus</td>\n",
              "      <td>1.428467</td>\n",
              "      <td>0.593779</td>\n",
              "      <td>0.524480</td>\n",
              "      <td>0.263806</td>\n",
              "      <td>17.920794</td>\n",
              "      <td>4.753779</td>\n",
              "      <td>2267.229849</td>\n",
              "      <td>3129.322550</td>\n",
              "      <td>20.090888</td>\n",
              "      <td>5376.694052</td>\n",
              "      <td>0.017713</td>\n",
              "      <td>0.041050</td>\n",
              "    </tr>\n",
              "    <tr>\n",
              "      <th>4</th>\n",
              "      <td>4</td>\n",
              "      <td>Bollywood_Rap/Bohemia - Aja Ni Aja.opus</td>\n",
              "      <td>1.541603</td>\n",
              "      <td>0.659266</td>\n",
              "      <td>0.580653</td>\n",
              "      <td>0.260237</td>\n",
              "      <td>22.393740</td>\n",
              "      <td>6.887264</td>\n",
              "      <td>4515.528428</td>\n",
              "      <td>4360.305689</td>\n",
              "      <td>17.931442</td>\n",
              "      <td>9524.892741</td>\n",
              "      <td>0.005748</td>\n",
              "      <td>0.078542</td>\n",
              "    </tr>\n",
              "  </tbody>\n",
              "</table>\n",
              "</div>\n",
              "      <button class=\"colab-df-convert\" onclick=\"convertToInteractive('df-d99e8b8e-46de-4116-b15a-dc1f4220cc1c')\"\n",
              "              title=\"Convert this dataframe to an interactive table.\"\n",
              "              style=\"display:none;\">\n",
              "        \n",
              "  <svg xmlns=\"http://www.w3.org/2000/svg\" height=\"24px\"viewBox=\"0 0 24 24\"\n",
              "       width=\"24px\">\n",
              "    <path d=\"M0 0h24v24H0V0z\" fill=\"none\"/>\n",
              "    <path d=\"M18.56 5.44l.94 2.06.94-2.06 2.06-.94-2.06-.94-.94-2.06-.94 2.06-2.06.94zm-11 1L8.5 8.5l.94-2.06 2.06-.94-2.06-.94L8.5 2.5l-.94 2.06-2.06.94zm10 10l.94 2.06.94-2.06 2.06-.94-2.06-.94-.94-2.06-.94 2.06-2.06.94z\"/><path d=\"M17.41 7.96l-1.37-1.37c-.4-.4-.92-.59-1.43-.59-.52 0-1.04.2-1.43.59L10.3 9.45l-7.72 7.72c-.78.78-.78 2.05 0 2.83L4 21.41c.39.39.9.59 1.41.59.51 0 1.02-.2 1.41-.59l7.78-7.78 2.81-2.81c.8-.78.8-2.07 0-2.86zM5.41 20L4 18.59l7.72-7.72 1.47 1.35L5.41 20z\"/>\n",
              "  </svg>\n",
              "      </button>\n",
              "      \n",
              "  <style>\n",
              "    .colab-df-container {\n",
              "      display:flex;\n",
              "      flex-wrap:wrap;\n",
              "      gap: 12px;\n",
              "    }\n",
              "\n",
              "    .colab-df-convert {\n",
              "      background-color: #E8F0FE;\n",
              "      border: none;\n",
              "      border-radius: 50%;\n",
              "      cursor: pointer;\n",
              "      display: none;\n",
              "      fill: #1967D2;\n",
              "      height: 32px;\n",
              "      padding: 0 0 0 0;\n",
              "      width: 32px;\n",
              "    }\n",
              "\n",
              "    .colab-df-convert:hover {\n",
              "      background-color: #E2EBFA;\n",
              "      box-shadow: 0px 1px 2px rgba(60, 64, 67, 0.3), 0px 1px 3px 1px rgba(60, 64, 67, 0.15);\n",
              "      fill: #174EA6;\n",
              "    }\n",
              "\n",
              "    [theme=dark] .colab-df-convert {\n",
              "      background-color: #3B4455;\n",
              "      fill: #D2E3FC;\n",
              "    }\n",
              "\n",
              "    [theme=dark] .colab-df-convert:hover {\n",
              "      background-color: #434B5C;\n",
              "      box-shadow: 0px 1px 3px 1px rgba(0, 0, 0, 0.15);\n",
              "      filter: drop-shadow(0px 1px 2px rgba(0, 0, 0, 0.3));\n",
              "      fill: #FFFFFF;\n",
              "    }\n",
              "  </style>\n",
              "\n",
              "      <script>\n",
              "        const buttonEl =\n",
              "          document.querySelector('#df-d99e8b8e-46de-4116-b15a-dc1f4220cc1c button.colab-df-convert');\n",
              "        buttonEl.style.display =\n",
              "          google.colab.kernel.accessAllowed ? 'block' : 'none';\n",
              "\n",
              "        async function convertToInteractive(key) {\n",
              "          const element = document.querySelector('#df-d99e8b8e-46de-4116-b15a-dc1f4220cc1c');\n",
              "          const dataTable =\n",
              "            await google.colab.kernel.invokeFunction('convertToInteractive',\n",
              "                                                     [key], {});\n",
              "          if (!dataTable) return;\n",
              "\n",
              "          const docLinkHtml = 'Like what you see? Visit the ' +\n",
              "            '<a target=\"_blank\" href=https://colab.research.google.com/notebooks/data_table.ipynb>data table notebook</a>'\n",
              "            + ' to learn more about interactive tables.';\n",
              "          element.innerHTML = '';\n",
              "          dataTable['output_type'] = 'display_data';\n",
              "          await google.colab.output.renderOutput(dataTable, element);\n",
              "          const docLink = document.createElement('div');\n",
              "          docLink.innerHTML = docLinkHtml;\n",
              "          element.appendChild(docLink);\n",
              "        }\n",
              "      </script>\n",
              "    </div>\n",
              "  </div>\n",
              "  "
            ]
          },
          "metadata": {},
          "execution_count": 33
        }
      ]
    },
    {
      "cell_type": "code",
      "source": [
        "Bolly_rap['labels'] = pd.Series([0 for x in range(len(Bolly_rap.index))], index=Bolly_rap.index)"
      ],
      "metadata": {
        "id": "cPl54dcNSuJQ"
      },
      "execution_count": null,
      "outputs": []
    },
    {
      "cell_type": "code",
      "source": [
        "Bolly_rap.shape"
      ],
      "metadata": {
        "colab": {
          "base_uri": "https://localhost:8080/"
        },
        "id": "fAD-sNnqTP2P",
        "outputId": "a8bde3b5-983c-49b4-f74b-759483857cec"
      },
      "execution_count": null,
      "outputs": [
        {
          "output_type": "execute_result",
          "data": {
            "text/plain": [
              "(100, 15)"
            ]
          },
          "metadata": {},
          "execution_count": 35
        }
      ]
    },
    {
      "cell_type": "code",
      "source": [
        "Ghazal = pd.read_csv(\"/content/drive/MyDrive/IR_Project_Music/Songs/Ghazal_features.csv\")\n",
        "Ghazal['labels'] = pd.Series([1 for x in range(len(Ghazal.index))], index=Ghazal.index)\n",
        "\n",
        "Garhwali = pd.read_csv(\"/content/drive/MyDrive/IR_Project_Music/Songs/Garhwali_features.csv\")\n",
        "Garhwali['labels'] = pd.Series([2 for x in range(len(Garhwali.index))], index=Garhwali.index)\n",
        "\n",
        "bhajan = pd.read_csv(\"/content/drive/MyDrive/IR_Project_Music/Songs/bhajan_features.csv\")\n",
        "bhajan['labels'] = pd.Series([3 for x in range(len(bhajan.index))], index=bhajan.index)\n",
        "\n",
        "bolly_romantic = pd.read_csv(\"/content/drive/MyDrive/IR_Project_Music/Songs/Bollywood_Romantic_features.csv\")\n",
        "bolly_romantic['labels'] = pd.Series([4 for x in range(len(bolly_romantic.index))], index=bolly_romantic.index)\n",
        "\n",
        "sufi = pd.read_csv(\"/content/drive/MyDrive/IR_Project_Music/Songs/sufi_features.csv\")\n",
        "sufi['labels'] = pd.Series([5 for x in range(len(sufi.index))], index=sufi.index)\n",
        "\n",
        "bhojpuri = pd.read_csv(\"/content/drive/MyDrive/IR_Project_Music/Songs/bhojpuri_features.csv\")\n",
        "bhojpuri['labels'] = pd.Series([6 for x in range(len(bhojpuri.index))], index=bhojpuri.index)"
      ],
      "metadata": {
        "id": "qjjVBCMnRwK_"
      },
      "execution_count": null,
      "outputs": []
    },
    {
      "cell_type": "code",
      "source": [
        "frame = pd.concat([Bolly_rap, Ghazal, Garhwali, bhajan, bolly_romantic, sufi, bhojpuri], ignore_index=True)\n",
        "frame.head()"
      ],
      "metadata": {
        "id": "L7zq9ovVVOTV",
        "colab": {
          "base_uri": "https://localhost:8080/",
          "height": 374
        },
        "outputId": "1b670d6d-8f54-402c-d360-034f4bbcf377"
      },
      "execution_count": null,
      "outputs": [
        {
          "output_type": "execute_result",
          "data": {
            "text/plain": [
              "   Unnamed: 0                                     Song_Name  onset_strength  \\\n",
              "0           0             Bollywood_Rap/Bohemia - Dada.opus        1.359504   \n",
              "1           1         Bollywood_Rap/Bohemia - Beparwah.opus        1.367846   \n",
              "2           2  Bollywood_Rap/Bohemia - Desi Put Javaan.opus        1.522658   \n",
              "3           3     Bollywood_Rap/Bohemia - Dil Acapella.opus        1.428467   \n",
              "4           4       Bollywood_Rap/Bohemia - Aja Ni Aja.opus        1.541603   \n",
              "\n",
              "   chroma_stft  chroma_cqt  chroma_cens  melspectrogram      mfcc  \\\n",
              "0     0.504378    0.431088     0.238247       12.234897  0.155766   \n",
              "1     0.481887    0.527467     0.255920        5.386636  1.173165   \n",
              "2     0.614667    0.415879     0.241032       22.373873  4.658426   \n",
              "3     0.593779    0.524480     0.263806       17.920794  4.753779   \n",
              "4     0.659266    0.580653     0.260237       22.393740  6.887264   \n",
              "\n",
              "   spectral_centroid  spectral_bandwidth  spectral_contrast  spectral_rolloff  \\\n",
              "0        3336.742281         3691.313529          19.326488       7111.706785   \n",
              "1        3813.465951         3903.036168          20.049207       8436.634644   \n",
              "2        2062.671542         3053.880091          18.504100       4707.484604   \n",
              "3        2267.229849         3129.322550          20.090888       5376.694052   \n",
              "4        4515.528428         4360.305689          17.931442       9524.892741   \n",
              "\n",
              "    tonnetz  zero_crossing_rate  labels  \n",
              "0 -0.029229            0.063615       0  \n",
              "1  0.027319            0.080023       0  \n",
              "2 -0.016368            0.024910       0  \n",
              "3  0.017713            0.041050       0  \n",
              "4  0.005748            0.078542       0  "
            ],
            "text/html": [
              "\n",
              "  <div id=\"df-ae4d4587-093a-47dd-bb35-65a84904f570\">\n",
              "    <div class=\"colab-df-container\">\n",
              "      <div>\n",
              "<style scoped>\n",
              "    .dataframe tbody tr th:only-of-type {\n",
              "        vertical-align: middle;\n",
              "    }\n",
              "\n",
              "    .dataframe tbody tr th {\n",
              "        vertical-align: top;\n",
              "    }\n",
              "\n",
              "    .dataframe thead th {\n",
              "        text-align: right;\n",
              "    }\n",
              "</style>\n",
              "<table border=\"1\" class=\"dataframe\">\n",
              "  <thead>\n",
              "    <tr style=\"text-align: right;\">\n",
              "      <th></th>\n",
              "      <th>Unnamed: 0</th>\n",
              "      <th>Song_Name</th>\n",
              "      <th>onset_strength</th>\n",
              "      <th>chroma_stft</th>\n",
              "      <th>chroma_cqt</th>\n",
              "      <th>chroma_cens</th>\n",
              "      <th>melspectrogram</th>\n",
              "      <th>mfcc</th>\n",
              "      <th>spectral_centroid</th>\n",
              "      <th>spectral_bandwidth</th>\n",
              "      <th>spectral_contrast</th>\n",
              "      <th>spectral_rolloff</th>\n",
              "      <th>tonnetz</th>\n",
              "      <th>zero_crossing_rate</th>\n",
              "      <th>labels</th>\n",
              "    </tr>\n",
              "  </thead>\n",
              "  <tbody>\n",
              "    <tr>\n",
              "      <th>0</th>\n",
              "      <td>0</td>\n",
              "      <td>Bollywood_Rap/Bohemia - Dada.opus</td>\n",
              "      <td>1.359504</td>\n",
              "      <td>0.504378</td>\n",
              "      <td>0.431088</td>\n",
              "      <td>0.238247</td>\n",
              "      <td>12.234897</td>\n",
              "      <td>0.155766</td>\n",
              "      <td>3336.742281</td>\n",
              "      <td>3691.313529</td>\n",
              "      <td>19.326488</td>\n",
              "      <td>7111.706785</td>\n",
              "      <td>-0.029229</td>\n",
              "      <td>0.063615</td>\n",
              "      <td>0</td>\n",
              "    </tr>\n",
              "    <tr>\n",
              "      <th>1</th>\n",
              "      <td>1</td>\n",
              "      <td>Bollywood_Rap/Bohemia - Beparwah.opus</td>\n",
              "      <td>1.367846</td>\n",
              "      <td>0.481887</td>\n",
              "      <td>0.527467</td>\n",
              "      <td>0.255920</td>\n",
              "      <td>5.386636</td>\n",
              "      <td>1.173165</td>\n",
              "      <td>3813.465951</td>\n",
              "      <td>3903.036168</td>\n",
              "      <td>20.049207</td>\n",
              "      <td>8436.634644</td>\n",
              "      <td>0.027319</td>\n",
              "      <td>0.080023</td>\n",
              "      <td>0</td>\n",
              "    </tr>\n",
              "    <tr>\n",
              "      <th>2</th>\n",
              "      <td>2</td>\n",
              "      <td>Bollywood_Rap/Bohemia - Desi Put Javaan.opus</td>\n",
              "      <td>1.522658</td>\n",
              "      <td>0.614667</td>\n",
              "      <td>0.415879</td>\n",
              "      <td>0.241032</td>\n",
              "      <td>22.373873</td>\n",
              "      <td>4.658426</td>\n",
              "      <td>2062.671542</td>\n",
              "      <td>3053.880091</td>\n",
              "      <td>18.504100</td>\n",
              "      <td>4707.484604</td>\n",
              "      <td>-0.016368</td>\n",
              "      <td>0.024910</td>\n",
              "      <td>0</td>\n",
              "    </tr>\n",
              "    <tr>\n",
              "      <th>3</th>\n",
              "      <td>3</td>\n",
              "      <td>Bollywood_Rap/Bohemia - Dil Acapella.opus</td>\n",
              "      <td>1.428467</td>\n",
              "      <td>0.593779</td>\n",
              "      <td>0.524480</td>\n",
              "      <td>0.263806</td>\n",
              "      <td>17.920794</td>\n",
              "      <td>4.753779</td>\n",
              "      <td>2267.229849</td>\n",
              "      <td>3129.322550</td>\n",
              "      <td>20.090888</td>\n",
              "      <td>5376.694052</td>\n",
              "      <td>0.017713</td>\n",
              "      <td>0.041050</td>\n",
              "      <td>0</td>\n",
              "    </tr>\n",
              "    <tr>\n",
              "      <th>4</th>\n",
              "      <td>4</td>\n",
              "      <td>Bollywood_Rap/Bohemia - Aja Ni Aja.opus</td>\n",
              "      <td>1.541603</td>\n",
              "      <td>0.659266</td>\n",
              "      <td>0.580653</td>\n",
              "      <td>0.260237</td>\n",
              "      <td>22.393740</td>\n",
              "      <td>6.887264</td>\n",
              "      <td>4515.528428</td>\n",
              "      <td>4360.305689</td>\n",
              "      <td>17.931442</td>\n",
              "      <td>9524.892741</td>\n",
              "      <td>0.005748</td>\n",
              "      <td>0.078542</td>\n",
              "      <td>0</td>\n",
              "    </tr>\n",
              "  </tbody>\n",
              "</table>\n",
              "</div>\n",
              "      <button class=\"colab-df-convert\" onclick=\"convertToInteractive('df-ae4d4587-093a-47dd-bb35-65a84904f570')\"\n",
              "              title=\"Convert this dataframe to an interactive table.\"\n",
              "              style=\"display:none;\">\n",
              "        \n",
              "  <svg xmlns=\"http://www.w3.org/2000/svg\" height=\"24px\"viewBox=\"0 0 24 24\"\n",
              "       width=\"24px\">\n",
              "    <path d=\"M0 0h24v24H0V0z\" fill=\"none\"/>\n",
              "    <path d=\"M18.56 5.44l.94 2.06.94-2.06 2.06-.94-2.06-.94-.94-2.06-.94 2.06-2.06.94zm-11 1L8.5 8.5l.94-2.06 2.06-.94-2.06-.94L8.5 2.5l-.94 2.06-2.06.94zm10 10l.94 2.06.94-2.06 2.06-.94-2.06-.94-.94-2.06-.94 2.06-2.06.94z\"/><path d=\"M17.41 7.96l-1.37-1.37c-.4-.4-.92-.59-1.43-.59-.52 0-1.04.2-1.43.59L10.3 9.45l-7.72 7.72c-.78.78-.78 2.05 0 2.83L4 21.41c.39.39.9.59 1.41.59.51 0 1.02-.2 1.41-.59l7.78-7.78 2.81-2.81c.8-.78.8-2.07 0-2.86zM5.41 20L4 18.59l7.72-7.72 1.47 1.35L5.41 20z\"/>\n",
              "  </svg>\n",
              "      </button>\n",
              "      \n",
              "  <style>\n",
              "    .colab-df-container {\n",
              "      display:flex;\n",
              "      flex-wrap:wrap;\n",
              "      gap: 12px;\n",
              "    }\n",
              "\n",
              "    .colab-df-convert {\n",
              "      background-color: #E8F0FE;\n",
              "      border: none;\n",
              "      border-radius: 50%;\n",
              "      cursor: pointer;\n",
              "      display: none;\n",
              "      fill: #1967D2;\n",
              "      height: 32px;\n",
              "      padding: 0 0 0 0;\n",
              "      width: 32px;\n",
              "    }\n",
              "\n",
              "    .colab-df-convert:hover {\n",
              "      background-color: #E2EBFA;\n",
              "      box-shadow: 0px 1px 2px rgba(60, 64, 67, 0.3), 0px 1px 3px 1px rgba(60, 64, 67, 0.15);\n",
              "      fill: #174EA6;\n",
              "    }\n",
              "\n",
              "    [theme=dark] .colab-df-convert {\n",
              "      background-color: #3B4455;\n",
              "      fill: #D2E3FC;\n",
              "    }\n",
              "\n",
              "    [theme=dark] .colab-df-convert:hover {\n",
              "      background-color: #434B5C;\n",
              "      box-shadow: 0px 1px 3px 1px rgba(0, 0, 0, 0.15);\n",
              "      filter: drop-shadow(0px 1px 2px rgba(0, 0, 0, 0.3));\n",
              "      fill: #FFFFFF;\n",
              "    }\n",
              "  </style>\n",
              "\n",
              "      <script>\n",
              "        const buttonEl =\n",
              "          document.querySelector('#df-ae4d4587-093a-47dd-bb35-65a84904f570 button.colab-df-convert');\n",
              "        buttonEl.style.display =\n",
              "          google.colab.kernel.accessAllowed ? 'block' : 'none';\n",
              "\n",
              "        async function convertToInteractive(key) {\n",
              "          const element = document.querySelector('#df-ae4d4587-093a-47dd-bb35-65a84904f570');\n",
              "          const dataTable =\n",
              "            await google.colab.kernel.invokeFunction('convertToInteractive',\n",
              "                                                     [key], {});\n",
              "          if (!dataTable) return;\n",
              "\n",
              "          const docLinkHtml = 'Like what you see? Visit the ' +\n",
              "            '<a target=\"_blank\" href=https://colab.research.google.com/notebooks/data_table.ipynb>data table notebook</a>'\n",
              "            + ' to learn more about interactive tables.';\n",
              "          element.innerHTML = '';\n",
              "          dataTable['output_type'] = 'display_data';\n",
              "          await google.colab.output.renderOutput(dataTable, element);\n",
              "          const docLink = document.createElement('div');\n",
              "          docLink.innerHTML = docLinkHtml;\n",
              "          element.appendChild(docLink);\n",
              "        }\n",
              "      </script>\n",
              "    </div>\n",
              "  </div>\n",
              "  "
            ]
          },
          "metadata": {},
          "execution_count": 37
        }
      ]
    },
    {
      "cell_type": "code",
      "source": [
        "final = frame.drop(\"Unnamed: 0\", axis=1)\n",
        "final.to_csv(\"all_features.csv\")"
      ],
      "metadata": {
        "id": "iKm_5SWVqjXV"
      },
      "execution_count": null,
      "outputs": []
    },
    {
      "cell_type": "code",
      "source": [
        "final.head()"
      ],
      "metadata": {
        "colab": {
          "base_uri": "https://localhost:8080/",
          "height": 357
        },
        "id": "g0jWz7epUB0Y",
        "outputId": "f302e04a-9633-49d1-ef19-d4143d2456ca"
      },
      "execution_count": null,
      "outputs": [
        {
          "output_type": "execute_result",
          "data": {
            "text/plain": [
              "                                      Song_Name  onset_strength  chroma_stft  \\\n",
              "0             Bollywood_Rap/Bohemia - Dada.opus        1.359504     0.504378   \n",
              "1         Bollywood_Rap/Bohemia - Beparwah.opus        1.367846     0.481887   \n",
              "2  Bollywood_Rap/Bohemia - Desi Put Javaan.opus        1.522658     0.614667   \n",
              "3     Bollywood_Rap/Bohemia - Dil Acapella.opus        1.428467     0.593779   \n",
              "4       Bollywood_Rap/Bohemia - Aja Ni Aja.opus        1.541603     0.659266   \n",
              "\n",
              "   chroma_cqt  chroma_cens  melspectrogram      mfcc  spectral_centroid  \\\n",
              "0    0.431088     0.238247       12.234897  0.155766        3336.742281   \n",
              "1    0.527467     0.255920        5.386636  1.173165        3813.465951   \n",
              "2    0.415879     0.241032       22.373873  4.658426        2062.671542   \n",
              "3    0.524480     0.263806       17.920794  4.753779        2267.229849   \n",
              "4    0.580653     0.260237       22.393740  6.887264        4515.528428   \n",
              "\n",
              "   spectral_bandwidth  spectral_contrast  spectral_rolloff   tonnetz  \\\n",
              "0         3691.313529          19.326488       7111.706785 -0.029229   \n",
              "1         3903.036168          20.049207       8436.634644  0.027319   \n",
              "2         3053.880091          18.504100       4707.484604 -0.016368   \n",
              "3         3129.322550          20.090888       5376.694052  0.017713   \n",
              "4         4360.305689          17.931442       9524.892741  0.005748   \n",
              "\n",
              "   zero_crossing_rate  labels  \n",
              "0            0.063615       0  \n",
              "1            0.080023       0  \n",
              "2            0.024910       0  \n",
              "3            0.041050       0  \n",
              "4            0.078542       0  "
            ],
            "text/html": [
              "\n",
              "  <div id=\"df-b1f4cc19-a4d5-4acd-b9b4-a6c5367483b9\">\n",
              "    <div class=\"colab-df-container\">\n",
              "      <div>\n",
              "<style scoped>\n",
              "    .dataframe tbody tr th:only-of-type {\n",
              "        vertical-align: middle;\n",
              "    }\n",
              "\n",
              "    .dataframe tbody tr th {\n",
              "        vertical-align: top;\n",
              "    }\n",
              "\n",
              "    .dataframe thead th {\n",
              "        text-align: right;\n",
              "    }\n",
              "</style>\n",
              "<table border=\"1\" class=\"dataframe\">\n",
              "  <thead>\n",
              "    <tr style=\"text-align: right;\">\n",
              "      <th></th>\n",
              "      <th>Song_Name</th>\n",
              "      <th>onset_strength</th>\n",
              "      <th>chroma_stft</th>\n",
              "      <th>chroma_cqt</th>\n",
              "      <th>chroma_cens</th>\n",
              "      <th>melspectrogram</th>\n",
              "      <th>mfcc</th>\n",
              "      <th>spectral_centroid</th>\n",
              "      <th>spectral_bandwidth</th>\n",
              "      <th>spectral_contrast</th>\n",
              "      <th>spectral_rolloff</th>\n",
              "      <th>tonnetz</th>\n",
              "      <th>zero_crossing_rate</th>\n",
              "      <th>labels</th>\n",
              "    </tr>\n",
              "  </thead>\n",
              "  <tbody>\n",
              "    <tr>\n",
              "      <th>0</th>\n",
              "      <td>Bollywood_Rap/Bohemia - Dada.opus</td>\n",
              "      <td>1.359504</td>\n",
              "      <td>0.504378</td>\n",
              "      <td>0.431088</td>\n",
              "      <td>0.238247</td>\n",
              "      <td>12.234897</td>\n",
              "      <td>0.155766</td>\n",
              "      <td>3336.742281</td>\n",
              "      <td>3691.313529</td>\n",
              "      <td>19.326488</td>\n",
              "      <td>7111.706785</td>\n",
              "      <td>-0.029229</td>\n",
              "      <td>0.063615</td>\n",
              "      <td>0</td>\n",
              "    </tr>\n",
              "    <tr>\n",
              "      <th>1</th>\n",
              "      <td>Bollywood_Rap/Bohemia - Beparwah.opus</td>\n",
              "      <td>1.367846</td>\n",
              "      <td>0.481887</td>\n",
              "      <td>0.527467</td>\n",
              "      <td>0.255920</td>\n",
              "      <td>5.386636</td>\n",
              "      <td>1.173165</td>\n",
              "      <td>3813.465951</td>\n",
              "      <td>3903.036168</td>\n",
              "      <td>20.049207</td>\n",
              "      <td>8436.634644</td>\n",
              "      <td>0.027319</td>\n",
              "      <td>0.080023</td>\n",
              "      <td>0</td>\n",
              "    </tr>\n",
              "    <tr>\n",
              "      <th>2</th>\n",
              "      <td>Bollywood_Rap/Bohemia - Desi Put Javaan.opus</td>\n",
              "      <td>1.522658</td>\n",
              "      <td>0.614667</td>\n",
              "      <td>0.415879</td>\n",
              "      <td>0.241032</td>\n",
              "      <td>22.373873</td>\n",
              "      <td>4.658426</td>\n",
              "      <td>2062.671542</td>\n",
              "      <td>3053.880091</td>\n",
              "      <td>18.504100</td>\n",
              "      <td>4707.484604</td>\n",
              "      <td>-0.016368</td>\n",
              "      <td>0.024910</td>\n",
              "      <td>0</td>\n",
              "    </tr>\n",
              "    <tr>\n",
              "      <th>3</th>\n",
              "      <td>Bollywood_Rap/Bohemia - Dil Acapella.opus</td>\n",
              "      <td>1.428467</td>\n",
              "      <td>0.593779</td>\n",
              "      <td>0.524480</td>\n",
              "      <td>0.263806</td>\n",
              "      <td>17.920794</td>\n",
              "      <td>4.753779</td>\n",
              "      <td>2267.229849</td>\n",
              "      <td>3129.322550</td>\n",
              "      <td>20.090888</td>\n",
              "      <td>5376.694052</td>\n",
              "      <td>0.017713</td>\n",
              "      <td>0.041050</td>\n",
              "      <td>0</td>\n",
              "    </tr>\n",
              "    <tr>\n",
              "      <th>4</th>\n",
              "      <td>Bollywood_Rap/Bohemia - Aja Ni Aja.opus</td>\n",
              "      <td>1.541603</td>\n",
              "      <td>0.659266</td>\n",
              "      <td>0.580653</td>\n",
              "      <td>0.260237</td>\n",
              "      <td>22.393740</td>\n",
              "      <td>6.887264</td>\n",
              "      <td>4515.528428</td>\n",
              "      <td>4360.305689</td>\n",
              "      <td>17.931442</td>\n",
              "      <td>9524.892741</td>\n",
              "      <td>0.005748</td>\n",
              "      <td>0.078542</td>\n",
              "      <td>0</td>\n",
              "    </tr>\n",
              "  </tbody>\n",
              "</table>\n",
              "</div>\n",
              "      <button class=\"colab-df-convert\" onclick=\"convertToInteractive('df-b1f4cc19-a4d5-4acd-b9b4-a6c5367483b9')\"\n",
              "              title=\"Convert this dataframe to an interactive table.\"\n",
              "              style=\"display:none;\">\n",
              "        \n",
              "  <svg xmlns=\"http://www.w3.org/2000/svg\" height=\"24px\"viewBox=\"0 0 24 24\"\n",
              "       width=\"24px\">\n",
              "    <path d=\"M0 0h24v24H0V0z\" fill=\"none\"/>\n",
              "    <path d=\"M18.56 5.44l.94 2.06.94-2.06 2.06-.94-2.06-.94-.94-2.06-.94 2.06-2.06.94zm-11 1L8.5 8.5l.94-2.06 2.06-.94-2.06-.94L8.5 2.5l-.94 2.06-2.06.94zm10 10l.94 2.06.94-2.06 2.06-.94-2.06-.94-.94-2.06-.94 2.06-2.06.94z\"/><path d=\"M17.41 7.96l-1.37-1.37c-.4-.4-.92-.59-1.43-.59-.52 0-1.04.2-1.43.59L10.3 9.45l-7.72 7.72c-.78.78-.78 2.05 0 2.83L4 21.41c.39.39.9.59 1.41.59.51 0 1.02-.2 1.41-.59l7.78-7.78 2.81-2.81c.8-.78.8-2.07 0-2.86zM5.41 20L4 18.59l7.72-7.72 1.47 1.35L5.41 20z\"/>\n",
              "  </svg>\n",
              "      </button>\n",
              "      \n",
              "  <style>\n",
              "    .colab-df-container {\n",
              "      display:flex;\n",
              "      flex-wrap:wrap;\n",
              "      gap: 12px;\n",
              "    }\n",
              "\n",
              "    .colab-df-convert {\n",
              "      background-color: #E8F0FE;\n",
              "      border: none;\n",
              "      border-radius: 50%;\n",
              "      cursor: pointer;\n",
              "      display: none;\n",
              "      fill: #1967D2;\n",
              "      height: 32px;\n",
              "      padding: 0 0 0 0;\n",
              "      width: 32px;\n",
              "    }\n",
              "\n",
              "    .colab-df-convert:hover {\n",
              "      background-color: #E2EBFA;\n",
              "      box-shadow: 0px 1px 2px rgba(60, 64, 67, 0.3), 0px 1px 3px 1px rgba(60, 64, 67, 0.15);\n",
              "      fill: #174EA6;\n",
              "    }\n",
              "\n",
              "    [theme=dark] .colab-df-convert {\n",
              "      background-color: #3B4455;\n",
              "      fill: #D2E3FC;\n",
              "    }\n",
              "\n",
              "    [theme=dark] .colab-df-convert:hover {\n",
              "      background-color: #434B5C;\n",
              "      box-shadow: 0px 1px 3px 1px rgba(0, 0, 0, 0.15);\n",
              "      filter: drop-shadow(0px 1px 2px rgba(0, 0, 0, 0.3));\n",
              "      fill: #FFFFFF;\n",
              "    }\n",
              "  </style>\n",
              "\n",
              "      <script>\n",
              "        const buttonEl =\n",
              "          document.querySelector('#df-b1f4cc19-a4d5-4acd-b9b4-a6c5367483b9 button.colab-df-convert');\n",
              "        buttonEl.style.display =\n",
              "          google.colab.kernel.accessAllowed ? 'block' : 'none';\n",
              "\n",
              "        async function convertToInteractive(key) {\n",
              "          const element = document.querySelector('#df-b1f4cc19-a4d5-4acd-b9b4-a6c5367483b9');\n",
              "          const dataTable =\n",
              "            await google.colab.kernel.invokeFunction('convertToInteractive',\n",
              "                                                     [key], {});\n",
              "          if (!dataTable) return;\n",
              "\n",
              "          const docLinkHtml = 'Like what you see? Visit the ' +\n",
              "            '<a target=\"_blank\" href=https://colab.research.google.com/notebooks/data_table.ipynb>data table notebook</a>'\n",
              "            + ' to learn more about interactive tables.';\n",
              "          element.innerHTML = '';\n",
              "          dataTable['output_type'] = 'display_data';\n",
              "          await google.colab.output.renderOutput(dataTable, element);\n",
              "          const docLink = document.createElement('div');\n",
              "          docLink.innerHTML = docLinkHtml;\n",
              "          element.appendChild(docLink);\n",
              "        }\n",
              "      </script>\n",
              "    </div>\n",
              "  </div>\n",
              "  "
            ]
          },
          "metadata": {},
          "execution_count": 39
        }
      ]
    },
    {
      "cell_type": "code",
      "source": [
        "from sklearn.metrics import confusion_matrix\n",
        "from sklearn.model_selection import train_test_split\n",
        "from sklearn.model_selection import cross_val_score\n",
        "from sklearn import preprocessing"
      ],
      "metadata": {
        "id": "Ygs9JPmwVWc6"
      },
      "execution_count": null,
      "outputs": []
    },
    {
      "cell_type": "code",
      "source": [
        "# X = preprocessing.scale(final.drop([\"labels\", \"Song_Name\"], axis=1))\n",
        "# y = final[\"labels\"]\n",
        "X = final.drop([\"labels\", \"Song_Name\"], axis=1)\n",
        "y = final[\"labels\"]"
      ],
      "metadata": {
        "id": "umu1F8qFotnL"
      },
      "execution_count": null,
      "outputs": []
    },
    {
      "cell_type": "code",
      "source": [
        "final.shape"
      ],
      "metadata": {
        "colab": {
          "base_uri": "https://localhost:8080/"
        },
        "id": "_OY2hgKd-lqu",
        "outputId": "adaff293-93ce-4110-9463-0333806a51f4"
      },
      "execution_count": null,
      "outputs": [
        {
          "output_type": "execute_result",
          "data": {
            "text/plain": [
              "(594, 14)"
            ]
          },
          "metadata": {},
          "execution_count": 42
        }
      ]
    },
    {
      "cell_type": "code",
      "source": [
        "X_train, X_test, y_train, y_test = train_test_split(X, y, test_size = 0.2, random_state = 42)"
      ],
      "metadata": {
        "id": "OR9azM7rpJ1M"
      },
      "execution_count": null,
      "outputs": []
    },
    {
      "cell_type": "code",
      "source": [
        "X_test"
      ],
      "metadata": {
        "colab": {
          "base_uri": "https://localhost:8080/",
          "height": 487
        },
        "id": "1m4PR-OVLPTu",
        "outputId": "01f34afb-534e-4b82-d064-c7b581eca982"
      },
      "execution_count": null,
      "outputs": [
        {
          "output_type": "execute_result",
          "data": {
            "text/plain": [
              "     onset_strength  chroma_stft  chroma_cqt  chroma_cens  melspectrogram  \\\n",
              "30         1.354720     0.609120    0.373124     0.216735        8.382829   \n",
              "299        1.502448     0.377903    0.452693     0.247739        9.228559   \n",
              "177        1.234227     0.347149    0.383848     0.224788        1.773748   \n",
              "204        1.438079     0.357932    0.511036     0.257713        5.892732   \n",
              "354        1.227234     0.395746    0.382983     0.224339       20.534378   \n",
              "..              ...          ...         ...          ...             ...   \n",
              "580        1.781345     0.436791    0.654907     0.277945       23.136932   \n",
              "228        1.446344     0.344111    0.477638     0.250160        9.170692   \n",
              "84         1.326330     0.397440    0.375701     0.218782       18.590418   \n",
              "140        1.264677     0.295499    0.381218     0.224301        4.388995   \n",
              "394        1.470279     0.403312    0.404667     0.236443        9.217032   \n",
              "\n",
              "         mfcc  spectral_centroid  spectral_bandwidth  spectral_contrast  \\\n",
              "30   1.581207        2500.902781         3308.551692          19.132942   \n",
              "299  0.088470        2789.418964         2856.185283          21.362462   \n",
              "177 -3.952408        1991.396384         2381.894970          22.001858   \n",
              "204  1.465694        2999.769963         3396.540257          21.445034   \n",
              "354  3.617873        1909.869175         2729.586489          20.517566   \n",
              "..        ...                ...                 ...                ...   \n",
              "580  6.739148        5376.722796         5083.763575          18.828939   \n",
              "228  2.448629        2335.858281         3057.056229          21.375140   \n",
              "84   1.758704        2303.929357         2943.672409          20.205525   \n",
              "140 -3.010536        1723.986316         2564.079449          20.977371   \n",
              "394  2.723054        1715.932522         2145.028276          21.777369   \n",
              "\n",
              "     spectral_rolloff   tonnetz  zero_crossing_rate  \n",
              "30        5651.499276  0.044581            0.034380  \n",
              "299       5346.094627  0.006380            0.076902  \n",
              "177       3614.533430 -0.012995            0.048412  \n",
              "204       6605.602423 -0.008132            0.060593  \n",
              "354       3969.137539  0.028177            0.032461  \n",
              "..                ...       ...                 ...  \n",
              "580      11243.396914  0.016109            0.104739  \n",
              "228       4714.088703 -0.008496            0.045999  \n",
              "84        4930.952288 -0.041075            0.042215  \n",
              "140       3207.384785  0.028411            0.031142  \n",
              "394       3725.538072 -0.012516            0.035500  \n",
              "\n",
              "[119 rows x 12 columns]"
            ],
            "text/html": [
              "\n",
              "  <div id=\"df-3f9f8828-cd53-463d-aeb1-9eb6f87986b1\">\n",
              "    <div class=\"colab-df-container\">\n",
              "      <div>\n",
              "<style scoped>\n",
              "    .dataframe tbody tr th:only-of-type {\n",
              "        vertical-align: middle;\n",
              "    }\n",
              "\n",
              "    .dataframe tbody tr th {\n",
              "        vertical-align: top;\n",
              "    }\n",
              "\n",
              "    .dataframe thead th {\n",
              "        text-align: right;\n",
              "    }\n",
              "</style>\n",
              "<table border=\"1\" class=\"dataframe\">\n",
              "  <thead>\n",
              "    <tr style=\"text-align: right;\">\n",
              "      <th></th>\n",
              "      <th>onset_strength</th>\n",
              "      <th>chroma_stft</th>\n",
              "      <th>chroma_cqt</th>\n",
              "      <th>chroma_cens</th>\n",
              "      <th>melspectrogram</th>\n",
              "      <th>mfcc</th>\n",
              "      <th>spectral_centroid</th>\n",
              "      <th>spectral_bandwidth</th>\n",
              "      <th>spectral_contrast</th>\n",
              "      <th>spectral_rolloff</th>\n",
              "      <th>tonnetz</th>\n",
              "      <th>zero_crossing_rate</th>\n",
              "    </tr>\n",
              "  </thead>\n",
              "  <tbody>\n",
              "    <tr>\n",
              "      <th>30</th>\n",
              "      <td>1.354720</td>\n",
              "      <td>0.609120</td>\n",
              "      <td>0.373124</td>\n",
              "      <td>0.216735</td>\n",
              "      <td>8.382829</td>\n",
              "      <td>1.581207</td>\n",
              "      <td>2500.902781</td>\n",
              "      <td>3308.551692</td>\n",
              "      <td>19.132942</td>\n",
              "      <td>5651.499276</td>\n",
              "      <td>0.044581</td>\n",
              "      <td>0.034380</td>\n",
              "    </tr>\n",
              "    <tr>\n",
              "      <th>299</th>\n",
              "      <td>1.502448</td>\n",
              "      <td>0.377903</td>\n",
              "      <td>0.452693</td>\n",
              "      <td>0.247739</td>\n",
              "      <td>9.228559</td>\n",
              "      <td>0.088470</td>\n",
              "      <td>2789.418964</td>\n",
              "      <td>2856.185283</td>\n",
              "      <td>21.362462</td>\n",
              "      <td>5346.094627</td>\n",
              "      <td>0.006380</td>\n",
              "      <td>0.076902</td>\n",
              "    </tr>\n",
              "    <tr>\n",
              "      <th>177</th>\n",
              "      <td>1.234227</td>\n",
              "      <td>0.347149</td>\n",
              "      <td>0.383848</td>\n",
              "      <td>0.224788</td>\n",
              "      <td>1.773748</td>\n",
              "      <td>-3.952408</td>\n",
              "      <td>1991.396384</td>\n",
              "      <td>2381.894970</td>\n",
              "      <td>22.001858</td>\n",
              "      <td>3614.533430</td>\n",
              "      <td>-0.012995</td>\n",
              "      <td>0.048412</td>\n",
              "    </tr>\n",
              "    <tr>\n",
              "      <th>204</th>\n",
              "      <td>1.438079</td>\n",
              "      <td>0.357932</td>\n",
              "      <td>0.511036</td>\n",
              "      <td>0.257713</td>\n",
              "      <td>5.892732</td>\n",
              "      <td>1.465694</td>\n",
              "      <td>2999.769963</td>\n",
              "      <td>3396.540257</td>\n",
              "      <td>21.445034</td>\n",
              "      <td>6605.602423</td>\n",
              "      <td>-0.008132</td>\n",
              "      <td>0.060593</td>\n",
              "    </tr>\n",
              "    <tr>\n",
              "      <th>354</th>\n",
              "      <td>1.227234</td>\n",
              "      <td>0.395746</td>\n",
              "      <td>0.382983</td>\n",
              "      <td>0.224339</td>\n",
              "      <td>20.534378</td>\n",
              "      <td>3.617873</td>\n",
              "      <td>1909.869175</td>\n",
              "      <td>2729.586489</td>\n",
              "      <td>20.517566</td>\n",
              "      <td>3969.137539</td>\n",
              "      <td>0.028177</td>\n",
              "      <td>0.032461</td>\n",
              "    </tr>\n",
              "    <tr>\n",
              "      <th>...</th>\n",
              "      <td>...</td>\n",
              "      <td>...</td>\n",
              "      <td>...</td>\n",
              "      <td>...</td>\n",
              "      <td>...</td>\n",
              "      <td>...</td>\n",
              "      <td>...</td>\n",
              "      <td>...</td>\n",
              "      <td>...</td>\n",
              "      <td>...</td>\n",
              "      <td>...</td>\n",
              "      <td>...</td>\n",
              "    </tr>\n",
              "    <tr>\n",
              "      <th>580</th>\n",
              "      <td>1.781345</td>\n",
              "      <td>0.436791</td>\n",
              "      <td>0.654907</td>\n",
              "      <td>0.277945</td>\n",
              "      <td>23.136932</td>\n",
              "      <td>6.739148</td>\n",
              "      <td>5376.722796</td>\n",
              "      <td>5083.763575</td>\n",
              "      <td>18.828939</td>\n",
              "      <td>11243.396914</td>\n",
              "      <td>0.016109</td>\n",
              "      <td>0.104739</td>\n",
              "    </tr>\n",
              "    <tr>\n",
              "      <th>228</th>\n",
              "      <td>1.446344</td>\n",
              "      <td>0.344111</td>\n",
              "      <td>0.477638</td>\n",
              "      <td>0.250160</td>\n",
              "      <td>9.170692</td>\n",
              "      <td>2.448629</td>\n",
              "      <td>2335.858281</td>\n",
              "      <td>3057.056229</td>\n",
              "      <td>21.375140</td>\n",
              "      <td>4714.088703</td>\n",
              "      <td>-0.008496</td>\n",
              "      <td>0.045999</td>\n",
              "    </tr>\n",
              "    <tr>\n",
              "      <th>84</th>\n",
              "      <td>1.326330</td>\n",
              "      <td>0.397440</td>\n",
              "      <td>0.375701</td>\n",
              "      <td>0.218782</td>\n",
              "      <td>18.590418</td>\n",
              "      <td>1.758704</td>\n",
              "      <td>2303.929357</td>\n",
              "      <td>2943.672409</td>\n",
              "      <td>20.205525</td>\n",
              "      <td>4930.952288</td>\n",
              "      <td>-0.041075</td>\n",
              "      <td>0.042215</td>\n",
              "    </tr>\n",
              "    <tr>\n",
              "      <th>140</th>\n",
              "      <td>1.264677</td>\n",
              "      <td>0.295499</td>\n",
              "      <td>0.381218</td>\n",
              "      <td>0.224301</td>\n",
              "      <td>4.388995</td>\n",
              "      <td>-3.010536</td>\n",
              "      <td>1723.986316</td>\n",
              "      <td>2564.079449</td>\n",
              "      <td>20.977371</td>\n",
              "      <td>3207.384785</td>\n",
              "      <td>0.028411</td>\n",
              "      <td>0.031142</td>\n",
              "    </tr>\n",
              "    <tr>\n",
              "      <th>394</th>\n",
              "      <td>1.470279</td>\n",
              "      <td>0.403312</td>\n",
              "      <td>0.404667</td>\n",
              "      <td>0.236443</td>\n",
              "      <td>9.217032</td>\n",
              "      <td>2.723054</td>\n",
              "      <td>1715.932522</td>\n",
              "      <td>2145.028276</td>\n",
              "      <td>21.777369</td>\n",
              "      <td>3725.538072</td>\n",
              "      <td>-0.012516</td>\n",
              "      <td>0.035500</td>\n",
              "    </tr>\n",
              "  </tbody>\n",
              "</table>\n",
              "<p>119 rows × 12 columns</p>\n",
              "</div>\n",
              "      <button class=\"colab-df-convert\" onclick=\"convertToInteractive('df-3f9f8828-cd53-463d-aeb1-9eb6f87986b1')\"\n",
              "              title=\"Convert this dataframe to an interactive table.\"\n",
              "              style=\"display:none;\">\n",
              "        \n",
              "  <svg xmlns=\"http://www.w3.org/2000/svg\" height=\"24px\"viewBox=\"0 0 24 24\"\n",
              "       width=\"24px\">\n",
              "    <path d=\"M0 0h24v24H0V0z\" fill=\"none\"/>\n",
              "    <path d=\"M18.56 5.44l.94 2.06.94-2.06 2.06-.94-2.06-.94-.94-2.06-.94 2.06-2.06.94zm-11 1L8.5 8.5l.94-2.06 2.06-.94-2.06-.94L8.5 2.5l-.94 2.06-2.06.94zm10 10l.94 2.06.94-2.06 2.06-.94-2.06-.94-.94-2.06-.94 2.06-2.06.94z\"/><path d=\"M17.41 7.96l-1.37-1.37c-.4-.4-.92-.59-1.43-.59-.52 0-1.04.2-1.43.59L10.3 9.45l-7.72 7.72c-.78.78-.78 2.05 0 2.83L4 21.41c.39.39.9.59 1.41.59.51 0 1.02-.2 1.41-.59l7.78-7.78 2.81-2.81c.8-.78.8-2.07 0-2.86zM5.41 20L4 18.59l7.72-7.72 1.47 1.35L5.41 20z\"/>\n",
              "  </svg>\n",
              "      </button>\n",
              "      \n",
              "  <style>\n",
              "    .colab-df-container {\n",
              "      display:flex;\n",
              "      flex-wrap:wrap;\n",
              "      gap: 12px;\n",
              "    }\n",
              "\n",
              "    .colab-df-convert {\n",
              "      background-color: #E8F0FE;\n",
              "      border: none;\n",
              "      border-radius: 50%;\n",
              "      cursor: pointer;\n",
              "      display: none;\n",
              "      fill: #1967D2;\n",
              "      height: 32px;\n",
              "      padding: 0 0 0 0;\n",
              "      width: 32px;\n",
              "    }\n",
              "\n",
              "    .colab-df-convert:hover {\n",
              "      background-color: #E2EBFA;\n",
              "      box-shadow: 0px 1px 2px rgba(60, 64, 67, 0.3), 0px 1px 3px 1px rgba(60, 64, 67, 0.15);\n",
              "      fill: #174EA6;\n",
              "    }\n",
              "\n",
              "    [theme=dark] .colab-df-convert {\n",
              "      background-color: #3B4455;\n",
              "      fill: #D2E3FC;\n",
              "    }\n",
              "\n",
              "    [theme=dark] .colab-df-convert:hover {\n",
              "      background-color: #434B5C;\n",
              "      box-shadow: 0px 1px 3px 1px rgba(0, 0, 0, 0.15);\n",
              "      filter: drop-shadow(0px 1px 2px rgba(0, 0, 0, 0.3));\n",
              "      fill: #FFFFFF;\n",
              "    }\n",
              "  </style>\n",
              "\n",
              "      <script>\n",
              "        const buttonEl =\n",
              "          document.querySelector('#df-3f9f8828-cd53-463d-aeb1-9eb6f87986b1 button.colab-df-convert');\n",
              "        buttonEl.style.display =\n",
              "          google.colab.kernel.accessAllowed ? 'block' : 'none';\n",
              "\n",
              "        async function convertToInteractive(key) {\n",
              "          const element = document.querySelector('#df-3f9f8828-cd53-463d-aeb1-9eb6f87986b1');\n",
              "          const dataTable =\n",
              "            await google.colab.kernel.invokeFunction('convertToInteractive',\n",
              "                                                     [key], {});\n",
              "          if (!dataTable) return;\n",
              "\n",
              "          const docLinkHtml = 'Like what you see? Visit the ' +\n",
              "            '<a target=\"_blank\" href=https://colab.research.google.com/notebooks/data_table.ipynb>data table notebook</a>'\n",
              "            + ' to learn more about interactive tables.';\n",
              "          element.innerHTML = '';\n",
              "          dataTable['output_type'] = 'display_data';\n",
              "          await google.colab.output.renderOutput(dataTable, element);\n",
              "          const docLink = document.createElement('div');\n",
              "          docLink.innerHTML = docLinkHtml;\n",
              "          element.appendChild(docLink);\n",
              "        }\n",
              "      </script>\n",
              "    </div>\n",
              "  </div>\n",
              "  "
            ]
          },
          "metadata": {},
          "execution_count": 44
        }
      ]
    },
    {
      "cell_type": "code",
      "source": [
        "import lightgbm as lgb\n",
        "clf = lgb.LGBMClassifier(boosting_type='gbdt', learning_rate=0.2, min_child_samples=20)\n",
        "clf.fit(X_train, y_train)"
      ],
      "metadata": {
        "colab": {
          "base_uri": "https://localhost:8080/",
          "height": 74
        },
        "id": "eEAxzvyfp7EF",
        "outputId": "16ec354e-aaf7-4c07-8761-1f8ee749f454"
      },
      "execution_count": null,
      "outputs": [
        {
          "output_type": "execute_result",
          "data": {
            "text/plain": [
              "LGBMClassifier(learning_rate=0.2)"
            ],
            "text/html": [
              "<style>#sk-container-id-1 {color: black;background-color: white;}#sk-container-id-1 pre{padding: 0;}#sk-container-id-1 div.sk-toggleable {background-color: white;}#sk-container-id-1 label.sk-toggleable__label {cursor: pointer;display: block;width: 100%;margin-bottom: 0;padding: 0.3em;box-sizing: border-box;text-align: center;}#sk-container-id-1 label.sk-toggleable__label-arrow:before {content: \"▸\";float: left;margin-right: 0.25em;color: #696969;}#sk-container-id-1 label.sk-toggleable__label-arrow:hover:before {color: black;}#sk-container-id-1 div.sk-estimator:hover label.sk-toggleable__label-arrow:before {color: black;}#sk-container-id-1 div.sk-toggleable__content {max-height: 0;max-width: 0;overflow: hidden;text-align: left;background-color: #f0f8ff;}#sk-container-id-1 div.sk-toggleable__content pre {margin: 0.2em;color: black;border-radius: 0.25em;background-color: #f0f8ff;}#sk-container-id-1 input.sk-toggleable__control:checked~div.sk-toggleable__content {max-height: 200px;max-width: 100%;overflow: auto;}#sk-container-id-1 input.sk-toggleable__control:checked~label.sk-toggleable__label-arrow:before {content: \"▾\";}#sk-container-id-1 div.sk-estimator input.sk-toggleable__control:checked~label.sk-toggleable__label {background-color: #d4ebff;}#sk-container-id-1 div.sk-label input.sk-toggleable__control:checked~label.sk-toggleable__label {background-color: #d4ebff;}#sk-container-id-1 input.sk-hidden--visually {border: 0;clip: rect(1px 1px 1px 1px);clip: rect(1px, 1px, 1px, 1px);height: 1px;margin: -1px;overflow: hidden;padding: 0;position: absolute;width: 1px;}#sk-container-id-1 div.sk-estimator {font-family: monospace;background-color: #f0f8ff;border: 1px dotted black;border-radius: 0.25em;box-sizing: border-box;margin-bottom: 0.5em;}#sk-container-id-1 div.sk-estimator:hover {background-color: #d4ebff;}#sk-container-id-1 div.sk-parallel-item::after {content: \"\";width: 100%;border-bottom: 1px solid gray;flex-grow: 1;}#sk-container-id-1 div.sk-label:hover label.sk-toggleable__label {background-color: #d4ebff;}#sk-container-id-1 div.sk-serial::before {content: \"\";position: absolute;border-left: 1px solid gray;box-sizing: border-box;top: 0;bottom: 0;left: 50%;z-index: 0;}#sk-container-id-1 div.sk-serial {display: flex;flex-direction: column;align-items: center;background-color: white;padding-right: 0.2em;padding-left: 0.2em;position: relative;}#sk-container-id-1 div.sk-item {position: relative;z-index: 1;}#sk-container-id-1 div.sk-parallel {display: flex;align-items: stretch;justify-content: center;background-color: white;position: relative;}#sk-container-id-1 div.sk-item::before, #sk-container-id-1 div.sk-parallel-item::before {content: \"\";position: absolute;border-left: 1px solid gray;box-sizing: border-box;top: 0;bottom: 0;left: 50%;z-index: -1;}#sk-container-id-1 div.sk-parallel-item {display: flex;flex-direction: column;z-index: 1;position: relative;background-color: white;}#sk-container-id-1 div.sk-parallel-item:first-child::after {align-self: flex-end;width: 50%;}#sk-container-id-1 div.sk-parallel-item:last-child::after {align-self: flex-start;width: 50%;}#sk-container-id-1 div.sk-parallel-item:only-child::after {width: 0;}#sk-container-id-1 div.sk-dashed-wrapped {border: 1px dashed gray;margin: 0 0.4em 0.5em 0.4em;box-sizing: border-box;padding-bottom: 0.4em;background-color: white;}#sk-container-id-1 div.sk-label label {font-family: monospace;font-weight: bold;display: inline-block;line-height: 1.2em;}#sk-container-id-1 div.sk-label-container {text-align: center;}#sk-container-id-1 div.sk-container {/* jupyter's `normalize.less` sets `[hidden] { display: none; }` but bootstrap.min.css set `[hidden] { display: none !important; }` so we also need the `!important` here to be able to override the default hidden behavior on the sphinx rendered scikit-learn.org. See: https://github.com/scikit-learn/scikit-learn/issues/21755 */display: inline-block !important;position: relative;}#sk-container-id-1 div.sk-text-repr-fallback {display: none;}</style><div id=\"sk-container-id-1\" class=\"sk-top-container\"><div class=\"sk-text-repr-fallback\"><pre>LGBMClassifier(learning_rate=0.2)</pre><b>In a Jupyter environment, please rerun this cell to show the HTML representation or trust the notebook. <br />On GitHub, the HTML representation is unable to render, please try loading this page with nbviewer.org.</b></div><div class=\"sk-container\" hidden><div class=\"sk-item\"><div class=\"sk-estimator sk-toggleable\"><input class=\"sk-toggleable__control sk-hidden--visually\" id=\"sk-estimator-id-1\" type=\"checkbox\" checked><label for=\"sk-estimator-id-1\" class=\"sk-toggleable__label sk-toggleable__label-arrow\">LGBMClassifier</label><div class=\"sk-toggleable__content\"><pre>LGBMClassifier(learning_rate=0.2)</pre></div></div></div></div></div>"
            ]
          },
          "metadata": {},
          "execution_count": 45
        }
      ]
    },
    {
      "cell_type": "code",
      "source": [
        "y_pred=clf.predict(X_test)\n",
        "print(y_pred)\n",
        "print(y_test)"
      ],
      "metadata": {
        "colab": {
          "base_uri": "https://localhost:8080/"
        },
        "id": "UJRwkYPrp-cp",
        "outputId": "66ccccd8-a517-4f6e-ae07-8050cb9a46ab"
      },
      "execution_count": null,
      "outputs": [
        {
          "output_type": "stream",
          "name": "stdout",
          "text": [
            "[0 6 1 2 4 2 4 6 0 2 1 0 4 4 5 2 4 5 0 2 0 5 0 4 2 6 5 2 5 0 6 6 0 2 1 5 4\n",
            " 5 1 3 2 3 0 6 4 4 4 1 6 3 2 6 4 1 0 1 6 0 4 0 6 6 0 4 2 6 4 6 6 3 3 4 4 0\n",
            " 0 0 5 6 2 6 4 4 0 5 6 2 0 0 2 0 0 6 1 6 0 5 5 2 1 5 1 5 1 0 2 3 6 6 1 0 2\n",
            " 1 1 4 6 2 0 1 4]\n",
            "30     0\n",
            "299    3\n",
            "177    1\n",
            "204    2\n",
            "354    4\n",
            "      ..\n",
            "580    6\n",
            "228    2\n",
            "84     0\n",
            "140    1\n",
            "394    4\n",
            "Name: labels, Length: 119, dtype: int64\n"
          ]
        }
      ]
    },
    {
      "cell_type": "code",
      "source": [
        "from sklearn.metrics import accuracy_score, classification_report\n",
        "accuracy=accuracy_score(y_pred, y_test)\n",
        "print('LightGBM Model accuracy score: {0:0.4f}'.format(accuracy_score(y_test, y_pred)))"
      ],
      "metadata": {
        "colab": {
          "base_uri": "https://localhost:8080/"
        },
        "id": "425IJte7qB7-",
        "outputId": "f3874218-fec6-4604-e1be-86d3af4dc007"
      },
      "execution_count": null,
      "outputs": [
        {
          "output_type": "stream",
          "name": "stdout",
          "text": [
            "LightGBM Model accuracy score: 0.6471\n"
          ]
        }
      ]
    },
    {
      "cell_type": "code",
      "source": [
        "import pickle\n",
        "filename = 'Best_GBM.pkl'\n",
        "pickle.dump(clf.fit, open(filename, 'wb'))"
      ],
      "metadata": {
        "id": "0txkdWTwqKvq"
      },
      "execution_count": null,
      "outputs": []
    },
    {
      "cell_type": "code",
      "source": [
        "y_test[10:15]"
      ],
      "metadata": {
        "colab": {
          "base_uri": "https://localhost:8080/"
        },
        "id": "voC4MreYwuMJ",
        "outputId": "eb2cce85-6dde-4a29-82f6-26b4c433ebb4"
      },
      "execution_count": null,
      "outputs": [
        {
          "output_type": "execute_result",
          "data": {
            "text/plain": [
              "137    1\n",
              "29     0\n",
              "353    4\n",
              "368    4\n",
              "101    1\n",
              "Name: labels, dtype: int64"
            ]
          },
          "metadata": {},
          "execution_count": 63
        }
      ]
    },
    {
      "cell_type": "code",
      "source": [
        "y_pred[10:30]"
      ],
      "metadata": {
        "colab": {
          "base_uri": "https://localhost:8080/"
        },
        "id": "zvtqvRQlzskw",
        "outputId": "dbf7fa03-cc77-4f02-dddc-928c21a08a39"
      },
      "execution_count": null,
      "outputs": [
        {
          "output_type": "execute_result",
          "data": {
            "text/plain": [
              "array([1, 0, 4, 4, 5, 2, 4, 5, 0, 2, 0, 5, 0, 4, 2, 6, 5, 2, 5, 0])"
            ]
          },
          "metadata": {},
          "execution_count": 64
        }
      ]
    },
    {
      "cell_type": "code",
      "source": [
        "y_test.iloc[4]"
      ],
      "metadata": {
        "colab": {
          "base_uri": "https://localhost:8080/"
        },
        "id": "OoLFiOLrx_bD",
        "outputId": "7df13964-a596-463e-f844-003bf36079cb"
      },
      "execution_count": null,
      "outputs": [
        {
          "output_type": "execute_result",
          "data": {
            "text/plain": [
              "4"
            ]
          },
          "metadata": {},
          "execution_count": 65
        }
      ]
    },
    {
      "cell_type": "code",
      "source": [
        "y_pred[4]"
      ],
      "metadata": {
        "colab": {
          "base_uri": "https://localhost:8080/"
        },
        "id": "J2hIl2y2yCa5",
        "outputId": "2566201a-41b8-49c8-a152-721133b70f76"
      },
      "execution_count": null,
      "outputs": [
        {
          "output_type": "execute_result",
          "data": {
            "text/plain": [
              "4"
            ]
          },
          "metadata": {},
          "execution_count": 66
        }
      ]
    },
    {
      "cell_type": "markdown",
      "source": [
        "# Testing for new songs"
      ],
      "metadata": {
        "id": "BbnvfJGeZxi5"
      }
    },
    {
      "cell_type": "code",
      "source": [
        "pip freeze | grep librosa"
      ],
      "metadata": {
        "colab": {
          "base_uri": "https://localhost:8080/"
        },
        "id": "ChengQDYqg6r",
        "outputId": "6c548950-2e7b-4d7b-dafa-365d18adccb5"
      },
      "execution_count": null,
      "outputs": [
        {
          "output_type": "stream",
          "name": "stdout",
          "text": [
            "librosa==0.10.0.post2\n"
          ]
        }
      ]
    },
    {
      "cell_type": "code",
      "source": [
        "pip install librosa==0.8.1"
      ],
      "metadata": {
        "colab": {
          "base_uri": "https://localhost:8080/"
        },
        "id": "PkeoCMYk2v-l",
        "outputId": "c86bacf4-12d2-49b1-b156-2d035e7304ee"
      },
      "execution_count": null,
      "outputs": [
        {
          "output_type": "stream",
          "name": "stdout",
          "text": [
            "Looking in indexes: https://pypi.org/simple, https://us-python.pkg.dev/colab-wheels/public/simple/\n",
            "Collecting librosa==0.8.1\n",
            "  Downloading librosa-0.8.1-py3-none-any.whl (203 kB)\n",
            "\u001b[2K     \u001b[90m━━━━━━━━━━━━━━━━━━━━━━━━━━━━━━━━━━━━━━━\u001b[0m \u001b[32m203.8/203.8 KB\u001b[0m \u001b[31m3.0 MB/s\u001b[0m eta \u001b[36m0:00:00\u001b[0m\n",
            "\u001b[?25hCollecting resampy>=0.2.2\n",
            "  Downloading resampy-0.4.2-py3-none-any.whl (3.1 MB)\n",
            "\u001b[2K     \u001b[90m━━━━━━━━━━━━━━━━━━━━━━━━━━━━━━━━━━━━━━━━\u001b[0m \u001b[32m3.1/3.1 MB\u001b[0m \u001b[31m37.2 MB/s\u001b[0m eta \u001b[36m0:00:00\u001b[0m\n",
            "\u001b[?25hRequirement already satisfied: audioread>=2.0.0 in /usr/local/lib/python3.9/dist-packages (from librosa==0.8.1) (3.0.0)\n",
            "Requirement already satisfied: scikit-learn!=0.19.0,>=0.14.0 in /usr/local/lib/python3.9/dist-packages (from librosa==0.8.1) (1.2.2)\n",
            "Requirement already satisfied: scipy>=1.0.0 in /usr/local/lib/python3.9/dist-packages (from librosa==0.8.1) (1.10.1)\n",
            "Requirement already satisfied: soundfile>=0.10.2 in /usr/local/lib/python3.9/dist-packages (from librosa==0.8.1) (0.12.1)\n",
            "Requirement already satisfied: numba>=0.43.0 in /usr/local/lib/python3.9/dist-packages (from librosa==0.8.1) (0.56.4)\n",
            "Requirement already satisfied: joblib>=0.14 in /usr/local/lib/python3.9/dist-packages (from librosa==0.8.1) (1.1.1)\n",
            "Requirement already satisfied: numpy>=1.15.0 in /usr/local/lib/python3.9/dist-packages (from librosa==0.8.1) (1.22.4)\n",
            "Requirement already satisfied: packaging>=20.0 in /usr/local/lib/python3.9/dist-packages (from librosa==0.8.1) (23.0)\n",
            "Requirement already satisfied: decorator>=3.0.0 in /usr/local/lib/python3.9/dist-packages (from librosa==0.8.1) (4.4.2)\n",
            "Requirement already satisfied: pooch>=1.0 in /usr/local/lib/python3.9/dist-packages (from librosa==0.8.1) (1.6.0)\n",
            "Requirement already satisfied: setuptools in /usr/local/lib/python3.9/dist-packages (from numba>=0.43.0->librosa==0.8.1) (67.6.0)\n",
            "Requirement already satisfied: llvmlite<0.40,>=0.39.0dev0 in /usr/local/lib/python3.9/dist-packages (from numba>=0.43.0->librosa==0.8.1) (0.39.1)\n",
            "Requirement already satisfied: requests>=2.19.0 in /usr/local/lib/python3.9/dist-packages (from pooch>=1.0->librosa==0.8.1) (2.27.1)\n",
            "Requirement already satisfied: appdirs>=1.3.0 in /usr/local/lib/python3.9/dist-packages (from pooch>=1.0->librosa==0.8.1) (1.4.4)\n",
            "Requirement already satisfied: threadpoolctl>=2.0.0 in /usr/local/lib/python3.9/dist-packages (from scikit-learn!=0.19.0,>=0.14.0->librosa==0.8.1) (3.1.0)\n",
            "Requirement already satisfied: cffi>=1.0 in /usr/local/lib/python3.9/dist-packages (from soundfile>=0.10.2->librosa==0.8.1) (1.15.1)\n",
            "Requirement already satisfied: pycparser in /usr/local/lib/python3.9/dist-packages (from cffi>=1.0->soundfile>=0.10.2->librosa==0.8.1) (2.21)\n",
            "Requirement already satisfied: certifi>=2017.4.17 in /usr/local/lib/python3.9/dist-packages (from requests>=2.19.0->pooch>=1.0->librosa==0.8.1) (2022.12.7)\n",
            "Requirement already satisfied: idna<4,>=2.5 in /usr/local/lib/python3.9/dist-packages (from requests>=2.19.0->pooch>=1.0->librosa==0.8.1) (3.4)\n",
            "Requirement already satisfied: charset-normalizer~=2.0.0 in /usr/local/lib/python3.9/dist-packages (from requests>=2.19.0->pooch>=1.0->librosa==0.8.1) (2.0.12)\n",
            "Requirement already satisfied: urllib3<1.27,>=1.21.1 in /usr/local/lib/python3.9/dist-packages (from requests>=2.19.0->pooch>=1.0->librosa==0.8.1) (1.26.15)\n",
            "Installing collected packages: resampy, librosa\n",
            "  Attempting uninstall: librosa\n",
            "    Found existing installation: librosa 0.10.0.post2\n",
            "    Uninstalling librosa-0.10.0.post2:\n",
            "      Successfully uninstalled librosa-0.10.0.post2\n",
            "Successfully installed librosa-0.8.1 resampy-0.4.2\n"
          ]
        }
      ]
    },
    {
      "cell_type": "code",
      "source": [
        "import librosa\n",
        "from librosa import feature"
      ],
      "metadata": {
        "id": "JxaxW2IQ2864"
      },
      "execution_count": null,
      "outputs": []
    },
    {
      "cell_type": "code",
      "source": [
        "fn_list_i = [ \n",
        "    librosa.onset.onset_strength,            \n",
        "    feature.chroma_stft,                       \n",
        "    feature.chroma_cqt,\n",
        "    feature.chroma_cens,\n",
        "    feature.melspectrogram,\n",
        "    feature.mfcc,\n",
        "    feature.spectral_centroid,\n",
        "    feature.spectral_bandwidth,\n",
        "    feature.spectral_contrast,\n",
        "    feature.spectral_rolloff,\n",
        "    feature.tonnetz\n",
        "]\n",
        "\n",
        "fn_list_ii = [\n",
        "    feature.zero_crossing_rate\n",
        "]\n",
        "\n",
        "def get_feature_vector(y,sr): \n",
        "   feat_vect_i = [ np.mean(funct(y, sr)) for funct in fn_list_i]\n",
        "   feat_vect_ii = [ np.mean(funct(y)) for funct in fn_list_ii] \n",
        "   feature_vector = feat_vect_i + feat_vect_ii \n",
        "   return feature_vector"
      ],
      "metadata": {
        "id": "QJEnrvha_8oy"
      },
      "execution_count": null,
      "outputs": []
    },
    {
      "cell_type": "code",
      "source": [
        "# cd '/content/drive/MyDrive/Dataset/OPUS test files'\n",
        "# !cd '/content/drive/MyDrive/IR_Project_Music/Songs/Test data'\n",
        "!cd '/content/drive/MyDrive/IR_Project_Music/OPUS test files/'"
      ],
      "metadata": {
        "id": "EyBgdvq_Z3vC"
      },
      "execution_count": null,
      "outputs": []
    },
    {
      "cell_type": "code",
      "source": [
        "ls"
      ],
      "metadata": {
        "colab": {
          "base_uri": "https://localhost:8080/"
        },
        "id": "md7SoDI48nGs",
        "outputId": "32851420-b4ec-4dd6-a1f5-33c4899c9841"
      },
      "execution_count": null,
      "outputs": [
        {
          "output_type": "stream",
          "name": "stdout",
          "text": [
            "\u001b[0m\u001b[01;34mdrive\u001b[0m/  \u001b[01;34msample_data\u001b[0m/\n"
          ]
        }
      ]
    },
    {
      "cell_type": "code",
      "source": [
        "import librosa\n",
        "from librosa import feature\n",
        "from glob import glob"
      ],
      "metadata": {
        "id": "DIru9yjT8ows"
      },
      "execution_count": null,
      "outputs": []
    },
    {
      "cell_type": "code",
      "source": [
        "ls | wc -l"
      ],
      "metadata": {
        "colab": {
          "base_uri": "https://localhost:8080/"
        },
        "id": "s9H8KiFk_Tyc",
        "outputId": "27700648-e1b6-479b-c465-934de2d3ccce"
      },
      "execution_count": null,
      "outputs": [
        {
          "output_type": "stream",
          "name": "stdout",
          "text": [
            "2\n"
          ]
        }
      ]
    },
    {
      "cell_type": "code",
      "execution_count": null,
      "metadata": {
        "id": "QQR3Bt4UN-rJ"
      },
      "outputs": [],
      "source": [
        "# cd '/content/drive/MyDrive/IR_Project_Music/Songs/Test data'"
      ]
    },
    {
      "cell_type": "code",
      "source": [
        "from glob import glob"
      ],
      "metadata": {
        "id": "LD2J3wguF6PU"
      },
      "execution_count": null,
      "outputs": []
    },
    {
      "cell_type": "code",
      "source": [
        "test_files = glob('/content/drive/MyDrive/IR_Project_Music/OPUS test files/*.opus')\n",
        "test_files"
      ],
      "metadata": {
        "colab": {
          "base_uri": "https://localhost:8080/"
        },
        "id": "DVMupMgeDH0H",
        "outputId": "4b351318-ba91-4f8c-9452-45e37d413e18"
      },
      "execution_count": null,
      "outputs": [
        {
          "output_type": "execute_result",
          "data": {
            "text/plain": [
              "['/content/drive/MyDrive/IR_Project_Music/OPUS test files/BAARISHEIN-_Studio_-Anuv-Jain.opus',\n",
              " '/content/drive/MyDrive/IR_Project_Music/OPUS test files/Kehna-Hi-Kya-_-Bombay-_-Sanah-Moidutty.opus',\n",
              " '/content/drive/MyDrive/IR_Project_Music/OPUS test files/Matkar-Maya-Ko-Ahankar-_Audio_-By-Neeraj-Arya_s-Kabir-Cafe-From-Album-Panchrang.opus',\n",
              " '/content/drive/MyDrive/IR_Project_Music/OPUS test files/Mero-Mann-Lagyo-Vrindavan-Mein-_-Krishna-Bhajan-Maanya-Arora-_-Latest-Bhajan-2023.opus',\n",
              " '/content/drive/MyDrive/IR_Project_Music/OPUS test files/PATWARI-2-_-New-Garhwali-Song-2023-_-Rohit-Chauhan-_-Raj-Tiger-New-Gadwali-Song-2023.opus',\n",
              " '/content/drive/MyDrive/IR_Project_Music/OPUS test files/Pawan-Singh-_-अंखिया-मिलाओ-_-Palak-Muchhal-_-Ankhiya-Milao-_-Madhu-Sharma-_-New-Bhojpuri-Song-2022.opus',\n",
              " '/content/drive/MyDrive/IR_Project_Music/OPUS test files/RadhaKrishn-_-Samay-Samjhayega-_-Surya-Raj-Kamal-_.opus',\n",
              " '/content/drive/MyDrive/IR_Project_Music/OPUS test files/Ranjha-Lyric-Video-Shershaah-Sid.opus',\n",
              " '/content/drive/MyDrive/IR_Project_Music/OPUS test files/Soulful-Ghazal-Hariharan-Live-at.opus',\n",
              " '/content/drive/MyDrive/IR_Project_Music/OPUS test files/Abhijeet Srivastava - Chashni (From Bharat).opus',\n",
              " '/content/drive/MyDrive/IR_Project_Music/OPUS test files/Abida Parveen - Aaqa - Coke Studio Season 9.opus',\n",
              " '/content/drive/MyDrive/IR_Project_Music/OPUS test files/Akhil - Duniyaa.opus',\n",
              " '/content/drive/MyDrive/IR_Project_Music/OPUS test files/Bohemia - Lak Da Hulara.opus',\n",
              " '/content/drive/MyDrive/IR_Project_Music/OPUS test files/Guru Randhawa - Lahore - Remix(Remix By Dj Shadow Dubai).opus',\n",
              " '/content/drive/MyDrive/IR_Project_Music/OPUS test files/SalimSulaiman - Saaiyaan.opus',\n",
              " '/content/drive/MyDrive/IR_Project_Music/OPUS test files/Sidhu Moose Wala - Boss.opus',\n",
              " '/content/drive/MyDrive/IR_Project_Music/OPUS test files/Apna-Time-Aayega-Gully-Boy-Ranveer-Singh-_-Alia-Bhatt-DIVINE-Dub-Sharma-Zoya-Akhtar.opus']"
            ]
          },
          "metadata": {},
          "execution_count": 25
        }
      ]
    },
    {
      "cell_type": "code",
      "source": [
        "columns = [\"Song_Name\", \"onset_strength\", \"chroma_stft\", \"chroma_cqt\", \"chroma_cens\", \"melspectrogram\", \"mfcc\",\t\n",
        "           \"spectral_centroid\" ,\"spectral_bandwidth\", \"spectral_contrast\", \"spectral_rolloff\",\t\"tonnetz\", \"zero_crossing_rate\"]"
      ],
      "metadata": {
        "id": "cDaEZc7rAy7z"
      },
      "execution_count": null,
      "outputs": []
    },
    {
      "cell_type": "code",
      "source": [
        "from google.colab import files"
      ],
      "metadata": {
        "id": "JvMHHISzA39E"
      },
      "execution_count": null,
      "outputs": []
    },
    {
      "cell_type": "code",
      "source": [
        "test_files[-2:]"
      ],
      "metadata": {
        "colab": {
          "base_uri": "https://localhost:8080/"
        },
        "id": "IR31sKamyuXA",
        "outputId": "3f0a5c34-8614-4090-a573-88c1920da12f"
      },
      "execution_count": null,
      "outputs": [
        {
          "output_type": "execute_result",
          "data": {
            "text/plain": [
              "['/content/drive/MyDrive/IR_Project_Music/OPUS test files/Sidhu Moose Wala - Boss.opus',\n",
              " '/content/drive/MyDrive/IR_Project_Music/OPUS test files/Apna-Time-Aayega-Gully-Boy-Ranveer-Singh-_-Alia-Bhatt-DIVINE-Dub-Sharma-Zoya-Akhtar.opus']"
            ]
          },
          "metadata": {},
          "execution_count": 28
        }
      ]
    },
    {
      "cell_type": "code",
      "source": [
        "song_features = []\n",
        "for file in test_files:\n",
        "  '''\n",
        "  y is the time series array of the audio file, a 1D np.ndarray\n",
        "  sr is the sampling rate, a number\n",
        "  '''  \n",
        "  y,sr = librosa.load(file,sr=None)   \n",
        "  feature_vector = get_feature_vector(y, sr)\n",
        "  song_features.append([file] + feature_vector)\n",
        "df = pd.DataFrame(song_features, columns=columns)\n",
        "file_name = 'test_file_features.csv'\n",
        "df.to_csv(file_name)\n",
        "files.download(file_name)"
      ],
      "metadata": {
        "colab": {
          "base_uri": "https://localhost:8080/",
          "height": 272
        },
        "id": "fe-fM6rtA57U",
        "outputId": "194c495b-e914-4ffa-f820-93d7da11e120"
      },
      "execution_count": null,
      "outputs": [
        {
          "output_type": "stream",
          "name": "stderr",
          "text": [
            "/usr/local/lib/python3.9/dist-packages/librosa/core/audio.py:165: UserWarning: PySoundFile failed. Trying audioread instead.\n",
            "  warnings.warn(\"PySoundFile failed. Trying audioread instead.\")\n",
            "/usr/local/lib/python3.9/dist-packages/librosa/core/audio.py:165: UserWarning: PySoundFile failed. Trying audioread instead.\n",
            "  warnings.warn(\"PySoundFile failed. Trying audioread instead.\")\n",
            "/usr/local/lib/python3.9/dist-packages/librosa/core/audio.py:165: UserWarning: PySoundFile failed. Trying audioread instead.\n",
            "  warnings.warn(\"PySoundFile failed. Trying audioread instead.\")\n",
            "/usr/local/lib/python3.9/dist-packages/librosa/core/audio.py:165: UserWarning: PySoundFile failed. Trying audioread instead.\n",
            "  warnings.warn(\"PySoundFile failed. Trying audioread instead.\")\n",
            "/usr/local/lib/python3.9/dist-packages/librosa/core/audio.py:165: UserWarning: PySoundFile failed. Trying audioread instead.\n",
            "  warnings.warn(\"PySoundFile failed. Trying audioread instead.\")\n",
            "/usr/local/lib/python3.9/dist-packages/librosa/core/audio.py:165: UserWarning: PySoundFile failed. Trying audioread instead.\n",
            "  warnings.warn(\"PySoundFile failed. Trying audioread instead.\")\n",
            "/usr/local/lib/python3.9/dist-packages/librosa/core/audio.py:165: UserWarning: PySoundFile failed. Trying audioread instead.\n",
            "  warnings.warn(\"PySoundFile failed. Trying audioread instead.\")\n"
          ]
        },
        {
          "output_type": "display_data",
          "data": {
            "text/plain": [
              "<IPython.core.display.Javascript object>"
            ],
            "application/javascript": [
              "\n",
              "    async function download(id, filename, size) {\n",
              "      if (!google.colab.kernel.accessAllowed) {\n",
              "        return;\n",
              "      }\n",
              "      const div = document.createElement('div');\n",
              "      const label = document.createElement('label');\n",
              "      label.textContent = `Downloading \"${filename}\": `;\n",
              "      div.appendChild(label);\n",
              "      const progress = document.createElement('progress');\n",
              "      progress.max = size;\n",
              "      div.appendChild(progress);\n",
              "      document.body.appendChild(div);\n",
              "\n",
              "      const buffers = [];\n",
              "      let downloaded = 0;\n",
              "\n",
              "      const channel = await google.colab.kernel.comms.open(id);\n",
              "      // Send a message to notify the kernel that we're ready.\n",
              "      channel.send({})\n",
              "\n",
              "      for await (const message of channel.messages) {\n",
              "        // Send a message to notify the kernel that we're ready.\n",
              "        channel.send({})\n",
              "        if (message.buffers) {\n",
              "          for (const buffer of message.buffers) {\n",
              "            buffers.push(buffer);\n",
              "            downloaded += buffer.byteLength;\n",
              "            progress.value = downloaded;\n",
              "          }\n",
              "        }\n",
              "      }\n",
              "      const blob = new Blob(buffers, {type: 'application/binary'});\n",
              "      const a = document.createElement('a');\n",
              "      a.href = window.URL.createObjectURL(blob);\n",
              "      a.download = filename;\n",
              "      div.appendChild(a);\n",
              "      a.click();\n",
              "      div.remove();\n",
              "    }\n",
              "  "
            ]
          },
          "metadata": {}
        },
        {
          "output_type": "display_data",
          "data": {
            "text/plain": [
              "<IPython.core.display.Javascript object>"
            ],
            "application/javascript": [
              "download(\"download_45234d15-c9ff-488b-b52e-7da2895294af\", \"test_file_features.csv\", 5302)"
            ]
          },
          "metadata": {}
        }
      ]
    },
    {
      "cell_type": "code",
      "source": [
        "test = pd.read_csv(\"/content/test_file_features.csv\")\n",
        "# test = pd.read_csv(\"/content/test_file_features_2rap.csv\")"
      ],
      "metadata": {
        "id": "g20n92YSLDMw"
      },
      "execution_count": null,
      "outputs": []
    },
    {
      "cell_type": "code",
      "source": [
        "test.head()"
      ],
      "metadata": {
        "colab": {
          "base_uri": "https://localhost:8080/",
          "height": 228
        },
        "id": "ihm4OoJ-_KKV",
        "outputId": "f4e551a4-564c-4eac-98ba-0b9bfceb9274"
      },
      "execution_count": null,
      "outputs": [
        {
          "output_type": "execute_result",
          "data": {
            "text/plain": [
              "   Unnamed: 0                                          Song_Name  \\\n",
              "0           0  /content/drive/MyDrive/IR_Project_Music/OPUS t...   \n",
              "1           1  /content/drive/MyDrive/IR_Project_Music/OPUS t...   \n",
              "\n",
              "   onset_strength  chroma_stft  chroma_cqt  chroma_cens  melspectrogram  \\\n",
              "0        1.662864     0.611378    0.505583     0.258545       12.346291   \n",
              "1        1.570600     0.529610    0.418919     0.237049       12.382498   \n",
              "\n",
              "       mfcc  spectral_centroid  spectral_bandwidth  spectral_contrast  \\\n",
              "0  4.148418        2396.567923         3268.981262          21.408124   \n",
              "1  2.903927        3149.180191         3511.781692          21.277293   \n",
              "\n",
              "   spectral_rolloff   tonnetz  zero_crossing_rate  \n",
              "0       5161.816454  0.010660            0.033645  \n",
              "1       6906.329040  0.008958            0.067720  "
            ],
            "text/html": [
              "\n",
              "  <div id=\"df-3983cba2-a814-4c2b-b4e1-6040a7384315\">\n",
              "    <div class=\"colab-df-container\">\n",
              "      <div>\n",
              "<style scoped>\n",
              "    .dataframe tbody tr th:only-of-type {\n",
              "        vertical-align: middle;\n",
              "    }\n",
              "\n",
              "    .dataframe tbody tr th {\n",
              "        vertical-align: top;\n",
              "    }\n",
              "\n",
              "    .dataframe thead th {\n",
              "        text-align: right;\n",
              "    }\n",
              "</style>\n",
              "<table border=\"1\" class=\"dataframe\">\n",
              "  <thead>\n",
              "    <tr style=\"text-align: right;\">\n",
              "      <th></th>\n",
              "      <th>Unnamed: 0</th>\n",
              "      <th>Song_Name</th>\n",
              "      <th>onset_strength</th>\n",
              "      <th>chroma_stft</th>\n",
              "      <th>chroma_cqt</th>\n",
              "      <th>chroma_cens</th>\n",
              "      <th>melspectrogram</th>\n",
              "      <th>mfcc</th>\n",
              "      <th>spectral_centroid</th>\n",
              "      <th>spectral_bandwidth</th>\n",
              "      <th>spectral_contrast</th>\n",
              "      <th>spectral_rolloff</th>\n",
              "      <th>tonnetz</th>\n",
              "      <th>zero_crossing_rate</th>\n",
              "    </tr>\n",
              "  </thead>\n",
              "  <tbody>\n",
              "    <tr>\n",
              "      <th>0</th>\n",
              "      <td>0</td>\n",
              "      <td>/content/drive/MyDrive/IR_Project_Music/OPUS t...</td>\n",
              "      <td>1.662864</td>\n",
              "      <td>0.611378</td>\n",
              "      <td>0.505583</td>\n",
              "      <td>0.258545</td>\n",
              "      <td>12.346291</td>\n",
              "      <td>4.148418</td>\n",
              "      <td>2396.567923</td>\n",
              "      <td>3268.981262</td>\n",
              "      <td>21.408124</td>\n",
              "      <td>5161.816454</td>\n",
              "      <td>0.010660</td>\n",
              "      <td>0.033645</td>\n",
              "    </tr>\n",
              "    <tr>\n",
              "      <th>1</th>\n",
              "      <td>1</td>\n",
              "      <td>/content/drive/MyDrive/IR_Project_Music/OPUS t...</td>\n",
              "      <td>1.570600</td>\n",
              "      <td>0.529610</td>\n",
              "      <td>0.418919</td>\n",
              "      <td>0.237049</td>\n",
              "      <td>12.382498</td>\n",
              "      <td>2.903927</td>\n",
              "      <td>3149.180191</td>\n",
              "      <td>3511.781692</td>\n",
              "      <td>21.277293</td>\n",
              "      <td>6906.329040</td>\n",
              "      <td>0.008958</td>\n",
              "      <td>0.067720</td>\n",
              "    </tr>\n",
              "  </tbody>\n",
              "</table>\n",
              "</div>\n",
              "      <button class=\"colab-df-convert\" onclick=\"convertToInteractive('df-3983cba2-a814-4c2b-b4e1-6040a7384315')\"\n",
              "              title=\"Convert this dataframe to an interactive table.\"\n",
              "              style=\"display:none;\">\n",
              "        \n",
              "  <svg xmlns=\"http://www.w3.org/2000/svg\" height=\"24px\"viewBox=\"0 0 24 24\"\n",
              "       width=\"24px\">\n",
              "    <path d=\"M0 0h24v24H0V0z\" fill=\"none\"/>\n",
              "    <path d=\"M18.56 5.44l.94 2.06.94-2.06 2.06-.94-2.06-.94-.94-2.06-.94 2.06-2.06.94zm-11 1L8.5 8.5l.94-2.06 2.06-.94-2.06-.94L8.5 2.5l-.94 2.06-2.06.94zm10 10l.94 2.06.94-2.06 2.06-.94-2.06-.94-.94-2.06-.94 2.06-2.06.94z\"/><path d=\"M17.41 7.96l-1.37-1.37c-.4-.4-.92-.59-1.43-.59-.52 0-1.04.2-1.43.59L10.3 9.45l-7.72 7.72c-.78.78-.78 2.05 0 2.83L4 21.41c.39.39.9.59 1.41.59.51 0 1.02-.2 1.41-.59l7.78-7.78 2.81-2.81c.8-.78.8-2.07 0-2.86zM5.41 20L4 18.59l7.72-7.72 1.47 1.35L5.41 20z\"/>\n",
              "  </svg>\n",
              "      </button>\n",
              "      \n",
              "  <style>\n",
              "    .colab-df-container {\n",
              "      display:flex;\n",
              "      flex-wrap:wrap;\n",
              "      gap: 12px;\n",
              "    }\n",
              "\n",
              "    .colab-df-convert {\n",
              "      background-color: #E8F0FE;\n",
              "      border: none;\n",
              "      border-radius: 50%;\n",
              "      cursor: pointer;\n",
              "      display: none;\n",
              "      fill: #1967D2;\n",
              "      height: 32px;\n",
              "      padding: 0 0 0 0;\n",
              "      width: 32px;\n",
              "    }\n",
              "\n",
              "    .colab-df-convert:hover {\n",
              "      background-color: #E2EBFA;\n",
              "      box-shadow: 0px 1px 2px rgba(60, 64, 67, 0.3), 0px 1px 3px 1px rgba(60, 64, 67, 0.15);\n",
              "      fill: #174EA6;\n",
              "    }\n",
              "\n",
              "    [theme=dark] .colab-df-convert {\n",
              "      background-color: #3B4455;\n",
              "      fill: #D2E3FC;\n",
              "    }\n",
              "\n",
              "    [theme=dark] .colab-df-convert:hover {\n",
              "      background-color: #434B5C;\n",
              "      box-shadow: 0px 1px 3px 1px rgba(0, 0, 0, 0.15);\n",
              "      filter: drop-shadow(0px 1px 2px rgba(0, 0, 0, 0.3));\n",
              "      fill: #FFFFFF;\n",
              "    }\n",
              "  </style>\n",
              "\n",
              "      <script>\n",
              "        const buttonEl =\n",
              "          document.querySelector('#df-3983cba2-a814-4c2b-b4e1-6040a7384315 button.colab-df-convert');\n",
              "        buttonEl.style.display =\n",
              "          google.colab.kernel.accessAllowed ? 'block' : 'none';\n",
              "\n",
              "        async function convertToInteractive(key) {\n",
              "          const element = document.querySelector('#df-3983cba2-a814-4c2b-b4e1-6040a7384315');\n",
              "          const dataTable =\n",
              "            await google.colab.kernel.invokeFunction('convertToInteractive',\n",
              "                                                     [key], {});\n",
              "          if (!dataTable) return;\n",
              "\n",
              "          const docLinkHtml = 'Like what you see? Visit the ' +\n",
              "            '<a target=\"_blank\" href=https://colab.research.google.com/notebooks/data_table.ipynb>data table notebook</a>'\n",
              "            + ' to learn more about interactive tables.';\n",
              "          element.innerHTML = '';\n",
              "          dataTable['output_type'] = 'display_data';\n",
              "          await google.colab.output.renderOutput(dataTable, element);\n",
              "          const docLink = document.createElement('div');\n",
              "          docLink.innerHTML = docLinkHtml;\n",
              "          element.appendChild(docLink);\n",
              "        }\n",
              "      </script>\n",
              "    </div>\n",
              "  </div>\n",
              "  "
            ]
          },
          "metadata": {},
          "execution_count": 180
        }
      ]
    },
    {
      "cell_type": "code",
      "source": [
        "test.columns"
      ],
      "metadata": {
        "colab": {
          "base_uri": "https://localhost:8080/"
        },
        "id": "Dz-IZVBv_EVA",
        "outputId": "086d957f-3dfd-4014-ce29-9d52a884c27c"
      },
      "execution_count": null,
      "outputs": [
        {
          "output_type": "execute_result",
          "data": {
            "text/plain": [
              "Index(['Unnamed: 0', 'Song_Name', 'onset_strength', 'chroma_stft',\n",
              "       'chroma_cqt', 'chroma_cens', 'melspectrogram', 'mfcc',\n",
              "       'spectral_centroid', 'spectral_bandwidth', 'spectral_contrast',\n",
              "       'spectral_rolloff', 'tonnetz', 'zero_crossing_rate'],\n",
              "      dtype='object')"
            ]
          },
          "metadata": {},
          "execution_count": 181
        }
      ]
    },
    {
      "cell_type": "code",
      "source": [
        "X_test = test.drop(['Unnamed: 0', 'Song_Name'], axis = 1)"
      ],
      "metadata": {
        "id": "gLyEbT5O_P4q"
      },
      "execution_count": null,
      "outputs": []
    },
    {
      "cell_type": "code",
      "source": [
        "X_test.head()"
      ],
      "metadata": {
        "colab": {
          "base_uri": "https://localhost:8080/",
          "height": 176
        },
        "id": "9LyDzgoO_lRC",
        "outputId": "1c3779c8-27fe-40ba-d15e-64f6c34d30f3"
      },
      "execution_count": null,
      "outputs": [
        {
          "output_type": "execute_result",
          "data": {
            "text/plain": [
              "   onset_strength  chroma_stft  chroma_cqt  chroma_cens  melspectrogram  \\\n",
              "0        1.662864     0.611378    0.505583     0.258545       12.346291   \n",
              "1        1.570600     0.529610    0.418919     0.237049       12.382498   \n",
              "\n",
              "       mfcc  spectral_centroid  spectral_bandwidth  spectral_contrast  \\\n",
              "0  4.148418        2396.567923         3268.981262          21.408124   \n",
              "1  2.903927        3149.180191         3511.781692          21.277293   \n",
              "\n",
              "   spectral_rolloff   tonnetz  zero_crossing_rate  \n",
              "0       5161.816454  0.010660            0.033645  \n",
              "1       6906.329040  0.008958            0.067720  "
            ],
            "text/html": [
              "\n",
              "  <div id=\"df-e402a60b-c167-4e67-bca9-be7f0246c1eb\">\n",
              "    <div class=\"colab-df-container\">\n",
              "      <div>\n",
              "<style scoped>\n",
              "    .dataframe tbody tr th:only-of-type {\n",
              "        vertical-align: middle;\n",
              "    }\n",
              "\n",
              "    .dataframe tbody tr th {\n",
              "        vertical-align: top;\n",
              "    }\n",
              "\n",
              "    .dataframe thead th {\n",
              "        text-align: right;\n",
              "    }\n",
              "</style>\n",
              "<table border=\"1\" class=\"dataframe\">\n",
              "  <thead>\n",
              "    <tr style=\"text-align: right;\">\n",
              "      <th></th>\n",
              "      <th>onset_strength</th>\n",
              "      <th>chroma_stft</th>\n",
              "      <th>chroma_cqt</th>\n",
              "      <th>chroma_cens</th>\n",
              "      <th>melspectrogram</th>\n",
              "      <th>mfcc</th>\n",
              "      <th>spectral_centroid</th>\n",
              "      <th>spectral_bandwidth</th>\n",
              "      <th>spectral_contrast</th>\n",
              "      <th>spectral_rolloff</th>\n",
              "      <th>tonnetz</th>\n",
              "      <th>zero_crossing_rate</th>\n",
              "    </tr>\n",
              "  </thead>\n",
              "  <tbody>\n",
              "    <tr>\n",
              "      <th>0</th>\n",
              "      <td>1.662864</td>\n",
              "      <td>0.611378</td>\n",
              "      <td>0.505583</td>\n",
              "      <td>0.258545</td>\n",
              "      <td>12.346291</td>\n",
              "      <td>4.148418</td>\n",
              "      <td>2396.567923</td>\n",
              "      <td>3268.981262</td>\n",
              "      <td>21.408124</td>\n",
              "      <td>5161.816454</td>\n",
              "      <td>0.010660</td>\n",
              "      <td>0.033645</td>\n",
              "    </tr>\n",
              "    <tr>\n",
              "      <th>1</th>\n",
              "      <td>1.570600</td>\n",
              "      <td>0.529610</td>\n",
              "      <td>0.418919</td>\n",
              "      <td>0.237049</td>\n",
              "      <td>12.382498</td>\n",
              "      <td>2.903927</td>\n",
              "      <td>3149.180191</td>\n",
              "      <td>3511.781692</td>\n",
              "      <td>21.277293</td>\n",
              "      <td>6906.329040</td>\n",
              "      <td>0.008958</td>\n",
              "      <td>0.067720</td>\n",
              "    </tr>\n",
              "  </tbody>\n",
              "</table>\n",
              "</div>\n",
              "      <button class=\"colab-df-convert\" onclick=\"convertToInteractive('df-e402a60b-c167-4e67-bca9-be7f0246c1eb')\"\n",
              "              title=\"Convert this dataframe to an interactive table.\"\n",
              "              style=\"display:none;\">\n",
              "        \n",
              "  <svg xmlns=\"http://www.w3.org/2000/svg\" height=\"24px\"viewBox=\"0 0 24 24\"\n",
              "       width=\"24px\">\n",
              "    <path d=\"M0 0h24v24H0V0z\" fill=\"none\"/>\n",
              "    <path d=\"M18.56 5.44l.94 2.06.94-2.06 2.06-.94-2.06-.94-.94-2.06-.94 2.06-2.06.94zm-11 1L8.5 8.5l.94-2.06 2.06-.94-2.06-.94L8.5 2.5l-.94 2.06-2.06.94zm10 10l.94 2.06.94-2.06 2.06-.94-2.06-.94-.94-2.06-.94 2.06-2.06.94z\"/><path d=\"M17.41 7.96l-1.37-1.37c-.4-.4-.92-.59-1.43-.59-.52 0-1.04.2-1.43.59L10.3 9.45l-7.72 7.72c-.78.78-.78 2.05 0 2.83L4 21.41c.39.39.9.59 1.41.59.51 0 1.02-.2 1.41-.59l7.78-7.78 2.81-2.81c.8-.78.8-2.07 0-2.86zM5.41 20L4 18.59l7.72-7.72 1.47 1.35L5.41 20z\"/>\n",
              "  </svg>\n",
              "      </button>\n",
              "      \n",
              "  <style>\n",
              "    .colab-df-container {\n",
              "      display:flex;\n",
              "      flex-wrap:wrap;\n",
              "      gap: 12px;\n",
              "    }\n",
              "\n",
              "    .colab-df-convert {\n",
              "      background-color: #E8F0FE;\n",
              "      border: none;\n",
              "      border-radius: 50%;\n",
              "      cursor: pointer;\n",
              "      display: none;\n",
              "      fill: #1967D2;\n",
              "      height: 32px;\n",
              "      padding: 0 0 0 0;\n",
              "      width: 32px;\n",
              "    }\n",
              "\n",
              "    .colab-df-convert:hover {\n",
              "      background-color: #E2EBFA;\n",
              "      box-shadow: 0px 1px 2px rgba(60, 64, 67, 0.3), 0px 1px 3px 1px rgba(60, 64, 67, 0.15);\n",
              "      fill: #174EA6;\n",
              "    }\n",
              "\n",
              "    [theme=dark] .colab-df-convert {\n",
              "      background-color: #3B4455;\n",
              "      fill: #D2E3FC;\n",
              "    }\n",
              "\n",
              "    [theme=dark] .colab-df-convert:hover {\n",
              "      background-color: #434B5C;\n",
              "      box-shadow: 0px 1px 3px 1px rgba(0, 0, 0, 0.15);\n",
              "      filter: drop-shadow(0px 1px 2px rgba(0, 0, 0, 0.3));\n",
              "      fill: #FFFFFF;\n",
              "    }\n",
              "  </style>\n",
              "\n",
              "      <script>\n",
              "        const buttonEl =\n",
              "          document.querySelector('#df-e402a60b-c167-4e67-bca9-be7f0246c1eb button.colab-df-convert');\n",
              "        buttonEl.style.display =\n",
              "          google.colab.kernel.accessAllowed ? 'block' : 'none';\n",
              "\n",
              "        async function convertToInteractive(key) {\n",
              "          const element = document.querySelector('#df-e402a60b-c167-4e67-bca9-be7f0246c1eb');\n",
              "          const dataTable =\n",
              "            await google.colab.kernel.invokeFunction('convertToInteractive',\n",
              "                                                     [key], {});\n",
              "          if (!dataTable) return;\n",
              "\n",
              "          const docLinkHtml = 'Like what you see? Visit the ' +\n",
              "            '<a target=\"_blank\" href=https://colab.research.google.com/notebooks/data_table.ipynb>data table notebook</a>'\n",
              "            + ' to learn more about interactive tables.';\n",
              "          element.innerHTML = '';\n",
              "          dataTable['output_type'] = 'display_data';\n",
              "          await google.colab.output.renderOutput(dataTable, element);\n",
              "          const docLink = document.createElement('div');\n",
              "          docLink.innerHTML = docLinkHtml;\n",
              "          element.appendChild(docLink);\n",
              "        }\n",
              "      </script>\n",
              "    </div>\n",
              "  </div>\n",
              "  "
            ]
          },
          "metadata": {},
          "execution_count": 183
        }
      ]
    },
    {
      "cell_type": "code",
      "source": [
        "X_test.shape"
      ],
      "metadata": {
        "colab": {
          "base_uri": "https://localhost:8080/"
        },
        "id": "9XzyVn-4_sE7",
        "outputId": "93db8535-f73d-4caa-91d3-ed5df91dfcc2"
      },
      "execution_count": null,
      "outputs": [
        {
          "output_type": "execute_result",
          "data": {
            "text/plain": [
              "(2, 12)"
            ]
          },
          "metadata": {},
          "execution_count": 184
        }
      ]
    },
    {
      "cell_type": "code",
      "source": [
        "y_pred = clf.predict(X_test)"
      ],
      "metadata": {
        "id": "aONtPKrC_qGn"
      },
      "execution_count": null,
      "outputs": []
    },
    {
      "cell_type": "code",
      "source": [
        "test_files[-2:]"
      ],
      "metadata": {
        "id": "c64ysaWez45v",
        "outputId": "4be43626-a09f-4e9f-af82-c38583155f48",
        "colab": {
          "base_uri": "https://localhost:8080/"
        }
      },
      "execution_count": null,
      "outputs": [
        {
          "output_type": "execute_result",
          "data": {
            "text/plain": [
              "['/content/drive/MyDrive/IR_Project_Music/OPUS test files/Apna-Time-Aayega-Gully-Boy-Ranveer-Singh-_-Alia-Bhatt-DIVINE-Dub-Sharma-Zoya-Akhtar.opus',\n",
              " '/content/drive/MyDrive/IR_Project_Music/OPUS test files/BTS-_방탄소년단_-UGH_-_욱_-_Color-Coded-Lyrics-EngRomHan가사_.opus']"
            ]
          },
          "metadata": {},
          "execution_count": 189
        }
      ]
    },
    {
      "cell_type": "code",
      "source": [
        "y_pred"
      ],
      "metadata": {
        "colab": {
          "base_uri": "https://localhost:8080/"
        },
        "id": "G9ioAt47zkcO",
        "outputId": "e58bf8d7-9cd1-4ada-aced-8e869393e309"
      },
      "execution_count": null,
      "outputs": [
        {
          "output_type": "execute_result",
          "data": {
            "text/plain": [
              "array([0, 0])"
            ]
          },
          "metadata": {},
          "execution_count": 187
        }
      ]
    },
    {
      "cell_type": "code",
      "source": [
        "for i in range(len(test_files)):\n",
        "  print(test_files[i], \" : \", y_pred[i])"
      ],
      "metadata": {
        "colab": {
          "base_uri": "https://localhost:8080/",
          "height": 217
        },
        "id": "xGZWrYUYAKak",
        "outputId": "61fb66fe-4dbd-4c50-c116-5148ffc7cf67"
      },
      "execution_count": null,
      "outputs": [
        {
          "output_type": "stream",
          "name": "stdout",
          "text": [
            "/content/drive/MyDrive/IR_Project_Music/OPUS test files/Akhil - Duniyaa.opus  :  0\n",
            "/content/drive/MyDrive/IR_Project_Music/OPUS test files/BTS-_방탄소년단_-UGH_-_욱_-_Color-Coded-Lyrics-EngRomHan가사_.opus  :  0\n"
          ]
        },
        {
          "output_type": "error",
          "ename": "IndexError",
          "evalue": "ignored",
          "traceback": [
            "\u001b[0;31m---------------------------------------------------------------------------\u001b[0m",
            "\u001b[0;31mIndexError\u001b[0m                                Traceback (most recent call last)",
            "\u001b[0;32m<ipython-input-188-d16a64c74fae>\u001b[0m in \u001b[0;36m<module>\u001b[0;34m\u001b[0m\n\u001b[1;32m      1\u001b[0m \u001b[0;32mfor\u001b[0m \u001b[0mi\u001b[0m \u001b[0;32min\u001b[0m \u001b[0mrange\u001b[0m\u001b[0;34m(\u001b[0m\u001b[0mlen\u001b[0m\u001b[0;34m(\u001b[0m\u001b[0mtest_files\u001b[0m\u001b[0;34m)\u001b[0m\u001b[0;34m)\u001b[0m\u001b[0;34m:\u001b[0m\u001b[0;34m\u001b[0m\u001b[0;34m\u001b[0m\u001b[0m\n\u001b[0;32m----> 2\u001b[0;31m   \u001b[0mprint\u001b[0m\u001b[0;34m(\u001b[0m\u001b[0mtest_files\u001b[0m\u001b[0;34m[\u001b[0m\u001b[0;34m-\u001b[0m\u001b[0mi\u001b[0m\u001b[0;34m]\u001b[0m\u001b[0;34m,\u001b[0m \u001b[0;34m\" : \"\u001b[0m\u001b[0;34m,\u001b[0m \u001b[0my_pred\u001b[0m\u001b[0;34m[\u001b[0m\u001b[0mi\u001b[0m\u001b[0;34m]\u001b[0m\u001b[0;34m)\u001b[0m\u001b[0;34m\u001b[0m\u001b[0;34m\u001b[0m\u001b[0m\n\u001b[0m",
            "\u001b[0;31mIndexError\u001b[0m: index 2 is out of bounds for axis 0 with size 2"
          ]
        }
      ]
    },
    {
      "cell_type": "code",
      "source": [],
      "metadata": {
        "id": "6KwWgFUeAk1m"
      },
      "execution_count": null,
      "outputs": []
    },
    {
      "cell_type": "markdown",
      "source": [
        "## Taking user input"
      ],
      "metadata": {
        "id": "-UitwqSw5xnP"
      }
    },
    {
      "cell_type": "code",
      "source": [
        "test = pd.read_csv(\"/content/test_file_features.csv\")"
      ],
      "metadata": {
        "id": "eO9OntYmFawA"
      },
      "execution_count": null,
      "outputs": []
    },
    {
      "cell_type": "code",
      "source": [
        "test.head()"
      ],
      "metadata": {
        "colab": {
          "base_uri": "https://localhost:8080/",
          "height": 565
        },
        "outputId": "12c6008b-2a7b-4d79-9fb1-f6121b89d6e4",
        "id": "FNYeWa0KFawG"
      },
      "execution_count": null,
      "outputs": [
        {
          "output_type": "execute_result",
          "data": {
            "text/plain": [
              "   Unnamed: 0                                          Song_Name  \\\n",
              "0           0                       Copy of Akhil - Duniyaa.opus   \n",
              "1           1  Copy of Abhijeet Srivastava - Chashni (From Bh...   \n",
              "2           2               Copy of Bohemia - Lak Da Hulara.opus   \n",
              "3           3  Copy of Guru Randhawa - Lahore - Remix(Remix B...   \n",
              "4           4               Copy of Sidhu Moose Wala - Boss.opus   \n",
              "\n",
              "   onset_strength  chroma_stft  chroma_cqt  chroma_cens  melspectrogram  \\\n",
              "0        1.227234     0.395746    0.382983     0.224339       20.534378   \n",
              "1        1.297309     0.397050    0.435673     0.238853       11.389784   \n",
              "2        1.606547     0.531098    0.475303     0.252583       20.884240   \n",
              "3        1.509841     0.496038    0.489822     0.251252       16.294353   \n",
              "4        1.497883     0.454000    0.358766     0.217801       12.778736   \n",
              "\n",
              "       mfcc  spectral_centroid  spectral_bandwidth  spectral_contrast  \\\n",
              "0  3.617873        1909.869175         2729.586489          20.517566   \n",
              "1 -0.333461        2673.200976         3522.598796          20.666845   \n",
              "2  4.122195        2646.061116         3413.692146          18.300066   \n",
              "3  2.014388        3680.458188         3826.039347          18.831937   \n",
              "4  1.316051        2926.883366         3320.235184          20.039668   \n",
              "\n",
              "   spectral_rolloff   tonnetz  zero_crossing_rate  \n",
              "0       3969.137539  0.028177            0.032461  \n",
              "1       6043.362530 -0.039107            0.042771  \n",
              "2       5524.974056 -0.006126            0.041026  \n",
              "3       7720.167202 -0.008567            0.078661  \n",
              "4       6125.369652 -0.065612            0.054079  "
            ],
            "text/html": [
              "\n",
              "  <div id=\"df-03f340d5-3e0a-49f0-88f8-c1b92724b1a2\">\n",
              "    <div class=\"colab-df-container\">\n",
              "      <div>\n",
              "<style scoped>\n",
              "    .dataframe tbody tr th:only-of-type {\n",
              "        vertical-align: middle;\n",
              "    }\n",
              "\n",
              "    .dataframe tbody tr th {\n",
              "        vertical-align: top;\n",
              "    }\n",
              "\n",
              "    .dataframe thead th {\n",
              "        text-align: right;\n",
              "    }\n",
              "</style>\n",
              "<table border=\"1\" class=\"dataframe\">\n",
              "  <thead>\n",
              "    <tr style=\"text-align: right;\">\n",
              "      <th></th>\n",
              "      <th>Unnamed: 0</th>\n",
              "      <th>Song_Name</th>\n",
              "      <th>onset_strength</th>\n",
              "      <th>chroma_stft</th>\n",
              "      <th>chroma_cqt</th>\n",
              "      <th>chroma_cens</th>\n",
              "      <th>melspectrogram</th>\n",
              "      <th>mfcc</th>\n",
              "      <th>spectral_centroid</th>\n",
              "      <th>spectral_bandwidth</th>\n",
              "      <th>spectral_contrast</th>\n",
              "      <th>spectral_rolloff</th>\n",
              "      <th>tonnetz</th>\n",
              "      <th>zero_crossing_rate</th>\n",
              "    </tr>\n",
              "  </thead>\n",
              "  <tbody>\n",
              "    <tr>\n",
              "      <th>0</th>\n",
              "      <td>0</td>\n",
              "      <td>Copy of Akhil - Duniyaa.opus</td>\n",
              "      <td>1.227234</td>\n",
              "      <td>0.395746</td>\n",
              "      <td>0.382983</td>\n",
              "      <td>0.224339</td>\n",
              "      <td>20.534378</td>\n",
              "      <td>3.617873</td>\n",
              "      <td>1909.869175</td>\n",
              "      <td>2729.586489</td>\n",
              "      <td>20.517566</td>\n",
              "      <td>3969.137539</td>\n",
              "      <td>0.028177</td>\n",
              "      <td>0.032461</td>\n",
              "    </tr>\n",
              "    <tr>\n",
              "      <th>1</th>\n",
              "      <td>1</td>\n",
              "      <td>Copy of Abhijeet Srivastava - Chashni (From Bh...</td>\n",
              "      <td>1.297309</td>\n",
              "      <td>0.397050</td>\n",
              "      <td>0.435673</td>\n",
              "      <td>0.238853</td>\n",
              "      <td>11.389784</td>\n",
              "      <td>-0.333461</td>\n",
              "      <td>2673.200976</td>\n",
              "      <td>3522.598796</td>\n",
              "      <td>20.666845</td>\n",
              "      <td>6043.362530</td>\n",
              "      <td>-0.039107</td>\n",
              "      <td>0.042771</td>\n",
              "    </tr>\n",
              "    <tr>\n",
              "      <th>2</th>\n",
              "      <td>2</td>\n",
              "      <td>Copy of Bohemia - Lak Da Hulara.opus</td>\n",
              "      <td>1.606547</td>\n",
              "      <td>0.531098</td>\n",
              "      <td>0.475303</td>\n",
              "      <td>0.252583</td>\n",
              "      <td>20.884240</td>\n",
              "      <td>4.122195</td>\n",
              "      <td>2646.061116</td>\n",
              "      <td>3413.692146</td>\n",
              "      <td>18.300066</td>\n",
              "      <td>5524.974056</td>\n",
              "      <td>-0.006126</td>\n",
              "      <td>0.041026</td>\n",
              "    </tr>\n",
              "    <tr>\n",
              "      <th>3</th>\n",
              "      <td>3</td>\n",
              "      <td>Copy of Guru Randhawa - Lahore - Remix(Remix B...</td>\n",
              "      <td>1.509841</td>\n",
              "      <td>0.496038</td>\n",
              "      <td>0.489822</td>\n",
              "      <td>0.251252</td>\n",
              "      <td>16.294353</td>\n",
              "      <td>2.014388</td>\n",
              "      <td>3680.458188</td>\n",
              "      <td>3826.039347</td>\n",
              "      <td>18.831937</td>\n",
              "      <td>7720.167202</td>\n",
              "      <td>-0.008567</td>\n",
              "      <td>0.078661</td>\n",
              "    </tr>\n",
              "    <tr>\n",
              "      <th>4</th>\n",
              "      <td>4</td>\n",
              "      <td>Copy of Sidhu Moose Wala - Boss.opus</td>\n",
              "      <td>1.497883</td>\n",
              "      <td>0.454000</td>\n",
              "      <td>0.358766</td>\n",
              "      <td>0.217801</td>\n",
              "      <td>12.778736</td>\n",
              "      <td>1.316051</td>\n",
              "      <td>2926.883366</td>\n",
              "      <td>3320.235184</td>\n",
              "      <td>20.039668</td>\n",
              "      <td>6125.369652</td>\n",
              "      <td>-0.065612</td>\n",
              "      <td>0.054079</td>\n",
              "    </tr>\n",
              "  </tbody>\n",
              "</table>\n",
              "</div>\n",
              "      <button class=\"colab-df-convert\" onclick=\"convertToInteractive('df-03f340d5-3e0a-49f0-88f8-c1b92724b1a2')\"\n",
              "              title=\"Convert this dataframe to an interactive table.\"\n",
              "              style=\"display:none;\">\n",
              "        \n",
              "  <svg xmlns=\"http://www.w3.org/2000/svg\" height=\"24px\"viewBox=\"0 0 24 24\"\n",
              "       width=\"24px\">\n",
              "    <path d=\"M0 0h24v24H0V0z\" fill=\"none\"/>\n",
              "    <path d=\"M18.56 5.44l.94 2.06.94-2.06 2.06-.94-2.06-.94-.94-2.06-.94 2.06-2.06.94zm-11 1L8.5 8.5l.94-2.06 2.06-.94-2.06-.94L8.5 2.5l-.94 2.06-2.06.94zm10 10l.94 2.06.94-2.06 2.06-.94-2.06-.94-.94-2.06-.94 2.06-2.06.94z\"/><path d=\"M17.41 7.96l-1.37-1.37c-.4-.4-.92-.59-1.43-.59-.52 0-1.04.2-1.43.59L10.3 9.45l-7.72 7.72c-.78.78-.78 2.05 0 2.83L4 21.41c.39.39.9.59 1.41.59.51 0 1.02-.2 1.41-.59l7.78-7.78 2.81-2.81c.8-.78.8-2.07 0-2.86zM5.41 20L4 18.59l7.72-7.72 1.47 1.35L5.41 20z\"/>\n",
              "  </svg>\n",
              "      </button>\n",
              "      \n",
              "  <style>\n",
              "    .colab-df-container {\n",
              "      display:flex;\n",
              "      flex-wrap:wrap;\n",
              "      gap: 12px;\n",
              "    }\n",
              "\n",
              "    .colab-df-convert {\n",
              "      background-color: #E8F0FE;\n",
              "      border: none;\n",
              "      border-radius: 50%;\n",
              "      cursor: pointer;\n",
              "      display: none;\n",
              "      fill: #1967D2;\n",
              "      height: 32px;\n",
              "      padding: 0 0 0 0;\n",
              "      width: 32px;\n",
              "    }\n",
              "\n",
              "    .colab-df-convert:hover {\n",
              "      background-color: #E2EBFA;\n",
              "      box-shadow: 0px 1px 2px rgba(60, 64, 67, 0.3), 0px 1px 3px 1px rgba(60, 64, 67, 0.15);\n",
              "      fill: #174EA6;\n",
              "    }\n",
              "\n",
              "    [theme=dark] .colab-df-convert {\n",
              "      background-color: #3B4455;\n",
              "      fill: #D2E3FC;\n",
              "    }\n",
              "\n",
              "    [theme=dark] .colab-df-convert:hover {\n",
              "      background-color: #434B5C;\n",
              "      box-shadow: 0px 1px 3px 1px rgba(0, 0, 0, 0.15);\n",
              "      filter: drop-shadow(0px 1px 2px rgba(0, 0, 0, 0.3));\n",
              "      fill: #FFFFFF;\n",
              "    }\n",
              "  </style>\n",
              "\n",
              "      <script>\n",
              "        const buttonEl =\n",
              "          document.querySelector('#df-03f340d5-3e0a-49f0-88f8-c1b92724b1a2 button.colab-df-convert');\n",
              "        buttonEl.style.display =\n",
              "          google.colab.kernel.accessAllowed ? 'block' : 'none';\n",
              "\n",
              "        async function convertToInteractive(key) {\n",
              "          const element = document.querySelector('#df-03f340d5-3e0a-49f0-88f8-c1b92724b1a2');\n",
              "          const dataTable =\n",
              "            await google.colab.kernel.invokeFunction('convertToInteractive',\n",
              "                                                     [key], {});\n",
              "          if (!dataTable) return;\n",
              "\n",
              "          const docLinkHtml = 'Like what you see? Visit the ' +\n",
              "            '<a target=\"_blank\" href=https://colab.research.google.com/notebooks/data_table.ipynb>data table notebook</a>'\n",
              "            + ' to learn more about interactive tables.';\n",
              "          element.innerHTML = '';\n",
              "          dataTable['output_type'] = 'display_data';\n",
              "          await google.colab.output.renderOutput(dataTable, element);\n",
              "          const docLink = document.createElement('div');\n",
              "          docLink.innerHTML = docLinkHtml;\n",
              "          element.appendChild(docLink);\n",
              "        }\n",
              "      </script>\n",
              "    </div>\n",
              "  </div>\n",
              "  "
            ]
          },
          "metadata": {},
          "execution_count": 96
        }
      ]
    },
    {
      "cell_type": "code",
      "source": [
        "test.columns"
      ],
      "metadata": {
        "colab": {
          "base_uri": "https://localhost:8080/"
        },
        "outputId": "75aea2b7-804c-44c0-d3f2-b96e45445706",
        "id": "sQbepCnBFawG"
      },
      "execution_count": null,
      "outputs": [
        {
          "output_type": "execute_result",
          "data": {
            "text/plain": [
              "Index(['Unnamed: 0', 'Song_Name', 'onset_strength', 'chroma_stft',\n",
              "       'chroma_cqt', 'chroma_cens', 'melspectrogram', 'mfcc',\n",
              "       'spectral_centroid', 'spectral_bandwidth', 'spectral_contrast',\n",
              "       'spectral_rolloff', 'tonnetz', 'zero_crossing_rate'],\n",
              "      dtype='object')"
            ]
          },
          "metadata": {},
          "execution_count": 97
        }
      ]
    },
    {
      "cell_type": "code",
      "source": [
        "# X_test = test.drop(['Unnamed: 0', 'Song_Name'], axis = 1)\n",
        "X_test = preprocessing.scale(test.drop(['Unnamed: 0', 'Song_Name'], axis = 1))"
      ],
      "metadata": {
        "id": "r5QLkqh-FawG"
      },
      "execution_count": null,
      "outputs": []
    },
    {
      "cell_type": "code",
      "source": [
        "X_test.head()"
      ],
      "metadata": {
        "colab": {
          "base_uri": "https://localhost:8080/",
          "height": 165
        },
        "outputId": "f006f808-8bfe-4421-be7c-0d22b2f0481c",
        "id": "rSwMq_ChFawG"
      },
      "execution_count": null,
      "outputs": [
        {
          "output_type": "error",
          "ename": "AttributeError",
          "evalue": "ignored",
          "traceback": [
            "\u001b[0;31m---------------------------------------------------------------------------\u001b[0m",
            "\u001b[0;31mAttributeError\u001b[0m                            Traceback (most recent call last)",
            "\u001b[0;32m<ipython-input-99-c8ff277ea5c9>\u001b[0m in \u001b[0;36m<module>\u001b[0;34m\u001b[0m\n\u001b[0;32m----> 1\u001b[0;31m \u001b[0mX_test\u001b[0m\u001b[0;34m.\u001b[0m\u001b[0mhead\u001b[0m\u001b[0;34m(\u001b[0m\u001b[0;34m)\u001b[0m\u001b[0;34m\u001b[0m\u001b[0;34m\u001b[0m\u001b[0m\n\u001b[0m",
            "\u001b[0;31mAttributeError\u001b[0m: 'numpy.ndarray' object has no attribute 'head'"
          ]
        }
      ]
    },
    {
      "cell_type": "code",
      "source": [
        "X_test.shape"
      ],
      "metadata": {
        "colab": {
          "base_uri": "https://localhost:8080/"
        },
        "id": "jZB3LQGuNWb2",
        "outputId": "88c85f9b-1edd-4e5f-b16b-d04094f2fddf"
      },
      "execution_count": null,
      "outputs": [
        {
          "output_type": "execute_result",
          "data": {
            "text/plain": [
              "(7, 12)"
            ]
          },
          "metadata": {},
          "execution_count": 100
        }
      ]
    },
    {
      "cell_type": "code",
      "source": [
        "X_test"
      ],
      "metadata": {
        "colab": {
          "base_uri": "https://localhost:8080/",
          "height": 333
        },
        "id": "1cQAe8FXJw5f",
        "outputId": "b851983a-83ee-4165-f49f-cba0a330bc4c"
      },
      "execution_count": null,
      "outputs": [
        {
          "output_type": "execute_result",
          "data": {
            "text/plain": [
              "   onset_strength  chroma_stft  chroma_cqt  chroma_cens  melspectrogram  \\\n",
              "0        1.227234     0.395746    0.382983     0.224339       20.534378   \n",
              "1        1.297309     0.397050    0.435673     0.238853       11.389784   \n",
              "2        1.606547     0.531098    0.475303     0.252583       20.884240   \n",
              "3        1.509841     0.496038    0.489822     0.251252       16.294353   \n",
              "4        1.497883     0.454000    0.358766     0.217801       12.778736   \n",
              "5        1.248111     0.390535    0.365677     0.218281       10.019216   \n",
              "6        1.267426     0.361999    0.348789     0.214632       17.688038   \n",
              "\n",
              "       mfcc  spectral_centroid  spectral_bandwidth  spectral_contrast  \\\n",
              "0  3.617873        1909.869175         2729.586489          20.517566   \n",
              "1 -0.333461        2673.200976         3522.598796          20.666845   \n",
              "2  4.122195        2646.061116         3413.692146          18.300066   \n",
              "3  2.014388        3680.458188         3826.039347          18.831937   \n",
              "4  1.316051        2926.883366         3320.235184          20.039668   \n",
              "5  1.485820        2610.409179         3285.057221          21.679094   \n",
              "6  4.141122        2128.332812         2980.857155          20.934424   \n",
              "\n",
              "   spectral_rolloff   tonnetz  zero_crossing_rate  \n",
              "0       3969.137539  0.028177            0.032461  \n",
              "1       6043.362530 -0.039107            0.042771  \n",
              "2       5524.974056 -0.006126            0.041026  \n",
              "3       7720.167202 -0.008567            0.078661  \n",
              "4       6125.369652 -0.065612            0.054079  \n",
              "5       6041.201142  0.057985            0.044900  \n",
              "6       4302.432517  0.005949            0.039348  "
            ],
            "text/html": [
              "\n",
              "  <div id=\"df-23db6efa-e301-4e9f-83a6-c7466bd8e507\">\n",
              "    <div class=\"colab-df-container\">\n",
              "      <div>\n",
              "<style scoped>\n",
              "    .dataframe tbody tr th:only-of-type {\n",
              "        vertical-align: middle;\n",
              "    }\n",
              "\n",
              "    .dataframe tbody tr th {\n",
              "        vertical-align: top;\n",
              "    }\n",
              "\n",
              "    .dataframe thead th {\n",
              "        text-align: right;\n",
              "    }\n",
              "</style>\n",
              "<table border=\"1\" class=\"dataframe\">\n",
              "  <thead>\n",
              "    <tr style=\"text-align: right;\">\n",
              "      <th></th>\n",
              "      <th>onset_strength</th>\n",
              "      <th>chroma_stft</th>\n",
              "      <th>chroma_cqt</th>\n",
              "      <th>chroma_cens</th>\n",
              "      <th>melspectrogram</th>\n",
              "      <th>mfcc</th>\n",
              "      <th>spectral_centroid</th>\n",
              "      <th>spectral_bandwidth</th>\n",
              "      <th>spectral_contrast</th>\n",
              "      <th>spectral_rolloff</th>\n",
              "      <th>tonnetz</th>\n",
              "      <th>zero_crossing_rate</th>\n",
              "    </tr>\n",
              "  </thead>\n",
              "  <tbody>\n",
              "    <tr>\n",
              "      <th>0</th>\n",
              "      <td>1.227234</td>\n",
              "      <td>0.395746</td>\n",
              "      <td>0.382983</td>\n",
              "      <td>0.224339</td>\n",
              "      <td>20.534378</td>\n",
              "      <td>3.617873</td>\n",
              "      <td>1909.869175</td>\n",
              "      <td>2729.586489</td>\n",
              "      <td>20.517566</td>\n",
              "      <td>3969.137539</td>\n",
              "      <td>0.028177</td>\n",
              "      <td>0.032461</td>\n",
              "    </tr>\n",
              "    <tr>\n",
              "      <th>1</th>\n",
              "      <td>1.297309</td>\n",
              "      <td>0.397050</td>\n",
              "      <td>0.435673</td>\n",
              "      <td>0.238853</td>\n",
              "      <td>11.389784</td>\n",
              "      <td>-0.333461</td>\n",
              "      <td>2673.200976</td>\n",
              "      <td>3522.598796</td>\n",
              "      <td>20.666845</td>\n",
              "      <td>6043.362530</td>\n",
              "      <td>-0.039107</td>\n",
              "      <td>0.042771</td>\n",
              "    </tr>\n",
              "    <tr>\n",
              "      <th>2</th>\n",
              "      <td>1.606547</td>\n",
              "      <td>0.531098</td>\n",
              "      <td>0.475303</td>\n",
              "      <td>0.252583</td>\n",
              "      <td>20.884240</td>\n",
              "      <td>4.122195</td>\n",
              "      <td>2646.061116</td>\n",
              "      <td>3413.692146</td>\n",
              "      <td>18.300066</td>\n",
              "      <td>5524.974056</td>\n",
              "      <td>-0.006126</td>\n",
              "      <td>0.041026</td>\n",
              "    </tr>\n",
              "    <tr>\n",
              "      <th>3</th>\n",
              "      <td>1.509841</td>\n",
              "      <td>0.496038</td>\n",
              "      <td>0.489822</td>\n",
              "      <td>0.251252</td>\n",
              "      <td>16.294353</td>\n",
              "      <td>2.014388</td>\n",
              "      <td>3680.458188</td>\n",
              "      <td>3826.039347</td>\n",
              "      <td>18.831937</td>\n",
              "      <td>7720.167202</td>\n",
              "      <td>-0.008567</td>\n",
              "      <td>0.078661</td>\n",
              "    </tr>\n",
              "    <tr>\n",
              "      <th>4</th>\n",
              "      <td>1.497883</td>\n",
              "      <td>0.454000</td>\n",
              "      <td>0.358766</td>\n",
              "      <td>0.217801</td>\n",
              "      <td>12.778736</td>\n",
              "      <td>1.316051</td>\n",
              "      <td>2926.883366</td>\n",
              "      <td>3320.235184</td>\n",
              "      <td>20.039668</td>\n",
              "      <td>6125.369652</td>\n",
              "      <td>-0.065612</td>\n",
              "      <td>0.054079</td>\n",
              "    </tr>\n",
              "    <tr>\n",
              "      <th>5</th>\n",
              "      <td>1.248111</td>\n",
              "      <td>0.390535</td>\n",
              "      <td>0.365677</td>\n",
              "      <td>0.218281</td>\n",
              "      <td>10.019216</td>\n",
              "      <td>1.485820</td>\n",
              "      <td>2610.409179</td>\n",
              "      <td>3285.057221</td>\n",
              "      <td>21.679094</td>\n",
              "      <td>6041.201142</td>\n",
              "      <td>0.057985</td>\n",
              "      <td>0.044900</td>\n",
              "    </tr>\n",
              "    <tr>\n",
              "      <th>6</th>\n",
              "      <td>1.267426</td>\n",
              "      <td>0.361999</td>\n",
              "      <td>0.348789</td>\n",
              "      <td>0.214632</td>\n",
              "      <td>17.688038</td>\n",
              "      <td>4.141122</td>\n",
              "      <td>2128.332812</td>\n",
              "      <td>2980.857155</td>\n",
              "      <td>20.934424</td>\n",
              "      <td>4302.432517</td>\n",
              "      <td>0.005949</td>\n",
              "      <td>0.039348</td>\n",
              "    </tr>\n",
              "  </tbody>\n",
              "</table>\n",
              "</div>\n",
              "      <button class=\"colab-df-convert\" onclick=\"convertToInteractive('df-23db6efa-e301-4e9f-83a6-c7466bd8e507')\"\n",
              "              title=\"Convert this dataframe to an interactive table.\"\n",
              "              style=\"display:none;\">\n",
              "        \n",
              "  <svg xmlns=\"http://www.w3.org/2000/svg\" height=\"24px\"viewBox=\"0 0 24 24\"\n",
              "       width=\"24px\">\n",
              "    <path d=\"M0 0h24v24H0V0z\" fill=\"none\"/>\n",
              "    <path d=\"M18.56 5.44l.94 2.06.94-2.06 2.06-.94-2.06-.94-.94-2.06-.94 2.06-2.06.94zm-11 1L8.5 8.5l.94-2.06 2.06-.94-2.06-.94L8.5 2.5l-.94 2.06-2.06.94zm10 10l.94 2.06.94-2.06 2.06-.94-2.06-.94-.94-2.06-.94 2.06-2.06.94z\"/><path d=\"M17.41 7.96l-1.37-1.37c-.4-.4-.92-.59-1.43-.59-.52 0-1.04.2-1.43.59L10.3 9.45l-7.72 7.72c-.78.78-.78 2.05 0 2.83L4 21.41c.39.39.9.59 1.41.59.51 0 1.02-.2 1.41-.59l7.78-7.78 2.81-2.81c.8-.78.8-2.07 0-2.86zM5.41 20L4 18.59l7.72-7.72 1.47 1.35L5.41 20z\"/>\n",
              "  </svg>\n",
              "      </button>\n",
              "      \n",
              "  <style>\n",
              "    .colab-df-container {\n",
              "      display:flex;\n",
              "      flex-wrap:wrap;\n",
              "      gap: 12px;\n",
              "    }\n",
              "\n",
              "    .colab-df-convert {\n",
              "      background-color: #E8F0FE;\n",
              "      border: none;\n",
              "      border-radius: 50%;\n",
              "      cursor: pointer;\n",
              "      display: none;\n",
              "      fill: #1967D2;\n",
              "      height: 32px;\n",
              "      padding: 0 0 0 0;\n",
              "      width: 32px;\n",
              "    }\n",
              "\n",
              "    .colab-df-convert:hover {\n",
              "      background-color: #E2EBFA;\n",
              "      box-shadow: 0px 1px 2px rgba(60, 64, 67, 0.3), 0px 1px 3px 1px rgba(60, 64, 67, 0.15);\n",
              "      fill: #174EA6;\n",
              "    }\n",
              "\n",
              "    [theme=dark] .colab-df-convert {\n",
              "      background-color: #3B4455;\n",
              "      fill: #D2E3FC;\n",
              "    }\n",
              "\n",
              "    [theme=dark] .colab-df-convert:hover {\n",
              "      background-color: #434B5C;\n",
              "      box-shadow: 0px 1px 3px 1px rgba(0, 0, 0, 0.15);\n",
              "      filter: drop-shadow(0px 1px 2px rgba(0, 0, 0, 0.3));\n",
              "      fill: #FFFFFF;\n",
              "    }\n",
              "  </style>\n",
              "\n",
              "      <script>\n",
              "        const buttonEl =\n",
              "          document.querySelector('#df-23db6efa-e301-4e9f-83a6-c7466bd8e507 button.colab-df-convert');\n",
              "        buttonEl.style.display =\n",
              "          google.colab.kernel.accessAllowed ? 'block' : 'none';\n",
              "\n",
              "        async function convertToInteractive(key) {\n",
              "          const element = document.querySelector('#df-23db6efa-e301-4e9f-83a6-c7466bd8e507');\n",
              "          const dataTable =\n",
              "            await google.colab.kernel.invokeFunction('convertToInteractive',\n",
              "                                                     [key], {});\n",
              "          if (!dataTable) return;\n",
              "\n",
              "          const docLinkHtml = 'Like what you see? Visit the ' +\n",
              "            '<a target=\"_blank\" href=https://colab.research.google.com/notebooks/data_table.ipynb>data table notebook</a>'\n",
              "            + ' to learn more about interactive tables.';\n",
              "          element.innerHTML = '';\n",
              "          dataTable['output_type'] = 'display_data';\n",
              "          await google.colab.output.renderOutput(dataTable, element);\n",
              "          const docLink = document.createElement('div');\n",
              "          docLink.innerHTML = docLinkHtml;\n",
              "          element.appendChild(docLink);\n",
              "        }\n",
              "      </script>\n",
              "    </div>\n",
              "  </div>\n",
              "  "
            ]
          },
          "metadata": {},
          "execution_count": 74
        }
      ]
    },
    {
      "cell_type": "code",
      "source": [
        "y_pred = clf.predict(X_test)"
      ],
      "metadata": {
        "id": "vvkRiK2cFawH"
      },
      "execution_count": null,
      "outputs": []
    },
    {
      "cell_type": "code",
      "source": [
        "y_pred"
      ],
      "metadata": {
        "colab": {
          "base_uri": "https://localhost:8080/"
        },
        "id": "IBY176_fGaRX",
        "outputId": "fa84e906-9ac2-410d-cc2a-3e530468b225"
      },
      "execution_count": null,
      "outputs": [
        {
          "output_type": "execute_result",
          "data": {
            "text/plain": [
              "array([1, 2, 0, 0, 0, 1, 1])"
            ]
          },
          "metadata": {},
          "execution_count": 102
        }
      ]
    },
    {
      "cell_type": "code",
      "source": [
        "for i in range(len(test_files)):\n",
        "  print(test_files[i], \" : \", y_pred[i])"
      ],
      "metadata": {
        "colab": {
          "base_uri": "https://localhost:8080/"
        },
        "outputId": "13a38c01-8815-410e-e7fe-57696ac60e51",
        "id": "_OaYrQzMFawH"
      },
      "execution_count": null,
      "outputs": [
        {
          "output_type": "stream",
          "name": "stdout",
          "text": [
            "Copy of Akhil - Duniyaa.opus  :  1\n",
            "Copy of Abhijeet Srivastava - Chashni (From Bharat).opus  :  2\n",
            "Copy of Bohemia - Lak Da Hulara.opus  :  0\n",
            "Copy of Guru Randhawa - Lahore - Remix(Remix By Dj Shadow Dubai).opus  :  0\n",
            "Copy of Sidhu Moose Wala - Boss.opus  :  0\n",
            "Copy of Abida Parveen - Aaqa - Coke Studio Season 9.opus  :  1\n",
            "Copy of SalimSulaiman - Saaiyaan.opus  :  1\n"
          ]
        }
      ]
    },
    {
      "cell_type": "code",
      "source": [
        "ls = []\n",
        "ls.append(X_test.iloc[0])\n",
        "clf.predict(ls) "
      ],
      "metadata": {
        "colab": {
          "base_uri": "https://localhost:8080/"
        },
        "id": "_ExzkvP45zE3",
        "outputId": "e2b93399-b5ba-43f0-e3a6-c624d6fdac04"
      },
      "execution_count": null,
      "outputs": [
        {
          "output_type": "execute_result",
          "data": {
            "text/plain": [
              "array([2])"
            ]
          },
          "metadata": {},
          "execution_count": 75
        }
      ]
    },
    {
      "cell_type": "code",
      "source": [
        "X_test.iloc[0]"
      ],
      "metadata": {
        "colab": {
          "base_uri": "https://localhost:8080/"
        },
        "id": "in8khzBVJDpf",
        "outputId": "752174d6-3877-4fe8-b4a7-90af609dc905"
      },
      "execution_count": null,
      "outputs": [
        {
          "output_type": "execute_result",
          "data": {
            "text/plain": [
              "onset_strength           1.227234\n",
              "chroma_stft              0.395746\n",
              "chroma_cqt               0.382983\n",
              "chroma_cens              0.224339\n",
              "melspectrogram          20.534378\n",
              "mfcc                     3.617873\n",
              "spectral_centroid     1909.869175\n",
              "spectral_bandwidth    2729.586489\n",
              "spectral_contrast       20.517566\n",
              "spectral_rolloff      3969.137539\n",
              "tonnetz                  0.028177\n",
              "zero_crossing_rate       0.032461\n",
              "Name: 0, dtype: float64"
            ]
          },
          "metadata": {},
          "execution_count": 76
        }
      ]
    },
    {
      "cell_type": "code",
      "source": [
        "X_test[0]"
      ],
      "metadata": {
        "colab": {
          "base_uri": "https://localhost:8080/"
        },
        "id": "op89NFezLCqA",
        "outputId": "4f0de77a-0e39-4bad-aa88-391b79c76db9"
      },
      "execution_count": null,
      "outputs": [
        {
          "output_type": "execute_result",
          "data": {
            "text/plain": [
              "array([-1.06573141, -0.63097777, -0.46681638, -0.44958151,  1.20937631,\n",
              "        0.81942608, -1.40535495, -1.71377661,  0.34344939, -1.46668785,\n",
              "        0.84740655, -1.07950903])"
            ]
          },
          "metadata": {},
          "execution_count": 105
        }
      ]
    },
    {
      "cell_type": "markdown",
      "source": [
        "## Transition from Music to Genre"
      ],
      "metadata": {
        "id": "Jdju3WWqf3gW"
      }
    },
    {
      "cell_type": "code",
      "source": [
        "dct = {\n",
        "    0 : ['Young adult literature', 'Dark', 'Dark fantasy'],\n",
        "    1 : [],\n",
        "    2 : [],\n",
        "    3 : [],\n",
        "    4 : ['Romance', 'Poetry'],\n",
        "    5 : ['Romance', 'Poetry'],\n",
        "    6 : []\n",
        "}"
      ],
      "metadata": {
        "id": "i4k1CYV9gUsO"
      },
      "execution_count": null,
      "outputs": []
    },
    {
      "cell_type": "code",
      "source": [
        "for i in range(len(test_files)):\n",
        "  print(test_files[i], \" : \", y_pred[i])\n",
        "  "
      ],
      "metadata": {
        "id": "GpDviz_wf22s"
      },
      "execution_count": null,
      "outputs": []
    },
    {
      "cell_type": "markdown",
      "source": [
        "# Book Genre"
      ],
      "metadata": {
        "id": "5i9DurBJfn_X"
      }
    },
    {
      "cell_type": "code",
      "execution_count": null,
      "metadata": {
        "id": "f009f4a6"
      },
      "outputs": [],
      "source": [
        "import numpy as np\n",
        "import pandas as pd\n",
        "import matplotlib.pyplot as plt\n",
        "import seaborn as sns\n",
        "import warnings\n",
        "warnings.filterwarnings('ignore')"
      ]
    },
    {
      "cell_type": "code",
      "execution_count": null,
      "metadata": {
        "id": "548e5900"
      },
      "outputs": [],
      "source": [
        "import csv"
      ]
    },
    {
      "cell_type": "code",
      "source": [
        "from google.colab import drive\n",
        "drive.mount('/content/drive')"
      ],
      "metadata": {
        "colab": {
          "base_uri": "https://localhost:8080/"
        },
        "id": "-NazXq4XjZUZ",
        "outputId": "2c3a969f-48bd-41c0-fb60-8d3cfa092fc5"
      },
      "execution_count": null,
      "outputs": [
        {
          "output_type": "stream",
          "name": "stdout",
          "text": [
            "Mounted at /content/drive\n"
          ]
        }
      ]
    },
    {
      "cell_type": "markdown",
      "source": [
        "Importing dataset"
      ],
      "metadata": {
        "id": "w6v8R5hC8S0t"
      }
    },
    {
      "cell_type": "code",
      "execution_count": null,
      "metadata": {
        "id": "25255b15"
      },
      "outputs": [],
      "source": [
        "l = []\n",
        "\n",
        "with open(\"/content/drive/MyDrive/booksummaries.txt\", 'r', encoding=\"utf8\") as file:\n",
        "    r = csv.reader(file, dialect='excel-tab')\n",
        "    for row in r:\n",
        "        l.append(row)"
      ]
    },
    {
      "cell_type": "markdown",
      "source": [
        "Identifying components of the book from the obtained list and storing the same in a dataframe"
      ],
      "metadata": {
        "id": "_uBrCbU48uC7"
      }
    },
    {
      "cell_type": "code",
      "execution_count": null,
      "metadata": {
        "id": "1f5347b6"
      },
      "outputs": [],
      "source": [
        "Id = []\n",
        "Name = []\n",
        "Description = []\n",
        "Genre = []"
      ]
    },
    {
      "cell_type": "code",
      "execution_count": null,
      "metadata": {
        "id": "f10fb259"
      },
      "outputs": [],
      "source": [
        "for i in l:\n",
        "    Id.append(i[0])\n",
        "    Name.append(i[2])\n",
        "    Genre.append(i[5])\n",
        "    Description.append(i[6])\n",
        "\n",
        "df = pd.DataFrame({'id': Id, 'name': Name, 'description': Description,\n",
        "                       'genre': Genre})"
      ]
    },
    {
      "cell_type": "code",
      "execution_count": null,
      "metadata": {
        "colab": {
          "base_uri": "https://localhost:8080/",
          "height": 206
        },
        "id": "d5107147",
        "outputId": "fa18d95a-cede-47f1-8dc9-6e5b0fce7a0e"
      },
      "outputs": [
        {
          "output_type": "execute_result",
          "data": {
            "text/plain": [
              "     id                                       name  \\\n",
              "0   620                                Animal Farm   \n",
              "1   843                         A Clockwork Orange   \n",
              "2   986                                 The Plague   \n",
              "3  1756  An Enquiry Concerning Human Understanding   \n",
              "4  2080                       A Fire Upon the Deep   \n",
              "\n",
              "                                         description  \\\n",
              "0   Old Major, the old boar on the Manor Farm, ca...   \n",
              "1   Alex, a teenager living in near-future Englan...   \n",
              "2   The text of The Plague is divided into five p...   \n",
              "3   The argument of the Enquiry proceeds by a ser...   \n",
              "4   The novel posits that space around the Milky ...   \n",
              "\n",
              "                                               genre  \n",
              "0  {\"/m/016lj8\": \"Roman \\u00e0 clef\", \"/m/06nbt\":...  \n",
              "1  {\"/m/06n90\": \"Science Fiction\", \"/m/0l67h\": \"N...  \n",
              "2  {\"/m/02m4t\": \"Existentialism\", \"/m/02xlf\": \"Fi...  \n",
              "3                                                     \n",
              "4  {\"/m/03lrw\": \"Hard science fiction\", \"/m/06n90...  "
            ],
            "text/html": [
              "\n",
              "  <div id=\"df-2cb1e62e-7698-46a1-98f2-e7103703335d\">\n",
              "    <div class=\"colab-df-container\">\n",
              "      <div>\n",
              "<style scoped>\n",
              "    .dataframe tbody tr th:only-of-type {\n",
              "        vertical-align: middle;\n",
              "    }\n",
              "\n",
              "    .dataframe tbody tr th {\n",
              "        vertical-align: top;\n",
              "    }\n",
              "\n",
              "    .dataframe thead th {\n",
              "        text-align: right;\n",
              "    }\n",
              "</style>\n",
              "<table border=\"1\" class=\"dataframe\">\n",
              "  <thead>\n",
              "    <tr style=\"text-align: right;\">\n",
              "      <th></th>\n",
              "      <th>id</th>\n",
              "      <th>name</th>\n",
              "      <th>description</th>\n",
              "      <th>genre</th>\n",
              "    </tr>\n",
              "  </thead>\n",
              "  <tbody>\n",
              "    <tr>\n",
              "      <th>0</th>\n",
              "      <td>620</td>\n",
              "      <td>Animal Farm</td>\n",
              "      <td>Old Major, the old boar on the Manor Farm, ca...</td>\n",
              "      <td>{\"/m/016lj8\": \"Roman \\u00e0 clef\", \"/m/06nbt\":...</td>\n",
              "    </tr>\n",
              "    <tr>\n",
              "      <th>1</th>\n",
              "      <td>843</td>\n",
              "      <td>A Clockwork Orange</td>\n",
              "      <td>Alex, a teenager living in near-future Englan...</td>\n",
              "      <td>{\"/m/06n90\": \"Science Fiction\", \"/m/0l67h\": \"N...</td>\n",
              "    </tr>\n",
              "    <tr>\n",
              "      <th>2</th>\n",
              "      <td>986</td>\n",
              "      <td>The Plague</td>\n",
              "      <td>The text of The Plague is divided into five p...</td>\n",
              "      <td>{\"/m/02m4t\": \"Existentialism\", \"/m/02xlf\": \"Fi...</td>\n",
              "    </tr>\n",
              "    <tr>\n",
              "      <th>3</th>\n",
              "      <td>1756</td>\n",
              "      <td>An Enquiry Concerning Human Understanding</td>\n",
              "      <td>The argument of the Enquiry proceeds by a ser...</td>\n",
              "      <td></td>\n",
              "    </tr>\n",
              "    <tr>\n",
              "      <th>4</th>\n",
              "      <td>2080</td>\n",
              "      <td>A Fire Upon the Deep</td>\n",
              "      <td>The novel posits that space around the Milky ...</td>\n",
              "      <td>{\"/m/03lrw\": \"Hard science fiction\", \"/m/06n90...</td>\n",
              "    </tr>\n",
              "  </tbody>\n",
              "</table>\n",
              "</div>\n",
              "      <button class=\"colab-df-convert\" onclick=\"convertToInteractive('df-2cb1e62e-7698-46a1-98f2-e7103703335d')\"\n",
              "              title=\"Convert this dataframe to an interactive table.\"\n",
              "              style=\"display:none;\">\n",
              "        \n",
              "  <svg xmlns=\"http://www.w3.org/2000/svg\" height=\"24px\"viewBox=\"0 0 24 24\"\n",
              "       width=\"24px\">\n",
              "    <path d=\"M0 0h24v24H0V0z\" fill=\"none\"/>\n",
              "    <path d=\"M18.56 5.44l.94 2.06.94-2.06 2.06-.94-2.06-.94-.94-2.06-.94 2.06-2.06.94zm-11 1L8.5 8.5l.94-2.06 2.06-.94-2.06-.94L8.5 2.5l-.94 2.06-2.06.94zm10 10l.94 2.06.94-2.06 2.06-.94-2.06-.94-.94-2.06-.94 2.06-2.06.94z\"/><path d=\"M17.41 7.96l-1.37-1.37c-.4-.4-.92-.59-1.43-.59-.52 0-1.04.2-1.43.59L10.3 9.45l-7.72 7.72c-.78.78-.78 2.05 0 2.83L4 21.41c.39.39.9.59 1.41.59.51 0 1.02-.2 1.41-.59l7.78-7.78 2.81-2.81c.8-.78.8-2.07 0-2.86zM5.41 20L4 18.59l7.72-7.72 1.47 1.35L5.41 20z\"/>\n",
              "  </svg>\n",
              "      </button>\n",
              "      \n",
              "  <style>\n",
              "    .colab-df-container {\n",
              "      display:flex;\n",
              "      flex-wrap:wrap;\n",
              "      gap: 12px;\n",
              "    }\n",
              "\n",
              "    .colab-df-convert {\n",
              "      background-color: #E8F0FE;\n",
              "      border: none;\n",
              "      border-radius: 50%;\n",
              "      cursor: pointer;\n",
              "      display: none;\n",
              "      fill: #1967D2;\n",
              "      height: 32px;\n",
              "      padding: 0 0 0 0;\n",
              "      width: 32px;\n",
              "    }\n",
              "\n",
              "    .colab-df-convert:hover {\n",
              "      background-color: #E2EBFA;\n",
              "      box-shadow: 0px 1px 2px rgba(60, 64, 67, 0.3), 0px 1px 3px 1px rgba(60, 64, 67, 0.15);\n",
              "      fill: #174EA6;\n",
              "    }\n",
              "\n",
              "    [theme=dark] .colab-df-convert {\n",
              "      background-color: #3B4455;\n",
              "      fill: #D2E3FC;\n",
              "    }\n",
              "\n",
              "    [theme=dark] .colab-df-convert:hover {\n",
              "      background-color: #434B5C;\n",
              "      box-shadow: 0px 1px 3px 1px rgba(0, 0, 0, 0.15);\n",
              "      filter: drop-shadow(0px 1px 2px rgba(0, 0, 0, 0.3));\n",
              "      fill: #FFFFFF;\n",
              "    }\n",
              "  </style>\n",
              "\n",
              "      <script>\n",
              "        const buttonEl =\n",
              "          document.querySelector('#df-2cb1e62e-7698-46a1-98f2-e7103703335d button.colab-df-convert');\n",
              "        buttonEl.style.display =\n",
              "          google.colab.kernel.accessAllowed ? 'block' : 'none';\n",
              "\n",
              "        async function convertToInteractive(key) {\n",
              "          const element = document.querySelector('#df-2cb1e62e-7698-46a1-98f2-e7103703335d');\n",
              "          const dataTable =\n",
              "            await google.colab.kernel.invokeFunction('convertToInteractive',\n",
              "                                                     [key], {});\n",
              "          if (!dataTable) return;\n",
              "\n",
              "          const docLinkHtml = 'Like what you see? Visit the ' +\n",
              "            '<a target=\"_blank\" href=https://colab.research.google.com/notebooks/data_table.ipynb>data table notebook</a>'\n",
              "            + ' to learn more about interactive tables.';\n",
              "          element.innerHTML = '';\n",
              "          dataTable['output_type'] = 'display_data';\n",
              "          await google.colab.output.renderOutput(dataTable, element);\n",
              "          const docLink = document.createElement('div');\n",
              "          docLink.innerHTML = docLinkHtml;\n",
              "          element.appendChild(docLink);\n",
              "        }\n",
              "      </script>\n",
              "    </div>\n",
              "  </div>\n",
              "  "
            ]
          },
          "metadata": {},
          "execution_count": 95
        }
      ],
      "source": [
        "df.head()"
      ]
    },
    {
      "cell_type": "code",
      "execution_count": null,
      "metadata": {
        "colab": {
          "base_uri": "https://localhost:8080/",
          "height": 250
        },
        "id": "b2ef9038",
        "outputId": "00de9fc0-d2e3-4e8d-bc41-4409b8d25672"
      },
      "outputs": [
        {
          "output_type": "execute_result",
          "data": {
            "text/plain": [
              "             id                                               name  \\\n",
              "16554  36934824                                     Under Wildwood   \n",
              "16555  37054020                                  Transfer of Power   \n",
              "16556  37122323                                            Decoded   \n",
              "16557  37132319  America Again: Re-becoming The Greatness We Ne...   \n",
              "16558  37159503                                          Poor Folk   \n",
              "\n",
              "                                             description  \\\n",
              "16554   Prue McKeel, having rescued her brother from ...   \n",
              "16555   The reader first meets Rapp while he is doing...   \n",
              "16556   The book follows very rough chronological ord...   \n",
              "16557   Colbert addresses topics including Wall Stree...   \n",
              "16558   Makar Devushkin and Varvara Dobroselova are s...   \n",
              "\n",
              "                                                   genre  \n",
              "16554                                                     \n",
              "16555   {\"/m/01jfsb\": \"Thriller\", \"/m/02xlf\": \"Fiction\"}  \n",
              "16556                       {\"/m/0xdf\": \"Autobiography\"}  \n",
              "16557                                                     \n",
              "16558  {\"/m/02ql9\": \"Epistolary novel\", \"/m/014dfn\": ...  "
            ],
            "text/html": [
              "\n",
              "  <div id=\"df-7cd96265-f237-4054-9e5d-c2a241ac3158\">\n",
              "    <div class=\"colab-df-container\">\n",
              "      <div>\n",
              "<style scoped>\n",
              "    .dataframe tbody tr th:only-of-type {\n",
              "        vertical-align: middle;\n",
              "    }\n",
              "\n",
              "    .dataframe tbody tr th {\n",
              "        vertical-align: top;\n",
              "    }\n",
              "\n",
              "    .dataframe thead th {\n",
              "        text-align: right;\n",
              "    }\n",
              "</style>\n",
              "<table border=\"1\" class=\"dataframe\">\n",
              "  <thead>\n",
              "    <tr style=\"text-align: right;\">\n",
              "      <th></th>\n",
              "      <th>id</th>\n",
              "      <th>name</th>\n",
              "      <th>description</th>\n",
              "      <th>genre</th>\n",
              "    </tr>\n",
              "  </thead>\n",
              "  <tbody>\n",
              "    <tr>\n",
              "      <th>16554</th>\n",
              "      <td>36934824</td>\n",
              "      <td>Under Wildwood</td>\n",
              "      <td>Prue McKeel, having rescued her brother from ...</td>\n",
              "      <td></td>\n",
              "    </tr>\n",
              "    <tr>\n",
              "      <th>16555</th>\n",
              "      <td>37054020</td>\n",
              "      <td>Transfer of Power</td>\n",
              "      <td>The reader first meets Rapp while he is doing...</td>\n",
              "      <td>{\"/m/01jfsb\": \"Thriller\", \"/m/02xlf\": \"Fiction\"}</td>\n",
              "    </tr>\n",
              "    <tr>\n",
              "      <th>16556</th>\n",
              "      <td>37122323</td>\n",
              "      <td>Decoded</td>\n",
              "      <td>The book follows very rough chronological ord...</td>\n",
              "      <td>{\"/m/0xdf\": \"Autobiography\"}</td>\n",
              "    </tr>\n",
              "    <tr>\n",
              "      <th>16557</th>\n",
              "      <td>37132319</td>\n",
              "      <td>America Again: Re-becoming The Greatness We Ne...</td>\n",
              "      <td>Colbert addresses topics including Wall Stree...</td>\n",
              "      <td></td>\n",
              "    </tr>\n",
              "    <tr>\n",
              "      <th>16558</th>\n",
              "      <td>37159503</td>\n",
              "      <td>Poor Folk</td>\n",
              "      <td>Makar Devushkin and Varvara Dobroselova are s...</td>\n",
              "      <td>{\"/m/02ql9\": \"Epistolary novel\", \"/m/014dfn\": ...</td>\n",
              "    </tr>\n",
              "  </tbody>\n",
              "</table>\n",
              "</div>\n",
              "      <button class=\"colab-df-convert\" onclick=\"convertToInteractive('df-7cd96265-f237-4054-9e5d-c2a241ac3158')\"\n",
              "              title=\"Convert this dataframe to an interactive table.\"\n",
              "              style=\"display:none;\">\n",
              "        \n",
              "  <svg xmlns=\"http://www.w3.org/2000/svg\" height=\"24px\"viewBox=\"0 0 24 24\"\n",
              "       width=\"24px\">\n",
              "    <path d=\"M0 0h24v24H0V0z\" fill=\"none\"/>\n",
              "    <path d=\"M18.56 5.44l.94 2.06.94-2.06 2.06-.94-2.06-.94-.94-2.06-.94 2.06-2.06.94zm-11 1L8.5 8.5l.94-2.06 2.06-.94-2.06-.94L8.5 2.5l-.94 2.06-2.06.94zm10 10l.94 2.06.94-2.06 2.06-.94-2.06-.94-.94-2.06-.94 2.06-2.06.94z\"/><path d=\"M17.41 7.96l-1.37-1.37c-.4-.4-.92-.59-1.43-.59-.52 0-1.04.2-1.43.59L10.3 9.45l-7.72 7.72c-.78.78-.78 2.05 0 2.83L4 21.41c.39.39.9.59 1.41.59.51 0 1.02-.2 1.41-.59l7.78-7.78 2.81-2.81c.8-.78.8-2.07 0-2.86zM5.41 20L4 18.59l7.72-7.72 1.47 1.35L5.41 20z\"/>\n",
              "  </svg>\n",
              "      </button>\n",
              "      \n",
              "  <style>\n",
              "    .colab-df-container {\n",
              "      display:flex;\n",
              "      flex-wrap:wrap;\n",
              "      gap: 12px;\n",
              "    }\n",
              "\n",
              "    .colab-df-convert {\n",
              "      background-color: #E8F0FE;\n",
              "      border: none;\n",
              "      border-radius: 50%;\n",
              "      cursor: pointer;\n",
              "      display: none;\n",
              "      fill: #1967D2;\n",
              "      height: 32px;\n",
              "      padding: 0 0 0 0;\n",
              "      width: 32px;\n",
              "    }\n",
              "\n",
              "    .colab-df-convert:hover {\n",
              "      background-color: #E2EBFA;\n",
              "      box-shadow: 0px 1px 2px rgba(60, 64, 67, 0.3), 0px 1px 3px 1px rgba(60, 64, 67, 0.15);\n",
              "      fill: #174EA6;\n",
              "    }\n",
              "\n",
              "    [theme=dark] .colab-df-convert {\n",
              "      background-color: #3B4455;\n",
              "      fill: #D2E3FC;\n",
              "    }\n",
              "\n",
              "    [theme=dark] .colab-df-convert:hover {\n",
              "      background-color: #434B5C;\n",
              "      box-shadow: 0px 1px 3px 1px rgba(0, 0, 0, 0.15);\n",
              "      filter: drop-shadow(0px 1px 2px rgba(0, 0, 0, 0.3));\n",
              "      fill: #FFFFFF;\n",
              "    }\n",
              "  </style>\n",
              "\n",
              "      <script>\n",
              "        const buttonEl =\n",
              "          document.querySelector('#df-7cd96265-f237-4054-9e5d-c2a241ac3158 button.colab-df-convert');\n",
              "        buttonEl.style.display =\n",
              "          google.colab.kernel.accessAllowed ? 'block' : 'none';\n",
              "\n",
              "        async function convertToInteractive(key) {\n",
              "          const element = document.querySelector('#df-7cd96265-f237-4054-9e5d-c2a241ac3158');\n",
              "          const dataTable =\n",
              "            await google.colab.kernel.invokeFunction('convertToInteractive',\n",
              "                                                     [key], {});\n",
              "          if (!dataTable) return;\n",
              "\n",
              "          const docLinkHtml = 'Like what you see? Visit the ' +\n",
              "            '<a target=\"_blank\" href=https://colab.research.google.com/notebooks/data_table.ipynb>data table notebook</a>'\n",
              "            + ' to learn more about interactive tables.';\n",
              "          element.innerHTML = '';\n",
              "          dataTable['output_type'] = 'display_data';\n",
              "          await google.colab.output.renderOutput(dataTable, element);\n",
              "          const docLink = document.createElement('div');\n",
              "          docLink.innerHTML = docLinkHtml;\n",
              "          element.appendChild(docLink);\n",
              "        }\n",
              "      </script>\n",
              "    </div>\n",
              "  </div>\n",
              "  "
            ]
          },
          "metadata": {},
          "execution_count": 96
        }
      ],
      "source": [
        "df.tail()"
      ]
    },
    {
      "cell_type": "code",
      "execution_count": null,
      "metadata": {
        "colab": {
          "base_uri": "https://localhost:8080/"
        },
        "id": "3a6d2ac6",
        "outputId": "29439511-713b-44f3-efc0-658d937f3e60"
      },
      "outputs": [
        {
          "output_type": "execute_result",
          "data": {
            "text/plain": [
              "id             object\n",
              "name           object\n",
              "description    object\n",
              "genre          object\n",
              "dtype: object"
            ]
          },
          "metadata": {},
          "execution_count": 97
        }
      ],
      "source": [
        "df.dtypes"
      ]
    },
    {
      "cell_type": "code",
      "execution_count": null,
      "metadata": {
        "id": "1c3b3284"
      },
      "outputs": [],
      "source": [
        "df['id'] = df['id'].astype('int')"
      ]
    },
    {
      "cell_type": "markdown",
      "source": [
        "Dropping rows with empty genre"
      ],
      "metadata": {
        "id": "HwghpLAb9Pp_"
      }
    },
    {
      "cell_type": "code",
      "execution_count": null,
      "metadata": {
        "colab": {
          "base_uri": "https://localhost:8080/",
          "height": 49
        },
        "id": "59413f44",
        "outputId": "bc252442-36b5-43ac-c4c5-837990d29ce2"
      },
      "outputs": [
        {
          "output_type": "execute_result",
          "data": {
            "text/plain": [
              "Empty DataFrame\n",
              "Columns: [id, name, description, genre]\n",
              "Index: []"
            ],
            "text/html": [
              "\n",
              "  <div id=\"df-c7603ba7-5611-4c1c-bc0a-92d90139bf5c\">\n",
              "    <div class=\"colab-df-container\">\n",
              "      <div>\n",
              "<style scoped>\n",
              "    .dataframe tbody tr th:only-of-type {\n",
              "        vertical-align: middle;\n",
              "    }\n",
              "\n",
              "    .dataframe tbody tr th {\n",
              "        vertical-align: top;\n",
              "    }\n",
              "\n",
              "    .dataframe thead th {\n",
              "        text-align: right;\n",
              "    }\n",
              "</style>\n",
              "<table border=\"1\" class=\"dataframe\">\n",
              "  <thead>\n",
              "    <tr style=\"text-align: right;\">\n",
              "      <th></th>\n",
              "      <th>id</th>\n",
              "      <th>name</th>\n",
              "      <th>description</th>\n",
              "      <th>genre</th>\n",
              "    </tr>\n",
              "  </thead>\n",
              "  <tbody>\n",
              "  </tbody>\n",
              "</table>\n",
              "</div>\n",
              "      <button class=\"colab-df-convert\" onclick=\"convertToInteractive('df-c7603ba7-5611-4c1c-bc0a-92d90139bf5c')\"\n",
              "              title=\"Convert this dataframe to an interactive table.\"\n",
              "              style=\"display:none;\">\n",
              "        \n",
              "  <svg xmlns=\"http://www.w3.org/2000/svg\" height=\"24px\"viewBox=\"0 0 24 24\"\n",
              "       width=\"24px\">\n",
              "    <path d=\"M0 0h24v24H0V0z\" fill=\"none\"/>\n",
              "    <path d=\"M18.56 5.44l.94 2.06.94-2.06 2.06-.94-2.06-.94-.94-2.06-.94 2.06-2.06.94zm-11 1L8.5 8.5l.94-2.06 2.06-.94-2.06-.94L8.5 2.5l-.94 2.06-2.06.94zm10 10l.94 2.06.94-2.06 2.06-.94-2.06-.94-.94-2.06-.94 2.06-2.06.94z\"/><path d=\"M17.41 7.96l-1.37-1.37c-.4-.4-.92-.59-1.43-.59-.52 0-1.04.2-1.43.59L10.3 9.45l-7.72 7.72c-.78.78-.78 2.05 0 2.83L4 21.41c.39.39.9.59 1.41.59.51 0 1.02-.2 1.41-.59l7.78-7.78 2.81-2.81c.8-.78.8-2.07 0-2.86zM5.41 20L4 18.59l7.72-7.72 1.47 1.35L5.41 20z\"/>\n",
              "  </svg>\n",
              "      </button>\n",
              "      \n",
              "  <style>\n",
              "    .colab-df-container {\n",
              "      display:flex;\n",
              "      flex-wrap:wrap;\n",
              "      gap: 12px;\n",
              "    }\n",
              "\n",
              "    .colab-df-convert {\n",
              "      background-color: #E8F0FE;\n",
              "      border: none;\n",
              "      border-radius: 50%;\n",
              "      cursor: pointer;\n",
              "      display: none;\n",
              "      fill: #1967D2;\n",
              "      height: 32px;\n",
              "      padding: 0 0 0 0;\n",
              "      width: 32px;\n",
              "    }\n",
              "\n",
              "    .colab-df-convert:hover {\n",
              "      background-color: #E2EBFA;\n",
              "      box-shadow: 0px 1px 2px rgba(60, 64, 67, 0.3), 0px 1px 3px 1px rgba(60, 64, 67, 0.15);\n",
              "      fill: #174EA6;\n",
              "    }\n",
              "\n",
              "    [theme=dark] .colab-df-convert {\n",
              "      background-color: #3B4455;\n",
              "      fill: #D2E3FC;\n",
              "    }\n",
              "\n",
              "    [theme=dark] .colab-df-convert:hover {\n",
              "      background-color: #434B5C;\n",
              "      box-shadow: 0px 1px 3px 1px rgba(0, 0, 0, 0.15);\n",
              "      filter: drop-shadow(0px 1px 2px rgba(0, 0, 0, 0.3));\n",
              "      fill: #FFFFFF;\n",
              "    }\n",
              "  </style>\n",
              "\n",
              "      <script>\n",
              "        const buttonEl =\n",
              "          document.querySelector('#df-c7603ba7-5611-4c1c-bc0a-92d90139bf5c button.colab-df-convert');\n",
              "        buttonEl.style.display =\n",
              "          google.colab.kernel.accessAllowed ? 'block' : 'none';\n",
              "\n",
              "        async function convertToInteractive(key) {\n",
              "          const element = document.querySelector('#df-c7603ba7-5611-4c1c-bc0a-92d90139bf5c');\n",
              "          const dataTable =\n",
              "            await google.colab.kernel.invokeFunction('convertToInteractive',\n",
              "                                                     [key], {});\n",
              "          if (!dataTable) return;\n",
              "\n",
              "          const docLinkHtml = 'Like what you see? Visit the ' +\n",
              "            '<a target=\"_blank\" href=https://colab.research.google.com/notebooks/data_table.ipynb>data table notebook</a>'\n",
              "            + ' to learn more about interactive tables.';\n",
              "          element.innerHTML = '';\n",
              "          dataTable['output_type'] = 'display_data';\n",
              "          await google.colab.output.renderOutput(dataTable, element);\n",
              "          const docLink = document.createElement('div');\n",
              "          docLink.innerHTML = docLinkHtml;\n",
              "          element.appendChild(docLink);\n",
              "        }\n",
              "      </script>\n",
              "    </div>\n",
              "  </div>\n",
              "  "
            ]
          },
          "metadata": {},
          "execution_count": 99
        }
      ],
      "source": [
        "df.drop(df[df['genre']==''].index, inplace=True)\n",
        "df[df['genre']=='']"
      ]
    },
    {
      "cell_type": "code",
      "execution_count": null,
      "metadata": {
        "colab": {
          "base_uri": "https://localhost:8080/",
          "height": 206
        },
        "id": "60339818",
        "outputId": "087e9300-b291-4e4b-f027-adb596bc2666"
      },
      "outputs": [
        {
          "output_type": "execute_result",
          "data": {
            "text/plain": [
              "             id               name  \\\n",
              "16549  36372465     The Third Lynx   \n",
              "16551  36534061     Remote Control   \n",
              "16555  37054020  Transfer of Power   \n",
              "16556  37122323            Decoded   \n",
              "16558  37159503          Poor Folk   \n",
              "\n",
              "                                             description  \\\n",
              "16549   The story starts with former government agent...   \n",
              "16551   The series follows the character of Nick Ston...   \n",
              "16555   The reader first meets Rapp while he is doing...   \n",
              "16556   The book follows very rough chronological ord...   \n",
              "16558   Makar Devushkin and Varvara Dobroselova are s...   \n",
              "\n",
              "                                                   genre  \n",
              "16549                    {\"/m/06n90\": \"Science Fiction\"}  \n",
              "16551  {\"/m/01jfsb\": \"Thriller\", \"/m/02xlf\": \"Fiction...  \n",
              "16555   {\"/m/01jfsb\": \"Thriller\", \"/m/02xlf\": \"Fiction\"}  \n",
              "16556                       {\"/m/0xdf\": \"Autobiography\"}  \n",
              "16558  {\"/m/02ql9\": \"Epistolary novel\", \"/m/014dfn\": ...  "
            ],
            "text/html": [
              "\n",
              "  <div id=\"df-fc34e1bf-639b-4e32-aad4-c6532e4e813c\">\n",
              "    <div class=\"colab-df-container\">\n",
              "      <div>\n",
              "<style scoped>\n",
              "    .dataframe tbody tr th:only-of-type {\n",
              "        vertical-align: middle;\n",
              "    }\n",
              "\n",
              "    .dataframe tbody tr th {\n",
              "        vertical-align: top;\n",
              "    }\n",
              "\n",
              "    .dataframe thead th {\n",
              "        text-align: right;\n",
              "    }\n",
              "</style>\n",
              "<table border=\"1\" class=\"dataframe\">\n",
              "  <thead>\n",
              "    <tr style=\"text-align: right;\">\n",
              "      <th></th>\n",
              "      <th>id</th>\n",
              "      <th>name</th>\n",
              "      <th>description</th>\n",
              "      <th>genre</th>\n",
              "    </tr>\n",
              "  </thead>\n",
              "  <tbody>\n",
              "    <tr>\n",
              "      <th>16549</th>\n",
              "      <td>36372465</td>\n",
              "      <td>The Third Lynx</td>\n",
              "      <td>The story starts with former government agent...</td>\n",
              "      <td>{\"/m/06n90\": \"Science Fiction\"}</td>\n",
              "    </tr>\n",
              "    <tr>\n",
              "      <th>16551</th>\n",
              "      <td>36534061</td>\n",
              "      <td>Remote Control</td>\n",
              "      <td>The series follows the character of Nick Ston...</td>\n",
              "      <td>{\"/m/01jfsb\": \"Thriller\", \"/m/02xlf\": \"Fiction...</td>\n",
              "    </tr>\n",
              "    <tr>\n",
              "      <th>16555</th>\n",
              "      <td>37054020</td>\n",
              "      <td>Transfer of Power</td>\n",
              "      <td>The reader first meets Rapp while he is doing...</td>\n",
              "      <td>{\"/m/01jfsb\": \"Thriller\", \"/m/02xlf\": \"Fiction\"}</td>\n",
              "    </tr>\n",
              "    <tr>\n",
              "      <th>16556</th>\n",
              "      <td>37122323</td>\n",
              "      <td>Decoded</td>\n",
              "      <td>The book follows very rough chronological ord...</td>\n",
              "      <td>{\"/m/0xdf\": \"Autobiography\"}</td>\n",
              "    </tr>\n",
              "    <tr>\n",
              "      <th>16558</th>\n",
              "      <td>37159503</td>\n",
              "      <td>Poor Folk</td>\n",
              "      <td>Makar Devushkin and Varvara Dobroselova are s...</td>\n",
              "      <td>{\"/m/02ql9\": \"Epistolary novel\", \"/m/014dfn\": ...</td>\n",
              "    </tr>\n",
              "  </tbody>\n",
              "</table>\n",
              "</div>\n",
              "      <button class=\"colab-df-convert\" onclick=\"convertToInteractive('df-fc34e1bf-639b-4e32-aad4-c6532e4e813c')\"\n",
              "              title=\"Convert this dataframe to an interactive table.\"\n",
              "              style=\"display:none;\">\n",
              "        \n",
              "  <svg xmlns=\"http://www.w3.org/2000/svg\" height=\"24px\"viewBox=\"0 0 24 24\"\n",
              "       width=\"24px\">\n",
              "    <path d=\"M0 0h24v24H0V0z\" fill=\"none\"/>\n",
              "    <path d=\"M18.56 5.44l.94 2.06.94-2.06 2.06-.94-2.06-.94-.94-2.06-.94 2.06-2.06.94zm-11 1L8.5 8.5l.94-2.06 2.06-.94-2.06-.94L8.5 2.5l-.94 2.06-2.06.94zm10 10l.94 2.06.94-2.06 2.06-.94-2.06-.94-.94-2.06-.94 2.06-2.06.94z\"/><path d=\"M17.41 7.96l-1.37-1.37c-.4-.4-.92-.59-1.43-.59-.52 0-1.04.2-1.43.59L10.3 9.45l-7.72 7.72c-.78.78-.78 2.05 0 2.83L4 21.41c.39.39.9.59 1.41.59.51 0 1.02-.2 1.41-.59l7.78-7.78 2.81-2.81c.8-.78.8-2.07 0-2.86zM5.41 20L4 18.59l7.72-7.72 1.47 1.35L5.41 20z\"/>\n",
              "  </svg>\n",
              "      </button>\n",
              "      \n",
              "  <style>\n",
              "    .colab-df-container {\n",
              "      display:flex;\n",
              "      flex-wrap:wrap;\n",
              "      gap: 12px;\n",
              "    }\n",
              "\n",
              "    .colab-df-convert {\n",
              "      background-color: #E8F0FE;\n",
              "      border: none;\n",
              "      border-radius: 50%;\n",
              "      cursor: pointer;\n",
              "      display: none;\n",
              "      fill: #1967D2;\n",
              "      height: 32px;\n",
              "      padding: 0 0 0 0;\n",
              "      width: 32px;\n",
              "    }\n",
              "\n",
              "    .colab-df-convert:hover {\n",
              "      background-color: #E2EBFA;\n",
              "      box-shadow: 0px 1px 2px rgba(60, 64, 67, 0.3), 0px 1px 3px 1px rgba(60, 64, 67, 0.15);\n",
              "      fill: #174EA6;\n",
              "    }\n",
              "\n",
              "    [theme=dark] .colab-df-convert {\n",
              "      background-color: #3B4455;\n",
              "      fill: #D2E3FC;\n",
              "    }\n",
              "\n",
              "    [theme=dark] .colab-df-convert:hover {\n",
              "      background-color: #434B5C;\n",
              "      box-shadow: 0px 1px 3px 1px rgba(0, 0, 0, 0.15);\n",
              "      filter: drop-shadow(0px 1px 2px rgba(0, 0, 0, 0.3));\n",
              "      fill: #FFFFFF;\n",
              "    }\n",
              "  </style>\n",
              "\n",
              "      <script>\n",
              "        const buttonEl =\n",
              "          document.querySelector('#df-fc34e1bf-639b-4e32-aad4-c6532e4e813c button.colab-df-convert');\n",
              "        buttonEl.style.display =\n",
              "          google.colab.kernel.accessAllowed ? 'block' : 'none';\n",
              "\n",
              "        async function convertToInteractive(key) {\n",
              "          const element = document.querySelector('#df-fc34e1bf-639b-4e32-aad4-c6532e4e813c');\n",
              "          const dataTable =\n",
              "            await google.colab.kernel.invokeFunction('convertToInteractive',\n",
              "                                                     [key], {});\n",
              "          if (!dataTable) return;\n",
              "\n",
              "          const docLinkHtml = 'Like what you see? Visit the ' +\n",
              "            '<a target=\"_blank\" href=https://colab.research.google.com/notebooks/data_table.ipynb>data table notebook</a>'\n",
              "            + ' to learn more about interactive tables.';\n",
              "          element.innerHTML = '';\n",
              "          dataTable['output_type'] = 'display_data';\n",
              "          await google.colab.output.renderOutput(dataTable, element);\n",
              "          const docLink = document.createElement('div');\n",
              "          docLink.innerHTML = docLinkHtml;\n",
              "          element.appendChild(docLink);\n",
              "        }\n",
              "      </script>\n",
              "    </div>\n",
              "  </div>\n",
              "  "
            ]
          },
          "metadata": {},
          "execution_count": 100
        }
      ],
      "source": [
        "df.tail()"
      ]
    },
    {
      "cell_type": "code",
      "source": [
        "print(list(np.where(df['name']=='The Chinese Gold Murders')))\n",
        "df.iloc[7240]"
      ],
      "metadata": {
        "colab": {
          "base_uri": "https://localhost:8080/"
        },
        "id": "qmCjKu8Yg2kN",
        "outputId": "1612d78f-33ee-4aaa-98eb-5f4cf0748618"
      },
      "execution_count": null,
      "outputs": [
        {
          "output_type": "stream",
          "name": "stdout",
          "text": [
            "[array([7240])]\n"
          ]
        },
        {
          "output_type": "execute_result",
          "data": {
            "text/plain": [
              "id                                                       8683518\n",
              "name                                    The Chinese Gold Murders\n",
              "description     Judge Dee is a recently appointed magistrate ...\n",
              "genre          {\"/m/02n4kr\": \"Mystery\", \"/m/028v3\": \"Detectiv...\n",
              "Name: 8639, dtype: object"
            ]
          },
          "metadata": {},
          "execution_count": 101
        }
      ]
    },
    {
      "cell_type": "markdown",
      "source": [
        "Converting json format of genre to list"
      ],
      "metadata": {
        "id": "hzqlBYjZ97IW"
      }
    },
    {
      "cell_type": "code",
      "execution_count": null,
      "metadata": {
        "id": "53ebdc54"
      },
      "outputs": [],
      "source": [
        "import json as jsc"
      ]
    },
    {
      "cell_type": "code",
      "execution_count": null,
      "metadata": {
        "colab": {
          "base_uri": "https://localhost:8080/"
        },
        "id": "90758aee",
        "outputId": "c21fe6ef-9b19-4bfc-c4e2-7e0a31a9ac88"
      },
      "outputs": [
        {
          "output_type": "execute_result",
          "data": {
            "text/plain": [
              "dict_values(['Roman à clef', 'Satire', \"Children's literature\", 'Speculative fiction', 'Fiction'])"
            ]
          },
          "metadata": {},
          "execution_count": 103
        }
      ],
      "source": [
        "jsc.loads(df['genre'][0]).values()"
      ]
    },
    {
      "cell_type": "code",
      "execution_count": null,
      "metadata": {
        "id": "3a6bbaf3"
      },
      "outputs": [],
      "source": [
        "l=[]\n",
        "for i in df['genre']:\n",
        "    l.append(list(jsc.loads(i).values()))"
      ]
    },
    {
      "cell_type": "code",
      "execution_count": null,
      "metadata": {
        "id": "b8c8ac24"
      },
      "outputs": [],
      "source": [
        "df['u-genre'] = l"
      ]
    },
    {
      "cell_type": "code",
      "execution_count": null,
      "metadata": {
        "id": "17424f0a"
      },
      "outputs": [],
      "source": [
        "setOfgenre = sum(l,[])\n",
        "setOfgenre = set(setOfgenre)"
      ]
    },
    {
      "cell_type": "code",
      "execution_count": null,
      "metadata": {
        "colab": {
          "base_uri": "https://localhost:8080/"
        },
        "id": "a7848e55",
        "outputId": "cd8e07bf-c893-4163-d1a1-8a31329a15c8"
      },
      "outputs": [
        {
          "output_type": "execute_result",
          "data": {
            "text/plain": [
              "227"
            ]
          },
          "metadata": {},
          "execution_count": 107
        }
      ],
      "source": [
        "len(setOfgenre)"
      ]
    },
    {
      "cell_type": "markdown",
      "source": [
        "Preprocessing description text"
      ],
      "metadata": {
        "id": "Phjv4YNe-EIV"
      }
    },
    {
      "cell_type": "code",
      "execution_count": null,
      "metadata": {
        "id": "1e0cb551"
      },
      "outputs": [],
      "source": [
        "import re"
      ]
    },
    {
      "cell_type": "code",
      "execution_count": null,
      "metadata": {
        "id": "8437f815"
      },
      "outputs": [],
      "source": [
        "def updateDescription(s):\n",
        "    s = re.sub(\"\\'\", \"\", s)\n",
        "    s = re.sub(\"[^a-zA-Z]\",\" \",s)\n",
        "    s = ' '.join(s.split())\n",
        "    s = s.lower()\n",
        "    return s"
      ]
    },
    {
      "cell_type": "code",
      "execution_count": null,
      "metadata": {
        "id": "8f5b4a63"
      },
      "outputs": [],
      "source": [
        "df['u-description'] = df['description'].apply(lambda x: updateDescription(x))"
      ]
    },
    {
      "cell_type": "code",
      "execution_count": null,
      "metadata": {
        "colab": {
          "base_uri": "https://localhost:8080/",
          "height": 337
        },
        "id": "e9ebb80a",
        "outputId": "7142bc71-71c1-4c3c-c5f6-2ce75368d102"
      },
      "outputs": [
        {
          "output_type": "execute_result",
          "data": {
            "text/plain": [
              "     id                            name  \\\n",
              "0   620                     Animal Farm   \n",
              "1   843              A Clockwork Orange   \n",
              "2   986                      The Plague   \n",
              "4  2080            A Fire Upon the Deep   \n",
              "5  2152  All Quiet on the Western Front   \n",
              "\n",
              "                                         description  \\\n",
              "0   Old Major, the old boar on the Manor Farm, ca...   \n",
              "1   Alex, a teenager living in near-future Englan...   \n",
              "2   The text of The Plague is divided into five p...   \n",
              "4   The novel posits that space around the Milky ...   \n",
              "5   The book tells the story of Paul Bäumer, a Ge...   \n",
              "\n",
              "                                               genre  \\\n",
              "0  {\"/m/016lj8\": \"Roman \\u00e0 clef\", \"/m/06nbt\":...   \n",
              "1  {\"/m/06n90\": \"Science Fiction\", \"/m/0l67h\": \"N...   \n",
              "2  {\"/m/02m4t\": \"Existentialism\", \"/m/02xlf\": \"Fi...   \n",
              "4  {\"/m/03lrw\": \"Hard science fiction\", \"/m/06n90...   \n",
              "5  {\"/m/098tmk\": \"War novel\", \"/m/016lj8\": \"Roman...   \n",
              "\n",
              "                                             u-genre  \\\n",
              "0  [Roman à clef, Satire, Children's literature, ...   \n",
              "1  [Science Fiction, Novella, Speculative fiction...   \n",
              "2  [Existentialism, Fiction, Absurdist fiction, N...   \n",
              "4  [Hard science fiction, Science Fiction, Specul...   \n",
              "5                          [War novel, Roman à clef]   \n",
              "\n",
              "                                       u-description  \n",
              "0  old major the old boar on the manor farm calls...  \n",
              "1  alex a teenager living in near future england ...  \n",
              "2  the text of the plague is divided into five pa...  \n",
              "4  the novel posits that space around the milky w...  \n",
              "5  the book tells the story of paul b umer a germ...  "
            ],
            "text/html": [
              "\n",
              "  <div id=\"df-e00287da-212d-43c1-a750-e7f3d066c304\">\n",
              "    <div class=\"colab-df-container\">\n",
              "      <div>\n",
              "<style scoped>\n",
              "    .dataframe tbody tr th:only-of-type {\n",
              "        vertical-align: middle;\n",
              "    }\n",
              "\n",
              "    .dataframe tbody tr th {\n",
              "        vertical-align: top;\n",
              "    }\n",
              "\n",
              "    .dataframe thead th {\n",
              "        text-align: right;\n",
              "    }\n",
              "</style>\n",
              "<table border=\"1\" class=\"dataframe\">\n",
              "  <thead>\n",
              "    <tr style=\"text-align: right;\">\n",
              "      <th></th>\n",
              "      <th>id</th>\n",
              "      <th>name</th>\n",
              "      <th>description</th>\n",
              "      <th>genre</th>\n",
              "      <th>u-genre</th>\n",
              "      <th>u-description</th>\n",
              "    </tr>\n",
              "  </thead>\n",
              "  <tbody>\n",
              "    <tr>\n",
              "      <th>0</th>\n",
              "      <td>620</td>\n",
              "      <td>Animal Farm</td>\n",
              "      <td>Old Major, the old boar on the Manor Farm, ca...</td>\n",
              "      <td>{\"/m/016lj8\": \"Roman \\u00e0 clef\", \"/m/06nbt\":...</td>\n",
              "      <td>[Roman à clef, Satire, Children's literature, ...</td>\n",
              "      <td>old major the old boar on the manor farm calls...</td>\n",
              "    </tr>\n",
              "    <tr>\n",
              "      <th>1</th>\n",
              "      <td>843</td>\n",
              "      <td>A Clockwork Orange</td>\n",
              "      <td>Alex, a teenager living in near-future Englan...</td>\n",
              "      <td>{\"/m/06n90\": \"Science Fiction\", \"/m/0l67h\": \"N...</td>\n",
              "      <td>[Science Fiction, Novella, Speculative fiction...</td>\n",
              "      <td>alex a teenager living in near future england ...</td>\n",
              "    </tr>\n",
              "    <tr>\n",
              "      <th>2</th>\n",
              "      <td>986</td>\n",
              "      <td>The Plague</td>\n",
              "      <td>The text of The Plague is divided into five p...</td>\n",
              "      <td>{\"/m/02m4t\": \"Existentialism\", \"/m/02xlf\": \"Fi...</td>\n",
              "      <td>[Existentialism, Fiction, Absurdist fiction, N...</td>\n",
              "      <td>the text of the plague is divided into five pa...</td>\n",
              "    </tr>\n",
              "    <tr>\n",
              "      <th>4</th>\n",
              "      <td>2080</td>\n",
              "      <td>A Fire Upon the Deep</td>\n",
              "      <td>The novel posits that space around the Milky ...</td>\n",
              "      <td>{\"/m/03lrw\": \"Hard science fiction\", \"/m/06n90...</td>\n",
              "      <td>[Hard science fiction, Science Fiction, Specul...</td>\n",
              "      <td>the novel posits that space around the milky w...</td>\n",
              "    </tr>\n",
              "    <tr>\n",
              "      <th>5</th>\n",
              "      <td>2152</td>\n",
              "      <td>All Quiet on the Western Front</td>\n",
              "      <td>The book tells the story of Paul Bäumer, a Ge...</td>\n",
              "      <td>{\"/m/098tmk\": \"War novel\", \"/m/016lj8\": \"Roman...</td>\n",
              "      <td>[War novel, Roman à clef]</td>\n",
              "      <td>the book tells the story of paul b umer a germ...</td>\n",
              "    </tr>\n",
              "  </tbody>\n",
              "</table>\n",
              "</div>\n",
              "      <button class=\"colab-df-convert\" onclick=\"convertToInteractive('df-e00287da-212d-43c1-a750-e7f3d066c304')\"\n",
              "              title=\"Convert this dataframe to an interactive table.\"\n",
              "              style=\"display:none;\">\n",
              "        \n",
              "  <svg xmlns=\"http://www.w3.org/2000/svg\" height=\"24px\"viewBox=\"0 0 24 24\"\n",
              "       width=\"24px\">\n",
              "    <path d=\"M0 0h24v24H0V0z\" fill=\"none\"/>\n",
              "    <path d=\"M18.56 5.44l.94 2.06.94-2.06 2.06-.94-2.06-.94-.94-2.06-.94 2.06-2.06.94zm-11 1L8.5 8.5l.94-2.06 2.06-.94-2.06-.94L8.5 2.5l-.94 2.06-2.06.94zm10 10l.94 2.06.94-2.06 2.06-.94-2.06-.94-.94-2.06-.94 2.06-2.06.94z\"/><path d=\"M17.41 7.96l-1.37-1.37c-.4-.4-.92-.59-1.43-.59-.52 0-1.04.2-1.43.59L10.3 9.45l-7.72 7.72c-.78.78-.78 2.05 0 2.83L4 21.41c.39.39.9.59 1.41.59.51 0 1.02-.2 1.41-.59l7.78-7.78 2.81-2.81c.8-.78.8-2.07 0-2.86zM5.41 20L4 18.59l7.72-7.72 1.47 1.35L5.41 20z\"/>\n",
              "  </svg>\n",
              "      </button>\n",
              "      \n",
              "  <style>\n",
              "    .colab-df-container {\n",
              "      display:flex;\n",
              "      flex-wrap:wrap;\n",
              "      gap: 12px;\n",
              "    }\n",
              "\n",
              "    .colab-df-convert {\n",
              "      background-color: #E8F0FE;\n",
              "      border: none;\n",
              "      border-radius: 50%;\n",
              "      cursor: pointer;\n",
              "      display: none;\n",
              "      fill: #1967D2;\n",
              "      height: 32px;\n",
              "      padding: 0 0 0 0;\n",
              "      width: 32px;\n",
              "    }\n",
              "\n",
              "    .colab-df-convert:hover {\n",
              "      background-color: #E2EBFA;\n",
              "      box-shadow: 0px 1px 2px rgba(60, 64, 67, 0.3), 0px 1px 3px 1px rgba(60, 64, 67, 0.15);\n",
              "      fill: #174EA6;\n",
              "    }\n",
              "\n",
              "    [theme=dark] .colab-df-convert {\n",
              "      background-color: #3B4455;\n",
              "      fill: #D2E3FC;\n",
              "    }\n",
              "\n",
              "    [theme=dark] .colab-df-convert:hover {\n",
              "      background-color: #434B5C;\n",
              "      box-shadow: 0px 1px 3px 1px rgba(0, 0, 0, 0.15);\n",
              "      filter: drop-shadow(0px 1px 2px rgba(0, 0, 0, 0.3));\n",
              "      fill: #FFFFFF;\n",
              "    }\n",
              "  </style>\n",
              "\n",
              "      <script>\n",
              "        const buttonEl =\n",
              "          document.querySelector('#df-e00287da-212d-43c1-a750-e7f3d066c304 button.colab-df-convert');\n",
              "        buttonEl.style.display =\n",
              "          google.colab.kernel.accessAllowed ? 'block' : 'none';\n",
              "\n",
              "        async function convertToInteractive(key) {\n",
              "          const element = document.querySelector('#df-e00287da-212d-43c1-a750-e7f3d066c304');\n",
              "          const dataTable =\n",
              "            await google.colab.kernel.invokeFunction('convertToInteractive',\n",
              "                                                     [key], {});\n",
              "          if (!dataTable) return;\n",
              "\n",
              "          const docLinkHtml = 'Like what you see? Visit the ' +\n",
              "            '<a target=\"_blank\" href=https://colab.research.google.com/notebooks/data_table.ipynb>data table notebook</a>'\n",
              "            + ' to learn more about interactive tables.';\n",
              "          element.innerHTML = '';\n",
              "          dataTable['output_type'] = 'display_data';\n",
              "          await google.colab.output.renderOutput(dataTable, element);\n",
              "          const docLink = document.createElement('div');\n",
              "          docLink.innerHTML = docLinkHtml;\n",
              "          element.appendChild(docLink);\n",
              "        }\n",
              "      </script>\n",
              "    </div>\n",
              "  </div>\n",
              "  "
            ]
          },
          "metadata": {},
          "execution_count": 111
        }
      ],
      "source": [
        "df.head()"
      ]
    },
    {
      "cell_type": "code",
      "execution_count": null,
      "metadata": {
        "id": "7e3c5691"
      },
      "outputs": [],
      "source": [
        "df=df.drop(['genre', 'description'], axis=1)"
      ]
    },
    {
      "cell_type": "code",
      "execution_count": null,
      "metadata": {
        "colab": {
          "base_uri": "https://localhost:8080/",
          "height": 206
        },
        "id": "9bbfb605",
        "outputId": "d76a2150-2f40-428c-be2b-60f931531fe8"
      },
      "outputs": [
        {
          "output_type": "execute_result",
          "data": {
            "text/plain": [
              "     id                            name  \\\n",
              "0   620                     Animal Farm   \n",
              "1   843              A Clockwork Orange   \n",
              "2   986                      The Plague   \n",
              "4  2080            A Fire Upon the Deep   \n",
              "5  2152  All Quiet on the Western Front   \n",
              "\n",
              "                                             u-genre  \\\n",
              "0  [Roman à clef, Satire, Children's literature, ...   \n",
              "1  [Science Fiction, Novella, Speculative fiction...   \n",
              "2  [Existentialism, Fiction, Absurdist fiction, N...   \n",
              "4  [Hard science fiction, Science Fiction, Specul...   \n",
              "5                          [War novel, Roman à clef]   \n",
              "\n",
              "                                       u-description  \n",
              "0  old major the old boar on the manor farm calls...  \n",
              "1  alex a teenager living in near future england ...  \n",
              "2  the text of the plague is divided into five pa...  \n",
              "4  the novel posits that space around the milky w...  \n",
              "5  the book tells the story of paul b umer a germ...  "
            ],
            "text/html": [
              "\n",
              "  <div id=\"df-3616c39e-354a-4994-a594-4bf6aee2db3e\">\n",
              "    <div class=\"colab-df-container\">\n",
              "      <div>\n",
              "<style scoped>\n",
              "    .dataframe tbody tr th:only-of-type {\n",
              "        vertical-align: middle;\n",
              "    }\n",
              "\n",
              "    .dataframe tbody tr th {\n",
              "        vertical-align: top;\n",
              "    }\n",
              "\n",
              "    .dataframe thead th {\n",
              "        text-align: right;\n",
              "    }\n",
              "</style>\n",
              "<table border=\"1\" class=\"dataframe\">\n",
              "  <thead>\n",
              "    <tr style=\"text-align: right;\">\n",
              "      <th></th>\n",
              "      <th>id</th>\n",
              "      <th>name</th>\n",
              "      <th>u-genre</th>\n",
              "      <th>u-description</th>\n",
              "    </tr>\n",
              "  </thead>\n",
              "  <tbody>\n",
              "    <tr>\n",
              "      <th>0</th>\n",
              "      <td>620</td>\n",
              "      <td>Animal Farm</td>\n",
              "      <td>[Roman à clef, Satire, Children's literature, ...</td>\n",
              "      <td>old major the old boar on the manor farm calls...</td>\n",
              "    </tr>\n",
              "    <tr>\n",
              "      <th>1</th>\n",
              "      <td>843</td>\n",
              "      <td>A Clockwork Orange</td>\n",
              "      <td>[Science Fiction, Novella, Speculative fiction...</td>\n",
              "      <td>alex a teenager living in near future england ...</td>\n",
              "    </tr>\n",
              "    <tr>\n",
              "      <th>2</th>\n",
              "      <td>986</td>\n",
              "      <td>The Plague</td>\n",
              "      <td>[Existentialism, Fiction, Absurdist fiction, N...</td>\n",
              "      <td>the text of the plague is divided into five pa...</td>\n",
              "    </tr>\n",
              "    <tr>\n",
              "      <th>4</th>\n",
              "      <td>2080</td>\n",
              "      <td>A Fire Upon the Deep</td>\n",
              "      <td>[Hard science fiction, Science Fiction, Specul...</td>\n",
              "      <td>the novel posits that space around the milky w...</td>\n",
              "    </tr>\n",
              "    <tr>\n",
              "      <th>5</th>\n",
              "      <td>2152</td>\n",
              "      <td>All Quiet on the Western Front</td>\n",
              "      <td>[War novel, Roman à clef]</td>\n",
              "      <td>the book tells the story of paul b umer a germ...</td>\n",
              "    </tr>\n",
              "  </tbody>\n",
              "</table>\n",
              "</div>\n",
              "      <button class=\"colab-df-convert\" onclick=\"convertToInteractive('df-3616c39e-354a-4994-a594-4bf6aee2db3e')\"\n",
              "              title=\"Convert this dataframe to an interactive table.\"\n",
              "              style=\"display:none;\">\n",
              "        \n",
              "  <svg xmlns=\"http://www.w3.org/2000/svg\" height=\"24px\"viewBox=\"0 0 24 24\"\n",
              "       width=\"24px\">\n",
              "    <path d=\"M0 0h24v24H0V0z\" fill=\"none\"/>\n",
              "    <path d=\"M18.56 5.44l.94 2.06.94-2.06 2.06-.94-2.06-.94-.94-2.06-.94 2.06-2.06.94zm-11 1L8.5 8.5l.94-2.06 2.06-.94-2.06-.94L8.5 2.5l-.94 2.06-2.06.94zm10 10l.94 2.06.94-2.06 2.06-.94-2.06-.94-.94-2.06-.94 2.06-2.06.94z\"/><path d=\"M17.41 7.96l-1.37-1.37c-.4-.4-.92-.59-1.43-.59-.52 0-1.04.2-1.43.59L10.3 9.45l-7.72 7.72c-.78.78-.78 2.05 0 2.83L4 21.41c.39.39.9.59 1.41.59.51 0 1.02-.2 1.41-.59l7.78-7.78 2.81-2.81c.8-.78.8-2.07 0-2.86zM5.41 20L4 18.59l7.72-7.72 1.47 1.35L5.41 20z\"/>\n",
              "  </svg>\n",
              "      </button>\n",
              "      \n",
              "  <style>\n",
              "    .colab-df-container {\n",
              "      display:flex;\n",
              "      flex-wrap:wrap;\n",
              "      gap: 12px;\n",
              "    }\n",
              "\n",
              "    .colab-df-convert {\n",
              "      background-color: #E8F0FE;\n",
              "      border: none;\n",
              "      border-radius: 50%;\n",
              "      cursor: pointer;\n",
              "      display: none;\n",
              "      fill: #1967D2;\n",
              "      height: 32px;\n",
              "      padding: 0 0 0 0;\n",
              "      width: 32px;\n",
              "    }\n",
              "\n",
              "    .colab-df-convert:hover {\n",
              "      background-color: #E2EBFA;\n",
              "      box-shadow: 0px 1px 2px rgba(60, 64, 67, 0.3), 0px 1px 3px 1px rgba(60, 64, 67, 0.15);\n",
              "      fill: #174EA6;\n",
              "    }\n",
              "\n",
              "    [theme=dark] .colab-df-convert {\n",
              "      background-color: #3B4455;\n",
              "      fill: #D2E3FC;\n",
              "    }\n",
              "\n",
              "    [theme=dark] .colab-df-convert:hover {\n",
              "      background-color: #434B5C;\n",
              "      box-shadow: 0px 1px 3px 1px rgba(0, 0, 0, 0.15);\n",
              "      filter: drop-shadow(0px 1px 2px rgba(0, 0, 0, 0.3));\n",
              "      fill: #FFFFFF;\n",
              "    }\n",
              "  </style>\n",
              "\n",
              "      <script>\n",
              "        const buttonEl =\n",
              "          document.querySelector('#df-3616c39e-354a-4994-a594-4bf6aee2db3e button.colab-df-convert');\n",
              "        buttonEl.style.display =\n",
              "          google.colab.kernel.accessAllowed ? 'block' : 'none';\n",
              "\n",
              "        async function convertToInteractive(key) {\n",
              "          const element = document.querySelector('#df-3616c39e-354a-4994-a594-4bf6aee2db3e');\n",
              "          const dataTable =\n",
              "            await google.colab.kernel.invokeFunction('convertToInteractive',\n",
              "                                                     [key], {});\n",
              "          if (!dataTable) return;\n",
              "\n",
              "          const docLinkHtml = 'Like what you see? Visit the ' +\n",
              "            '<a target=\"_blank\" href=https://colab.research.google.com/notebooks/data_table.ipynb>data table notebook</a>'\n",
              "            + ' to learn more about interactive tables.';\n",
              "          element.innerHTML = '';\n",
              "          dataTable['output_type'] = 'display_data';\n",
              "          await google.colab.output.renderOutput(dataTable, element);\n",
              "          const docLink = document.createElement('div');\n",
              "          docLink.innerHTML = docLinkHtml;\n",
              "          element.appendChild(docLink);\n",
              "        }\n",
              "      </script>\n",
              "    </div>\n",
              "  </div>\n",
              "  "
            ]
          },
          "metadata": {},
          "execution_count": 113
        }
      ],
      "source": [
        "df.head()"
      ]
    },
    {
      "cell_type": "code",
      "execution_count": null,
      "metadata": {
        "id": "576fcf32"
      },
      "outputs": [],
      "source": [
        "df.rename(columns = {'u-genre':'genre'}, inplace = True)"
      ]
    },
    {
      "cell_type": "code",
      "execution_count": null,
      "metadata": {
        "id": "732d76c0"
      },
      "outputs": [],
      "source": [
        "df.rename(columns = {'u-description':'description'}, inplace = True)"
      ]
    },
    {
      "cell_type": "code",
      "execution_count": null,
      "metadata": {
        "colab": {
          "base_uri": "https://localhost:8080/",
          "height": 206
        },
        "id": "efd6377f",
        "outputId": "fabf1be9-afea-4e51-93de-449bf6cc4f87"
      },
      "outputs": [
        {
          "output_type": "execute_result",
          "data": {
            "text/plain": [
              "     id                            name  \\\n",
              "0   620                     Animal Farm   \n",
              "1   843              A Clockwork Orange   \n",
              "2   986                      The Plague   \n",
              "4  2080            A Fire Upon the Deep   \n",
              "5  2152  All Quiet on the Western Front   \n",
              "\n",
              "                                               genre  \\\n",
              "0  [Roman à clef, Satire, Children's literature, ...   \n",
              "1  [Science Fiction, Novella, Speculative fiction...   \n",
              "2  [Existentialism, Fiction, Absurdist fiction, N...   \n",
              "4  [Hard science fiction, Science Fiction, Specul...   \n",
              "5                          [War novel, Roman à clef]   \n",
              "\n",
              "                                         description  \n",
              "0  old major the old boar on the manor farm calls...  \n",
              "1  alex a teenager living in near future england ...  \n",
              "2  the text of the plague is divided into five pa...  \n",
              "4  the novel posits that space around the milky w...  \n",
              "5  the book tells the story of paul b umer a germ...  "
            ],
            "text/html": [
              "\n",
              "  <div id=\"df-fc376825-9506-4696-9cc4-ad4f5fc8cd49\">\n",
              "    <div class=\"colab-df-container\">\n",
              "      <div>\n",
              "<style scoped>\n",
              "    .dataframe tbody tr th:only-of-type {\n",
              "        vertical-align: middle;\n",
              "    }\n",
              "\n",
              "    .dataframe tbody tr th {\n",
              "        vertical-align: top;\n",
              "    }\n",
              "\n",
              "    .dataframe thead th {\n",
              "        text-align: right;\n",
              "    }\n",
              "</style>\n",
              "<table border=\"1\" class=\"dataframe\">\n",
              "  <thead>\n",
              "    <tr style=\"text-align: right;\">\n",
              "      <th></th>\n",
              "      <th>id</th>\n",
              "      <th>name</th>\n",
              "      <th>genre</th>\n",
              "      <th>description</th>\n",
              "    </tr>\n",
              "  </thead>\n",
              "  <tbody>\n",
              "    <tr>\n",
              "      <th>0</th>\n",
              "      <td>620</td>\n",
              "      <td>Animal Farm</td>\n",
              "      <td>[Roman à clef, Satire, Children's literature, ...</td>\n",
              "      <td>old major the old boar on the manor farm calls...</td>\n",
              "    </tr>\n",
              "    <tr>\n",
              "      <th>1</th>\n",
              "      <td>843</td>\n",
              "      <td>A Clockwork Orange</td>\n",
              "      <td>[Science Fiction, Novella, Speculative fiction...</td>\n",
              "      <td>alex a teenager living in near future england ...</td>\n",
              "    </tr>\n",
              "    <tr>\n",
              "      <th>2</th>\n",
              "      <td>986</td>\n",
              "      <td>The Plague</td>\n",
              "      <td>[Existentialism, Fiction, Absurdist fiction, N...</td>\n",
              "      <td>the text of the plague is divided into five pa...</td>\n",
              "    </tr>\n",
              "    <tr>\n",
              "      <th>4</th>\n",
              "      <td>2080</td>\n",
              "      <td>A Fire Upon the Deep</td>\n",
              "      <td>[Hard science fiction, Science Fiction, Specul...</td>\n",
              "      <td>the novel posits that space around the milky w...</td>\n",
              "    </tr>\n",
              "    <tr>\n",
              "      <th>5</th>\n",
              "      <td>2152</td>\n",
              "      <td>All Quiet on the Western Front</td>\n",
              "      <td>[War novel, Roman à clef]</td>\n",
              "      <td>the book tells the story of paul b umer a germ...</td>\n",
              "    </tr>\n",
              "  </tbody>\n",
              "</table>\n",
              "</div>\n",
              "      <button class=\"colab-df-convert\" onclick=\"convertToInteractive('df-fc376825-9506-4696-9cc4-ad4f5fc8cd49')\"\n",
              "              title=\"Convert this dataframe to an interactive table.\"\n",
              "              style=\"display:none;\">\n",
              "        \n",
              "  <svg xmlns=\"http://www.w3.org/2000/svg\" height=\"24px\"viewBox=\"0 0 24 24\"\n",
              "       width=\"24px\">\n",
              "    <path d=\"M0 0h24v24H0V0z\" fill=\"none\"/>\n",
              "    <path d=\"M18.56 5.44l.94 2.06.94-2.06 2.06-.94-2.06-.94-.94-2.06-.94 2.06-2.06.94zm-11 1L8.5 8.5l.94-2.06 2.06-.94-2.06-.94L8.5 2.5l-.94 2.06-2.06.94zm10 10l.94 2.06.94-2.06 2.06-.94-2.06-.94-.94-2.06-.94 2.06-2.06.94z\"/><path d=\"M17.41 7.96l-1.37-1.37c-.4-.4-.92-.59-1.43-.59-.52 0-1.04.2-1.43.59L10.3 9.45l-7.72 7.72c-.78.78-.78 2.05 0 2.83L4 21.41c.39.39.9.59 1.41.59.51 0 1.02-.2 1.41-.59l7.78-7.78 2.81-2.81c.8-.78.8-2.07 0-2.86zM5.41 20L4 18.59l7.72-7.72 1.47 1.35L5.41 20z\"/>\n",
              "  </svg>\n",
              "      </button>\n",
              "      \n",
              "  <style>\n",
              "    .colab-df-container {\n",
              "      display:flex;\n",
              "      flex-wrap:wrap;\n",
              "      gap: 12px;\n",
              "    }\n",
              "\n",
              "    .colab-df-convert {\n",
              "      background-color: #E8F0FE;\n",
              "      border: none;\n",
              "      border-radius: 50%;\n",
              "      cursor: pointer;\n",
              "      display: none;\n",
              "      fill: #1967D2;\n",
              "      height: 32px;\n",
              "      padding: 0 0 0 0;\n",
              "      width: 32px;\n",
              "    }\n",
              "\n",
              "    .colab-df-convert:hover {\n",
              "      background-color: #E2EBFA;\n",
              "      box-shadow: 0px 1px 2px rgba(60, 64, 67, 0.3), 0px 1px 3px 1px rgba(60, 64, 67, 0.15);\n",
              "      fill: #174EA6;\n",
              "    }\n",
              "\n",
              "    [theme=dark] .colab-df-convert {\n",
              "      background-color: #3B4455;\n",
              "      fill: #D2E3FC;\n",
              "    }\n",
              "\n",
              "    [theme=dark] .colab-df-convert:hover {\n",
              "      background-color: #434B5C;\n",
              "      box-shadow: 0px 1px 3px 1px rgba(0, 0, 0, 0.15);\n",
              "      filter: drop-shadow(0px 1px 2px rgba(0, 0, 0, 0.3));\n",
              "      fill: #FFFFFF;\n",
              "    }\n",
              "  </style>\n",
              "\n",
              "      <script>\n",
              "        const buttonEl =\n",
              "          document.querySelector('#df-fc376825-9506-4696-9cc4-ad4f5fc8cd49 button.colab-df-convert');\n",
              "        buttonEl.style.display =\n",
              "          google.colab.kernel.accessAllowed ? 'block' : 'none';\n",
              "\n",
              "        async function convertToInteractive(key) {\n",
              "          const element = document.querySelector('#df-fc376825-9506-4696-9cc4-ad4f5fc8cd49');\n",
              "          const dataTable =\n",
              "            await google.colab.kernel.invokeFunction('convertToInteractive',\n",
              "                                                     [key], {});\n",
              "          if (!dataTable) return;\n",
              "\n",
              "          const docLinkHtml = 'Like what you see? Visit the ' +\n",
              "            '<a target=\"_blank\" href=https://colab.research.google.com/notebooks/data_table.ipynb>data table notebook</a>'\n",
              "            + ' to learn more about interactive tables.';\n",
              "          element.innerHTML = '';\n",
              "          dataTable['output_type'] = 'display_data';\n",
              "          await google.colab.output.renderOutput(dataTable, element);\n",
              "          const docLink = document.createElement('div');\n",
              "          docLink.innerHTML = docLinkHtml;\n",
              "          element.appendChild(docLink);\n",
              "        }\n",
              "      </script>\n",
              "    </div>\n",
              "  </div>\n",
              "  "
            ]
          },
          "metadata": {},
          "execution_count": 116
        }
      ],
      "source": [
        "df.head()"
      ]
    },
    {
      "cell_type": "code",
      "execution_count": null,
      "metadata": {
        "colab": {
          "base_uri": "https://localhost:8080/"
        },
        "id": "5cb1265a",
        "outputId": "a11f8688-7612-4206-c21f-d345991277fd"
      },
      "outputs": [
        {
          "output_type": "execute_result",
          "data": {
            "text/plain": [
              "id              int64\n",
              "name           object\n",
              "genre          object\n",
              "description    object\n",
              "dtype: object"
            ]
          },
          "metadata": {},
          "execution_count": 117
        }
      ],
      "source": [
        "df.dtypes"
      ]
    },
    {
      "cell_type": "code",
      "execution_count": null,
      "metadata": {
        "colab": {
          "base_uri": "https://localhost:8080/"
        },
        "id": "e8507650",
        "outputId": "5a4b9bd0-c809-40fe-d697-2f395cb265b4"
      },
      "outputs": [
        {
          "output_type": "stream",
          "name": "stdout",
          "text": [
            "<class 'pandas.core.frame.DataFrame'>\n",
            "Int64Index: 12841 entries, 0 to 16558\n",
            "Data columns (total 4 columns):\n",
            " #   Column       Non-Null Count  Dtype \n",
            "---  ------       --------------  ----- \n",
            " 0   id           12841 non-null  int64 \n",
            " 1   name         12841 non-null  object\n",
            " 2   genre        12841 non-null  object\n",
            " 3   description  12841 non-null  object\n",
            "dtypes: int64(1), object(3)\n",
            "memory usage: 1017.6+ KB\n"
          ]
        }
      ],
      "source": [
        "df.info()"
      ]
    },
    {
      "cell_type": "code",
      "execution_count": null,
      "metadata": {
        "colab": {
          "base_uri": "https://localhost:8080/"
        },
        "id": "cf525c18",
        "outputId": "f5bef145-7575-4425-9352-e157faf8443d"
      },
      "outputs": [
        {
          "output_type": "execute_result",
          "data": {
            "text/plain": [
              "(12841, 4)"
            ]
          },
          "metadata": {},
          "execution_count": 119
        }
      ],
      "source": [
        "df.shape"
      ]
    },
    {
      "cell_type": "code",
      "execution_count": null,
      "metadata": {
        "colab": {
          "base_uri": "https://localhost:8080/",
          "height": 300
        },
        "id": "f7689445",
        "outputId": "ce1bf8b7-5c93-4e41-8b2c-c6403b5032ef"
      },
      "outputs": [
        {
          "output_type": "execute_result",
          "data": {
            "text/plain": [
              "                 id\n",
              "count  1.284100e+04\n",
              "mean   9.986379e+06\n",
              "std    9.032047e+06\n",
              "min    6.200000e+02\n",
              "25%    2.626115e+06\n",
              "50%    6.877746e+06\n",
              "75%    1.557749e+07\n",
              "max    3.715950e+07"
            ],
            "text/html": [
              "\n",
              "  <div id=\"df-b1a3d722-3e4a-4137-81c0-a8382b601133\">\n",
              "    <div class=\"colab-df-container\">\n",
              "      <div>\n",
              "<style scoped>\n",
              "    .dataframe tbody tr th:only-of-type {\n",
              "        vertical-align: middle;\n",
              "    }\n",
              "\n",
              "    .dataframe tbody tr th {\n",
              "        vertical-align: top;\n",
              "    }\n",
              "\n",
              "    .dataframe thead th {\n",
              "        text-align: right;\n",
              "    }\n",
              "</style>\n",
              "<table border=\"1\" class=\"dataframe\">\n",
              "  <thead>\n",
              "    <tr style=\"text-align: right;\">\n",
              "      <th></th>\n",
              "      <th>id</th>\n",
              "    </tr>\n",
              "  </thead>\n",
              "  <tbody>\n",
              "    <tr>\n",
              "      <th>count</th>\n",
              "      <td>1.284100e+04</td>\n",
              "    </tr>\n",
              "    <tr>\n",
              "      <th>mean</th>\n",
              "      <td>9.986379e+06</td>\n",
              "    </tr>\n",
              "    <tr>\n",
              "      <th>std</th>\n",
              "      <td>9.032047e+06</td>\n",
              "    </tr>\n",
              "    <tr>\n",
              "      <th>min</th>\n",
              "      <td>6.200000e+02</td>\n",
              "    </tr>\n",
              "    <tr>\n",
              "      <th>25%</th>\n",
              "      <td>2.626115e+06</td>\n",
              "    </tr>\n",
              "    <tr>\n",
              "      <th>50%</th>\n",
              "      <td>6.877746e+06</td>\n",
              "    </tr>\n",
              "    <tr>\n",
              "      <th>75%</th>\n",
              "      <td>1.557749e+07</td>\n",
              "    </tr>\n",
              "    <tr>\n",
              "      <th>max</th>\n",
              "      <td>3.715950e+07</td>\n",
              "    </tr>\n",
              "  </tbody>\n",
              "</table>\n",
              "</div>\n",
              "      <button class=\"colab-df-convert\" onclick=\"convertToInteractive('df-b1a3d722-3e4a-4137-81c0-a8382b601133')\"\n",
              "              title=\"Convert this dataframe to an interactive table.\"\n",
              "              style=\"display:none;\">\n",
              "        \n",
              "  <svg xmlns=\"http://www.w3.org/2000/svg\" height=\"24px\"viewBox=\"0 0 24 24\"\n",
              "       width=\"24px\">\n",
              "    <path d=\"M0 0h24v24H0V0z\" fill=\"none\"/>\n",
              "    <path d=\"M18.56 5.44l.94 2.06.94-2.06 2.06-.94-2.06-.94-.94-2.06-.94 2.06-2.06.94zm-11 1L8.5 8.5l.94-2.06 2.06-.94-2.06-.94L8.5 2.5l-.94 2.06-2.06.94zm10 10l.94 2.06.94-2.06 2.06-.94-2.06-.94-.94-2.06-.94 2.06-2.06.94z\"/><path d=\"M17.41 7.96l-1.37-1.37c-.4-.4-.92-.59-1.43-.59-.52 0-1.04.2-1.43.59L10.3 9.45l-7.72 7.72c-.78.78-.78 2.05 0 2.83L4 21.41c.39.39.9.59 1.41.59.51 0 1.02-.2 1.41-.59l7.78-7.78 2.81-2.81c.8-.78.8-2.07 0-2.86zM5.41 20L4 18.59l7.72-7.72 1.47 1.35L5.41 20z\"/>\n",
              "  </svg>\n",
              "      </button>\n",
              "      \n",
              "  <style>\n",
              "    .colab-df-container {\n",
              "      display:flex;\n",
              "      flex-wrap:wrap;\n",
              "      gap: 12px;\n",
              "    }\n",
              "\n",
              "    .colab-df-convert {\n",
              "      background-color: #E8F0FE;\n",
              "      border: none;\n",
              "      border-radius: 50%;\n",
              "      cursor: pointer;\n",
              "      display: none;\n",
              "      fill: #1967D2;\n",
              "      height: 32px;\n",
              "      padding: 0 0 0 0;\n",
              "      width: 32px;\n",
              "    }\n",
              "\n",
              "    .colab-df-convert:hover {\n",
              "      background-color: #E2EBFA;\n",
              "      box-shadow: 0px 1px 2px rgba(60, 64, 67, 0.3), 0px 1px 3px 1px rgba(60, 64, 67, 0.15);\n",
              "      fill: #174EA6;\n",
              "    }\n",
              "\n",
              "    [theme=dark] .colab-df-convert {\n",
              "      background-color: #3B4455;\n",
              "      fill: #D2E3FC;\n",
              "    }\n",
              "\n",
              "    [theme=dark] .colab-df-convert:hover {\n",
              "      background-color: #434B5C;\n",
              "      box-shadow: 0px 1px 3px 1px rgba(0, 0, 0, 0.15);\n",
              "      filter: drop-shadow(0px 1px 2px rgba(0, 0, 0, 0.3));\n",
              "      fill: #FFFFFF;\n",
              "    }\n",
              "  </style>\n",
              "\n",
              "      <script>\n",
              "        const buttonEl =\n",
              "          document.querySelector('#df-b1a3d722-3e4a-4137-81c0-a8382b601133 button.colab-df-convert');\n",
              "        buttonEl.style.display =\n",
              "          google.colab.kernel.accessAllowed ? 'block' : 'none';\n",
              "\n",
              "        async function convertToInteractive(key) {\n",
              "          const element = document.querySelector('#df-b1a3d722-3e4a-4137-81c0-a8382b601133');\n",
              "          const dataTable =\n",
              "            await google.colab.kernel.invokeFunction('convertToInteractive',\n",
              "                                                     [key], {});\n",
              "          if (!dataTable) return;\n",
              "\n",
              "          const docLinkHtml = 'Like what you see? Visit the ' +\n",
              "            '<a target=\"_blank\" href=https://colab.research.google.com/notebooks/data_table.ipynb>data table notebook</a>'\n",
              "            + ' to learn more about interactive tables.';\n",
              "          element.innerHTML = '';\n",
              "          dataTable['output_type'] = 'display_data';\n",
              "          await google.colab.output.renderOutput(dataTable, element);\n",
              "          const docLink = document.createElement('div');\n",
              "          docLink.innerHTML = docLinkHtml;\n",
              "          element.appendChild(docLink);\n",
              "        }\n",
              "      </script>\n",
              "    </div>\n",
              "  </div>\n",
              "  "
            ]
          },
          "metadata": {},
          "execution_count": 120
        }
      ],
      "source": [
        "df.describe()"
      ]
    },
    {
      "cell_type": "code",
      "execution_count": null,
      "metadata": {
        "colab": {
          "base_uri": "https://localhost:8080/"
        },
        "id": "55581b98",
        "outputId": "0e4612bf-1f06-45d8-cc50-dae5ede2370f"
      },
      "outputs": [
        {
          "output_type": "stream",
          "name": "stderr",
          "text": [
            "[nltk_data] Downloading package stopwords to /root/nltk_data...\n",
            "[nltk_data]   Unzipping corpora/stopwords.zip.\n",
            "[nltk_data] Downloading package words to /root/nltk_data...\n",
            "[nltk_data]   Unzipping corpora/words.zip.\n",
            "[nltk_data] Downloading package punkt to /root/nltk_data...\n",
            "[nltk_data]   Unzipping tokenizers/punkt.zip.\n"
          ]
        },
        {
          "output_type": "execute_result",
          "data": {
            "text/plain": [
              "True"
            ]
          },
          "metadata": {},
          "execution_count": 121
        }
      ],
      "source": [
        "import nltk\n",
        "from nltk.corpus import stopwords \n",
        "nltk.download('stopwords')\n",
        "nltk.download('words')\n",
        "nltk.download('punkt')"
      ]
    },
    {
      "cell_type": "code",
      "execution_count": null,
      "metadata": {
        "id": "0b3b51cc"
      },
      "outputs": [],
      "source": [
        "from nltk.tokenize import word_tokenize"
      ]
    },
    {
      "cell_type": "markdown",
      "source": [
        "Removing stopwords from the description"
      ],
      "metadata": {
        "id": "F4aq2sSO-dWL"
      }
    },
    {
      "cell_type": "code",
      "execution_count": null,
      "metadata": {
        "id": "dfce7861"
      },
      "outputs": [],
      "source": [
        "def preprocess_SW(desc):\n",
        "    setSW = set(stopwords.words('english'))\n",
        "    tokens = word_tokenize(desc)\n",
        "    newDesc = [x for x in tokens if not x.lower() in setSW]\n",
        "    return ' '.join(newDesc)"
      ]
    },
    {
      "cell_type": "code",
      "execution_count": null,
      "metadata": {
        "colab": {
          "base_uri": "https://localhost:8080/",
          "height": 53
        },
        "id": "7c83d55b",
        "outputId": "bca1a075-6040-45d7-fb8d-7323af799454"
      },
      "outputs": [
        {
          "output_type": "execute_result",
          "data": {
            "text/plain": [
              "'old major old boar manor farm calls animals farm meeting compares humans parasites teaches animals revolutionary song beasts england major dies two young pigs snowball napoleon assume command turn dream philosophy'"
            ],
            "application/vnd.google.colaboratory.intrinsic+json": {
              "type": "string"
            }
          },
          "metadata": {},
          "execution_count": 124
        }
      ],
      "source": [
        "preprocess_SW(\"old major the old boar on the manor farm calls the animals on the farm for a meeting where he compares the humans to parasites and teaches the animals a revolutionary song beasts of england when major dies two young pigs snowball and napoleon assume command and turn his dream into a philosophy\")"
      ]
    },
    {
      "cell_type": "code",
      "execution_count": null,
      "metadata": {
        "id": "522410be"
      },
      "outputs": [],
      "source": [
        "df['description w/o SW'] = df['description'].apply(lambda x: preprocess_SW(x))"
      ]
    },
    {
      "cell_type": "code",
      "execution_count": null,
      "metadata": {
        "colab": {
          "base_uri": "https://localhost:8080/",
          "height": 337
        },
        "id": "71faead0",
        "outputId": "f3e8583a-1973-4390-d1dc-8e469672f4ea"
      },
      "outputs": [
        {
          "output_type": "execute_result",
          "data": {
            "text/plain": [
              "     id                            name  \\\n",
              "0   620                     Animal Farm   \n",
              "1   843              A Clockwork Orange   \n",
              "2   986                      The Plague   \n",
              "4  2080            A Fire Upon the Deep   \n",
              "5  2152  All Quiet on the Western Front   \n",
              "\n",
              "                                               genre  \\\n",
              "0  [Roman à clef, Satire, Children's literature, ...   \n",
              "1  [Science Fiction, Novella, Speculative fiction...   \n",
              "2  [Existentialism, Fiction, Absurdist fiction, N...   \n",
              "4  [Hard science fiction, Science Fiction, Specul...   \n",
              "5                          [War novel, Roman à clef]   \n",
              "\n",
              "                                         description  \\\n",
              "0  old major the old boar on the manor farm calls...   \n",
              "1  alex a teenager living in near future england ...   \n",
              "2  the text of the plague is divided into five pa...   \n",
              "4  the novel posits that space around the milky w...   \n",
              "5  the book tells the story of paul b umer a germ...   \n",
              "\n",
              "                                  description w/o SW  \n",
              "0  old major old boar manor farm calls animals fa...  \n",
              "1  alex teenager living near future england leads...  \n",
              "2  text plague divided five parts town oran thous...  \n",
              "4  novel posits space around milky way divided co...  \n",
              "5  book tells story paul b umer german soldier ur...  "
            ],
            "text/html": [
              "\n",
              "  <div id=\"df-eadebe75-334e-43f4-b11d-8b544d923bfd\">\n",
              "    <div class=\"colab-df-container\">\n",
              "      <div>\n",
              "<style scoped>\n",
              "    .dataframe tbody tr th:only-of-type {\n",
              "        vertical-align: middle;\n",
              "    }\n",
              "\n",
              "    .dataframe tbody tr th {\n",
              "        vertical-align: top;\n",
              "    }\n",
              "\n",
              "    .dataframe thead th {\n",
              "        text-align: right;\n",
              "    }\n",
              "</style>\n",
              "<table border=\"1\" class=\"dataframe\">\n",
              "  <thead>\n",
              "    <tr style=\"text-align: right;\">\n",
              "      <th></th>\n",
              "      <th>id</th>\n",
              "      <th>name</th>\n",
              "      <th>genre</th>\n",
              "      <th>description</th>\n",
              "      <th>description w/o SW</th>\n",
              "    </tr>\n",
              "  </thead>\n",
              "  <tbody>\n",
              "    <tr>\n",
              "      <th>0</th>\n",
              "      <td>620</td>\n",
              "      <td>Animal Farm</td>\n",
              "      <td>[Roman à clef, Satire, Children's literature, ...</td>\n",
              "      <td>old major the old boar on the manor farm calls...</td>\n",
              "      <td>old major old boar manor farm calls animals fa...</td>\n",
              "    </tr>\n",
              "    <tr>\n",
              "      <th>1</th>\n",
              "      <td>843</td>\n",
              "      <td>A Clockwork Orange</td>\n",
              "      <td>[Science Fiction, Novella, Speculative fiction...</td>\n",
              "      <td>alex a teenager living in near future england ...</td>\n",
              "      <td>alex teenager living near future england leads...</td>\n",
              "    </tr>\n",
              "    <tr>\n",
              "      <th>2</th>\n",
              "      <td>986</td>\n",
              "      <td>The Plague</td>\n",
              "      <td>[Existentialism, Fiction, Absurdist fiction, N...</td>\n",
              "      <td>the text of the plague is divided into five pa...</td>\n",
              "      <td>text plague divided five parts town oran thous...</td>\n",
              "    </tr>\n",
              "    <tr>\n",
              "      <th>4</th>\n",
              "      <td>2080</td>\n",
              "      <td>A Fire Upon the Deep</td>\n",
              "      <td>[Hard science fiction, Science Fiction, Specul...</td>\n",
              "      <td>the novel posits that space around the milky w...</td>\n",
              "      <td>novel posits space around milky way divided co...</td>\n",
              "    </tr>\n",
              "    <tr>\n",
              "      <th>5</th>\n",
              "      <td>2152</td>\n",
              "      <td>All Quiet on the Western Front</td>\n",
              "      <td>[War novel, Roman à clef]</td>\n",
              "      <td>the book tells the story of paul b umer a germ...</td>\n",
              "      <td>book tells story paul b umer german soldier ur...</td>\n",
              "    </tr>\n",
              "  </tbody>\n",
              "</table>\n",
              "</div>\n",
              "      <button class=\"colab-df-convert\" onclick=\"convertToInteractive('df-eadebe75-334e-43f4-b11d-8b544d923bfd')\"\n",
              "              title=\"Convert this dataframe to an interactive table.\"\n",
              "              style=\"display:none;\">\n",
              "        \n",
              "  <svg xmlns=\"http://www.w3.org/2000/svg\" height=\"24px\"viewBox=\"0 0 24 24\"\n",
              "       width=\"24px\">\n",
              "    <path d=\"M0 0h24v24H0V0z\" fill=\"none\"/>\n",
              "    <path d=\"M18.56 5.44l.94 2.06.94-2.06 2.06-.94-2.06-.94-.94-2.06-.94 2.06-2.06.94zm-11 1L8.5 8.5l.94-2.06 2.06-.94-2.06-.94L8.5 2.5l-.94 2.06-2.06.94zm10 10l.94 2.06.94-2.06 2.06-.94-2.06-.94-.94-2.06-.94 2.06-2.06.94z\"/><path d=\"M17.41 7.96l-1.37-1.37c-.4-.4-.92-.59-1.43-.59-.52 0-1.04.2-1.43.59L10.3 9.45l-7.72 7.72c-.78.78-.78 2.05 0 2.83L4 21.41c.39.39.9.59 1.41.59.51 0 1.02-.2 1.41-.59l7.78-7.78 2.81-2.81c.8-.78.8-2.07 0-2.86zM5.41 20L4 18.59l7.72-7.72 1.47 1.35L5.41 20z\"/>\n",
              "  </svg>\n",
              "      </button>\n",
              "      \n",
              "  <style>\n",
              "    .colab-df-container {\n",
              "      display:flex;\n",
              "      flex-wrap:wrap;\n",
              "      gap: 12px;\n",
              "    }\n",
              "\n",
              "    .colab-df-convert {\n",
              "      background-color: #E8F0FE;\n",
              "      border: none;\n",
              "      border-radius: 50%;\n",
              "      cursor: pointer;\n",
              "      display: none;\n",
              "      fill: #1967D2;\n",
              "      height: 32px;\n",
              "      padding: 0 0 0 0;\n",
              "      width: 32px;\n",
              "    }\n",
              "\n",
              "    .colab-df-convert:hover {\n",
              "      background-color: #E2EBFA;\n",
              "      box-shadow: 0px 1px 2px rgba(60, 64, 67, 0.3), 0px 1px 3px 1px rgba(60, 64, 67, 0.15);\n",
              "      fill: #174EA6;\n",
              "    }\n",
              "\n",
              "    [theme=dark] .colab-df-convert {\n",
              "      background-color: #3B4455;\n",
              "      fill: #D2E3FC;\n",
              "    }\n",
              "\n",
              "    [theme=dark] .colab-df-convert:hover {\n",
              "      background-color: #434B5C;\n",
              "      box-shadow: 0px 1px 3px 1px rgba(0, 0, 0, 0.15);\n",
              "      filter: drop-shadow(0px 1px 2px rgba(0, 0, 0, 0.3));\n",
              "      fill: #FFFFFF;\n",
              "    }\n",
              "  </style>\n",
              "\n",
              "      <script>\n",
              "        const buttonEl =\n",
              "          document.querySelector('#df-eadebe75-334e-43f4-b11d-8b544d923bfd button.colab-df-convert');\n",
              "        buttonEl.style.display =\n",
              "          google.colab.kernel.accessAllowed ? 'block' : 'none';\n",
              "\n",
              "        async function convertToInteractive(key) {\n",
              "          const element = document.querySelector('#df-eadebe75-334e-43f4-b11d-8b544d923bfd');\n",
              "          const dataTable =\n",
              "            await google.colab.kernel.invokeFunction('convertToInteractive',\n",
              "                                                     [key], {});\n",
              "          if (!dataTable) return;\n",
              "\n",
              "          const docLinkHtml = 'Like what you see? Visit the ' +\n",
              "            '<a target=\"_blank\" href=https://colab.research.google.com/notebooks/data_table.ipynb>data table notebook</a>'\n",
              "            + ' to learn more about interactive tables.';\n",
              "          element.innerHTML = '';\n",
              "          dataTable['output_type'] = 'display_data';\n",
              "          await google.colab.output.renderOutput(dataTable, element);\n",
              "          const docLink = document.createElement('div');\n",
              "          docLink.innerHTML = docLinkHtml;\n",
              "          element.appendChild(docLink);\n",
              "        }\n",
              "      </script>\n",
              "    </div>\n",
              "  </div>\n",
              "  "
            ]
          },
          "metadata": {},
          "execution_count": 126
        }
      ],
      "source": [
        "df.head()"
      ]
    },
    {
      "cell_type": "code",
      "execution_count": null,
      "metadata": {
        "id": "901ab587"
      },
      "outputs": [],
      "source": [
        "from sklearn.preprocessing import MultiLabelBinarizer\n",
        "from sklearn.model_selection import train_test_split\n",
        "from sklearn.linear_model import LogisticRegression"
      ]
    },
    {
      "cell_type": "markdown",
      "source": [
        "Encoding multiple labels since each data point can belong to multiple classes"
      ],
      "metadata": {
        "id": "PRSH3Gus_I5p"
      }
    },
    {
      "cell_type": "code",
      "execution_count": null,
      "metadata": {
        "id": "0e1a9285"
      },
      "outputs": [],
      "source": [
        "mBin = MultiLabelBinarizer()"
      ]
    },
    {
      "cell_type": "code",
      "execution_count": null,
      "metadata": {
        "colab": {
          "base_uri": "https://localhost:8080/",
          "height": 74
        },
        "id": "f5480766",
        "outputId": "14e8c425-9504-457f-8b49-21c90005a7d9"
      },
      "outputs": [
        {
          "output_type": "execute_result",
          "data": {
            "text/plain": [
              "MultiLabelBinarizer()"
            ],
            "text/html": [
              "<style>#sk-container-id-3 {color: black;background-color: white;}#sk-container-id-3 pre{padding: 0;}#sk-container-id-3 div.sk-toggleable {background-color: white;}#sk-container-id-3 label.sk-toggleable__label {cursor: pointer;display: block;width: 100%;margin-bottom: 0;padding: 0.3em;box-sizing: border-box;text-align: center;}#sk-container-id-3 label.sk-toggleable__label-arrow:before {content: \"▸\";float: left;margin-right: 0.25em;color: #696969;}#sk-container-id-3 label.sk-toggleable__label-arrow:hover:before {color: black;}#sk-container-id-3 div.sk-estimator:hover label.sk-toggleable__label-arrow:before {color: black;}#sk-container-id-3 div.sk-toggleable__content {max-height: 0;max-width: 0;overflow: hidden;text-align: left;background-color: #f0f8ff;}#sk-container-id-3 div.sk-toggleable__content pre {margin: 0.2em;color: black;border-radius: 0.25em;background-color: #f0f8ff;}#sk-container-id-3 input.sk-toggleable__control:checked~div.sk-toggleable__content {max-height: 200px;max-width: 100%;overflow: auto;}#sk-container-id-3 input.sk-toggleable__control:checked~label.sk-toggleable__label-arrow:before {content: \"▾\";}#sk-container-id-3 div.sk-estimator input.sk-toggleable__control:checked~label.sk-toggleable__label {background-color: #d4ebff;}#sk-container-id-3 div.sk-label input.sk-toggleable__control:checked~label.sk-toggleable__label {background-color: #d4ebff;}#sk-container-id-3 input.sk-hidden--visually {border: 0;clip: rect(1px 1px 1px 1px);clip: rect(1px, 1px, 1px, 1px);height: 1px;margin: -1px;overflow: hidden;padding: 0;position: absolute;width: 1px;}#sk-container-id-3 div.sk-estimator {font-family: monospace;background-color: #f0f8ff;border: 1px dotted black;border-radius: 0.25em;box-sizing: border-box;margin-bottom: 0.5em;}#sk-container-id-3 div.sk-estimator:hover {background-color: #d4ebff;}#sk-container-id-3 div.sk-parallel-item::after {content: \"\";width: 100%;border-bottom: 1px solid gray;flex-grow: 1;}#sk-container-id-3 div.sk-label:hover label.sk-toggleable__label {background-color: #d4ebff;}#sk-container-id-3 div.sk-serial::before {content: \"\";position: absolute;border-left: 1px solid gray;box-sizing: border-box;top: 0;bottom: 0;left: 50%;z-index: 0;}#sk-container-id-3 div.sk-serial {display: flex;flex-direction: column;align-items: center;background-color: white;padding-right: 0.2em;padding-left: 0.2em;position: relative;}#sk-container-id-3 div.sk-item {position: relative;z-index: 1;}#sk-container-id-3 div.sk-parallel {display: flex;align-items: stretch;justify-content: center;background-color: white;position: relative;}#sk-container-id-3 div.sk-item::before, #sk-container-id-3 div.sk-parallel-item::before {content: \"\";position: absolute;border-left: 1px solid gray;box-sizing: border-box;top: 0;bottom: 0;left: 50%;z-index: -1;}#sk-container-id-3 div.sk-parallel-item {display: flex;flex-direction: column;z-index: 1;position: relative;background-color: white;}#sk-container-id-3 div.sk-parallel-item:first-child::after {align-self: flex-end;width: 50%;}#sk-container-id-3 div.sk-parallel-item:last-child::after {align-self: flex-start;width: 50%;}#sk-container-id-3 div.sk-parallel-item:only-child::after {width: 0;}#sk-container-id-3 div.sk-dashed-wrapped {border: 1px dashed gray;margin: 0 0.4em 0.5em 0.4em;box-sizing: border-box;padding-bottom: 0.4em;background-color: white;}#sk-container-id-3 div.sk-label label {font-family: monospace;font-weight: bold;display: inline-block;line-height: 1.2em;}#sk-container-id-3 div.sk-label-container {text-align: center;}#sk-container-id-3 div.sk-container {/* jupyter's `normalize.less` sets `[hidden] { display: none; }` but bootstrap.min.css set `[hidden] { display: none !important; }` so we also need the `!important` here to be able to override the default hidden behavior on the sphinx rendered scikit-learn.org. See: https://github.com/scikit-learn/scikit-learn/issues/21755 */display: inline-block !important;position: relative;}#sk-container-id-3 div.sk-text-repr-fallback {display: none;}</style><div id=\"sk-container-id-3\" class=\"sk-top-container\"><div class=\"sk-text-repr-fallback\"><pre>MultiLabelBinarizer()</pre><b>In a Jupyter environment, please rerun this cell to show the HTML representation or trust the notebook. <br />On GitHub, the HTML representation is unable to render, please try loading this page with nbviewer.org.</b></div><div class=\"sk-container\" hidden><div class=\"sk-item\"><div class=\"sk-estimator sk-toggleable\"><input class=\"sk-toggleable__control sk-hidden--visually\" id=\"sk-estimator-id-3\" type=\"checkbox\" checked><label for=\"sk-estimator-id-3\" class=\"sk-toggleable__label sk-toggleable__label-arrow\">MultiLabelBinarizer</label><div class=\"sk-toggleable__content\"><pre>MultiLabelBinarizer()</pre></div></div></div></div></div>"
            ]
          },
          "metadata": {},
          "execution_count": 129
        }
      ],
      "source": [
        "mBin.fit(df['genre'])"
      ]
    },
    {
      "cell_type": "code",
      "execution_count": null,
      "metadata": {
        "id": "c39d19e2"
      },
      "outputs": [],
      "source": [
        "label = mBin.transform(df['genre'])"
      ]
    },
    {
      "cell_type": "markdown",
      "source": [
        "Splitting into training and testing data"
      ],
      "metadata": {
        "id": "bbcQm8ms_j7F"
      }
    },
    {
      "cell_type": "code",
      "execution_count": null,
      "metadata": {
        "id": "60ee4b51"
      },
      "outputs": [],
      "source": [
        "trainData, testData, trainLabel, testLabel = train_test_split(df['description w/o SW'],label, random_state=0, train_size = .80)"
      ]
    },
    {
      "cell_type": "code",
      "execution_count": null,
      "metadata": {
        "id": "127462c2"
      },
      "outputs": [],
      "source": [
        "# plt.figure(figsize=(20,10))\n",
        "# sns.heatmap(corr, cmap='YlGnBu', annot=True)\n",
        "# plt.show()"
      ]
    },
    {
      "cell_type": "markdown",
      "source": [
        "Converting the input text to feature vectors"
      ],
      "metadata": {
        "id": "EkqBctbtAXm6"
      }
    },
    {
      "cell_type": "code",
      "source": [
        "from sklearn.feature_extraction.text import TfidfVectorizer"
      ],
      "metadata": {
        "id": "wxKgZVNukgz6"
      },
      "execution_count": null,
      "outputs": []
    },
    {
      "cell_type": "code",
      "execution_count": null,
      "metadata": {
        "id": "07ac3249"
      },
      "outputs": [],
      "source": [
        "tfidf_vectorizer = TfidfVectorizer(max_df=0.8, max_features=10000)\n",
        "trainData_v = tfidf_vectorizer.fit_transform(trainData)\n",
        "testData_v = tfidf_vectorizer.transform(testData)"
      ]
    },
    {
      "cell_type": "code",
      "source": [
        "from sklearn.multiclass import OneVsRestClassifier\n",
        "lr = LogisticRegression()\n",
        "clf = OneVsRestClassifier(lr)\n",
        "clf.fit(trainData_v, trainLabel)"
      ],
      "metadata": {
        "colab": {
          "base_uri": "https://localhost:8080/",
          "height": 117
        },
        "id": "bFpQK9mJkYnR",
        "outputId": "0c2e12ce-13d7-4948-e319-5b18bcb7c0f2"
      },
      "execution_count": null,
      "outputs": [
        {
          "output_type": "execute_result",
          "data": {
            "text/plain": [
              "OneVsRestClassifier(estimator=LogisticRegression())"
            ],
            "text/html": [
              "<style>#sk-container-id-2 {color: black;background-color: white;}#sk-container-id-2 pre{padding: 0;}#sk-container-id-2 div.sk-toggleable {background-color: white;}#sk-container-id-2 label.sk-toggleable__label {cursor: pointer;display: block;width: 100%;margin-bottom: 0;padding: 0.3em;box-sizing: border-box;text-align: center;}#sk-container-id-2 label.sk-toggleable__label-arrow:before {content: \"▸\";float: left;margin-right: 0.25em;color: #696969;}#sk-container-id-2 label.sk-toggleable__label-arrow:hover:before {color: black;}#sk-container-id-2 div.sk-estimator:hover label.sk-toggleable__label-arrow:before {color: black;}#sk-container-id-2 div.sk-toggleable__content {max-height: 0;max-width: 0;overflow: hidden;text-align: left;background-color: #f0f8ff;}#sk-container-id-2 div.sk-toggleable__content pre {margin: 0.2em;color: black;border-radius: 0.25em;background-color: #f0f8ff;}#sk-container-id-2 input.sk-toggleable__control:checked~div.sk-toggleable__content {max-height: 200px;max-width: 100%;overflow: auto;}#sk-container-id-2 input.sk-toggleable__control:checked~label.sk-toggleable__label-arrow:before {content: \"▾\";}#sk-container-id-2 div.sk-estimator input.sk-toggleable__control:checked~label.sk-toggleable__label {background-color: #d4ebff;}#sk-container-id-2 div.sk-label input.sk-toggleable__control:checked~label.sk-toggleable__label {background-color: #d4ebff;}#sk-container-id-2 input.sk-hidden--visually {border: 0;clip: rect(1px 1px 1px 1px);clip: rect(1px, 1px, 1px, 1px);height: 1px;margin: -1px;overflow: hidden;padding: 0;position: absolute;width: 1px;}#sk-container-id-2 div.sk-estimator {font-family: monospace;background-color: #f0f8ff;border: 1px dotted black;border-radius: 0.25em;box-sizing: border-box;margin-bottom: 0.5em;}#sk-container-id-2 div.sk-estimator:hover {background-color: #d4ebff;}#sk-container-id-2 div.sk-parallel-item::after {content: \"\";width: 100%;border-bottom: 1px solid gray;flex-grow: 1;}#sk-container-id-2 div.sk-label:hover label.sk-toggleable__label {background-color: #d4ebff;}#sk-container-id-2 div.sk-serial::before {content: \"\";position: absolute;border-left: 1px solid gray;box-sizing: border-box;top: 0;bottom: 0;left: 50%;z-index: 0;}#sk-container-id-2 div.sk-serial {display: flex;flex-direction: column;align-items: center;background-color: white;padding-right: 0.2em;padding-left: 0.2em;position: relative;}#sk-container-id-2 div.sk-item {position: relative;z-index: 1;}#sk-container-id-2 div.sk-parallel {display: flex;align-items: stretch;justify-content: center;background-color: white;position: relative;}#sk-container-id-2 div.sk-item::before, #sk-container-id-2 div.sk-parallel-item::before {content: \"\";position: absolute;border-left: 1px solid gray;box-sizing: border-box;top: 0;bottom: 0;left: 50%;z-index: -1;}#sk-container-id-2 div.sk-parallel-item {display: flex;flex-direction: column;z-index: 1;position: relative;background-color: white;}#sk-container-id-2 div.sk-parallel-item:first-child::after {align-self: flex-end;width: 50%;}#sk-container-id-2 div.sk-parallel-item:last-child::after {align-self: flex-start;width: 50%;}#sk-container-id-2 div.sk-parallel-item:only-child::after {width: 0;}#sk-container-id-2 div.sk-dashed-wrapped {border: 1px dashed gray;margin: 0 0.4em 0.5em 0.4em;box-sizing: border-box;padding-bottom: 0.4em;background-color: white;}#sk-container-id-2 div.sk-label label {font-family: monospace;font-weight: bold;display: inline-block;line-height: 1.2em;}#sk-container-id-2 div.sk-label-container {text-align: center;}#sk-container-id-2 div.sk-container {/* jupyter's `normalize.less` sets `[hidden] { display: none; }` but bootstrap.min.css set `[hidden] { display: none !important; }` so we also need the `!important` here to be able to override the default hidden behavior on the sphinx rendered scikit-learn.org. See: https://github.com/scikit-learn/scikit-learn/issues/21755 */display: inline-block !important;position: relative;}#sk-container-id-2 div.sk-text-repr-fallback {display: none;}</style><div id=\"sk-container-id-2\" class=\"sk-top-container\"><div class=\"sk-text-repr-fallback\"><pre>OneVsRestClassifier(estimator=LogisticRegression())</pre><b>In a Jupyter environment, please rerun this cell to show the HTML representation or trust the notebook. <br />On GitHub, the HTML representation is unable to render, please try loading this page with nbviewer.org.</b></div><div class=\"sk-container\" hidden><div class=\"sk-item sk-dashed-wrapped\"><div class=\"sk-label-container\"><div class=\"sk-label sk-toggleable\"><input class=\"sk-toggleable__control sk-hidden--visually\" id=\"sk-estimator-id-2\" type=\"checkbox\" ><label for=\"sk-estimator-id-2\" class=\"sk-toggleable__label sk-toggleable__label-arrow\">OneVsRestClassifier</label><div class=\"sk-toggleable__content\"><pre>OneVsRestClassifier(estimator=LogisticRegression())</pre></div></div></div><div class=\"sk-parallel\"><div class=\"sk-parallel-item\"><div class=\"sk-item\"><div class=\"sk-label-container\"><div class=\"sk-label sk-toggleable\"><input class=\"sk-toggleable__control sk-hidden--visually\" id=\"sk-estimator-id-3\" type=\"checkbox\" ><label for=\"sk-estimator-id-3\" class=\"sk-toggleable__label sk-toggleable__label-arrow\">estimator: LogisticRegression</label><div class=\"sk-toggleable__content\"><pre>LogisticRegression()</pre></div></div></div><div class=\"sk-serial\"><div class=\"sk-item\"><div class=\"sk-estimator sk-toggleable\"><input class=\"sk-toggleable__control sk-hidden--visually\" id=\"sk-estimator-id-4\" type=\"checkbox\" ><label for=\"sk-estimator-id-4\" class=\"sk-toggleable__label sk-toggleable__label-arrow\">LogisticRegression</label><div class=\"sk-toggleable__content\"><pre>LogisticRegression()</pre></div></div></div></div></div></div></div></div></div></div>"
            ]
          },
          "metadata": {},
          "execution_count": 47
        }
      ]
    },
    {
      "cell_type": "code",
      "source": [
        "from sklearn.metrics import f1_score, accuracy_score"
      ],
      "metadata": {
        "id": "mg_yBB-JmFbk"
      },
      "execution_count": null,
      "outputs": []
    },
    {
      "cell_type": "code",
      "source": [
        "y_pred = clf.predict(testData_v)\n",
        "f1_score(testLabel, y_pred, average=\"micro\"), accuracy_score(testLabel, y_pred)"
      ],
      "metadata": {
        "colab": {
          "base_uri": "https://localhost:8080/"
        },
        "id": "fDJ2qYyglYQ5",
        "outputId": "1862e838-6fdc-48e9-c3b6-8ee244d080cd"
      },
      "execution_count": null,
      "outputs": [
        {
          "output_type": "execute_result",
          "data": {
            "text/plain": [
              "(0.3657861635220126, 0.08991825613079019)"
            ]
          },
          "metadata": {},
          "execution_count": 49
        }
      ]
    },
    {
      "cell_type": "code",
      "source": [
        "# pred_prob = clf.predict_proba(testData_v)"
      ],
      "metadata": {
        "id": "VkEF1QoBmH0B"
      },
      "execution_count": null,
      "outputs": []
    },
    {
      "cell_type": "code",
      "source": [
        "# t = 0.3\n",
        "# predp = (pred_prob >= t).astype(int)\n",
        "# f1_score(testLabel, predp, average=\"micro\"), accuracy_score(testLabel, predp)"
      ],
      "metadata": {
        "id": "cKt80K_rmuN2"
      },
      "execution_count": null,
      "outputs": []
    },
    {
      "cell_type": "code",
      "source": [
        "def predict(m):\n",
        "    m = updateDescription(m)\n",
        "    m = preprocess_SW(m)\n",
        "    m_vec = tfidf_vectorizer.transform([m])\n",
        "    m_pred = clf.predict(m_vec)\n",
        "    return mBin.inverse_transform(m_pred)"
      ],
      "metadata": {
        "id": "pW0nekV2m2ni"
      },
      "execution_count": null,
      "outputs": []
    },
    {
      "cell_type": "code",
      "source": [
        "# from random import sample\n",
        "# for i in range(10):\n",
        "#     k = sample(list(testData),0)\n",
        "#     print(\"Book: \", df['name'][k], \n",
        "#           \"\\nPredicted genre: \", predict(testData[k])) ,\n",
        "#     print(\"Actual genre: \",df['genre'][k], \"\\n\")"
      ],
      "metadata": {
        "id": "9qC5PTVToLIJ"
      },
      "execution_count": null,
      "outputs": []
    },
    {
      "cell_type": "code",
      "source": [
        "test_df = pd.DataFrame(testData)\n",
        "test_df.head()"
      ],
      "metadata": {
        "colab": {
          "base_uri": "https://localhost:8080/",
          "height": 206
        },
        "id": "-yYyWmx4ovyQ",
        "outputId": "777dc833-5808-4a5c-e6f8-4555190c86e3"
      },
      "execution_count": null,
      "outputs": [
        {
          "output_type": "execute_result",
          "data": {
            "text/plain": [
              "                                      description w/o SW\n",
              "12457  incident saudi arabia touches world war iii un...\n",
              "1403   british risen power egypt suppress worship old...\n",
              "6325   year old annabel hope jayquith beautiful famou...\n",
              "11366  midsomer worthy writers circle group amateur n...\n",
              "4374   book follows jason worthing also known jazz bo..."
            ],
            "text/html": [
              "\n",
              "  <div id=\"df-b1d8a545-833c-4e01-ad9d-c558daee72a5\">\n",
              "    <div class=\"colab-df-container\">\n",
              "      <div>\n",
              "<style scoped>\n",
              "    .dataframe tbody tr th:only-of-type {\n",
              "        vertical-align: middle;\n",
              "    }\n",
              "\n",
              "    .dataframe tbody tr th {\n",
              "        vertical-align: top;\n",
              "    }\n",
              "\n",
              "    .dataframe thead th {\n",
              "        text-align: right;\n",
              "    }\n",
              "</style>\n",
              "<table border=\"1\" class=\"dataframe\">\n",
              "  <thead>\n",
              "    <tr style=\"text-align: right;\">\n",
              "      <th></th>\n",
              "      <th>description w/o SW</th>\n",
              "    </tr>\n",
              "  </thead>\n",
              "  <tbody>\n",
              "    <tr>\n",
              "      <th>12457</th>\n",
              "      <td>incident saudi arabia touches world war iii un...</td>\n",
              "    </tr>\n",
              "    <tr>\n",
              "      <th>1403</th>\n",
              "      <td>british risen power egypt suppress worship old...</td>\n",
              "    </tr>\n",
              "    <tr>\n",
              "      <th>6325</th>\n",
              "      <td>year old annabel hope jayquith beautiful famou...</td>\n",
              "    </tr>\n",
              "    <tr>\n",
              "      <th>11366</th>\n",
              "      <td>midsomer worthy writers circle group amateur n...</td>\n",
              "    </tr>\n",
              "    <tr>\n",
              "      <th>4374</th>\n",
              "      <td>book follows jason worthing also known jazz bo...</td>\n",
              "    </tr>\n",
              "  </tbody>\n",
              "</table>\n",
              "</div>\n",
              "      <button class=\"colab-df-convert\" onclick=\"convertToInteractive('df-b1d8a545-833c-4e01-ad9d-c558daee72a5')\"\n",
              "              title=\"Convert this dataframe to an interactive table.\"\n",
              "              style=\"display:none;\">\n",
              "        \n",
              "  <svg xmlns=\"http://www.w3.org/2000/svg\" height=\"24px\"viewBox=\"0 0 24 24\"\n",
              "       width=\"24px\">\n",
              "    <path d=\"M0 0h24v24H0V0z\" fill=\"none\"/>\n",
              "    <path d=\"M18.56 5.44l.94 2.06.94-2.06 2.06-.94-2.06-.94-.94-2.06-.94 2.06-2.06.94zm-11 1L8.5 8.5l.94-2.06 2.06-.94-2.06-.94L8.5 2.5l-.94 2.06-2.06.94zm10 10l.94 2.06.94-2.06 2.06-.94-2.06-.94-.94-2.06-.94 2.06-2.06.94z\"/><path d=\"M17.41 7.96l-1.37-1.37c-.4-.4-.92-.59-1.43-.59-.52 0-1.04.2-1.43.59L10.3 9.45l-7.72 7.72c-.78.78-.78 2.05 0 2.83L4 21.41c.39.39.9.59 1.41.59.51 0 1.02-.2 1.41-.59l7.78-7.78 2.81-2.81c.8-.78.8-2.07 0-2.86zM5.41 20L4 18.59l7.72-7.72 1.47 1.35L5.41 20z\"/>\n",
              "  </svg>\n",
              "      </button>\n",
              "      \n",
              "  <style>\n",
              "    .colab-df-container {\n",
              "      display:flex;\n",
              "      flex-wrap:wrap;\n",
              "      gap: 12px;\n",
              "    }\n",
              "\n",
              "    .colab-df-convert {\n",
              "      background-color: #E8F0FE;\n",
              "      border: none;\n",
              "      border-radius: 50%;\n",
              "      cursor: pointer;\n",
              "      display: none;\n",
              "      fill: #1967D2;\n",
              "      height: 32px;\n",
              "      padding: 0 0 0 0;\n",
              "      width: 32px;\n",
              "    }\n",
              "\n",
              "    .colab-df-convert:hover {\n",
              "      background-color: #E2EBFA;\n",
              "      box-shadow: 0px 1px 2px rgba(60, 64, 67, 0.3), 0px 1px 3px 1px rgba(60, 64, 67, 0.15);\n",
              "      fill: #174EA6;\n",
              "    }\n",
              "\n",
              "    [theme=dark] .colab-df-convert {\n",
              "      background-color: #3B4455;\n",
              "      fill: #D2E3FC;\n",
              "    }\n",
              "\n",
              "    [theme=dark] .colab-df-convert:hover {\n",
              "      background-color: #434B5C;\n",
              "      box-shadow: 0px 1px 3px 1px rgba(0, 0, 0, 0.15);\n",
              "      filter: drop-shadow(0px 1px 2px rgba(0, 0, 0, 0.3));\n",
              "      fill: #FFFFFF;\n",
              "    }\n",
              "  </style>\n",
              "\n",
              "      <script>\n",
              "        const buttonEl =\n",
              "          document.querySelector('#df-b1d8a545-833c-4e01-ad9d-c558daee72a5 button.colab-df-convert');\n",
              "        buttonEl.style.display =\n",
              "          google.colab.kernel.accessAllowed ? 'block' : 'none';\n",
              "\n",
              "        async function convertToInteractive(key) {\n",
              "          const element = document.querySelector('#df-b1d8a545-833c-4e01-ad9d-c558daee72a5');\n",
              "          const dataTable =\n",
              "            await google.colab.kernel.invokeFunction('convertToInteractive',\n",
              "                                                     [key], {});\n",
              "          if (!dataTable) return;\n",
              "\n",
              "          const docLinkHtml = 'Like what you see? Visit the ' +\n",
              "            '<a target=\"_blank\" href=https://colab.research.google.com/notebooks/data_table.ipynb>data table notebook</a>'\n",
              "            + ' to learn more about interactive tables.';\n",
              "          element.innerHTML = '';\n",
              "          dataTable['output_type'] = 'display_data';\n",
              "          await google.colab.output.renderOutput(dataTable, element);\n",
              "          const docLink = document.createElement('div');\n",
              "          docLink.innerHTML = docLinkHtml;\n",
              "          element.appendChild(docLink);\n",
              "        }\n",
              "      </script>\n",
              "    </div>\n",
              "  </div>\n",
              "  "
            ]
          },
          "metadata": {},
          "execution_count": 54
        }
      ]
    },
    {
      "cell_type": "code",
      "source": [
        "predict(test_df['description w/o SW'][1403])"
      ],
      "metadata": {
        "colab": {
          "base_uri": "https://localhost:8080/"
        },
        "id": "-6qiqrYHo-1K",
        "outputId": "69c1d82a-f715-47ba-c2a7-bfad8cc10bd5"
      },
      "execution_count": null,
      "outputs": [
        {
          "output_type": "execute_result",
          "data": {
            "text/plain": [
              "[('Speculative fiction',)]"
            ]
          },
          "metadata": {},
          "execution_count": 55
        }
      ]
    },
    {
      "cell_type": "code",
      "source": [
        "df['genre'][1403]"
      ],
      "metadata": {
        "colab": {
          "base_uri": "https://localhost:8080/"
        },
        "id": "dJuYjmD6sFTw",
        "outputId": "7df9169e-4b00-4225-b619-a08542730ef2"
      },
      "execution_count": null,
      "outputs": [
        {
          "output_type": "execute_result",
          "data": {
            "text/plain": [
              "['Time travel', 'Speculative fiction', 'Fantasy', 'Steampunk']"
            ]
          },
          "metadata": {},
          "execution_count": 56
        }
      ]
    },
    {
      "cell_type": "code",
      "source": [
        "df['genre']"
      ],
      "metadata": {
        "colab": {
          "base_uri": "https://localhost:8080/"
        },
        "id": "-TrmaecwsTJS",
        "outputId": "1a29da5f-2c50-48b9-a0a2-04cc806e90cd"
      },
      "execution_count": null,
      "outputs": [
        {
          "output_type": "execute_result",
          "data": {
            "text/plain": [
              "0        [Roman à clef, Satire, Children's literature, ...\n",
              "1        [Science Fiction, Novella, Speculative fiction...\n",
              "2        [Existentialism, Fiction, Absurdist fiction, N...\n",
              "4        [Hard science fiction, Science Fiction, Specul...\n",
              "5                                [War novel, Roman à clef]\n",
              "                               ...                        \n",
              "16549                                    [Science Fiction]\n",
              "16551                        [Thriller, Fiction, Suspense]\n",
              "16555                                  [Thriller, Fiction]\n",
              "16556                                      [Autobiography]\n",
              "16558              [Epistolary novel, Speculative fiction]\n",
              "Name: genre, Length: 12841, dtype: object"
            ]
          },
          "metadata": {},
          "execution_count": 57
        }
      ]
    },
    {
      "cell_type": "code",
      "source": [
        "setOfgenre"
      ],
      "metadata": {
        "colab": {
          "base_uri": "https://localhost:8080/"
        },
        "id": "QTlv9lJKtRq1",
        "outputId": "aec1fae9-653d-4589-885a-37cac64752ec"
      },
      "execution_count": null,
      "outputs": [
        {
          "output_type": "execute_result",
          "data": {
            "text/plain": [
              "{'Absurdist fiction',\n",
              " 'Adventure',\n",
              " 'Adventure novel',\n",
              " 'Albino bias',\n",
              " 'Alien invasion',\n",
              " 'Alternate history',\n",
              " 'American Gothic Fiction',\n",
              " 'Anthology',\n",
              " 'Anthropology',\n",
              " 'Anti-nuclear',\n",
              " 'Anti-war',\n",
              " 'Apocalyptic and post-apocalyptic fiction',\n",
              " 'Autobiographical comics',\n",
              " 'Autobiographical novel',\n",
              " 'Autobiography',\n",
              " 'Bangsian fantasy',\n",
              " 'Bildungsroman',\n",
              " 'Biographical novel',\n",
              " 'Biography',\n",
              " 'Biopunk',\n",
              " 'Bit Lit',\n",
              " 'Black comedy',\n",
              " \"Boys' school stories\",\n",
              " 'Business',\n",
              " 'Cabal',\n",
              " 'Campus novel',\n",
              " 'Catastrophic literature',\n",
              " 'Chick lit',\n",
              " \"Children's literature\",\n",
              " 'Chivalric romance',\n",
              " 'Collage',\n",
              " 'Colonial United States romance',\n",
              " 'Comedy',\n",
              " 'Comedy of manners',\n",
              " 'Comic book',\n",
              " 'Comic fantasy',\n",
              " 'Comic novel',\n",
              " 'Comic science fiction',\n",
              " 'Comics',\n",
              " 'Coming of age',\n",
              " 'Computer Science',\n",
              " 'Conspiracy',\n",
              " 'Conspiracy fiction',\n",
              " 'Contemporary fantasy',\n",
              " 'Cookbook',\n",
              " 'Cozy',\n",
              " 'Creative nonfiction',\n",
              " 'Crime Fiction',\n",
              " 'Cyberpunk',\n",
              " 'Dark fantasy',\n",
              " 'Detective fiction',\n",
              " 'Drama',\n",
              " 'Dying Earth subgenre',\n",
              " 'Dystopia',\n",
              " 'Economics',\n",
              " 'Edisonade',\n",
              " 'Education',\n",
              " 'Elizabethan romance',\n",
              " 'Encyclopedia',\n",
              " 'English public-school stories',\n",
              " 'Epic Science Fiction and Fantasy',\n",
              " 'Epistolary novel',\n",
              " 'Ergodic literature',\n",
              " 'Erotica',\n",
              " 'Essay',\n",
              " 'Existentialism',\n",
              " 'Experimental literature',\n",
              " 'Fable',\n",
              " 'Fairy tale',\n",
              " 'Fairytale fantasy',\n",
              " 'Fantastique',\n",
              " 'Fantasy',\n",
              " 'Fantasy of manners',\n",
              " 'Farce',\n",
              " 'Feminist science fiction',\n",
              " 'Fiction',\n",
              " 'Fictional crossover',\n",
              " 'Field guide',\n",
              " 'First-person narrative',\n",
              " 'Foreign legion',\n",
              " 'Future history',\n",
              " 'Gamebook',\n",
              " 'Gay Themed',\n",
              " 'Gay novel',\n",
              " 'Georgian romance',\n",
              " 'Ghost story',\n",
              " 'Gothic fiction',\n",
              " 'Graphic novel',\n",
              " 'Hard science fiction',\n",
              " 'Hardboiled',\n",
              " 'Heroic fantasy',\n",
              " 'High fantasy',\n",
              " 'Historical fantasy',\n",
              " 'Historical fiction',\n",
              " 'Historical novel',\n",
              " 'Historical romance',\n",
              " 'Historical whodunnit',\n",
              " 'History',\n",
              " 'Horror',\n",
              " 'Human extinction',\n",
              " 'Humour',\n",
              " 'Indian chick lit',\n",
              " 'Industrial novel',\n",
              " 'Inspirational',\n",
              " 'Invasion literature',\n",
              " 'Juvenile fantasy',\n",
              " 'Künstlerroman',\n",
              " 'LGBT literature',\n",
              " 'Light novel',\n",
              " 'Literary criticism',\n",
              " 'Literary fiction',\n",
              " 'Literary realism',\n",
              " 'Literary theory',\n",
              " 'Locked room mystery',\n",
              " 'Lost World',\n",
              " 'Low fantasy',\n",
              " 'Magic realism',\n",
              " 'Marketing',\n",
              " 'Mashup',\n",
              " 'Mathematics',\n",
              " 'Medieval romance',\n",
              " 'Memoir',\n",
              " 'Metaphysics',\n",
              " 'Military history',\n",
              " 'Military science fiction',\n",
              " 'Modernism',\n",
              " 'Morality play',\n",
              " 'Music',\n",
              " 'Mystery',\n",
              " 'Nature',\n",
              " 'Naval adventure',\n",
              " 'Neuroscience',\n",
              " 'New Weird',\n",
              " 'New York Times Best Seller list',\n",
              " 'Non-fiction',\n",
              " 'Non-fiction novel',\n",
              " 'Novel',\n",
              " 'Novella',\n",
              " 'Parallel novel',\n",
              " 'Paranormal romance',\n",
              " 'Parody',\n",
              " 'Pastiche',\n",
              " 'Personal journal',\n",
              " 'Philosophy',\n",
              " 'Photography',\n",
              " 'Picaresque novel',\n",
              " 'Picture book',\n",
              " 'Planetary romance',\n",
              " 'Play',\n",
              " 'Poetry',\n",
              " 'Polemic',\n",
              " 'Police procedural',\n",
              " 'Political philosophy',\n",
              " 'Politics',\n",
              " 'Popular culture',\n",
              " 'Popular science',\n",
              " 'Pornography',\n",
              " 'Post-holocaust',\n",
              " 'Postcyberpunk',\n",
              " 'Postmodernism',\n",
              " 'Prose',\n",
              " 'Prose poetry',\n",
              " 'Psychological novel',\n",
              " 'Psychology',\n",
              " 'Reference',\n",
              " 'Regency romance',\n",
              " 'Religion',\n",
              " 'Religious text',\n",
              " 'Robinsonade',\n",
              " 'Role-playing game',\n",
              " 'Roman à clef',\n",
              " 'Romance novel',\n",
              " 'Romantic comedy',\n",
              " 'Satire',\n",
              " 'School story',\n",
              " 'Science',\n",
              " 'Science Fiction',\n",
              " 'Science fantasy',\n",
              " 'Scientific romance',\n",
              " 'Sea story',\n",
              " 'Self-help',\n",
              " 'Serial',\n",
              " 'Short story',\n",
              " 'Social commentary',\n",
              " 'Social criticism',\n",
              " 'Social novel',\n",
              " 'Social science fiction',\n",
              " 'Social sciences',\n",
              " 'Sociology',\n",
              " 'Soft science fiction',\n",
              " 'Space opera',\n",
              " 'Space western',\n",
              " 'Speculative fiction',\n",
              " 'Spirituality',\n",
              " 'Sports',\n",
              " 'Spy fiction',\n",
              " 'Steampunk',\n",
              " 'Subterranean fiction',\n",
              " 'Superhero fiction',\n",
              " 'Supernatural',\n",
              " 'Suspense',\n",
              " 'Sword and planet',\n",
              " 'Sword and sorcery',\n",
              " 'Techno-thriller',\n",
              " 'Thriller',\n",
              " 'Time travel',\n",
              " 'Tragicomedy',\n",
              " 'Transgender and transsexual fiction',\n",
              " 'Transhumanism',\n",
              " 'Travel',\n",
              " 'Travel literature',\n",
              " 'Treatise',\n",
              " 'True crime',\n",
              " 'Urban fantasy',\n",
              " 'Urban fiction',\n",
              " 'Utopian and dystopian fiction',\n",
              " 'Utopian fiction',\n",
              " 'Vampire fiction',\n",
              " 'War novel',\n",
              " 'Western',\n",
              " 'Western fiction',\n",
              " 'Whodunit',\n",
              " 'Wuxia',\n",
              " 'Young adult literature',\n",
              " 'Youth',\n",
              " 'Zombie',\n",
              " 'Zombies in popular culture'}"
            ]
          },
          "metadata": {},
          "execution_count": 58
        }
      ]
    },
    {
      "cell_type": "markdown",
      "source": [
        "Grouping similar genres"
      ],
      "metadata": {
        "id": "yDp9zjuCFwDD"
      }
    },
    {
      "cell_type": "code",
      "source": [
        "genre_ls = []\n",
        "for i in df['genre']:\n",
        "  ls = i.copy()\n",
        "  if 'Novel' in ls:\n",
        "    ls.remove('Novel')\n",
        "  if 'Novella' in ls:\n",
        "    ls.remove('Novella')\n",
        "  if 'Role-playing game' in ls:\n",
        "    ls.remove('Role-playing game')\n",
        "  if 'Short story' in ls:\n",
        "    ls.remove('Short story')\n",
        "  if 'Mashup' in ls:\n",
        "    ls.remove('Mashup')\n",
        "  if 'Industrial novel' in ls:\n",
        "    ls.remove('Industrial novel')\n",
        "  if 'Industrial novel' in ls:\n",
        "    ls.remove('Industrial novel')\n",
        "  if 'Light novel' in ls:\n",
        "    ls.remove('Light novel')\n",
        "  if 'Western' in ls:\n",
        "    ls.remove('Western')\n",
        "  if 'Cozy' in ls:\n",
        "    ls.remove('Cozy')\n",
        "  if 'New York Times Best Seller list' in ls:\n",
        "    ls.remove('New York Times Best Seller list')\n",
        "\n",
        "  if 'Adventure novel' in ls:\n",
        "    ls.remove('Adventure novel')\n",
        "    ls.append('Adventure')\n",
        "  if 'American Gothic Fiction' in ls:\n",
        "    ls.remove('American Gothic Fiction')\n",
        "    ls.append('Speculative fiction')\n",
        "    ls.append('Horror')\n",
        "  if 'Apocalyptic and post-apocalyptic fiction' in ls:\n",
        "    ls.remove('Apocalyptic and post-apocalyptic fiction')\n",
        "    ls.append('Speculative fiction')\n",
        "  if 'Autobiographical comics' in ls:\n",
        "    ls.remove('Autobiographical comics')\n",
        "    ls.append('Autobiography')\n",
        "  if 'Autobiographical novel' in ls:\n",
        "    ls.remove('Autobiographical novel')\n",
        "    ls.append('Autobiography')\n",
        "  if 'Biographical novel' in ls:\n",
        "    ls.remove('Biographical novel')\n",
        "    ls.append('Biography')\n",
        "  if 'Biopunk' in ls:\n",
        "    ls.remove('Biopunk')\n",
        "    ls.append('Science fiction')\n",
        "  if 'Business' in ls:\n",
        "    ls.remove('Business')\n",
        "    ls.append('Marketing')\n",
        "  if 'Cabal' in ls:\n",
        "    ls.remove('Cabal')\n",
        "    ls.append('Horror')\n",
        "  if 'Comedy of manners' in ls:\n",
        "    ls.remove('Comedy of manners')\n",
        "    ls.append('Comedy')\n",
        "  if 'Comic book' in ls:\n",
        "    ls.remove('Comic book')\n",
        "    ls.append('Comics')\n",
        "  if 'Comic fantasy' in ls:\n",
        "    ls.remove('Comic fantasy')\n",
        "    ls.append('Comics')\n",
        "  if 'Comic novel' in ls:\n",
        "    ls.remove('Comic novel')\n",
        "    ls.append('Comics')\n",
        "  if 'Comic science fiction' in ls:\n",
        "    ls.remove('Comic science fiction')\n",
        "    ls.append('Comics')\n",
        "  if 'Conspiracy fiction' in ls:\n",
        "    ls.remove('Conspiracy fiction')\n",
        "    ls.append('Conspiracy')\n",
        "  if 'Economics' in ls:\n",
        "    ls.remove('Economics')\n",
        "    ls.append('Marketing')\n",
        "  if 'Fable' in ls:\n",
        "    ls.remove('Fable')\n",
        "    ls.append(\"Children's literature\")\n",
        "  if 'Feminist science fiction' in ls:\n",
        "    ls.remove('Feminist science fiction')\n",
        "    ls.append('Science fiction')\n",
        "  if 'Gothic fiction' in ls:\n",
        "    ls.remove('Gothic fiction')\n",
        "    ls.append('Speculative fiction')\n",
        "    ls.append('Horror')\n",
        "  if 'Literary criticism' in ls:\n",
        "    ls.remove('Literary criticism')\n",
        "    ls.append('Literary fiction')\n",
        "  if 'Literary realism' in ls:\n",
        "    ls.remove('Literary realism')\n",
        "    ls.append('Literary fiction')\n",
        "  if 'Literary theory' in ls:\n",
        "    ls.remove('Literary theory')\n",
        "    ls.append('Literary fiction')\n",
        "  if 'Memoir' in ls:\n",
        "    ls.remove('Memoir')\n",
        "    ls.append('Autobiography')\n",
        "  if 'Picaresque novel' in ls:\n",
        "    ls.remove('Picaresque novel')\n",
        "    ls.append('Autobiography')\n",
        "  if 'Picture book' in ls:\n",
        "    ls.remove('Picture book')\n",
        "    ls.append(\"Children's literature\")\n",
        "  if 'Roman à clef' in ls:\n",
        "    ls.remove('Roman à clef')\n",
        "    ls.append('Biography')\n",
        "  if 'Social commentary' in ls:\n",
        "    ls.remove('Social commentary')\n",
        "    ls.append('Sociology')\n",
        "  if 'Social criticism' in ls:\n",
        "    ls.remove('Social criticism')\n",
        "    ls.append('Sociology')\n",
        "  if 'Social novel' in ls:\n",
        "    ls.remove('Social novel')\n",
        "    ls.append('Sociology')\n",
        "  if 'Social science fiction' in ls:\n",
        "    ls.remove('Social science fiction')\n",
        "    ls.append('Sociology')\n",
        "  if 'Social sciences' in ls:\n",
        "    ls.remove('Social sciences')\n",
        "    ls.append('Sociology')\n",
        "  if 'Steampunk' in ls:\n",
        "    ls.remove('Steampunk')\n",
        "    ls.append('Science fiction')\n",
        "  if 'Transhumanism' in ls:\n",
        "    ls.remove('Transhumanism')\n",
        "    ls.append('Philosophy')\n",
        "  if 'Treatise' in ls:\n",
        "    ls.remove('Treatise')\n",
        "    ls.append('Literature')\n",
        "  if 'Urban fiction' in ls:\n",
        "    ls.remove('Urban fiction')\n",
        "    ls.append('Dark')\n",
        "  if 'Utopian' in ls:\n",
        "    ls.remove('Utopian')\n",
        "    ls.append('Speculative fiction')\n",
        "  if 'Vampire' in ls:\n",
        "    ls.remove('Vampire')\n",
        "    ls.append('Horror')\n",
        "  if 'Vampire fiction' in ls:\n",
        "    ls.remove('Vampire fiction')\n",
        "    ls.append('Horror')\n",
        "  if 'War' in ls:\n",
        "    ls.remove('War')\n",
        "    ls.append('Action')\n",
        "  if 'Wuxia' in ls:\n",
        "    ls.remove('Wuxia')\n",
        "    ls.append('Adventure')\n",
        "  if 'Zombie' in ls:\n",
        "    ls.remove('Zombie')\n",
        "    ls.append('Horror')\n",
        "  if 'Zombies in popular culture' in ls:\n",
        "    ls.remove('Zombies in popular culture')\n",
        "    ls.append('Horror')\n",
        "\n",
        "\n",
        "  comedy_ls = ['Absurdist fiction', 'Black comedy', 'Farce', 'Satire', 'Tragicomedy']\n",
        "  for j in comedy_ls:\n",
        "    if j in ls:\n",
        "      ls.remove(j)\n",
        "      ls.append('Comedy')\n",
        "  \n",
        "  fantasy_ls = ['Fantasy of manners', 'Sword and sorcery', 'Sword and planet', 'High fantasy', 'Heroic fantasy', 'Magic realism', 'Bangsian fantasy', 'Fairy tale', \n",
        "                'Fairytale fantasy', 'Historical fantasy', 'Juvenile fantasy', 'Low fantasy', 'Urban fantasy', 'Epic Science Fiction and Fantasy', 'Science fantasy']\n",
        "  for j in fantasy_ls:\n",
        "    if j in ls:\n",
        "      ls.remove(j)\n",
        "      ls.append('Fantasy')\n",
        "\n",
        "  history_ls = ['War novel', 'Historical novel', 'Historical fiction', 'Polemic']\n",
        "  for j in history_ls:\n",
        "    if j in ls:\n",
        "      ls.remove(j)\n",
        "      ls.append('History')\n",
        "\n",
        "  lgbtq_ls = ['Gay Themed','Gay novel', 'LGBT literature', 'Transgender and transsexual fiction']\n",
        "  for j in lgbtq_ls:\n",
        "    if j in ls:\n",
        "      ls.remove(j)\n",
        "      ls.append('LGBTQ')\n",
        "\n",
        "  romance_ls = ['Chivalric romance', 'Colonial United States romance', 'Elizabethan romance', 'Georgian romance', 'Historical romance', 'Medieval romance', 'Paranormal romance', \n",
        "                'Planetary romance', 'Romance novel', 'Regency romance', 'Romantic comedy', 'Scientific romance']\n",
        "  for j in romance_ls:\n",
        "    if j in ls:\n",
        "      ls.remove(j)\n",
        "      ls.append('Romance')\n",
        "\n",
        "  speculative_ls = ['Dystopia', 'Alternate history', 'Utopian and dystopian fiction', 'Utopian fiction']\n",
        "  for j in speculative_ls:\n",
        "    if j in ls:\n",
        "      ls.remove(j)\n",
        "      ls.append('Speculative fiction')\n",
        "\n",
        "  thriller_ls = ['True crime', 'Crime Fiction', 'Suspense', 'Mystery', 'Locked room mystery', 'Detective fiction', 'Detective', 'Spy fiction', 'Historical whodunnit', 'Techno-thriller', 'Whodunit']\n",
        "  for j in thriller_ls:\n",
        "    if j in ls:\n",
        "      ls.remove(j)\n",
        "      ls.append('Thriller')\n",
        "\n",
        "  young_adult_ls = [\"Boys' school stories\", 'Campus novel', 'Chick lit', 'Coming of age', 'Indian chick lit', 'English public-school stories', 'School story', 'Youth']\n",
        "  for j in young_adult_ls:\n",
        "    if j in ls:\n",
        "      ls.remove(j)\n",
        "      ls.append('Young adult literature')\n",
        "\n",
        "  if 'Speculative fiction' in ls:\n",
        "    if 'Fiction' in ls:\n",
        "      ls.remove('Fiction')\n",
        "  if 'Science fiction' in ls:\n",
        "    if 'Fiction' in ls:\n",
        "      ls.remove('Fiction')\n",
        "  if 'Historical fiction' in ls:\n",
        "    if 'Fiction' in ls:\n",
        "      ls.remove('Fiction')\n",
        "  if 'Crime fiction' in ls:\n",
        "    if 'Fiction' in ls:\n",
        "      ls.remove('Fiction')\n",
        "\n",
        "\n",
        "  genre_ls.append(list(set(ls)))\n",
        "df['grouped-genre'] = genre_ls\n"
      ],
      "metadata": {
        "id": "4t3KNduEx4aw"
      },
      "execution_count": null,
      "outputs": []
    },
    {
      "cell_type": "code",
      "source": [
        "df.head()"
      ],
      "metadata": {
        "colab": {
          "base_uri": "https://localhost:8080/",
          "height": 337
        },
        "id": "vTkQh2r_dAcV",
        "outputId": "434bd3da-2e28-4b7c-eb8e-5f74ab021818"
      },
      "execution_count": null,
      "outputs": [
        {
          "output_type": "execute_result",
          "data": {
            "text/plain": [
              "     id                            name  \\\n",
              "0   620                     Animal Farm   \n",
              "1   843              A Clockwork Orange   \n",
              "2   986                      The Plague   \n",
              "4  2080            A Fire Upon the Deep   \n",
              "5  2152  All Quiet on the Western Front   \n",
              "\n",
              "                                               genre  \\\n",
              "0  [Roman à clef, Satire, Children's literature, ...   \n",
              "1  [Science Fiction, Novella, Speculative fiction...   \n",
              "2  [Existentialism, Fiction, Absurdist fiction, N...   \n",
              "4  [Hard science fiction, Science Fiction, Specul...   \n",
              "5                          [War novel, Roman à clef]   \n",
              "\n",
              "                                         description  \\\n",
              "0  old major the old boar on the manor farm calls...   \n",
              "1  alex a teenager living in near future england ...   \n",
              "2  the text of the plague is divided into five pa...   \n",
              "4  the novel posits that space around the milky w...   \n",
              "5  the book tells the story of paul b umer a germ...   \n",
              "\n",
              "                                  description w/o SW  \\\n",
              "0  old major old boar manor farm calls animals fa...   \n",
              "1  alex teenager living near future england leads...   \n",
              "2  text plague divided five parts town oran thous...   \n",
              "4  novel posits space around milky way divided co...   \n",
              "5  book tells story paul b umer german soldier ur...   \n",
              "\n",
              "                                       grouped-genre  \n",
              "0  [Speculative fiction, Biography, Comedy, Child...  \n",
              "1     [Speculative fiction, Science Fiction, Comedy]  \n",
              "2                  [Fiction, Comedy, Existentialism]  \n",
              "4  [Speculative fiction, Fantasy, Science Fiction...  \n",
              "5                               [Biography, History]  "
            ],
            "text/html": [
              "\n",
              "  <div id=\"df-dd811982-944c-4075-8ff1-2057aa7ab3ec\">\n",
              "    <div class=\"colab-df-container\">\n",
              "      <div>\n",
              "<style scoped>\n",
              "    .dataframe tbody tr th:only-of-type {\n",
              "        vertical-align: middle;\n",
              "    }\n",
              "\n",
              "    .dataframe tbody tr th {\n",
              "        vertical-align: top;\n",
              "    }\n",
              "\n",
              "    .dataframe thead th {\n",
              "        text-align: right;\n",
              "    }\n",
              "</style>\n",
              "<table border=\"1\" class=\"dataframe\">\n",
              "  <thead>\n",
              "    <tr style=\"text-align: right;\">\n",
              "      <th></th>\n",
              "      <th>id</th>\n",
              "      <th>name</th>\n",
              "      <th>genre</th>\n",
              "      <th>description</th>\n",
              "      <th>description w/o SW</th>\n",
              "      <th>grouped-genre</th>\n",
              "    </tr>\n",
              "  </thead>\n",
              "  <tbody>\n",
              "    <tr>\n",
              "      <th>0</th>\n",
              "      <td>620</td>\n",
              "      <td>Animal Farm</td>\n",
              "      <td>[Roman à clef, Satire, Children's literature, ...</td>\n",
              "      <td>old major the old boar on the manor farm calls...</td>\n",
              "      <td>old major old boar manor farm calls animals fa...</td>\n",
              "      <td>[Speculative fiction, Biography, Comedy, Child...</td>\n",
              "    </tr>\n",
              "    <tr>\n",
              "      <th>1</th>\n",
              "      <td>843</td>\n",
              "      <td>A Clockwork Orange</td>\n",
              "      <td>[Science Fiction, Novella, Speculative fiction...</td>\n",
              "      <td>alex a teenager living in near future england ...</td>\n",
              "      <td>alex teenager living near future england leads...</td>\n",
              "      <td>[Speculative fiction, Science Fiction, Comedy]</td>\n",
              "    </tr>\n",
              "    <tr>\n",
              "      <th>2</th>\n",
              "      <td>986</td>\n",
              "      <td>The Plague</td>\n",
              "      <td>[Existentialism, Fiction, Absurdist fiction, N...</td>\n",
              "      <td>the text of the plague is divided into five pa...</td>\n",
              "      <td>text plague divided five parts town oran thous...</td>\n",
              "      <td>[Fiction, Comedy, Existentialism]</td>\n",
              "    </tr>\n",
              "    <tr>\n",
              "      <th>4</th>\n",
              "      <td>2080</td>\n",
              "      <td>A Fire Upon the Deep</td>\n",
              "      <td>[Hard science fiction, Science Fiction, Specul...</td>\n",
              "      <td>the novel posits that space around the milky w...</td>\n",
              "      <td>novel posits space around milky way divided co...</td>\n",
              "      <td>[Speculative fiction, Fantasy, Science Fiction...</td>\n",
              "    </tr>\n",
              "    <tr>\n",
              "      <th>5</th>\n",
              "      <td>2152</td>\n",
              "      <td>All Quiet on the Western Front</td>\n",
              "      <td>[War novel, Roman à clef]</td>\n",
              "      <td>the book tells the story of paul b umer a germ...</td>\n",
              "      <td>book tells story paul b umer german soldier ur...</td>\n",
              "      <td>[Biography, History]</td>\n",
              "    </tr>\n",
              "  </tbody>\n",
              "</table>\n",
              "</div>\n",
              "      <button class=\"colab-df-convert\" onclick=\"convertToInteractive('df-dd811982-944c-4075-8ff1-2057aa7ab3ec')\"\n",
              "              title=\"Convert this dataframe to an interactive table.\"\n",
              "              style=\"display:none;\">\n",
              "        \n",
              "  <svg xmlns=\"http://www.w3.org/2000/svg\" height=\"24px\"viewBox=\"0 0 24 24\"\n",
              "       width=\"24px\">\n",
              "    <path d=\"M0 0h24v24H0V0z\" fill=\"none\"/>\n",
              "    <path d=\"M18.56 5.44l.94 2.06.94-2.06 2.06-.94-2.06-.94-.94-2.06-.94 2.06-2.06.94zm-11 1L8.5 8.5l.94-2.06 2.06-.94-2.06-.94L8.5 2.5l-.94 2.06-2.06.94zm10 10l.94 2.06.94-2.06 2.06-.94-2.06-.94-.94-2.06-.94 2.06-2.06.94z\"/><path d=\"M17.41 7.96l-1.37-1.37c-.4-.4-.92-.59-1.43-.59-.52 0-1.04.2-1.43.59L10.3 9.45l-7.72 7.72c-.78.78-.78 2.05 0 2.83L4 21.41c.39.39.9.59 1.41.59.51 0 1.02-.2 1.41-.59l7.78-7.78 2.81-2.81c.8-.78.8-2.07 0-2.86zM5.41 20L4 18.59l7.72-7.72 1.47 1.35L5.41 20z\"/>\n",
              "  </svg>\n",
              "      </button>\n",
              "      \n",
              "  <style>\n",
              "    .colab-df-container {\n",
              "      display:flex;\n",
              "      flex-wrap:wrap;\n",
              "      gap: 12px;\n",
              "    }\n",
              "\n",
              "    .colab-df-convert {\n",
              "      background-color: #E8F0FE;\n",
              "      border: none;\n",
              "      border-radius: 50%;\n",
              "      cursor: pointer;\n",
              "      display: none;\n",
              "      fill: #1967D2;\n",
              "      height: 32px;\n",
              "      padding: 0 0 0 0;\n",
              "      width: 32px;\n",
              "    }\n",
              "\n",
              "    .colab-df-convert:hover {\n",
              "      background-color: #E2EBFA;\n",
              "      box-shadow: 0px 1px 2px rgba(60, 64, 67, 0.3), 0px 1px 3px 1px rgba(60, 64, 67, 0.15);\n",
              "      fill: #174EA6;\n",
              "    }\n",
              "\n",
              "    [theme=dark] .colab-df-convert {\n",
              "      background-color: #3B4455;\n",
              "      fill: #D2E3FC;\n",
              "    }\n",
              "\n",
              "    [theme=dark] .colab-df-convert:hover {\n",
              "      background-color: #434B5C;\n",
              "      box-shadow: 0px 1px 3px 1px rgba(0, 0, 0, 0.15);\n",
              "      filter: drop-shadow(0px 1px 2px rgba(0, 0, 0, 0.3));\n",
              "      fill: #FFFFFF;\n",
              "    }\n",
              "  </style>\n",
              "\n",
              "      <script>\n",
              "        const buttonEl =\n",
              "          document.querySelector('#df-dd811982-944c-4075-8ff1-2057aa7ab3ec button.colab-df-convert');\n",
              "        buttonEl.style.display =\n",
              "          google.colab.kernel.accessAllowed ? 'block' : 'none';\n",
              "\n",
              "        async function convertToInteractive(key) {\n",
              "          const element = document.querySelector('#df-dd811982-944c-4075-8ff1-2057aa7ab3ec');\n",
              "          const dataTable =\n",
              "            await google.colab.kernel.invokeFunction('convertToInteractive',\n",
              "                                                     [key], {});\n",
              "          if (!dataTable) return;\n",
              "\n",
              "          const docLinkHtml = 'Like what you see? Visit the ' +\n",
              "            '<a target=\"_blank\" href=https://colab.research.google.com/notebooks/data_table.ipynb>data table notebook</a>'\n",
              "            + ' to learn more about interactive tables.';\n",
              "          element.innerHTML = '';\n",
              "          dataTable['output_type'] = 'display_data';\n",
              "          await google.colab.output.renderOutput(dataTable, element);\n",
              "          const docLink = document.createElement('div');\n",
              "          docLink.innerHTML = docLinkHtml;\n",
              "          element.appendChild(docLink);\n",
              "        }\n",
              "      </script>\n",
              "    </div>\n",
              "  </div>\n",
              "  "
            ]
          },
          "metadata": {},
          "execution_count": 131
        }
      ]
    },
    {
      "cell_type": "code",
      "execution_count": null,
      "metadata": {
        "id": "dKZlDbVOdlHU"
      },
      "outputs": [],
      "source": [
        "mBin = MultiLabelBinarizer()"
      ]
    },
    {
      "cell_type": "code",
      "execution_count": null,
      "metadata": {
        "colab": {
          "base_uri": "https://localhost:8080/",
          "height": 74
        },
        "outputId": "fd8dd249-f8f5-4948-a99f-74a48ce562db",
        "id": "DvcGpfEbdlHV"
      },
      "outputs": [
        {
          "output_type": "execute_result",
          "data": {
            "text/plain": [
              "MultiLabelBinarizer()"
            ],
            "text/html": [
              "<style>#sk-container-id-9 {color: black;background-color: white;}#sk-container-id-9 pre{padding: 0;}#sk-container-id-9 div.sk-toggleable {background-color: white;}#sk-container-id-9 label.sk-toggleable__label {cursor: pointer;display: block;width: 100%;margin-bottom: 0;padding: 0.3em;box-sizing: border-box;text-align: center;}#sk-container-id-9 label.sk-toggleable__label-arrow:before {content: \"▸\";float: left;margin-right: 0.25em;color: #696969;}#sk-container-id-9 label.sk-toggleable__label-arrow:hover:before {color: black;}#sk-container-id-9 div.sk-estimator:hover label.sk-toggleable__label-arrow:before {color: black;}#sk-container-id-9 div.sk-toggleable__content {max-height: 0;max-width: 0;overflow: hidden;text-align: left;background-color: #f0f8ff;}#sk-container-id-9 div.sk-toggleable__content pre {margin: 0.2em;color: black;border-radius: 0.25em;background-color: #f0f8ff;}#sk-container-id-9 input.sk-toggleable__control:checked~div.sk-toggleable__content {max-height: 200px;max-width: 100%;overflow: auto;}#sk-container-id-9 input.sk-toggleable__control:checked~label.sk-toggleable__label-arrow:before {content: \"▾\";}#sk-container-id-9 div.sk-estimator input.sk-toggleable__control:checked~label.sk-toggleable__label {background-color: #d4ebff;}#sk-container-id-9 div.sk-label input.sk-toggleable__control:checked~label.sk-toggleable__label {background-color: #d4ebff;}#sk-container-id-9 input.sk-hidden--visually {border: 0;clip: rect(1px 1px 1px 1px);clip: rect(1px, 1px, 1px, 1px);height: 1px;margin: -1px;overflow: hidden;padding: 0;position: absolute;width: 1px;}#sk-container-id-9 div.sk-estimator {font-family: monospace;background-color: #f0f8ff;border: 1px dotted black;border-radius: 0.25em;box-sizing: border-box;margin-bottom: 0.5em;}#sk-container-id-9 div.sk-estimator:hover {background-color: #d4ebff;}#sk-container-id-9 div.sk-parallel-item::after {content: \"\";width: 100%;border-bottom: 1px solid gray;flex-grow: 1;}#sk-container-id-9 div.sk-label:hover label.sk-toggleable__label {background-color: #d4ebff;}#sk-container-id-9 div.sk-serial::before {content: \"\";position: absolute;border-left: 1px solid gray;box-sizing: border-box;top: 0;bottom: 0;left: 50%;z-index: 0;}#sk-container-id-9 div.sk-serial {display: flex;flex-direction: column;align-items: center;background-color: white;padding-right: 0.2em;padding-left: 0.2em;position: relative;}#sk-container-id-9 div.sk-item {position: relative;z-index: 1;}#sk-container-id-9 div.sk-parallel {display: flex;align-items: stretch;justify-content: center;background-color: white;position: relative;}#sk-container-id-9 div.sk-item::before, #sk-container-id-9 div.sk-parallel-item::before {content: \"\";position: absolute;border-left: 1px solid gray;box-sizing: border-box;top: 0;bottom: 0;left: 50%;z-index: -1;}#sk-container-id-9 div.sk-parallel-item {display: flex;flex-direction: column;z-index: 1;position: relative;background-color: white;}#sk-container-id-9 div.sk-parallel-item:first-child::after {align-self: flex-end;width: 50%;}#sk-container-id-9 div.sk-parallel-item:last-child::after {align-self: flex-start;width: 50%;}#sk-container-id-9 div.sk-parallel-item:only-child::after {width: 0;}#sk-container-id-9 div.sk-dashed-wrapped {border: 1px dashed gray;margin: 0 0.4em 0.5em 0.4em;box-sizing: border-box;padding-bottom: 0.4em;background-color: white;}#sk-container-id-9 div.sk-label label {font-family: monospace;font-weight: bold;display: inline-block;line-height: 1.2em;}#sk-container-id-9 div.sk-label-container {text-align: center;}#sk-container-id-9 div.sk-container {/* jupyter's `normalize.less` sets `[hidden] { display: none; }` but bootstrap.min.css set `[hidden] { display: none !important; }` so we also need the `!important` here to be able to override the default hidden behavior on the sphinx rendered scikit-learn.org. See: https://github.com/scikit-learn/scikit-learn/issues/21755 */display: inline-block !important;position: relative;}#sk-container-id-9 div.sk-text-repr-fallback {display: none;}</style><div id=\"sk-container-id-9\" class=\"sk-top-container\"><div class=\"sk-text-repr-fallback\"><pre>MultiLabelBinarizer()</pre><b>In a Jupyter environment, please rerun this cell to show the HTML representation or trust the notebook. <br />On GitHub, the HTML representation is unable to render, please try loading this page with nbviewer.org.</b></div><div class=\"sk-container\" hidden><div class=\"sk-item\"><div class=\"sk-estimator sk-toggleable\"><input class=\"sk-toggleable__control sk-hidden--visually\" id=\"sk-estimator-id-17\" type=\"checkbox\" checked><label for=\"sk-estimator-id-17\" class=\"sk-toggleable__label sk-toggleable__label-arrow\">MultiLabelBinarizer</label><div class=\"sk-toggleable__content\"><pre>MultiLabelBinarizer()</pre></div></div></div></div></div>"
            ]
          },
          "metadata": {},
          "execution_count": 183
        }
      ],
      "source": [
        "mBin.fit(df['grouped-genre'])"
      ]
    },
    {
      "cell_type": "code",
      "execution_count": null,
      "metadata": {
        "id": "pkhcK7K-dlHW"
      },
      "outputs": [],
      "source": [
        "label = mBin.transform(df['grouped-genre'])"
      ]
    },
    {
      "cell_type": "code",
      "execution_count": null,
      "metadata": {
        "id": "ksM7t-xLdlHX"
      },
      "outputs": [],
      "source": [
        "trainData, testData, trainLabel, testLabel = train_test_split(df['description w/o SW'],label, random_state=0, train_size = .85)"
      ]
    },
    {
      "cell_type": "code",
      "execution_count": null,
      "metadata": {
        "id": "tlQRcVZDdlHX"
      },
      "outputs": [],
      "source": [
        "tfidf_vectorizer = TfidfVectorizer(max_df=0.8, max_features=10000)\n",
        "trainData_v = tfidf_vectorizer.fit_transform(trainData)\n",
        "testData_v = tfidf_vectorizer.transform(testData)"
      ]
    },
    {
      "cell_type": "code",
      "source": [
        "from sklearn.multiclass import OneVsRestClassifier\n",
        "lr = LogisticRegression()\n",
        "clf = OneVsRestClassifier(lr)\n",
        "clf.fit(trainData_v, trainLabel)"
      ],
      "metadata": {
        "colab": {
          "base_uri": "https://localhost:8080/",
          "height": 117
        },
        "outputId": "28ab3a60-27ea-45c2-dddf-ce22e53b83a1",
        "id": "cUeiHOOTdlHX"
      },
      "execution_count": null,
      "outputs": [
        {
          "output_type": "execute_result",
          "data": {
            "text/plain": [
              "OneVsRestClassifier(estimator=LogisticRegression())"
            ],
            "text/html": [
              "<style>#sk-container-id-16 {color: black;background-color: white;}#sk-container-id-16 pre{padding: 0;}#sk-container-id-16 div.sk-toggleable {background-color: white;}#sk-container-id-16 label.sk-toggleable__label {cursor: pointer;display: block;width: 100%;margin-bottom: 0;padding: 0.3em;box-sizing: border-box;text-align: center;}#sk-container-id-16 label.sk-toggleable__label-arrow:before {content: \"▸\";float: left;margin-right: 0.25em;color: #696969;}#sk-container-id-16 label.sk-toggleable__label-arrow:hover:before {color: black;}#sk-container-id-16 div.sk-estimator:hover label.sk-toggleable__label-arrow:before {color: black;}#sk-container-id-16 div.sk-toggleable__content {max-height: 0;max-width: 0;overflow: hidden;text-align: left;background-color: #f0f8ff;}#sk-container-id-16 div.sk-toggleable__content pre {margin: 0.2em;color: black;border-radius: 0.25em;background-color: #f0f8ff;}#sk-container-id-16 input.sk-toggleable__control:checked~div.sk-toggleable__content {max-height: 200px;max-width: 100%;overflow: auto;}#sk-container-id-16 input.sk-toggleable__control:checked~label.sk-toggleable__label-arrow:before {content: \"▾\";}#sk-container-id-16 div.sk-estimator input.sk-toggleable__control:checked~label.sk-toggleable__label {background-color: #d4ebff;}#sk-container-id-16 div.sk-label input.sk-toggleable__control:checked~label.sk-toggleable__label {background-color: #d4ebff;}#sk-container-id-16 input.sk-hidden--visually {border: 0;clip: rect(1px 1px 1px 1px);clip: rect(1px, 1px, 1px, 1px);height: 1px;margin: -1px;overflow: hidden;padding: 0;position: absolute;width: 1px;}#sk-container-id-16 div.sk-estimator {font-family: monospace;background-color: #f0f8ff;border: 1px dotted black;border-radius: 0.25em;box-sizing: border-box;margin-bottom: 0.5em;}#sk-container-id-16 div.sk-estimator:hover {background-color: #d4ebff;}#sk-container-id-16 div.sk-parallel-item::after {content: \"\";width: 100%;border-bottom: 1px solid gray;flex-grow: 1;}#sk-container-id-16 div.sk-label:hover label.sk-toggleable__label {background-color: #d4ebff;}#sk-container-id-16 div.sk-serial::before {content: \"\";position: absolute;border-left: 1px solid gray;box-sizing: border-box;top: 0;bottom: 0;left: 50%;z-index: 0;}#sk-container-id-16 div.sk-serial {display: flex;flex-direction: column;align-items: center;background-color: white;padding-right: 0.2em;padding-left: 0.2em;position: relative;}#sk-container-id-16 div.sk-item {position: relative;z-index: 1;}#sk-container-id-16 div.sk-parallel {display: flex;align-items: stretch;justify-content: center;background-color: white;position: relative;}#sk-container-id-16 div.sk-item::before, #sk-container-id-16 div.sk-parallel-item::before {content: \"\";position: absolute;border-left: 1px solid gray;box-sizing: border-box;top: 0;bottom: 0;left: 50%;z-index: -1;}#sk-container-id-16 div.sk-parallel-item {display: flex;flex-direction: column;z-index: 1;position: relative;background-color: white;}#sk-container-id-16 div.sk-parallel-item:first-child::after {align-self: flex-end;width: 50%;}#sk-container-id-16 div.sk-parallel-item:last-child::after {align-self: flex-start;width: 50%;}#sk-container-id-16 div.sk-parallel-item:only-child::after {width: 0;}#sk-container-id-16 div.sk-dashed-wrapped {border: 1px dashed gray;margin: 0 0.4em 0.5em 0.4em;box-sizing: border-box;padding-bottom: 0.4em;background-color: white;}#sk-container-id-16 div.sk-label label {font-family: monospace;font-weight: bold;display: inline-block;line-height: 1.2em;}#sk-container-id-16 div.sk-label-container {text-align: center;}#sk-container-id-16 div.sk-container {/* jupyter's `normalize.less` sets `[hidden] { display: none; }` but bootstrap.min.css set `[hidden] { display: none !important; }` so we also need the `!important` here to be able to override the default hidden behavior on the sphinx rendered scikit-learn.org. See: https://github.com/scikit-learn/scikit-learn/issues/21755 */display: inline-block !important;position: relative;}#sk-container-id-16 div.sk-text-repr-fallback {display: none;}</style><div id=\"sk-container-id-16\" class=\"sk-top-container\"><div class=\"sk-text-repr-fallback\"><pre>OneVsRestClassifier(estimator=LogisticRegression())</pre><b>In a Jupyter environment, please rerun this cell to show the HTML representation or trust the notebook. <br />On GitHub, the HTML representation is unable to render, please try loading this page with nbviewer.org.</b></div><div class=\"sk-container\" hidden><div class=\"sk-item sk-dashed-wrapped\"><div class=\"sk-label-container\"><div class=\"sk-label sk-toggleable\"><input class=\"sk-toggleable__control sk-hidden--visually\" id=\"sk-estimator-id-36\" type=\"checkbox\" ><label for=\"sk-estimator-id-36\" class=\"sk-toggleable__label sk-toggleable__label-arrow\">OneVsRestClassifier</label><div class=\"sk-toggleable__content\"><pre>OneVsRestClassifier(estimator=LogisticRegression())</pre></div></div></div><div class=\"sk-parallel\"><div class=\"sk-parallel-item\"><div class=\"sk-item\"><div class=\"sk-label-container\"><div class=\"sk-label sk-toggleable\"><input class=\"sk-toggleable__control sk-hidden--visually\" id=\"sk-estimator-id-37\" type=\"checkbox\" ><label for=\"sk-estimator-id-37\" class=\"sk-toggleable__label sk-toggleable__label-arrow\">estimator: LogisticRegression</label><div class=\"sk-toggleable__content\"><pre>LogisticRegression()</pre></div></div></div><div class=\"sk-serial\"><div class=\"sk-item\"><div class=\"sk-estimator sk-toggleable\"><input class=\"sk-toggleable__control sk-hidden--visually\" id=\"sk-estimator-id-38\" type=\"checkbox\" ><label for=\"sk-estimator-id-38\" class=\"sk-toggleable__label sk-toggleable__label-arrow\">LogisticRegression</label><div class=\"sk-toggleable__content\"><pre>LogisticRegression()</pre></div></div></div></div></div></div></div></div></div></div>"
            ]
          },
          "metadata": {},
          "execution_count": 229
        }
      ]
    },
    {
      "cell_type": "code",
      "source": [
        "# from sklearn.tree import DecisionTreeClassifier\n",
        "# dt = DecisionTreeClassifier(random_state=0)\n",
        "# clf2 = OneVsRestClassifier(dt)\n",
        "# clf2.fit(trainData_v, trainLabel)"
      ],
      "metadata": {
        "colab": {
          "base_uri": "https://localhost:8080/",
          "height": 117
        },
        "id": "8nBSsiIKqyBO",
        "outputId": "4b4a8d2d-556f-4647-e09a-f961c6461ed3"
      },
      "execution_count": null,
      "outputs": [
        {
          "output_type": "execute_result",
          "data": {
            "text/plain": [
              "OneVsRestClassifier(estimator=DecisionTreeClassifier(random_state=0))"
            ],
            "text/html": [
              "<style>#sk-container-id-14 {color: black;background-color: white;}#sk-container-id-14 pre{padding: 0;}#sk-container-id-14 div.sk-toggleable {background-color: white;}#sk-container-id-14 label.sk-toggleable__label {cursor: pointer;display: block;width: 100%;margin-bottom: 0;padding: 0.3em;box-sizing: border-box;text-align: center;}#sk-container-id-14 label.sk-toggleable__label-arrow:before {content: \"▸\";float: left;margin-right: 0.25em;color: #696969;}#sk-container-id-14 label.sk-toggleable__label-arrow:hover:before {color: black;}#sk-container-id-14 div.sk-estimator:hover label.sk-toggleable__label-arrow:before {color: black;}#sk-container-id-14 div.sk-toggleable__content {max-height: 0;max-width: 0;overflow: hidden;text-align: left;background-color: #f0f8ff;}#sk-container-id-14 div.sk-toggleable__content pre {margin: 0.2em;color: black;border-radius: 0.25em;background-color: #f0f8ff;}#sk-container-id-14 input.sk-toggleable__control:checked~div.sk-toggleable__content {max-height: 200px;max-width: 100%;overflow: auto;}#sk-container-id-14 input.sk-toggleable__control:checked~label.sk-toggleable__label-arrow:before {content: \"▾\";}#sk-container-id-14 div.sk-estimator input.sk-toggleable__control:checked~label.sk-toggleable__label {background-color: #d4ebff;}#sk-container-id-14 div.sk-label input.sk-toggleable__control:checked~label.sk-toggleable__label {background-color: #d4ebff;}#sk-container-id-14 input.sk-hidden--visually {border: 0;clip: rect(1px 1px 1px 1px);clip: rect(1px, 1px, 1px, 1px);height: 1px;margin: -1px;overflow: hidden;padding: 0;position: absolute;width: 1px;}#sk-container-id-14 div.sk-estimator {font-family: monospace;background-color: #f0f8ff;border: 1px dotted black;border-radius: 0.25em;box-sizing: border-box;margin-bottom: 0.5em;}#sk-container-id-14 div.sk-estimator:hover {background-color: #d4ebff;}#sk-container-id-14 div.sk-parallel-item::after {content: \"\";width: 100%;border-bottom: 1px solid gray;flex-grow: 1;}#sk-container-id-14 div.sk-label:hover label.sk-toggleable__label {background-color: #d4ebff;}#sk-container-id-14 div.sk-serial::before {content: \"\";position: absolute;border-left: 1px solid gray;box-sizing: border-box;top: 0;bottom: 0;left: 50%;z-index: 0;}#sk-container-id-14 div.sk-serial {display: flex;flex-direction: column;align-items: center;background-color: white;padding-right: 0.2em;padding-left: 0.2em;position: relative;}#sk-container-id-14 div.sk-item {position: relative;z-index: 1;}#sk-container-id-14 div.sk-parallel {display: flex;align-items: stretch;justify-content: center;background-color: white;position: relative;}#sk-container-id-14 div.sk-item::before, #sk-container-id-14 div.sk-parallel-item::before {content: \"\";position: absolute;border-left: 1px solid gray;box-sizing: border-box;top: 0;bottom: 0;left: 50%;z-index: -1;}#sk-container-id-14 div.sk-parallel-item {display: flex;flex-direction: column;z-index: 1;position: relative;background-color: white;}#sk-container-id-14 div.sk-parallel-item:first-child::after {align-self: flex-end;width: 50%;}#sk-container-id-14 div.sk-parallel-item:last-child::after {align-self: flex-start;width: 50%;}#sk-container-id-14 div.sk-parallel-item:only-child::after {width: 0;}#sk-container-id-14 div.sk-dashed-wrapped {border: 1px dashed gray;margin: 0 0.4em 0.5em 0.4em;box-sizing: border-box;padding-bottom: 0.4em;background-color: white;}#sk-container-id-14 div.sk-label label {font-family: monospace;font-weight: bold;display: inline-block;line-height: 1.2em;}#sk-container-id-14 div.sk-label-container {text-align: center;}#sk-container-id-14 div.sk-container {/* jupyter's `normalize.less` sets `[hidden] { display: none; }` but bootstrap.min.css set `[hidden] { display: none !important; }` so we also need the `!important` here to be able to override the default hidden behavior on the sphinx rendered scikit-learn.org. See: https://github.com/scikit-learn/scikit-learn/issues/21755 */display: inline-block !important;position: relative;}#sk-container-id-14 div.sk-text-repr-fallback {display: none;}</style><div id=\"sk-container-id-14\" class=\"sk-top-container\"><div class=\"sk-text-repr-fallback\"><pre>OneVsRestClassifier(estimator=DecisionTreeClassifier(random_state=0))</pre><b>In a Jupyter environment, please rerun this cell to show the HTML representation or trust the notebook. <br />On GitHub, the HTML representation is unable to render, please try loading this page with nbviewer.org.</b></div><div class=\"sk-container\" hidden><div class=\"sk-item sk-dashed-wrapped\"><div class=\"sk-label-container\"><div class=\"sk-label sk-toggleable\"><input class=\"sk-toggleable__control sk-hidden--visually\" id=\"sk-estimator-id-30\" type=\"checkbox\" ><label for=\"sk-estimator-id-30\" class=\"sk-toggleable__label sk-toggleable__label-arrow\">OneVsRestClassifier</label><div class=\"sk-toggleable__content\"><pre>OneVsRestClassifier(estimator=DecisionTreeClassifier(random_state=0))</pre></div></div></div><div class=\"sk-parallel\"><div class=\"sk-parallel-item\"><div class=\"sk-item\"><div class=\"sk-label-container\"><div class=\"sk-label sk-toggleable\"><input class=\"sk-toggleable__control sk-hidden--visually\" id=\"sk-estimator-id-31\" type=\"checkbox\" ><label for=\"sk-estimator-id-31\" class=\"sk-toggleable__label sk-toggleable__label-arrow\">estimator: DecisionTreeClassifier</label><div class=\"sk-toggleable__content\"><pre>DecisionTreeClassifier(random_state=0)</pre></div></div></div><div class=\"sk-serial\"><div class=\"sk-item\"><div class=\"sk-estimator sk-toggleable\"><input class=\"sk-toggleable__control sk-hidden--visually\" id=\"sk-estimator-id-32\" type=\"checkbox\" ><label for=\"sk-estimator-id-32\" class=\"sk-toggleable__label sk-toggleable__label-arrow\">DecisionTreeClassifier</label><div class=\"sk-toggleable__content\"><pre>DecisionTreeClassifier(random_state=0)</pre></div></div></div></div></div></div></div></div></div></div>"
            ]
          },
          "metadata": {},
          "execution_count": 215
        }
      ]
    },
    {
      "cell_type": "code",
      "source": [
        "y_pred = clf.predict(testData_v)\n",
        "f1_score(testLabel, y_pred, average=\"micro\"), accuracy_score(testLabel, y_pred)"
      ],
      "metadata": {
        "colab": {
          "base_uri": "https://localhost:8080/"
        },
        "outputId": "f69e6655-1621-42a1-9676-b8646c641dff",
        "id": "UCj-5VmddlHY"
      },
      "execution_count": null,
      "outputs": [
        {
          "output_type": "execute_result",
          "data": {
            "text/plain": [
              "(0.45869611382459125, 0.2169174883238194)"
            ]
          },
          "metadata": {},
          "execution_count": 230
        }
      ]
    },
    {
      "cell_type": "code",
      "source": [
        "y_pred2 = clf2.predict(testData_v)\n",
        "f1_score(testLabel, y_pred2, average=\"micro\"), accuracy_score(testLabel, y_pred2)"
      ],
      "metadata": {
        "colab": {
          "base_uri": "https://localhost:8080/"
        },
        "id": "HSKrP8Ltq-2u",
        "outputId": "e37d0c72-5039-408d-8ce4-a3c23e4845a8"
      },
      "execution_count": null,
      "outputs": [
        {
          "output_type": "execute_result",
          "data": {
            "text/plain": [
              "(0.39663195213826724, 0.10159595173219152)"
            ]
          },
          "metadata": {},
          "execution_count": 216
        }
      ]
    },
    {
      "cell_type": "code",
      "source": [
        "pred_prob = clf.predict_proba(testData_v)"
      ],
      "metadata": {
        "id": "bNdtPcUigP5Q"
      },
      "execution_count": null,
      "outputs": []
    },
    {
      "cell_type": "code",
      "source": [
        "t = 0.3\n",
        "predp = (pred_prob >= t).astype(int)\n",
        "f1_score(testLabel, predp, average=\"micro\"), accuracy_score(testLabel, predp)"
      ],
      "metadata": {
        "colab": {
          "base_uri": "https://localhost:8080/"
        },
        "outputId": "ffe071c7-ba03-4772-bb96-806fee2549ed",
        "id": "dsrG146dgP5R"
      },
      "execution_count": null,
      "outputs": [
        {
          "output_type": "execute_result",
          "data": {
            "text/plain": [
              "(0.5975783475783475, 0.25729855975087584)"
            ]
          },
          "metadata": {},
          "execution_count": 190
        }
      ]
    },
    {
      "cell_type": "code",
      "source": [
        "def predict(m):\n",
        "    m = updateDescription(m)\n",
        "    m = preprocess_SW(m)\n",
        "    m_vec = tfidf_vectorizer.transform([m])\n",
        "    m_pred = clf.predict(m_vec)\n",
        "    return mBin.inverse_transform(m_pred)"
      ],
      "metadata": {
        "id": "ENE8BROtgP5R"
      },
      "execution_count": null,
      "outputs": []
    },
    {
      "cell_type": "code",
      "source": [
        "def predict(m):\n",
        "    m = updateDescription(m)\n",
        "    m = preprocess_SW(m)\n",
        "    m_vec = tfidf_vectorizer.transform([m])\n",
        "    m_pred = clf2.predict(m_vec)\n",
        "    return mBin.inverse_transform(m_pred)"
      ],
      "metadata": {
        "id": "s20KZFlqt85Y"
      },
      "execution_count": null,
      "outputs": []
    },
    {
      "cell_type": "code",
      "source": [
        "test_df = pd.DataFrame(testData)\n",
        "test_df.head(20)"
      ],
      "metadata": {
        "colab": {
          "base_uri": "https://localhost:8080/",
          "height": 676
        },
        "outputId": "25df0135-f645-4456-c961-723cf8c3c34a",
        "id": "yu_XurDogP5S"
      },
      "execution_count": null,
      "outputs": [
        {
          "output_type": "execute_result",
          "data": {
            "text/plain": [
              "                                      description w/o SW\n",
              "12457  incident saudi arabia touches world war iii un...\n",
              "1403   british risen power egypt suppress worship old...\n",
              "6325   year old annabel hope jayquith beautiful famou...\n",
              "11366  midsomer worthy writers circle group amateur n...\n",
              "4374   book follows jason worthing also known jazz bo...\n",
              "5335   moist von lipwig bored job postmaster general ...\n",
              "7494   agent pendergast visits medicine creek kansas ...\n",
              "427    story set primarily around melbourne australia...\n",
              "14619  october brother cadfael monk shrewsbury abbey ...\n",
              "10193  winter day dalton new england town near boston...\n",
              "608    novel opens prologue padre monty character sec...\n",
              "7102   molly trying fit new life daughter billionaire...\n",
              "2585   book begins anne gilberts wedding takes place ...\n",
              "5129   saving young woman rogue bodyguards angel hire...\n",
              "2810   th century humanity spread across galaxy first...\n",
              "15526  martin seymour australian news correspondent i...\n",
              "5046   first volume series lanny budd met family dutc...\n",
              "7435   redlaw teacher chemistry often broods wrongs d...\n",
              "9626   britain ruled children llyr penarddun giant ki...\n",
              "2069   sequence details various struggles power world..."
            ],
            "text/html": [
              "\n",
              "  <div id=\"df-ed130c6c-dfb3-4551-b732-5d4117459f15\">\n",
              "    <div class=\"colab-df-container\">\n",
              "      <div>\n",
              "<style scoped>\n",
              "    .dataframe tbody tr th:only-of-type {\n",
              "        vertical-align: middle;\n",
              "    }\n",
              "\n",
              "    .dataframe tbody tr th {\n",
              "        vertical-align: top;\n",
              "    }\n",
              "\n",
              "    .dataframe thead th {\n",
              "        text-align: right;\n",
              "    }\n",
              "</style>\n",
              "<table border=\"1\" class=\"dataframe\">\n",
              "  <thead>\n",
              "    <tr style=\"text-align: right;\">\n",
              "      <th></th>\n",
              "      <th>description w/o SW</th>\n",
              "    </tr>\n",
              "  </thead>\n",
              "  <tbody>\n",
              "    <tr>\n",
              "      <th>12457</th>\n",
              "      <td>incident saudi arabia touches world war iii un...</td>\n",
              "    </tr>\n",
              "    <tr>\n",
              "      <th>1403</th>\n",
              "      <td>british risen power egypt suppress worship old...</td>\n",
              "    </tr>\n",
              "    <tr>\n",
              "      <th>6325</th>\n",
              "      <td>year old annabel hope jayquith beautiful famou...</td>\n",
              "    </tr>\n",
              "    <tr>\n",
              "      <th>11366</th>\n",
              "      <td>midsomer worthy writers circle group amateur n...</td>\n",
              "    </tr>\n",
              "    <tr>\n",
              "      <th>4374</th>\n",
              "      <td>book follows jason worthing also known jazz bo...</td>\n",
              "    </tr>\n",
              "    <tr>\n",
              "      <th>5335</th>\n",
              "      <td>moist von lipwig bored job postmaster general ...</td>\n",
              "    </tr>\n",
              "    <tr>\n",
              "      <th>7494</th>\n",
              "      <td>agent pendergast visits medicine creek kansas ...</td>\n",
              "    </tr>\n",
              "    <tr>\n",
              "      <th>427</th>\n",
              "      <td>story set primarily around melbourne australia...</td>\n",
              "    </tr>\n",
              "    <tr>\n",
              "      <th>14619</th>\n",
              "      <td>october brother cadfael monk shrewsbury abbey ...</td>\n",
              "    </tr>\n",
              "    <tr>\n",
              "      <th>10193</th>\n",
              "      <td>winter day dalton new england town near boston...</td>\n",
              "    </tr>\n",
              "    <tr>\n",
              "      <th>608</th>\n",
              "      <td>novel opens prologue padre monty character sec...</td>\n",
              "    </tr>\n",
              "    <tr>\n",
              "      <th>7102</th>\n",
              "      <td>molly trying fit new life daughter billionaire...</td>\n",
              "    </tr>\n",
              "    <tr>\n",
              "      <th>2585</th>\n",
              "      <td>book begins anne gilberts wedding takes place ...</td>\n",
              "    </tr>\n",
              "    <tr>\n",
              "      <th>5129</th>\n",
              "      <td>saving young woman rogue bodyguards angel hire...</td>\n",
              "    </tr>\n",
              "    <tr>\n",
              "      <th>2810</th>\n",
              "      <td>th century humanity spread across galaxy first...</td>\n",
              "    </tr>\n",
              "    <tr>\n",
              "      <th>15526</th>\n",
              "      <td>martin seymour australian news correspondent i...</td>\n",
              "    </tr>\n",
              "    <tr>\n",
              "      <th>5046</th>\n",
              "      <td>first volume series lanny budd met family dutc...</td>\n",
              "    </tr>\n",
              "    <tr>\n",
              "      <th>7435</th>\n",
              "      <td>redlaw teacher chemistry often broods wrongs d...</td>\n",
              "    </tr>\n",
              "    <tr>\n",
              "      <th>9626</th>\n",
              "      <td>britain ruled children llyr penarddun giant ki...</td>\n",
              "    </tr>\n",
              "    <tr>\n",
              "      <th>2069</th>\n",
              "      <td>sequence details various struggles power world...</td>\n",
              "    </tr>\n",
              "  </tbody>\n",
              "</table>\n",
              "</div>\n",
              "      <button class=\"colab-df-convert\" onclick=\"convertToInteractive('df-ed130c6c-dfb3-4551-b732-5d4117459f15')\"\n",
              "              title=\"Convert this dataframe to an interactive table.\"\n",
              "              style=\"display:none;\">\n",
              "        \n",
              "  <svg xmlns=\"http://www.w3.org/2000/svg\" height=\"24px\"viewBox=\"0 0 24 24\"\n",
              "       width=\"24px\">\n",
              "    <path d=\"M0 0h24v24H0V0z\" fill=\"none\"/>\n",
              "    <path d=\"M18.56 5.44l.94 2.06.94-2.06 2.06-.94-2.06-.94-.94-2.06-.94 2.06-2.06.94zm-11 1L8.5 8.5l.94-2.06 2.06-.94-2.06-.94L8.5 2.5l-.94 2.06-2.06.94zm10 10l.94 2.06.94-2.06 2.06-.94-2.06-.94-.94-2.06-.94 2.06-2.06.94z\"/><path d=\"M17.41 7.96l-1.37-1.37c-.4-.4-.92-.59-1.43-.59-.52 0-1.04.2-1.43.59L10.3 9.45l-7.72 7.72c-.78.78-.78 2.05 0 2.83L4 21.41c.39.39.9.59 1.41.59.51 0 1.02-.2 1.41-.59l7.78-7.78 2.81-2.81c.8-.78.8-2.07 0-2.86zM5.41 20L4 18.59l7.72-7.72 1.47 1.35L5.41 20z\"/>\n",
              "  </svg>\n",
              "      </button>\n",
              "      \n",
              "  <style>\n",
              "    .colab-df-container {\n",
              "      display:flex;\n",
              "      flex-wrap:wrap;\n",
              "      gap: 12px;\n",
              "    }\n",
              "\n",
              "    .colab-df-convert {\n",
              "      background-color: #E8F0FE;\n",
              "      border: none;\n",
              "      border-radius: 50%;\n",
              "      cursor: pointer;\n",
              "      display: none;\n",
              "      fill: #1967D2;\n",
              "      height: 32px;\n",
              "      padding: 0 0 0 0;\n",
              "      width: 32px;\n",
              "    }\n",
              "\n",
              "    .colab-df-convert:hover {\n",
              "      background-color: #E2EBFA;\n",
              "      box-shadow: 0px 1px 2px rgba(60, 64, 67, 0.3), 0px 1px 3px 1px rgba(60, 64, 67, 0.15);\n",
              "      fill: #174EA6;\n",
              "    }\n",
              "\n",
              "    [theme=dark] .colab-df-convert {\n",
              "      background-color: #3B4455;\n",
              "      fill: #D2E3FC;\n",
              "    }\n",
              "\n",
              "    [theme=dark] .colab-df-convert:hover {\n",
              "      background-color: #434B5C;\n",
              "      box-shadow: 0px 1px 3px 1px rgba(0, 0, 0, 0.15);\n",
              "      filter: drop-shadow(0px 1px 2px rgba(0, 0, 0, 0.3));\n",
              "      fill: #FFFFFF;\n",
              "    }\n",
              "  </style>\n",
              "\n",
              "      <script>\n",
              "        const buttonEl =\n",
              "          document.querySelector('#df-ed130c6c-dfb3-4551-b732-5d4117459f15 button.colab-df-convert');\n",
              "        buttonEl.style.display =\n",
              "          google.colab.kernel.accessAllowed ? 'block' : 'none';\n",
              "\n",
              "        async function convertToInteractive(key) {\n",
              "          const element = document.querySelector('#df-ed130c6c-dfb3-4551-b732-5d4117459f15');\n",
              "          const dataTable =\n",
              "            await google.colab.kernel.invokeFunction('convertToInteractive',\n",
              "                                                     [key], {});\n",
              "          if (!dataTable) return;\n",
              "\n",
              "          const docLinkHtml = 'Like what you see? Visit the ' +\n",
              "            '<a target=\"_blank\" href=https://colab.research.google.com/notebooks/data_table.ipynb>data table notebook</a>'\n",
              "            + ' to learn more about interactive tables.';\n",
              "          element.innerHTML = '';\n",
              "          dataTable['output_type'] = 'display_data';\n",
              "          await google.colab.output.renderOutput(dataTable, element);\n",
              "          const docLink = document.createElement('div');\n",
              "          docLink.innerHTML = docLinkHtml;\n",
              "          element.appendChild(docLink);\n",
              "        }\n",
              "      </script>\n",
              "    </div>\n",
              "  </div>\n",
              "  "
            ]
          },
          "metadata": {},
          "execution_count": 224
        }
      ]
    },
    {
      "cell_type": "code",
      "source": [
        "len(test_df.index)"
      ],
      "metadata": {
        "colab": {
          "base_uri": "https://localhost:8080/"
        },
        "id": "6RqmYs5V_pxC",
        "outputId": "7c153348-e259-49ac-e2f8-379cfb1d94ec"
      },
      "execution_count": null,
      "outputs": [
        {
          "output_type": "execute_result",
          "data": {
            "text/plain": [
              "1285"
            ]
          },
          "metadata": {},
          "execution_count": 225
        }
      ]
    },
    {
      "cell_type": "code",
      "source": [
        "c = 0\n",
        "for i in test_df.index:\n",
        "  if len(predict(test_df['description w/o SW'][i])[0])==0:\n",
        "    # print(predict(test_df['description w/o SW'][i]))\n",
        "    # print(df['name'][i])\n",
        "    # print(df['grouped-genre'][i])\n",
        "    c+=1\n",
        "print(c)"
      ],
      "metadata": {
        "colab": {
          "base_uri": "https://localhost:8080/"
        },
        "id": "GuLcfdNVqODa",
        "outputId": "d1adedd0-080f-46a1-ab7e-ef9550c948dd"
      },
      "execution_count": null,
      "outputs": [
        {
          "output_type": "stream",
          "name": "stdout",
          "text": [
            "696\n"
          ]
        }
      ]
    },
    {
      "cell_type": "code",
      "source": [
        "c = 0\n",
        "for i in test_df.index:\n",
        "  if len(predict(test_df['description w/o SW'][i])[0])==0:\n",
        "    # print(predict(test_df['description w/o SW'][i]))\n",
        "    # print(df['name'][i])\n",
        "    # print(df['grouped-genre'][i])\n",
        "    c+=1\n",
        "print(c)"
      ],
      "metadata": {
        "colab": {
          "base_uri": "https://localhost:8080/"
        },
        "id": "oQRKShGTdj-5",
        "outputId": "8df420af-ea23-46db-b0e9-9c9dd3e6968c"
      },
      "execution_count": null,
      "outputs": [
        {
          "output_type": "stream",
          "name": "stdout",
          "text": [
            "1384\n"
          ]
        }
      ]
    },
    {
      "cell_type": "code",
      "source": [
        "for i in test_df.index[15:30]:\n",
        "  print(i)\n",
        "  print(\"Predicted: \", predict(test_df['description w/o SW'][i]))\n",
        "  print(\"Actual: \", df['grouped-genre'][i])\n",
        "  print(\"Name: \", df['name'][i])"
      ],
      "metadata": {
        "colab": {
          "base_uri": "https://localhost:8080/"
        },
        "id": "dHfbR7nylSBo",
        "outputId": "1a8a40f9-68f5-4f49-8fa2-ce321f1c7eed"
      },
      "execution_count": null,
      "outputs": [
        {
          "output_type": "stream",
          "name": "stdout",
          "text": [
            "15526\n",
            "Predicted:  [('Science Fiction',)]\n",
            "Actual:  ['Science Fiction']\n",
            "Name:  Zendegi\n",
            "5046\n",
            "Predicted:  [()]\n",
            "Actual:  ['History']\n",
            "Name:  Dragon's Teeth\n",
            "7435\n",
            "Predicted:  [()]\n",
            "Actual:  []\n",
            "Name:  The Haunted Man\n",
            "9626\n",
            "Predicted:  [('Fantasy',)]\n",
            "Actual:  ['Fantasy', 'Speculative fiction']\n",
            "Name:  The Children of Llyr\n",
            "2069\n",
            "Predicted:  [('Fantasy', 'Science Fiction', 'Speculative fiction')]\n",
            "Actual:  ['Science Fiction', 'Fantasy', 'Speculative fiction']\n",
            "Name:  Gardens of the Moon\n",
            "1453\n",
            "Predicted:  [('Fiction', 'History')]\n",
            "Actual:  ['History', 'Thriller', 'Fiction']\n",
            "Name:  Clarissa Oakes\n",
            "6525\n",
            "Predicted:  [()]\n",
            "Actual:  [\"Children's literature\", 'Fiction', 'Young adult literature']\n",
            "Name:  Space Station Seventh Grade\n",
            "1323\n",
            "Predicted:  [('Fiction',)]\n",
            "Actual:  ['Comedy', 'Fiction']\n",
            "Name:  Decline and Fall\n",
            "13167\n",
            "Predicted:  [('Science Fiction', 'Speculative fiction')]\n",
            "Actual:  ['Science Fiction']\n",
            "Name:  Isaac Asimov's Robot City: Refuge\n",
            "9887\n",
            "Predicted:  [('Science Fiction', 'Speculative fiction')]\n",
            "Actual:  ['Science Fiction', 'Speculative fiction']\n",
            "Name:  Journey to Jupiter\n",
            "3609\n",
            "Predicted:  [()]\n",
            "Actual:  ['History']\n",
            "Name:  The Black Dwarf\n",
            "9989\n",
            "Predicted:  [(\"Children's literature\",)]\n",
            "Actual:  ['Parody']\n",
            "Name:  Snowball's Chance\n",
            "12508\n",
            "Predicted:  [()]\n",
            "Actual:  [\"Children's literature\"]\n",
            "Name:  The Other Side\n",
            "9932\n",
            "Predicted:  [()]\n",
            "Actual:  ['Speculative fiction']\n",
            "Name:  Inez\n",
            "7865\n",
            "Predicted:  [('Fantasy', 'Speculative fiction')]\n",
            "Actual:  ['Fantasy', 'Speculative fiction']\n",
            "Name:  Phoenix\n"
          ]
        }
      ]
    },
    {
      "cell_type": "code",
      "source": [
        "print(predict(test_df['description w/o SW'][10193]))\n",
        "print(df['grouped-genre'][10193])"
      ],
      "metadata": {
        "colab": {
          "base_uri": "https://localhost:8080/"
        },
        "outputId": "d4edd1c8-1268-4abb-d01d-a3061082e262",
        "id": "d2hFCGz1gP5S"
      },
      "execution_count": null,
      "outputs": [
        {
          "output_type": "stream",
          "name": "stdout",
          "text": [
            "[('Thriller',)]\n",
            "['Thriller']\n"
          ]
        }
      ]
    },
    {
      "cell_type": "code",
      "execution_count": null,
      "metadata": {
        "id": "NLrsQ-1gNA-O"
      },
      "outputs": [],
      "source": [
        "newSetOfgenre = sum(df['grouped-genre'],[])\n",
        "newSetOfgenre = set(newSetOfgenre)"
      ]
    },
    {
      "cell_type": "code",
      "source": [
        "len(newSetOfgenre)"
      ],
      "metadata": {
        "colab": {
          "base_uri": "https://localhost:8080/"
        },
        "id": "hqcNojMdNMH5",
        "outputId": "5503751c-9b4d-40ef-f1e7-9a979758f751"
      },
      "execution_count": null,
      "outputs": [
        {
          "output_type": "execute_result",
          "data": {
            "text/plain": [
              "121"
            ]
          },
          "metadata": {},
          "execution_count": 198
        }
      ]
    },
    {
      "cell_type": "code",
      "source": [
        "from sklearn.metrics import multilabel_confusion_matrix\n",
        "multilabel_confusion_matrix(testLabel, y_pred)"
      ],
      "metadata": {
        "colab": {
          "base_uri": "https://localhost:8080/"
        },
        "id": "4fZhI5XRnqCd",
        "outputId": "5cae6e3b-82a3-4a9d-8282-70d5f778a9a7"
      },
      "execution_count": null,
      "outputs": [
        {
          "output_type": "execute_result",
          "data": {
            "text/plain": [
              "array([[[2494,    0],\n",
              "        [  72,    3]],\n",
              "\n",
              "       [[2568,    0],\n",
              "        [   1,    0]],\n",
              "\n",
              "       [[2568,    0],\n",
              "        [   1,    0]],\n",
              "\n",
              "       [[2568,    0],\n",
              "        [   1,    0]],\n",
              "\n",
              "       [[2569,    0],\n",
              "        [   0,    0]],\n",
              "\n",
              "       [[2569,    0],\n",
              "        [   0,    0]],\n",
              "\n",
              "       [[2568,    0],\n",
              "        [   1,    0]],\n",
              "\n",
              "       [[2516,    0],\n",
              "        [  53,    0]],\n",
              "\n",
              "       [[2559,    0],\n",
              "        [  10,    0]],\n",
              "\n",
              "       [[2553,    0],\n",
              "        [  16,    0]],\n",
              "\n",
              "       [[2569,    0],\n",
              "        [   0,    0]],\n",
              "\n",
              "       [[2568,    0],\n",
              "        [   1,    0]],\n",
              "\n",
              "       [[2105,   31],\n",
              "        [ 343,   90]],\n",
              "\n",
              "       [[2568,    0],\n",
              "        [   1,    0]],\n",
              "\n",
              "       [[2521,    0],\n",
              "        [  48,    0]],\n",
              "\n",
              "       [[2542,    0],\n",
              "        [  27,    0]],\n",
              "\n",
              "       [[2569,    0],\n",
              "        [   0,    0]],\n",
              "\n",
              "       [[2567,    0],\n",
              "        [   2,    0]],\n",
              "\n",
              "       [[2568,    0],\n",
              "        [   1,    0]],\n",
              "\n",
              "       [[2568,    0],\n",
              "        [   1,    0]],\n",
              "\n",
              "       [[2567,    0],\n",
              "        [   2,    0]],\n",
              "\n",
              "       [[2568,    0],\n",
              "        [   1,    0]],\n",
              "\n",
              "       [[2568,    0],\n",
              "        [   1,    0]],\n",
              "\n",
              "       [[2566,    0],\n",
              "        [   3,    0]],\n",
              "\n",
              "       [[2567,    0],\n",
              "        [   2,    0]],\n",
              "\n",
              "       [[2569,    0],\n",
              "        [   0,    0]],\n",
              "\n",
              "       [[2568,    0],\n",
              "        [   1,    0]],\n",
              "\n",
              "       [[2568,    0],\n",
              "        [   1,    0]],\n",
              "\n",
              "       [[2568,    0],\n",
              "        [   1,    0]],\n",
              "\n",
              "       [[2561,    0],\n",
              "        [   8,    0]],\n",
              "\n",
              "       [[2568,    0],\n",
              "        [   1,    0]],\n",
              "\n",
              "       [[2566,    0],\n",
              "        [   3,    0]],\n",
              "\n",
              "       [[2568,    0],\n",
              "        [   1,    0]],\n",
              "\n",
              "       [[2568,    0],\n",
              "        [   1,    0]],\n",
              "\n",
              "       [[2568,    0],\n",
              "        [   1,    0]],\n",
              "\n",
              "       [[2569,    0],\n",
              "        [   0,    0]],\n",
              "\n",
              "       [[2023,   41],\n",
              "        [ 269,  236]],\n",
              "\n",
              "       [[1999,   47],\n",
              "        [ 458,   65]],\n",
              "\n",
              "       [[2569,    0],\n",
              "        [   0,    0]],\n",
              "\n",
              "       [[2569,    0],\n",
              "        [   0,    0]],\n",
              "\n",
              "       [[2569,    0],\n",
              "        [   0,    0]],\n",
              "\n",
              "       [[2569,    0],\n",
              "        [   0,    0]],\n",
              "\n",
              "       [[2569,    0],\n",
              "        [   0,    0]],\n",
              "\n",
              "       [[2561,    0],\n",
              "        [   8,    0]],\n",
              "\n",
              "       [[2569,    0],\n",
              "        [   0,    0]],\n",
              "\n",
              "       [[2566,    0],\n",
              "        [   3,    0]],\n",
              "\n",
              "       [[2565,    0],\n",
              "        [   4,    0]],\n",
              "\n",
              "       [[2565,    0],\n",
              "        [   4,    0]],\n",
              "\n",
              "       [[2360,    3],\n",
              "        [ 187,   19]],\n",
              "\n",
              "       [[2448,    0],\n",
              "        [ 112,    9]],\n",
              "\n",
              "       [[2569,    0],\n",
              "        [   0,    0]],\n",
              "\n",
              "       [[2560,    0],\n",
              "        [   9,    0]],\n",
              "\n",
              "       [[2567,    0],\n",
              "        [   2,    0]],\n",
              "\n",
              "       [[2568,    0],\n",
              "        [   1,    0]],\n",
              "\n",
              "       [[2566,    0],\n",
              "        [   3,    0]],\n",
              "\n",
              "       [[2569,    0],\n",
              "        [   0,    0]],\n",
              "\n",
              "       [[2558,    0],\n",
              "        [  11,    0]],\n",
              "\n",
              "       [[2568,    0],\n",
              "        [   1,    0]],\n",
              "\n",
              "       [[2567,    0],\n",
              "        [   2,    0]],\n",
              "\n",
              "       [[2566,    0],\n",
              "        [   3,    0]],\n",
              "\n",
              "       [[2567,    0],\n",
              "        [   2,    0]],\n",
              "\n",
              "       [[2569,    0],\n",
              "        [   0,    0]],\n",
              "\n",
              "       [[2569,    0],\n",
              "        [   0,    0]],\n",
              "\n",
              "       [[2566,    0],\n",
              "        [   3,    0]],\n",
              "\n",
              "       [[2569,    0],\n",
              "        [   0,    0]],\n",
              "\n",
              "       [[2569,    0],\n",
              "        [   0,    0]],\n",
              "\n",
              "       [[2567,    0],\n",
              "        [   2,    0]],\n",
              "\n",
              "       [[2565,    0],\n",
              "        [   4,    0]],\n",
              "\n",
              "       [[2568,    0],\n",
              "        [   1,    0]],\n",
              "\n",
              "       [[2569,    0],\n",
              "        [   0,    0]],\n",
              "\n",
              "       [[2568,    0],\n",
              "        [   1,    0]],\n",
              "\n",
              "       [[2528,    0],\n",
              "        [  41,    0]],\n",
              "\n",
              "       [[2568,    0],\n",
              "        [   1,    0]],\n",
              "\n",
              "       [[2568,    0],\n",
              "        [   1,    0]],\n",
              "\n",
              "       [[2565,    0],\n",
              "        [   4,    0]],\n",
              "\n",
              "       [[2569,    0],\n",
              "        [   0,    0]],\n",
              "\n",
              "       [[2567,    0],\n",
              "        [   2,    0]],\n",
              "\n",
              "       [[2559,    0],\n",
              "        [  10,    0]],\n",
              "\n",
              "       [[2568,    0],\n",
              "        [   1,    0]],\n",
              "\n",
              "       [[2567,    0],\n",
              "        [   2,    0]],\n",
              "\n",
              "       [[2565,    0],\n",
              "        [   4,    0]],\n",
              "\n",
              "       [[2568,    0],\n",
              "        [   1,    0]],\n",
              "\n",
              "       [[2568,    0],\n",
              "        [   1,    0]],\n",
              "\n",
              "       [[2568,    0],\n",
              "        [   1,    0]],\n",
              "\n",
              "       [[2569,    0],\n",
              "        [   0,    0]],\n",
              "\n",
              "       [[2568,    0],\n",
              "        [   1,    0]],\n",
              "\n",
              "       [[2568,    0],\n",
              "        [   1,    0]],\n",
              "\n",
              "       [[2567,    0],\n",
              "        [   2,    0]],\n",
              "\n",
              "       [[2569,    0],\n",
              "        [   0,    0]],\n",
              "\n",
              "       [[2569,    0],\n",
              "        [   0,    0]],\n",
              "\n",
              "       [[2569,    0],\n",
              "        [   0,    0]],\n",
              "\n",
              "       [[2569,    0],\n",
              "        [   0,    0]],\n",
              "\n",
              "       [[2561,    0],\n",
              "        [   8,    0]],\n",
              "\n",
              "       [[2562,    0],\n",
              "        [   7,    0]],\n",
              "\n",
              "       [[2566,    0],\n",
              "        [   3,    0]],\n",
              "\n",
              "       [[2567,    0],\n",
              "        [   2,    0]],\n",
              "\n",
              "       [[2569,    0],\n",
              "        [   0,    0]],\n",
              "\n",
              "       [[2569,    0],\n",
              "        [   0,    0]],\n",
              "\n",
              "       [[2474,    0],\n",
              "        [  95,    0]],\n",
              "\n",
              "       [[2565,    0],\n",
              "        [   4,    0]],\n",
              "\n",
              "       [[1955,   34],\n",
              "        [ 287,  293]],\n",
              "\n",
              "       [[2556,    0],\n",
              "        [  13,    0]],\n",
              "\n",
              "       [[2569,    0],\n",
              "        [   0,    0]],\n",
              "\n",
              "       [[2569,    0],\n",
              "        [   0,    0]],\n",
              "\n",
              "       [[2568,    0],\n",
              "        [   1,    0]],\n",
              "\n",
              "       [[2564,    0],\n",
              "        [   5,    0]],\n",
              "\n",
              "       [[2569,    0],\n",
              "        [   0,    0]],\n",
              "\n",
              "       [[2566,    0],\n",
              "        [   3,    0]],\n",
              "\n",
              "       [[2569,    0],\n",
              "        [   0,    0]],\n",
              "\n",
              "       [[1470,  181],\n",
              "        [ 432,  486]],\n",
              "\n",
              "       [[2568,    0],\n",
              "        [   1,    0]],\n",
              "\n",
              "       [[2567,    0],\n",
              "        [   2,    0]],\n",
              "\n",
              "       [[2569,    0],\n",
              "        [   0,    0]],\n",
              "\n",
              "       [[2568,    0],\n",
              "        [   1,    0]],\n",
              "\n",
              "       [[2567,    0],\n",
              "        [   2,    0]],\n",
              "\n",
              "       [[2073,   20],\n",
              "        [ 257,  219]],\n",
              "\n",
              "       [[2566,    0],\n",
              "        [   3,    0]],\n",
              "\n",
              "       [[2568,    0],\n",
              "        [   1,    0]],\n",
              "\n",
              "       [[2568,    0],\n",
              "        [   1,    0]],\n",
              "\n",
              "       [[2562,    0],\n",
              "        [   7,    0]],\n",
              "\n",
              "       [[2395,    1],\n",
              "        [ 167,    6]]])"
            ]
          },
          "metadata": {},
          "execution_count": 199
        }
      ]
    },
    {
      "cell_type": "code",
      "source": [
        "from sklearn.metrics import hamming_loss\n",
        "hamming_loss(testLabel,y_pred)"
      ],
      "metadata": {
        "colab": {
          "base_uri": "https://localhost:8080/"
        },
        "id": "ClI1pRzDN2gL",
        "outputId": "25e545a3-3977-4942-8966-e612489da758"
      },
      "execution_count": null,
      "outputs": [
        {
          "output_type": "execute_result",
          "data": {
            "text/plain": [
              "0.011031079398679101"
            ]
          },
          "metadata": {},
          "execution_count": 200
        }
      ]
    },
    {
      "cell_type": "code",
      "source": [
        "c = 0\n",
        "for i in predict(test_df['description w/o SW'][5129]):\n",
        "  j = set(i)\n",
        "  for m in range(len(df['grouped-genre'])):\n",
        "    n = set(df['grouped-genre'].iloc[m])\n",
        "    if len(n.intersection(j)) == len(j):\n",
        "      if len(n.intersection(j)) == len(n):\n",
        "        print(df['name'].iloc[m])\n",
        "        c+=1\n",
        "\n",
        "print(c)"
      ],
      "metadata": {
        "id": "UsPjDGaOOqaM",
        "colab": {
          "base_uri": "https://localhost:8080/"
        },
        "outputId": "552b09bb-c19c-44b3-d647-f06fd1ebca7a"
      },
      "execution_count": null,
      "outputs": [
        {
          "output_type": "stream",
          "name": "stdout",
          "text": [
            "The Waste Lands\n",
            "The Book of Skulls\n",
            "From a Buick 8\n",
            "Fevre Dream\n",
            "The Dream-Quest of Unknown Kadath\n",
            "Lasher\n",
            "Nor Crystal Tears\n",
            "Sati\n",
            "Heat\n",
            "Image\n",
            "Vengeance\n",
            "Endangered Species\n",
            "Fearless\n",
            "Solitary Man\n",
            "Book of the Dead\n",
            "The Descent\n",
            "The Eternal Champion\n",
            "The House on the Borderland\n",
            "For Love of Mother-Not\n",
            "Angel Fire East\n",
            "The One Tree\n",
            "Treasure Box\n",
            "Storm Front\n",
            "Homebody\n",
            "Brown Girl in the Ring\n",
            "25\n"
          ]
        }
      ]
    },
    {
      "cell_type": "code",
      "source": [
        "y_pred"
      ],
      "metadata": {
        "colab": {
          "base_uri": "https://localhost:8080/"
        },
        "id": "yHawal_GZeP7",
        "outputId": "f10549ee-ad21-45df-f537-27dc4a98aec3"
      },
      "execution_count": null,
      "outputs": [
        {
          "output_type": "execute_result",
          "data": {
            "text/plain": [
              "array([[0, 0, 0, ..., 0, 0, 0],\n",
              "       [0, 0, 0, ..., 0, 0, 0],\n",
              "       [0, 0, 0, ..., 0, 0, 0],\n",
              "       ...,\n",
              "       [0, 0, 0, ..., 0, 0, 0],\n",
              "       [0, 0, 0, ..., 0, 0, 0],\n",
              "       [0, 0, 0, ..., 0, 0, 0]])"
            ]
          },
          "metadata": {},
          "execution_count": 90
        }
      ]
    },
    {
      "cell_type": "code",
      "source": [
        "testLabel"
      ],
      "metadata": {
        "colab": {
          "base_uri": "https://localhost:8080/"
        },
        "id": "kI_4JH0QymfJ",
        "outputId": "cc324479-ba9e-4b6f-9f3c-ba0ad681ad3a"
      },
      "execution_count": null,
      "outputs": [
        {
          "output_type": "execute_result",
          "data": {
            "text/plain": [
              "array([[0, 0, 0, ..., 0, 0, 0],\n",
              "       [0, 0, 0, ..., 0, 0, 0],\n",
              "       [0, 0, 0, ..., 0, 1, 0],\n",
              "       ...,\n",
              "       [0, 0, 0, ..., 0, 0, 0],\n",
              "       [0, 0, 0, ..., 0, 0, 0],\n",
              "       [0, 0, 0, ..., 0, 0, 0]])"
            ]
          },
          "metadata": {},
          "execution_count": 91
        }
      ]
    },
    {
      "cell_type": "code",
      "source": [
        "hamming_loss(testLabel,y_pred2)"
      ],
      "metadata": {
        "colab": {
          "base_uri": "https://localhost:8080/"
        },
        "id": "isyqEo_LyoEb",
        "outputId": "73da8601-7d9d-4f19-ee1d-fd9bc000a46a"
      },
      "execution_count": null,
      "outputs": [
        {
          "output_type": "execute_result",
          "data": {
            "text/plain": [
              "0.012633143423334159"
            ]
          },
          "metadata": {},
          "execution_count": 204
        }
      ]
    },
    {
      "cell_type": "code",
      "source": [
        "y_pred"
      ],
      "metadata": {
        "id": "edu9amPVrQXr",
        "colab": {
          "base_uri": "https://localhost:8080/"
        },
        "outputId": "2676cd97-71da-4cec-baf4-55aa13a30006"
      },
      "execution_count": null,
      "outputs": [
        {
          "output_type": "execute_result",
          "data": {
            "text/plain": [
              "array([4, 1, 2, 5, 2, 2, 2, 1, 4, 4, 1])"
            ]
          },
          "metadata": {},
          "execution_count": 132
        }
      ]
    },
    {
      "cell_type": "code",
      "source": [
        "for i in test_files:\n",
        "  print(i[56:])"
      ],
      "metadata": {
        "colab": {
          "base_uri": "https://localhost:8080/"
        },
        "id": "ctCPiQy-rvGl",
        "outputId": "4d900de4-bba1-488f-d19f-6f34b63a7d39"
      },
      "execution_count": null,
      "outputs": [
        {
          "output_type": "stream",
          "name": "stdout",
          "text": [
            "BAARISHEIN-_Studio_-Anuv-Jain.opus\n",
            "Kehna-Hi-Kya-_-Bombay-_-Sanah-Moidutty.opus\n",
            "LOSER-Ft.-Dino-James-_-Being-Indian.opus\n",
            "Matkar-Maya-Ko-Ahankar-_Audio_-By-Neeraj-Arya_s-Kabir-Cafe-From-Album-Panchrang.opus\n",
            "Mero-Mann-Lagyo-Vrindavan-Mein-_-Krishna-Bhajan-Maanya-Arora-_-Latest-Bhajan-2023.opus\n",
            "PATWARI-2-_-New-Garhwali-Song-2023-_-Rohit-Chauhan-_-Raj-Tiger-New-Gadwali-Song-2023.opus\n",
            "Pawan-Singh-_-अंखिया-मिलाओ-_-Palak-Muchhal-_-Ankhiya-Milao-_-Madhu-Sharma-_-New-Bhojpuri-Song-2022.opus\n",
            "RadhaKrishn-_-Samay-Samjhayega-_-Surya-Raj-Kamal-_.opus\n",
            "Ranjha-Lyric-Video-Shershaah-Sid.opus\n",
            "Shree-Krishna-Govind-Hare-Murari.opus\n",
            "Soulful-Ghazal-Hariharan-Live-at.opus\n"
          ]
        }
      ]
    },
    {
      "cell_type": "code",
      "source": [
        "for i in range(len(y_pred)):\n",
        "  label = y_pred[i]\n",
        "  j = dct[label]\n",
        "  for m in range(len(j)):\n",
        "    print(\"\\n\")\n",
        "    print(j[m])\n",
        "    print(\"________________________________________________________________________________________________________\")\n",
        "    ans = []\n",
        "    for k in range(len(df)):\n",
        "      # print(df['grouped-genre'].iloc[k])\n",
        "      if j[m] == 'Poetry':\n",
        "        if j[m] in df['grouped-genre'].iloc[k]:\n",
        "          if 'Romance' in df['grouped-genre'].iloc[k]:\n",
        "            # print(df['name'].iloc[k])\n",
        "            ans.append(df['name'].iloc[k])\n",
        "      elif j[m] in df['grouped-genre'].iloc[k]:\n",
        "        # print(df['name'].iloc[k])\n",
        "        ans.append(df['name'].iloc[k])\n",
        "    if(len(ans)!=0):\n",
        "      print(test_files[i][56:])\n",
        "      if(len(ans)>5):\n",
        "        print(random.sample(ans, 5))\n",
        "      else:\n",
        "        print(ans)\n",
        "      print(\"\\n\")\n",
        "    # print(random.sample(ans, 5))\n",
        "  # print(\"_________________________________________________________\\n\")\n",
        "    # n = set(df['grouped-genre'].iloc[m])\n",
        "    # if len(n.intersection(j)) == len(j):\n",
        "    #   if len(n.intersection(j)) == len(n):\n",
        "    #     print(df['name'].iloc[m])\n",
        "    #     c+=1"
      ],
      "metadata": {
        "colab": {
          "base_uri": "https://localhost:8080/"
        },
        "id": "2oxUZcaDkuJ5",
        "outputId": "16feb8ee-474a-4321-cd13-ab356d3da187"
      },
      "execution_count": null,
      "outputs": [
        {
          "output_type": "stream",
          "name": "stdout",
          "text": [
            "\n",
            "\n",
            "Romance\n",
            "________________________________________________________________________________________________________\n",
            "BAARISHEIN-_Studio_-Anuv-Jain.opus\n",
            "['Kept in the Dark', \"Derik's Bane\", 'The Blue Castle', 'Rumors: A Luxe Novel', 'The House of the Seven Gables']\n",
            "\n",
            "\n",
            "\n",
            "\n",
            "Poetry\n",
            "________________________________________________________________________________________________________\n",
            "BAARISHEIN-_Studio_-Anuv-Jain.opus\n",
            "['Love-Letters Between a Nobleman and His Sister']\n",
            "\n",
            "\n",
            "\n",
            "\n",
            "Romance\n",
            "________________________________________________________________________________________________________\n",
            "Matkar-Maya-Ko-Ahankar-_Audio_-By-Neeraj-Arya_s-Kabir-Cafe-From-Album-Panchrang.opus\n",
            "['North and South', 'Dark Melody', 'Prizes', 'Forbidden', 'La mécanique du cœur']\n",
            "\n",
            "\n",
            "\n",
            "\n",
            "Poetry\n",
            "________________________________________________________________________________________________________\n",
            "Matkar-Maya-Ko-Ahankar-_Audio_-By-Neeraj-Arya_s-Kabir-Cafe-From-Album-Panchrang.opus\n",
            "['Love-Letters Between a Nobleman and His Sister']\n",
            "\n",
            "\n",
            "\n",
            "\n",
            "Romance\n",
            "________________________________________________________________________________________________________\n",
            "Ranjha-Lyric-Video-Shershaah-Sid.opus\n",
            "['A Lick of Frost', 'Dark Fire', 'Love Monkey', 'Bad Land: An American Romance', 'The Thorn Birds']\n",
            "\n",
            "\n",
            "\n",
            "\n",
            "Poetry\n",
            "________________________________________________________________________________________________________\n",
            "Ranjha-Lyric-Video-Shershaah-Sid.opus\n",
            "['Love-Letters Between a Nobleman and His Sister']\n",
            "\n",
            "\n",
            "\n",
            "\n",
            "Romance\n",
            "________________________________________________________________________________________________________\n",
            "Shree-Krishna-Govind-Hare-Murari.opus\n",
            "['The Count of Monte Cristo', 'Love Monkey', 'Trust Me', 'The Royal Treatment', 'Undead and Unpopular']\n",
            "\n",
            "\n",
            "\n",
            "\n",
            "Poetry\n",
            "________________________________________________________________________________________________________\n",
            "Shree-Krishna-Govind-Hare-Murari.opus\n",
            "['Love-Letters Between a Nobleman and His Sister']\n",
            "\n",
            "\n"
          ]
        }
      ]
    },
    {
      "cell_type": "code",
      "source": [
        "import random\n",
        "print(random.sample(ans, 5))"
      ],
      "metadata": {
        "colab": {
          "base_uri": "https://localhost:8080/"
        },
        "id": "iIY4HNUklx5k",
        "outputId": "cd05503e-712e-4f93-bb55-0e6870799d32"
      },
      "execution_count": null,
      "outputs": [
        {
          "output_type": "stream",
          "name": "stdout",
          "text": [
            "['Psycho II', 'The Owl and the Pussycat', 'Not Without Laughter', 'Sir Gawain and the Green Knight', 'Chamber Music']\n"
          ]
        }
      ]
    },
    {
      "cell_type": "code",
      "source": [],
      "metadata": {
        "id": "SeWsn1x_oPM6"
      },
      "execution_count": null,
      "outputs": []
    }
  ]
}