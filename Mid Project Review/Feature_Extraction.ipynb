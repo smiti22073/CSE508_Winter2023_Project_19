{
  "cells": [
    {
      "cell_type": "code",
      "execution_count": null,
      "metadata": {
        "colab": {
          "base_uri": "https://localhost:8080/",
          "height": 694
        },
        "id": "jJVFZ-LW1sYv",
        "outputId": "af3dd30c-e537-4527-fb13-45991875cd18"
      },
      "outputs": [
        {
          "name": "stdout",
          "output_type": "stream",
          "text": [
            "Looking in indexes: https://pypi.org/simple, https://us-python.pkg.dev/colab-wheels/public/simple/\n",
            "Collecting librosa==0.8.1\n",
            "  Downloading librosa-0.8.1-py3-none-any.whl (203 kB)\n",
            "\u001b[2K     \u001b[90m━━━━━━━━━━━━━━━━━━━━━━━━━━━━━━━━━━━━━━━\u001b[0m \u001b[32m203.8/203.8 KB\u001b[0m \u001b[31m5.4 MB/s\u001b[0m eta \u001b[36m0:00:00\u001b[0m\n",
            "\u001b[?25hRequirement already satisfied: scipy>=1.0.0 in /usr/local/lib/python3.9/dist-packages (from librosa==0.8.1) (1.10.1)\n",
            "Requirement already satisfied: numpy>=1.15.0 in /usr/local/lib/python3.9/dist-packages (from librosa==0.8.1) (1.22.4)\n",
            "Requirement already satisfied: soundfile>=0.10.2 in /usr/local/lib/python3.9/dist-packages (from librosa==0.8.1) (0.12.1)\n",
            "Requirement already satisfied: packaging>=20.0 in /usr/local/lib/python3.9/dist-packages (from librosa==0.8.1) (23.0)\n",
            "Requirement already satisfied: decorator>=3.0.0 in /usr/local/lib/python3.9/dist-packages (from librosa==0.8.1) (4.4.2)\n",
            "Requirement already satisfied: numba>=0.43.0 in /usr/local/lib/python3.9/dist-packages (from librosa==0.8.1) (0.56.4)\n",
            "Requirement already satisfied: joblib>=0.14 in /usr/local/lib/python3.9/dist-packages (from librosa==0.8.1) (1.1.1)\n",
            "Requirement already satisfied: audioread>=2.0.0 in /usr/local/lib/python3.9/dist-packages (from librosa==0.8.1) (3.0.0)\n",
            "Requirement already satisfied: scikit-learn!=0.19.0,>=0.14.0 in /usr/local/lib/python3.9/dist-packages (from librosa==0.8.1) (1.2.2)\n",
            "Requirement already satisfied: pooch>=1.0 in /usr/local/lib/python3.9/dist-packages (from librosa==0.8.1) (1.7.0)\n",
            "Collecting resampy>=0.2.2\n",
            "  Downloading resampy-0.4.2-py3-none-any.whl (3.1 MB)\n",
            "\u001b[2K     \u001b[90m━━━━━━━━━━━━━━━━━━━━━━━━━━━━━━━━━━━━━━━━\u001b[0m \u001b[32m3.1/3.1 MB\u001b[0m \u001b[31m48.1 MB/s\u001b[0m eta \u001b[36m0:00:00\u001b[0m\n",
            "\u001b[?25hRequirement already satisfied: setuptools in /usr/local/lib/python3.9/dist-packages (from numba>=0.43.0->librosa==0.8.1) (63.4.3)\n",
            "Requirement already satisfied: llvmlite<0.40,>=0.39.0dev0 in /usr/local/lib/python3.9/dist-packages (from numba>=0.43.0->librosa==0.8.1) (0.39.1)\n",
            "Requirement already satisfied: platformdirs>=2.5.0 in /usr/local/lib/python3.9/dist-packages (from pooch>=1.0->librosa==0.8.1) (3.1.1)\n",
            "Requirement already satisfied: requests>=2.19.0 in /usr/local/lib/python3.9/dist-packages (from pooch>=1.0->librosa==0.8.1) (2.27.1)\n",
            "Requirement already satisfied: threadpoolctl>=2.0.0 in /usr/local/lib/python3.9/dist-packages (from scikit-learn!=0.19.0,>=0.14.0->librosa==0.8.1) (3.1.0)\n",
            "Requirement already satisfied: cffi>=1.0 in /usr/local/lib/python3.9/dist-packages (from soundfile>=0.10.2->librosa==0.8.1) (1.15.1)\n",
            "Requirement already satisfied: pycparser in /usr/local/lib/python3.9/dist-packages (from cffi>=1.0->soundfile>=0.10.2->librosa==0.8.1) (2.21)\n",
            "Requirement already satisfied: urllib3<1.27,>=1.21.1 in /usr/local/lib/python3.9/dist-packages (from requests>=2.19.0->pooch>=1.0->librosa==0.8.1) (1.26.15)\n",
            "Requirement already satisfied: charset-normalizer~=2.0.0 in /usr/local/lib/python3.9/dist-packages (from requests>=2.19.0->pooch>=1.0->librosa==0.8.1) (2.0.12)\n",
            "Requirement already satisfied: certifi>=2017.4.17 in /usr/local/lib/python3.9/dist-packages (from requests>=2.19.0->pooch>=1.0->librosa==0.8.1) (2022.12.7)\n",
            "Requirement already satisfied: idna<4,>=2.5 in /usr/local/lib/python3.9/dist-packages (from requests>=2.19.0->pooch>=1.0->librosa==0.8.1) (3.4)\n",
            "Installing collected packages: resampy, librosa\n",
            "  Attempting uninstall: librosa\n",
            "    Found existing installation: librosa 0.10.0\n",
            "    Uninstalling librosa-0.10.0:\n",
            "      Successfully uninstalled librosa-0.10.0\n",
            "Successfully installed librosa-0.8.1 resampy-0.4.2\n"
          ]
        },
        {
          "data": {
            "application/vnd.colab-display-data+json": {
              "pip_warning": {
                "packages": [
                  "librosa"
                ]
              }
            }
          },
          "metadata": {},
          "output_type": "display_data"
        }
      ],
      "source": [
        "pip install librosa==0.8.1"
      ]
    },
    {
      "cell_type": "code",
      "execution_count": null,
      "metadata": {
        "id": "cncC4k0UmTz_"
      },
      "outputs": [],
      "source": [
        "import librosa\n",
        "from librosa import feature\n",
        "import numpy as np\n",
        "import pandas as pd"
      ]
    },
    {
      "cell_type": "code",
      "execution_count": null,
      "metadata": {
        "id": "LU6WLvcfd5Ok"
      },
      "outputs": [],
      "source": [
        "import warnings\n",
        "warnings.filterwarnings('ignore')"
      ]
    },
    {
      "cell_type": "code",
      "execution_count": null,
      "metadata": {
        "colab": {
          "base_uri": "https://localhost:8080/"
        },
        "id": "DRcft29A6HMB",
        "outputId": "27f86c52-6c5a-4601-bf44-3008fb80aa32"
      },
      "outputs": [
        {
          "name": "stdout",
          "output_type": "stream",
          "text": [
            "Drive already mounted at /content/drive; to attempt to forcibly remount, call drive.mount(\"/content/drive\", force_remount=True).\n"
          ]
        }
      ],
      "source": [
        "from google.colab import drive\n",
        "drive.mount('/content/drive')"
      ]
    },
    {
      "cell_type": "code",
      "execution_count": null,
      "metadata": {
        "colab": {
          "base_uri": "https://localhost:8080/",
          "height": 36
        },
        "id": "cbgrPzI_N8Ck",
        "outputId": "aa26287f-0375-4e12-9c85-382befe76dd6"
      },
      "outputs": [
        {
          "data": {
            "application/vnd.google.colaboratory.intrinsic+json": {
              "type": "string"
            },
            "text/plain": [
              "'/content'"
            ]
          },
          "execution_count": 4,
          "metadata": {},
          "output_type": "execute_result"
        }
      ],
      "source": [
        "pwd"
      ]
    },
    {
      "cell_type": "code",
      "execution_count": null,
      "metadata": {
        "colab": {
          "base_uri": "https://localhost:8080/"
        },
        "id": "QQR3Bt4UN-rJ",
        "outputId": "232e7460-a195-4895-f1af-556a44d244a5"
      },
      "outputs": [
        {
          "name": "stdout",
          "output_type": "stream",
          "text": [
            "/content/drive/MyDrive/Dataset/Songs\n"
          ]
        }
      ],
      "source": [
        "cd '/content/drive/MyDrive/Dataset/Songs'"
      ]
    },
    {
      "cell_type": "code",
      "execution_count": null,
      "metadata": {
        "colab": {
          "base_uri": "https://localhost:8080/"
        },
        "id": "2OkpUGknPiKc",
        "outputId": "18a03276-2bb2-4135-b8a6-fd8f001d0c8f"
      },
      "outputs": [
        {
          "name": "stdout",
          "output_type": "stream",
          "text": [
            "all_features.csv       \u001b[0m\u001b[01;34mBollywood_Rap\u001b[0m/                   \u001b[01;34mGhazal\u001b[0m/\n",
            "Best_GBM.pkl           Bollywood_Rap_features.csv       Ghazal_features.csv\n",
            "\u001b[01;34mbhajan\u001b[0m/                \u001b[01;34mBollywood_Romantic\u001b[0m/              readme.md\n",
            "bhajan_features.csv    Bollywood_Romantic_features.csv  \u001b[01;34msufi\u001b[0m/\n",
            "\u001b[01;34mbhojpuri\u001b[0m/              \u001b[01;34mGarhwali\u001b[0m/                        sufi_features.csv\n",
            "bhojpuri_features.csv  Garhwali_features.csv\n"
          ]
        }
      ],
      "source": [
        "ls"
      ]
    },
    {
      "cell_type": "code",
      "execution_count": null,
      "metadata": {
        "id": "nZAqrGLq6tb2"
      },
      "outputs": [],
      "source": [
        "from glob import glob\n",
        "genre = ['Bollywood_Rap', 'Bollywood_Romantic', 'Garhwali', 'Ghazal', 'bhajan', 'bhojpuri', 'sufi'] "
      ]
    },
    {
      "cell_type": "code",
      "execution_count": null,
      "metadata": {
        "id": "6xm5AcphQW5K"
      },
      "outputs": [],
      "source": [
        "genre_audio_files = []\n",
        "for i in range(len(genre)):\n",
        "  genre_dir = genre[i] + \"/\"\n",
        "  genre_audio_files.append(glob(genre_dir + '*.opus'))"
      ]
    },
    {
      "cell_type": "code",
      "execution_count": null,
      "metadata": {
        "colab": {
          "base_uri": "https://localhost:8080/"
        },
        "id": "MD4Hv2p4RH67",
        "outputId": "f05996fb-13db-424a-cbc5-a614ca936616"
      },
      "outputs": [
        {
          "name": "stdout",
          "output_type": "stream",
          "text": [
            "Number of audios for Bollywood_Rap : 100\n",
            "Number of audios for Bollywood_Romantic : 81\n",
            "Number of audios for Garhwali : 90\n",
            "Number of audios for Ghazal : 95\n",
            "Number of audios for bhajan : 66\n",
            "Number of audios for bhojpuri : 78\n",
            "Number of audios for sufi : 84\n"
          ]
        }
      ],
      "source": [
        "for i in range(len(genre_audio_files)):\n",
        "  print('Number of audios for', genre[i], ':', len(genre_audio_files[i]))"
      ]
    },
    {
      "cell_type": "code",
      "execution_count": null,
      "metadata": {
        "id": "Gwjs9QafSFF7"
      },
      "outputs": [],
      "source": [
        "fn_list_i = [\n",
        "    librosa.onset.onset_strength,             \n",
        "    feature.chroma_stft,                       \n",
        "    feature.chroma_cqt,\n",
        "    feature.chroma_cens,\n",
        "    feature.melspectrogram,\n",
        "    feature.mfcc,\n",
        "    feature.spectral_centroid,\n",
        "    feature.spectral_bandwidth,\n",
        "    feature.spectral_contrast,\n",
        "    feature.spectral_rolloff,\n",
        "    feature.tonnetz\n",
        "]\n",
        "\n",
        "fn_list_ii = [\n",
        "    feature.zero_crossing_rate\n",
        "]\n",
        "\n",
        "def get_feature_vector(y,sr): \n",
        "   feat_vect_i = [ np.mean(funct(y,sr)) for funct in fn_list_i]\n",
        "   feat_vect_ii = [ np.mean(funct(y)) for funct in fn_list_ii] \n",
        "   feature_vector = feat_vect_i + feat_vect_ii \n",
        "   return feature_vector"
      ]
    },
    {
      "cell_type": "code",
      "execution_count": null,
      "metadata": {
        "id": "YTEPsHUiU4Ht"
      },
      "outputs": [],
      "source": [
        "columns = [\"Song_Name\", \"onset_strength\", \"chroma_stft\", \"chroma_cqt\", \"chroma_cens\", \"melspectrogram\", \"mfcc\",\t\n",
        "           \"spectral_centroid\" ,\"spectral_bandwidth\", \"spectral_contrast\", \"spectral_rolloff\",\t\"tonnetz\", \"zero_crossing_rate\"]"
      ]
    },
    {
      "cell_type": "code",
      "execution_count": null,
      "metadata": {
        "id": "iN_k_vhoVQPP"
      },
      "outputs": [],
      "source": [
        "from google.colab import files"
      ]
    },
    {
      "cell_type": "markdown",
      "metadata": {
        "id": "Fkf4SNEuapLh"
      },
      "source": [
        "### Bollywood_Rap"
      ]
    },
    {
      "cell_type": "code",
      "execution_count": null,
      "metadata": {
        "colab": {
          "background_save": true
        },
        "id": "hgg5jGriOVSz",
        "outputId": "430b27fa-b0d7-4158-9de4-32fb577b9959"
      },
      "outputs": [
        {
          "data": {
            "application/javascript": [
              "\n",
              "    async function download(id, filename, size) {\n",
              "      if (!google.colab.kernel.accessAllowed) {\n",
              "        return;\n",
              "      }\n",
              "      const div = document.createElement('div');\n",
              "      const label = document.createElement('label');\n",
              "      label.textContent = `Downloading \"${filename}\": `;\n",
              "      div.appendChild(label);\n",
              "      const progress = document.createElement('progress');\n",
              "      progress.max = size;\n",
              "      div.appendChild(progress);\n",
              "      document.body.appendChild(div);\n",
              "\n",
              "      const buffers = [];\n",
              "      let downloaded = 0;\n",
              "\n",
              "      const channel = await google.colab.kernel.comms.open(id);\n",
              "      // Send a message to notify the kernel that we're ready.\n",
              "      channel.send({})\n",
              "\n",
              "      for await (const message of channel.messages) {\n",
              "        // Send a message to notify the kernel that we're ready.\n",
              "        channel.send({})\n",
              "        if (message.buffers) {\n",
              "          for (const buffer of message.buffers) {\n",
              "            buffers.push(buffer);\n",
              "            downloaded += buffer.byteLength;\n",
              "            progress.value = downloaded;\n",
              "          }\n",
              "        }\n",
              "      }\n",
              "      const blob = new Blob(buffers, {type: 'application/binary'});\n",
              "      const a = document.createElement('a');\n",
              "      a.href = window.URL.createObjectURL(blob);\n",
              "      a.download = filename;\n",
              "      div.appendChild(a);\n",
              "      a.click();\n",
              "      div.remove();\n",
              "    }\n",
              "  "
            ],
            "text/plain": [
              "<IPython.core.display.Javascript object>"
            ]
          },
          "metadata": {},
          "output_type": "display_data"
        },
        {
          "data": {
            "application/javascript": [
              "download(\"download_9292616e-afe9-4bff-8612-51b8206c4fd0\", \"Bollywood_Rap_features.csv\", 23696)"
            ],
            "text/plain": [
              "<IPython.core.display.Javascript object>"
            ]
          },
          "metadata": {},
          "output_type": "display_data"
        }
      ],
      "source": [
        "song_features = []\n",
        "for file in genre_audio_files[0]:\n",
        "  '''\n",
        "  y is the time series array of the audio file, a 1D np.ndarray\n",
        "  sr is the sampling rate, a number\n",
        "  '''  \n",
        "  y,sr = librosa.load(file,sr=None)   \n",
        "  feature_vector = get_feature_vector(y = y, sr = sr)\n",
        "  song_features.append([file] + feature_vector)\n",
        "df = pd.DataFrame(song_features, columns=columns)\n",
        "file_name = genre[0] + '_features.csv'\n",
        "df.to_csv(file_name)\n",
        "files.download(file_name)"
      ]
    },
    {
      "cell_type": "markdown",
      "metadata": {
        "id": "nb5Ra86hGh0K"
      },
      "source": [
        "### Bollywood_Romantic"
      ]
    },
    {
      "cell_type": "code",
      "execution_count": null,
      "metadata": {
        "id": "QumzUcQSH-8S"
      },
      "outputs": [],
      "source": [
        "song_features = []\n",
        "for file in genre_audio_files[1]:\n",
        "  '''\n",
        "  y is the time series array of the audio file, a 1D np.ndarray\n",
        "  sr is the sampling rate, a number\n",
        "  '''  \n",
        "  y,sr = librosa.load(file,sr=None)   \n",
        "  feature_vector = get_feature_vector(y, sr)\n",
        "  song_features.append([file] + feature_vector)\n",
        "df = pd.DataFrame(song_features, columns=columns)\n",
        "file_name = genre[1] + '_features.csv'\n",
        "df.to_csv(file_name)\n",
        "files.download(file_name)"
      ]
    },
    {
      "cell_type": "markdown",
      "metadata": {
        "id": "4VXykj7JZHC4"
      },
      "source": [
        "### Sufi"
      ]
    },
    {
      "cell_type": "code",
      "execution_count": null,
      "metadata": {
        "id": "lSsPxFY0ZK0X"
      },
      "outputs": [],
      "source": [
        "song_features = []\n",
        "for file in genre_audio_files[6]:\n",
        "  '''\n",
        "  y is the time series array of the audio file, a 1D np.ndarray\n",
        "  sr is the sampling rate, a number\n",
        "  '''  \n",
        "  y,sr = librosa.load(file,sr=None)   \n",
        "  feature_vector = get_feature_vector(y, sr)\n",
        "  song_features.append([file] + feature_vector)\n",
        "df = pd.DataFrame(song_features, columns=columns)\n",
        "file_name = genre[6] + '_features.csv'\n",
        "df.to_csv(file_name)\n",
        "files.download(file_name)"
      ]
    },
    {
      "cell_type": "markdown",
      "metadata": {
        "id": "xrjU4tGmRx15"
      },
      "source": [
        "### Bhajan"
      ]
    },
    {
      "cell_type": "code",
      "execution_count": null,
      "metadata": {
        "id": "DwNLSg71R6Fi"
      },
      "outputs": [],
      "source": [
        "song_features = []\n",
        "for file in genre_audio_files[4]:\n",
        "  '''\n",
        "  y is the time series array of the audio file, a 1D np.ndarray\n",
        "  sr is the sampling rate, a number\n",
        "  '''  \n",
        "  y,sr = librosa.load(file,sr=None)   \n",
        "  feature_vector = get_feature_vector(y, sr)\n",
        "  song_features.append([file] + feature_vector)\n",
        "df = pd.DataFrame(song_features, columns=columns)\n",
        "file_name = genre[4] + '_features.csv'\n",
        "df.to_csv(file_name)\n",
        "files.download(file_name)"
      ]
    },
    {
      "cell_type": "markdown",
      "metadata": {
        "id": "EKqwJ9ReSVGe"
      },
      "source": [
        "### Bhojpuri"
      ]
    },
    {
      "cell_type": "code",
      "execution_count": null,
      "metadata": {
        "id": "b5P0sBLhSXmY"
      },
      "outputs": [],
      "source": [
        "song_features = []\n",
        "for file in genre_audio_files[5]:\n",
        "  '''\n",
        "  y is the time series array of the audio file, a 1D np.ndarray\n",
        "  sr is the sampling rate, a number\n",
        "  '''  \n",
        "  y,sr = librosa.load(file,sr=None)   \n",
        "  feature_vector = get_feature_vector(y, sr)\n",
        "  song_features.append([file] + feature_vector)\n",
        "df = pd.DataFrame(song_features, columns=columns)\n",
        "file_name = genre[5] + '_features.csv'\n",
        "df.to_csv(file_name)\n",
        "files.download(file_name)"
      ]
    },
    {
      "cell_type": "markdown",
      "metadata": {
        "id": "nWBWcVPeSipj"
      },
      "source": [
        "### Garhwali"
      ]
    },
    {
      "cell_type": "code",
      "execution_count": null,
      "metadata": {
        "id": "JaUJAoGWSlr6"
      },
      "outputs": [],
      "source": [
        "song_features = []\n",
        "for file in genre_audio_files[2]:\n",
        "  '''\n",
        "  y is the time series array of the audio file, a 1D np.ndarray\n",
        "  sr is the sampling rate, a number\n",
        "  '''  \n",
        "  y,sr = librosa.load(file,sr=None)   \n",
        "  feature_vector = get_feature_vector(y, sr)\n",
        "  song_features.append([file] + feature_vector)\n",
        "df = pd.DataFrame(song_features, columns=columns)\n",
        "file_name = genre[2] + '_features.csv'\n",
        "df.to_csv(file_name)\n",
        "files.download(file_name)"
      ]
    },
    {
      "cell_type": "markdown",
      "metadata": {
        "id": "TIhUOIcgSmj5"
      },
      "source": [
        "### Ghazal"
      ]
    },
    {
      "cell_type": "code",
      "execution_count": null,
      "metadata": {
        "id": "ufMuwqFcSoaK"
      },
      "outputs": [],
      "source": [
        "song_features = []\n",
        "for file in genre_audio_files[3]:\n",
        "  '''\n",
        "  y is the time series array of the audio file, a 1D np.ndarray\n",
        "  sr is the sampling rate, a number\n",
        "  '''  \n",
        "  y,sr = librosa.load(file,sr=None)   \n",
        "  feature_vector = get_feature_vector(y, sr)\n",
        "  song_features.append([file] + feature_vector)\n",
        "df = pd.DataFrame(song_features, columns=columns)\n",
        "file_name = genre[3] + '_features.csv'\n",
        "df.to_csv(file_name)\n",
        "files.download(file_name)"
      ]
    }
  ],
  "metadata": {
    "colab": {
      "provenance": []
    },
    "kernelspec": {
      "display_name": "Python 3",
      "name": "python3"
    },
    "language_info": {
      "name": "python"
    }
  },
  "nbformat": 4,
  "nbformat_minor": 0
}